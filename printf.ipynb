{
 "cells": [
  {
   "cell_type": "code",
   "execution_count": 24,
   "metadata": {},
   "outputs": [
    {
     "name": "stdout",
     "output_type": "stream",
     "text": [
      "Writing README.md\n"
     ]
    }
   ],
   "source": [
    "%%file README.md\n",
    "This is a README.md"
   ]
  },
  {
   "cell_type": "code",
   "execution_count": 29,
   "metadata": {},
   "outputs": [],
   "source": [
    "!touch _printf.c"
   ]
  },
  {
   "cell_type": "code",
   "execution_count": 34,
   "metadata": {},
   "outputs": [
    {
     "name": "stdout",
     "output_type": "stream",
     "text": [
      "Writing _printf.c\n"
     ]
    }
   ],
   "source": [
    "%%file _printf.c\n",
    "\n",
    "#include \"main.h\"\n",
    "/**\n",
    " * _printf - is a function that selects the correct function to print.\n",
    " * @format: identifier to look for.\n",
    " * Return: the length of the string.\n",
    " */\n",
    "int _printf(const char * const format, ...)\n",
    "{\n",
    "\tconvert_match m[] = {\n",
    "\t\t{\"%s\", printf_string}, {\"%c\", printf_char}\n",
    "\t};\n",
    "\n",
    "\tva_list args;\n",
    "\tint i = 0, j, len = 0;\n",
    "\n",
    "\tva_start(args, format);\n",
    "\tif (format == NULL || (format[0] == '%' && format[1] == '\\0'))\n",
    "\t\treturn (-1);\n",
    "\n",
    "Here:\n",
    "\twhile (format[i] != '\\0')\n",
    "\t{\n",
    "\t\tj = 13;\n",
    "\t\twhile (j >= 0)\n",
    "\t\t{\n",
    "\t\t\tif (m[j].id[0] == format[i] && m[j].id[1] == format[i + 1])\n",
    "\t\t\t{\n",
    "\t\t\t\tlen += m[j].f(args);\n",
    "\t\t\t\ti = i + 2;\n",
    "\t\t\t\tgoto Here;\n",
    "\t\t\t}\n",
    "\t\t\tj--;\n",
    "\t\t}\n",
    "\t\t_putchar(format[i]);\n",
    "\t\tlen++;\n",
    "\t\ti++;\n",
    "\t}\n",
    "\tva_end(args);\n",
    "\treturn (len);\n",
    "}"
   ]
  },
  {
   "cell_type": "code",
   "execution_count": 26,
   "metadata": {},
   "outputs": [
    {
     "name": "stdout",
     "output_type": "stream",
     "text": [
      "Writing _putchar.c\n"
     ]
    }
   ],
   "source": [
    "%%file _putchar.c\n",
    "\n",
    "#include \"main.h\"\n",
    "\n",
    "/**\n",
    " * _putchar - writes the character c to stdout\n",
    " * @c: The character to print\n",
    " *\n",
    " * Return: On success 1.\n",
    " * On error, -1 is returned, and errno is set appropriately.\n",
    " */\n",
    "int _putchar(char c)\n",
    "{\n",
    "\treturn (write(1, &c, 1));\n",
    "}"
   ]
  },
  {
   "cell_type": "code",
   "execution_count": 25,
   "metadata": {},
   "outputs": [
    {
     "name": "stdout",
     "output_type": "stream",
     "text": [
      "Overwriting main.h\n"
     ]
    }
   ],
   "source": [
    "%%file main.h\n",
    "\n",
    "#ifndef MAIN_H\n",
    "#define MAIN_H\n",
    "\n",
    "#include <stdio.h>\n",
    "#include <stdlib.h>\n",
    "#include <stdarg.h>\n",
    "#include <limits.h>\n",
    "#include <unistd.h>\n",
    "\n",
    "\n",
    "\n",
    "/**\n",
    " * struct format - match the conversion specifiers for printf\n",
    " * @id: type char pointer of the specifier i.e (l, h) for (d, i, u, o, x, X)\n",
    " * @f: type pointer to function for the conversion specifier\n",
    " *\n",
    " */\n",
    "\n",
    "typedef struct format\n",
    "{\n",
    "\tchar *id;\n",
    "\tint (*f)();\n",
    "} convert_match;\n",
    "\n",
    "\n",
    "int printf_char(va_list val);\n",
    "int printf_string(va_list val);\n",
    "int _putchar(char c);\n",
    "int _printf(const char *format, ...);\n",
    "\n",
    "#endif\n"
   ]
  },
  {
   "cell_type": "code",
   "execution_count": 35,
   "metadata": {},
   "outputs": [
    {
     "name": "stderr",
     "output_type": "stream",
     "text": [
      "C:/msys64/mingw64/bin/../lib/gcc/x86_64-w64-mingw32/13.2.0/../../../../x86_64-w64-mingw32/bin/ld.exe: C:\\Users\\komy2\\AppData\\Local\\Temp\\ccqeiIvx.o:printf.c:(.rdata$.refptr.printf_char[.refptr.printf_char]+0x0): undefined reference to `printf_char'\n",
      "C:/msys64/mingw64/bin/../lib/gcc/x86_64-w64-mingw32/13.2.0/../../../../x86_64-w64-mingw32/bin/ld.exe: C:\\Users\\komy2\\AppData\\Local\\Temp\\ccqeiIvx.o:printf.c:(.rdata$.refptr.printf_string[.refptr.printf_string]+0x0): undefined reference to `printf_string'\n",
      "C:/msys64/mingw64/bin/../lib/gcc/x86_64-w64-mingw32/13.2.0/../../../../x86_64-w64-mingw32/bin/ld.exe: C:/msys64/mingw64/bin/../lib/gcc/x86_64-w64-mingw32/13.2.0/../../../../lib/libmingw32.a(lib64_libmingw32_a-crtexewin.o): in function `main':\n",
      "C:/M/B/src/mingw-w64/mingw-w64-crt/crt/crtexewin.c:67:(.text.startup+0xbd): undefined reference to `WinMain'\n",
      "collect2.exe: error: ld returned 1 exit status\n"
     ]
    }
   ],
   "source": [
    "!gcc -Wall -Werror -Wextra -pedantic -std=gnu89 *.c"
   ]
  },
  {
   "cell_type": "code",
   "execution_count": null,
   "metadata": {},
   "outputs": [],
   "source": [
    "!"
   ]
  }
 ],
 "metadata": {
  "kernelspec": {
   "display_name": "Python 3",
   "language": "python",
   "name": "python3"
  },
  "language_info": {
   "codemirror_mode": {
    "name": "ipython",
    "version": 3
   },
   "file_extension": ".py",
   "mimetype": "text/x-python",
   "name": "python",
   "nbconvert_exporter": "python",
   "pygments_lexer": "ipython3",
   "version": "3.12.1"
  }
 },
 "nbformat": 4,
 "nbformat_minor": 2
}
