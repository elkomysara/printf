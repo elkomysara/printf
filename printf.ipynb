{
 "cells": [
  {
   "cell_type": "code",
   "execution_count": 6,
   "metadata": {},
   "outputs": [
    {
     "name": "stdout",
     "output_type": "stream",
     "text": [
      "Overwriting _printf.C\n"
     ]
    }
   ],
   "source": [
    "%%file _printf.C\n",
    "\n",
    "#include \"main.h\"\n",
    "#include <stdarg.h> \n",
    "\n",
    "/**\n",
    " * _printf - Produces output according to a format\n",
    " * @format: A character string containing zero or more directives\n",
    " *\n",
    " * Return: The number of characters printed (excluding the null byte)\n",
    " */\n",
    "int _printf(const char *format, ...)\n",
    "{\n",
    "    va_list args;\n",
    "    int count = 0;\n",
    "\n",
    "    va_start(args, format); \n",
    "\n",
    "    while (*format)\n",
    "    {\n",
    "        if (*format == '%') \n",
    "        {\n",
    "            format++; \n",
    "            switch (*format)\n",
    "            {\n",
    "                case 'c':\n",
    "                    count += _putchar(va_arg(args, int)); \n",
    "                    break;\n",
    "                case 's':\n",
    "                    count += _puts(va_arg(args, char *)); \n",
    "                    break;\n",
    "                case '%':\n",
    "                    count += _putchar('%'); \n",
    "                    break;\n",
    "                default:\n",
    "                    count += _putchar('%'); \n",
    "                    count += _putchar(*format);\n",
    "                    break;\n",
    "            }\n",
    "        }\n",
    "        else\n",
    "        {\n",
    "            count += _putchar(*format); \n",
    "        }\n",
    "        format++; \n",
    "    }\n",
    "\n",
    "    va_end(args); \n",
    "    return count; \n",
    "}\n"
   ]
  },
  {
   "cell_type": "code",
   "execution_count": 7,
   "metadata": {},
   "outputs": [
    {
     "name": "stdout",
     "output_type": "stream",
     "text": [
      "Overwriting main.h\n"
     ]
    }
   ],
   "source": [
    "%%file main.h\n",
    "\n",
    "#ifndef MAIN_H\n",
    "#define MAIN_H\n",
    "\n",
    "#include <unistd.h>\n",
    "\n",
    "int _printf(const char *format, ...);\n",
    "int _putchar(char c);\n",
    "int _puts(char *str);\n",
    "\n",
    "#endif /* MAIN_H */\n"
   ]
  },
  {
   "cell_type": "code",
   "execution_count": 10,
   "metadata": {},
   "outputs": [
    {
     "name": "stderr",
     "output_type": "stream",
     "text": [
      "C:/msys64/mingw64/bin/../lib/gcc/x86_64-w64-mingw32/13.2.0/../../../../x86_64-w64-mingw32/bin/ld.exe: C:\\Users\\komy2\\AppData\\Local\\Temp\\cck1M9FQ.o:_printf.C:(.text+0x72): undefined reference to `_putchar'\n",
      "C:/msys64/mingw64/bin/../lib/gcc/x86_64-w64-mingw32/13.2.0/../../../../x86_64-w64-mingw32/bin/ld.exe: C:\\Users\\komy2\\AppData\\Local\\Temp\\cck1M9FQ.o:_printf.C:(.text+0x8e): undefined reference to `_puts'\n",
      "C:/msys64/mingw64/bin/../lib/gcc/x86_64-w64-mingw32/13.2.0/../../../../x86_64-w64-mingw32/bin/ld.exe: C:\\Users\\komy2\\AppData\\Local\\Temp\\cck1M9FQ.o:_printf.C:(.text+0x9d): undefined reference to `_putchar'\n",
      "C:/msys64/mingw64/bin/../lib/gcc/x86_64-w64-mingw32/13.2.0/../../../../x86_64-w64-mingw32/bin/ld.exe: C:\\Users\\komy2\\AppData\\Local\\Temp\\cck1M9FQ.o:_printf.C:(.text+0xac): undefined reference to `_putchar'\n",
      "C:/msys64/mingw64/bin/../lib/gcc/x86_64-w64-mingw32/13.2.0/../../../../x86_64-w64-mingw32/bin/ld.exe: C:\\Users\\komy2\\AppData\\Local\\Temp\\cck1M9FQ.o:_printf.C:(.text+0xc0): undefined reference to `_putchar'\n",
      "C:/msys64/mingw64/bin/../lib/gcc/x86_64-w64-mingw32/13.2.0/../../../../x86_64-w64-mingw32/bin/ld.exe: C:\\Users\\komy2\\AppData\\Local\\Temp\\cck1M9FQ.o:_printf.C:(.text+0xd6): undefined reference to `_putchar'\n",
      "C:/msys64/mingw64/bin/../lib/gcc/x86_64-w64-mingw32/13.2.0/../../../../x86_64-w64-mingw32/bin/ld.exe: C:/msys64/mingw64/bin/../lib/gcc/x86_64-w64-mingw32/13.2.0/../../../../lib/libmingw32.a(lib64_libmingw32_a-crtexewin.o): in function `main':\n",
      "C:/M/B/src/mingw-w64/mingw-w64-crt/crt/crtexewin.c:67:(.text.startup+0xbd): undefined reference to `WinMain'\n",
      "collect2.exe: error: ld returned 1 exit status\n"
     ]
    }
   ],
   "source": [
    "\n",
    "!gcc -Wall -Werror -Wextra -pedantic -std=gnu89 -x c *.c\n"
   ]
  },
  {
   "cell_type": "code",
   "execution_count": null,
   "metadata": {},
   "outputs": [],
   "source": []
  },
  {
   "cell_type": "code",
   "execution_count": null,
   "metadata": {},
   "outputs": [],
   "source": []
  }
 ],
 "metadata": {
  "kernelspec": {
   "display_name": "Python 3",
   "language": "python",
   "name": "python3"
  },
  "language_info": {
   "codemirror_mode": {
    "name": "ipython",
    "version": 3
   },
   "file_extension": ".py",
   "mimetype": "text/x-python",
   "name": "python",
   "nbconvert_exporter": "python",
   "pygments_lexer": "ipython3",
   "version": "3.12.1"
  }
 },
 "nbformat": 4,
 "nbformat_minor": 2
}
