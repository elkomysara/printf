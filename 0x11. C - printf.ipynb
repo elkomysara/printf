{
 "cells": [
  {
   "cell_type": "markdown",
   "metadata": {},
   "source": [
    "---\n",
    "<center>\n",
    "<h1>  printf</h1>\n",
    "</center>\n",
    "\n",
    "---\n"
   ]
  },
  {
   "cell_type": "code",
   "execution_count": 1,
   "metadata": {},
   "outputs": [],
   "source": [
    "import os\n",
    "# creating 0x02-shell_redirectionss\n",
    "\n",
    "folder_path = r'/home/elkomy/alx/printf'\n",
    "if not os.path.exists(folder_path):\n",
    "    os.makedirs(folder_path)\n",
    "\n",
    "# Create a README.md inside alx-low_level_programming/0x0D-preprocessor\n",
    "file_path = os.path.join(folder_path, 'README.md')\n",
    "\n",
    "with open(file_path, 'w') as file:\n",
    "    file.write(\"This is a README.md file inside alx-low_level_programming/0x0D-preprocessor\")\n",
    "\n"
   ]
  },
  {
   "cell_type": "code",
   "execution_count": 12,
   "metadata": {},
   "outputs": [],
   "source": [
    "!cd /home/elkomy/alx/printf"
   ]
  },
  {
   "cell_type": "code",
   "execution_count": 13,
   "metadata": {},
   "outputs": [
    {
     "name": "stdout",
     "output_type": "stream",
     "text": [
      "/home/elkomy/alx/printf\n"
     ]
    }
   ],
   "source": [
    "!pwd"
   ]
  },
  {
   "cell_type": "markdown",
   "metadata": {},
   "source": [
    "###\n",
    "---\n",
    "<center>\n",
    "<h1> 0x11. C - printf </h1>\n",
    "</center>\n",
    "\n",
    "---\n"
   ]
  },
  {
   "cell_type": "markdown",
   "metadata": {},
   "source": [
    "###\n",
    "---\n",
    "<center>\n",
    "<h4> 0. I'm not going anywhere. You can print that wherever you want to. I'm here and I'm a Spur for life</h4>\n",
    "</center>\n",
    "\n",
    "---"
   ]
  },
  {
   "cell_type": "markdown",
   "metadata": {},
   "source": [
    "\n",
    "#### Write a function that produces output according to a format.\n",
    "\n",
    "* Prototype: `int _printf(const char *format, ...);`\n",
    "* Returns: the number of characters printed (excluding the null byte used to end output to strings)\n",
    "* write output to stdout, the standard output stream\n",
    "* `format` is a character string. The format string is composed of zero or more directives. See `man 3 printf` for more detail. You need to handle the following conversion specifiers:\n",
    "    * c\n",
    "    * s\n",
    "    * %\n",
    "* You don’t have to reproduce the buffer handling of the C library `printf` function\n",
    "* You don’t have to handle the flag characters\n",
    "* You don’t have to handle field width\n",
    "* You don’t have to handle precision\n",
    "* You don’t have to handle the length modifiers\n",
    "#### Repo:\n",
    "* GitHub repository: ```  printf ```"
   ]
  },
  {
   "cell_type": "code",
   "execution_count": 177,
   "metadata": {},
   "outputs": [
    {
     "name": "stdout",
     "output_type": "stream",
     "text": [
      "Overwriting /home/elkomy/alx/printf/_printf.c\n"
     ]
    }
   ],
   "source": [
    "%%file /home/elkomy/alx/printf/_printf.c\n",
    "#include \"main.h\"\n",
    "\n",
    "/**\n",
    "* _printf - Receives the main string and all the necessary parameters to\n",
    "* print a formatted string\n",
    "* @format: A string containing all the desired characters\n",
    "* Return: A total count of the characters printed\n",
    "*/\n",
    "int _printf(const char *format, ...)\n",
    "{\n",
    "int printed_chars;\n",
    "conver_t f_list[] = {\n",
    "{\"%\", print_percent},\n",
    "{\"c\", print_char},\n",
    "{\"s\", print_string},\n",
    "{NULL, NULL},\n",
    "};\n",
    "va_list arg_list;\n",
    "\n",
    "if (format == NULL)\n",
    "return (-1);\n",
    "\n",
    "va_start(arg_list, format);\n",
    "printed_chars = format_reciever(format, f_list, arg_list);\n",
    "va_end(arg_list);\n",
    "\n",
    "return (printed_chars);\n",
    "}\n"
   ]
  },
  {
   "cell_type": "code",
   "execution_count": null,
   "metadata": {},
   "outputs": [
    {
     "name": "stdout",
     "output_type": "stream",
     "text": [
      "Overwriting /home/elkomy/alx/printf/format_reciever.c\n"
     ]
    }
   ],
   "source": [
    "%%file /home/elkomy/alx/printf/format_reciever.c\n",
    "#include \"main.h\"\n",
    "\n",
    "/**\n",
    "* format_reciever - Receives the format and the argument list, then calls the appropriate function\n",
    "* @format: The format string\n",
    "* @f_list: List of conversion specifiers and associated functions\n",
    "* @arg_list: Argument list\n",
    "* Return: The number of characters printed\n",
    "*/\n",
    "int format_reciever(const char *format, conver_t f_list[], va_list arg_list)\n",
    "{\n",
    "int i, j, printed_chars = 0;\n",
    "\n",
    "for (i = 0; format[i] != '\\0'; i++)\n",
    "{\n",
    "if (format[i] == '%')\n",
    "{\n",
    "for (j = 0; f_list[j].sym != NULL; j++)\n",
    "{\n",
    "if (format[i + 1] == f_list[j].sym[0])\n",
    "{\n",
    "printed_chars += f_list[j].f(arg_list);\n",
    "i++;\n",
    "break;\n",
    "}\n",
    "}\n",
    "if (f_list[j].sym == NULL && format[i + 1] != ' ')\n",
    "{\n",
    "_putchar(format[i]);\n",
    "printed_chars++;\n",
    "}\n",
    "}\n",
    "else\n",
    "{\n",
    "_putchar(format[i]);\n",
    "printed_chars++;\n",
    "}\n",
    "}\n",
    "return (printed_chars);\n",
    "}\n",
    "\n"
   ]
  },
  {
   "cell_type": "code",
   "execution_count": 178,
   "metadata": {},
   "outputs": [
    {
     "name": "stdout",
     "output_type": "stream",
     "text": [
      "Overwriting /home/elkomy/alx/printf/print_percent.c\n"
     ]
    }
   ],
   "source": [
    "%%file /home/elkomy/alx/printf/print_percent.c\n",
    "#include \"main.h\"\n",
    "\n",
    "/**\n",
    "* print_percent - Prints a percent symbol\n",
    "* @list: list of arguments\n",
    "* Return: Will return the amount of characters printed.\n",
    "*/\n",
    "int print_percent(__attribute__((unused))va_list list)\n",
    "{\n",
    "_putchar('%');\n",
    "return (1);\n",
    "}\n",
    "\n"
   ]
  },
  {
   "cell_type": "code",
   "execution_count": 179,
   "metadata": {},
   "outputs": [
    {
     "name": "stdout",
     "output_type": "stream",
     "text": [
      "Overwriting /home/elkomy/alx/printf/print_char.c\n"
     ]
    }
   ],
   "source": [
    "%%file /home/elkomy/alx/printf/print_char.c\n",
    "#include \"main.h\"\n",
    "\n",
    "/**\n",
    "* print_char - Prints character\n",
    "* @list: list of arguments\n",
    "* Return: Will return the amount of characters printed.\n",
    "*/\n",
    "int print_char(va_list list)\n",
    "{\n",
    "_putchar(va_arg(list, int));\n",
    "return (1);\n",
    "}\n"
   ]
  },
  {
   "cell_type": "code",
   "execution_count": 180,
   "metadata": {},
   "outputs": [
    {
     "name": "stdout",
     "output_type": "stream",
     "text": [
      "Overwriting /home/elkomy/alx/printf/print_string.c\n"
     ]
    }
   ],
   "source": [
    "%%file /home/elkomy/alx/printf/print_string.c\n",
    "#include \"main.h\"\n",
    "\n",
    "/**\n",
    "* print_string - Prints a string\n",
    "* @list: list of arguments\n",
    "* Return: Will return the amount of characters printed.\n",
    "*/\n",
    "int print_string(va_list list)\n",
    "{\n",
    "int i;\n",
    "char *str;\n",
    "\n",
    "str = va_arg(list, char *);\n",
    "if (str == NULL)\n",
    "str = \"(null)\";\n",
    "for (i = 0; str[i] != '\\0'; i++)\n",
    "_putchar(str[i]);\n",
    "return (i);\n",
    "}\n"
   ]
  },
  {
   "cell_type": "code",
   "execution_count": 181,
   "metadata": {},
   "outputs": [
    {
     "name": "stdout",
     "output_type": "stream",
     "text": [
      "Overwriting /home/elkomy/alx/printf/main.h\n"
     ]
    }
   ],
   "source": [
    "%%file /home/elkomy/alx/printf/main.h\n",
    "#ifndef MAIN_H\n",
    "#define MAIN_H\n",
    "\n",
    "#include <stdio.h>\n",
    "#include <unistd.h>\n",
    "#include <stdlib.h>\n",
    "#include <stdarg.h>\n",
    "#include <limits.h>\n",
    "\n",
    "#define NULL_STRING \"(null)\"\n",
    "#define NUL '\\0'\n",
    "\n",
    "/**\n",
    " * struct convert - defines a structure for symbols and functions\n",
    " * @sym: The operator\n",
    " * @f: The function associated\n",
    " */\n",
    "struct convert\n",
    "{\n",
    "    char *sym;\n",
    "    int (*f)(va_list);\n",
    "};\n",
    "typedef struct convert conver_t;\n",
    "\n",
    "int _printf(const char *format, ...);\n",
    "int _putchar(char c);\n",
    "int format_reciever(const char *format, conver_t f_list[], va_list arg_list);\n",
    "int print_percent(va_list);\n",
    "int print_char(va_list);\n",
    "int print_string(va_list);\n",
    "#endif /* MAIN_H */\n",
    "\n",
    "\n"
   ]
  },
  {
   "cell_type": "code",
   "execution_count": 182,
   "metadata": {},
   "outputs": [
    {
     "name": "stdout",
     "output_type": "stream",
     "text": [
      "Overwriting /home/elkomy/alx/printf/_putchar.c\n"
     ]
    }
   ],
   "source": [
    "%%file /home/elkomy/alx/printf/_putchar.c\n",
    "#include <unistd.h>\n",
    "\n",
    "/**\n",
    " * _putchar - writes a character to stdout\n",
    " * @c: character to write\n",
    " *\n",
    " * Return: On success 1.\n",
    " * On error, -1 is returned, and errno is set appropriately.\n",
    " */\n",
    "int _putchar(char c)\n",
    "{\n",
    "    return (write(1, &c, 1));\n",
    "}\n"
   ]
  },
  {
   "cell_type": "code",
   "execution_count": 184,
   "metadata": {},
   "outputs": [
    {
     "name": "stdout",
     "output_type": "stream",
     "text": [
      "Overwriting /home/elkomy/alx/printf/tests/main.c\n"
     ]
    }
   ],
   "source": [
    "%%file /home/elkomy/alx/printf/tests/main.c\n",
    "#include <limits.h>\n",
    "#include <stdio.h>\n",
    "#include \"main.h\"\n",
    "\n",
    "/**\n",
    "* main - Entry point\n",
    "*\n",
    "* Return: Always 0\n",
    "*/\n",
    "int main(void)\n",
    "{\n",
    "int len;\n",
    "int len2;\n",
    "unsigned int ui;\n",
    "void *addr;\n",
    "\n",
    "len = _printf(\"Let's try to printf a simple sentence.\\n\");\n",
    "len2 = printf(\"Let's try to printf a simple sentence.\\n\");\n",
    "ui = (unsigned int)INT_MAX + 1024;\n",
    "addr = (void *)0x7ffe637541f0;\n",
    "_printf(\"Length:[%d, %i]\\n\", len, len);\n",
    "printf(\"Length:[%d, %i]\\n\", len2, len2);\n",
    "_printf(\"Negative:[%d]\\n\", -762534);\n",
    "printf(\"Negative:[%d]\\n\", -762534);\n",
    "_printf(\"Unsigned:[%u]\\n\", ui);\n",
    "printf(\"Unsigned:[%u]\\n\", ui);\n",
    "_printf(\"Unsigned octal:[%o]\\n\", ui);\n",
    "printf(\"Unsigned octal:[%o]\\n\", ui);\n",
    "_printf(\"Unsigned hexadecimal:[%x, %X]\\n\", ui, ui);\n",
    "printf(\"Unsigned hexadecimal:[%x, %X]\\n\", ui, ui);\n",
    "_printf(\"Character:[%c]\\n\", 'H');\n",
    "printf(\"Character:[%c]\\n\", 'H');\n",
    "_printf(\"String:[%s]\\n\", \"I am a string !\");\n",
    "printf(\"String:[%s]\\n\", \"I am a string !\");\n",
    "_printf(\"Address:[%p]\\n\", addr);\n",
    "printf(\"Address:[%p]\\n\", addr);\n",
    "len = _printf(\"Percent:[%%]\\n\");\n",
    "len2 = printf(\"Percent:[%%]\\n\");\n",
    "_printf(\"Len:[%d]\\n\", len);\n",
    "printf(\"Len:[%d]\\n\", len2);\n",
    "_printf(\"Unknown:[%r]\\n\");\n",
    "printf(\"Unknown:[%r]\\n\");\n",
    "return (0);\n",
    "}\n",
    "\n"
   ]
  },
  {
   "cell_type": "code",
   "execution_count": 185,
   "metadata": {},
   "outputs": [],
   "source": [
    "!cd /home/elkomy/alx/printf/"
   ]
  },
  {
   "cell_type": "code",
   "execution_count": 187,
   "metadata": {},
   "outputs": [
    {
     "name": "stdout",
     "output_type": "stream",
     "text": [
      "\n",
      "========== /home/elkomy/alx/printf/_printf.c ==========\n",
      "_printf\n",
      "Let's try to printf a simple sentence.\n",
      "Let's try to printf a simple sentence.\n",
      "Length:[%d, %i]\n",
      "Length:[39, 39]\n",
      "Negative:[%d]\n",
      "Negative:[-762534]\n",
      "Unsigned:[%u]\n",
      "Unsigned:[2147484671]\n",
      "Unsigned octal:[%o]\n",
      "Unsigned octal:[20000001777]\n",
      "Unsigned hexadecimal:[%x, %X]\n",
      "Unsigned hexadecimal:[800003ff, 800003FF]\n",
      "Character:[H]\n",
      "Character:[H]\n",
      "String:[I am a string !]\n",
      "String:[I am a string !]\n",
      "Address:[%p]\n",
      "Address:[0x7ffe637541f0]\n",
      "Percent:[%]\n",
      "Percent:[%]\n",
      "Len:[%d]\n",
      "Len:[12]\n",
      "Unknown:[%r]\n",
      "Unknown:[%r]\n"
     ]
    }
   ],
   "source": [
    "\n",
    "!betty /home/elkomy/alx/printf/_printf.c\n",
    "!gcc -Wall -Werror -Wextra -pedantic -std=gnu89 -Wno-format /home/elkomy/alx/printf/*.c /home/elkomy/alx/printf/tests/main.c -o /home/elkomy/alx/printf/printf\n",
    "!./printf\n"
   ]
  },
  {
   "cell_type": "code",
   "execution_count": 188,
   "metadata": {},
   "outputs": [
    {
     "name": "stdout",
     "output_type": "stream",
     "text": [
      "[main e378af1] alx-low_level_programming/0x0D-preprocessor/0-putchar\n",
      " 9 files changed, 374 insertions(+), 350 deletions(-)\n",
      " delete mode 100644 _puts.c\n",
      " delete mode 100644 print_String.c\n",
      " delete mode 100644 print_integer.c\n",
      " delete mode 100644 print_number.c\n"
     ]
    },
    {
     "name": "stderr",
     "output_type": "stream",
     "text": [
      "To https://github.com/elkomysara/printf\n",
      "   c092bd0..e378af1  main -> main\n"
     ]
    }
   ],
   "source": [
    "%%bash\n",
    "git add .\n",
    "git commit -m \"alx-low_level_programming/0x0D-preprocessor/0-putchar\"\n",
    "git push"
   ]
  },
  {
   "cell_type": "code",
   "execution_count": null,
   "metadata": {},
   "outputs": [],
   "source": []
  },
  {
   "cell_type": "markdown",
   "metadata": {},
   "source": [
    "###\n",
    "---\n",
    "<center>\n",
    "<h4>1. Education is when you read the fine print. Experience is what you get if you don't</h4>\n",
    "</center>\n",
    "\n",
    "---"
   ]
  },
  {
   "cell_type": "markdown",
   "metadata": {},
   "source": [
    "\n",
    "#### Handle the following conversion specifiers:\n",
    "\n",
    "* `d`\n",
    "* `i`\n",
    "* You don’t have to handle the flag characters\n",
    "* You don’t have to handle field width\n",
    "* You don’t have to handle precision\n",
    "* You don’t have to handle the length modifiers\n",
    "#### Repo:\n",
    "* GitHub repository: ``` printf```"
   ]
  },
  {
   "cell_type": "code",
   "execution_count": 189,
   "metadata": {},
   "outputs": [
    {
     "name": "stdout",
     "output_type": "stream",
     "text": [
      "Overwriting /home/elkomy/alx/printf/_printf.c\n"
     ]
    }
   ],
   "source": [
    "%%file /home/elkomy/alx/printf/_printf.c\n",
    "#include \"main.h\"\n",
    "\n",
    "/**\n",
    "* _printf - Receives the main string and all the necessary parameters to\n",
    "* print a formatted string\n",
    "* @format: A string containing all the desired characters\n",
    "* Return: A total count of the characters printed\n",
    "*/\n",
    "int _printf(const char *format, ...)\n",
    "{\n",
    "int printed_chars;\n",
    "conver_t f_list[] = {\n",
    "{\"%\", print_percent},\n",
    "{\"c\", print_char},\n",
    "{\"s\", print_string},\n",
    "{\"d\", print_integer},\n",
    "{\"i\", print_integer},\n",
    "{NULL, NULL},\n",
    "};\n",
    "va_list arg_list;\n",
    "\n",
    "if (format == NULL)\n",
    "return (-1);\n",
    "\n",
    "va_start(arg_list, format);\n",
    "printed_chars = format_reciever(format, f_list, arg_list);\n",
    "va_end(arg_list);\n",
    "\n",
    "return (printed_chars);\n",
    "}\n"
   ]
  },
  {
   "cell_type": "code",
   "execution_count": 191,
   "metadata": {},
   "outputs": [
    {
     "name": "stdout",
     "output_type": "stream",
     "text": [
      "Overwriting /home/elkomy/alx/printf/main.h\n"
     ]
    }
   ],
   "source": [
    "%%file /home/elkomy/alx/printf/main.h\n",
    "#ifndef MAIN_H\n",
    "#define MAIN_H\n",
    "\n",
    "#include <stdio.h>\n",
    "#include <unistd.h>\n",
    "#include <stdlib.h>\n",
    "#include <stdarg.h>\n",
    "#include <limits.h>\n",
    "\n",
    "#define NULL_STRING \"(null)\"\n",
    "#define NUL '\\0'\n",
    "\n",
    "/**\n",
    " * struct convert - defines a structure for symbols and functions\n",
    " * @sym: The operator\n",
    " * @f: The function associated\n",
    " */\n",
    "struct convert\n",
    "{\n",
    "    char *sym;\n",
    "    int (*f)(va_list);\n",
    "};\n",
    "typedef struct convert conver_t;\n",
    "\n",
    "int _printf(const char *format, ...);\n",
    "int _putchar(char c);\n",
    "int format_reciever(const char *format, conver_t f_list[], va_list arg_list);\n",
    "int print_percent(va_list);\n",
    "int print_char(va_list);\n",
    "int print_string(va_list);\n",
    "int print_integer(va_list);\n",
    "int print_number(int n);\n",
    "#endif /* MAIN_H */\n",
    "\n",
    "\n"
   ]
  },
  {
   "cell_type": "code",
   "execution_count": null,
   "metadata": {},
   "outputs": [
    {
     "name": "stdout",
     "output_type": "stream",
     "text": [
      "Overwriting /home/elkomy/alx/printf/format_reciever.c\n"
     ]
    }
   ],
   "source": [
    "%%file /home/elkomy/alx/printf/format_reciever.c\n",
    "#include \"main.h\"\n",
    "\n",
    "/**\n",
    "* format_reciever - Receives the format and the argument list, then calls the appropriate function\n",
    "* @format: The format string\n",
    "* @f_list: List of conversion specifiers and associated functions\n",
    "* @arg_list: Argument list\n",
    "* Return: The number of characters printed\n",
    "*/\n",
    "int format_reciever(const char *format, conver_t f_list[], va_list arg_list)\n",
    "{\n",
    "int i, j, printed_chars = 0;\n",
    "\n",
    "for (i = 0; format[i] != '\\0'; i++)\n",
    "{\n",
    "if (format[i] == '%')\n",
    "{\n",
    "for (j = 0; f_list[j].sym != NULL; j++)\n",
    "{\n",
    "if (format[i + 1] == f_list[j].sym[0])\n",
    "{\n",
    "printed_chars += f_list[j].f(arg_list);\n",
    "i++;\n",
    "break;\n",
    "}\n",
    "}\n",
    "if (f_list[j].sym == NULL && format[i + 1] != ' ')\n",
    "{\n",
    "_putchar(format[i]);\n",
    "printed_chars++;\n",
    "}\n",
    "}\n",
    "else\n",
    "{\n",
    "_putchar(format[i]);\n",
    "printed_chars++;\n",
    "}\n",
    "}\n",
    "return (printed_chars);\n",
    "}\n",
    "\n"
   ]
  },
  {
   "cell_type": "code",
   "execution_count": 190,
   "metadata": {},
   "outputs": [
    {
     "name": "stdout",
     "output_type": "stream",
     "text": [
      "Writing /home/elkomy/alx/printf/print_integer.c\n"
     ]
    }
   ],
   "source": [
    "%%file /home/elkomy/alx/printf/print_integer.c\n",
    "#include \"main.h\"\n",
    "\n",
    "/**\n",
    " * print_integer - Prints an integer\n",
    " * @list: list of arguments\n",
    " * Return: Will return the number of characters printed\n",
    " */\n",
    "int print_integer(va_list list)\n",
    "{\n",
    "    int n = va_arg(list, int);\n",
    "    int num_chars = 0;\n",
    "\n",
    "    if (n == 0)\n",
    "    {\n",
    "        _putchar('0');\n",
    "        return (1);\n",
    "    }\n",
    "    if (n < 0)\n",
    "    {\n",
    "        _putchar('-');\n",
    "        num_chars++;\n",
    "        n = -n;\n",
    "    }\n",
    "    num_chars += print_number(n);\n",
    "    return (num_chars);\n",
    "}\n",
    "\n",
    "/**\n",
    " * print_number - Helper function to print an integer number\n",
    " * @n: The integer to print\n",
    " * Return: Number of characters printed\n",
    " */\n",
    "int print_number(int n)\n",
    "{\n",
    "    int num_chars = 0;\n",
    "    unsigned int num;\n",
    "\n",
    "    if (n < 0)\n",
    "        num = -n;\n",
    "    else\n",
    "        num = n;\n",
    "\n",
    "    if (num / 10)\n",
    "        num_chars += print_number(num / 10);\n",
    "\n",
    "    _putchar((num % 10) + '0');\n",
    "    num_chars++;\n",
    "\n",
    "    return (num_chars);\n",
    "}"
   ]
  },
  {
   "cell_type": "code",
   "execution_count": 192,
   "metadata": {},
   "outputs": [
    {
     "name": "stdout",
     "output_type": "stream",
     "text": [
      "\n",
      "========== /home/elkomy/alx/printf/_printf.c ==========\n",
      "_printf\n",
      "Let's try to printf a simple sentence.\n",
      "Let's try to printf a simple sentence.\n",
      "Length:[39, 39]\n",
      "Length:[39, 39]\n",
      "Negative:[-762534]\n",
      "Negative:[-762534]\n",
      "Unsigned:[%u]\n",
      "Unsigned:[2147484671]\n",
      "Unsigned octal:[%o]\n",
      "Unsigned octal:[20000001777]\n",
      "Unsigned hexadecimal:[%x, %X]\n",
      "Unsigned hexadecimal:[800003ff, 800003FF]\n",
      "Character:[H]\n",
      "Character:[H]\n",
      "String:[I am a string !]\n",
      "String:[I am a string !]\n",
      "Address:[%p]\n",
      "Address:[0x7ffe637541f0]\n",
      "Percent:[%]\n",
      "Percent:[%]\n",
      "Len:[12]\n",
      "Len:[12]\n",
      "Unknown:[%r]\n",
      "Unknown:[%r]\n"
     ]
    }
   ],
   "source": [
    "\n",
    "!betty /home/elkomy/alx/printf/_printf.c\n",
    "!gcc -Wall -Werror -Wextra -pedantic -std=gnu89 -Wno-format /home/elkomy/alx/printf/*.c /home/elkomy/alx/printf/tests/main.c -o /home/elkomy/alx/printf/printf\n",
    "!./printf\n"
   ]
  },
  {
   "cell_type": "code",
   "execution_count": 193,
   "metadata": {},
   "outputs": [
    {
     "name": "stdout",
     "output_type": "stream",
     "text": [
      "[main d46bdb6] alx-low_level_programming/0x0D-preprocessor/0-putchar\n",
      " 4 files changed, 54 insertions(+)\n",
      " create mode 100644 print_integer.c\n"
     ]
    },
    {
     "name": "stderr",
     "output_type": "stream",
     "text": [
      "To https://github.com/elkomysara/printf\n",
      "   e378af1..d46bdb6  main -> main\n"
     ]
    }
   ],
   "source": [
    "%%bash\n",
    "git add .\n",
    "git commit -m \"alx-low_level_programming/0x0D-preprocessor/0-putchar\"\n",
    "git push"
   ]
  },
  {
   "cell_type": "code",
   "execution_count": null,
   "metadata": {},
   "outputs": [],
   "source": []
  },
  {
   "cell_type": "markdown",
   "metadata": {},
   "source": [
    "###\n",
    "---\n",
    "<center>\n",
    "<h4>2. With a face like mine, I do better in print</h4>\n",
    "</center>\n",
    "\n",
    "---"
   ]
  },
  {
   "cell_type": "markdown",
   "metadata": {},
   "source": [
    "\n",
    "#### Handle the following custom conversion specifiers:\n",
    "\n",
    "* `b`: the unsigned int argument is converted to binary\n",
    "\n",
    "```bash\n",
    "alex@ubuntu:~/c/printf$ cat main.c\n",
    "#include \"main.h\"\n",
    "\n",
    "/**\n",
    " * main - Entry point\n",
    " *\n",
    " * Return: Always 0\n",
    " */\n",
    "int main(void)\n",
    "{\n",
    "    _printf(\"%b\\n\", 98);\n",
    "    return (0);\n",
    "}\n",
    "alex@ubuntu:~/c/printf$ gcc -Wall -Wextra -Werror -pedantic -std=gnu89 main.c\n",
    "alex@ubuntu:~/c/printf$ ./a.out\n",
    "1100010\n",
    "alex@ubuntu:~/c/printf$\n",
    "```\n",
    "\n",
    "#### Repo:\n",
    "* GitHub repository: ``` printf```"
   ]
  },
  {
   "cell_type": "code",
   "execution_count": null,
   "metadata": {},
   "outputs": [],
   "source": [
    "%%file /home/elkomy/alx/printf/print_binary.c\n",
    "#include \"main.h\"\n",
    "\n",
    "/**\n",
    " * print_binary - Converts an unsigned int argument to binary\n",
    " * @list: list of arguments\n",
    " * Return: The number of characters printed\n",
    " */\n",
    "int print_binary(va_list list)\n",
    "{\n",
    "    unsigned int n = va_arg(list, unsigned int);\n",
    "    char *binary_str;\n",
    "    int num_chars;\n",
    "\n",
    "    binary_str = convert(n, 2, 0);\n",
    "    if (binary_str == NULL)\n",
    "        return (-1);\n",
    "\n",
    "    num_chars = _puts(binary_str);\n",
    "    return (num_chars);\n",
    "}\n",
    "\n",
    "/**\n",
    " * convert - Converts a number to a string in the given base\n",
    " * @num: The number to be converted\n",
    " * @base: The base to convert to\n",
    " * @lowercase: Flag to determine if hex letters should be lowercase\n",
    " * Return: A pointer to the converted string (static buffer)\n",
    " */\n",
    "char *convert(unsigned long int num, int base, int lowercase)\n",
    "\n",
    "{\n",
    "    static char buffer[50];\n",
    "    char *ptr;\n",
    "    char *rep = (lowercase) ? \"0123456789abcdef\" : \"0123456789ABCDEF\";\n",
    "\n",
    "    ptr = &buffer[49];\n",
    "    *ptr = '\\0';\n",
    "\n",
    "    do {\n",
    "        *--ptr = rep[num % base];\n",
    "        num /= base;\n",
    "    } while (num != 0);\n",
    "\n",
    "    return (ptr);\n",
    "}\n"
   ]
  },
  {
   "cell_type": "code",
   "execution_count": null,
   "metadata": {},
   "outputs": [
    {
     "name": "stdout",
     "output_type": "stream",
     "text": [
      "Overwriting /home/elkomy/alx/printf/_printf.c\n"
     ]
    }
   ],
   "source": [
    "%%file /home/elkomy/alx/printf/_printf.c\n",
    "#include \"main.h\"\n",
    "\n",
    "/**\n",
    "* _printf - Receives the main string and all the necessary parameters to\n",
    "* print a formatted string\n",
    "* @format: A string containing all the desired characters\n",
    "* Return: A total count of the characters printed\n",
    "*/\n",
    "int _printf(const char *format, ...)\n",
    "{\n",
    "int printed_chars;\n",
    "conver_t f_list[] = {\n",
    "{\"%\", print_percent},\n",
    "{\"c\", print_char},\n",
    "{\"s\", print_string},\n",
    "{\"d\", print_integer},\n",
    "{\"i\", print_integer},\n",
    "{\"b\", print_binary},\n",
    "{NULL, NULL},\n",
    "};\n",
    "va_list arg_list;\n",
    "\n",
    "if (format == NULL)\n",
    "return (-1);\n",
    "\n",
    "va_start(arg_list, format);\n",
    "printed_chars = format_reciever(format, f_list, arg_list);\n",
    "va_end(arg_list);\n",
    "\n",
    "return (printed_chars);\n",
    "}\n"
   ]
  },
  {
   "cell_type": "code",
   "execution_count": null,
   "metadata": {},
   "outputs": [
    {
     "name": "stdout",
     "output_type": "stream",
     "text": [
      "Overwriting /home/elkomy/alx/printf/_puts.c\n"
     ]
    }
   ],
   "source": [
    "%%file /home/elkomy/alx/printf/_puts.c\n",
    "#include \"main.h\"\n",
    "\n",
    "/**\n",
    " * _puts - Prints a string\n",
    " * @str: The string to be printed\n",
    " * Return: The number of characters printed\n",
    " */\n",
    "int _puts(char *str)\n",
    "{\n",
    "    int i;\n",
    "\n",
    "    for (i = 0; str[i] != '\\0'; i++)\n",
    "        _putchar(str[i]);\n",
    "\n",
    "    return (i);\n",
    "}\n",
    "\n"
   ]
  },
  {
   "cell_type": "code",
   "execution_count": null,
   "metadata": {},
   "outputs": [
    {
     "name": "stdout",
     "output_type": "stream",
     "text": [
      "Overwriting /home/elkomy/alx/printf/main.h\n"
     ]
    }
   ],
   "source": [
    "%%file /home/elkomy/alx/printf/main.h\n",
    "#ifndef MAIN_H\n",
    "#define MAIN_H\n",
    "\n",
    "#include <stdio.h>\n",
    "#include <unistd.h>\n",
    "#include <stdlib.h>\n",
    "#include <stdarg.h>\n",
    "#include <limits.h>\n",
    "\n",
    "#define NULL_STRING \"(null)\"\n",
    "#define NUL '\\0'\n",
    "\n",
    "/**\n",
    " * struct convert - defines a structure for symbols and functions\n",
    " * @sym: The operator\n",
    " * @f: The function associated\n",
    " */\n",
    "struct convert\n",
    "{\n",
    "    char *sym;\n",
    "    int (*f)(va_list);\n",
    "};\n",
    "typedef struct convert conver_t;\n",
    "\n",
    "int _printf(const char *format, ...);\n",
    "int _putchar(char c);\n",
    "int format_reciever(const char *format, conver_t f_list[], va_list arg_list);\n",
    "int print_percent(va_list);\n",
    "int print_char(va_list);\n",
    "int print_string(va_list);\n",
    "int print_integer(va_list);\n",
    "int print_number(int n);\n",
    "int print_binary(va_list list);\n",
    "char *convert(unsigned long int num, int base, int lowercase);\n",
    "int _puts(char *str);\n",
    "#endif /* MAIN_H */\n",
    "\n",
    "\n"
   ]
  },
  {
   "cell_type": "code",
   "execution_count": null,
   "metadata": {},
   "outputs": [
    {
     "name": "stdout",
     "output_type": "stream",
     "text": [
      "Overwriting /home/elkomy/alx/printf/tests/main.c\n"
     ]
    }
   ],
   "source": [
    "%%file /home/elkomy/alx/printf/tests/main.c\n",
    "#include \"main.h\"\n",
    "\n",
    "/**\n",
    " * main - Entry point\n",
    " *\n",
    " * Return: Always 0\n",
    " */\n",
    "int main(void)\n",
    "{\n",
    "    _printf(\"%b\\n\", 98);\n",
    "    return (0);\n",
    "}\n",
    "\n",
    "\n"
   ]
  },
  {
   "cell_type": "code",
   "execution_count": null,
   "metadata": {},
   "outputs": [
    {
     "name": "stdout",
     "output_type": "stream",
     "text": [
      "\n",
      "========== /home/elkomy/alx/printf/_printf.c ==========\n",
      "_printf\n",
      "1100010\n"
     ]
    }
   ],
   "source": [
    "\n",
    "!betty /home/elkomy/alx/printf/_printf.c\n",
    "!gcc -Wall -Werror -Wextra -pedantic -std=gnu89 -Wno-format /home/elkomy/alx/printf/*.c /home/elkomy/alx/printf/tests/main.c -o /home/elkomy/alx/printf/printf\n",
    "!./printf\n"
   ]
  },
  {
   "cell_type": "code",
   "execution_count": null,
   "metadata": {},
   "outputs": [
    {
     "name": "stdout",
     "output_type": "stream",
     "text": [
      "[main 840a670] alx-low_level_programming/0x0D-preprocessor/0-putchar\n",
      " 3 files changed, 58 insertions(+), 90 deletions(-)\n",
      " rewrite print_binary.c (86%)\n",
      " rewrite printf (63%)\n",
      " rewrite tests/main.c (96%)\n"
     ]
    },
    {
     "name": "stderr",
     "output_type": "stream",
     "text": [
      "To https://github.com/elkomysara/printf\n",
      "   3c351eb..840a670  main -> main\n"
     ]
    }
   ],
   "source": [
    "%%bash\n",
    "git add .\n",
    "git commit -m \"alx-low_level_programming/0x0D-preprocessor/0-putchar\"\n",
    "git push"
   ]
  },
  {
   "cell_type": "markdown",
   "metadata": {},
   "source": [
    "###\n",
    "---\n",
    "<center>\n",
    "<h4>3. What one has not experienced, one will never understand in print</h4>\n",
    "</center>\n",
    "\n",
    "---"
   ]
  },
  {
   "cell_type": "markdown",
   "metadata": {},
   "source": [
    "\n",
    "#### Handle the following conversion specifiers:\n",
    "\n",
    "* `u`\n",
    "* `o`\n",
    "* `x`\n",
    "* `x`\n",
    "* You don’t have to handle the flag characters\n",
    "* You don’t have to handle field width\n",
    "* You don’t have to handle precision\n",
    "* You don’t have to handle the length modifiers\n",
    "\n",
    "#### Repo:\n",
    "* GitHub repository: ``` printf```"
   ]
  },
  {
   "cell_type": "code",
   "execution_count": null,
   "metadata": {},
   "outputs": [
    {
     "name": "stdout",
     "output_type": "stream",
     "text": [
      "Overwriting /home/elkomy/alx/printf/print_unsigned.c\n"
     ]
    }
   ],
   "source": [
    "%%file /home/elkomy/alx/printf/print_unsigned.c\n",
    "#include \"main.h\"\n",
    "\n",
    "/**\n",
    " * print_unsigned - Prints an unsigned integer\n",
    " * @list: list of arguments\n",
    " * Return: The number of characters printed\n",
    " */\n",
    "int print_unsigned(va_list list)\n",
    "{\n",
    "    unsigned int n = va_arg(list, unsigned int);\n",
    "    char *str;\n",
    "    int num_chars;\n",
    "\n",
    "    str = convert(n, 10, 0);\n",
    "    if (str == NULL)\n",
    "        return (-1);\n",
    "\n",
    "    num_chars = _puts(str);\n",
    "    return (num_chars);\n",
    "}\n"
   ]
  },
  {
   "cell_type": "code",
   "execution_count": null,
   "metadata": {},
   "outputs": [
    {
     "name": "stdout",
     "output_type": "stream",
     "text": [
      "Overwriting /home/elkomy/alx/printf/print_octal.c\n"
     ]
    }
   ],
   "source": [
    "%%file /home/elkomy/alx/printf/print_octal.c\n",
    "#include \"main.h\"\n",
    "\n",
    "/**\n",
    " * print_octal - Prints a number in octal base\n",
    " * @list: list of arguments\n",
    " * Return: The number of characters printed\n",
    " */\n",
    "int print_octal(va_list list)\n",
    "{\n",
    "    unsigned int n = va_arg(list, unsigned int);\n",
    "    char *str;\n",
    "    int num_chars;\n",
    "\n",
    "    str = convert(n, 8, 0);\n",
    "    if (str == NULL)\n",
    "        return (-1);\n",
    "\n",
    "    num_chars = _puts(str);\n",
    "    return (num_chars);\n",
    "}\n",
    "\n"
   ]
  },
  {
   "cell_type": "code",
   "execution_count": null,
   "metadata": {},
   "outputs": [
    {
     "name": "stdout",
     "output_type": "stream",
     "text": [
      "Overwriting /home/elkomy/alx/printf/print_hex.c\n"
     ]
    }
   ],
   "source": [
    "%%file /home/elkomy/alx/printf/print_hex.c\n",
    "#include \"main.h\"\n",
    "\n",
    "/**\n",
    " * print_hex - Prints a number in hexadecimal base\n",
    " * @list: list of arguments\n",
    " * Return: The number of characters printed\n",
    " */\n",
    "int print_hex(va_list list)\n",
    "{\n",
    "    unsigned int n = va_arg(list, unsigned int);\n",
    "    char *str;\n",
    "    int num_chars;\n",
    "\n",
    "    str = convert(n, 16, 1);\n",
    "    if (str == NULL)\n",
    "        return (-1);\n",
    "\n",
    "    num_chars = _puts(str);\n",
    "    return (num_chars);\n",
    "}\n",
    "\n"
   ]
  },
  {
   "cell_type": "code",
   "execution_count": null,
   "metadata": {},
   "outputs": [
    {
     "name": "stdout",
     "output_type": "stream",
     "text": [
      "Overwriting /home/elkomy/alx/printf/print_HEX.c\n"
     ]
    }
   ],
   "source": [
    "%%file /home/elkomy/alx/printf/print_HEX.c\n",
    "#include \"main.h\"\n",
    "\n",
    "/**\n",
    " * print_HEX - Prints a number in hexadecimal base\n",
    " * @list: list of arguments\n",
    " * Return: The number of characters printed\n",
    " */\n",
    "int print_HEX(va_list list)\n",
    "{\n",
    "    unsigned int n = va_arg(list, unsigned int);\n",
    "    char *str;\n",
    "    int num_chars;\n",
    "\n",
    "    str = convert(n, 16, 0);\n",
    "    if (str == NULL)\n",
    "        return (-1);\n",
    "\n",
    "    num_chars = _puts(str);\n",
    "    return (num_chars);\n",
    "}\n",
    "\n",
    "\n"
   ]
  },
  {
   "cell_type": "code",
   "execution_count": null,
   "metadata": {},
   "outputs": [
    {
     "name": "stdout",
     "output_type": "stream",
     "text": [
      "Overwriting /home/elkomy/alx/printf/_printf.c\n"
     ]
    }
   ],
   "source": [
    "%%file /home/elkomy/alx/printf/_printf.c\n",
    "#include \"main.h\"\n",
    "\n",
    "/**\n",
    "* _printf - Receives the main string and all the necessary parameters to\n",
    "* print a formatted string\n",
    "* @format: A string containing all the desired characters\n",
    "* Return: A total count of the characters printed\n",
    "*/\n",
    "int _printf(const char *format, ...)\n",
    "{\n",
    "int printed_chars;\n",
    "conver_t f_list[] = {\n",
    "{\"%\", print_percent},\n",
    "{\"c\", print_char},\n",
    "{\"s\", print_string},\n",
    "{\"d\", print_integer},\n",
    "{\"i\", print_integer},\n",
    "{\"b\", print_binary},\n",
    "{\"u\", print_unsigned},\n",
    "{\"o\", print_octal},\n",
    "{\"x\", print_hex},\n",
    "{\"X\", print_HEX},\n",
    "{NULL, NULL},\n",
    "};\n",
    "va_list arg_list;\n",
    "\n",
    "if (format == NULL)\n",
    "return (-1);\n",
    "\n",
    "va_start(arg_list, format);\n",
    "printed_chars = format_reciever(format, f_list, arg_list);\n",
    "va_end(arg_list);\n",
    "\n",
    "return (printed_chars);\n",
    "}\n"
   ]
  },
  {
   "cell_type": "code",
   "execution_count": 303,
   "metadata": {},
   "outputs": [
    {
     "name": "stdout",
     "output_type": "stream",
     "text": [
      "Overwriting /home/elkomy/alx/printf/print_binary.c\n"
     ]
    }
   ],
   "source": [
    "%%file /home/elkomy/alx/printf/print_binary.c\n",
    "#include \"main.h\"\n",
    "\n",
    "/**\n",
    " * print_binary - Converts an unsigned int argument to binary\n",
    " * @list: list of arguments\n",
    " * Return: The number of characters printed\n",
    " */\n",
    "int print_binary(va_list list)\n",
    "{\n",
    "    unsigned int n = va_arg(list, unsigned int);\n",
    "    char *binary_str;\n",
    "    int num_chars;\n",
    "\n",
    "    binary_str = convert(n, 2, 0);\n",
    "    if (binary_str == NULL)\n",
    "        return (-1);\n",
    "\n",
    "    num_chars = _puts(binary_str);\n",
    "    return (num_chars);\n",
    "}\n",
    "\n",
    "/**\n",
    " * convert - Converts a number to a string in the given base\n",
    " * @num: The number to be converted\n",
    " * @base: The base to convert to\n",
    " * @lowercase: Flag to determine if hex letters should be lowercase\n",
    " * Return: A pointer to the converted string (static buffer)\n",
    " */\n",
    "char *convert(unsigned long int num, int base, int lowercase)\n",
    "{\n",
    "    static char buffer[50];\n",
    "    char *ptr;\n",
    "    char *rep = (lowercase) ? \"0123456789abcdef\" : \"0123456789ABCDEF\";\n",
    "\n",
    "    ptr = &buffer[49];\n",
    "    *ptr = '\\0';\n",
    "\n",
    "    do {\n",
    "        *--ptr = rep[num % base];\n",
    "        num /= base;\n",
    "    } while (num != 0);\n",
    "\n",
    "    return (ptr);\n",
    "}\n"
   ]
  },
  {
   "cell_type": "code",
   "execution_count": null,
   "metadata": {},
   "outputs": [
    {
     "name": "stdout",
     "output_type": "stream",
     "text": [
      "Overwriting /home/elkomy/alx/printf/_puts.c\n"
     ]
    }
   ],
   "source": [
    "%%file /home/elkomy/alx/printf/_puts.c\n",
    "#include \"main.h\"\n",
    "\n",
    "/**\n",
    " * _puts - Prints a string\n",
    " * @str: The string to be printed\n",
    " * Return: The number of characters printed\n",
    " */\n",
    "int _puts(char *str)\n",
    "{\n",
    "    int i;\n",
    "\n",
    "    for (i = 0; str[i] != '\\0'; i++)\n",
    "        _putchar(str[i]);\n",
    "\n",
    "    return (i);\n",
    "}\n",
    "\n"
   ]
  },
  {
   "cell_type": "code",
   "execution_count": null,
   "metadata": {},
   "outputs": [
    {
     "name": "stdout",
     "output_type": "stream",
     "text": [
      "Overwriting /home/elkomy/alx/printf/main.h\n"
     ]
    }
   ],
   "source": [
    "%%file /home/elkomy/alx/printf/main.h\n",
    "#ifndef MAIN_H\n",
    "#define MAIN_H\n",
    "\n",
    "#include <stdio.h>\n",
    "#include <unistd.h>\n",
    "#include <stdlib.h>\n",
    "#include <stdarg.h>\n",
    "#include <limits.h>\n",
    "\n",
    "#define NULL_STRING \"(null)\"\n",
    "#define NUL '\\0'\n",
    "\n",
    "/**\n",
    " * struct convert - defines a structure for symbols and functions\n",
    " * @sym: The operator\n",
    " * @f: The function associated\n",
    " */\n",
    "struct convert\n",
    "{\n",
    "    char *sym;\n",
    "    int (*f)(va_list);\n",
    "};\n",
    "typedef struct convert conver_t;\n",
    "\n",
    "int _printf(const char *format, ...);\n",
    "int _putchar(char c);\n",
    "int format_reciever(const char *format, conver_t f_list[], va_list arg_list);\n",
    "int print_percent(va_list);\n",
    "int print_char(va_list);\n",
    "int print_string(va_list);\n",
    "int print_integer(va_list);\n",
    "int print_number(int n);\n",
    "int print_binary(va_list list);\n",
    "char *convert(unsigned long int num, int base, int lowercase);\n",
    "int print_unsigned(va_list list);\n",
    "int print_octal(va_list list);\n",
    "int print_hex(va_list list);\n",
    "int print_HEX(va_list list);\n",
    "int _puts(char *str);\n",
    "#endif /* MAIN_H */\n",
    "\n",
    "\n"
   ]
  },
  {
   "cell_type": "code",
   "execution_count": null,
   "metadata": {},
   "outputs": [
    {
     "name": "stdout",
     "output_type": "stream",
     "text": [
      "Overwriting /home/elkomy/alx/printf/tests/main.c\n"
     ]
    }
   ],
   "source": [
    "%%file /home/elkomy/alx/printf/tests/main.c\n",
    "#include \"main.h\"\n",
    "\n",
    "/**\n",
    " * main - Entry point\n",
    " *\n",
    " * Return: Always 0\n",
    " */\n",
    "int main(void)\n",
    "{\n",
    "    _printf(\"Unsigned:[%u]\\n\", 12345);\n",
    "    _printf(\"Octal:[%o]\\n\", 12345);\n",
    "    _printf(\"Hexadecimal:[%x]\\n\", 12345);\n",
    "    _printf(\"HEX:[%X]\\n\", 12345);\n",
    "    return (0);\n",
    "}\n"
   ]
  },
  {
   "cell_type": "code",
   "execution_count": null,
   "metadata": {},
   "outputs": [
    {
     "name": "stdout",
     "output_type": "stream",
     "text": [
      "\n",
      "========== /home/elkomy/alx/printf/_printf.c ==========\n",
      "_printf\n",
      "Unsigned:[12345]\n",
      "Octal:[30071]\n",
      "Hexadecimal:[3039]\n",
      "HEX:[3039]\n"
     ]
    }
   ],
   "source": [
    "\n",
    "!betty /home/elkomy/alx/printf/_printf.c\n",
    "!gcc -Wall -Werror -Wextra -pedantic -std=gnu89 -Wno-format /home/elkomy/alx/printf/*.c /home/elkomy/alx/printf/tests/main.c -o /home/elkomy/alx/printf/printf\n",
    "!./printf\n"
   ]
  },
  {
   "cell_type": "code",
   "execution_count": null,
   "metadata": {},
   "outputs": [
    {
     "name": "stdout",
     "output_type": "stream",
     "text": [
      "[main 29858a4] alx-low_level_programming/0x0D-preprocessor/0-putchar\n",
      " 8 files changed, 96 insertions(+), 3 deletions(-)\n",
      " create mode 100644 print_HEX.c\n",
      " create mode 100644 print_hex.c\n",
      " create mode 100644 print_octal.c\n",
      " create mode 100644 print_unsigned.c\n"
     ]
    },
    {
     "name": "stderr",
     "output_type": "stream",
     "text": [
      "To https://github.com/elkomysara/printf\n",
      "   840a670..29858a4  main -> main\n"
     ]
    }
   ],
   "source": [
    "%%bash\n",
    "git add .\n",
    "git commit -m \"alx-low_level_programming/0x0D-preprocessor/0-putchar\"\n",
    "git push"
   ]
  },
  {
   "cell_type": "markdown",
   "metadata": {},
   "source": [
    "###\n",
    "---\n",
    "<center>\n",
    "<h4>4. Nothing in fine print is ever good news</h4>\n",
    "</center>\n",
    "\n",
    "---"
   ]
  },
  {
   "cell_type": "markdown",
   "metadata": {},
   "source": [
    "\n",
    "#### Use a local buffer of 1024 chars in order to call `write` as little as possible.\n",
    "\n",
    "\n",
    "\n",
    "#### Repo:\n",
    "* GitHub repository: ``` printf```"
   ]
  },
  {
   "cell_type": "code",
   "execution_count": 374,
   "metadata": {},
   "outputs": [
    {
     "name": "stdout",
     "output_type": "stream",
     "text": [
      "Overwriting /home/elkomy/alx/printf/_printf.c\n"
     ]
    }
   ],
   "source": [
    "%%file /home/elkomy/alx/printf/_printf.c\n",
    "#include \"main.h\"\n",
    "\n",
    "/**\n",
    "* _printf - Receives the main string and all the necessary parameters to\n",
    "* print a formatted string\n",
    "* @format: A string containing all the desired characters\n",
    "* Return: A total count of the characters printed\n",
    "*/\n",
    "\n",
    "int _printf(const char *format, ...)\n",
    "{\n",
    "va_list arg_list;\n",
    "int printed_chars = 0;\n",
    "char buffer[1024];\n",
    "int index = 0;\n",
    "\n",
    "conver_t f_list[] = {\n",
    "{\"%\", print_percent},\n",
    "{\"c\", print_char},\n",
    "{\"s\", print_string},\n",
    "{\"d\", print_integer},\n",
    "{\"i\", print_integer},\n",
    "{\"b\", print_binary},\n",
    "{\"u\", print_unsigned},\n",
    "{\"o\", print_octal},\n",
    "{\"x\", print_hex},\n",
    "{\"X\", print_HEX},\n",
    "{NULL, NULL}\n",
    "};\n",
    "\n",
    "va_start(arg_list, format);\n",
    "printed_chars = format_reciever(format, f_list, arg_list, buffer, &index);\n",
    "va_end(arg_list);\n",
    "\n",
    "buffer[index] = '\\0';\n",
    "write(1, buffer, index);\n",
    "\n",
    "return (printed_chars);\n",
    "}\n",
    "\n"
   ]
  },
  {
   "cell_type": "code",
   "execution_count": 421,
   "metadata": {},
   "outputs": [
    {
     "name": "stdout",
     "output_type": "stream",
     "text": [
      "Overwriting /home/elkomy/alx/printf/main.h\n"
     ]
    }
   ],
   "source": [
    "%%file /home/elkomy/alx/printf/main.h\n",
    "#ifndef MAIN_H\n",
    "#define MAIN_H\n",
    "\n",
    "#include <stdarg.h>\n",
    "#include <unistd.h>\n",
    "\n",
    "typedef struct converter {\n",
    "    char *specifier;\n",
    "    int (*f)(va_list, char *, int *);\n",
    "} conver_t;\n",
    "int _printf(const char *format, ...);\n",
    "int _putchar(char c, char *buffer, int *index);\n",
    "int _puts(char *str, char *buffer, int *index);\n",
    "int format_reciever(const char *format, conver_t f_list[], va_list arg_list, char *buffer, int *index);\n",
    "int print_char(va_list list, char *buffer, int *index);\n",
    "int print_string(va_list list, char *buffer, int *index);\n",
    "int print_percent(va_list list, char *buffer, int *index);\n",
    "int print_integer(va_list list, char *buffer, int *index);\n",
    "int print_number(int n, char *buffer, int *index);\n",
    "int print_binary(va_list list, char *buffer, int *index);\n",
    "int print_unsigned(va_list list, char *buffer, int *index);\n",
    "int print_octal(va_list list, char *buffer, int *index);\n",
    "int print_hex(va_list list, char *buffer, int *index);\n",
    "int print_HEX(va_list list, char *buffer, int *index);\n",
    "char *convert(unsigned long int num, int base, int lowercase);\n",
    "\n",
    "\n",
    "#endif\n",
    "\n",
    "\n",
    "\n"
   ]
  },
  {
   "cell_type": "code",
   "execution_count": 422,
   "metadata": {},
   "outputs": [
    {
     "name": "stdout",
     "output_type": "stream",
     "text": [
      "Overwriting /home/elkomy/alx/printf/print_binary.c\n"
     ]
    }
   ],
   "source": [
    "%%file /home/elkomy/alx/printf/print_binary.c\n",
    "#include \"main.h\"\n",
    "\n",
    "/**\n",
    " * print_binary - Converts an unsigned int argument to binary\n",
    " * @list: list of arguments\n",
    " * @buffer: buffer to store the result\n",
    " * @index: current index in the buffer\n",
    " * Return: The number of characters printed\n",
    " */\n",
    "int print_binary(va_list list, char *buffer, int *index)\n",
    "{\n",
    "    unsigned int n = va_arg(list, unsigned int);\n",
    "    char *binary_str;\n",
    "    int num_chars;\n",
    "\n",
    "    binary_str = convert(n, 2, 0);\n",
    "    if (binary_str == NULL)\n",
    "        return (-1);\n",
    "\n",
    "    num_chars = _puts(binary_str, buffer, index);\n",
    "    return (num_chars);\n",
    "}\n",
    "\n",
    "\n",
    "/**\n",
    " * convert - Converts a number to a string in the given base\n",
    " * @num: The number to be converted\n",
    " * @base: The base to convert to\n",
    " * @lowercase: Flag to determine if hex letters should be lowercase\n",
    " * Return: A pointer to the converted string (static buffer)\n",
    " */\n",
    "char *convert(unsigned long int num, int base, int lowercase)\n",
    "{\n",
    "    static char buffer[50];\n",
    "    char *ptr;\n",
    "    char *rep = (lowercase) ? \"0123456789abcdef\" : \"0123456789ABCDEF\";\n",
    "\n",
    "    ptr = &buffer[49];\n",
    "    *ptr = '\\0';\n",
    "\n",
    "    do {\n",
    "        *--ptr = rep[num % base];\n",
    "        num /= base;\n",
    "    } while (num != 0);\n",
    "\n",
    "    return (ptr);\n",
    "}\n"
   ]
  },
  {
   "cell_type": "code",
   "execution_count": 423,
   "metadata": {},
   "outputs": [
    {
     "name": "stdout",
     "output_type": "stream",
     "text": [
      "Overwriting /home/elkomy/alx/printf/print_char.c\n"
     ]
    }
   ],
   "source": [
    "%%file /home/elkomy/alx/printf/print_char.c\n",
    "#include \"main.h\"\n",
    "\n",
    "int print_char(va_list list, char *buffer, int *index)\n",
    "{\n",
    "    _putchar(va_arg(list, int), buffer, index);\n",
    "    return (1);\n",
    "}\n",
    "\n"
   ]
  },
  {
   "cell_type": "code",
   "execution_count": 424,
   "metadata": {},
   "outputs": [
    {
     "name": "stdout",
     "output_type": "stream",
     "text": [
      "Overwriting /home/elkomy/alx/printf/print_string.c\n"
     ]
    }
   ],
   "source": [
    "%%file /home/elkomy/alx/printf/print_string.c\n",
    "#include \"main.h\"\n",
    "\n",
    "int print_string(va_list list, char *buffer, int *index)\n",
    "{\n",
    "    char *str = va_arg(list, char *);\n",
    "\n",
    "    if (str == NULL)\n",
    "        str = \"(null)\";\n",
    "\n",
    "    return (_puts(str, buffer, index));\n",
    "}\n",
    "\n"
   ]
  },
  {
   "cell_type": "code",
   "execution_count": 425,
   "metadata": {},
   "outputs": [
    {
     "name": "stdout",
     "output_type": "stream",
     "text": [
      "Overwriting /home/elkomy/alx/printf/print_integer.c\n"
     ]
    }
   ],
   "source": [
    "%%file /home/elkomy/alx/printf/print_integer.c\n",
    "#include \"main.h\"\n",
    "\n",
    "int print_integer(va_list list, char *buffer, int *index)\n",
    "{\n",
    "    int n = va_arg(list, int);\n",
    "    int num_chars = 0;\n",
    "\n",
    "    if (n == 0)\n",
    "    {\n",
    "        _putchar('0', buffer, index);\n",
    "        return (1);\n",
    "    }\n",
    "\n",
    "    if (n < 0)\n",
    "    {\n",
    "        _putchar('-', buffer, index);\n",
    "        num_chars++;\n",
    "        n = -n;\n",
    "    }\n",
    "\n",
    "    num_chars += print_number(n, buffer, index);\n",
    "\n",
    "    return (num_chars);\n",
    "}\n",
    "\n",
    "int print_number(int n, char *buffer, int *index)\n",
    "{\n",
    "    int num_chars = 0;\n",
    "    unsigned int num = n;\n",
    "\n",
    "    if (num / 10)\n",
    "        num_chars += print_number(num / 10, buffer, index);\n",
    "\n",
    "    _putchar((num % 10) + '0', buffer, index);\n",
    "    num_chars++;\n",
    "\n",
    "    return (num_chars);\n",
    "}\n"
   ]
  },
  {
   "cell_type": "code",
   "execution_count": 426,
   "metadata": {},
   "outputs": [
    {
     "name": "stdout",
     "output_type": "stream",
     "text": [
      "Overwriting /home/elkomy/alx/printf/_putchar.c\n"
     ]
    }
   ],
   "source": [
    "%%file /home/elkomy/alx/printf/_putchar.c\n",
    "#include \"main.h\"\n",
    "\n",
    "/**\n",
    " * _putchar - Writes a character to the buffer and flushes it if necessary\n",
    " * @c: The character to write\n",
    " * @buffer: The buffer to write to\n",
    " * @index: The current index in the buffer\n",
    " * Return: Always 1\n",
    " */\n",
    "#include \"main.h\"\n",
    "\n",
    "int _putchar(char c, char *buffer, int *index)\n",
    "{\n",
    "    buffer[(*index)++] = c;\n",
    "    if (*index >= 1024)\n",
    "    {\n",
    "        write(1, buffer, *index);\n",
    "        *index = 0;\n",
    "    }\n",
    "    return (1);\n",
    "}\n",
    "\n"
   ]
  },
  {
   "cell_type": "code",
   "execution_count": 427,
   "metadata": {},
   "outputs": [
    {
     "name": "stdout",
     "output_type": "stream",
     "text": [
      "Overwriting /home/elkomy/alx/printf/_puts.c\n"
     ]
    }
   ],
   "source": [
    "%%file /home/elkomy/alx/printf/_puts.c\n",
    "#include \"main.h\"\n",
    "\n",
    "/**\n",
    " * _puts - Writes a string to the buffer\n",
    " * @str: The string to write\n",
    " * @buffer: The buffer to write to\n",
    " * @index: The current index in the buffer\n",
    " * Return: The number of characters written\n",
    " */\n",
    "int _puts(char *str, char *buffer, int *index)\n",
    "{\n",
    "    int i;\n",
    "\n",
    "    for (i = 0; str[i] != '\\0'; i++)\n",
    "    {\n",
    "        _putchar(str[i], buffer, index);\n",
    "    }\n",
    "\n",
    "    return (i);\n",
    "}\n",
    "\n"
   ]
  },
  {
   "cell_type": "code",
   "execution_count": 428,
   "metadata": {},
   "outputs": [
    {
     "name": "stdout",
     "output_type": "stream",
     "text": [
      "Overwriting /home/elkomy/alx/printf/flush_buffer.c\n"
     ]
    }
   ],
   "source": [
    "%%file /home/elkomy/alx/printf/flush_buffer.c\n",
    "#include \"main.h\"\n",
    "\n",
    "/**\n",
    " * flush_buffer - Writes the buffer to stdout and resets the buffer index\n",
    " * @buffer: The buffer containing the characters to be written\n",
    " * @index: The current index in the buffer\n",
    " */\n",
    "void flush_buffer(char *buffer, int *index)\n",
    "{\n",
    "    if (*index > 0)\n",
    "    {\n",
    "        write(1, buffer, *index);\n",
    "        *index = 0;\n",
    "    }\n",
    "}\n"
   ]
  },
  {
   "cell_type": "code",
   "execution_count": 429,
   "metadata": {},
   "outputs": [
    {
     "name": "stdout",
     "output_type": "stream",
     "text": [
      "Overwriting /home/elkomy/alx/printf/print_percent.c\n"
     ]
    }
   ],
   "source": [
    "%%file /home/elkomy/alx/printf/print_percent.c\n",
    "\n",
    "#include \"main.h\"\n",
    "\n",
    "/**\n",
    " * print_percent - Prints a percent symbol\n",
    " * @list: list of arguments (unused)\n",
    " * @buffer: The buffer to write to\n",
    " * @index: The current index in the buffer\n",
    " * Return: Always 1\n",
    " */\n",
    "int print_percent(va_list list __attribute__((unused)), char *buffer, int *index)\n",
    "{\n",
    "    return _putchar('%', buffer, index);\n",
    "}\n",
    "\n",
    "\n"
   ]
  },
  {
   "cell_type": "code",
   "execution_count": 430,
   "metadata": {},
   "outputs": [
    {
     "name": "stdout",
     "output_type": "stream",
     "text": [
      "Overwriting /home/elkomy/alx/printf/print_hex.c\n"
     ]
    }
   ],
   "source": [
    "%%file /home/elkomy/alx/printf/print_hex.c\n",
    "#include \"main.h\"\n",
    "\n",
    "/**\n",
    " * print_hex - Prints a number in hexadecimal base\n",
    " * @list: list of arguments\n",
    " * @buffer: buffer to store the result\n",
    " * @index: current index in the buffer\n",
    " * Return: The number of characters printed\n",
    " */\n",
    "int print_hex(va_list list, char *buffer, int *index)\n",
    "{\n",
    "    unsigned int n = va_arg(list, unsigned int);\n",
    "    char *str;\n",
    "    int num_chars;\n",
    "\n",
    "    str = convert(n, 16, 1);\n",
    "    if (str == NULL)\n",
    "        return (-1);\n",
    "\n",
    "    num_chars = _puts(str, buffer, index);\n",
    "    return (num_chars);\n",
    "}\n"
   ]
  },
  {
   "cell_type": "code",
   "execution_count": 431,
   "metadata": {},
   "outputs": [
    {
     "name": "stdout",
     "output_type": "stream",
     "text": [
      "Overwriting /home/elkomy/alx/printf/print_HEX.c\n"
     ]
    }
   ],
   "source": [
    "%%file /home/elkomy/alx/printf/print_HEX.c\n",
    "#include \"main.h\"\n",
    "\n",
    "/**\n",
    " * print_HEX - Prints a number in hexadecimal base\n",
    " * @list: list of arguments\n",
    " * @buffer: buffer to store the result\n",
    " * @index: current index in the buffer\n",
    " * Return: The number of characters printed\n",
    " */\n",
    "int print_HEX(va_list list, char *buffer, int *index)\n",
    "{\n",
    "    unsigned int n = va_arg(list, unsigned int);\n",
    "    char *str;\n",
    "    int num_chars;\n",
    "\n",
    "    str = convert(n, 16, 0);\n",
    "    if (str == NULL)\n",
    "        return (-1);\n",
    "\n",
    "    num_chars = _puts(str, buffer, index);\n",
    "    return (num_chars);\n",
    "}\n"
   ]
  },
  {
   "cell_type": "code",
   "execution_count": 432,
   "metadata": {},
   "outputs": [
    {
     "name": "stdout",
     "output_type": "stream",
     "text": [
      "Overwriting /home/elkomy/alx/printf/print_octal.c\n"
     ]
    }
   ],
   "source": [
    "%%file /home/elkomy/alx/printf/print_octal.c\n",
    "#include \"main.h\"\n",
    "#include <stdlib.h>\n",
    "\n",
    "/**\n",
    " * print_octal - Prints a number in octal base\n",
    " * @list: list of arguments\n",
    " * @buffer: buffer to store the result\n",
    " * @index: current index in the buffer\n",
    " * Return: The number of characters printed\n",
    " */\n",
    "int print_octal(va_list list, char *buffer, int *index)\n",
    "{\n",
    "    unsigned int n = va_arg(list, unsigned int);\n",
    "    char *str;\n",
    "    int num_chars;\n",
    "\n",
    "    str = convert(n, 8, 0);\n",
    "    if (str == NULL)\n",
    "        return (-1);\n",
    "\n",
    "    num_chars = _puts(str, buffer, index);\n",
    "    return (num_chars);\n",
    "}\n",
    "\n",
    "\n"
   ]
  },
  {
   "cell_type": "code",
   "execution_count": 433,
   "metadata": {},
   "outputs": [
    {
     "name": "stdout",
     "output_type": "stream",
     "text": [
      "Overwriting /home/elkomy/alx/printf/print_unsigned.c\n"
     ]
    }
   ],
   "source": [
    "%%file /home/elkomy/alx/printf/print_unsigned.c\n",
    "#include \"main.h\"\n",
    "\n",
    "/**\n",
    " * print_unsigned - Prints an unsigned integer\n",
    " * @list: list of arguments\n",
    " * @buffer: buffer to store the result\n",
    " * @index: current index in the buffer\n",
    " * Return: The number of characters printed\n",
    " */\n",
    "int print_unsigned(va_list list, char *buffer, int *index)\n",
    "{\n",
    "    unsigned int n = va_arg(list, unsigned int);\n",
    "    char *str;\n",
    "    int num_chars;\n",
    "\n",
    "    str = convert(n, 10, 0);\n",
    "    if (str == NULL)\n",
    "        return (-1);\n",
    "\n",
    "    num_chars = _puts(str, buffer, index);\n",
    "    return (num_chars);\n",
    "}\n"
   ]
  },
  {
   "cell_type": "code",
   "execution_count": 437,
   "metadata": {},
   "outputs": [
    {
     "name": "stdout",
     "output_type": "stream",
     "text": [
      "Overwriting /home/elkomy/alx/printf/tests/main.c\n"
     ]
    }
   ],
   "source": [
    "%%file /home/elkomy/alx/printf/tests/main.c\n",
    "#include <limits.h>\n",
    "#include <stdio.h>\n",
    "#include \"../main.h\"\n",
    "\n",
    "/**\n",
    "* main - Entry point\n",
    "*\n",
    "* Return: Always 0\n",
    "*/\n",
    "int main(void)\n",
    "{\n",
    "int len;\n",
    "int len2;\n",
    "unsigned int ui;\n",
    "void *addr;\n",
    "\n",
    "len = _printf(\"Let's try to printf a simple sentence.\\n\");\n",
    "len2 = printf(\"Let's try to printf a simple sentence.\\n\");\n",
    "ui = (unsigned int)INT_MAX + 1024;\n",
    "addr = (void *)0x7ffe637541f0;\n",
    "_printf(\"Length:[%d, %i]\\n\", len, len);\n",
    "printf(\"Length:[%d, %i]\\n\", len2, len2);\n",
    "_printf(\"Negative:[%d]\\n\", -762534);\n",
    "printf(\"Negative:[%d]\\n\", -762534);\n",
    "_printf(\"Unsigned:[%u]\\n\", ui);\n",
    "printf(\"Unsigned:[%u]\\n\", ui);\n",
    "_printf(\"Unsigned octal:[%o]\\n\", ui);\n",
    "printf(\"Unsigned octal:[%o]\\n\", ui);\n",
    "_printf(\"Unsigned hexadecimal:[%x, %X]\\n\", ui, ui);\n",
    "printf(\"Unsigned hexadecimal:[%x, %X]\\n\", ui, ui);\n",
    "_printf(\"Character:[%c]\\n\", 'H');\n",
    "printf(\"Character:[%c]\\n\", 'H');\n",
    "_printf(\"String:[%s]\\n\", \"I am a string !\");\n",
    "printf(\"String:[%s]\\n\", \"I am a string !\");\n",
    "_printf(\"Address:[%p]\\n\", addr);\n",
    "printf(\"Address:[%p]\\n\", addr);\n",
    "len = _printf(\"Percent:[%%]\\n\");\n",
    "len2 = printf(\"Percent:[%%]\\n\");\n",
    "_printf(\"Len:[%d]\\n\", len);\n",
    "printf(\"Len:[%d]\\n\", len2);\n",
    "_printf(\"Unknown:[%r]\\n\");\n",
    "printf(\"Unknown:[%r]\\n\");\n",
    "return (0);\n",
    "}\n",
    "\n"
   ]
  },
  {
   "cell_type": "code",
   "execution_count": 438,
   "metadata": {},
   "outputs": [
    {
     "name": "stdout",
     "output_type": "stream",
     "text": [
      "Overwriting /home/elkomy/alx/printf/format_reciever.c\n"
     ]
    }
   ],
   "source": [
    "%%file /home/elkomy/alx/printf/format_reciever.c\n",
    "#include \"main.h\"\n",
    "\n",
    "/**\n",
    " * format_reciever - Receives the main string and all the necessary parameters to\n",
    " * print a formatted string\n",
    " * @format: A string containing all the desired characters\n",
    " * @f_list: A list of conversion specifiers\n",
    " * @arg_list: A list containing all the arguments passed to the program\n",
    " * @buffer: The buffer to write to\n",
    " * @index: The current index in the buffer\n",
    " * Return: A total count of the characters printed\n",
    " */\n",
    "#include \"main.h\"\n",
    "\n",
    "int format_reciever(const char *format, conver_t f_list[], va_list arg_list, char *buffer, int *index)\n",
    "{\n",
    "    int i, j, printed_chars = 0;\n",
    "    int (*func)(va_list, char *, int *);\n",
    "\n",
    "    for (i = 0; format[i] != '\\0'; i++)\n",
    "    {\n",
    "        if (format[i] == '%')\n",
    "        {\n",
    "            for (j = 0; f_list[j].specifier != NULL; j++)\n",
    "            {\n",
    "                if (format[i + 1] == f_list[j].specifier[0])\n",
    "                {\n",
    "                    func = f_list[j].f;\n",
    "                    printed_chars += func(arg_list, buffer, index);\n",
    "                    break;\n",
    "                }\n",
    "            }\n",
    "            if (f_list[j].specifier == NULL && format[i + 1] != ' ')\n",
    "            {\n",
    "                _putchar(format[i], buffer, index);\n",
    "                _putchar(format[i + 1], buffer, index);\n",
    "                printed_chars += 2;\n",
    "            }\n",
    "            i++;\n",
    "        }\n",
    "        else\n",
    "        {\n",
    "            _putchar(format[i], buffer, index);\n",
    "            printed_chars++;\n",
    "        }\n",
    "    }\n",
    "\n",
    "    return (printed_chars);\n",
    "}\n",
    "\n"
   ]
  },
  {
   "cell_type": "code",
   "execution_count": 439,
   "metadata": {},
   "outputs": [
    {
     "name": "stdout",
     "output_type": "stream",
     "text": [
      "\n",
      "========== /home/elkomy/alx/printf/_printf.c ==========\n",
      "_printf\n",
      "Let's try to printf a simple sentence.\n",
      "Let's try to printf a simple sentence.\n",
      "Length:[39, 39]\n",
      "Length:[39, 39]\n",
      "Negative:[-762534]\n",
      "Negative:[-762534]\n",
      "Unsigned:[2147484671]\n",
      "Unsigned:[2147484671]\n",
      "Unsigned octal:[20000001777]\n",
      "Unsigned octal:[20000001777]\n",
      "Unsigned hexadecimal:[800003ff, 800003FF]\n",
      "Unsigned hexadecimal:[800003ff, 800003FF]\n",
      "Character:[H]\n",
      "Character:[H]\n",
      "String:[I am a string !]\n",
      "String:[I am a string !]\n",
      "Address:[%p]\n",
      "Address:[0x7ffe637541f0]\n",
      "Percent:[%]\n",
      "Percent:[%]\n",
      "Len:[12]\n",
      "Len:[12]\n",
      "Unknown:[%r]\n",
      "Unknown:[%r]\n"
     ]
    }
   ],
   "source": [
    "\n",
    "!betty /home/elkomy/alx/printf/_printf.c\n",
    "!gcc -Wall -Werror -Wextra -pedantic -std=gnu89 -Wno-format /home/elkomy/alx/printf/*.c /home/elkomy/alx/printf/tests/main.c -o /home/elkomy/alx/printf/printf\n",
    "!./printf\n"
   ]
  },
  {
   "cell_type": "code",
   "execution_count": 391,
   "metadata": {},
   "outputs": [
    {
     "name": "stdout",
     "output_type": "stream",
     "text": [
      "[main 9f9aa53] alx-low_level_programming/0x0D-preprocessor/0-putchar\n",
      " 3 files changed, 7 insertions(+)\n",
      " rename tests/flush_buffer.c => flush_buffer.c (100%)\n"
     ]
    },
    {
     "name": "stderr",
     "output_type": "stream",
     "text": [
      "To https://github.com/elkomysara/printf\n",
      "   144ee33..9f9aa53  main -> main\n"
     ]
    }
   ],
   "source": [
    "%%bash\n",
    "git add .\n",
    "git commit -m \"alx-low_level_programming/0x0D-preprocessor/0-putchar\"\n",
    "git push"
   ]
  },
  {
   "cell_type": "markdown",
   "metadata": {},
   "source": [
    "###\n",
    "---\n",
    "<center>\n",
    "<h4>5. My weakness is wearing too much leopard print</h4>\n",
    "</center>\n",
    "\n",
    "---"
   ]
  },
  {
   "cell_type": "markdown",
   "metadata": {},
   "source": [
    "\n",
    "#### Handle the following custom conversion specifier:\n",
    "\n",
    "* `S` : prints the string.\n",
    "* Non printable characters (0 < ASCII value < 32 or >= 127) are printed this way: `\\x`, followed by the ASCII code value in hexadecimal (upper case - always 2 characters)\n",
    "\n",
    "```bash\n",
    "alex@ubuntu:~/c/printf$ cat main.c\n",
    "#include \"main.h\"\n",
    "\n",
    "/**\n",
    " * main - Entry point\n",
    " *\n",
    " * Return: Always 0\n",
    " */\n",
    "int main(void)\n",
    "{\n",
    "    _printf(\"%S\\n\", \"Best\\nSchool\");\n",
    "    return (0);\n",
    "}\n",
    "alex@ubuntu:~/c/printf$ gcc -Wall -Wextra -Werror -pedantic -std=gnu89 main.c\n",
    "alex@ubuntu:~/c/printf$ ./a.out\n",
    "Best\\x0ASchool\n",
    "alex@ubuntu:~/c/printf$\n",
    "```\n",
    "\n",
    "\n",
    "\n",
    "#### Repo:\n",
    "* GitHub repository: ``` printf```"
   ]
  },
  {
   "cell_type": "code",
   "execution_count": 511,
   "metadata": {},
   "outputs": [
    {
     "name": "stdout",
     "output_type": "stream",
     "text": [
      "Overwriting /home/elkomy/alx/printf/_printf.c\n"
     ]
    }
   ],
   "source": [
    "%%file /home/elkomy/alx/printf/_printf.c\n",
    "#include \"main.h\"\n",
    "#include <unistd.h>\n",
    "\n",
    "/**\n",
    "* _printf - Receives the main string and all the necessary parameters to\n",
    "* print a formatted string\n",
    "* @format: A string containing all the desired characters\n",
    "* Return: A total count of the characters printed\n",
    "*/\n",
    "int _printf(const char *format, ...)\n",
    "{\n",
    "va_list arg_list;\n",
    "int printed_chars = 0;\n",
    "char buffer[1024];\n",
    "int index = 0;\n",
    "\n",
    "conver_t f_list[] = {\n",
    "{\"%\", print_percent},\n",
    "{\"c\", print_char},\n",
    "{\"s\", print_string},\n",
    "{\"d\", print_integer},\n",
    "{\"i\", print_integer},\n",
    "{\"b\", print_binary},\n",
    "{\"u\", print_unsigned},\n",
    "{\"o\", print_octal},\n",
    "{\"x\", print_hex},\n",
    "{\"X\", print_HEX},\n",
    "{\"S\", print_special_string},\n",
    "{NULL, NULL}\n",
    "};\n",
    "\n",
    "va_start(arg_list, format);\n",
    "printed_chars = format_reciever(format, f_list, arg_list, buffer, &index);\n",
    "va_end(arg_list);\n",
    "\n",
    "buffer[index] = '\\0';\n",
    "write(1, buffer, index);\n",
    "\n",
    "return (printed_chars);\n",
    "}\n"
   ]
  },
  {
   "cell_type": "code",
   "execution_count": 217,
   "metadata": {},
   "outputs": [
    {
     "name": "stdout",
     "output_type": "stream",
     "text": [
      "Overwriting /home/elkomy/alx/printf/print_special_string.c\n"
     ]
    }
   ],
   "source": [
    "%%file /home/elkomy/alx/printf/print_special_string.c\n",
    "#include \"main.h\"\n",
    "#include <stdio.h>\n",
    "\n",
    "\n",
    "/**\n",
    " * print_special_string - Prints a special string\n",
    " * @list: List of arguments\n",
    " * @buffer: Buffer to store characters\n",
    " * @index: Current index in the buffer\n",
    " * @flags: Flags for formatting\n",
    " * Return: Number of characters printed\n",
    " */\n",
    "int print_special_string(va_list list, char *buffer, int *index, flags_t flags)\n",
    "{\n",
    "    char *str = va_arg(list, char *);\n",
    "    int i = 0, count = 0;\n",
    "\n",
    "    (void)flags; // Suppress unused parameter warning\n",
    "\n",
    "    while (str[i])\n",
    "    {\n",
    "        if ((str[i] > 0 && str[i] < 32) || str[i] >= 127)\n",
    "        {\n",
    "            count += sprintf(&buffer[*index], \"\\\\x%02X\", str[i]);\n",
    "            *index += 4;\n",
    "        }\n",
    "        else\n",
    "        {\n",
    "            _putchar(str[i], buffer, index);\n",
    "            count++;\n",
    "        }\n",
    "        i++;\n",
    "    }\n",
    "\n",
    "    return count;\n",
    "}\n"
   ]
  },
  {
   "cell_type": "code",
   "execution_count": 218,
   "metadata": {},
   "outputs": [
    {
     "name": "stdout",
     "output_type": "stream",
     "text": [
      "Overwriting /home/elkomy/alx/printf/format_reciever.c\n"
     ]
    }
   ],
   "source": [
    "%%file /home/elkomy/alx/printf/format_reciever.c\n",
    "#include \"main.h\"\n",
    "#include <stdio.h>\n",
    "\n",
    "/**\n",
    " * format_reciever - Receives the main string and all the necessary parameters to\n",
    " * print a formatted string\n",
    " * @format: A string containing all the desired characters\n",
    " * @f_list: A list of format specifiers and their corresponding functions\n",
    " * @arg_list: A list of arguments to be printed\n",
    " * @buffer: Buffer to store the formatted string\n",
    " * @index: Current index in the buffer\n",
    " * Return: A total count of the characters printed\n",
    " */\n",
    "int format_reciever(const char *format, conver_t f_list[], va_list arg_list, char *buffer, int *index)\n",
    "{\n",
    "    int i = 0, j, count = 0;\n",
    "\n",
    "    while (format && format[i])\n",
    "    {\n",
    "        if (format[i] == '%')\n",
    "        {\n",
    "            i++;\n",
    "            for (j = 0; f_list[j].specifier != NULL; j++)\n",
    "            {\n",
    "                if (format[i] == f_list[j].specifier[0])\n",
    "                {\n",
    "                    count += f_list[j].f(arg_list, buffer, index);\n",
    "                    break;\n",
    "                }\n",
    "            }\n",
    "            if (f_list[j].specifier == NULL)\n",
    "            {\n",
    "                buffer[*index] = '%';\n",
    "                buffer[*index + 1] = format[i];\n",
    "                *index += 2;\n",
    "                count += 2;\n",
    "            }\n",
    "        }\n",
    "        else\n",
    "        {\n",
    "            buffer[*index] = format[i];\n",
    "            (*index)++;\n",
    "            count++;\n",
    "        }\n",
    "        i++;\n",
    "    }\n",
    "    return (count);\n",
    "}\n"
   ]
  },
  {
   "cell_type": "code",
   "execution_count": 219,
   "metadata": {},
   "outputs": [
    {
     "name": "stdout",
     "output_type": "stream",
     "text": [
      "Overwriting /home/elkomy/alx/printf/main.h\n"
     ]
    }
   ],
   "source": [
    "%%file /home/elkomy/alx/printf/main.h\n",
    "#ifndef MAIN_H\n",
    "#define MAIN_H\n",
    "\n",
    "#include <stdarg.h>\n",
    "#include <stdlib.h>\n",
    "\n",
    "typedef struct converter {\n",
    "    char *specifier;\n",
    "    int (*f)(va_list, char *, int *);\n",
    "} conver_t;\n",
    "\n",
    "int _printf(const char *format, ...);\n",
    "int _putchar(char c, char *buffer, int *index);\n",
    "int _puts(char *str, char *buffer, int *index);\n",
    "int format_reciever(const char *format, conver_t f_list[], va_list arg_list, char *buffer, int *index);\n",
    "int print_char(va_list list, char *buffer, int *index);\n",
    "int print_string(va_list list, char *buffer, int *index);\n",
    "int print_percent(va_list list, char *buffer, int *index);\n",
    "int print_integer(va_list list, char *buffer, int *index);\n",
    "int print_number(int n, char *buffer, int *index);\n",
    "int print_binary(va_list list, char *buffer, int *index);\n",
    "int print_unsigned(va_list list, char *buffer, int *index);\n",
    "int print_octal(va_list list, char *buffer, int *index);\n",
    "int print_hex(va_list list, char *buffer, int *index);\n",
    "int print_HEX(va_list list, char *buffer, int *index);\n",
    "int print_special_string(va_list list, char *buffer, int *index); \n",
    "char *convert(unsigned long int num, int base, int lowercase);\n",
    "\n",
    "#endif /* MAIN_H */\n"
   ]
  },
  {
   "cell_type": "code",
   "execution_count": 220,
   "metadata": {},
   "outputs": [
    {
     "name": "stdout",
     "output_type": "stream",
     "text": [
      "Overwriting /home/elkomy/alx/printf/tests/main.c\n"
     ]
    }
   ],
   "source": [
    "%%file /home/elkomy/alx/printf/tests/main.c\n",
    "#include \"../main.h\"\n",
    "\n",
    "/**\n",
    " * main - Entry point\n",
    " *\n",
    " * Return: Always 0\n",
    " */\n",
    "int main(void)\n",
    "{\n",
    "    _printf(\"%S\\n\", \"Best\\nSchool\");\n",
    "    return (0);\n",
    "}"
   ]
  },
  {
   "cell_type": "code",
   "execution_count": 221,
   "metadata": {},
   "outputs": [
    {
     "name": "stdout",
     "output_type": "stream",
     "text": [
      "Overwriting /home/elkomy/alx/printf/_putchar.c\n"
     ]
    }
   ],
   "source": [
    "%%file /home/elkomy/alx/printf/_putchar.c\n",
    "#include \"main.h\"\n",
    "#include <unistd.h> \n",
    "\n",
    "/**\n",
    " * _putchar - Writes the character c to stdout\n",
    " * @c: The character to print\n",
    " * @buffer: Buffer to store characters\n",
    " * @index: Current index in the buffer\n",
    " * Return: On success 1.\n",
    " * On error, -1 is returned, and errno is set appropriately.\n",
    " */\n",
    "int _putchar(char c, char *buffer, int *index)\n",
    "{\n",
    "    if (*index >= 1024)\n",
    "    {\n",
    "        write(1, buffer, *index);\n",
    "        *index = 0;\n",
    "    }\n",
    "\n",
    "    buffer[*index] = c;\n",
    "    (*index)++;\n",
    "\n",
    "    return (1);\n",
    "}\n"
   ]
  },
  {
   "cell_type": "code",
   "execution_count": 222,
   "metadata": {},
   "outputs": [
    {
     "name": "stdout",
     "output_type": "stream",
     "text": [
      "Overwriting /home/elkomy/alx/printf/flush_buffer.c\n"
     ]
    }
   ],
   "source": [
    "%%file /home/elkomy/alx/printf/flush_buffer.c\n",
    "#include \"main.h\"\n",
    "#include <unistd.h> \n",
    "\n",
    "/**\n",
    " * flush_buffer - Writes the content of the buffer to stdout\n",
    " * @buffer: Buffer to store characters\n",
    " * @index: Current index in the buffer\n",
    " * Return: void\n",
    " */\n",
    "void flush_buffer(char *buffer, int *index)\n",
    "{\n",
    "    if (*index > 0)\n",
    "    {\n",
    "        write(1, buffer, *index);\n",
    "        *index = 0;\n",
    "    }\n",
    "}\n"
   ]
  },
  {
   "cell_type": "code",
   "execution_count": 223,
   "metadata": {},
   "outputs": [
    {
     "name": "stderr",
     "output_type": "stream",
     "text": [
      "_printf.c: In function ‘_printf’:\n",
      "_printf.c:29:7: error: ‘print_pointer’ undeclared (first use in this function); did you mean ‘print_integer’?\n",
      "   29 | {\"p\", print_pointer},\n",
      "      |       ^~~~~~~~~~~~~\n",
      "      |       print_integer\n",
      "_printf.c:29:7: note: each undeclared identifier is reported only once for each function it appears in\n",
      "_printf.c:29:1: error: missing initializer for field ‘f’ of ‘conver_t’ {aka ‘struct converter’} [-Werror=missing-field-initializers]\n",
      "   29 | {\"p\", print_pointer},\n",
      "      | ^\n",
      "In file included from _printf.c:1:\n"
     ]
    },
    {
     "name": "stderr",
     "output_type": "stream",
     "text": [
      "main.h:9:11: note: ‘f’ declared here\n",
      "    9 |     int (*f)(va_list, char *, int *);\n",
      "      |           ^\n",
      "cc1: all warnings being treated as errors\n",
      "parse_flags.c:3:1: error: unknown type name ‘flags_t’\n",
      "    3 | flags_t parse_flags(const char *format, int *i)\n",
      "      | ^~~~~~~\n",
      "parse_flags.c: In function ‘parse_flags’:\n",
      "parse_flags.c:5:5: error: unknown type name ‘flags_t’\n",
      "    5 |     flags_t flags = {0, 0, 0};\n",
      "      |     ^~~~~~~\n",
      "parse_flags.c:5:25: error: excess elements in scalar initializer [-Werror]\n",
      "    5 |     flags_t flags = {0, 0, 0};\n",
      "      |                         ^\n",
      "parse_flags.c:5:25: note: (near initialization for ‘flags’)\n",
      "parse_flags.c:5:28: error: excess elements in scalar initializer [-Werror]\n",
      "    5 |     flags_t flags = {0, 0, 0};\n",
      "      |                            ^\n",
      "parse_flags.c:5:28: note: (near initialization for ‘flags’)\n",
      "parse_flags.c:9:18: error: request for member ‘plus’ in something not a structure or union\n",
      "    9 |             flags.plus = 1;\n",
      "      |                  ^\n",
      "parse_flags.c:11:18: error: request for member ‘space’ in something not a structure or union\n",
      "   11 |             flags.space = 1;\n",
      "      |                  ^\n",
      "parse_flags.c:13:18: error: request for member ‘hash’ in something not a structure or union\n",
      "   13 |             flags.hash = 1;\n",
      "      |                  ^\n",
      "cc1: all warnings being treated as errors\n",
      "print_HEX.c:13:55: error: unknown type name ‘flags_t’\n",
      "   13 | int print_HEX(va_list list, char *buffer, int *index, flags_t flags)\n",
      "      |                                                       ^~~~~~~\n",
      "print_binary.c:12:58: error: unknown type name ‘flags_t’\n",
      "   12 | int print_binary(va_list list, char *buffer, int *index, flags_t flags)\n",
      "      |                                                          ^~~~~~~\n",
      "print_char.c:12:56: error: unknown type name ‘flags_t’\n",
      "   12 | int print_char(va_list list, char *buffer, int *index, flags_t flags)\n",
      "      |                                                        ^~~~~~~\n",
      "print_hex.c:12:55: error: unknown type name ‘flags_t’\n",
      "   12 | int print_hex(va_list list, char *buffer, int *index, flags_t flags)\n",
      "      |                                                       ^~~~~~~\n",
      "print_integer.c:58:59: error: unknown type name ‘flags_t’\n",
      "   58 | int print_integer(va_list list, char *buffer, int *index, flags_t flags)\n",
      "      |                                                           ^~~~~~~\n",
      "print_non_printable.c:12:65: error: unknown type name ‘flags_t’\n",
      "   12 | int print_non_printable(va_list list, char *buffer, int *index, flags_t flags)\n",
      "      |                                                                 ^~~~~~~\n",
      "print_octal.c:12:57: error: unknown type name ‘flags_t’\n",
      "   12 | int print_octal(va_list list, char *buffer, int *index, flags_t flags)\n",
      "      |                                                         ^~~~~~~\n",
      "print_percent.c:12:59: error: unknown type name ‘flags_t’\n",
      "   12 | int print_percent(va_list list, char *buffer, int *index, flags_t flags)\n",
      "      |                                                           ^~~~~~~\n",
      "print_pointer.c:15:59: error: unknown type name ‘flags_t’\n",
      "   15 | int print_pointer(va_list list, char *buffer, int *index, flags_t flags)\n",
      "      |                                                           ^~~~~~~\n",
      "print_reverse.c:13:59: error: unknown type name ‘flags_t’\n",
      "   13 | int print_reverse(va_list list, char *buffer, int *index, flags_t flags)\n",
      "      |                                                           ^~~~~~~\n",
      "print_rot13.c:13:57: error: unknown type name ‘flags_t’\n",
      "   13 | int print_rot13(va_list list, char *buffer, int *index, flags_t flags)\n",
      "      |                                                         ^~~~~~~\n",
      "print_special_string.c:13:66: error: unknown type name ‘flags_t’\n",
      "   13 | int print_special_string(va_list list, char *buffer, int *index, flags_t flags)\n",
      "      |                                                                  ^~~~~~~\n",
      "print_special_string.c:18:18: error: C++ style comments are not allowed in ISO C90 [-Werror]\n",
      "   18 |     (void)flags; // Suppress unused parameter warning\n",
      "      |                  ^\n",
      "print_special_string.c:18:18: note: (this will be reported only once per input file)\n",
      "cc1: all warnings being treated as errors\n",
      "print_string.c:12:58: error: unknown type name ‘flags_t’\n",
      "   12 | int print_string(va_list list, char *buffer, int *index, flags_t flags)\n",
      "      |                                                          ^~~~~~~\n",
      "print_unsigned.c:12:60: error: unknown type name ‘flags_t’\n",
      "   12 | int print_unsigned(va_list list, char *buffer, int *index, flags_t flags)\n",
      "      |                                                            ^~~~~~~\n"
     ]
    },
    {
     "name": "stdout",
     "output_type": "stream",
     "text": [
      "Pointer address: 0x7ffe637541f0\n",
      "Best\\x0ASchool\n"
     ]
    }
   ],
   "source": [
    "%%bash\n",
    "cd /home/elkomy/alx/printf\n",
    "gcc -Wall -Wextra -Werror -pedantic -std=gnu89 -Wno-format *.c tests/main.c -o printf\n",
    "./printf\n"
   ]
  },
  {
   "cell_type": "code",
   "execution_count": 224,
   "metadata": {},
   "outputs": [
    {
     "name": "stdout",
     "output_type": "stream",
     "text": [
      "[main 71e2fc1] alx-low_level_programming/0x0D-preprocessor/0-putchar\n",
      " 20 files changed, 4436 insertions(+), 4859 deletions(-)\n",
      " rewrite 0x11. C - printf.ipynb (67%)\n",
      " create mode 100644 convert.c\n",
      " rewrite main.h (74%)\n",
      " create mode 100644 parse_flags.c\n",
      " rewrite print_integer.c (91%)\n",
      " create mode 100644 print_non_printable.c\n",
      " rewrite print_octal.c (86%)\n",
      " rewrite print_percent.c (77%)\n",
      " rewrite print_pointer.c (70%)\n",
      " create mode 100644 print_reverse.c\n",
      " create mode 100644 print_rot13.c\n",
      " rewrite print_special_string.c (73%)\n",
      " rewrite print_unsigned.c (70%)\n"
     ]
    },
    {
     "name": "stderr",
     "output_type": "stream",
     "text": [
      "To https://github.com/elkomysara/printf\n",
      "   86549d3..71e2fc1  main -> main\n"
     ]
    }
   ],
   "source": [
    "%%bash\n",
    "git add .\n",
    "git commit -m \"alx-low_level_programming/0x0D-preprocessor/0-putchar\"\n",
    "git push"
   ]
  },
  {
   "cell_type": "code",
   "execution_count": null,
   "metadata": {},
   "outputs": [],
   "source": []
  },
  {
   "cell_type": "markdown",
   "metadata": {},
   "source": [
    "###\n",
    "---\n",
    "<center>\n",
    "<h4>6. How is the world ruled and led to war? Diplomats lie to journalists and believe these lies when they see them in print</h4>\n",
    "</center>\n",
    "\n",
    "---"
   ]
  },
  {
   "cell_type": "markdown",
   "metadata": {},
   "source": [
    "\n",
    "#### Handle the following conversion specifier: `p`.\n",
    "\n",
    "* You don’t have to handle the flag characters\n",
    "* You don’t have to handle field width\n",
    "* You don’t have to handle precision\n",
    "* You don’t have to handle the length modifiers\n",
    "\n",
    "#### Repo:\n",
    "* GitHub repository: ``` printf```"
   ]
  },
  {
   "cell_type": "code",
   "execution_count": 524,
   "metadata": {},
   "outputs": [
    {
     "name": "stdout",
     "output_type": "stream",
     "text": [
      "Overwriting /home/elkomy/alx/printf/_printf.c\n"
     ]
    }
   ],
   "source": [
    "%%file /home/elkomy/alx/printf/_printf.c\n",
    "#include \"main.h\"\n",
    "#include <unistd.h>\n",
    "\n",
    "/**\n",
    "* _printf - Receives the main string and all the necessary parameters to\n",
    "* print a formatted string\n",
    "* @format: A string containing all the desired characters\n",
    "* Return: A total count of the characters printed\n",
    "*/\n",
    "int _printf(const char *format, ...)\n",
    "{\n",
    "va_list arg_list;\n",
    "int printed_chars = 0;\n",
    "char buffer[1024];\n",
    "int index = 0;\n",
    "\n",
    "conver_t f_list[] = {\n",
    "{\"%\", print_percent},\n",
    "{\"c\", print_char},\n",
    "{\"s\", print_string},\n",
    "{\"d\", print_integer},\n",
    "{\"i\", print_integer},\n",
    "{\"b\", print_binary},\n",
    "{\"u\", print_unsigned},\n",
    "{\"o\", print_octal},\n",
    "{\"x\", print_hex},\n",
    "{\"X\", print_HEX},\n",
    "{\"S\", print_special_string},\n",
    "{\"p\", print_pointer},\n",
    "{NULL, NULL}\n",
    "};\n",
    "\n",
    "va_start(arg_list, format);\n",
    "printed_chars = format_reciever(format, f_list, arg_list, buffer, &index);\n",
    "va_end(arg_list);\n",
    "\n",
    "buffer[index] = '\\0';\n",
    "write(1, buffer, index);\n",
    "\n",
    "return (printed_chars);\n",
    "}\n"
   ]
  },
  {
   "cell_type": "code",
   "execution_count": 525,
   "metadata": {},
   "outputs": [
    {
     "name": "stdout",
     "output_type": "stream",
     "text": [
      "Overwriting /home/elkomy/alx/printf/print_pointer.c\n"
     ]
    }
   ],
   "source": [
    "%%file /home/elkomy/alx/printf/print_pointer.c\n",
    "#include \"main.h\"\n",
    "#include <stdio.h>\n",
    "\n",
    "/**\n",
    " * print_pointer - Prints a pointer address\n",
    " * @list: list of arguments\n",
    " * @buffer: buffer to store characters\n",
    " * @index: current index in the buffer\n",
    " * Return: The number of characters printed\n",
    " */\n",
    "int print_pointer(va_list list, char *buffer, int *index)\n",
    "{\n",
    "    void *ptr = va_arg(list, void *);\n",
    "    unsigned long int addr = (unsigned long int)ptr;\n",
    "    char *hex_str;\n",
    "    int num_chars = 0;\n",
    "\n",
    "    if (ptr == NULL)\n",
    "    {\n",
    "        return (_puts(\"(nil)\", buffer, index));\n",
    "    }\n",
    "\n",
    "    _puts(\"0x\", buffer, index);\n",
    "    num_chars += 2;\n",
    "\n",
    "    hex_str = convert(addr, 16, 1);\n",
    "    num_chars += _puts(hex_str, buffer, index);\n",
    "\n",
    "    return (num_chars);\n",
    "}\n"
   ]
  },
  {
   "cell_type": "code",
   "execution_count": null,
   "metadata": {},
   "outputs": [
    {
     "name": "stdout",
     "output_type": "stream",
     "text": [
      "Overwriting /home/elkomy/alx/printf/format_reciever.c\n"
     ]
    }
   ],
   "source": [
    "%%file /home/elkomy/alx/printf/format_reciever.c\n",
    "#include \"main.h\"\n",
    "#include <stdio.h>\n",
    "\n",
    "/**\n",
    " * format_reciever - Receives the main string and all the necessary parameters to\n",
    " * print a formatted string\n",
    " * @format: A string containing all the desired characters\n",
    " * @f_list: A list of format specifiers and their corresponding functions\n",
    " * @arg_list: A list of arguments to be printed\n",
    " * @buffer: Buffer to store the formatted string\n",
    " * @index: Current index in the buffer\n",
    " * Return: A total count of the characters printed\n",
    " */\n",
    "int format_reciever(const char *format, conver_t f_list[], va_list arg_list, char *buffer, int *index)\n",
    "{\n",
    "    int i = 0, j, count = 0;\n",
    "\n",
    "    while (format && format[i])\n",
    "    {\n",
    "        if (format[i] == '%')\n",
    "        {\n",
    "            i++;\n",
    "            for (j = 0; f_list[j].specifier != NULL; j++)\n",
    "            {\n",
    "                if (format[i] == f_list[j].specifier[0])\n",
    "                {\n",
    "                    count += f_list[j].f(arg_list, buffer, index);\n",
    "                    break;\n",
    "                }\n",
    "            }\n",
    "            if (f_list[j].specifier == NULL)\n",
    "            {\n",
    "                buffer[*index] = '%';\n",
    "                buffer[*index + 1] = format[i];\n",
    "                *index += 2;\n",
    "                count += 2;\n",
    "            }\n",
    "        }\n",
    "        else\n",
    "        {\n",
    "            buffer[*index] = format[i];\n",
    "            (*index)++;\n",
    "            count++;\n",
    "        }\n",
    "        i++;\n",
    "    }\n",
    "    return (count);\n",
    "}\n"
   ]
  },
  {
   "cell_type": "code",
   "execution_count": 526,
   "metadata": {},
   "outputs": [
    {
     "name": "stdout",
     "output_type": "stream",
     "text": [
      "Overwriting /home/elkomy/alx/printf/main.h\n"
     ]
    }
   ],
   "source": [
    "%%file /home/elkomy/alx/printf/main.h\n",
    "#ifndef MAIN_H\n",
    "#define MAIN_H\n",
    "\n",
    "#include <stdarg.h>\n",
    "#include <stdlib.h>\n",
    "\n",
    "typedef struct converter {\n",
    "    char *specifier;\n",
    "    int (*f)(va_list, char *, int *);\n",
    "} conver_t;\n",
    "\n",
    "int _printf(const char *format, ...);\n",
    "int _putchar(char c, char *buffer, int *index);\n",
    "int _puts(char *str, char *buffer, int *index);\n",
    "int format_reciever(const char *format, conver_t f_list[], va_list arg_list, char *buffer, int *index);\n",
    "int print_char(va_list list, char *buffer, int *index);\n",
    "int print_string(va_list list, char *buffer, int *index);\n",
    "int print_percent(va_list list, char *buffer, int *index);\n",
    "int print_integer(va_list list, char *buffer, int *index);\n",
    "int print_number(int n, char *buffer, int *index);\n",
    "int print_binary(va_list list, char *buffer, int *index);\n",
    "int print_unsigned(va_list list, char *buffer, int *index);\n",
    "int print_octal(va_list list, char *buffer, int *index);\n",
    "int print_hex(va_list list, char *buffer, int *index);\n",
    "int print_HEX(va_list list, char *buffer, int *index);\n",
    "int print_special_string(va_list list, char *buffer, int *index);\n",
    "char *convert(unsigned long int num, int base, int lowercase);\n",
    "int print_pointer(va_list list, char *buffer, int *index);\n",
    "\n",
    "#endif /* MAIN_H */\n"
   ]
  },
  {
   "cell_type": "code",
   "execution_count": 527,
   "metadata": {},
   "outputs": [
    {
     "name": "stdout",
     "output_type": "stream",
     "text": [
      "Overwriting /home/elkomy/alx/printf/tests/main.c\n"
     ]
    }
   ],
   "source": [
    "%%file /home/elkomy/alx/printf/tests/main.c\n",
    "#include \"../main.h\"\n",
    "\n",
    "/**\n",
    " * main - Entry point\n",
    " *\n",
    " * Return: Always 0\n",
    " */\n",
    "int main(void)\n",
    "{\n",
    "    int *ptr = (int *)0x7ffe637541f0;\n",
    "\n",
    "    _printf(\"Pointer address: %p\\n\", ptr);\n",
    "    _printf(\"%S\\n\", \"Best\\nSchool\");\n",
    "    return (0);\n",
    "}"
   ]
  },
  {
   "cell_type": "code",
   "execution_count": 528,
   "metadata": {},
   "outputs": [
    {
     "name": "stdout",
     "output_type": "stream",
     "text": [
      "\n",
      "========== /home/elkomy/alx/printf/_printf.c ==========\n",
      "_printf\n",
      "Pointer address: 0x7ffe637541f0\n",
      "Best\\x0ASchool\n"
     ]
    }
   ],
   "source": [
    "\n",
    "!betty /home/elkomy/alx/printf/_printf.c\n",
    "!gcc -Wall -Werror -Wextra -pedantic -std=gnu89 -Wno-format /home/elkomy/alx/printf/*.c /home/elkomy/alx/printf/tests/main.c -o /home/elkomy/alx/printf/printf\n",
    "!./printf\n"
   ]
  },
  {
   "cell_type": "code",
   "execution_count": 529,
   "metadata": {},
   "outputs": [
    {
     "name": "stdout",
     "output_type": "stream",
     "text": [
      "[main 42d887a] alx-low_level_programming/0x0D-preprocessor/0-putchar\n",
      " 5 files changed, 36 insertions(+), 1 deletion(-)\n",
      " create mode 100644 print_pointer.c\n"
     ]
    },
    {
     "name": "stderr",
     "output_type": "stream",
     "text": [
      "To https://github.com/elkomysara/printf\n",
      "   5a53f46..42d887a  main -> main\n"
     ]
    }
   ],
   "source": [
    "%%bash\n",
    "git add .\n",
    "git commit -m \"alx-low_level_programming/0x0D-preprocessor/0-putchar\"\n",
    "git push"
   ]
  },
  {
   "cell_type": "code",
   "execution_count": null,
   "metadata": {},
   "outputs": [],
   "source": []
  },
  {
   "cell_type": "markdown",
   "metadata": {},
   "source": [
    "###\n",
    "---\n",
    "<center>\n",
    "<h4>7. The big print gives and the small print takes away</h4>\n",
    "</center>\n",
    "\n",
    "---"
   ]
  },
  {
   "cell_type": "markdown",
   "metadata": {},
   "source": [
    "\n",
    "#### Handle the following flag characters for non-custom conversion specifiers:\n",
    "\n",
    "* `+`\n",
    "* space\n",
    "* `#`\n",
    "\n",
    "#### Repo:\n",
    "* GitHub repository: ``` printf```"
   ]
  },
  {
   "cell_type": "code",
   "execution_count": 42,
   "metadata": {},
   "outputs": [
    {
     "name": "stdout",
     "output_type": "stream",
     "text": [
      "Overwriting /home/elkomy/alx/printf/_printf.c\n"
     ]
    }
   ],
   "source": [
    "%%file /home/elkomy/alx/printf/_printf.c\n",
    "#include \"main.h\"\n",
    "#include <unistd.h>\n",
    "\n",
    "/**\n",
    "* _printf - Receives the main string and all the necessary parameters to\n",
    "* print a formatted string\n",
    "* @format: A string containing all the desired characters\n",
    "* Return: A total count of the characters printed\n",
    "*/\n",
    "int _printf(const char *format, ...)\n",
    "{\n",
    "va_list arg_list;\n",
    "int printed_chars = 0;\n",
    "char buffer[1024];\n",
    "int index = 0;\n",
    "\n",
    "conver_t f_list[] = {\n",
    "{\"%\", print_percent},\n",
    "{\"c\", print_char},\n",
    "{\"s\", print_string},\n",
    "{\"d\", print_integer},\n",
    "{\"i\", print_integer},\n",
    "{\"b\", print_binary},\n",
    "{\"u\", print_unsigned},\n",
    "{\"o\", print_octal},\n",
    "{\"x\", print_hex},\n",
    "{\"X\", print_HEX},\n",
    "{\"S\", print_special_string},\n",
    "{\"p\", print_pointer},\n",
    "{NULL, NULL}\n",
    "};\n",
    "\n",
    "va_start(arg_list, format);\n",
    "printed_chars = format_reciever(format, f_list, arg_list, buffer, &index);\n",
    "va_end(arg_list);\n",
    "\n",
    "buffer[index] = '\\0';\n",
    "write(1, buffer, index);\n",
    "\n",
    "return (printed_chars);\n",
    "}\n"
   ]
  },
  {
   "cell_type": "code",
   "execution_count": 1,
   "metadata": {},
   "outputs": [
    {
     "name": "stdout",
     "output_type": "stream",
     "text": [
      "Overwriting /home/elkomy/alx/printf/format_reciever.c\n"
     ]
    }
   ],
   "source": [
    "%%file /home/elkomy/alx/printf/format_reciever.c\n",
    "#include \"main.h\"\n",
    "#include <stdio.h>\n",
    "\n",
    "/**\n",
    " * format_reciever - Receives the main string and necessary parameters to\n",
    " * print a formatted string\n",
    " * @format: A string containing all the desired characters\n",
    " * @f_list: List of format specifiers and their corresponding functions\n",
    " * @arg_list: List of arguments\n",
    " * @buffer: Buffer to store characters\n",
    " * @index: Current index in the buffer\n",
    " * Return: Number of characters printed\n",
    " */\n",
    "int format_reciever(const char *format, conver_t f_list[], va_list arg_list, char *buffer, int *index)\n",
    "{\n",
    "    int i = 0, j, printed_chars = 0;\n",
    "    flags_t flags;\n",
    "\n",
    "    while (format[i])\n",
    "    {\n",
    "        if (format[i] == '%')\n",
    "        {\n",
    "            i++;\n",
    "            flags = parse_flags(format, &i);\n",
    "\n",
    "            for (j = 0; f_list[j].sym != NULL; j++)\n",
    "            {\n",
    "                if (format[i] == f_list[j].sym[0])\n",
    "                {\n",
    "                    printed_chars += f_list[j].f(arg_list, buffer, index, flags);\n",
    "                    break;\n",
    "                }\n",
    "            }\n",
    "            if (f_list[j].sym == NULL)\n",
    "            {\n",
    "                _putchar('%', buffer, index);\n",
    "                _putchar(format[i], buffer, index);\n",
    "                printed_chars += 2;\n",
    "            }\n",
    "            i++;\n",
    "        }\n",
    "        else\n",
    "        {\n",
    "            _putchar(format[i], buffer, index);\n",
    "            printed_chars++;\n",
    "            i++;\n",
    "        }\n",
    "    }\n",
    "    return (printed_chars);\n",
    "}"
   ]
  },
  {
   "cell_type": "code",
   "execution_count": 2,
   "metadata": {},
   "outputs": [
    {
     "name": "stdout",
     "output_type": "stream",
     "text": [
      "Overwriting /home/elkomy/alx/printf/main.h\n"
     ]
    }
   ],
   "source": [
    "%%file /home/elkomy/alx/printf/main.h\n",
    "#ifndef MAIN_H\n",
    "#define MAIN_H\n",
    "\n",
    "#include <stdarg.h>\n",
    "#include <stdlib.h>\n",
    "#include <unistd.h>\n",
    "\n",
    "/**\n",
    " * struct flags - struct containing flags to \"turn on\"\n",
    " * when a flag specifier is passed to _printf()\n",
    " * @plus: flag for the '+' character\n",
    " * @space: flag for the ' ' character\n",
    " * @hash: flag for the '#' character\n",
    " */\n",
    "typedef struct flags\n",
    "{\n",
    "    int plus;\n",
    "    int space;\n",
    "    int hash;\n",
    "} flags_t;\n",
    "\n",
    "/**\n",
    " * struct convert - struct for symbols and functions\n",
    " * @sym: The operator\n",
    " * @f: The function associated\n",
    " */\n",
    "typedef struct convert\n",
    "{\n",
    "    char *sym;\n",
    "    int (*f)(va_list, char *, int *, flags_t);\n",
    "} conver_t;\n",
    "\n",
    "int _printf(const char *format, ...);\n",
    "int format_reciever(const char *format, conver_t f_list[], va_list arg_list, char *buffer, int *index);\n",
    "int _putchar(char c, char *buffer, int *index);\n",
    "char *convert(unsigned long int num, int base, int lowercase);\n",
    "flags_t parse_flags(const char *format, int *i);\n",
    "\n",
    "/* Function prototypes */\n",
    "int _printf(const char *format, ...);\n",
    "int print_char(va_list l, char *buf, int *i, flags_t);\n",
    "int print_string(va_list l, char *buf, int *i, flags_t);\n",
    "int print_percent(va_list l, char *buf, int *i, flags_t);\n",
    "int print_integer(va_list l, char *buf, int *i, flags_t);\n",
    "int print_unsigned(va_list l, char *buf, int *i, flags_t);\n",
    "int print_binary(va_list l, char *buf, int *i, flags_t);\n",
    "int print_octal(va_list l, char *buf, int *i, flags_t);\n",
    "int print_hex(va_list l, char *buf, int *i, flags_t);\n",
    "int print_HEX(va_list l, char *buf, int *i, flags_t);\n",
    "int print_pointer(va_list l, char *buf, int *i, flags_t);\n",
    "int print_reverse(va_list l, char *buf, int *i, flags_t);\n",
    "int print_rot13(va_list l, char *buf, int *i, flags_t);\n",
    "int print_non_printable(va_list l, char *buf, int *i, flags_t);\n",
    "int print_special_string(va_list, char *, int *, flags_t);\n",
    "\n",
    "#endif /* MAIN_H */\n"
   ]
  },
  {
   "cell_type": "code",
   "execution_count": 234,
   "metadata": {},
   "outputs": [
    {
     "name": "stdout",
     "output_type": "stream",
     "text": [
      "Overwriting /home/elkomy/alx/printf/parse_flags.c\n"
     ]
    }
   ],
   "source": [
    "%%file /home/elkomy/alx/printf/parse_flags.c\n",
    "#include \"main.h\"\n",
    "\n",
    "flags_t parse_flags(const char *format, int *i)\n",
    "{\n",
    "    flags_t flags = {0, 0, 0};\n",
    "\n",
    "    while (format[*i])\n",
    "    {\n",
    "        if (format[*i] == '+')\n",
    "            flags.plus = 1;\n",
    "        else if (format[*i] == ' ')\n",
    "            flags.space = 1;\n",
    "        else if (format[*i] == '#')\n",
    "            flags.hash = 1;\n",
    "        else\n",
    "            break;\n",
    "        (*i)++;\n",
    "    }\n",
    "\n",
    "    return flags;\n",
    "}\n"
   ]
  },
  {
   "cell_type": "code",
   "execution_count": 236,
   "metadata": {},
   "outputs": [
    {
     "name": "stdout",
     "output_type": "stream",
     "text": [
      "Overwriting /home/elkomy/alx/printf/print_pointer.c\n"
     ]
    }
   ],
   "source": [
    "%%file /home/elkomy/alx/printf/print_pointer.c\n",
    "#include \"main.h\"\n",
    "#include <stdio.h>\n",
    "\n",
    "/**\n",
    " * print_pointer - Prints a pointer address\n",
    " * @list: List of arguments\n",
    " * @buffer: Buffer to store characters\n",
    " * @index: Current index in the buffer\n",
    " * @flags: Flags for formatting\n",
    " * Return: Number of characters printed\n",
    " */\n",
    "int print_pointer(va_list list, char *buffer, int *index, flags_t flags)\n",
    "{\n",
    "    void *ptr = va_arg(list, void *);\n",
    "    unsigned long int addr = (unsigned long int)ptr;\n",
    "    char hex[17];\n",
    "    int i, digit;\n",
    "\n",
    "    (void)flags; /* Suppress unused parameter warning */\n",
    "\n",
    "    _putchar('0', buffer, index);\n",
    "    _putchar('x', buffer, index);\n",
    "\n",
    "    i = 15;\n",
    "    while (addr)\n",
    "    {\n",
    "        digit = addr % 16;\n",
    "        hex[i--] = (digit < 10) ? digit + '0' : digit - 10 + 'a';\n",
    "        addr /= 16;\n",
    "    }\n",
    "    i++;\n",
    "    while (i < 16)\n",
    "    {\n",
    "        _putchar(hex[i++], buffer, index);\n",
    "    }\n",
    "\n",
    "    return (2 + 15 - i);\n",
    "}\n"
   ]
  },
  {
   "cell_type": "code",
   "execution_count": 237,
   "metadata": {},
   "outputs": [
    {
     "name": "stdout",
     "output_type": "stream",
     "text": [
      "Overwriting /home/elkomy/alx/printf/print_char.c\n"
     ]
    }
   ],
   "source": [
    "%%file /home/elkomy/alx/printf/print_char.c\n",
    "#include \"main.h\"\n",
    "#include <stdio.h>\n",
    "\n",
    "/**\n",
    " * print_char - Prints a character\n",
    " * @list: List of arguments\n",
    " * @buffer: Buffer to store characters\n",
    " * @index: Current index in the buffer\n",
    " * @flags: Flags for formatting\n",
    " * Return: Number of characters printed\n",
    " */\n",
    "int print_char(va_list list, char *buffer, int *index, flags_t flags)\n",
    "{\n",
    "    char c = va_arg(list, int);\n",
    "\n",
    "    (void)flags; /* Flags are not used for characters */\n",
    "    \n",
    "    buffer[*index] = c;\n",
    "    (*index)++;\n",
    "\n",
    "    return (1);\n",
    "}\n"
   ]
  },
  {
   "cell_type": "code",
   "execution_count": 238,
   "metadata": {},
   "outputs": [
    {
     "name": "stdout",
     "output_type": "stream",
     "text": [
      "Overwriting /home/elkomy/alx/printf/convert.c\n"
     ]
    }
   ],
   "source": [
    "%%file /home/elkomy/alx/printf/convert.c\n",
    "#include \"main.h\"\n",
    "#include <stdlib.h>\n",
    "\n",
    "/**\n",
    " * convert - Converts a number to a string in the given base\n",
    " * @num: The number to be converted\n",
    " * @base: The base to convert to\n",
    " * @lowercase: Flag to determine if hex letters should be lowercase\n",
    " * Return: A pointer to the converted string (static buffer)\n",
    " */\n",
    "\n",
    "\n",
    "char *convert(unsigned long int num, int base, int lowercase)\n",
    "{\n",
    "    static char *rep;\n",
    "    static char buffer[50];\n",
    "    char *ptr;\n",
    "\n",
    "    rep = (lowercase) ? \"0123456789abcdef\" : \"0123456789ABCDEF\";\n",
    "    ptr = &buffer[49];\n",
    "    *ptr = '\\0';\n",
    "\n",
    "    do\n",
    "    {\n",
    "        *--ptr = rep[num % base];\n",
    "        num /= base;\n",
    "    } while (num != 0);\n",
    "\n",
    "    return (ptr);\n",
    "}\n"
   ]
  },
  {
   "cell_type": "code",
   "execution_count": 239,
   "metadata": {},
   "outputs": [
    {
     "name": "stdout",
     "output_type": "stream",
     "text": [
      "Overwriting /home/elkomy/alx/printf/print_string.c\n"
     ]
    }
   ],
   "source": [
    "%%file /home/elkomy/alx/printf/print_string.c\n",
    "#include \"main.h\"\n",
    "#include <stdio.h>\n",
    "\n",
    "/**\n",
    " * print_string - Prints a string\n",
    " * @list: List of arguments\n",
    " * @buffer: Buffer to store characters\n",
    " * @index: Current index in the buffer\n",
    " * @flags: Flags for formatting\n",
    " * Return: Number of characters printed\n",
    " */\n",
    "int print_string(va_list list, char *buffer, int *index, flags_t flags)\n",
    "{\n",
    "    char *str = va_arg(list, char *);\n",
    "    int num_chars = 0;\n",
    "\n",
    "    (void)flags; /* Flags are not used for strings */\n",
    "\n",
    "    if (str == NULL)\n",
    "        str = \"(null)\";\n",
    "\n",
    "    while (*str)\n",
    "    {\n",
    "        buffer[*index] = *str;\n",
    "        (*index)++;\n",
    "        str++;\n",
    "        num_chars++;\n",
    "    }\n",
    "\n",
    "    return (num_chars);\n",
    "}\n"
   ]
  },
  {
   "cell_type": "code",
   "execution_count": 240,
   "metadata": {},
   "outputs": [
    {
     "name": "stdout",
     "output_type": "stream",
     "text": [
      "Overwriting /home/elkomy/alx/printf/print_percent.c\n"
     ]
    }
   ],
   "source": [
    "%%file /home/elkomy/alx/printf/print_percent.c\n",
    "#include \"main.h\"\n",
    "#include <stdio.h>\n",
    "\n",
    "/**\n",
    " * print_percent - Prints a percent symbol\n",
    " * @list: List of arguments\n",
    " * @buffer: Buffer to store characters\n",
    " * @index: Current index in the buffer\n",
    " * @flags: Flags for formatting\n",
    " * Return: Number of characters printed\n",
    " */\n",
    "int print_percent(va_list list, char *buffer, int *index, flags_t flags)\n",
    "{\n",
    "    (void)list;\n",
    "    (void)flags; /* Flags are not used for percent */\n",
    "\n",
    "    buffer[*index] = '%';\n",
    "    (*index)++;\n",
    "\n",
    "    return (1);\n",
    "}\n"
   ]
  },
  {
   "cell_type": "code",
   "execution_count": 5,
   "metadata": {},
   "outputs": [
    {
     "name": "stdout",
     "output_type": "stream",
     "text": [
      "Overwriting /home/elkomy/alx/printf/print_integer.c\n"
     ]
    }
   ],
   "source": [
    "%%file /home/elkomy/alx/printf/print_integer.c\n",
    "\n",
    "#include \"main.h\"\n",
    "#include <stdlib.h>  /* Include stdlib.h for malloc */\n",
    "\n",
    "/* Helper function to implement itoa since it's not standard in C */\n",
    "void itoa(int num, char *str, int base) {\n",
    "    int i = 0;\n",
    "    int is_negative = 0;\n",
    "    int start, end;\n",
    "\n",
    "    /* Handle 0 explicitly, otherwise empty string is printed for 0 */\n",
    "    if (num == 0) {\n",
    "        str[i++] = '0';\n",
    "        str[i] = '\\0';\n",
    "        return;\n",
    "    }\n",
    "\n",
    "    /* Handle negative numbers for base 10 */\n",
    "    if (num < 0 && base == 10) {\n",
    "        is_negative = 1;\n",
    "        num = -num;\n",
    "    }\n",
    "\n",
    "    /* Process individual digits */\n",
    "    while (num != 0) {\n",
    "        int rem = num % base;\n",
    "        str[i++] = (rem > 9) ? (rem - 10) + 'a' : rem + '0';\n",
    "        num = num / base;\n",
    "    }\n",
    "\n",
    "    /* Append '-' for negative numbers */\n",
    "    if (is_negative) {\n",
    "        str[i++] = '-';\n",
    "    }\n",
    "\n",
    "    str[i] = '\\0';\n",
    "\n",
    "    /* Reverse the string */\n",
    "    start = 0;\n",
    "    end = i - 1;\n",
    "    while (start < end) {\n",
    "        char temp = str[start];\n",
    "        str[start] = str[end];\n",
    "        str[end] = temp;\n",
    "        start++;\n",
    "        end--;\n",
    "    }\n",
    "}\n",
    "\n",
    "/**\n",
    " * print_integer - Prints an integer\n",
    " * @list: List of arguments\n",
    " * @buffer: Buffer to store characters\n",
    " * @index: Current index in the buffer\n",
    " * @flags: Flags for formatting\n",
    " * Return: Number of characters printed\n",
    " */\n",
    "int print_integer(va_list list, char *buffer, int *index, flags_t flags)\n",
    "{\n",
    "    int num = va_arg(list, int);\n",
    "    char str[12];\n",
    "    int i = 0, num_chars = 0;\n",
    "\n",
    "    itoa(num, str, 10);\n",
    "\n",
    "    /* Handle the space and plus flags */\n",
    "    if (flags.plus && num >= 0)\n",
    "    {\n",
    "        _putchar('+', buffer, index);\n",
    "        num_chars++;\n",
    "    }\n",
    "    else if (flags.space && num >= 0)\n",
    "    {\n",
    "        _putchar(' ', buffer, index);\n",
    "        num_chars++;\n",
    "    }\n",
    "\n",
    "    while (str[i])\n",
    "    {\n",
    "        _putchar(str[i], buffer, index);\n",
    "        i++;\n",
    "        num_chars++;\n",
    "    }\n",
    "\n",
    "    return (num_chars);\n",
    "}\n"
   ]
  },
  {
   "cell_type": "code",
   "execution_count": 6,
   "metadata": {},
   "outputs": [
    {
     "name": "stdout",
     "output_type": "stream",
     "text": [
      "Overwriting /home/elkomy/alx/printf/print_binary.c\n"
     ]
    }
   ],
   "source": [
    "%%file /home/elkomy/alx/printf/print_binary.c\n",
    "#include \"main.h\"\n",
    "#include <stdio.h>\n",
    "\n",
    "/**\n",
    " * print_binary - Prints a number in binary\n",
    " * @list: List of arguments\n",
    " * @buffer: Buffer to store characters\n",
    " * @index: Current index in the buffer\n",
    " * @flags: Flags for formatting\n",
    " * Return: Number of characters printed\n",
    " */\n",
    "int print_binary(va_list list, char *buffer, int *index, flags_t flags)\n",
    "{\n",
    "    unsigned int num = va_arg(list, unsigned int);\n",
    "    int num_chars = 0;\n",
    "    char *str = convert(num, 2, 0);\n",
    "\n",
    "    (void)flags; /* Flags are not used for binary */\n",
    "\n",
    "    while (*str)\n",
    "    {\n",
    "        buffer[*index] = *str;\n",
    "        (*index)++;\n",
    "        str++;\n",
    "        num_chars++;\n",
    "    }\n",
    "\n",
    "    return (num_chars);\n",
    "}\n"
   ]
  },
  {
   "cell_type": "code",
   "execution_count": null,
   "metadata": {},
   "outputs": [],
   "source": []
  },
  {
   "cell_type": "code",
   "execution_count": 7,
   "metadata": {},
   "outputs": [
    {
     "name": "stdout",
     "output_type": "stream",
     "text": [
      "Overwriting /home/elkomy/alx/printf/print_unsigned.c\n"
     ]
    }
   ],
   "source": [
    "%%file /home/elkomy/alx/printf/print_unsigned.c\n",
    "#include \"main.h\"\n",
    "#include <stdio.h>\n",
    "\n",
    "/**\n",
    " * print_unsigned - Prints an unsigned integer\n",
    " * @list: List of arguments\n",
    " * @buffer: Buffer to store characters\n",
    " * @index: Current index in the buffer\n",
    " * @flags: Flags for formatting\n",
    " * Return: Number of characters printed\n",
    " */\n",
    "int print_unsigned(va_list list, char *buffer, int *index, flags_t flags)\n",
    "{\n",
    "    unsigned int n = va_arg(list, unsigned int);\n",
    "    int num_chars = 0;\n",
    "    char temp[50];\n",
    "    int temp_index = 0;\n",
    "\n",
    "    (void)flags; /* Flags are not used for unsigned integers */\n",
    "\n",
    "    do {\n",
    "        temp[temp_index++] = (n % 10) + '0';\n",
    "        n /= 10;\n",
    "    } while (n > 0);\n",
    "\n",
    "    for (temp_index--; temp_index >= 0; temp_index--)\n",
    "    {\n",
    "        buffer[*index] = temp[temp_index];\n",
    "        (*index)++;\n",
    "        num_chars++;\n",
    "    }\n",
    "\n",
    "    return (num_chars);\n",
    "}\n"
   ]
  },
  {
   "cell_type": "code",
   "execution_count": 8,
   "metadata": {},
   "outputs": [
    {
     "name": "stdout",
     "output_type": "stream",
     "text": [
      "Overwriting /home/elkomy/alx/printf/print_octal.c\n"
     ]
    }
   ],
   "source": [
    "%%file /home/elkomy/alx/printf/print_octal.c\n",
    "#include \"main.h\"\n",
    "#include <stdio.h>\n",
    "\n",
    "/**\n",
    " * print_octal - Prints a number in octal\n",
    " * @list: List of arguments\n",
    " * @buffer: Buffer to store characters\n",
    " * @index: Current index in the buffer\n",
    " * @flags: Flags for formatting\n",
    " * Return: Number of characters printed\n",
    " */\n",
    "int print_octal(va_list list, char *buffer, int *index, flags_t flags)\n",
    "{\n",
    "    unsigned int num = va_arg(list, unsigned int);\n",
    "    int num_chars = 0;\n",
    "    char *str;\n",
    "\n",
    "    if (flags.hash && num != 0)\n",
    "    {\n",
    "        buffer[*index] = '0';\n",
    "        (*index)++;\n",
    "        num_chars++;\n",
    "    }\n",
    "\n",
    "    str = convert(num, 8, 0);\n",
    "    while (*str)\n",
    "    {\n",
    "        buffer[*index] = *str;\n",
    "        (*index)++;\n",
    "        str++;\n",
    "        num_chars++;\n",
    "    }\n",
    "\n",
    "    return (num_chars);\n",
    "}\n"
   ]
  },
  {
   "cell_type": "code",
   "execution_count": 9,
   "metadata": {},
   "outputs": [
    {
     "name": "stdout",
     "output_type": "stream",
     "text": [
      "Overwriting /home/elkomy/alx/printf/print_hex.c\n"
     ]
    }
   ],
   "source": [
    "%%file /home/elkomy/alx/printf/print_hex.c\n",
    "#include \"main.h\"\n",
    "#include <stdio.h>\n",
    "\n",
    "/**\n",
    " * print_hex - Prints a number in hexadecimal (lowercase)\n",
    " * @list: List of arguments\n",
    " * @buffer: Buffer to store characters\n",
    " * @index: Current index in the buffer\n",
    " * @flags: Flags for formatting\n",
    " * Return: Number of characters printed\n",
    " */\n",
    "int print_hex(va_list list, char *buffer, int *index, flags_t flags)\n",
    "{\n",
    "    unsigned int num = va_arg(list, unsigned int);\n",
    "    int num_chars = 0;\n",
    "    char *str;\n",
    "\n",
    "    if (flags.hash && num != 0)\n",
    "    {\n",
    "        buffer[*index] = '0';\n",
    "        buffer[*index + 1] = 'x';\n",
    "        *index += 2;\n",
    "        num_chars += 2;\n",
    "    }\n",
    "\n",
    "    str = convert(num, 16, 1);\n",
    "    while (*str)\n",
    "    {\n",
    "        buffer[*index] = *str;\n",
    "        (*index)++;\n",
    "        str++;\n",
    "        num_chars++;\n",
    "    }\n",
    "\n",
    "    return (num_chars);\n",
    "}\n"
   ]
  },
  {
   "cell_type": "code",
   "execution_count": 10,
   "metadata": {},
   "outputs": [
    {
     "name": "stdout",
     "output_type": "stream",
     "text": [
      "Overwriting /home/elkomy/alx/printf/print_HEX.c\n"
     ]
    }
   ],
   "source": [
    "%%file /home/elkomy/alx/printf/print_HEX.c\n",
    "\n",
    "#include \"main.h\"\n",
    "#include <stdio.h>\n",
    "\n",
    "/**\n",
    " * print_HEX - Prints a number in hexadecimal (uppercase)\n",
    " * @list: List of arguments\n",
    " * @buffer: Buffer to store characters\n",
    " * @index: Current index in the buffer\n",
    " * @flags: Flags for formatting\n",
    " * Return: Number of characters printed\n",
    " */\n",
    "int print_HEX(va_list list, char *buffer, int *index, flags_t flags)\n",
    "{\n",
    "    unsigned int num = va_arg(list, unsigned int);\n",
    "    int num_chars = 0;\n",
    "    char *str;\n",
    "\n",
    "    if (flags.hash && num != 0)\n",
    "    {\n",
    "        buffer[*index] = '0';\n",
    "        buffer[*index + 1] = 'X';\n",
    "        *index += 2;\n",
    "        num_chars += 2;\n",
    "    }\n",
    "\n",
    "    str = convert(num, 16, 0);\n",
    "    while (*str)\n",
    "    {\n",
    "        buffer[*index] = *str;\n",
    "        (*index)++;\n",
    "        str++;\n",
    "        num_chars++;\n",
    "    }\n",
    "\n",
    "    return (num_chars);\n",
    "}\n"
   ]
  },
  {
   "cell_type": "code",
   "execution_count": 247,
   "metadata": {},
   "outputs": [
    {
     "name": "stdout",
     "output_type": "stream",
     "text": [
      "Overwriting /home/elkomy/alx/printf/print_reverse.c\n"
     ]
    }
   ],
   "source": [
    "%%file /home/elkomy/alx/printf/print_reverse.c\n",
    "#include \"main.h\"\n",
    "#include <stdio.h>\n",
    "\n",
    "/**\n",
    " * print_reverse - Prints a string in reverse\n",
    " * @list: List of arguments\n",
    " * @buffer: Buffer to store characters\n",
    " * @index: Current index in the buffer\n",
    " * @flags: Flags for formatting\n",
    " * Return: Number of characters printed\n",
    " */\n",
    "\n",
    "int print_reverse(va_list list, char *buffer, int *index, flags_t flags)\n",
    "{\n",
    "    char *str = va_arg(list, char *);\n",
    "    int len = 0, i;\n",
    "\n",
    "    (void)flags; /* Suppress unused parameter warning */\n",
    "\n",
    "    while (str[len])\n",
    "        len++;\n",
    "\n",
    "    for (i = len - 1; i >= 0; i--)\n",
    "        _putchar(str[i], buffer, index);\n",
    "\n",
    "    return (len);\n",
    "}\n",
    "\n"
   ]
  },
  {
   "cell_type": "code",
   "execution_count": 248,
   "metadata": {},
   "outputs": [
    {
     "name": "stdout",
     "output_type": "stream",
     "text": [
      "Overwriting /home/elkomy/alx/printf/print_rot13.c\n"
     ]
    }
   ],
   "source": [
    "%%file /home/elkomy/alx/printf/print_rot13.c\n",
    "#include \"main.h\"\n",
    "#include <stdio.h>\n",
    "\n",
    "\n",
    "/**\n",
    " * print_rot13 - Prints a string in rot13 encoding\n",
    " * @list: List of arguments\n",
    " * @buffer: Buffer to store characters\n",
    " * @index: Current index in the buffer\n",
    " * @flags: Flags for formatting\n",
    " * Return: Number of characters printed\n",
    " */\n",
    "int print_rot13(va_list list, char *buffer, int *index, flags_t flags)\n",
    "{\n",
    "    char *str = va_arg(list, char *);\n",
    "    int i, j;\n",
    "\n",
    "    char in[] = \"ABCDEFGHIJKLMNOPQRSTUVWXYZabcdefghijklmnopqrstuvwxyz\";\n",
    "    char out[] = \"NOPQRSTUVWXYZABCDEFGHIJKLMnopqrstuvwxyzabcdefghijklm\";\n",
    "\n",
    "    (void)flags; /* Suppress unused parameter warning */\n",
    "\n",
    "    for (i = 0; str[i]; i++)\n",
    "    {\n",
    "        for (j = 0; in[j]; j++)\n",
    "        {\n",
    "            if (str[i] == in[j])\n",
    "            {\n",
    "                _putchar(out[j], buffer, index);\n",
    "                break;\n",
    "            }\n",
    "        }\n",
    "        if (!in[j])\n",
    "            _putchar(str[i], buffer, index);\n",
    "    }\n",
    "\n",
    "    return (i);\n",
    "}\n"
   ]
  },
  {
   "cell_type": "code",
   "execution_count": 249,
   "metadata": {},
   "outputs": [
    {
     "name": "stdout",
     "output_type": "stream",
     "text": [
      "Overwriting /home/elkomy/alx/printf/print_non_printable.c\n"
     ]
    }
   ],
   "source": [
    "%%file /home/elkomy/alx/printf/print_non_printable.c\n",
    "#include \"main.h\"\n",
    "#include <stdio.h>\n",
    "\n",
    "/**\n",
    " * print_non_printable - Prints non-printable characters in hexadecimal format\n",
    " * @list: List of arguments\n",
    " * @buffer: Buffer to store characters\n",
    " * @index: Current index in the buffer\n",
    " * @flags: Flags for formatting\n",
    " * Return: Number of characters printed\n",
    " */\n",
    "int print_non_printable(va_list list, char *buffer, int *index, flags_t flags)\n",
    "{\n",
    "    char *str = va_arg(list, char *);\n",
    "    int i = 0, count = 0;\n",
    "\n",
    "    (void)flags; /* Suppress unused parameter warning */\n",
    "\n",
    "    while (str[i])\n",
    "    {\n",
    "        if ((str[i] > 0 && str[i] < 32) || str[i] >= 127)\n",
    "        {\n",
    "            count += sprintf(&buffer[*index], \"\\\\x%02X\", str[i]);\n",
    "            *index += 4;\n",
    "        }\n",
    "        else\n",
    "        {\n",
    "            _putchar(str[i], buffer, index);\n",
    "            count++;\n",
    "        }\n",
    "        i++;\n",
    "    }\n",
    "\n",
    "    return (count);\n",
    "}\n"
   ]
  },
  {
   "cell_type": "code",
   "execution_count": 4,
   "metadata": {},
   "outputs": [
    {
     "name": "stdout",
     "output_type": "stream",
     "text": [
      "Overwriting /home/elkomy/alx/printf/print_special_string.c\n"
     ]
    }
   ],
   "source": [
    "%%file /home/elkomy/alx/printf/print_special_string.c\n",
    "#include \"main.h\"\n",
    "#include <stdio.h>\n",
    "\n",
    "/**\n",
    " * print_special_string - Prints a special string with non-printable characters\n",
    " * @list: List of arguments\n",
    " * @buffer: Buffer to store characters\n",
    " * @index: Current index in the buffer\n",
    " * @flags: Flags for formatting\n",
    " * Return: Number of characters printed\n",
    " */\n",
    "int print_special_string(va_list list, char *buffer, int *index, flags_t flags)\n",
    "{\n",
    "    char *str = va_arg(list, char *);\n",
    "    int i = 0, count = 0;\n",
    "\n",
    "    (void)flags; /* Suppress unused parameter warning */\n",
    "\n",
    "    if (str == NULL)\n",
    "        str = \"(null)\";\n",
    "\n",
    "    while (str[i])\n",
    "    {\n",
    "        if ((str[i] > 0 && str[i] < 32) || str[i] >= 127)\n",
    "        {\n",
    "            count += sprintf(&buffer[*index], \"\\\\x%02X\", (unsigned char)str[i]);\n",
    "            *index += 4;\n",
    "        }\n",
    "        else\n",
    "        {\n",
    "            _putchar(str[i], buffer, index);\n",
    "            count++;\n",
    "        }\n",
    "        i++;\n",
    "    }\n",
    "\n",
    "    return (count);\n",
    "}\n",
    "\n"
   ]
  },
  {
   "cell_type": "code",
   "execution_count": 251,
   "metadata": {},
   "outputs": [
    {
     "name": "stdout",
     "output_type": "stream",
     "text": [
      "Overwriting /home/elkomy/alx/printf/tests/main.c\n"
     ]
    }
   ],
   "source": [
    "%%file /home/elkomy/alx/printf/tests/main.c\n",
    "#include \"../main.h\"\n",
    "#include <stdio.h>\n",
    "\n",
    "/**\n",
    " * main - Entry point\n",
    " *\n",
    " * Return: Always 0\n",
    " */\n",
    "int main(void)\n",
    "{\n",
    "    _printf(\"Space flag: % d\\n\", 42);\n",
    "    _printf(\"Plus flag: %+d\\n\", 42);\n",
    "    _printf(\"Hash flag: %#x\\n\", 255);\n",
    "    _printf(\"%S\\n\", \"Best\\nSchool\");\n",
    "    return (0);\n",
    "}\n"
   ]
  },
  {
   "cell_type": "code",
   "execution_count": 252,
   "metadata": {},
   "outputs": [
    {
     "name": "stdout",
     "output_type": "stream",
     "text": [
      "\n",
      "========== /home/elkomy/alx/printf/_printf.c ==========\n",
      "_printf\n",
      "\u001b[01m\u001b[K/home/elkomy/alx/printf/format_reciever.c:\u001b[m\u001b[K In function ‘\u001b[01m\u001b[Kformat_reciever\u001b[m\u001b[K’:\n",
      "\u001b[01m\u001b[K/home/elkomy/alx/printf/format_reciever.c:23:34:\u001b[m\u001b[K \u001b[01;31m\u001b[Kerror: \u001b[m\u001b[K‘\u001b[01m\u001b[Kconver_t\u001b[m\u001b[K’ {aka ‘\u001b[01m\u001b[Kstruct convert\u001b[m\u001b[K’} has no member named ‘\u001b[01m\u001b[Kspecifier\u001b[m\u001b[K’\n",
      "   23 |             for (j = 0; f_list[j]\u001b[01;31m\u001b[K.\u001b[m\u001b[Kspecifier != NULL; j++)\n",
      "      |                                  \u001b[01;31m\u001b[K^\u001b[m\u001b[K\n",
      "\u001b[01m\u001b[K/home/elkomy/alx/printf/format_reciever.c:25:43:\u001b[m\u001b[K \u001b[01;31m\u001b[Kerror: \u001b[m\u001b[K‘\u001b[01m\u001b[Kconver_t\u001b[m\u001b[K’ {aka ‘\u001b[01m\u001b[Kstruct convert\u001b[m\u001b[K’} has no member named ‘\u001b[01m\u001b[Kspecifier\u001b[m\u001b[K’\n",
      "   25 |                 if (format[i] == f_list[j]\u001b[01;31m\u001b[K.\u001b[m\u001b[Kspecifier[0])\n",
      "      |                                           \u001b[01;31m\u001b[K^\u001b[m\u001b[K\n",
      "\u001b[01m\u001b[K/home/elkomy/alx/printf/format_reciever.c:27:30:\u001b[m\u001b[K \u001b[01;31m\u001b[Kerror: \u001b[m\u001b[Ktoo few arguments to function ‘\u001b[01m\u001b[K(f_list + (sizetype)((long unsigned int)j * 16))->f\u001b[m\u001b[K’\n",
      "   27 |                     count += \u001b[01;31m\u001b[Kf_list\u001b[m\u001b[K[j].f(arg_list, buffer, index);\n",
      "      |                              \u001b[01;31m\u001b[K^~~~~~\u001b[m\u001b[K\n",
      "\u001b[01m\u001b[K/home/elkomy/alx/printf/format_reciever.c:31:26:\u001b[m\u001b[K \u001b[01;31m\u001b[Kerror: \u001b[m\u001b[K‘\u001b[01m\u001b[Kconver_t\u001b[m\u001b[K’ {aka ‘\u001b[01m\u001b[Kstruct convert\u001b[m\u001b[K’} has no member named ‘\u001b[01m\u001b[Kspecifier\u001b[m\u001b[K’\n",
      "   31 |             if (f_list[j]\u001b[01;31m\u001b[K.\u001b[m\u001b[Kspecifier == NULL)\n",
      "      |                          \u001b[01;31m\u001b[K^\u001b[m\u001b[K\n",
      "Pointer address: 0x7ffe637541f0\n",
      "Best\\x0ASchool\n"
     ]
    }
   ],
   "source": [
    "\n",
    "!betty /home/elkomy/alx/printf/_printf.c\n",
    "!gcc -Wall -Werror -Wextra -pedantic -std=gnu89 -Wno-format /home/elkomy/alx/printf/*.c /home/elkomy/alx/printf/tests/main.c -o /home/elkomy/alx/printf/printf\n",
    "!./printf\n"
   ]
  },
  {
   "cell_type": "code",
   "execution_count": 565,
   "metadata": {},
   "outputs": [
    {
     "name": "stdout",
     "output_type": "stream",
     "text": [
      "[main 86549d3] alx-low_level_programming/0x0D-preprocessor/0-putchar\n",
      " 8 files changed, 232 insertions(+), 170 deletions(-)\n",
      " rewrite main.h (61%)\n",
      " rewrite print_HEX.c (75%)\n",
      " rewrite print_binary.c (95%)\n",
      " rewrite print_char.c (72%)\n",
      " rewrite print_hex.c (85%)\n",
      " rewrite print_integer.c (72%)\n"
     ]
    },
    {
     "name": "stderr",
     "output_type": "stream",
     "text": [
      "To https://github.com/elkomysara/printf\n",
      "   42d887a..86549d3  main -> main\n"
     ]
    }
   ],
   "source": [
    "%%bash\n",
    "git add .\n",
    "git commit -m \"alx-low_level_programming/0x0D-preprocessor/0-putchar\"\n",
    "git push"
   ]
  },
  {
   "cell_type": "code",
   "execution_count": null,
   "metadata": {},
   "outputs": [],
   "source": []
  }
 ],
 "metadata": {
  "kernelspec": {
   "display_name": "Python 3",
   "language": "python",
   "name": "python3"
  },
  "language_info": {
   "codemirror_mode": {
    "name": "ipython",
    "version": 3
   },
   "file_extension": ".py",
   "mimetype": "text/x-python",
   "name": "python",
   "nbconvert_exporter": "python",
   "pygments_lexer": "ipython3",
   "version": "3.12.3"
  }
 },
 "nbformat": 4,
 "nbformat_minor": 2
}
