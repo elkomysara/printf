{
 "cells": [
  {
   "cell_type": "markdown",
   "metadata": {},
   "source": [
    "#\n",
    "<center>\n",
    "<div style=\"border: 2px solid yellow; display: inline-block; padding: 10px;\">\n",
    "<h2><b>printf</b></h2>\n",
    "</div>\n",
    "</center>\n"
   ]
  },
  {
   "cell_type": "markdown",
   "metadata": {},
   "source": [
    "##\n",
    "<center>\n",
    "<div style=\"border: 2px solid red; display: inline-block; padding: 10px;\">\n",
    "<h2><b>Project Preping</b></h2>\n",
    "</div>\n",
    "</center>"
   ]
  },
  {
   "cell_type": "markdown",
   "metadata": {},
   "source": [
    "######\n",
    "<center>\n",
    "<div style=\"border: 2px solid blue; display: inline-block; padding: 10px;\">\n",
    "<h2><b>STEP1:Making the README</b></h2>\n",
    "</div>\n",
    "</center>"
   ]
  },
  {
   "cell_type": "code",
   "execution_count": 1,
   "metadata": {},
   "outputs": [],
   "source": [
    "import os\n",
    "# creating 0x02-shell_redirectionss\n",
    "\n",
    "folder_path = r'/home/elkomy/alx/printf'\n",
    "if not os.path.exists(folder_path):\n",
    "    os.makedirs(folder_path)\n",
    "\n",
    "# Create a README.md inside alx-low_level_programming/0x0D-preprocessor\n",
    "file_path = os.path.join(folder_path, 'README.md')\n",
    "\n",
    "with open(file_path, 'w') as file:\n",
    "    file.write(\"This is a README.md file inside alx-low_level_programming/0x0D-preprocessor\")\n",
    "\n"
   ]
  },
  {
   "cell_type": "code",
   "execution_count": 284,
   "metadata": {},
   "outputs": [
    {
     "name": "stdout",
     "output_type": "stream",
     "text": [
      "Overwriting /home/elkomy/alx/printf/README.md\n"
     ]
    }
   ],
   "source": [
    "%%file /home/elkomy/alx/printf/README.md\n",
    "# _printf Project\n",
    "\n",
    "## Description\n",
    "\n",
    "This project is an implementation of the C standard library function `printf`. The `_printf` function produces output according to a format string.\n",
    "\n",
    "## Requirements\n",
    "\n",
    "- All files will be compiled on Ubuntu 20.04 LTS using `gcc`.\n",
    "- All files should end with a new line.\n",
    "- Code should use the Betty style.\n",
    "- No global variables.\n",
    "- No more than 5 functions per file.\n",
    "- Allowed functions and macros: `write`, `malloc`, `free`, `va_start`, `va_end`, `va_copy`, `va_arg`.\n",
    "\n",
    "## Conversion Specifiers\n",
    "\n",
    "- `c`: Prints a character.\n",
    "- `s`: Prints a string.\n",
    "- `%`: Prints a percent symbol.\n",
    "\n",
    "## Compilation\n",
    "\n",
    "To compile the project, run:\n",
    "```sh\n",
    "gcc -Wall -Werror -Wextra -pedantic -std=gnu89 -Wno-format *.c tests/main.c -o printf\n"
   ]
  },
  {
   "cell_type": "code",
   "execution_count": 12,
   "metadata": {},
   "outputs": [],
   "source": [
    "!cd /home/elkomy/alx/printf"
   ]
  },
  {
   "cell_type": "code",
   "execution_count": 13,
   "metadata": {},
   "outputs": [
    {
     "name": "stdout",
     "output_type": "stream",
     "text": [
      "/home/elkomy/alx/printf\n"
     ]
    }
   ],
   "source": [
    "!pwd"
   ]
  },
  {
   "cell_type": "markdown",
   "metadata": {},
   "source": [
    "######\n",
    "<center>\n",
    "<div style=\"border: 2px solid pink; display: inline-block; padding: 10px;\">\n",
    "<h2><b>0x11. C - printf </b></h2>\n",
    "</div>\n",
    "</center>"
   ]
  },
  {
   "cell_type": "markdown",
   "metadata": {},
   "source": [
    "###\n",
    "<center>\n",
    "<div style=\"border: 2px solid violet; display: inline-block; padding: 10px;\">\n",
    "<h4>0. I'm not going anywhere. You can print that wherever you want to. I'm here and I'm a Spur for life </h4>\n",
    "<hr style=\"width:100%; margin:auto;\">\n",
    "</div>\n",
    "</center>"
   ]
  },
  {
   "cell_type": "markdown",
   "metadata": {},
   "source": [
    "<div style=\"border: 2px solid violet; display: inline-block; padding: 10px;\">\n",
    "\n",
    "\n",
    "Write a function that produces output according to a format.\n",
    "\n",
    "* Prototype: `int _printf(const char *format, ...);`\n",
    "* Returns: the number of characters printed (excluding the null byte used to end output to strings)\n",
    "* write output to stdout, the standard output stream\n",
    "* `format` is a character string. The format string is composed of zero or more directives. See `man 3 printf` for more detail. You need to handle the following conversion specifiers:\n",
    "    * c\n",
    "    * s\n",
    "    * %\n",
    "* You don’t have to reproduce the buffer handling of the C library `printf` function\n",
    "* You don’t have to handle the flag characters\n",
    "* You don’t have to handle field width\n",
    "* You don’t have to handle precision\n",
    "* You don’t have to handle the length modifiers\n",
    "#### Repo:\n",
    "* GitHub repository: ```  printf ```\n",
    "</div>"
   ]
  },
  {
   "cell_type": "markdown",
   "metadata": {},
   "source": [
    "<details>\n",
    "\n",
    "#### Task 0 create overview:\n",
    "* the basic `_printf` function that can handle the `c`, `s`, and `%` format specifiers. \n",
    "\n",
    "##### Task 0 Plan:\n",
    "1. **Create the Basic Functionality**:\n",
    "   - Implement the `_printf` function that processes a format string and calls the appropriate function for each specifier.\n",
    "   - Implement helper functions for handling `c`, `s`, and `%` specifiers.\n",
    "\n",
    "2. **Implement and Test**:\n",
    "   - Implement the required functions in separate files.\n",
    "   - Update `main.h` to include the function prototypes and necessary includes.\n",
    "   - Test the implementation with a basic `main.c` file to ensure that everything is working as expected.\n",
    "\n",
    "##### Step-by-Step Implementation:\n",
    "\n",
    "###### 1. Implement the `_putchar.c` file\n",
    "You've already provided the `_putchar.c` file, which is essential for writing characters to stdout. This file does not need further updates.\n",
    "\n",
    "###### 2. Implement the `_printf.c` file\n",
    "This file contains the main logic for handling the format string and dispatching calls to the appropriate functions. It will include handling of the `c`, `s`, and `%` specifiers.\n",
    "\n",
    "###### 3. Implement the `format_reciever.c` file\n",
    "This file contains the logic for iterating over the format string and identifying the correct conversion specifier, calling the corresponding function.\n",
    "\n",
    "###### 4. Implement the `print_percent.c` file\n",
    "This file contains the function that handles printing the `%` symbol.\n",
    "\n",
    "###### 5. Implement the `print_char.c` and `print_string.c` files\n",
    "These files will contain the logic for handling the `c` and `s` specifiers.\n",
    "\n",
    "###### 6. Implement a simple `main.c` file for testing\n",
    "We'll create a `main.c` file that tests the basic functionality of the `_printf` function.\n",
    "\n",
    "###### 7. Update the `main.h` header file\n",
    "The header file should include all the necessary function prototypes and the `struct convert`.\n",
    "\n",
    "###### 8. Run `betty` and compile\n",
    "We'll use `betty` to check the code style and then compile the program to ensure everything works correctly."
   ]
  },
  {
   "cell_type": "markdown",
   "metadata": {},
   "source": [
    "#### Step[0] - Erease all files and start all over"
   ]
  },
  {
   "cell_type": "code",
   "execution_count": 42,
   "metadata": {},
   "outputs": [],
   "source": [
    "%%bash\n",
    "rm -f /home/elkomy/alx/printf/*.o\n",
    "rm -f /home/elkomy/alx/printf/*.c\n",
    "rm -f /home/elkomy/alx/printf/*.h\n",
    "rm -f /home/elkomy/alx/printf/printf\n",
    "rm -f /home/elkomy/alx/printf/Makefile"
   ]
  },
  {
   "cell_type": "markdown",
   "metadata": {},
   "source": [
    "#### Step[1] - Update _putchar.c (if needed)"
   ]
  },
  {
   "cell_type": "code",
   "execution_count": 14,
   "metadata": {},
   "outputs": [
    {
     "name": "stdout",
     "output_type": "stream",
     "text": [
      "Overwriting /home/elkomy/alx/printf/_putchar.c\n"
     ]
    }
   ],
   "source": [
    "%%file /home/elkomy/alx/printf/_putchar.c\n",
    "#include <unistd.h>\n",
    "\n",
    "/**\n",
    "* _putchar - writes a character to stdout\n",
    "* @c: character to write\n",
    "*\n",
    "* Return: On success 1.\n",
    "* On error, -1 is returned, and errno is set appropriately.\n",
    "*/\n",
    "\n",
    "int _putchar(char c)\n",
    "{\n",
    "return (write(1, &c, 1));\n",
    "}\n"
   ]
  },
  {
   "cell_type": "markdown",
   "metadata": {},
   "source": [
    "#### Step[2] - Update _printf.c\n",
    "<details>\n",
    "This file will handle the logic of processing the format string and calling the appropriate functions based on the format specifiers."
   ]
  },
  {
   "cell_type": "code",
   "execution_count": 2,
   "metadata": {},
   "outputs": [
    {
     "name": "stdout",
     "output_type": "stream",
     "text": [
      "Overwriting /home/elkomy/alx/printf/_printf.c\n"
     ]
    }
   ],
   "source": [
    "%%file /home/elkomy/alx/printf/_printf.c\n",
    "#include \"main.h\"\n",
    "\n",
    "/**\n",
    "* _printf - Receives the main string and all the necessary parameters to\n",
    "* print a formatted string\n",
    "* @format: A string containing all the desired characters\n",
    "* Return: A total count of the characters printed\n",
    "*/\n",
    "int _printf(const char *format, ...)\n",
    "{\n",
    "int printed_chars;\n",
    "conver_t f_list[] = \n",
    "{\n",
    "{\"%\", print_percent},\n",
    "{\"c\", print_char},\n",
    "{\"s\", print_string},\n",
    "{NULL, NULL},\n",
    "};\n",
    "va_list arg_list;\n",
    "\n",
    "if (format == NULL)\n",
    "return (-1);\n",
    "\n",
    "va_start(arg_list, format);\n",
    "printed_chars = format_reciever(format, f_list, arg_list);\n",
    "va_end(arg_list);\n",
    "\n",
    "return (printed_chars);\n",
    "}\n"
   ]
  },
  {
   "cell_type": "markdown",
   "metadata": {},
   "source": [
    "#### Step[3] - Update format_reciever.c\n",
    "<details>\n",
    "This file will iterate over the format string, identify the correct conversion specifier, and call the corresponding function.\n",
    "\n",
    "##### Explanation:\n",
    "Loop through the format string (for (i = 0; format[i] != '\\0'; i++)):\n",
    "This loop iterates over each character in the format string to identify and process format specifiers.\n",
    "\n",
    "Check for a percent sign (if (format[i] == '%')):\n",
    "If the current character is a %, it may indicate the start of a format specifier.\n",
    "\n",
    "Iterate over the list of known specifiers (for (j = 0; f_list[j].sym != NULL; j++)):\n",
    "This nested loop checks if the character following the % matches any known specifier in f_list. If a match is found, the corresponding function is called to handle the specifier.\n",
    "\n",
    "Unrecognized specifiers (if (f_list[j].sym == NULL && format[i + 1] != ' ' && format[i + 1] != '\\0')):\n",
    "If the specifier is not recognized and is neither a space nor the end of the string, the code prints the % and the unrecognized character as is.\n",
    "\n",
    "Handle trailing % (else if (f_list[j].sym == NULL && format[i + 1] == '\\0')):\n",
    "If the format string ends with %, this case is handled by returning -1, indicating an error (e.g., there’s nothing to print after %).\n",
    "\n",
    "Print normal characters (else block):\n",
    "If the character is not a %, it is printed as part of the string.\n",
    "\n",
    "This implementation ensures that the function handles both recognized and unrecognized format specifiers correctly, matching the requirements for Task 0, including the special handling of cases like %q and trailing %."
   ]
  },
  {
   "cell_type": "code",
   "execution_count": 65,
   "metadata": {},
   "outputs": [
    {
     "name": "stdout",
     "output_type": "stream",
     "text": [
      "Overwriting /home/elkomy/alx/printf/format_reciever.c\n"
     ]
    }
   ],
   "source": [
    "%%file /home/elkomy/alx/printf/format_reciever.c\n",
    "#include \"main.h\"\n",
    "\n",
    "/**\n",
    "* format_reciever - Receives the format string and argument list,\n",
    "* then calls the appropriate function to handle each format specifier.\n",
    "* @format: The format string that contains the specifiers.\n",
    "* @f_list: List of conversion specifiers and their associated functions.\n",
    "* @arg_list: List of arguments to be formatted.\n",
    "* \n",
    "* Return: The total number of characters printed.\n",
    "*/\n",
    "int format_reciever(const char *format, conver_t f_list[], va_list arg_list)\n",
    "{\n",
    "int i, j, printed_chars = 0;\n",
    "\n",
    "/* Loop through the entire format string */\n",
    "for (i = 0; format[i] != '\\0'; i++)\n",
    "{\n",
    "/* Check if the current character is a percent sign, indicating a format specifier */\n",
    "if (format[i] == '%')\n",
    "{\n",
    "/* Iterate over the list of known format specifiers */\n",
    "for (j = 0; f_list[j].sym != NULL; j++)\n",
    "{\n",
    "/* If the next character matches one of the known specifiers, call its function */\n",
    "if (format[i + 1] == f_list[j].sym[0])\n",
    "{\n",
    "printed_chars += f_list[j].f(arg_list);\n",
    "i++; /* Skip the specifier character */\n",
    "break;\n",
    "}\n",
    "}\n",
    "\n",
    "/* If the specifier is not recognized and is neither space nor null character */\n",
    "if (f_list[j].sym == NULL && format[i + 1] != ' ' && format[i + 1] != '\\0')\n",
    "{\n",
    "/* Print the percent sign and the unrecognized specifier as is */\n",
    "_putchar(format[i]);\n",
    "_putchar(format[i + 1]);\n",
    "printed_chars += 2;\n",
    "i++; /* Skip the unrecognized specifier character */\n",
    "}\n",
    "/* Handle the case where the format string ends with a percent sign */\n",
    "else if (f_list[j].sym == NULL && format[i + 1] == '\\0')\n",
    "{\n",
    "return (-1); /* Return -1 if there's nothing to print after '%' */\n",
    "}\n",
    "}\n",
    "else\n",
    "{\n",
    "/* If the character is not a percent sign, print it as is */\n",
    "_putchar(format[i]);\n",
    "printed_chars++;\n",
    "}\n",
    "}\n",
    "\n",
    "return (printed_chars); /* Return the total number of characters printed */\n",
    "}\n"
   ]
  },
  {
   "cell_type": "markdown",
   "metadata": {},
   "source": [
    "#### STEP[4] - Update print_precent.c\n",
    "<details>\n",
    "This file will contain the function that handles printing the % symbol.\n",
    "\n"
   ]
  },
  {
   "cell_type": "code",
   "execution_count": 66,
   "metadata": {},
   "outputs": [
    {
     "name": "stdout",
     "output_type": "stream",
     "text": [
      "Overwriting /home/elkomy/alx/printf/print_percent.c\n"
     ]
    }
   ],
   "source": [
    "%%file /home/elkomy/alx/printf/print_percent.c\n",
    "#include \"main.h\"\n",
    "\n",
    "/**\n",
    "* print_percent - Prints a percent symbol\n",
    "* @list: list of arguments\n",
    "* Return: Will return the amount of characters printed.\n",
    "*/\n",
    "\n",
    "int print_percent(__attribute__((unused))va_list list)\n",
    "{\n",
    "_putchar('%');\n",
    "return (1);\n",
    "}"
   ]
  },
  {
   "cell_type": "markdown",
   "metadata": {},
   "source": [
    "#### Step[5] - Update print_char.c\n",
    "<details>\n",
    "This file will handle the c specifier for printing a single character."
   ]
  },
  {
   "cell_type": "code",
   "execution_count": 67,
   "metadata": {},
   "outputs": [
    {
     "name": "stdout",
     "output_type": "stream",
     "text": [
      "Overwriting /home/elkomy/alx/printf/print_char.c\n"
     ]
    }
   ],
   "source": [
    "%%file /home/elkomy/alx/printf/print_char.c\n",
    "#include \"main.h\"\n",
    "\n",
    "/**\n",
    "* print_char - Prints character\n",
    "* @list: list of arguments\n",
    "* Return: Will return the amount of characters printed.\n",
    "*/\n",
    "int print_char(va_list list)\n",
    "{\n",
    "_putchar(va_arg(list, int));\n",
    "return (1);\n",
    "}\n"
   ]
  },
  {
   "cell_type": "markdown",
   "metadata": {},
   "source": [
    "#### Step[6] - Update print_string.c\n",
    "<details>\n",
    "This file will handle the s specifier for printing a string."
   ]
  },
  {
   "cell_type": "code",
   "execution_count": 68,
   "metadata": {},
   "outputs": [
    {
     "name": "stdout",
     "output_type": "stream",
     "text": [
      "Overwriting /home/elkomy/alx/printf/print_string.c\n"
     ]
    }
   ],
   "source": [
    "%%file /home/elkomy/alx/printf/print_string.c\n",
    "#include \"main.h\"\n",
    "\n",
    "/**\n",
    "* print_string - Prints a string\n",
    "* @list: list of arguments\n",
    "* Return: Will return the amount of characters printed.\n",
    "*/\n",
    "int print_string(va_list list)\n",
    "{\n",
    "int i;\n",
    "char *str;\n",
    "\n",
    "str = va_arg(list, char *);\n",
    "if (str == NULL)\n",
    "str = \"(null)\";\n",
    "for (i = 0; str[i] != '\\0'; i++)\n",
    "_putchar(str[i]);\n",
    "return (i);\n",
    "}\n"
   ]
  },
  {
   "cell_type": "markdown",
   "metadata": {},
   "source": [
    "#### Step[-2] - Update main.h\n",
    "<details>\n",
    "This file will include all necessary function prototypes and the struct convert."
   ]
  },
  {
   "cell_type": "code",
   "execution_count": 69,
   "metadata": {},
   "outputs": [
    {
     "name": "stdout",
     "output_type": "stream",
     "text": [
      "Overwriting /home/elkomy/alx/printf/main.h\n"
     ]
    }
   ],
   "source": [
    "%%file /home/elkomy/alx/printf/main.h\n",
    "#ifndef MAIN_H\n",
    "#define MAIN_H\n",
    "\n",
    "#include <stdio.h>\n",
    "#include <unistd.h>\n",
    "#include <stdlib.h>\n",
    "#include <stdarg.h>\n",
    "\n",
    "/**\n",
    "* struct convert - defines a structure for symbols and functions\n",
    "* @sym: The operator\n",
    "* @f: The function associated\n",
    "*/\n",
    "struct convert\n",
    "{\n",
    "char *sym;\n",
    "int (*f)(va_list);\n",
    "};\n",
    "typedef struct convert conver_t;\n",
    "\n",
    "int _printf(const char *format, ...);\n",
    "int _putchar(char c);\n",
    "int format_reciever(const char *format, conver_t f_list[], va_list arg_list);\n",
    "int print_percent(va_list);\n",
    "int print_char(va_list);\n",
    "int print_string(va_list);\n",
    "\n",
    "#endif /* MAIN_H */\n"
   ]
  },
  {
   "cell_type": "markdown",
   "metadata": {},
   "source": [
    "#### Step[-1] - Update main.c\n",
    "<details>\n",
    "This file will test the basic functionality of _printf."
   ]
  },
  {
   "cell_type": "code",
   "execution_count": 70,
   "metadata": {},
   "outputs": [
    {
     "name": "stdout",
     "output_type": "stream",
     "text": [
      "Overwriting /home/elkomy/alx/printf/tests/main.c\n"
     ]
    }
   ],
   "source": [
    "%%file /home/elkomy/alx/printf/tests/main.c\n",
    "#include \"../main.h\"\n",
    "#include <stdio.h>\n",
    "\n",
    "/**\n",
    "* main - Entry point for testing the _printf function\n",
    "*\n",
    "* Return: Always 0\n",
    "*/\n",
    "\n",
    "int main(void)\n",
    "{\n",
    "int len1, len2;\n",
    "\n",
    "len1 = _printf(NULL);\n",
    "len2 = printf(NULL);\n",
    "printf(\"Returned: _printf: %d, printf: %d\\n\", len1, len2);\n",
    "\n",
    "len1 = _printf(\"Hello %%\");\n",
    "len2 = printf(\"Hello %%\");\n",
    "printf(\"Returned: _printf: %d, printf: %d\\n\", len1, len2);\n",
    "\n",
    "len1 = _printf(\"%s\", NULL);\n",
    "len2 = printf(\"%s\", NULL);\n",
    "printf(\"Returned: _printf: %d, printf: %d\\n\", len1, len2);\n",
    "\n",
    "len1 = _printf(\"%%\");\n",
    "len2 = printf(\"%%\");\n",
    "printf(\"Returned: _printf: %d, printf: %d\\n\", len1, len2);\n",
    "\n",
    "len1 = _printf(\"Unsupported specifier: %q\\n\");\n",
    "len2 = printf(\"Unsupported specifier: %q\\n\");\n",
    "printf(\"Returned: _printf: %d, printf: %d\\n\", len1, len2);\n",
    "\n",
    "return (0);\n",
    "}\n"
   ]
  },
  {
   "cell_type": "markdown",
   "metadata": {},
   "source": [
    "#### Betty Tests"
   ]
  },
  {
   "cell_type": "code",
   "execution_count": 71,
   "metadata": {},
   "outputs": [
    {
     "name": "stdout",
     "output_type": "stream",
     "text": [
      "/home/elkomy/alx/printf/format_reciever.c:9: ERROR: trailing whitespace\n",
      "/home/elkomy/alx/printf/format_reciever.c:19: WARNING: line over 80 characters (86)\n",
      "/home/elkomy/alx/printf/format_reciever.c:25: WARNING: line over 80 characters (83)\n",
      "/home/elkomy/alx/printf/format_reciever.c:34: WARNING: line over 80 characters (81)\n",
      "/home/elkomy/alx/printf/format_reciever.c:54: WARNING: More than 40 lines in a function\n",
      "/home/elkomy/alx/printf/format_reciever.c:55: WARNING: More than 40 lines in a function\n",
      "/home/elkomy/alx/printf/format_reciever.c:56: WARNING: More than 40 lines in a function\n",
      "/home/elkomy/alx/printf/format_reciever.c:57: WARNING: More than 40 lines in a function\n",
      "total: 1 errors, 7 warnings, 58 lines checked\n",
      "_printf\n",
      "_putchar\n",
      "format_reciever\n",
      "print_char\n",
      "print_percent\n",
      "print_string\n",
      "main\n",
      "struct convert\n"
     ]
    }
   ],
   "source": [
    "%%bash\n",
    "betty-style /home/elkomy/alx/printf/*.c /home/elkomy/alx/printf/tests/*.c /home/elkomy/alx/printf/*.h\n",
    "betty-doc /home/elkomy/alx/printf/*.c /home/elkomy/alx/printf/tests/*.c /home/elkomy/alx/printf/*.h\n"
   ]
  },
  {
   "cell_type": "markdown",
   "metadata": {},
   "source": [
    "#### Compile"
   ]
  },
  {
   "cell_type": "code",
   "execution_count": 72,
   "metadata": {},
   "outputs": [
    {
     "name": "stdout",
     "output_type": "stream",
     "text": [
      "\n",
      "========== /home/elkomy/alx/printf/_printf.c ==========\n",
      "_printf\n",
      "Hello %(null)%Unsupported specifier: %q\n",
      "Returned: _printf: -1, printf: -1\n",
      "Hello %Returned: _printf: 7, printf: 7\n",
      "(null)Returned: _printf: 6, printf: 6\n",
      "%Returned: _printf: 1, printf: 1\n",
      "Unsupported specifier: %\n",
      "Returned: _printf: 26, printf: 25\n"
     ]
    }
   ],
   "source": [
    "\n",
    "%%bash\n",
    "betty /home/elkomy/alx/printf/_printf.c\n",
    "gcc -Wall -Werror -Wextra -pedantic -std=gnu89 -Wno-format /home/elkomy/alx/printf/*.c /home/elkomy/alx/printf/tests/main.c -o /home/elkomy/alx/printf/printf\n",
    "./printf\n",
    "\n"
   ]
  },
  {
   "cell_type": "markdown",
   "metadata": {},
   "source": [
    "#### Push to github"
   ]
  },
  {
   "cell_type": "code",
   "execution_count": 64,
   "metadata": {},
   "outputs": [
    {
     "name": "stdout",
     "output_type": "stream",
     "text": [
      "[main 6fac612] alx-low_level_programming/0x0D-preprocessor/0-putchar\n",
      " 3 files changed, 21 insertions(+), 14 deletions(-)\n"
     ]
    },
    {
     "name": "stderr",
     "output_type": "stream",
     "text": [
      "To https://github.com/elkomysara/printf\n",
      "   e02ac67..6fac612  main -> main\n"
     ]
    }
   ],
   "source": [
    "%%bash\n",
    "git add .\n",
    "git commit -m \"alx-low_level_programming/0x0D-preprocessor/0-putchar\"\n",
    "git push"
   ]
  },
  {
   "cell_type": "markdown",
   "metadata": {},
   "source": [
    "###\n",
    "---\n",
    "<center>\n",
    "<h4>1. Education is when you read the fine print. Experience is what you get if you don't</h4>\n",
    "</center>\n",
    "\n",
    "---"
   ]
  },
  {
   "cell_type": "markdown",
   "metadata": {},
   "source": [
    "\n",
    "#### Handle the following conversion specifiers:\n",
    "\n",
    "* `d`\n",
    "* `i`\n",
    "* You don’t have to handle the flag characters\n",
    "* You don’t have to handle field width\n",
    "* You don’t have to handle precision\n",
    "* You don’t have to handle the length modifiers\n",
    "#### Repo:\n",
    "* GitHub repository: ``` printf```"
   ]
  },
  {
   "cell_type": "markdown",
   "metadata": {},
   "source": [
    "<details>\n",
    "Task 1 Plan:\n",
    "Update the _printf.c file:\n",
    "Add support for d and i conversion specifiers by including the corresponding function in the list of format specifiers.\n",
    "\n",
    "Implement print_int.c:\n",
    "Create a new file print_int.c that will contain the function to handle the d and i specifiers, which print integers.\n",
    "\n",
    "Update main.h:\n",
    "Add the prototype for the print_int function in main.h.\n",
    "\n",
    "Update the main.c file for testing:\n",
    "Update main.c to include tests for the d and i specifiers.\n",
    "\n",
    "Run Betty checks and compile the code:\n",
    "Ensure everything adheres to the Betty style and compiles without errors."
   ]
  },
  {
   "cell_type": "markdown",
   "metadata": {},
   "source": [
    "#### Step[0] - Erease all files and start all over"
   ]
  },
  {
   "cell_type": "code",
   "execution_count": null,
   "metadata": {},
   "outputs": [],
   "source": [
    "%%bash\n",
    "rm -f /home/elkomy/alx/printf/*.o\n",
    "rm -f /home/elkomy/alx/printf/*.c\n",
    "rm -f /home/elkomy/alx/printf/*.h\n",
    "rm -f /home/elkomy/alx/printf/printf\n",
    "rm -f /home/elkomy/alx/printf/Makefile"
   ]
  },
  {
   "cell_type": "markdown",
   "metadata": {},
   "source": [
    "#### Step[1] - Update _putchar.c (if needed)"
   ]
  },
  {
   "cell_type": "code",
   "execution_count": null,
   "metadata": {},
   "outputs": [
    {
     "name": "stdout",
     "output_type": "stream",
     "text": [
      "Overwriting /home/elkomy/alx/printf/_putchar.c\n"
     ]
    }
   ],
   "source": [
    "%%file /home/elkomy/alx/printf/_putchar.c\n",
    "#include <unistd.h>\n",
    "\n",
    "/**\n",
    "* _putchar - writes a character to stdout\n",
    "* @c: character to write\n",
    "*\n",
    "* Return: On success 1.\n",
    "* On error, -1 is returned, and errno is set appropriately.\n",
    "*/\n",
    "\n",
    "int _putchar(char c)\n",
    "{\n",
    "return (write(1, &c, 1));\n",
    "}\n"
   ]
  },
  {
   "cell_type": "markdown",
   "metadata": {},
   "source": [
    "#### Step[2] - Update _printf.c\n",
    "<details>\n",
    "\n",
    "* This file will handle the logic of processing the format string and calling the appropriate functions based on the format specifiers.\n",
    "*  add the handling of the d and i specifiers."
   ]
  },
  {
   "cell_type": "code",
   "execution_count": 88,
   "metadata": {},
   "outputs": [
    {
     "name": "stdout",
     "output_type": "stream",
     "text": [
      "Overwriting /home/elkomy/alx/printf/_printf.c\n"
     ]
    }
   ],
   "source": [
    "%%file /home/elkomy/alx/printf/_printf.c\n",
    "#include \"main.h\"\n",
    "\n",
    "/**\n",
    "* _printf - Receives the main string and all the necessary parameters to\n",
    "* print a formatted string\n",
    "* @format: A string containing all the desired characters\n",
    "* Return: A total count of the characters printed\n",
    "*/\n",
    "int _printf(const char *format, ...)\n",
    "{\n",
    "int printed_chars;\n",
    "conver_t f_list[] = {\n",
    "{\"%\", print_percent},\n",
    "{\"c\", print_char},\n",
    "{\"s\", print_string},\n",
    "{\"d\", print_int},\n",
    "{\"i\", print_int},\n",
    "{NULL, NULL},\n",
    "};\n",
    "va_list arg_list;\n",
    "\n",
    "if (format == NULL)\n",
    "return (-1);\n",
    "\n",
    "va_start(arg_list, format);\n",
    "printed_chars = format_reciever(format, f_list, arg_list);\n",
    "va_end(arg_list);\n",
    "\n",
    "return (printed_chars);\n",
    "}\n"
   ]
  },
  {
   "cell_type": "markdown",
   "metadata": {},
   "source": [
    "#### Step[3] - Update format_reciever.c\n",
    "<details>\n",
    "This file will iterate over the format string, identify the correct conversion specifier, and call the corresponding function.\n",
    "\n",
    "##### Explanation:\n",
    "Loop through the format string (for (i = 0; format[i] != '\\0'; i++)):\n",
    "This loop iterates over each character in the format string to identify and process format specifiers.\n",
    "\n",
    "Check for a percent sign (if (format[i] == '%')):\n",
    "If the current character is a %, it may indicate the start of a format specifier.\n",
    "\n",
    "Iterate over the list of known specifiers (for (j = 0; f_list[j].sym != NULL; j++)):\n",
    "This nested loop checks if the character following the % matches any known specifier in f_list. If a match is found, the corresponding function is called to handle the specifier.\n",
    "\n",
    "Unrecognized specifiers (if (f_list[j].sym == NULL && format[i + 1] != ' ' && format[i + 1] != '\\0')):\n",
    "If the specifier is not recognized and is neither a space nor the end of the string, the code prints the % and the unrecognized character as is.\n",
    "\n",
    "Handle trailing % (else if (f_list[j].sym == NULL && format[i + 1] == '\\0')):\n",
    "If the format string ends with %, this case is handled by returning -1, indicating an error (e.g., there’s nothing to print after %).\n",
    "\n",
    "Print normal characters (else block):\n",
    "If the character is not a %, it is printed as part of the string.\n",
    "\n",
    "This implementation ensures that the function handles both recognized and unrecognized format specifiers correctly, matching the requirements for Task 0, including the special handling of cases like %q and trailing %."
   ]
  },
  {
   "cell_type": "code",
   "execution_count": 89,
   "metadata": {},
   "outputs": [
    {
     "name": "stdout",
     "output_type": "stream",
     "text": [
      "Overwriting /home/elkomy/alx/printf/format_reciever.c\n"
     ]
    }
   ],
   "source": [
    "%%file /home/elkomy/alx/printf/format_reciever.c\n",
    "#include \"main.h\"\n",
    "\n",
    "/**\n",
    "* format_reciever - Receives the format string and argument list,\n",
    "* then calls the appropriate function to handle each format specifier.\n",
    "* @format: The format string that contains the specifiers.\n",
    "* @f_list: List of conversion specifiers and their associated functions.\n",
    "* @arg_list: List of arguments to be formatted.\n",
    "*\n",
    "* Return: The total number of characters printed.\n",
    "*/\n",
    "int format_reciever(const char *format, conver_t f_list[], va_list arg_list)\n",
    "{\n",
    "int i, j, printed_chars = 0;\n",
    "for (i = 0; format[i] != '\\0'; i++)\n",
    "{\n",
    "if (format[i] == '%')\n",
    "{\n",
    "for (j = 0; f_list[j].sym != NULL; j++)\n",
    "{\n",
    "if (format[i + 1] == f_list[j].sym[0])\n",
    "{\n",
    "printed_chars += f_list[j].f(arg_list);\n",
    "i++;\n",
    "break;\n",
    "}\n",
    "}\n",
    "if (f_list[j].sym == NULL && format[i + 1] != ' ' && format[i + 1] != '\\0')\n",
    "{\n",
    "_putchar(format[i]);\n",
    "_putchar(format[i + 1]);\n",
    "printed_chars += 2;\n",
    "i++;\n",
    "}\n",
    "\n",
    "else if (f_list[j].sym == NULL && format[i + 1] == '\\0')\n",
    "{\n",
    "return (-1);\n",
    "}\n",
    "}\n",
    "else\n",
    "{\n",
    "_putchar(format[i]);\n",
    "printed_chars++;\n",
    "}\n",
    "}\n",
    "\n",
    "return (printed_chars);\n",
    "}\n"
   ]
  },
  {
   "cell_type": "markdown",
   "metadata": {},
   "source": [
    "#### STEP[4] - Update print_precent.c\n",
    "<details>\n",
    "This file will contain the function that handles printing the % symbol.\n",
    "\n"
   ]
  },
  {
   "cell_type": "code",
   "execution_count": 90,
   "metadata": {},
   "outputs": [
    {
     "name": "stdout",
     "output_type": "stream",
     "text": [
      "Overwriting /home/elkomy/alx/printf/print_percent.c\n"
     ]
    }
   ],
   "source": [
    "%%file /home/elkomy/alx/printf/print_percent.c\n",
    "#include \"main.h\"\n",
    "\n",
    "/**\n",
    "* print_percent - Prints a percent symbol\n",
    "* @list: list of arguments\n",
    "* Return: Will return the amount of characters printed.\n",
    "*/\n",
    "\n",
    "int print_percent(__attribute__((unused))va_list list)\n",
    "{\n",
    "_putchar('%');\n",
    "return (1);\n",
    "}"
   ]
  },
  {
   "cell_type": "markdown",
   "metadata": {},
   "source": [
    "#### Step[5] - Update print_char.c\n",
    "<details>\n",
    "This file will handle the c specifier for printing a single character."
   ]
  },
  {
   "cell_type": "code",
   "execution_count": 91,
   "metadata": {},
   "outputs": [
    {
     "name": "stdout",
     "output_type": "stream",
     "text": [
      "Overwriting /home/elkomy/alx/printf/print_char.c\n"
     ]
    }
   ],
   "source": [
    "%%file /home/elkomy/alx/printf/print_char.c\n",
    "#include \"main.h\"\n",
    "\n",
    "/**\n",
    "* print_char - Prints character\n",
    "* @list: list of arguments\n",
    "* Return: Will return the amount of characters printed.\n",
    "*/\n",
    "int print_char(va_list list)\n",
    "{\n",
    "_putchar(va_arg(list, int));\n",
    "return (1);\n",
    "}\n"
   ]
  },
  {
   "cell_type": "markdown",
   "metadata": {},
   "source": [
    "#### Step[6] - Update print_string.c\n",
    "<details>\n",
    "This file will handle the s specifier for printing a string."
   ]
  },
  {
   "cell_type": "code",
   "execution_count": 92,
   "metadata": {},
   "outputs": [
    {
     "name": "stdout",
     "output_type": "stream",
     "text": [
      "Overwriting /home/elkomy/alx/printf/print_string.c\n"
     ]
    }
   ],
   "source": [
    "%%file /home/elkomy/alx/printf/print_string.c\n",
    "#include \"main.h\"\n",
    "\n",
    "/**\n",
    "* print_string - Prints a string\n",
    "* @list: list of arguments\n",
    "* Return: Will return the amount of characters printed.\n",
    "*/\n",
    "int print_string(va_list list)\n",
    "{\n",
    "int i;\n",
    "char *str;\n",
    "\n",
    "str = va_arg(list, char *);\n",
    "if (str == NULL)\n",
    "str = \"(null)\";\n",
    "for (i = 0; str[i] != '\\0'; i++)\n",
    "_putchar(str[i]);\n",
    "return (i);\n",
    "}\n"
   ]
  },
  {
   "cell_type": "markdown",
   "metadata": {},
   "source": [
    "#### Step[7] - Update print_int.c\n",
    "<details>\n",
    "This file will handle the d and i specifier for printing an int."
   ]
  },
  {
   "cell_type": "code",
   "execution_count": 93,
   "metadata": {},
   "outputs": [
    {
     "name": "stdout",
     "output_type": "stream",
     "text": [
      "Overwriting /home/elkomy/alx/printf/print_int.c\n"
     ]
    }
   ],
   "source": [
    "%%file /home/elkomy/alx/printf/print_int.c\n",
    "#include \"main.h\"\n",
    "#include <stdarg.h>\n",
    "\n",
    "/**\n",
    "* print_int - Prints an integer\n",
    "* @list: list of arguments\n",
    "* Return: Will return the number of characters printed\n",
    "*/\n",
    "int print_int(va_list list)\n",
    "{\n",
    "int num = va_arg(list, int);\n",
    "char buffer[12];\n",
    "int i = 0, len = 0, negative = 0;\n",
    "\n",
    "if (num == INT_MIN)\n",
    "{\n",
    "_putchar('-');\n",
    "_putchar('2');\n",
    "num = 147483648; /* INT_MIN = -2147483648, so we need to handle 147483648 */\n",
    "negative = 2; /*  Count '-' and '2' */\n",
    "}\n",
    "else if (num < 0)\n",
    "{\n",
    "_putchar('-');\n",
    "num = -num;\n",
    "negative = 1;\n",
    "}\n",
    "\n",
    "if (num == 0)\n",
    "{\n",
    "_putchar('0');\n",
    "return (1);\n",
    "}\n",
    "\n",
    "while (num != 0)\n",
    "{\n",
    "buffer[i++] = (num % 10) + '0';\n",
    "num /= 10;\n",
    "}\n",
    "\n",
    "while (i--)\n",
    "{\n",
    "_putchar(buffer[i]);\n",
    "len++;\n",
    "}\n",
    "\n",
    "return (len + negative);\n",
    "}\n"
   ]
  },
  {
   "cell_type": "markdown",
   "metadata": {},
   "source": [
    "#### Step[-2] - Update main.h\n",
    "<details>\n",
    "\n",
    "* This file will include all necessary function prototypes and the struct convert.\n",
    "* add the prototype for the print_int function."
   ]
  },
  {
   "cell_type": "code",
   "execution_count": 94,
   "metadata": {},
   "outputs": [
    {
     "name": "stdout",
     "output_type": "stream",
     "text": [
      "Overwriting /home/elkomy/alx/printf/main.h\n"
     ]
    }
   ],
   "source": [
    "%%file /home/elkomy/alx/printf/main.h\n",
    "#ifndef MAIN_H\n",
    "#define MAIN_H\n",
    "\n",
    "#include <stdio.h>\n",
    "#include <unistd.h>\n",
    "#include <stdlib.h>\n",
    "#include <stdarg.h>\n",
    "#include <limits.h>\n",
    "\n",
    "/**\n",
    "* struct convert - defines a structure for symbols and functions\n",
    "* @sym: The operator\n",
    "* @f: The function associated\n",
    "*/\n",
    "struct convert\n",
    "{\n",
    "char *sym;\n",
    "int (*f)(va_list);\n",
    "};\n",
    "typedef struct convert conver_t;\n",
    "\n",
    "int _printf(const char *format, ...);\n",
    "int _putchar(char c);\n",
    "int format_reciever(const char *format, conver_t f_list[], va_list arg_list);\n",
    "int print_percent(va_list);\n",
    "int print_char(va_list);\n",
    "int print_string(va_list);\n",
    "int print_int(va_list);\n",
    "\n",
    "#endif /* MAIN_H */\n"
   ]
  },
  {
   "cell_type": "markdown",
   "metadata": {},
   "source": [
    "#### Step[-1] - Update main.c\n",
    "<details>\n",
    "This file will test the basic functionality of _printf."
   ]
  },
  {
   "cell_type": "code",
   "execution_count": 95,
   "metadata": {},
   "outputs": [
    {
     "name": "stdout",
     "output_type": "stream",
     "text": [
      "Overwriting /home/elkomy/alx/printf/tests/main.c\n"
     ]
    }
   ],
   "source": [
    "%%file /home/elkomy/alx/printf/tests/main.c\n",
    "#include \"../main.h\"\n",
    "#include <stdio.h>\n",
    "\n",
    "/**\n",
    "* main - Entry point for testing the _printf function\n",
    "*\n",
    "* Return: Always 0\n",
    "*/\n",
    "int main(void)\n",
    "{\n",
    "int len1, len2;\n",
    "\n",
    "len1 = _printf(\"Hello %%\\n\");\n",
    "len2 = printf(\"Hello %%\\n\");\n",
    "printf(\"Returned: _printf: %d, printf: %d\\n\", len1, len2);\n",
    "\n",
    "len1 = _printf(\"%s\\n\", \"This is a string\");\n",
    "len2 = printf(\"%s\\n\", \"This is a string\");\n",
    "printf(\"Returned: _printf: %d, printf: %d\\n\", len1, len2);\n",
    "\n",
    "len1 = _printf(\"%c\\n\", 'A');\n",
    "len2 = printf(\"%c\\n\", 'A');\n",
    "printf(\"Returned: _printf: %d, printf: %d\\n\", len1, len2);\n",
    "\n",
    "len1 = _printf(\"Number: %d\\n\", 12345);\n",
    "len2 = printf(\"Number: %d\\n\", 12345);\n",
    "printf(\"Returned: _printf: %d, printf: %d\\n\", len1, len2);\n",
    "\n",
    "len1 = _printf(\"Negative Number: %i\\n\", -12345);\n",
    "len2 = printf(\"Negative Number: %i\\n\", -12345);\n",
    "printf(\"Returned: _printf: %d, printf: %d\\n\", len1, len2);\n",
    "\n",
    "return (0);\n",
    "}\n"
   ]
  },
  {
   "cell_type": "markdown",
   "metadata": {},
   "source": [
    "#### Betty Tests"
   ]
  },
  {
   "cell_type": "code",
   "execution_count": 96,
   "metadata": {},
   "outputs": [
    {
     "name": "stdout",
     "output_type": "stream",
     "text": [
      "_printf\n",
      "_putchar\n",
      "format_reciever\n",
      "print_char\n",
      "print_int\n",
      "print_percent\n",
      "print_string\n",
      "main\n",
      "struct convert\n"
     ]
    }
   ],
   "source": [
    "%%bash\n",
    "betty-style /home/elkomy/alx/printf/*.c /home/elkomy/alx/printf/tests/*.c /home/elkomy/alx/printf/*.h\n",
    "betty-doc /home/elkomy/alx/printf/*.c /home/elkomy/alx/printf/tests/*.c /home/elkomy/alx/printf/*.h\n"
   ]
  },
  {
   "cell_type": "markdown",
   "metadata": {},
   "source": [
    "#### Compile"
   ]
  },
  {
   "cell_type": "code",
   "execution_count": 97,
   "metadata": {},
   "outputs": [
    {
     "name": "stdout",
     "output_type": "stream",
     "text": [
      "\n",
      "========== /home/elkomy/alx/printf/_printf.c ==========\n",
      "_printf\n",
      "Hello %\n",
      "This is a string\n",
      "A\n",
      "Number: 12345\n",
      "Negative Number: -12345\n",
      "Hello %\n",
      "Returned: _printf: 8, printf: 8\n",
      "This is a string\n",
      "Returned: _printf: 17, printf: 17\n",
      "A\n",
      "Returned: _printf: 2, printf: 2\n",
      "Number: 12345\n",
      "Returned: _printf: 14, printf: 14\n",
      "Negative Number: -12345\n",
      "Returned: _printf: 24, printf: 24\n"
     ]
    }
   ],
   "source": [
    "\n",
    "%%bash\n",
    "betty /home/elkomy/alx/printf/_printf.c\n",
    "gcc -Wall -Werror -Wextra -pedantic -std=gnu89 -Wno-format /home/elkomy/alx/printf/*.c /home/elkomy/alx/printf/tests/main.c -o /home/elkomy/alx/printf/printf\n",
    "./printf\n",
    "\n"
   ]
  },
  {
   "cell_type": "markdown",
   "metadata": {},
   "source": [
    "#### Push to github"
   ]
  },
  {
   "cell_type": "code",
   "execution_count": 98,
   "metadata": {},
   "outputs": [
    {
     "name": "stdout",
     "output_type": "stream",
     "text": [
      "[main 8b39ea3] alx-low_level_programming/0x0D-preprocessor/0-putchar\n",
      " 6 files changed, 71 insertions(+), 19 deletions(-)\n",
      " create mode 100644 print_int.c\n"
     ]
    },
    {
     "name": "stderr",
     "output_type": "stream",
     "text": [
      "To https://github.com/elkomysara/printf\n",
      "   6fac612..8b39ea3  main -> main\n"
     ]
    }
   ],
   "source": [
    "%%bash\n",
    "git add .\n",
    "git commit -m \"alx-low_level_programming/0x0D-preprocessor/0-putchar\"\n",
    "git push"
   ]
  },
  {
   "cell_type": "markdown",
   "metadata": {},
   "source": [
    "###\n",
    "---\n",
    "<center>\n",
    "<h4>2. With a face like mine, I do better in print</h4>\n",
    "</center>\n",
    "\n",
    "---"
   ]
  },
  {
   "cell_type": "markdown",
   "metadata": {},
   "source": [
    "\n",
    "#### Handle the following custom conversion specifiers:\n",
    "\n",
    "* `b`: the unsigned int argument is converted to binary\n",
    "<details>\n",
    "\n",
    "```bash\n",
    "alex@ubuntu:~/c/printf$ cat main.c\n",
    "#include \"main.h\"\n",
    "\n",
    "/**\n",
    " * main - Entry point\n",
    " *\n",
    " * Return: Always 0\n",
    " */\n",
    "int main(void)\n",
    "{\n",
    "    _printf(\"%b\\n\", 98);\n",
    "    return (0);\n",
    "}\n",
    "alex@ubuntu:~/c/printf$ gcc -Wall -Wextra -Werror -pedantic -std=gnu89 main.c\n",
    "alex@ubuntu:~/c/printf$ ./a.out\n",
    "1100010\n",
    "alex@ubuntu:~/c/printf$\n",
    "\n",
    "```\n",
    "#### Repo:\n",
    "* GitHub repository: ``` printf```"
   ]
  },
  {
   "cell_type": "markdown",
   "metadata": {},
   "source": [
    "<details>\n",
    "\n",
    "Task 2 Overview:\n",
    "\n",
    "Goal: Implement the b specifier that converts an unsigned integer to binary and prints it.\n",
    "\n",
    "Steps:\n",
    "\n",
    "Create a print_binary.c File: This file will contain the logic to handle the conversion of an unsigned integer to a binary string.\n",
    "\n",
    "Update _printf.c and main.h: Add the b specifier to the list of conversion specifiers.\n",
    "\n",
    "Update main.c: Modify the main testing file to include tests for the %b specifier.\n",
    "\n",
    "Compile and Test: Ensure that everything is working as expected."
   ]
  },
  {
   "cell_type": "markdown",
   "metadata": {},
   "source": [
    "#### Step[0] - Erease all files and start all over"
   ]
  },
  {
   "cell_type": "code",
   "execution_count": null,
   "metadata": {},
   "outputs": [],
   "source": [
    "%%bash\n",
    "rm -f /home/elkomy/alx/printf/*.o\n",
    "rm -f /home/elkomy/alx/printf/*.c\n",
    "rm -f /home/elkomy/alx/printf/*.h\n",
    "rm -f /home/elkomy/alx/printf/printf\n",
    "rm -f /home/elkomy/alx/printf/Makefile"
   ]
  },
  {
   "cell_type": "markdown",
   "metadata": {},
   "source": [
    "#### Step[1] - Update _putchar.c & _puts.c (if needed)"
   ]
  },
  {
   "cell_type": "code",
   "execution_count": 115,
   "metadata": {},
   "outputs": [
    {
     "name": "stdout",
     "output_type": "stream",
     "text": [
      "Overwriting /home/elkomy/alx/printf/_putchar.c\n"
     ]
    }
   ],
   "source": [
    "%%file /home/elkomy/alx/printf/_putchar.c\n",
    "#include <unistd.h>\n",
    "\n",
    "/**\n",
    "* _putchar - writes a character to stdout\n",
    "* @c: character to write\n",
    "*\n",
    "* Return: On success 1.\n",
    "* On error, -1 is returned, and errno is set appropriately.\n",
    "*/\n",
    "\n",
    "int _putchar(char c)\n",
    "{\n",
    "return (write(1, &c, 1));\n",
    "}\n"
   ]
  },
  {
   "cell_type": "code",
   "execution_count": 116,
   "metadata": {},
   "outputs": [
    {
     "name": "stdout",
     "output_type": "stream",
     "text": [
      "Writing /home/elkomy/alx/printf/_puts.c\n"
     ]
    }
   ],
   "source": [
    "%%file /home/elkomy/alx/printf/_puts.c\n",
    "#include \"main.h\"\n",
    "\n",
    "/**\n",
    "* _puts - Prints a string to stdout\n",
    "* @str: The string to be printed\n",
    "* Return: The number of characters printed\n",
    "*/\n",
    "int _puts(char *str)\n",
    "{\n",
    "int i;\n",
    "\n",
    "for (i = 0; str[i] != '\\0'; i++)\n",
    "{\n",
    "_putchar(str[i]);\n",
    "}\n",
    "\n",
    "return (i);\n",
    "}\n"
   ]
  },
  {
   "cell_type": "markdown",
   "metadata": {},
   "source": [
    "#### Step[2] - Update _printf.c\n",
    "<details>\n",
    "\n",
    "* This file will handle the logic of processing the format string and calling the appropriate functions based on the format specifiers.\n",
    "*  add the handling of the d and i specifiers."
   ]
  },
  {
   "cell_type": "code",
   "execution_count": 103,
   "metadata": {},
   "outputs": [
    {
     "name": "stdout",
     "output_type": "stream",
     "text": [
      "Overwriting /home/elkomy/alx/printf/_printf.c\n"
     ]
    }
   ],
   "source": [
    "%%file /home/elkomy/alx/printf/_printf.c\n",
    "#include \"main.h\"\n",
    "\n",
    "/**\n",
    "* _printf - Receives the main string and all the necessary parameters to\n",
    "* print a formatted string\n",
    "* @format: A string containing all the desired characters\n",
    "* Return: A total count of the characters printed\n",
    "*/\n",
    "int _printf(const char *format, ...)\n",
    "{\n",
    "int printed_chars;\n",
    "conver_t f_list[] = {\n",
    "{\"%\", print_percent},\n",
    "{\"c\", print_char},\n",
    "{\"s\", print_string},\n",
    "{\"d\", print_int},\n",
    "{\"i\", print_int},\n",
    "{\"b\", print_binary},  /* Add the 'b' specifier here */\n",
    "{NULL, NULL},\n",
    "};\n",
    "va_list arg_list;\n",
    "\n",
    "if (format == NULL)\n",
    "return (-1);\n",
    "\n",
    "va_start(arg_list, format);\n",
    "printed_chars = format_reciever(format, f_list, arg_list);\n",
    "va_end(arg_list);\n",
    "\n",
    "return (printed_chars);\n",
    "}\n"
   ]
  },
  {
   "cell_type": "markdown",
   "metadata": {},
   "source": [
    "#### Step[3] - Update format_reciever.c\n",
    "<details>\n",
    "This file will iterate over the format string, identify the correct conversion specifier, and call the corresponding function.\n",
    "\n",
    "##### Explanation:\n",
    "Loop through the format string (for (i = 0; format[i] != '\\0'; i++)):\n",
    "This loop iterates over each character in the format string to identify and process format specifiers.\n",
    "\n",
    "Check for a percent sign (if (format[i] == '%')):\n",
    "If the current character is a %, it may indicate the start of a format specifier.\n",
    "\n",
    "Iterate over the list of known specifiers (for (j = 0; f_list[j].sym != NULL; j++)):\n",
    "This nested loop checks if the character following the % matches any known specifier in f_list. If a match is found, the corresponding function is called to handle the specifier.\n",
    "\n",
    "Unrecognized specifiers (if (f_list[j].sym == NULL && format[i + 1] != ' ' && format[i + 1] != '\\0')):\n",
    "If the specifier is not recognized and is neither a space nor the end of the string, the code prints the % and the unrecognized character as is.\n",
    "\n",
    "Handle trailing % (else if (f_list[j].sym == NULL && format[i + 1] == '\\0')):\n",
    "If the format string ends with %, this case is handled by returning -1, indicating an error (e.g., there’s nothing to print after %).\n",
    "\n",
    "Print normal characters (else block):\n",
    "If the character is not a %, it is printed as part of the string.\n",
    "\n",
    "This implementation ensures that the function handles both recognized and unrecognized format specifiers correctly, matching the requirements for Task 0, including the special handling of cases like %q and trailing %."
   ]
  },
  {
   "cell_type": "code",
   "execution_count": null,
   "metadata": {},
   "outputs": [
    {
     "name": "stdout",
     "output_type": "stream",
     "text": [
      "Overwriting /home/elkomy/alx/printf/format_reciever.c\n"
     ]
    }
   ],
   "source": [
    "%%file /home/elkomy/alx/printf/format_reciever.c\n",
    "#include \"main.h\"\n",
    "\n",
    "/**\n",
    "* format_reciever - Receives the format string and argument list,\n",
    "* then calls the appropriate function to handle each format specifier.\n",
    "* @format: The format string that contains the specifiers.\n",
    "* @f_list: List of conversion specifiers and their associated functions.\n",
    "* @arg_list: List of arguments to be formatted.\n",
    "*\n",
    "* Return: The total number of characters printed.\n",
    "*/\n",
    "int format_reciever(const char *format, conver_t f_list[], va_list arg_list)\n",
    "{\n",
    "int i, j, printed_chars = 0;\n",
    "for (i = 0; format[i] != '\\0'; i++)\n",
    "{\n",
    "if (format[i] == '%')\n",
    "{\n",
    "for (j = 0; f_list[j].sym != NULL; j++)\n",
    "{\n",
    "if (format[i + 1] == f_list[j].sym[0])\n",
    "{\n",
    "printed_chars += f_list[j].f(arg_list);\n",
    "i++;\n",
    "break;\n",
    "}\n",
    "}\n",
    "if (f_list[j].sym == NULL && format[i + 1] != ' ' && format[i + 1] != '\\0')\n",
    "{\n",
    "_putchar(format[i]);\n",
    "_putchar(format[i + 1]);\n",
    "printed_chars += 2;\n",
    "i++;\n",
    "}\n",
    "\n",
    "else if (f_list[j].sym == NULL && format[i + 1] == '\\0')\n",
    "{\n",
    "return (-1);\n",
    "}\n",
    "}\n",
    "else\n",
    "{\n",
    "_putchar(format[i]);\n",
    "printed_chars++;\n",
    "}\n",
    "}\n",
    "\n",
    "return (printed_chars);\n",
    "}\n"
   ]
  },
  {
   "cell_type": "markdown",
   "metadata": {},
   "source": [
    "#### STEP[4] - Update print_precent.c\n",
    "<details>\n",
    "This file will contain the function that handles printing the % symbol.\n",
    "\n"
   ]
  },
  {
   "cell_type": "code",
   "execution_count": null,
   "metadata": {},
   "outputs": [
    {
     "name": "stdout",
     "output_type": "stream",
     "text": [
      "Overwriting /home/elkomy/alx/printf/print_percent.c\n"
     ]
    }
   ],
   "source": [
    "%%file /home/elkomy/alx/printf/print_percent.c\n",
    "#include \"main.h\"\n",
    "\n",
    "/**\n",
    "* print_percent - Prints a percent symbol\n",
    "* @list: list of arguments\n",
    "* Return: Will return the amount of characters printed.\n",
    "*/\n",
    "\n",
    "int print_percent(__attribute__((unused))va_list list)\n",
    "{\n",
    "_putchar('%');\n",
    "return (1);\n",
    "}"
   ]
  },
  {
   "cell_type": "markdown",
   "metadata": {},
   "source": [
    "#### Step[5] - Update print_char.c\n",
    "<details>\n",
    "This file will handle the c specifier for printing a single character."
   ]
  },
  {
   "cell_type": "code",
   "execution_count": null,
   "metadata": {},
   "outputs": [
    {
     "name": "stdout",
     "output_type": "stream",
     "text": [
      "Overwriting /home/elkomy/alx/printf/print_char.c\n"
     ]
    }
   ],
   "source": [
    "%%file /home/elkomy/alx/printf/print_char.c\n",
    "#include \"main.h\"\n",
    "\n",
    "/**\n",
    "* print_char - Prints character\n",
    "* @list: list of arguments\n",
    "* Return: Will return the amount of characters printed.\n",
    "*/\n",
    "int print_char(va_list list)\n",
    "{\n",
    "_putchar(va_arg(list, int));\n",
    "return (1);\n",
    "}\n"
   ]
  },
  {
   "cell_type": "markdown",
   "metadata": {},
   "source": [
    "#### Step[6] - Update print_string.c\n",
    "<details>\n",
    "This file will handle the s specifier for printing a string."
   ]
  },
  {
   "cell_type": "code",
   "execution_count": null,
   "metadata": {},
   "outputs": [
    {
     "name": "stdout",
     "output_type": "stream",
     "text": [
      "Overwriting /home/elkomy/alx/printf/print_string.c\n"
     ]
    }
   ],
   "source": [
    "%%file /home/elkomy/alx/printf/print_string.c\n",
    "#include \"main.h\"\n",
    "\n",
    "/**\n",
    "* print_string - Prints a string\n",
    "* @list: list of arguments\n",
    "* Return: Will return the amount of characters printed.\n",
    "*/\n",
    "int print_string(va_list list)\n",
    "{\n",
    "int i;\n",
    "char *str;\n",
    "\n",
    "str = va_arg(list, char *);\n",
    "if (str == NULL)\n",
    "str = \"(null)\";\n",
    "for (i = 0; str[i] != '\\0'; i++)\n",
    "_putchar(str[i]);\n",
    "return (i);\n",
    "}\n"
   ]
  },
  {
   "cell_type": "markdown",
   "metadata": {},
   "source": [
    "#### Step[7] - Update print_int.c\n",
    "<details>\n",
    "This file will handle the d and i specifier for printing an int."
   ]
  },
  {
   "cell_type": "code",
   "execution_count": 109,
   "metadata": {},
   "outputs": [
    {
     "name": "stdout",
     "output_type": "stream",
     "text": [
      "Overwriting /home/elkomy/alx/printf/print_int.c\n"
     ]
    }
   ],
   "source": [
    "%%file /home/elkomy/alx/printf/print_int.c\n",
    "#include \"main.h\"\n",
    "#include <stdarg.h>\n",
    "#include <limits.h>\n",
    "\n",
    "/**\n",
    "* print_int - Prints an integer\n",
    "* @list: list of arguments\n",
    "* Return: Will return the number of characters printed\n",
    "*/\n",
    "int print_int(va_list list)\n",
    "{\n",
    "int num = va_arg(list, int);\n",
    "char buffer[12];\n",
    "int i = 0, len = 0, negative = 0;\n",
    "\n",
    "if (num == INT_MIN)\n",
    "{\n",
    "_putchar('-');\n",
    "_putchar('2');\n",
    "num = 147483648; /* INT_MIN = -2147483648, so we need to handle 147483648 */\n",
    "negative = 2; /*  Count '-' and '2' */\n",
    "}\n",
    "else if (num < 0)\n",
    "{\n",
    "_putchar('-');\n",
    "num = -num;\n",
    "negative = 1;\n",
    "}\n",
    "\n",
    "if (num == 0)\n",
    "{\n",
    "_putchar('0');\n",
    "return (1);\n",
    "}\n",
    "\n",
    "while (num != 0)\n",
    "{\n",
    "buffer[i++] = (num % 10) + '0';\n",
    "num /= 10;\n",
    "}\n",
    "\n",
    "while (i--)\n",
    "{\n",
    "_putchar(buffer[i]);\n",
    "len++;\n",
    "}\n",
    "\n",
    "return (len + negative);\n",
    "}\n"
   ]
  },
  {
   "cell_type": "markdown",
   "metadata": {},
   "source": [
    "#### Step[8] - Update print_binary.c\n",
    "<details>\n",
    "This file will handle the b specifier for printing binary."
   ]
  },
  {
   "cell_type": "code",
   "execution_count": 110,
   "metadata": {},
   "outputs": [
    {
     "name": "stdout",
     "output_type": "stream",
     "text": [
      "Overwriting /home/elkomy/alx/printf/print_binary.c\n"
     ]
    }
   ],
   "source": [
    "%%file /home/elkomy/alx/printf/print_binary.c\n",
    "#include \"main.h\"\n",
    "\n",
    "/**\n",
    "* print_binary - Converts an unsigned int argument to binary\n",
    "* @list: list of arguments\n",
    "* Return: The number of characters printed\n",
    "*/\n",
    "int print_binary(va_list list)\n",
    "{\n",
    "unsigned int n = va_arg(list, unsigned int);\n",
    "char *binary_str;\n",
    "int num_chars;\n",
    "\n",
    "binary_str = convert_to_binary(n);\n",
    "if (binary_str == NULL)\n",
    "return (-1);\n",
    "\n",
    "num_chars = _puts(binary_str);\n",
    "return (num_chars);\n",
    "}\n",
    "\n",
    "/**\n",
    "* convert_to_binary - Converts an unsigned int to a binary string\n",
    "* @num: The unsigned int to convert\n",
    "* Return: A pointer to the binary string (static buffer)\n",
    "*/\n",
    "char *convert_to_binary(unsigned int num)\n",
    "{\n",
    "static char buffer[33];\n",
    "char *ptr = &buffer[32];\n",
    "*ptr = '\\0';\n",
    "\n",
    "do {\n",
    "*--ptr = (num % 2) + '0';\n",
    "num /= 2;\n",
    "} while (num > 0);\n",
    "\n",
    "return (ptr);\n",
    "}\n"
   ]
  },
  {
   "cell_type": "markdown",
   "metadata": {},
   "source": [
    "#### Step[-2] - Update main.h\n",
    "<details>\n",
    "\n",
    "* This file will include all necessary function prototypes and the struct convert.\n",
    "* add the prototype for the print_int function."
   ]
  },
  {
   "cell_type": "code",
   "execution_count": 111,
   "metadata": {},
   "outputs": [
    {
     "name": "stdout",
     "output_type": "stream",
     "text": [
      "Overwriting /home/elkomy/alx/printf/main.h\n"
     ]
    }
   ],
   "source": [
    "%%file /home/elkomy/alx/printf/main.h\n",
    "#ifndef MAIN_H\n",
    "#define MAIN_H\n",
    "\n",
    "#include <stdio.h>\n",
    "#include <unistd.h>\n",
    "#include <stdlib.h>\n",
    "#include <stdarg.h>\n",
    "\n",
    "/**\n",
    "* struct convert - defines a structure for symbols and functions\n",
    "* @sym: The operator\n",
    "* @f: The function associated\n",
    "*/\n",
    "struct convert\n",
    "{\n",
    "char *sym;\n",
    "int (*f)(va_list);\n",
    "};\n",
    "typedef struct convert conver_t;\n",
    "\n",
    "int _printf(const char *format, ...);\n",
    "int _putchar(char c);\n",
    "int _puts(char *str);\n",
    "int format_reciever(const char *format, conver_t f_list[], va_list arg_list);\n",
    "int print_percent(va_list);\n",
    "int print_char(va_list);\n",
    "int print_string(va_list);\n",
    "int print_int(va_list);\n",
    "int print_binary(va_list list);\n",
    "char *convert_to_binary(unsigned int num);\n",
    "\n",
    "#endif /* MAIN_H */\n"
   ]
  },
  {
   "cell_type": "markdown",
   "metadata": {},
   "source": [
    "#### Step[-1] - Update main.c\n",
    "<details>\n",
    "This file will test the basic functionality of _printf."
   ]
  },
  {
   "cell_type": "code",
   "execution_count": 112,
   "metadata": {},
   "outputs": [
    {
     "name": "stdout",
     "output_type": "stream",
     "text": [
      "Overwriting /home/elkomy/alx/printf/tests/main.c\n"
     ]
    }
   ],
   "source": [
    "%%file /home/elkomy/alx/printf/tests/main.c\n",
    "#include \"../main.h\"\n",
    "#include <stdio.h>\n",
    "\n",
    "/**\n",
    "* main - Entry point for testing the _printf function\n",
    "*\n",
    "* Return: Always 0\n",
    "*/\n",
    "int main(void)\n",
    "{\n",
    "int len1, len2;\n",
    "\n",
    "len1 = _printf(\"Binary: %b\\n\", 98);\n",
    "len2 = printf(\"Binary: 1100010\\n\");\n",
    "printf(\"Returned: _printf: %d, printf: %d\\n\", len1, len2);\n",
    "\n",
    "return (0);\n",
    "}\n"
   ]
  },
  {
   "cell_type": "markdown",
   "metadata": {},
   "source": [
    "#### Betty Tests"
   ]
  },
  {
   "cell_type": "code",
   "execution_count": 113,
   "metadata": {},
   "outputs": [
    {
     "name": "stdout",
     "output_type": "stream",
     "text": [
      "_printf\n",
      "_putchar\n",
      "format_reciever\n",
      "print_binary\n",
      "convert_to_binary\n",
      "print_char\n",
      "print_int\n",
      "print_percent\n",
      "print_string\n",
      "main\n",
      "struct convert\n"
     ]
    }
   ],
   "source": [
    "%%bash\n",
    "betty-style /home/elkomy/alx/printf/*.c /home/elkomy/alx/printf/tests/*.c /home/elkomy/alx/printf/*.h\n",
    "betty-doc /home/elkomy/alx/printf/*.c /home/elkomy/alx/printf/tests/*.c /home/elkomy/alx/printf/*.h\n"
   ]
  },
  {
   "cell_type": "markdown",
   "metadata": {},
   "source": [
    "#### Compile"
   ]
  },
  {
   "cell_type": "code",
   "execution_count": 117,
   "metadata": {},
   "outputs": [
    {
     "name": "stdout",
     "output_type": "stream",
     "text": [
      "\n",
      "========== /home/elkomy/alx/printf/_printf.c ==========\n",
      "_printf\n",
      "Binary: 1100010\n",
      "Binary: 1100010\n",
      "Returned: _printf: 16, printf: 16\n"
     ]
    }
   ],
   "source": [
    "\n",
    "%%bash\n",
    "betty /home/elkomy/alx/printf/_printf.c\n",
    "gcc -Wall -Werror -Wextra -pedantic -std=gnu89 -Wno-format /home/elkomy/alx/printf/*.c /home/elkomy/alx/printf/tests/main.c -o /home/elkomy/alx/printf/printf\n",
    "./printf\n",
    "\n"
   ]
  },
  {
   "cell_type": "markdown",
   "metadata": {},
   "source": [
    "#### Push to github"
   ]
  },
  {
   "cell_type": "code",
   "execution_count": 118,
   "metadata": {},
   "outputs": [
    {
     "name": "stdout",
     "output_type": "stream",
     "text": [
      "[main 21d188d] alx-low_level_programming/0x0D-preprocessor/0-putchar\n",
      " 7 files changed, 80 insertions(+), 35 deletions(-)\n",
      " create mode 100644 _puts.c\n",
      " create mode 100644 print_binary.c\n",
      " rewrite tests/main.c (72%)\n"
     ]
    },
    {
     "name": "stderr",
     "output_type": "stream",
     "text": [
      "To https://github.com/elkomysara/printf\n",
      "   8b39ea3..21d188d  main -> main\n"
     ]
    }
   ],
   "source": [
    "%%bash\n",
    "git add .\n",
    "git commit -m \"alx-low_level_programming/0x0D-preprocessor/0-putchar\"\n",
    "git push"
   ]
  },
  {
   "cell_type": "markdown",
   "metadata": {},
   "source": [
    "###\n",
    "---\n",
    "<center>\n",
    "<h4>3. What one has not experienced, one will never understand in print</h4>\n",
    "</center>\n",
    "\n",
    "---"
   ]
  },
  {
   "cell_type": "markdown",
   "metadata": {},
   "source": [
    "\n",
    "#### Handle the following conversion specifiers:\n",
    "\n",
    "* `u`\n",
    "* `o`\n",
    "* `x`\n",
    "* `X`\n",
    "* You don’t have to handle the flag characters\n",
    "* You don’t have to handle field width\n",
    "* You don’t have to handle precision\n",
    "* You don’t have to handle the length modifiers\n",
    "\n",
    "#### Repo:\n",
    "* GitHub repository: ``` printf```"
   ]
  },
  {
   "cell_type": "markdown",
   "metadata": {},
   "source": [
    "<details>\n",
    "\n",
    "Task 3: Implement u, o, x, and X Conversion Specifiers\n",
    "Overview:\n",
    "In this task, we will implement the following conversion specifiers:\n",
    "\n",
    "u: Handles unsigned integers.\n",
    "o: Handles unsigned integers and converts them to octal.\n",
    "x: Handles unsigned integers and converts them to hexadecimal (lowercase).\n",
    "X: Handles unsigned integers and converts them to hexadecimal (uppercase).\n",
    "Plan:\n",
    "Update _printf.c:\n",
    "\n",
    "Add the u, o, x, and X specifiers to the list of supported conversions.\n",
    "Create the Conversion Functions:\n",
    "\n",
    "Implement the functions print_unsigned, print_octal, print_hex, and print_HEX to handle the respective conversions.\n",
    "Update main.h:\n",
    "\n",
    "Add prototypes for the new conversion functions.\n",
    "Update the Test File:\n",
    "\n",
    "Modify main.c to test these new conversion specifiers.\n",
    "Compile and Test:\n",
    "\n",
    "Ensure everything works correctly by compiling and running the tests."
   ]
  },
  {
   "cell_type": "markdown",
   "metadata": {},
   "source": [
    "#### Step[0] - Erease all files and start all over"
   ]
  },
  {
   "cell_type": "code",
   "execution_count": null,
   "metadata": {},
   "outputs": [],
   "source": [
    "%%bash\n",
    "rm -f /home/elkomy/alx/printf/*.o\n",
    "rm -f /home/elkomy/alx/printf/*.c\n",
    "rm -f /home/elkomy/alx/printf/*.h\n",
    "rm -f /home/elkomy/alx/printf/printf\n",
    "rm -f /home/elkomy/alx/printf/Makefile"
   ]
  },
  {
   "cell_type": "markdown",
   "metadata": {},
   "source": [
    "#### Step[1] - Update _putchar.c & _puts.c (if needed)"
   ]
  },
  {
   "cell_type": "code",
   "execution_count": null,
   "metadata": {},
   "outputs": [
    {
     "name": "stdout",
     "output_type": "stream",
     "text": [
      "Overwriting /home/elkomy/alx/printf/_putchar.c\n"
     ]
    }
   ],
   "source": [
    "%%file /home/elkomy/alx/printf/_putchar.c\n",
    "#include <unistd.h>\n",
    "\n",
    "/**\n",
    "* _putchar - writes a character to stdout\n",
    "* @c: character to write\n",
    "*\n",
    "* Return: On success 1.\n",
    "* On error, -1 is returned, and errno is set appropriately.\n",
    "*/\n",
    "\n",
    "int _putchar(char c)\n",
    "{\n",
    "return (write(1, &c, 1));\n",
    "}\n"
   ]
  },
  {
   "cell_type": "code",
   "execution_count": null,
   "metadata": {},
   "outputs": [
    {
     "name": "stdout",
     "output_type": "stream",
     "text": [
      "Writing /home/elkomy/alx/printf/_puts.c\n"
     ]
    }
   ],
   "source": [
    "%%file /home/elkomy/alx/printf/_puts.c\n",
    "#include \"main.h\"\n",
    "\n",
    "/**\n",
    "* _puts - Prints a string to stdout\n",
    "* @str: The string to be printed\n",
    "* Return: The number of characters printed\n",
    "*/\n",
    "int _puts(char *str)\n",
    "{\n",
    "int i;\n",
    "\n",
    "for (i = 0; str[i] != '\\0'; i++)\n",
    "{\n",
    "_putchar(str[i]);\n",
    "}\n",
    "\n",
    "return (i);\n",
    "}\n"
   ]
  },
  {
   "cell_type": "markdown",
   "metadata": {},
   "source": [
    "#### Step[2] - Update _printf.c\n",
    "<details>\n",
    "\n",
    "* This file will handle the logic of processing the format string and calling the appropriate functions based on the format specifiers.\n",
    "*  add the handling of the d and i specifiers.\n",
    "* add the handling of the u, o, x, and X specifiers in _printf.c."
   ]
  },
  {
   "cell_type": "code",
   "execution_count": 119,
   "metadata": {},
   "outputs": [
    {
     "name": "stdout",
     "output_type": "stream",
     "text": [
      "Overwriting /home/elkomy/alx/printf/_printf.c\n"
     ]
    }
   ],
   "source": [
    "%%file /home/elkomy/alx/printf/_printf.c\n",
    "#include \"main.h\"\n",
    "\n",
    "/**\n",
    "* _printf - Receives the main string and all the necessary parameters to\n",
    "* print a formatted string\n",
    "* @format: A string containing all the desired characters\n",
    "* Return: A total count of the characters printed\n",
    "*/\n",
    "int _printf(const char *format, ...)\n",
    "{\n",
    "int printed_chars;\n",
    "conver_t f_list[] = {\n",
    "{\"%\", print_percent},\n",
    "{\"c\", print_char},\n",
    "{\"s\", print_string},\n",
    "{\"d\", print_int},\n",
    "{\"i\", print_int},\n",
    "{\"b\", print_binary},\n",
    "{\"u\", print_unsigned},  /* Add the 'u' specifier here */\n",
    "{\"o\", print_octal},     /* Add the 'o' specifier here */\n",
    "{\"x\", print_hex},       /* Add the 'x' specifier here */\n",
    "{\"X\", print_HEX},       /* Add the 'X' specifier here */\n",
    "{NULL, NULL},\n",
    "};\n",
    "va_list arg_list;\n",
    "\n",
    "if (format == NULL)\n",
    "return (-1);\n",
    "\n",
    "va_start(arg_list, format);\n",
    "printed_chars = format_reciever(format, f_list, arg_list);\n",
    "va_end(arg_list);\n",
    "\n",
    "return (printed_chars);\n",
    "}\n"
   ]
  },
  {
   "cell_type": "markdown",
   "metadata": {},
   "source": [
    "#### Step[3] - Update format_reciever.c\n",
    "<details>\n",
    "This file will iterate over the format string, identify the correct conversion specifier, and call the corresponding function.\n",
    "\n",
    "##### Explanation:\n",
    "Loop through the format string (for (i = 0; format[i] != '\\0'; i++)):\n",
    "This loop iterates over each character in the format string to identify and process format specifiers.\n",
    "\n",
    "Check for a percent sign (if (format[i] == '%')):\n",
    "If the current character is a %, it may indicate the start of a format specifier.\n",
    "\n",
    "Iterate over the list of known specifiers (for (j = 0; f_list[j].sym != NULL; j++)):\n",
    "This nested loop checks if the character following the % matches any known specifier in f_list. If a match is found, the corresponding function is called to handle the specifier.\n",
    "\n",
    "Unrecognized specifiers (if (f_list[j].sym == NULL && format[i + 1] != ' ' && format[i + 1] != '\\0')):\n",
    "If the specifier is not recognized and is neither a space nor the end of the string, the code prints the % and the unrecognized character as is.\n",
    "\n",
    "Handle trailing % (else if (f_list[j].sym == NULL && format[i + 1] == '\\0')):\n",
    "If the format string ends with %, this case is handled by returning -1, indicating an error (e.g., there’s nothing to print after %).\n",
    "\n",
    "Print normal characters (else block):\n",
    "If the character is not a %, it is printed as part of the string.\n",
    "\n",
    "This implementation ensures that the function handles both recognized and unrecognized format specifiers correctly, matching the requirements for Task 0, including the special handling of cases like %q and trailing %."
   ]
  },
  {
   "cell_type": "code",
   "execution_count": null,
   "metadata": {},
   "outputs": [
    {
     "name": "stdout",
     "output_type": "stream",
     "text": [
      "Overwriting /home/elkomy/alx/printf/format_reciever.c\n"
     ]
    }
   ],
   "source": [
    "%%file /home/elkomy/alx/printf/format_reciever.c\n",
    "#include \"main.h\"\n",
    "\n",
    "/**\n",
    "* format_reciever - Receives the format string and argument list,\n",
    "* then calls the appropriate function to handle each format specifier.\n",
    "* @format: The format string that contains the specifiers.\n",
    "* @f_list: List of conversion specifiers and their associated functions.\n",
    "* @arg_list: List of arguments to be formatted.\n",
    "*\n",
    "* Return: The total number of characters printed.\n",
    "*/\n",
    "int format_reciever(const char *format, conver_t f_list[], va_list arg_list)\n",
    "{\n",
    "int i, j, printed_chars = 0;\n",
    "for (i = 0; format[i] != '\\0'; i++)\n",
    "{\n",
    "if (format[i] == '%')\n",
    "{\n",
    "for (j = 0; f_list[j].sym != NULL; j++)\n",
    "{\n",
    "if (format[i + 1] == f_list[j].sym[0])\n",
    "{\n",
    "printed_chars += f_list[j].f(arg_list);\n",
    "i++;\n",
    "break;\n",
    "}\n",
    "}\n",
    "if (f_list[j].sym == NULL && format[i + 1] != ' ' && format[i + 1] != '\\0')\n",
    "{\n",
    "_putchar(format[i]);\n",
    "_putchar(format[i + 1]);\n",
    "printed_chars += 2;\n",
    "i++;\n",
    "}\n",
    "\n",
    "else if (f_list[j].sym == NULL && format[i + 1] == '\\0')\n",
    "{\n",
    "return (-1);\n",
    "}\n",
    "}\n",
    "else\n",
    "{\n",
    "_putchar(format[i]);\n",
    "printed_chars++;\n",
    "}\n",
    "}\n",
    "\n",
    "return (printed_chars);\n",
    "}\n"
   ]
  },
  {
   "cell_type": "markdown",
   "metadata": {},
   "source": [
    "#### STEP[4] - Update print_precent.c\n",
    "<details>\n",
    "This file will contain the function that handles printing the % symbol.\n",
    "\n"
   ]
  },
  {
   "cell_type": "code",
   "execution_count": null,
   "metadata": {},
   "outputs": [
    {
     "name": "stdout",
     "output_type": "stream",
     "text": [
      "Overwriting /home/elkomy/alx/printf/print_percent.c\n"
     ]
    }
   ],
   "source": [
    "%%file /home/elkomy/alx/printf/print_percent.c\n",
    "#include \"main.h\"\n",
    "\n",
    "/**\n",
    "* print_percent - Prints a percent symbol\n",
    "* @list: list of arguments\n",
    "* Return: Will return the amount of characters printed.\n",
    "*/\n",
    "\n",
    "int print_percent(__attribute__((unused))va_list list)\n",
    "{\n",
    "_putchar('%');\n",
    "return (1);\n",
    "}"
   ]
  },
  {
   "cell_type": "markdown",
   "metadata": {},
   "source": [
    "#### Step[5] - Update print_char.c\n",
    "<details>\n",
    "This file will handle the c specifier for printing a single character."
   ]
  },
  {
   "cell_type": "code",
   "execution_count": null,
   "metadata": {},
   "outputs": [
    {
     "name": "stdout",
     "output_type": "stream",
     "text": [
      "Overwriting /home/elkomy/alx/printf/print_char.c\n"
     ]
    }
   ],
   "source": [
    "%%file /home/elkomy/alx/printf/print_char.c\n",
    "#include \"main.h\"\n",
    "\n",
    "/**\n",
    "* print_char - Prints character\n",
    "* @list: list of arguments\n",
    "* Return: Will return the amount of characters printed.\n",
    "*/\n",
    "int print_char(va_list list)\n",
    "{\n",
    "_putchar(va_arg(list, int));\n",
    "return (1);\n",
    "}\n"
   ]
  },
  {
   "cell_type": "markdown",
   "metadata": {},
   "source": [
    "#### Step[6] - Update print_string.c\n",
    "<details>\n",
    "This file will handle the s specifier for printing a string."
   ]
  },
  {
   "cell_type": "code",
   "execution_count": null,
   "metadata": {},
   "outputs": [
    {
     "name": "stdout",
     "output_type": "stream",
     "text": [
      "Overwriting /home/elkomy/alx/printf/print_string.c\n"
     ]
    }
   ],
   "source": [
    "%%file /home/elkomy/alx/printf/print_string.c\n",
    "#include \"main.h\"\n",
    "\n",
    "/**\n",
    "* print_string - Prints a string\n",
    "* @list: list of arguments\n",
    "* Return: Will return the amount of characters printed.\n",
    "*/\n",
    "int print_string(va_list list)\n",
    "{\n",
    "int i;\n",
    "char *str;\n",
    "\n",
    "str = va_arg(list, char *);\n",
    "if (str == NULL)\n",
    "str = \"(null)\";\n",
    "for (i = 0; str[i] != '\\0'; i++)\n",
    "_putchar(str[i]);\n",
    "return (i);\n",
    "}\n"
   ]
  },
  {
   "cell_type": "markdown",
   "metadata": {},
   "source": [
    "#### Step[7] - Update print_int.c\n",
    "<details>\n",
    "This file will handle the d and i specifier for printing an int."
   ]
  },
  {
   "cell_type": "code",
   "execution_count": null,
   "metadata": {},
   "outputs": [
    {
     "name": "stdout",
     "output_type": "stream",
     "text": [
      "Overwriting /home/elkomy/alx/printf/print_int.c\n"
     ]
    }
   ],
   "source": [
    "%%file /home/elkomy/alx/printf/print_int.c\n",
    "#include \"main.h\"\n",
    "#include <stdarg.h>\n",
    "#include <limits.h>\n",
    "\n",
    "/**\n",
    "* print_int - Prints an integer\n",
    "* @list: list of arguments\n",
    "* Return: Will return the number of characters printed\n",
    "*/\n",
    "int print_int(va_list list)\n",
    "{\n",
    "int num = va_arg(list, int);\n",
    "char buffer[12];\n",
    "int i = 0, len = 0, negative = 0;\n",
    "\n",
    "if (num == INT_MIN)\n",
    "{\n",
    "_putchar('-');\n",
    "_putchar('2');\n",
    "num = 147483648; /* INT_MIN = -2147483648, so we need to handle 147483648 */\n",
    "negative = 2; /*  Count '-' and '2' */\n",
    "}\n",
    "else if (num < 0)\n",
    "{\n",
    "_putchar('-');\n",
    "num = -num;\n",
    "negative = 1;\n",
    "}\n",
    "\n",
    "if (num == 0)\n",
    "{\n",
    "_putchar('0');\n",
    "return (1);\n",
    "}\n",
    "\n",
    "while (num != 0)\n",
    "{\n",
    "buffer[i++] = (num % 10) + '0';\n",
    "num /= 10;\n",
    "}\n",
    "\n",
    "while (i--)\n",
    "{\n",
    "_putchar(buffer[i]);\n",
    "len++;\n",
    "}\n",
    "\n",
    "return (len + negative);\n",
    "}\n"
   ]
  },
  {
   "cell_type": "markdown",
   "metadata": {},
   "source": [
    "#### Step[8] - Update print_binary.c\n",
    "<details>\n",
    "This file will handle the b specifier for printing binary."
   ]
  },
  {
   "cell_type": "code",
   "execution_count": null,
   "metadata": {},
   "outputs": [
    {
     "name": "stdout",
     "output_type": "stream",
     "text": [
      "Overwriting /home/elkomy/alx/printf/print_binary.c\n"
     ]
    }
   ],
   "source": [
    "%%file /home/elkomy/alx/printf/print_binary.c\n",
    "#include \"main.h\"\n",
    "\n",
    "/**\n",
    "* print_binary - Converts an unsigned int argument to binary\n",
    "* @list: list of arguments\n",
    "* Return: The number of characters printed\n",
    "*/\n",
    "int print_binary(va_list list)\n",
    "{\n",
    "unsigned int n = va_arg(list, unsigned int);\n",
    "char *binary_str;\n",
    "int num_chars;\n",
    "\n",
    "binary_str = convert_to_binary(n);\n",
    "if (binary_str == NULL)\n",
    "return (-1);\n",
    "\n",
    "num_chars = _puts(binary_str);\n",
    "return (num_chars);\n",
    "}\n",
    "\n",
    "/**\n",
    "* convert_to_binary - Converts an unsigned int to a binary string\n",
    "* @num: The unsigned int to convert\n",
    "* Return: A pointer to the binary string (static buffer)\n",
    "*/\n",
    "char *convert_to_binary(unsigned int num)\n",
    "{\n",
    "static char buffer[33];\n",
    "char *ptr = &buffer[32];\n",
    "*ptr = '\\0';\n",
    "\n",
    "do {\n",
    "*--ptr = (num % 2) + '0';\n",
    "num /= 2;\n",
    "} while (num > 0);\n",
    "\n",
    "return (ptr);\n",
    "}\n"
   ]
  },
  {
   "cell_type": "markdown",
   "metadata": {},
   "source": [
    "#### Step[9] - Update print_unsigned.c & print_octal.c & print_hex.c & print_HEX.c\n",
    "<details>\n",
    "This file will handle the u , o, x and X specifier ."
   ]
  },
  {
   "cell_type": "code",
   "execution_count": 147,
   "metadata": {},
   "outputs": [
    {
     "name": "stdout",
     "output_type": "stream",
     "text": [
      "Overwriting /home/elkomy/alx/printf/print_unsigned.c\n"
     ]
    }
   ],
   "source": [
    "%%file /home/elkomy/alx/printf/print_unsigned.c\n",
    "#include \"main.h\"\n",
    "\n",
    "/**\n",
    "* print_unsigned - Prints an unsigned integer\n",
    "* @list: list of arguments\n",
    "* Return: Will return the number of characters printed\n",
    "*/\n",
    "int print_unsigned(va_list list)\n",
    "{\n",
    "unsigned int num = va_arg(list, unsigned int);\n",
    "char buffer[12];\n",
    "int i = 0;\n",
    "int len;\n",
    "\n",
    "if (num == 0)\n",
    "{\n",
    "_putchar('0');\n",
    "return (1);\n",
    "}\n",
    "\n",
    "while (num != 0)\n",
    "{\n",
    "buffer[i++] = (num % 10) + '0';\n",
    "num /= 10;\n",
    "}\n",
    "\n",
    "len = i;\n",
    "\n",
    "while (i--)\n",
    "_putchar(buffer[i]);\n",
    "\n",
    "return (len);\n",
    "}\n"
   ]
  },
  {
   "cell_type": "code",
   "execution_count": 148,
   "metadata": {},
   "outputs": [
    {
     "name": "stdout",
     "output_type": "stream",
     "text": [
      "Overwriting /home/elkomy/alx/printf/print_octal.c\n"
     ]
    }
   ],
   "source": [
    "%%file /home/elkomy/alx/printf/print_octal.c\n",
    "#include \"main.h\"\n",
    "\n",
    "/**\n",
    "* print_octal - Prints an unsigned integer in octal notation\n",
    "* @list: list of arguments\n",
    "* Return: Will return the number of characters printed\n",
    "*/\n",
    "int print_octal(va_list list)\n",
    "{\n",
    "unsigned int num = va_arg(list, unsigned int);\n",
    "char buffer[12];\n",
    "int i = 0;\n",
    "int len;\n",
    "\n",
    "if (num == 0)\n",
    "{\n",
    "_putchar('0');\n",
    "return (1);\n",
    "}\n",
    "\n",
    "while (num != 0)\n",
    "{\n",
    "buffer[i++] = (num % 8) + '0';\n",
    "num /= 8;\n",
    "}\n",
    "\n",
    "len = i;\n",
    "\n",
    "while (i--)\n",
    "_putchar(buffer[i]);\n",
    "\n",
    "return (len);\n",
    "}\n"
   ]
  },
  {
   "cell_type": "code",
   "execution_count": 149,
   "metadata": {},
   "outputs": [
    {
     "name": "stdout",
     "output_type": "stream",
     "text": [
      "Overwriting /home/elkomy/alx/printf/print_hex.c\n"
     ]
    }
   ],
   "source": [
    "%%file /home/elkomy/alx/printf/print_hex.c\n",
    "#include \"main.h\"\n",
    "\n",
    "/**\n",
    "* print_hex - Prints an unsigned integer in hexadecimal notation (lowercase)\n",
    "* @list: list of arguments\n",
    "* Return: Will return the number of characters printed\n",
    "*/\n",
    "int print_hex(va_list list)\n",
    "{\n",
    "unsigned int num = va_arg(list, unsigned int);\n",
    "char buffer[12];\n",
    "int i = 0;\n",
    "int len;\n",
    "\n",
    "if (num == 0)\n",
    "{\n",
    "_putchar('0');\n",
    "return (1);\n",
    "}\n",
    "\n",
    "while (num != 0)\n",
    "{\n",
    "buffer[i++] = (num % 16) + (num % 16 < 10 ? '0' : 'a' - 10);\n",
    "num /= 16;\n",
    "}\n",
    "\n",
    "len = i;\n",
    "\n",
    "while (i--)\n",
    "_putchar(buffer[i]);\n",
    "\n",
    "return (len);\n",
    "}\n"
   ]
  },
  {
   "cell_type": "code",
   "execution_count": 150,
   "metadata": {},
   "outputs": [
    {
     "name": "stdout",
     "output_type": "stream",
     "text": [
      "Overwriting /home/elkomy/alx/printf/print_HEX.c\n"
     ]
    }
   ],
   "source": [
    "%%file /home/elkomy/alx/printf/print_HEX.c\n",
    "#include \"main.h\"\n",
    "\n",
    "/**\n",
    "* print_HEX - Prints an unsigned integer in hexadecimal notation (uppercase)\n",
    "* @list: list of arguments\n",
    "* Return: Will return the number of characters printed\n",
    "*/\n",
    "int print_HEX(va_list list)\n",
    "{\n",
    "unsigned int num = va_arg(list, unsigned int);\n",
    "char buffer[12];\n",
    "int i = 0;\n",
    "int len;\n",
    "if (num == 0)\n",
    "{\n",
    "_putchar('0');\n",
    "return (1);\n",
    "}\n",
    "\n",
    "while (num != 0)\n",
    "{\n",
    "buffer[i++] = (num % 16) + (num % 16 < 10 ? '0' : 'A' - 10);\n",
    "num /= 16;\n",
    "}\n",
    "\n",
    "len = i;\n",
    "\n",
    "while (i--)\n",
    "_putchar(buffer[i]);\n",
    "\n",
    "return (len);\n",
    "}\n"
   ]
  },
  {
   "cell_type": "markdown",
   "metadata": {},
   "source": [
    "#### Step[-2] - Update main.h\n",
    "<details>\n",
    "\n",
    "* This file will include all necessary function prototypes and the struct convert.\n",
    "* add the prototype for the print_int function."
   ]
  },
  {
   "cell_type": "code",
   "execution_count": 131,
   "metadata": {},
   "outputs": [
    {
     "name": "stdout",
     "output_type": "stream",
     "text": [
      "Overwriting /home/elkomy/alx/printf/main.h\n"
     ]
    }
   ],
   "source": [
    "%%file /home/elkomy/alx/printf/main.h\n",
    "#ifndef MAIN_H\n",
    "#define MAIN_H\n",
    "\n",
    "#include <stdio.h>\n",
    "#include <unistd.h>\n",
    "#include <stdlib.h>\n",
    "#include <stdarg.h>\n",
    "\n",
    "/**\n",
    "* struct convert - defines a structure for symbols and functions\n",
    "* @sym: The operator\n",
    "* @f: The function associated\n",
    "*/\n",
    "struct convert\n",
    "{\n",
    "char *sym;\n",
    "int (*f)(va_list);\n",
    "};\n",
    "typedef struct convert conver_t;\n",
    "\n",
    "int _printf(const char *format, ...);\n",
    "int _putchar(char c);\n",
    "int _puts(char *str);\n",
    "int format_reciever(const char *format, conver_t f_list[], va_list arg_list);\n",
    "int print_percent(va_list);\n",
    "int print_char(va_list);\n",
    "int print_string(va_list);\n",
    "int print_int(va_list);\n",
    "int print_binary(va_list list);\n",
    "char *convert_to_binary(unsigned int num);\n",
    "int print_unsigned(va_list list);\n",
    "int print_octal(va_list list);\n",
    "int print_hex(va_list list);\n",
    "int print_HEX(va_list list);\n",
    "\n",
    "#endif /* MAIN_H */\n"
   ]
  },
  {
   "cell_type": "markdown",
   "metadata": {},
   "source": [
    "#### Step[-1] - Update main.c\n",
    "<details>\n",
    "This file will test the basic functionality of _printf."
   ]
  },
  {
   "cell_type": "code",
   "execution_count": 132,
   "metadata": {},
   "outputs": [
    {
     "name": "stdout",
     "output_type": "stream",
     "text": [
      "Overwriting /home/elkomy/alx/printf/tests/main.c\n"
     ]
    }
   ],
   "source": [
    "%%file /home/elkomy/alx/printf/tests/main.c\n",
    "#include \"../main.h\"\n",
    "#include <stdio.h>\n",
    "\n",
    "/**\n",
    "* main - Entry point for testing the _printf function\n",
    "*\n",
    "* Return: Always 0\n",
    "*/\n",
    "int main(void)\n",
    "{\n",
    "int len1, len2;\n",
    "unsigned int ui = 4294967295; /* UINT_MAX */\n",
    "\n",
    "len1 = _printf(\"Unsigned: %u\\n\", ui);\n",
    "len2 = printf(\"Unsigned: %u\\n\", ui);\n",
    "printf(\"Returned: _printf: %d, printf: %d\\n\", len1, len2);\n",
    "\n",
    "len1 = _printf(\"Octal: %o\\n\", ui);\n",
    "len2 = printf(\"Octal: %o\\n\", ui);\n",
    "printf(\"Returned: _printf: %d, printf: %d\\n\", len1, len2);\n",
    "\n",
    "len1 = _printf(\"Hex (lowercase): %x\\n\", ui);\n",
    "len2 = printf(\"Hex (lowercase): %x\\n\", ui);\n",
    "printf(\"Returned: _printf: %d, printf: %d\\n\", len1, len2);\n",
    "\n",
    "len1 = _printf(\"Hex (uppercase): %X\\n\", ui);\n",
    "len2 = printf(\"Hex (uppercase): %X\\n\", ui);\n",
    "printf(\"Returned: _printf: %d, printf: %d\\n\", len1, len2);\n",
    "\n",
    "return (0);\n",
    "}\n"
   ]
  },
  {
   "cell_type": "markdown",
   "metadata": {},
   "source": [
    "#### Betty Tests"
   ]
  },
  {
   "cell_type": "code",
   "execution_count": 151,
   "metadata": {},
   "outputs": [
    {
     "name": "stdout",
     "output_type": "stream",
     "text": [
      "_printf\n",
      "_putchar\n",
      "_puts\n",
      "format_reciever\n",
      "print_HEX\n",
      "print_binary\n",
      "convert_to_binary\n",
      "print_char\n",
      "print_hex\n",
      "print_int\n",
      "print_octal\n",
      "print_percent\n",
      "print_string\n",
      "print_unsigned\n",
      "main\n",
      "struct convert\n"
     ]
    }
   ],
   "source": [
    "%%bash\n",
    "betty-style /home/elkomy/alx/printf/*.c /home/elkomy/alx/printf/tests/*.c /home/elkomy/alx/printf/*.h\n",
    "betty-doc /home/elkomy/alx/printf/*.c /home/elkomy/alx/printf/tests/*.c /home/elkomy/alx/printf/*.h\n"
   ]
  },
  {
   "cell_type": "markdown",
   "metadata": {},
   "source": [
    "#### Compile"
   ]
  },
  {
   "cell_type": "code",
   "execution_count": 296,
   "metadata": {},
   "outputs": [
    {
     "name": "stdout",
     "output_type": "stream",
     "text": [
      "\n",
      "========== /home/elkomy/alx/printf/_printf.c ==========\n",
      "_printf\n",
      "Hello, buffered world!\n",
      "Hello, buffered world!\n",
      "Returned: _printf: 23, printf: 23\n"
     ]
    }
   ],
   "source": [
    "\n",
    "%%bash\n",
    "betty /home/elkomy/alx/printf/_printf.c\n",
    "gcc -Wall -Werror -Wextra -pedantic -std=gnu89 -Wno-format /home/elkomy/alx/printf/*.c /home/elkomy/alx/printf/tests/main.c -o /home/elkomy/alx/printf/printf\n",
    "./printf\n",
    "\n"
   ]
  },
  {
   "cell_type": "markdown",
   "metadata": {},
   "source": [
    "#### Push to github"
   ]
  },
  {
   "cell_type": "code",
   "execution_count": 153,
   "metadata": {},
   "outputs": [
    {
     "name": "stdout",
     "output_type": "stream",
     "text": [
      "[main f78ca78] alx-low_level_programming/0x0D-preprocessor/0-putchar\n",
      " 5 files changed, 20 insertions(+), 9 deletions(-)\n"
     ]
    },
    {
     "name": "stderr",
     "output_type": "stream",
     "text": [
      "To https://github.com/elkomysara/printf\n",
      "   05eb7d9..f78ca78  main -> main\n"
     ]
    }
   ],
   "source": [
    "%%bash\n",
    "git add .\n",
    "git commit -m \"alx-low_level_programming/0x0D-preprocessor/0-putchar\"\n",
    "git push"
   ]
  },
  {
   "cell_type": "markdown",
   "metadata": {},
   "source": [
    "###\n",
    "---\n",
    "<center>\n",
    "<h4>4. Nothing in fine print is ever good news</h4>\n",
    "</center>\n",
    "\n",
    "---"
   ]
  },
  {
   "cell_type": "markdown",
   "metadata": {},
   "source": [
    "\n",
    "#### Use a local buffer of 1024 chars in order to call `write` as little as possible.\n",
    "\n",
    "\n",
    "\n",
    "#### Repo:\n",
    "* GitHub repository: ``` printf```"
   ]
  },
  {
   "cell_type": "markdown",
   "metadata": {},
   "source": [
    "<details>\n",
    "\n",
    "Task 4 Overview:\n",
    "Objective: Optimize the _printf function by using a local buffer of 1024 chars to reduce the number of calls to write.\n",
    "\n",
    "Steps to Implement Task 4:\n",
    "Update _putchar.c: Modify the _putchar function to work with a local buffer. This buffer will be flushed (i.e., its contents will be written to stdout) when it's full or when the _printf function is done.\n",
    "\n",
    "Update format_reciever.c: Modify this file to accommodate the use of a buffer. This involves passing the buffer and its current index to each printing function.\n",
    "\n",
    "Update print_char.c, print_string.c, etc.: Update each print function to use the new buffer.\n",
    "\n",
    "Update main.h: Update the prototypes of the functions to include the buffer and the index as parameters.\n",
    "\n",
    "Update main.c: Modify the test file to ensure everything is working as expected with the new buffered approach."
   ]
  },
  {
   "cell_type": "markdown",
   "metadata": {},
   "source": [
    "#### Step[0] - Erease all files and start all over"
   ]
  },
  {
   "cell_type": "code",
   "execution_count": 250,
   "metadata": {},
   "outputs": [],
   "source": [
    "%%bash\n",
    "rm -f /home/elkomy/alx/printf/*.o\n",
    "rm -f /home/elkomy/alx/printf/*.c\n",
    "rm -f /home/elkomy/alx/printf/*.h\n",
    "rm -f /home/elkomy/alx/printf/printf\n",
    "rm -f /home/elkomy/alx/printf/Makefile"
   ]
  },
  {
   "cell_type": "markdown",
   "metadata": {},
   "source": [
    "#### Step[1] - Update _putchar.c & _puts.c (if needed)"
   ]
  },
  {
   "cell_type": "code",
   "execution_count": 285,
   "metadata": {},
   "outputs": [
    {
     "name": "stdout",
     "output_type": "stream",
     "text": [
      "Writing /home/elkomy/alx/printf/_putchar.c\n"
     ]
    }
   ],
   "source": [
    "%%file /home/elkomy/alx/printf/_putchar.c\n",
    "#include \"main.h\"\n",
    "\n",
    "/**\n",
    "* _putchar - Writes a character to the buffer, and flushes the buffer if full.\n",
    "* @c: The character to write\n",
    "* @buffer: The buffer to write to\n",
    "* @index: The current index in the buffer\n",
    "*\n",
    "* Return: 1 on success, -1 on error.\n",
    "*/\n",
    "int _putchar(char c, char *buffer, int *index)\n",
    "{\n",
    "if (*index >= 1024)\n",
    "{\n",
    "write(1, buffer, *index);\n",
    "*index = 0;\n",
    "}\n",
    "buffer[*index] = c;\n",
    "(*index)++;\n",
    "return (1);\n",
    "}\n"
   ]
  },
  {
   "cell_type": "code",
   "execution_count": 286,
   "metadata": {},
   "outputs": [
    {
     "name": "stdout",
     "output_type": "stream",
     "text": [
      "Writing /home/elkomy/alx/printf/_puts.c\n"
     ]
    }
   ],
   "source": [
    "%%file /home/elkomy/alx/printf/_puts.c\n",
    "#include \"main.h\"\n",
    "\n",
    "/**\n",
    "* _puts - Prints a string to stdout\n",
    "* @str: The string to be printed\n",
    "* @buffer: The buffer to store the formatted output\n",
    "* @index: The current index in the buffer\n",
    "*\n",
    "* Return: The number of characters printed\n",
    "*/\n",
    "int _puts(char *str, char *buffer, int *index)\n",
    "{\n",
    "int i;\n",
    "\n",
    "for (i = 0; str[i] != '\\0'; i++)\n",
    "{\n",
    "_putchar(str[i], buffer, index);\n",
    "}\n",
    "\n",
    "return (i);\n",
    "}\n"
   ]
  },
  {
   "cell_type": "markdown",
   "metadata": {},
   "source": [
    "#### Step[2] - Update _printf.c\n",
    "<details>\n",
    "\n",
    "* This file will handle the logic of processing the format string and calling the appropriate functions based on the format specifiers.\n",
    "*  add the handling of the d and i specifiers.\n",
    "* add the handling of the u, o, x, and X specifiers in _printf.c."
   ]
  },
  {
   "cell_type": "code",
   "execution_count": 268,
   "metadata": {},
   "outputs": [
    {
     "name": "stdout",
     "output_type": "stream",
     "text": [
      "Overwriting /home/elkomy/alx/printf/_printf.c\n"
     ]
    }
   ],
   "source": [
    "%%file /home/elkomy/alx/printf/_printf.c\n",
    "#include \"main.h\"\n",
    "\n",
    "/**\n",
    "* _printf - Receives the main string and all the necessary parameters to\n",
    "* print a formatted string\n",
    "* @format: A string containing all the desired characters\n",
    "* Return: A total count of the characters printed\n",
    "*/\n",
    "int _printf(const char *format, ...)\n",
    "{\n",
    "va_list arg_list;\n",
    "int printed_chars = 0;\n",
    "char buffer[1024];\n",
    "int index = 0;\n",
    "\n",
    "conver_t f_list[] = {\n",
    "{\"%\", print_percent},\n",
    "{\"c\", print_char},\n",
    "{\"s\", print_string},\n",
    "{\"d\", print_int},\n",
    "{\"i\", print_int},\n",
    "{\"b\", print_binary},\n",
    "{\"u\", print_unsigned},\n",
    "{\"o\", print_octal},\n",
    "{\"x\", print_hex},\n",
    "{\"X\", print_HEX},\n",
    "{NULL, NULL}\n",
    "};\n",
    "\n",
    "if (format == NULL)\n",
    "return (-1);\n",
    "\n",
    "va_start(arg_list, format);\n",
    "printed_chars = format_reciever(format, f_list, arg_list, buffer, &index);\n",
    "va_end(arg_list);\n",
    "\n",
    "flush_buffer(buffer, &index);  /* Flush the buffer at the end */\n",
    "\n",
    "return (printed_chars);\n",
    "}\n"
   ]
  },
  {
   "cell_type": "markdown",
   "metadata": {},
   "source": [
    "#### Step[3] - Update format_reciever.c\n",
    "<details>\n",
    "This file will iterate over the format string, identify the correct conversion specifier, and call the corresponding function.\n",
    "\n",
    "##### Explanation:\n",
    "Loop through the format string (for (i = 0; format[i] != '\\0'; i++)):\n",
    "This loop iterates over each character in the format string to identify and process format specifiers.\n",
    "\n",
    "Check for a percent sign (if (format[i] == '%')):\n",
    "If the current character is a %, it may indicate the start of a format specifier.\n",
    "\n",
    "Iterate over the list of known specifiers (for (j = 0; f_list[j].sym != NULL; j++)):\n",
    "This nested loop checks if the character following the % matches any known specifier in f_list. If a match is found, the corresponding function is called to handle the specifier.\n",
    "\n",
    "Unrecognized specifiers (if (f_list[j].sym == NULL && format[i + 1] != ' ' && format[i + 1] != '\\0')):\n",
    "If the specifier is not recognized and is neither a space nor the end of the string, the code prints the % and the unrecognized character as is.\n",
    "\n",
    "Handle trailing % (else if (f_list[j].sym == NULL && format[i + 1] == '\\0')):\n",
    "If the format string ends with %, this case is handled by returning -1, indicating an error (e.g., there’s nothing to print after %).\n",
    "\n",
    "Print normal characters (else block):\n",
    "If the character is not a %, it is printed as part of the string.\n",
    "\n",
    "This implementation ensures that the function handles both recognized and unrecognized format specifiers correctly, matching the requirements for Task 0, including the special handling of cases like %q and trailing %."
   ]
  },
  {
   "cell_type": "code",
   "execution_count": 269,
   "metadata": {},
   "outputs": [
    {
     "name": "stdout",
     "output_type": "stream",
     "text": [
      "Writing /home/elkomy/alx/printf/format_reciever.c\n"
     ]
    }
   ],
   "source": [
    "%%file /home/elkomy/alx/printf/format_reciever.c\n",
    "#include \"main.h\"\n",
    "\n",
    "/**\n",
    " * format_reciever - Receives the main string and all the necessary parameters to\n",
    " * print a formatted string\n",
    " * @format: A string containing all the desired characters\n",
    " * @f_list: A list of conversion specifiers\n",
    " * @arg_list: A list containing all the arguments passed to the program\n",
    " * @buffer: The buffer to write to\n",
    " * @index: The current index in the buffer\n",
    " * Return: A total count of the characters printed\n",
    " */\n",
    "int format_reciever(const char *format, conver_t f_list[], va_list arg_list, char *buffer, int *index)\n",
    "{\n",
    "    int i, j, printed_chars = 0;\n",
    "    int (*func)(va_list, char *, int *);\n",
    "\n",
    "    for (i = 0; format[i] != '\\0'; i++)\n",
    "    {\n",
    "        if (format[i] == '%')\n",
    "        {\n",
    "            for (j = 0; f_list[j].sym != NULL; j++)\n",
    "            {\n",
    "                if (format[i + 1] == f_list[j].sym[0])\n",
    "                {\n",
    "                    func = f_list[j].f;\n",
    "                    printed_chars += func(arg_list, buffer, index);\n",
    "                    break;\n",
    "                }\n",
    "            }\n",
    "            if (f_list[j].sym == NULL && format[i + 1] != ' ')\n",
    "            {\n",
    "                _putchar(format[i], buffer, index);\n",
    "                _putchar(format[i + 1], buffer, index);\n",
    "                printed_chars += 2;\n",
    "            }\n",
    "            i++;\n",
    "        }\n",
    "        else\n",
    "        {\n",
    "            _putchar(format[i], buffer, index);\n",
    "            printed_chars++;\n",
    "        }\n",
    "    }\n",
    "\n",
    "    return (printed_chars);\n",
    "}\n"
   ]
  },
  {
   "cell_type": "markdown",
   "metadata": {},
   "source": [
    "#### STEP[4] - Update print_precent.c\n",
    "<details>\n",
    "This file will contain the function that handles printing the % symbol.\n",
    "\n"
   ]
  },
  {
   "cell_type": "code",
   "execution_count": 270,
   "metadata": {},
   "outputs": [
    {
     "name": "stdout",
     "output_type": "stream",
     "text": [
      "Writing /home/elkomy/alx/printf/print_percent.c\n"
     ]
    }
   ],
   "source": [
    "%%file /home/elkomy/alx/printf/print_percent.c\n",
    "#include \"main.h\"\n",
    "\n",
    "/**\n",
    "* print_percent - Prints a percent symbol\n",
    "* @list: Unused list of arguments\n",
    "* @buffer: The buffer to store the formatted output\n",
    "* @index: The current index in the buffer\n",
    "*\n",
    "* Return: Will return the amount of characters printed.\n",
    "*/\n",
    "int print_percent(__attribute__((unused)) va_list list, char *buffer, int *index)\n",
    "{\n",
    "_putchar('%', buffer, index);\n",
    "return (1);\n",
    "}\n"
   ]
  },
  {
   "cell_type": "markdown",
   "metadata": {},
   "source": [
    "#### Step[5] - Update print_char.c\n",
    "<details>\n",
    "This file will handle the c specifier for printing a single character."
   ]
  },
  {
   "cell_type": "code",
   "execution_count": 271,
   "metadata": {},
   "outputs": [
    {
     "name": "stdout",
     "output_type": "stream",
     "text": [
      "Writing /home/elkomy/alx/printf/print_char.c\n"
     ]
    }
   ],
   "source": [
    "%%file /home/elkomy/alx/printf/print_char.c\n",
    "#include \"main.h\"\n",
    "\n",
    "/**\n",
    "* print_char - Prints a character to the buffer.\n",
    "* @list: List of arguments.\n",
    "* @buffer: The buffer to store the formatted output.\n",
    "* @index: The current index in the buffer.\n",
    "*\n",
    "* Return: The number of characters printed (1).\n",
    "*/\n",
    "int print_char(va_list list, char *buffer, int *index)\n",
    "{\n",
    "_putchar(va_arg(list, int), buffer, index);\n",
    "return (1);\n",
    "}\n"
   ]
  },
  {
   "cell_type": "markdown",
   "metadata": {},
   "source": [
    "#### Step[6] - Update print_string.c\n",
    "<details>\n",
    "This file will handle the s specifier for printing a string."
   ]
  },
  {
   "cell_type": "code",
   "execution_count": 272,
   "metadata": {},
   "outputs": [
    {
     "name": "stdout",
     "output_type": "stream",
     "text": [
      "Writing /home/elkomy/alx/printf/print_string.c\n"
     ]
    }
   ],
   "source": [
    "%%file /home/elkomy/alx/printf/print_string.c\n",
    "#include \"main.h\"\n",
    "\n",
    "/**\n",
    "* print_string - Prints a string.\n",
    "* @list: List of arguments.\n",
    "* @buffer: The buffer to store the formatted output.\n",
    "* @index: The current index in the buffer.\n",
    "*\n",
    "* Return: The number of characters printed.\n",
    "*/\n",
    "int print_string(va_list list, char *buffer, int *index)\n",
    "{\n",
    "int i;\n",
    "char *str;\n",
    "\n",
    "str = va_arg(list, char *);\n",
    "if (str == NULL)\n",
    "str = \"(null)\";\n",
    "for (i = 0; str[i] != '\\0'; i++)\n",
    "_putchar(str[i], buffer, index);\n",
    "return (i);\n",
    "}\n"
   ]
  },
  {
   "cell_type": "markdown",
   "metadata": {},
   "source": [
    "#### Step[7] - Update print_int.c\n",
    "<details>\n",
    "This file will handle the d and i specifier for printing an int."
   ]
  },
  {
   "cell_type": "code",
   "execution_count": 273,
   "metadata": {},
   "outputs": [
    {
     "name": "stdout",
     "output_type": "stream",
     "text": [
      "Writing /home/elkomy/alx/printf/print_int.c\n"
     ]
    }
   ],
   "source": [
    "%%file /home/elkomy/alx/printf/print_int.c\n",
    "#include \"main.h\"\n",
    "#include <stdarg.h>\n",
    "#include <limits.h>\n",
    "\n",
    "/**\n",
    "* print_int - Prints an integer.\n",
    "* @list: List of arguments.\n",
    "* @buffer: The buffer to store the formatted output.\n",
    "* @index: The current index in the buffer.\n",
    "*\n",
    "* Return: The number of characters printed.\n",
    "*/\n",
    "int print_int(va_list list, char *buffer, int *index)\n",
    "{\n",
    "int num = va_arg(list, int);\n",
    "char buffer_temp[12];\n",
    "int i = 0, len = 0, negative = 0;\n",
    "\n",
    "if (num == INT_MIN)\n",
    "{\n",
    "_putchar('-', buffer, index);\n",
    "_putchar('2', buffer, index);\n",
    "num = 147483648; /* INT_MIN = -2147483648, so we need to handle 147483648 */\n",
    "negative = 2; /*  Count '-' and '2' */\n",
    "}\n",
    "else if (num < 0)\n",
    "{\n",
    "_putchar('-', buffer, index);\n",
    "num = -num;\n",
    "negative = 1;\n",
    "}\n",
    "\n",
    "if (num == 0)\n",
    "{\n",
    "_putchar('0', buffer, index);\n",
    "return (1);\n",
    "}\n",
    "\n",
    "while (num != 0)\n",
    "{\n",
    "buffer_temp[i++] = (num % 10) + '0';\n",
    "num /= 10;\n",
    "}\n",
    "\n",
    "len = i;\n",
    "while (i--)\n",
    "{\n",
    "_putchar(buffer_temp[i], buffer, index);\n",
    "len++;\n",
    "}\n",
    "\n",
    "return (len + negative);\n",
    "}\n"
   ]
  },
  {
   "cell_type": "markdown",
   "metadata": {},
   "source": [
    "#### Step[8] - Update print_binary.c\n",
    "<details>\n",
    "This file will handle the b specifier for printing binary."
   ]
  },
  {
   "cell_type": "code",
   "execution_count": 274,
   "metadata": {},
   "outputs": [
    {
     "name": "stdout",
     "output_type": "stream",
     "text": [
      "Overwriting /home/elkomy/alx/printf/print_binary.c\n"
     ]
    }
   ],
   "source": [
    "%%file /home/elkomy/alx/printf/print_binary.c\n",
    "#include \"main.h\"\n",
    "\n",
    "/**\n",
    "* print_binary - Converts an unsigned int argument to binary\n",
    "* @list: list of arguments\n",
    "* @buffer: buffer to store the result\n",
    "* @index: current index in the buffer\n",
    "* Return: The number of characters printed\n",
    "*/\n",
    "int print_binary(va_list list, char *buffer, int *index)\n",
    "{\n",
    "unsigned int n = va_arg(list, unsigned int);\n",
    "char *binary_str;\n",
    "int num_chars;\n",
    "\n",
    "binary_str = convert(n, 2, 0);\n",
    "if (binary_str == NULL)\n",
    "return (-1);\n",
    "\n",
    "num_chars = _puts(binary_str, buffer, index);\n",
    "return (num_chars);\n",
    "}\n"
   ]
  },
  {
   "cell_type": "markdown",
   "metadata": {},
   "source": [
    "#### Step[9] - Update print_unsigned.c & print_octal.c & print_hex.c & print_HEX.c\n",
    "<details>\n",
    "This file will handle the u , o, x and X specifier ."
   ]
  },
  {
   "cell_type": "code",
   "execution_count": 275,
   "metadata": {},
   "outputs": [
    {
     "name": "stdout",
     "output_type": "stream",
     "text": [
      "Writing /home/elkomy/alx/printf/print_unsigned.c\n"
     ]
    }
   ],
   "source": [
    "%%file /home/elkomy/alx/printf/print_unsigned.c\n",
    "#include \"main.h\"\n",
    "\n",
    "/**\n",
    "* print_unsigned - Prints an unsigned integer.\n",
    "* @list: List of arguments.\n",
    "* @buffer: The buffer to store the formatted output.\n",
    "* @index: The current index in the buffer.\n",
    "*\n",
    "* Return: Will return the number of characters printed.\n",
    "*/\n",
    "int print_unsigned(va_list list, char *buffer, int *index)\n",
    "{\n",
    "unsigned int num = va_arg(list, unsigned int);\n",
    "char buffer_temp[12];\n",
    "int i = 0, len;\n",
    "\n",
    "if (num == 0)\n",
    "{\n",
    "_putchar('0', buffer, index);\n",
    "return (1);\n",
    "}\n",
    "\n",
    "while (num != 0)\n",
    "{\n",
    "buffer_temp[i++] = (num % 10) + '0';\n",
    "num /= 10;\n",
    "}\n",
    "\n",
    "len = i;\n",
    "while (i--)\n",
    "{\n",
    "_putchar(buffer_temp[i], buffer, index);\n",
    "}\n",
    "\n",
    "return (len);\n",
    "}\n"
   ]
  },
  {
   "cell_type": "code",
   "execution_count": 276,
   "metadata": {},
   "outputs": [
    {
     "name": "stdout",
     "output_type": "stream",
     "text": [
      "Writing /home/elkomy/alx/printf/print_octal.c\n"
     ]
    }
   ],
   "source": [
    "%%file /home/elkomy/alx/printf/print_octal.c\n",
    "#include \"main.h\"\n",
    "\n",
    "/**\n",
    "* print_octal - Prints an unsigned integer in octal notation.\n",
    "* @list: List of arguments.\n",
    "* @buffer: The buffer to store the formatted output.\n",
    "* @index: The current index in the buffer.\n",
    "*\n",
    "* Return: The number of characters printed.\n",
    "*/\n",
    "int print_octal(va_list list, char *buffer, int *index)\n",
    "{\n",
    "unsigned int num = va_arg(list, unsigned int);\n",
    "char buffer_temp[12];\n",
    "int i = 0, len;\n",
    "\n",
    "if (num == 0)\n",
    "{\n",
    "_putchar('0', buffer, index);\n",
    "return (1);\n",
    "}\n",
    "\n",
    "while (num != 0)\n",
    "{\n",
    "buffer_temp[i++] = (num % 8) + '0';\n",
    "num /= 8;\n",
    "}\n",
    "\n",
    "len = i;\n",
    "while (i--)\n",
    "{\n",
    "_putchar(buffer_temp[i], buffer, index);\n",
    "}\n",
    "\n",
    "return (len);\n",
    "}\n"
   ]
  },
  {
   "cell_type": "code",
   "execution_count": 277,
   "metadata": {},
   "outputs": [
    {
     "name": "stdout",
     "output_type": "stream",
     "text": [
      "Writing /home/elkomy/alx/printf/print_hex.c\n"
     ]
    }
   ],
   "source": [
    "%%file /home/elkomy/alx/printf/print_hex.c\n",
    "#include \"main.h\"\n",
    "\n",
    "/**\n",
    "* print_hex - Prints an unsigned integer in hexadecimal notation (lowercase).\n",
    "* @list: List of arguments.\n",
    "* @buffer: The buffer to store the formatted output.\n",
    "* @index: The current index in the buffer.\n",
    "*\n",
    "* Return: The number of characters printed.\n",
    "*/\n",
    "int print_hex(va_list list, char *buffer, int *index)\n",
    "{\n",
    "unsigned int num = va_arg(list, unsigned int);\n",
    "char buffer_temp[12];\n",
    "int i = 0, len;\n",
    "\n",
    "if (num == 0)\n",
    "{\n",
    "_putchar('0', buffer, index);\n",
    "return (1);\n",
    "}\n",
    "\n",
    "while (num != 0)\n",
    "{\n",
    "buffer_temp[i++] = (num % 16) + (num % 16 < 10 ? '0' : 'a' - 10);\n",
    "num /= 16;\n",
    "}\n",
    "\n",
    "len = i;\n",
    "while (i--)\n",
    "{\n",
    "_putchar(buffer_temp[i], buffer, index);\n",
    "}\n",
    "\n",
    "return (len);\n",
    "}\n"
   ]
  },
  {
   "cell_type": "code",
   "execution_count": 278,
   "metadata": {},
   "outputs": [
    {
     "name": "stdout",
     "output_type": "stream",
     "text": [
      "Writing /home/elkomy/alx/printf/print_HEX.c\n"
     ]
    }
   ],
   "source": [
    "%%file /home/elkomy/alx/printf/print_HEX.c\n",
    "#include \"main.h\"\n",
    "\n",
    "/**\n",
    "* print_HEX - Prints an unsigned integer in hexadecimal notation (uppercase).\n",
    "* @list: List of arguments.\n",
    "* @buffer: The buffer to store the formatted output.\n",
    "* @index: The current index in the buffer.\n",
    "*\n",
    "* Return: The number of characters printed.\n",
    "*/\n",
    "int print_HEX(va_list list, char *buffer, int *index)\n",
    "{\n",
    "unsigned int num = va_arg(list, unsigned int);\n",
    "char buffer_temp[12];\n",
    "int i = 0, len;\n",
    "\n",
    "if (num == 0)\n",
    "{\n",
    "_putchar('0', buffer, index);\n",
    "return (1);\n",
    "}\n",
    "\n",
    "while (num != 0)\n",
    "{\n",
    "buffer_temp[i++] = (num % 16) + (num % 16 < 10 ? '0' : 'A' - 10);\n",
    "num /= 16;\n",
    "}\n",
    "\n",
    "len = i;\n",
    "while (i--)\n",
    "{\n",
    "_putchar(buffer_temp[i], buffer, index);\n",
    "}\n",
    "\n",
    "return (len);\n",
    "}\n"
   ]
  },
  {
   "cell_type": "markdown",
   "metadata": {},
   "source": [
    "#### Step[10] - Update convert.c"
   ]
  },
  {
   "cell_type": "code",
   "execution_count": 279,
   "metadata": {},
   "outputs": [
    {
     "name": "stdout",
     "output_type": "stream",
     "text": [
      "Overwriting /home/elkomy/alx/printf/convert.c\n"
     ]
    }
   ],
   "source": [
    "%%file /home/elkomy/alx/printf/convert.c\n",
    "#include \"main.h\"\n",
    "\n",
    "/**\n",
    "* convert - Converts a number to a string in the given base\n",
    "* @num: The number to be converted\n",
    "* @base: The base to convert to\n",
    "* @lowercase: Flag to determine if hex letters should be lowercase\n",
    "* Return: A pointer to the converted string (static buffer)\n",
    "*/\n",
    "char *convert(unsigned long int num, int base, int lowercase)\n",
    "{\n",
    "static char buffer[50];\n",
    "char *ptr;\n",
    "char *rep = (lowercase) ? \"0123456789abcdef\" : \"0123456789ABCDEF\";\n",
    "\n",
    "ptr = &buffer[49];\n",
    "*ptr = '\\0';\n",
    "\n",
    "do {\n",
    "*--ptr = rep[num % base];\n",
    "num /= base;\n",
    "} while (num != 0);\n",
    "\n",
    "return (ptr);\n",
    "}\n"
   ]
  },
  {
   "cell_type": "markdown",
   "metadata": {},
   "source": [
    "#### Step[11] - Update flush_buffer.c"
   ]
  },
  {
   "cell_type": "code",
   "execution_count": 280,
   "metadata": {},
   "outputs": [
    {
     "name": "stdout",
     "output_type": "stream",
     "text": [
      "Overwriting /home/elkomy/alx/printf/flush_buffer.c\n"
     ]
    }
   ],
   "source": [
    "%%file /home/elkomy/alx/printf/flush_buffer.c\n",
    "#include \"main.h\"\n",
    "\n",
    "/**\n",
    "* flush_buffer - Writes the buffer to stdout and resets the buffer index\n",
    "* @buffer: The buffer containing the characters to be written\n",
    "* @index: The current index in the buffer\n",
    "*/\n",
    "void flush_buffer(char *buffer, int *index)\n",
    "{\n",
    "if (*index > 0)\n",
    "{\n",
    "write(1, buffer, *index);\n",
    "*index = 0;\n",
    "}\n",
    "}\n"
   ]
  },
  {
   "cell_type": "markdown",
   "metadata": {},
   "source": [
    "#### Step[-2] - Update main.h\n",
    "<details>\n",
    "\n",
    "* This file will include all necessary function prototypes and the struct convert.\n",
    "* add the prototype for the print_int function."
   ]
  },
  {
   "cell_type": "code",
   "execution_count": 281,
   "metadata": {},
   "outputs": [
    {
     "name": "stdout",
     "output_type": "stream",
     "text": [
      "Overwriting /home/elkomy/alx/printf/main.h\n"
     ]
    }
   ],
   "source": [
    "%%file /home/elkomy/alx/printf/main.h\n",
    "#ifndef MAIN_H\n",
    "#define MAIN_H\n",
    "\n",
    "#include <stdarg.h>\n",
    "#include <unistd.h>\n",
    "\n",
    "/**\n",
    "* struct convert - defines a structure for symbols and functions\n",
    "* @sym: The operator\n",
    "* @f: The function associated\n",
    "*/\n",
    "typedef struct convert\n",
    "{\n",
    "char *sym;\n",
    "int (*f)(va_list, char *, int *);\n",
    "} conver_t;\n",
    "\n",
    "int _printf(const char *format, ...);\n",
    "int _putchar(char c, char *buffer, int *index);\n",
    "int _puts(char *str, char *buffer, int *index);\n",
    "int format_reciever(const char *format, conver_t f_list[],\n",
    "va_list arg_list, char *buffer, int *index);\n",
    "int print_char(va_list list, char *buffer, int *index);\n",
    "int print_string(va_list list, char *buffer, int *index);\n",
    "int print_percent(va_list list, char *buffer, int *index);\n",
    "int print_int(va_list list, char *buffer, int *index);\n",
    "int print_binary(va_list list, char *buffer, int *index);\n",
    "char *convert(unsigned long int num, int base, int lowercase);\n",
    "int print_unsigned(va_list list, char *buffer, int *index);\n",
    "int print_octal(va_list list, char *buffer, int *index);\n",
    "int print_hex(va_list list, char *buffer, int *index);\n",
    "int print_HEX(va_list list, char *buffer, int *index);\n",
    "void flush_buffer(char *buffer, int *index);\n",
    "\n",
    "#endif /* MAIN_H */\n"
   ]
  },
  {
   "cell_type": "markdown",
   "metadata": {},
   "source": [
    "#### Step[-1] - Update main.c\n",
    "<details>\n",
    "This file will test the basic functionality of _printf."
   ]
  },
  {
   "cell_type": "code",
   "execution_count": 282,
   "metadata": {},
   "outputs": [
    {
     "name": "stdout",
     "output_type": "stream",
     "text": [
      "Overwriting /home/elkomy/alx/printf/tests/main.c\n"
     ]
    }
   ],
   "source": [
    "%%file /home/elkomy/alx/printf/tests/main.c\n",
    "#include \"../main.h\"\n",
    "#include <stdio.h>\n",
    "\n",
    "/**\n",
    "* main - Entry point for testing the _printf function\n",
    "*\n",
    "* Return: Always 0\n",
    "*/\n",
    "int main(void)\n",
    "{\n",
    "int len1, len2;\n",
    "\n",
    "len1 = _printf(\"Hello, buffered world!\\n\");\n",
    "len2 = printf(\"Hello, buffered world!\\n\");\n",
    "printf(\"Returned: _printf: %d, printf: %d\\n\", len1, len2);\n",
    "\n",
    "return (0);\n",
    "}\n"
   ]
  },
  {
   "cell_type": "markdown",
   "metadata": {},
   "source": [
    "#### Betty Tests"
   ]
  },
  {
   "cell_type": "code",
   "execution_count": 283,
   "metadata": {},
   "outputs": [
    {
     "name": "stdout",
     "output_type": "stream",
     "text": [
      "/home/elkomy/alx/printf/format_reciever.c:13: WARNING: line over 80 characters (103)\n",
      "total: 0 errors, 1 warnings, 50 lines checked\n",
      "/home/elkomy/alx/printf/print_percent.c:11: WARNING: line over 80 characters (82)\n",
      "total: 0 errors, 1 warnings, 15 lines checked\n",
      "_printf\n",
      "convert\n",
      "flush_buffer\n",
      "format_reciever\n",
      "print_HEX\n",
      "print_binary\n",
      "print_char\n",
      "print_hex\n",
      "print_int\n",
      "print_octal\n",
      "print_percent\n",
      "print_string\n",
      "print_unsigned\n",
      "main\n",
      "struct convert\n"
     ]
    }
   ],
   "source": [
    "%%bash\n",
    "betty-style /home/elkomy/alx/printf/*.c /home/elkomy/alx/printf/tests/*.c /home/elkomy/alx/printf/*.h\n",
    "betty-doc /home/elkomy/alx/printf/*.c /home/elkomy/alx/printf/tests/*.c /home/elkomy/alx/printf/*.h\n"
   ]
  },
  {
   "cell_type": "markdown",
   "metadata": {},
   "source": [
    "#### Compile"
   ]
  },
  {
   "cell_type": "code",
   "execution_count": 297,
   "metadata": {},
   "outputs": [
    {
     "name": "stdout",
     "output_type": "stream",
     "text": [
      "Hello, buffered world!\n",
      "Hello, buffered world!\n",
      "Returned: _printf: 23, printf: 23\n"
     ]
    }
   ],
   "source": [
    "\n",
    "%%bash\n",
    "gcc -Wall -Werror -Wextra -pedantic -std=gnu89 -Wno-format /home/elkomy/alx/printf/*.c /home/elkomy/alx/printf/tests/main.c -o /home/elkomy/alx/printf/printf\n",
    "./printf\n",
    "\n"
   ]
  },
  {
   "cell_type": "markdown",
   "metadata": {},
   "source": [
    "#### Push to github"
   ]
  },
  {
   "cell_type": "code",
   "execution_count": 298,
   "metadata": {},
   "outputs": [
    {
     "name": "stdout",
     "output_type": "stream",
     "text": [
      "[main e9eaf90] alx-low_level_programming/0x0D-preprocessor/0-putchar\n",
      " 19 files changed, 419 insertions(+), 359 deletions(-)\n",
      " rewrite _putchar.c (82%)\n",
      " create mode 100644 convert.c\n",
      " rewrite format_reciever.c (90%)\n",
      " rewrite print_HEX.c (83%)\n",
      " rewrite print_binary.c (92%)\n",
      " rewrite print_hex.c (83%)\n",
      " create mode 100644 print_int.c\n",
      " delete mode 100644 print_integer.c\n",
      " rewrite print_octal.c (83%)\n",
      " rewrite print_string.c (60%)\n",
      " rewrite print_unsigned.c (82%)\n",
      " rewrite printf (64%)\n",
      " rewrite tests/main.c (91%)\n"
     ]
    },
    {
     "name": "stderr",
     "output_type": "stream",
     "text": [
      "To https://github.com/elkomysara/printf\n",
      "   0ad4c66..e9eaf90  main -> main\n"
     ]
    }
   ],
   "source": [
    "%%bash\n",
    "git add .\n",
    "git commit -m \"alx-low_level_programming/0x0D-preprocessor/0-putchar\"\n",
    "git push"
   ]
  },
  {
   "cell_type": "markdown",
   "metadata": {},
   "source": [
    "#### Old"
   ]
  },
  {
   "cell_type": "code",
   "execution_count": 232,
   "metadata": {},
   "outputs": [
    {
     "name": "stdout",
     "output_type": "stream",
     "text": [
      "Writing /home/elkomy/alx/printf/_printf.c\n"
     ]
    }
   ],
   "source": [
    "%%file /home/elkomy/alx/printf/_printf.c\n",
    "#include \"main.h\"\n",
    "\n",
    "/**\n",
    "* _printf - Receives the main string and all the necessary parameters to\n",
    "* print a formatted string\n",
    "* @format: A string containing all the desired characters\n",
    "* Return: A total count of the characters printed\n",
    "*/\n",
    "\n",
    "int _printf(const char *format, ...)\n",
    "{\n",
    "va_list arg_list;\n",
    "int printed_chars = 0;\n",
    "char buffer[1024];\n",
    "int index = 0;\n",
    "\n",
    "conver_t f_list[] = {\n",
    "{\"%\", print_percent},\n",
    "{\"c\", print_char},\n",
    "{\"s\", print_string},\n",
    "{\"d\", print_integer},\n",
    "{\"i\", print_integer},\n",
    "{\"b\", print_binary},\n",
    "{\"u\", print_unsigned},\n",
    "{\"o\", print_octal},\n",
    "{\"x\", print_hex},\n",
    "{\"X\", print_HEX},\n",
    "{NULL, NULL}\n",
    "};\n",
    "\n",
    "va_start(arg_list, format);\n",
    "printed_chars = format_reciever(format, f_list, arg_list, buffer, &index);\n",
    "va_end(arg_list);\n",
    "\n",
    "buffer[index] = '\\0';\n",
    "write(1, buffer, index);\n",
    "\n",
    "return (printed_chars);\n",
    "}\n",
    "\n"
   ]
  },
  {
   "cell_type": "code",
   "execution_count": 233,
   "metadata": {},
   "outputs": [
    {
     "name": "stdout",
     "output_type": "stream",
     "text": [
      "Writing /home/elkomy/alx/printf/main.h\n"
     ]
    }
   ],
   "source": [
    "%%file /home/elkomy/alx/printf/main.h\n",
    "#ifndef MAIN_H\n",
    "#define MAIN_H\n",
    "\n",
    "#include <stdarg.h>\n",
    "#include <unistd.h>\n",
    "\n",
    "typedef struct converter {\n",
    "    char *specifier;\n",
    "    int (*f)(va_list, char *, int *);\n",
    "} conver_t;\n",
    "int _printf(const char *format, ...);\n",
    "int _putchar(char c, char *buffer, int *index);\n",
    "int _puts(char *str, char *buffer, int *index);\n",
    "int format_reciever(const char *format, conver_t f_list[], va_list arg_list, char *buffer, int *index);\n",
    "int print_char(va_list list, char *buffer, int *index);\n",
    "int print_string(va_list list, char *buffer, int *index);\n",
    "int print_percent(va_list list, char *buffer, int *index);\n",
    "int print_integer(va_list list, char *buffer, int *index);\n",
    "int print_number(int n, char *buffer, int *index);\n",
    "int print_binary(va_list list, char *buffer, int *index);\n",
    "int print_unsigned(va_list list, char *buffer, int *index);\n",
    "int print_octal(va_list list, char *buffer, int *index);\n",
    "int print_hex(va_list list, char *buffer, int *index);\n",
    "int print_HEX(va_list list, char *buffer, int *index);\n",
    "char *convert(unsigned long int num, int base, int lowercase);\n",
    "\n",
    "\n",
    "#endif\n",
    "\n",
    "\n",
    "\n"
   ]
  },
  {
   "cell_type": "code",
   "execution_count": 234,
   "metadata": {},
   "outputs": [
    {
     "name": "stdout",
     "output_type": "stream",
     "text": [
      "Writing /home/elkomy/alx/printf/print_binary.c\n"
     ]
    }
   ],
   "source": [
    "%%file /home/elkomy/alx/printf/print_binary.c\n",
    "#include \"main.h\"\n",
    "\n",
    "/**\n",
    " * print_binary - Converts an unsigned int argument to binary\n",
    " * @list: list of arguments\n",
    " * @buffer: buffer to store the result\n",
    " * @index: current index in the buffer\n",
    " * Return: The number of characters printed\n",
    " */\n",
    "int print_binary(va_list list, char *buffer, int *index)\n",
    "{\n",
    "    unsigned int n = va_arg(list, unsigned int);\n",
    "    char *binary_str;\n",
    "    int num_chars;\n",
    "\n",
    "    binary_str = convert(n, 2, 0);\n",
    "    if (binary_str == NULL)\n",
    "        return (-1);\n",
    "\n",
    "    num_chars = _puts(binary_str, buffer, index);\n",
    "    return (num_chars);\n",
    "}\n",
    "\n",
    "\n",
    "/**\n",
    " * convert - Converts a number to a string in the given base\n",
    " * @num: The number to be converted\n",
    " * @base: The base to convert to\n",
    " * @lowercase: Flag to determine if hex letters should be lowercase\n",
    " * Return: A pointer to the converted string (static buffer)\n",
    " */\n",
    "char *convert(unsigned long int num, int base, int lowercase)\n",
    "{\n",
    "    static char buffer[50];\n",
    "    char *ptr;\n",
    "    char *rep = (lowercase) ? \"0123456789abcdef\" : \"0123456789ABCDEF\";\n",
    "\n",
    "    ptr = &buffer[49];\n",
    "    *ptr = '\\0';\n",
    "\n",
    "    do {\n",
    "        *--ptr = rep[num % base];\n",
    "        num /= base;\n",
    "    } while (num != 0);\n",
    "\n",
    "    return (ptr);\n",
    "}\n"
   ]
  },
  {
   "cell_type": "code",
   "execution_count": 235,
   "metadata": {},
   "outputs": [
    {
     "name": "stdout",
     "output_type": "stream",
     "text": [
      "Writing /home/elkomy/alx/printf/print_char.c\n"
     ]
    }
   ],
   "source": [
    "%%file /home/elkomy/alx/printf/print_char.c\n",
    "#include \"main.h\"\n",
    "\n",
    "int print_char(va_list list, char *buffer, int *index)\n",
    "{\n",
    "    _putchar(va_arg(list, int), buffer, index);\n",
    "    return (1);\n",
    "}\n",
    "\n"
   ]
  },
  {
   "cell_type": "code",
   "execution_count": 236,
   "metadata": {},
   "outputs": [
    {
     "name": "stdout",
     "output_type": "stream",
     "text": [
      "Writing /home/elkomy/alx/printf/print_string.c\n"
     ]
    }
   ],
   "source": [
    "%%file /home/elkomy/alx/printf/print_string.c\n",
    "#include \"main.h\"\n",
    "\n",
    "int print_string(va_list list, char *buffer, int *index)\n",
    "{\n",
    "    char *str = va_arg(list, char *);\n",
    "\n",
    "    if (str == NULL)\n",
    "        str = \"(null)\";\n",
    "\n",
    "    return (_puts(str, buffer, index));\n",
    "}\n",
    "\n"
   ]
  },
  {
   "cell_type": "code",
   "execution_count": 237,
   "metadata": {},
   "outputs": [
    {
     "name": "stdout",
     "output_type": "stream",
     "text": [
      "Writing /home/elkomy/alx/printf/print_integer.c\n"
     ]
    }
   ],
   "source": [
    "%%file /home/elkomy/alx/printf/print_integer.c\n",
    "#include \"main.h\"\n",
    "\n",
    "int print_integer(va_list list, char *buffer, int *index)\n",
    "{\n",
    "    int n = va_arg(list, int);\n",
    "    int num_chars = 0;\n",
    "\n",
    "    if (n == 0)\n",
    "    {\n",
    "        _putchar('0', buffer, index);\n",
    "        return (1);\n",
    "    }\n",
    "\n",
    "    if (n < 0)\n",
    "    {\n",
    "        _putchar('-', buffer, index);\n",
    "        num_chars++;\n",
    "        n = -n;\n",
    "    }\n",
    "\n",
    "    num_chars += print_number(n, buffer, index);\n",
    "\n",
    "    return (num_chars);\n",
    "}\n",
    "\n",
    "int print_number(int n, char *buffer, int *index)\n",
    "{\n",
    "    int num_chars = 0;\n",
    "    unsigned int num = n;\n",
    "\n",
    "    if (num / 10)\n",
    "        num_chars += print_number(num / 10, buffer, index);\n",
    "\n",
    "    _putchar((num % 10) + '0', buffer, index);\n",
    "    num_chars++;\n",
    "\n",
    "    return (num_chars);\n",
    "}\n"
   ]
  },
  {
   "cell_type": "code",
   "execution_count": 238,
   "metadata": {},
   "outputs": [
    {
     "name": "stdout",
     "output_type": "stream",
     "text": [
      "Writing /home/elkomy/alx/printf/_putchar.c\n"
     ]
    }
   ],
   "source": [
    "%%file /home/elkomy/alx/printf/_putchar.c\n",
    "#include \"main.h\"\n",
    "\n",
    "/**\n",
    " * _putchar - Writes a character to the buffer and flushes it if necessary\n",
    " * @c: The character to write\n",
    " * @buffer: The buffer to write to\n",
    " * @index: The current index in the buffer\n",
    " * Return: Always 1\n",
    " */\n",
    "#include \"main.h\"\n",
    "\n",
    "int _putchar(char c, char *buffer, int *index)\n",
    "{\n",
    "    buffer[(*index)++] = c;\n",
    "    if (*index >= 1024)\n",
    "    {\n",
    "        write(1, buffer, *index);\n",
    "        *index = 0;\n",
    "    }\n",
    "    return (1);\n",
    "}\n",
    "\n"
   ]
  },
  {
   "cell_type": "code",
   "execution_count": 239,
   "metadata": {},
   "outputs": [
    {
     "name": "stdout",
     "output_type": "stream",
     "text": [
      "Writing /home/elkomy/alx/printf/_puts.c\n"
     ]
    }
   ],
   "source": [
    "%%file /home/elkomy/alx/printf/_puts.c\n",
    "#include \"main.h\"\n",
    "\n",
    "/**\n",
    " * _puts - Writes a string to the buffer\n",
    " * @str: The string to write\n",
    " * @buffer: The buffer to write to\n",
    " * @index: The current index in the buffer\n",
    " * Return: The number of characters written\n",
    " */\n",
    "int _puts(char *str, char *buffer, int *index)\n",
    "{\n",
    "    int i;\n",
    "\n",
    "    for (i = 0; str[i] != '\\0'; i++)\n",
    "    {\n",
    "        _putchar(str[i], buffer, index);\n",
    "    }\n",
    "\n",
    "    return (i);\n",
    "}\n",
    "\n"
   ]
  },
  {
   "cell_type": "code",
   "execution_count": 240,
   "metadata": {},
   "outputs": [
    {
     "name": "stdout",
     "output_type": "stream",
     "text": [
      "Writing /home/elkomy/alx/printf/flush_buffer.c\n"
     ]
    }
   ],
   "source": [
    "%%file /home/elkomy/alx/printf/flush_buffer.c\n",
    "#include \"main.h\"\n",
    "\n",
    "/**\n",
    " * flush_buffer - Writes the buffer to stdout and resets the buffer index\n",
    " * @buffer: The buffer containing the characters to be written\n",
    " * @index: The current index in the buffer\n",
    " */\n",
    "void flush_buffer(char *buffer, int *index)\n",
    "{\n",
    "    if (*index > 0)\n",
    "    {\n",
    "        write(1, buffer, *index);\n",
    "        *index = 0;\n",
    "    }\n",
    "}\n"
   ]
  },
  {
   "cell_type": "code",
   "execution_count": 241,
   "metadata": {},
   "outputs": [
    {
     "name": "stdout",
     "output_type": "stream",
     "text": [
      "Writing /home/elkomy/alx/printf/print_percent.c\n"
     ]
    }
   ],
   "source": [
    "%%file /home/elkomy/alx/printf/print_percent.c\n",
    "\n",
    "#include \"main.h\"\n",
    "\n",
    "/**\n",
    " * print_percent - Prints a percent symbol\n",
    " * @list: list of arguments (unused)\n",
    " * @buffer: The buffer to write to\n",
    " * @index: The current index in the buffer\n",
    " * Return: Always 1\n",
    " */\n",
    "int print_percent(va_list list __attribute__((unused)), char *buffer, int *index)\n",
    "{\n",
    "    return _putchar('%', buffer, index);\n",
    "}\n",
    "\n",
    "\n"
   ]
  },
  {
   "cell_type": "code",
   "execution_count": 242,
   "metadata": {},
   "outputs": [
    {
     "name": "stdout",
     "output_type": "stream",
     "text": [
      "Writing /home/elkomy/alx/printf/print_hex.c\n"
     ]
    }
   ],
   "source": [
    "%%file /home/elkomy/alx/printf/print_hex.c\n",
    "#include \"main.h\"\n",
    "\n",
    "/**\n",
    " * print_hex - Prints a number in hexadecimal base\n",
    " * @list: list of arguments\n",
    " * @buffer: buffer to store the result\n",
    " * @index: current index in the buffer\n",
    " * Return: The number of characters printed\n",
    " */\n",
    "int print_hex(va_list list, char *buffer, int *index)\n",
    "{\n",
    "    unsigned int n = va_arg(list, unsigned int);\n",
    "    char *str;\n",
    "    int num_chars;\n",
    "\n",
    "    str = convert(n, 16, 1);\n",
    "    if (str == NULL)\n",
    "        return (-1);\n",
    "\n",
    "    num_chars = _puts(str, buffer, index);\n",
    "    return (num_chars);\n",
    "}\n"
   ]
  },
  {
   "cell_type": "code",
   "execution_count": 243,
   "metadata": {},
   "outputs": [
    {
     "name": "stdout",
     "output_type": "stream",
     "text": [
      "Writing /home/elkomy/alx/printf/print_HEX.c\n"
     ]
    }
   ],
   "source": [
    "%%file /home/elkomy/alx/printf/print_HEX.c\n",
    "#include \"main.h\"\n",
    "\n",
    "/**\n",
    " * print_HEX - Prints a number in hexadecimal base\n",
    " * @list: list of arguments\n",
    " * @buffer: buffer to store the result\n",
    " * @index: current index in the buffer\n",
    " * Return: The number of characters printed\n",
    " */\n",
    "int print_HEX(va_list list, char *buffer, int *index)\n",
    "{\n",
    "    unsigned int n = va_arg(list, unsigned int);\n",
    "    char *str;\n",
    "    int num_chars;\n",
    "\n",
    "    str = convert(n, 16, 0);\n",
    "    if (str == NULL)\n",
    "        return (-1);\n",
    "\n",
    "    num_chars = _puts(str, buffer, index);\n",
    "    return (num_chars);\n",
    "}\n"
   ]
  },
  {
   "cell_type": "code",
   "execution_count": 244,
   "metadata": {},
   "outputs": [
    {
     "name": "stdout",
     "output_type": "stream",
     "text": [
      "Writing /home/elkomy/alx/printf/print_octal.c\n"
     ]
    }
   ],
   "source": [
    "%%file /home/elkomy/alx/printf/print_octal.c\n",
    "#include \"main.h\"\n",
    "#include <stdlib.h>\n",
    "\n",
    "/**\n",
    " * print_octal - Prints a number in octal base\n",
    " * @list: list of arguments\n",
    " * @buffer: buffer to store the result\n",
    " * @index: current index in the buffer\n",
    " * Return: The number of characters printed\n",
    " */\n",
    "int print_octal(va_list list, char *buffer, int *index)\n",
    "{\n",
    "    unsigned int n = va_arg(list, unsigned int);\n",
    "    char *str;\n",
    "    int num_chars;\n",
    "\n",
    "    str = convert(n, 8, 0);\n",
    "    if (str == NULL)\n",
    "        return (-1);\n",
    "\n",
    "    num_chars = _puts(str, buffer, index);\n",
    "    return (num_chars);\n",
    "}\n",
    "\n",
    "\n"
   ]
  },
  {
   "cell_type": "code",
   "execution_count": 245,
   "metadata": {},
   "outputs": [
    {
     "name": "stdout",
     "output_type": "stream",
     "text": [
      "Writing /home/elkomy/alx/printf/print_unsigned.c\n"
     ]
    }
   ],
   "source": [
    "%%file /home/elkomy/alx/printf/print_unsigned.c\n",
    "#include \"main.h\"\n",
    "\n",
    "/**\n",
    " * print_unsigned - Prints an unsigned integer\n",
    " * @list: list of arguments\n",
    " * @buffer: buffer to store the result\n",
    " * @index: current index in the buffer\n",
    " * Return: The number of characters printed\n",
    " */\n",
    "int print_unsigned(va_list list, char *buffer, int *index)\n",
    "{\n",
    "    unsigned int n = va_arg(list, unsigned int);\n",
    "    char *str;\n",
    "    int num_chars;\n",
    "\n",
    "    str = convert(n, 10, 0);\n",
    "    if (str == NULL)\n",
    "        return (-1);\n",
    "\n",
    "    num_chars = _puts(str, buffer, index);\n",
    "    return (num_chars);\n",
    "}\n"
   ]
  },
  {
   "cell_type": "code",
   "execution_count": 246,
   "metadata": {},
   "outputs": [
    {
     "name": "stdout",
     "output_type": "stream",
     "text": [
      "Overwriting /home/elkomy/alx/printf/tests/main.c\n"
     ]
    }
   ],
   "source": [
    "%%file /home/elkomy/alx/printf/tests/main.c\n",
    "#include <limits.h>\n",
    "#include <stdio.h>\n",
    "#include \"../main.h\"\n",
    "\n",
    "/**\n",
    "* main - Entry point\n",
    "*\n",
    "* Return: Always 0\n",
    "*/\n",
    "int main(void)\n",
    "{\n",
    "int len;\n",
    "int len2;\n",
    "unsigned int ui;\n",
    "void *addr;\n",
    "\n",
    "len = _printf(\"Let's try to printf a simple sentence.\\n\");\n",
    "len2 = printf(\"Let's try to printf a simple sentence.\\n\");\n",
    "ui = (unsigned int)INT_MAX + 1024;\n",
    "addr = (void *)0x7ffe637541f0;\n",
    "_printf(\"Length:[%d, %i]\\n\", len, len);\n",
    "printf(\"Length:[%d, %i]\\n\", len2, len2);\n",
    "_printf(\"Negative:[%d]\\n\", -762534);\n",
    "printf(\"Negative:[%d]\\n\", -762534);\n",
    "_printf(\"Unsigned:[%u]\\n\", ui);\n",
    "printf(\"Unsigned:[%u]\\n\", ui);\n",
    "_printf(\"Unsigned octal:[%o]\\n\", ui);\n",
    "printf(\"Unsigned octal:[%o]\\n\", ui);\n",
    "_printf(\"Unsigned hexadecimal:[%x, %X]\\n\", ui, ui);\n",
    "printf(\"Unsigned hexadecimal:[%x, %X]\\n\", ui, ui);\n",
    "_printf(\"Character:[%c]\\n\", 'H');\n",
    "printf(\"Character:[%c]\\n\", 'H');\n",
    "_printf(\"String:[%s]\\n\", \"I am a string !\");\n",
    "printf(\"String:[%s]\\n\", \"I am a string !\");\n",
    "_printf(\"Address:[%p]\\n\", addr);\n",
    "printf(\"Address:[%p]\\n\", addr);\n",
    "len = _printf(\"Percent:[%%]\\n\");\n",
    "len2 = printf(\"Percent:[%%]\\n\");\n",
    "_printf(\"Len:[%d]\\n\", len);\n",
    "printf(\"Len:[%d]\\n\", len2);\n",
    "_printf(\"Unknown:[%r]\\n\");\n",
    "printf(\"Unknown:[%r]\\n\");\n",
    "return (0);\n",
    "}\n",
    "\n"
   ]
  },
  {
   "cell_type": "code",
   "execution_count": 247,
   "metadata": {},
   "outputs": [
    {
     "name": "stdout",
     "output_type": "stream",
     "text": [
      "Writing /home/elkomy/alx/printf/format_reciever.c\n"
     ]
    }
   ],
   "source": [
    "%%file /home/elkomy/alx/printf/format_reciever.c\n",
    "#include \"main.h\"\n",
    "\n",
    "/**\n",
    " * format_reciever - Receives the main string and all the necessary parameters to\n",
    " * print a formatted string\n",
    " * @format: A string containing all the desired characters\n",
    " * @f_list: A list of conversion specifiers\n",
    " * @arg_list: A list containing all the arguments passed to the program\n",
    " * @buffer: The buffer to write to\n",
    " * @index: The current index in the buffer\n",
    " * Return: A total count of the characters printed\n",
    " */\n",
    "#include \"main.h\"\n",
    "\n",
    "int format_reciever(const char *format, conver_t f_list[], va_list arg_list, char *buffer, int *index)\n",
    "{\n",
    "    int i, j, printed_chars = 0;\n",
    "    int (*func)(va_list, char *, int *);\n",
    "\n",
    "    for (i = 0; format[i] != '\\0'; i++)\n",
    "    {\n",
    "        if (format[i] == '%')\n",
    "        {\n",
    "            for (j = 0; f_list[j].specifier != NULL; j++)\n",
    "            {\n",
    "                if (format[i + 1] == f_list[j].specifier[0])\n",
    "                {\n",
    "                    func = f_list[j].f;\n",
    "                    printed_chars += func(arg_list, buffer, index);\n",
    "                    break;\n",
    "                }\n",
    "            }\n",
    "            if (f_list[j].specifier == NULL && format[i + 1] != ' ')\n",
    "            {\n",
    "                _putchar(format[i], buffer, index);\n",
    "                _putchar(format[i + 1], buffer, index);\n",
    "                printed_chars += 2;\n",
    "            }\n",
    "            i++;\n",
    "        }\n",
    "        else\n",
    "        {\n",
    "            _putchar(format[i], buffer, index);\n",
    "            printed_chars++;\n",
    "        }\n",
    "    }\n",
    "\n",
    "    return (printed_chars);\n",
    "}\n",
    "\n"
   ]
  },
  {
   "cell_type": "code",
   "execution_count": 248,
   "metadata": {},
   "outputs": [
    {
     "name": "stdout",
     "output_type": "stream",
     "text": [
      "\n",
      "========== /home/elkomy/alx/printf/_printf.c ==========\n",
      "_printf\n",
      "Let's try to printf a simple sentence.\n",
      "Let's try to printf a simple sentence.\n",
      "Length:[39, 39]\n",
      "Length:[39, 39]\n",
      "Negative:[-762534]\n",
      "Negative:[-762534]\n",
      "Unsigned:[2147484671]\n",
      "Unsigned:[2147484671]\n",
      "Unsigned octal:[20000001777]\n",
      "Unsigned octal:[20000001777]\n",
      "Unsigned hexadecimal:[800003ff, 800003FF]\n",
      "Unsigned hexadecimal:[800003ff, 800003FF]\n",
      "Character:[H]\n",
      "Character:[H]\n",
      "String:[I am a string !]\n",
      "String:[I am a string !]\n",
      "Address:[%p]\n",
      "Address:[0x7ffe637541f0]\n",
      "Percent:[%]\n",
      "Percent:[%]\n",
      "Len:[12]\n",
      "Len:[12]\n",
      "Unknown:[%r]\n",
      "Unknown:[%r]\n"
     ]
    }
   ],
   "source": [
    "\n",
    "!betty /home/elkomy/alx/printf/_printf.c\n",
    "!gcc -Wall -Werror -Wextra -pedantic -std=gnu89 -Wno-format /home/elkomy/alx/printf/*.c /home/elkomy/alx/printf/tests/main.c -o /home/elkomy/alx/printf/printf\n",
    "!./printf\n"
   ]
  },
  {
   "cell_type": "code",
   "execution_count": 249,
   "metadata": {},
   "outputs": [
    {
     "name": "stdout",
     "output_type": "stream",
     "text": [
      "[main 0ad4c66] alx-low_level_programming/0x0D-preprocessor/0-putchar\n",
      " 23 files changed, 389 insertions(+), 447 deletions(-)\n",
      " delete mode 100644 Makefile\n",
      " delete mode 100644 _printf.o\n",
      " rewrite _putchar.c (81%)\n",
      " create mode 100644 flush_buffer.c\n",
      " rewrite format_reciever.c (88%)\n",
      " rewrite main.h (71%)\n",
      " rewrite print_HEX.c (87%)\n",
      " rewrite print_binary.c (88%)\n",
      " delete mode 100644 print_char.o\n",
      " rewrite print_hex.c (87%)\n",
      " delete mode 100644 print_int.c\n",
      " create mode 100644 print_integer.c\n",
      " rewrite print_octal.c (85%)\n",
      " delete mode 100644 print_percent.o\n",
      " rewrite print_string.c (81%)\n",
      " delete mode 100644 print_string.o\n",
      " rewrite print_unsigned.c (85%)\n",
      " rewrite printf (71%)\n",
      " rewrite tests/main.c (67%)\n"
     ]
    },
    {
     "name": "stderr",
     "output_type": "stream",
     "text": [
      "To https://github.com/elkomysara/printf\n",
      "   2c5ea69..0ad4c66  main -> main\n"
     ]
    }
   ],
   "source": [
    "%%bash\n",
    "git add .\n",
    "git commit -m \"alx-low_level_programming/0x0D-preprocessor/0-putchar\"\n",
    "git push"
   ]
  },
  {
   "cell_type": "markdown",
   "metadata": {},
   "source": [
    "###\n",
    "---\n",
    "<center>\n",
    "<h4>5. My weakness is wearing too much leopard print</h4>\n",
    "</center>\n",
    "\n",
    "---"
   ]
  },
  {
   "cell_type": "markdown",
   "metadata": {},
   "source": [
    "\n",
    "#### Handle the following custom conversion specifier:\n",
    "\n",
    "* `S` : prints the string.\n",
    "* Non printable characters (0 < ASCII value < 32 or >= 127) are printed this way: `\\x`, followed by the ASCII code value in hexadecimal (upper case - always 2 characters)\n",
    "\n",
    "```bash\n",
    "alex@ubuntu:~/c/printf$ cat main.c\n",
    "#include \"main.h\"\n",
    "\n",
    "/**\n",
    " * main - Entry point\n",
    " *\n",
    " * Return: Always 0\n",
    " */\n",
    "int main(void)\n",
    "{\n",
    "    _printf(\"%S\\n\", \"Best\\nSchool\");\n",
    "    return (0);\n",
    "}\n",
    "alex@ubuntu:~/c/printf$ gcc -Wall -Wextra -Werror -pedantic -std=gnu89 main.c\n",
    "alex@ubuntu:~/c/printf$ ./a.out\n",
    "Best\\x0ASchool\n",
    "alex@ubuntu:~/c/printf$\n",
    "```\n",
    "\n",
    "\n",
    "\n",
    "#### Repo:\n",
    "* GitHub repository: ``` printf```"
   ]
  },
  {
   "cell_type": "code",
   "execution_count": 543,
   "metadata": {},
   "outputs": [
    {
     "name": "stdout",
     "output_type": "stream",
     "text": [
      "Overwriting /home/elkomy/alx/printf/_printf.c\n"
     ]
    }
   ],
   "source": [
    "%%file /home/elkomy/alx/printf/_printf.c\n",
    "#include \"main.h\"\n",
    "\n",
    "/**\n",
    "* _printf - Receives the main string and all the necessary parameters to\n",
    "* print a formatted string\n",
    "* @format: A string containing all the desired characters\n",
    "* Return: A total count of the characters printed\n",
    "*/\n",
    "int _printf(const char *format, ...)\n",
    "{\n",
    "int printed_chars;\n",
    "conver_t f_list[] = {\n",
    "{\"%\", print_percent},\n",
    "{\"c\", print_char},\n",
    "{\"s\", print_string},\n",
    "{\"d\", print_int},\n",
    "{\"i\", print_int},\n",
    "{\"u\", print_unsigned},\n",
    "{\"o\", print_octal},\n",
    "{\"x\", print_hex},\n",
    "{\"X\", print_HEX},\n",
    "{\"p\", print_pointer},\n",
    "{NULL, NULL},\n",
    "};\n",
    "va_list arg_list;\n",
    "char buffer[1024];\n",
    "int index = 0;\n",
    "\n",
    "if (format == NULL)\n",
    "return (-1);\n",
    "\n",
    "va_start(arg_list, format);\n",
    "printed_chars = format_reciever(format, f_list, arg_list);\n",
    "va_end(arg_list);\n",
    "\n",
    "return (printed_chars);\n",
    "}\n"
   ]
  },
  {
   "cell_type": "code",
   "execution_count": 530,
   "metadata": {},
   "outputs": [
    {
     "name": "stdout",
     "output_type": "stream",
     "text": [
      "Writing /home/elkomy/alx/printf/print_special_string.c\n"
     ]
    }
   ],
   "source": [
    "%%file /home/elkomy/alx/printf/print_special_string.c\n",
    "#include \"main.h\"\n",
    "#include <stdio.h>\n",
    "\n",
    "\n",
    "/**\n",
    "* print_special_string - Prints a special string\n",
    "* @list: List of arguments\n",
    "* @buffer: Buffer to store characters\n",
    "* @index: Current index in the buffer\n",
    "* @flags: Flags for formatting\n",
    "* Return: Number of characters printed\n",
    "*/\n",
    "int print_special_string(va_list list, char *buffer, int *index, flags_t flags)\n",
    "{\n",
    "char *str = va_arg(list, char *);\n",
    "int i = 0, count = 0;\n",
    "\n",
    "(void)flags; /* Suppress unused parameter warning */\n",
    "\n",
    "while (str[i])\n",
    "{\n",
    "if ((str[i] > 0 && str[i] < 32) || str[i] >= 127)\n",
    "{\n",
    "count += sprintf(&buffer[*index], \"\\\\x%02X\", str[i]);\n",
    "*index += 4;\n",
    "}\n",
    "else\n",
    "{\n",
    "_putchar(str[i], buffer, index);\n",
    "count++;\n",
    "}\n",
    "i++;\n",
    "}\n",
    "\n",
    "return count;\n",
    "}\n"
   ]
  },
  {
   "cell_type": "code",
   "execution_count": 531,
   "metadata": {},
   "outputs": [
    {
     "name": "stdout",
     "output_type": "stream",
     "text": [
      "Overwriting /home/elkomy/alx/printf/format_reciever.c\n"
     ]
    }
   ],
   "source": [
    "%%file /home/elkomy/alx/printf/format_reciever.c\n",
    "#include \"main.h\"\n",
    "#include <stdio.h>\n",
    "\n",
    "/**\n",
    " * format_reciever - Receives the main string and all the necessary parameters to\n",
    " * print a formatted string\n",
    " * @format: A string containing all the desired characters\n",
    " * @f_list: A list of format specifiers and their corresponding functions\n",
    " * @arg_list: A list of arguments to be printed\n",
    " * @buffer: Buffer to store the formatted string\n",
    " * @index: Current index in the buffer\n",
    " * Return: A total count of the characters printed\n",
    " */\n",
    "int format_reciever(const char *format, conver_t f_list[], va_list arg_list, char *buffer, int *index)\n",
    "{\n",
    "    int i = 0, j, count = 0;\n",
    "\n",
    "    while (format && format[i])\n",
    "    {\n",
    "        if (format[i] == '%')\n",
    "        {\n",
    "            i++;\n",
    "            for (j = 0; f_list[j].specifier != NULL; j++)\n",
    "            {\n",
    "                if (format[i] == f_list[j].specifier[0])\n",
    "                {\n",
    "                    count += f_list[j].f(arg_list, buffer, index);\n",
    "                    break;\n",
    "                }\n",
    "            }\n",
    "            if (f_list[j].specifier == NULL)\n",
    "            {\n",
    "                buffer[*index] = '%';\n",
    "                buffer[*index + 1] = format[i];\n",
    "                *index += 2;\n",
    "                count += 2;\n",
    "            }\n",
    "        }\n",
    "        else\n",
    "        {\n",
    "            buffer[*index] = format[i];\n",
    "            (*index)++;\n",
    "            count++;\n",
    "        }\n",
    "        i++;\n",
    "    }\n",
    "    return (count);\n",
    "}\n"
   ]
  },
  {
   "cell_type": "code",
   "execution_count": 538,
   "metadata": {},
   "outputs": [
    {
     "name": "stdout",
     "output_type": "stream",
     "text": [
      "Overwriting /home/elkomy/alx/printf/main.h\n"
     ]
    }
   ],
   "source": [
    "%%file /home/elkomy/alx/printf/main.h\n",
    "#ifndef MAIN_H\n",
    "#define MAIN_H\n",
    "\n",
    "#include <stdio.h>\n",
    "#include <unistd.h>\n",
    "#include <stdlib.h>\n",
    "#include <stdarg.h>\n",
    "#include <limits.h>\n",
    "\n",
    "/**\n",
    "* struct convert - defines a structure for symbols and functions\n",
    "* @sym: The operator\n",
    "* @f: The function associated\n",
    "*/\n",
    "struct convert\n",
    "{\n",
    "char *sym;\n",
    "int (*f)(va_list, char *, int *);\n",
    "};\n",
    "typedef struct convert conver_t;\n",
    "\n",
    "int _printf(const char *format, ...);\n",
    "int _putchar(char c, char *buffer, int *index);\n",
    "int format_reciever(const char *format, conver_t f_list[], va_list arg_list);\n",
    "int print_percent(va_list list, char *buffer, int *index);\n",
    "int print_char(va_list list, char *buffer, int *index);\n",
    "int print_string(va_list list, char *buffer, int *index);\n",
    "int print_int(va_list list, char *buffer, int *index);\n",
    "int print_unsigned(va_list list, char *buffer, int *index);\n",
    "int print_octal(va_list list, char *buffer, int *index);\n",
    "int print_hex(va_list list, char *buffer, int *index);\n",
    "int print_HEX(va_list list, char *buffer, int *index);\n",
    "int print_pointer(va_list list, char *buffer, int *index);\n",
    "\n",
    "#endif /* MAIN_H */\n"
   ]
  },
  {
   "cell_type": "code",
   "execution_count": 539,
   "metadata": {},
   "outputs": [
    {
     "name": "stdout",
     "output_type": "stream",
     "text": [
      "Overwriting /home/elkomy/alx/printf/tests/main.c\n"
     ]
    }
   ],
   "source": [
    "%%file /home/elkomy/alx/printf/tests/main.c\n",
    "#include \"../main.h\"\n",
    "\n",
    "/**\n",
    " * main - Entry point\n",
    " *\n",
    " * Return: Always 0\n",
    " */\n",
    "int main(void)\n",
    "{\n",
    "    _printf(\"%S\\n\", \"Best\\nSchool\");\n",
    "    return (0);\n",
    "}"
   ]
  },
  {
   "cell_type": "code",
   "execution_count": 540,
   "metadata": {},
   "outputs": [
    {
     "name": "stdout",
     "output_type": "stream",
     "text": [
      "Overwriting /home/elkomy/alx/printf/_putchar.c\n"
     ]
    }
   ],
   "source": [
    "%%file /home/elkomy/alx/printf/_putchar.c\n",
    "#include \"main.h\"\n",
    "#include <unistd.h> \n",
    "\n",
    "/**\n",
    " * _putchar - Writes the character c to stdout\n",
    " * @c: The character to print\n",
    " * @buffer: Buffer to store characters\n",
    " * @index: Current index in the buffer\n",
    " * Return: On success 1.\n",
    " * On error, -1 is returned, and errno is set appropriately.\n",
    " */\n",
    "int _putchar(char c, char *buffer, int *index)\n",
    "{\n",
    "    if (*index >= 1024)\n",
    "    {\n",
    "        write(1, buffer, *index);\n",
    "        *index = 0;\n",
    "    }\n",
    "\n",
    "    buffer[*index] = c;\n",
    "    (*index)++;\n",
    "\n",
    "    return (1);\n",
    "}\n"
   ]
  },
  {
   "cell_type": "code",
   "execution_count": 541,
   "metadata": {},
   "outputs": [
    {
     "name": "stdout",
     "output_type": "stream",
     "text": [
      "Overwriting /home/elkomy/alx/printf/flush_buffer.c\n"
     ]
    }
   ],
   "source": [
    "%%file /home/elkomy/alx/printf/flush_buffer.c\n",
    "#include \"main.h\"\n",
    "#include <unistd.h> \n",
    "\n",
    "/**\n",
    " * flush_buffer - Writes the content of the buffer to stdout\n",
    " * @buffer: Buffer to store characters\n",
    " * @index: Current index in the buffer\n",
    " * Return: void\n",
    " */\n",
    "void flush_buffer(char *buffer, int *index)\n",
    "{\n",
    "    if (*index > 0)\n",
    "    {\n",
    "        write(1, buffer, *index);\n",
    "        *index = 0;\n",
    "    }\n",
    "}\n"
   ]
  },
  {
   "cell_type": "code",
   "execution_count": 542,
   "metadata": {},
   "outputs": [
    {
     "name": "stderr",
     "output_type": "stream",
     "text": [
      "format_reciever.c:14:5: error: conflicting types for ‘format_reciever’\n",
      "   14 | int format_reciever(const char *format, conver_t f_list[], va_list arg_list, char *buffer, int *index)\n",
      "      |     ^~~~~~~~~~~~~~~\n",
      "In file included from format_reciever.c:1:\n",
      "main.h:24:5: note: previous declaration of ‘format_reciever’ was here\n",
      "   24 | int format_reciever(const char *format, conver_t f_list[], va_list arg_list);\n",
      "      |     ^~~~~~~~~~~~~~~\n",
      "format_reciever.c: In function ‘format_reciever’:\n",
      "format_reciever.c:23:34: error: ‘conver_t’ {aka ‘struct convert’} has no member named ‘specifier’\n",
      "   23 |             for (j = 0; f_list[j].specifier != NULL; j++)\n",
      "      |                                  ^\n",
      "format_reciever.c:25:43: error: ‘conver_t’ {aka ‘struct convert’} has no member named ‘specifier’\n",
      "   25 |                 if (format[i] == f_list[j].specifier[0])\n",
      "      |                                           ^\n",
      "format_reciever.c:31:26: error: ‘conver_t’ {aka ‘struct convert’} has no member named ‘specifier’\n",
      "   31 |             if (f_list[j].specifier == NULL)\n",
      "      |                          ^\n",
      "print_HEX.c:10:5: error: conflicting types for ‘print_HEX’\n",
      "   10 | int print_HEX(va_list list)\n",
      "      |     ^~~~~~~~~\n",
      "In file included from print_HEX.c:2:\n",
      "main.h:32:5: note: previous declaration of ‘print_HEX’ was here\n",
      "   32 | int print_HEX(va_list list, char *buffer, int *index);\n",
      "      |     ^~~~~~~~~\n",
      "print_HEX.c: In function ‘print_HEX’:\n",
      "print_HEX.c:18:1: error: too few arguments to function ‘_putchar’\n",
      "   18 | _putchar('0');\n",
      "      | ^~~~~~~~\n",
      "In file included from print_HEX.c:2:\n",
      "main.h:23:5: note: declared here\n",
      "   23 | int _putchar(char c, char *buffer, int *index);\n",
      "      |     ^~~~~~~~\n",
      "print_HEX.c:29:1: error: too few arguments to function ‘_putchar’\n",
      "   29 | _putchar(buffer[i]);\n",
      "      | ^~~~~~~~\n",
      "In file included from print_HEX.c:2:\n",
      "main.h:23:5: note: declared here\n",
      "   23 | int _putchar(char c, char *buffer, int *index);\n",
      "      |     ^~~~~~~~\n",
      "print_char.c:9:5: error: conflicting types for ‘print_char’\n",
      "    9 | int print_char(va_list list)\n",
      "      |     ^~~~~~~~~~\n",
      "In file included from print_char.c:1:\n",
      "main.h:26:5: note: previous declaration of ‘print_char’ was here\n",
      "   26 | int print_char(va_list list, char *buffer, int *index);\n",
      "      |     ^~~~~~~~~~\n",
      "print_char.c: In function ‘print_char’:\n",
      "print_char.c:11:1: error: too few arguments to function ‘_putchar’\n",
      "   11 | _putchar(va_arg(list, int));\n",
      "      | ^~~~~~~~\n",
      "In file included from print_char.c:1:\n",
      "main.h:23:5: note: declared here\n",
      "   23 | int _putchar(char c, char *buffer, int *index);\n",
      "      |     ^~~~~~~~\n",
      "print_hex.c:10:5: error: conflicting types for ‘print_hex’\n",
      "   10 | int print_hex(va_list list)\n",
      "      |     ^~~~~~~~~\n",
      "In file included from print_hex.c:2:\n",
      "main.h:31:5: note: previous declaration of ‘print_hex’ was here\n",
      "   31 | int print_hex(va_list list, char *buffer, int *index);\n",
      "      |     ^~~~~~~~~\n",
      "print_hex.c: In function ‘print_hex’:\n",
      "print_hex.c:18:1: error: too few arguments to function ‘_putchar’\n",
      "   18 | _putchar('0');\n",
      "      | ^~~~~~~~\n",
      "In file included from print_hex.c:2:\n",
      "main.h:23:5: note: declared here\n",
      "   23 | int _putchar(char c, char *buffer, int *index);\n",
      "      |     ^~~~~~~~\n",
      "print_hex.c:29:1: error: too few arguments to function ‘_putchar’\n",
      "   29 | _putchar(buffer[i]);\n",
      "      | ^~~~~~~~\n",
      "In file included from print_hex.c:2:\n",
      "main.h:23:5: note: declared here\n",
      "   23 | int _putchar(char c, char *buffer, int *index);\n",
      "      |     ^~~~~~~~\n",
      "print_int.c:9:5: error: conflicting types for ‘print_int’\n",
      "    9 | int print_int(va_list list)\n",
      "      |     ^~~~~~~~~\n",
      "In file included from print_int.c:1:\n",
      "main.h:28:5: note: previous declaration of ‘print_int’ was here\n",
      "   28 | int print_int(va_list list, char *buffer, int *index);\n",
      "      |     ^~~~~~~~~\n",
      "print_int.c: In function ‘print_int’:\n",
      "print_int.c:16:1: error: too few arguments to function ‘_putchar’\n",
      "   16 | _putchar('-');\n",
      "      | ^~~~~~~~\n",
      "In file included from print_int.c:1:\n",
      "main.h:23:5: note: declared here\n",
      "   23 | int _putchar(char c, char *buffer, int *index);\n",
      "      |     ^~~~~~~~\n",
      "print_int.c:17:1: error: too few arguments to function ‘_putchar’\n",
      "   17 | _putchar('2');\n",
      "      | ^~~~~~~~\n",
      "In file included from print_int.c:1:\n",
      "main.h:23:5: note: declared here\n",
      "   23 | int _putchar(char c, char *buffer, int *index);\n",
      "      |     ^~~~~~~~\n",
      "print_int.c:21:1: error: too few arguments to function ‘_putchar’\n",
      "   21 | _putchar('-');\n",
      "      | ^~~~~~~~\n",
      "In file included from print_int.c:1:\n",
      "main.h:23:5: note: declared here\n",
      "   23 | int _putchar(char c, char *buffer, int *index);\n",
      "      |     ^~~~~~~~\n",
      "print_int.c:27:1: error: too few arguments to function ‘_putchar’\n",
      "   27 | _putchar('0');\n",
      "      | ^~~~~~~~\n",
      "In file included from print_int.c:1:\n",
      "main.h:23:5: note: declared here\n",
      "   23 | int _putchar(char c, char *buffer, int *index);\n",
      "      |     ^~~~~~~~\n",
      "print_int.c:38:1: error: too few arguments to function ‘_putchar’\n",
      "   38 | _putchar(buffer[i]);\n",
      "      | ^~~~~~~~\n",
      "In file included from print_int.c:1:\n",
      "main.h:23:5: note: declared here\n",
      "   23 | int _putchar(char c, char *buffer, int *index);\n",
      "      |     ^~~~~~~~\n",
      "print_octal.c:10:5: error: conflicting types for ‘print_octal’\n",
      "   10 | int print_octal(va_list list)\n",
      "      |     ^~~~~~~~~~~\n",
      "In file included from print_octal.c:2:\n",
      "main.h:30:5: note: previous declaration of ‘print_octal’ was here\n",
      "   30 | int print_octal(va_list list, char *buffer, int *index);\n",
      "      |     ^~~~~~~~~~~\n",
      "print_octal.c: In function ‘print_octal’:\n",
      "print_octal.c:18:1: error: too few arguments to function ‘_putchar’\n",
      "   18 | _putchar('0');\n",
      "      | ^~~~~~~~\n",
      "In file included from print_octal.c:2:\n",
      "main.h:23:5: note: declared here\n",
      "   23 | int _putchar(char c, char *buffer, int *index);\n",
      "      |     ^~~~~~~~\n",
      "print_octal.c:29:1: error: too few arguments to function ‘_putchar’\n",
      "   29 | _putchar(buffer[i]);\n",
      "      | ^~~~~~~~\n",
      "In file included from print_octal.c:2:\n",
      "main.h:23:5: note: declared here\n",
      "   23 | int _putchar(char c, char *buffer, int *index);\n",
      "      |     ^~~~~~~~\n",
      "print_percent.c:9:5: error: conflicting types for ‘print_percent’\n",
      "    9 | int print_percent(__attribute__((unused))va_list list)\n",
      "      |     ^~~~~~~~~~~~~\n",
      "In file included from print_percent.c:1:\n",
      "main.h:25:5: note: previous declaration of ‘print_percent’ was here\n",
      "   25 | int print_percent(va_list list, char *buffer, int *index);\n",
      "      |     ^~~~~~~~~~~~~\n",
      "print_percent.c: In function ‘print_percent’:\n",
      "print_percent.c:11:1: error: too few arguments to function ‘_putchar’\n",
      "   11 | _putchar('%');\n",
      "      | ^~~~~~~~\n",
      "In file included from print_percent.c:1:\n",
      "main.h:23:5: note: declared here\n",
      "   23 | int _putchar(char c, char *buffer, int *index);\n",
      "      |     ^~~~~~~~\n",
      "print_pointer.c:10:5: error: conflicting types for ‘print_pointer’\n",
      "   10 | int print_pointer(va_list list)\n",
      "      |     ^~~~~~~~~~~~~\n",
      "In file included from print_pointer.c:2:\n",
      "main.h:33:5: note: previous declaration of ‘print_pointer’ was here\n",
      "   33 | int print_pointer(va_list list, char *buffer, int *index);\n",
      "      |     ^~~~~~~~~~~~~\n",
      "print_pointer.c: In function ‘print_pointer’:\n",
      "print_pointer.c:18:1: error: too few arguments to function ‘_putchar’\n",
      "   18 | _putchar('(');\n",
      "      | ^~~~~~~~\n",
      "In file included from print_pointer.c:2:\n",
      "main.h:23:5: note: declared here\n",
      "   23 | int _putchar(char c, char *buffer, int *index);\n",
      "      |     ^~~~~~~~\n",
      "print_pointer.c:19:1: error: too few arguments to function ‘_putchar’\n",
      "   19 | _putchar('n');\n",
      "      | ^~~~~~~~\n",
      "In file included from print_pointer.c:2:\n",
      "main.h:23:5: note: declared here\n",
      "   23 | int _putchar(char c, char *buffer, int *index);\n",
      "      |     ^~~~~~~~\n",
      "print_pointer.c:20:1: error: too few arguments to function ‘_putchar’\n",
      "   20 | _putchar('i');\n",
      "      | ^~~~~~~~\n",
      "In file included from print_pointer.c:2:\n",
      "main.h:23:5: note: declared here\n",
      "   23 | int _putchar(char c, char *buffer, int *index);\n",
      "      |     ^~~~~~~~\n",
      "print_pointer.c:21:1: error: too few arguments to function ‘_putchar’\n",
      "   21 | _putchar('l');\n",
      "      | ^~~~~~~~\n",
      "In file included from print_pointer.c:2:\n",
      "main.h:23:5: note: declared here\n",
      "   23 | int _putchar(char c, char *buffer, int *index);\n",
      "      |     ^~~~~~~~\n",
      "print_pointer.c:22:1: error: too few arguments to function ‘_putchar’\n",
      "   22 | _putchar(')');\n",
      "      | ^~~~~~~~\n",
      "In file included from print_pointer.c:2:\n",
      "main.h:23:5: note: declared here\n",
      "   23 | int _putchar(char c, char *buffer, int *index);\n",
      "      |     ^~~~~~~~\n",
      "print_pointer.c:32:1: error: too few arguments to function ‘_putchar’\n",
      "   32 | _putchar('0');\n",
      "      | ^~~~~~~~\n",
      "In file included from print_pointer.c:2:\n",
      "main.h:23:5: note: declared here\n",
      "   23 | int _putchar(char c, char *buffer, int *index);\n",
      "      |     ^~~~~~~~\n",
      "print_pointer.c:33:1: error: too few arguments to function ‘_putchar’\n",
      "   33 | _putchar('x');\n",
      "      | ^~~~~~~~\n",
      "In file included from print_pointer.c:2:\n",
      "main.h:23:5: note: declared here\n",
      "   23 | int _putchar(char c, char *buffer, int *index);\n",
      "      |     ^~~~~~~~\n",
      "print_pointer.c:37:1: error: too few arguments to function ‘_putchar’\n",
      "   37 | _putchar(buffer[i]);\n",
      "      | ^~~~~~~~\n",
      "In file included from print_pointer.c:2:\n",
      "main.h:23:5: note: declared here\n",
      "   23 | int _putchar(char c, char *buffer, int *index);\n",
      "      |     ^~~~~~~~\n",
      "print_special_string.c:13:66: error: unknown type name ‘flags_t’\n",
      "   13 | int print_special_string(va_list list, char *buffer, int *index, flags_t flags)\n",
      "      |                                                                  ^~~~~~~\n",
      "print_string.c:10:5: error: conflicting types for ‘print_string’\n",
      "   10 | int print_string(va_list list)\n",
      "      |     ^~~~~~~~~~~~\n",
      "In file included from print_string.c:1:\n",
      "main.h:27:5: note: previous declaration of ‘print_string’ was here\n",
      "   27 | int print_string(va_list list, char *buffer, int *index);\n",
      "      |     ^~~~~~~~~~~~\n",
      "print_string.c: In function ‘print_string’:\n",
      "print_string.c:19:1: error: too few arguments to function ‘_putchar’\n",
      "   19 | _putchar(str[i]);\n",
      "      | ^~~~~~~~\n",
      "In file included from print_string.c:1:\n",
      "main.h:23:5: note: declared here\n",
      "   23 | int _putchar(char c, char *buffer, int *index);\n",
      "      |     ^~~~~~~~\n",
      "print_unsigned.c:10:5: error: conflicting types for ‘print_unsigned’\n",
      "   10 | int print_unsigned(va_list list)\n",
      "      |     ^~~~~~~~~~~~~~\n",
      "In file included from print_unsigned.c:2:\n",
      "main.h:29:5: note: previous declaration of ‘print_unsigned’ was here\n",
      "   29 | int print_unsigned(va_list list, char *buffer, int *index);\n",
      "      |     ^~~~~~~~~~~~~~\n",
      "print_unsigned.c: In function ‘print_unsigned’:\n",
      "print_unsigned.c:18:1: error: too few arguments to function ‘_putchar’\n",
      "   18 | _putchar('0');\n",
      "      | ^~~~~~~~\n",
      "In file included from print_unsigned.c:2:\n",
      "main.h:23:5: note: declared here\n",
      "   23 | int _putchar(char c, char *buffer, int *index);\n",
      "      |     ^~~~~~~~\n",
      "print_unsigned.c:29:1: error: too few arguments to function ‘_putchar’\n",
      "   29 | _putchar(buffer[i]);\n",
      "      | ^~~~~~~~\n",
      "In file included from print_unsigned.c:2:\n",
      "main.h:23:5: note: declared here\n",
      "   23 | int _putchar(char c, char *buffer, int *index);\n",
      "      |     ^~~~~~~~\n"
     ]
    },
    {
     "name": "stdout",
     "output_type": "stream",
     "text": [
      "Hello %\n",
      "(null)\n",
      "%\n",
      "Unsupported specifier: %q\n",
      "Number: -12345\n",
      "Number: -12345\n",
      "Max int: 2147483647\n",
      "Min int: -./,),(-*,(\n",
      "Hello %\n",
      "Returned: _printf: 8, printf: 8\n",
      "(null)\n",
      "Returned: _printf: 7, printf: 7\n",
      "%\n",
      "Returned: _printf: 2, printf: 2\n",
      "Unsupported specifier: %\n",
      "Returned: _printf: 26, printf: 25\n",
      "Number: -12345\n",
      "Returned: _printf: 15, printf: 15\n",
      "Number: -12345\n",
      "Returned: _printf: 15, printf: 15\n",
      "Max int: 2147483647\n",
      "Returned: _printf: 20, printf: 20\n",
      "Min int: -2147483648\n",
      "Returned: _printf: 21, printf: 21\n"
     ]
    }
   ],
   "source": [
    "%%bash\n",
    "cd /home/elkomy/alx/printf\n",
    "gcc -Wall -Wextra -Werror -pedantic -std=gnu89 -Wno-format *.c tests/main.c -o printf\n",
    "./printf\n"
   ]
  },
  {
   "cell_type": "code",
   "execution_count": 224,
   "metadata": {},
   "outputs": [
    {
     "name": "stdout",
     "output_type": "stream",
     "text": [
      "[main 71e2fc1] alx-low_level_programming/0x0D-preprocessor/0-putchar\n",
      " 20 files changed, 4436 insertions(+), 4859 deletions(-)\n",
      " rewrite 0x11. C - printf.ipynb (67%)\n",
      " create mode 100644 convert.c\n",
      " rewrite main.h (74%)\n",
      " create mode 100644 parse_flags.c\n",
      " rewrite print_integer.c (91%)\n",
      " create mode 100644 print_non_printable.c\n",
      " rewrite print_octal.c (86%)\n",
      " rewrite print_percent.c (77%)\n",
      " rewrite print_pointer.c (70%)\n",
      " create mode 100644 print_reverse.c\n",
      " create mode 100644 print_rot13.c\n",
      " rewrite print_special_string.c (73%)\n",
      " rewrite print_unsigned.c (70%)\n"
     ]
    },
    {
     "name": "stderr",
     "output_type": "stream",
     "text": [
      "To https://github.com/elkomysara/printf\n",
      "   86549d3..71e2fc1  main -> main\n"
     ]
    }
   ],
   "source": [
    "%%bash\n",
    "git add .\n",
    "git commit -m \"alx-low_level_programming/0x0D-preprocessor/0-putchar\"\n",
    "git push"
   ]
  },
  {
   "cell_type": "code",
   "execution_count": null,
   "metadata": {},
   "outputs": [],
   "source": []
  },
  {
   "cell_type": "markdown",
   "metadata": {},
   "source": [
    "###\n",
    "---\n",
    "<center>\n",
    "<h4>6. How is the world ruled and led to war? Diplomats lie to journalists and believe these lies when they see them in print</h4>\n",
    "</center>\n",
    "\n",
    "---"
   ]
  },
  {
   "cell_type": "markdown",
   "metadata": {},
   "source": [
    "\n",
    "#### Handle the following conversion specifier: `p`.\n",
    "\n",
    "* You don’t have to handle the flag characters\n",
    "* You don’t have to handle field width\n",
    "* You don’t have to handle precision\n",
    "* You don’t have to handle the length modifiers\n",
    "\n",
    "#### Repo:\n",
    "* GitHub repository: ``` printf```"
   ]
  },
  {
   "cell_type": "code",
   "execution_count": 524,
   "metadata": {},
   "outputs": [
    {
     "name": "stdout",
     "output_type": "stream",
     "text": [
      "Overwriting /home/elkomy/alx/printf/_printf.c\n"
     ]
    }
   ],
   "source": [
    "%%file /home/elkomy/alx/printf/_printf.c\n",
    "#include \"main.h\"\n",
    "#include <unistd.h>\n",
    "\n",
    "/**\n",
    "* _printf - Receives the main string and all the necessary parameters to\n",
    "* print a formatted string\n",
    "* @format: A string containing all the desired characters\n",
    "* Return: A total count of the characters printed\n",
    "*/\n",
    "int _printf(const char *format, ...)\n",
    "{\n",
    "va_list arg_list;\n",
    "int printed_chars = 0;\n",
    "char buffer[1024];\n",
    "int index = 0;\n",
    "\n",
    "conver_t f_list[] = {\n",
    "{\"%\", print_percent},\n",
    "{\"c\", print_char},\n",
    "{\"s\", print_string},\n",
    "{\"d\", print_integer},\n",
    "{\"i\", print_integer},\n",
    "{\"b\", print_binary},\n",
    "{\"u\", print_unsigned},\n",
    "{\"o\", print_octal},\n",
    "{\"x\", print_hex},\n",
    "{\"X\", print_HEX},\n",
    "{\"S\", print_special_string},\n",
    "{\"p\", print_pointer},\n",
    "{NULL, NULL}\n",
    "};\n",
    "\n",
    "va_start(arg_list, format);\n",
    "printed_chars = format_reciever(format, f_list, arg_list, buffer, &index);\n",
    "va_end(arg_list);\n",
    "\n",
    "buffer[index] = '\\0';\n",
    "write(1, buffer, index);\n",
    "\n",
    "return (printed_chars);\n",
    "}\n"
   ]
  },
  {
   "cell_type": "code",
   "execution_count": 525,
   "metadata": {},
   "outputs": [
    {
     "name": "stdout",
     "output_type": "stream",
     "text": [
      "Overwriting /home/elkomy/alx/printf/print_pointer.c\n"
     ]
    }
   ],
   "source": [
    "%%file /home/elkomy/alx/printf/print_pointer.c\n",
    "#include \"main.h\"\n",
    "#include <stdio.h>\n",
    "\n",
    "/**\n",
    " * print_pointer - Prints a pointer address\n",
    " * @list: list of arguments\n",
    " * @buffer: buffer to store characters\n",
    " * @index: current index in the buffer\n",
    " * Return: The number of characters printed\n",
    " */\n",
    "int print_pointer(va_list list, char *buffer, int *index)\n",
    "{\n",
    "    void *ptr = va_arg(list, void *);\n",
    "    unsigned long int addr = (unsigned long int)ptr;\n",
    "    char *hex_str;\n",
    "    int num_chars = 0;\n",
    "\n",
    "    if (ptr == NULL)\n",
    "    {\n",
    "        return (_puts(\"(nil)\", buffer, index));\n",
    "    }\n",
    "\n",
    "    _puts(\"0x\", buffer, index);\n",
    "    num_chars += 2;\n",
    "\n",
    "    hex_str = convert(addr, 16, 1);\n",
    "    num_chars += _puts(hex_str, buffer, index);\n",
    "\n",
    "    return (num_chars);\n",
    "}\n"
   ]
  },
  {
   "cell_type": "code",
   "execution_count": null,
   "metadata": {},
   "outputs": [
    {
     "name": "stdout",
     "output_type": "stream",
     "text": [
      "Overwriting /home/elkomy/alx/printf/format_reciever.c\n"
     ]
    }
   ],
   "source": [
    "%%file /home/elkomy/alx/printf/format_reciever.c\n",
    "#include \"main.h\"\n",
    "#include <stdio.h>\n",
    "\n",
    "/**\n",
    " * format_reciever - Receives the main string and all the necessary parameters to\n",
    " * print a formatted string\n",
    " * @format: A string containing all the desired characters\n",
    " * @f_list: A list of format specifiers and their corresponding functions\n",
    " * @arg_list: A list of arguments to be printed\n",
    " * @buffer: Buffer to store the formatted string\n",
    " * @index: Current index in the buffer\n",
    " * Return: A total count of the characters printed\n",
    " */\n",
    "int format_reciever(const char *format, conver_t f_list[], va_list arg_list, char *buffer, int *index)\n",
    "{\n",
    "    int i = 0, j, count = 0;\n",
    "\n",
    "    while (format && format[i])\n",
    "    {\n",
    "        if (format[i] == '%')\n",
    "        {\n",
    "            i++;\n",
    "            for (j = 0; f_list[j].specifier != NULL; j++)\n",
    "            {\n",
    "                if (format[i] == f_list[j].specifier[0])\n",
    "                {\n",
    "                    count += f_list[j].f(arg_list, buffer, index);\n",
    "                    break;\n",
    "                }\n",
    "            }\n",
    "            if (f_list[j].specifier == NULL)\n",
    "            {\n",
    "                buffer[*index] = '%';\n",
    "                buffer[*index + 1] = format[i];\n",
    "                *index += 2;\n",
    "                count += 2;\n",
    "            }\n",
    "        }\n",
    "        else\n",
    "        {\n",
    "            buffer[*index] = format[i];\n",
    "            (*index)++;\n",
    "            count++;\n",
    "        }\n",
    "        i++;\n",
    "    }\n",
    "    return (count);\n",
    "}\n"
   ]
  },
  {
   "cell_type": "code",
   "execution_count": 526,
   "metadata": {},
   "outputs": [
    {
     "name": "stdout",
     "output_type": "stream",
     "text": [
      "Overwriting /home/elkomy/alx/printf/main.h\n"
     ]
    }
   ],
   "source": [
    "%%file /home/elkomy/alx/printf/main.h\n",
    "#ifndef MAIN_H\n",
    "#define MAIN_H\n",
    "\n",
    "#include <stdarg.h>\n",
    "#include <stdlib.h>\n",
    "\n",
    "typedef struct converter {\n",
    "    char *specifier;\n",
    "    int (*f)(va_list, char *, int *);\n",
    "} conver_t;\n",
    "\n",
    "int _printf(const char *format, ...);\n",
    "int _putchar(char c, char *buffer, int *index);\n",
    "int _puts(char *str, char *buffer, int *index);\n",
    "int format_reciever(const char *format, conver_t f_list[], va_list arg_list, char *buffer, int *index);\n",
    "int print_char(va_list list, char *buffer, int *index);\n",
    "int print_string(va_list list, char *buffer, int *index);\n",
    "int print_percent(va_list list, char *buffer, int *index);\n",
    "int print_integer(va_list list, char *buffer, int *index);\n",
    "int print_number(int n, char *buffer, int *index);\n",
    "int print_binary(va_list list, char *buffer, int *index);\n",
    "int print_unsigned(va_list list, char *buffer, int *index);\n",
    "int print_octal(va_list list, char *buffer, int *index);\n",
    "int print_hex(va_list list, char *buffer, int *index);\n",
    "int print_HEX(va_list list, char *buffer, int *index);\n",
    "int print_special_string(va_list list, char *buffer, int *index);\n",
    "char *convert(unsigned long int num, int base, int lowercase);\n",
    "int print_pointer(va_list list, char *buffer, int *index);\n",
    "\n",
    "#endif /* MAIN_H */\n"
   ]
  },
  {
   "cell_type": "code",
   "execution_count": 527,
   "metadata": {},
   "outputs": [
    {
     "name": "stdout",
     "output_type": "stream",
     "text": [
      "Overwriting /home/elkomy/alx/printf/tests/main.c\n"
     ]
    }
   ],
   "source": [
    "%%file /home/elkomy/alx/printf/tests/main.c\n",
    "#include \"../main.h\"\n",
    "\n",
    "/**\n",
    " * main - Entry point\n",
    " *\n",
    " * Return: Always 0\n",
    " */\n",
    "int main(void)\n",
    "{\n",
    "    int *ptr = (int *)0x7ffe637541f0;\n",
    "\n",
    "    _printf(\"Pointer address: %p\\n\", ptr);\n",
    "    _printf(\"%S\\n\", \"Best\\nSchool\");\n",
    "    return (0);\n",
    "}"
   ]
  },
  {
   "cell_type": "code",
   "execution_count": 528,
   "metadata": {},
   "outputs": [
    {
     "name": "stdout",
     "output_type": "stream",
     "text": [
      "\n",
      "========== /home/elkomy/alx/printf/_printf.c ==========\n",
      "_printf\n",
      "Pointer address: 0x7ffe637541f0\n",
      "Best\\x0ASchool\n"
     ]
    }
   ],
   "source": [
    "\n",
    "!betty /home/elkomy/alx/printf/_printf.c\n",
    "!gcc -Wall -Werror -Wextra -pedantic -std=gnu89 -Wno-format /home/elkomy/alx/printf/*.c /home/elkomy/alx/printf/tests/main.c -o /home/elkomy/alx/printf/printf\n",
    "!./printf\n"
   ]
  },
  {
   "cell_type": "code",
   "execution_count": 529,
   "metadata": {},
   "outputs": [
    {
     "name": "stdout",
     "output_type": "stream",
     "text": [
      "[main 42d887a] alx-low_level_programming/0x0D-preprocessor/0-putchar\n",
      " 5 files changed, 36 insertions(+), 1 deletion(-)\n",
      " create mode 100644 print_pointer.c\n"
     ]
    },
    {
     "name": "stderr",
     "output_type": "stream",
     "text": [
      "To https://github.com/elkomysara/printf\n",
      "   5a53f46..42d887a  main -> main\n"
     ]
    }
   ],
   "source": [
    "%%bash\n",
    "git add .\n",
    "git commit -m \"alx-low_level_programming/0x0D-preprocessor/0-putchar\"\n",
    "git push"
   ]
  },
  {
   "cell_type": "code",
   "execution_count": null,
   "metadata": {},
   "outputs": [],
   "source": []
  },
  {
   "cell_type": "markdown",
   "metadata": {},
   "source": [
    "###\n",
    "---\n",
    "<center>\n",
    "<h4>7. The big print gives and the small print takes away</h4>\n",
    "</center>\n",
    "\n",
    "---"
   ]
  },
  {
   "cell_type": "markdown",
   "metadata": {},
   "source": [
    "\n",
    "#### Handle the following flag characters for non-custom conversion specifiers:\n",
    "\n",
    "* `+`\n",
    "* space\n",
    "* `#`\n",
    "\n",
    "#### Repo:\n",
    "* GitHub repository: ``` printf```"
   ]
  },
  {
   "cell_type": "code",
   "execution_count": 42,
   "metadata": {},
   "outputs": [
    {
     "name": "stdout",
     "output_type": "stream",
     "text": [
      "Overwriting /home/elkomy/alx/printf/_printf.c\n"
     ]
    }
   ],
   "source": [
    "%%file /home/elkomy/alx/printf/_printf.c\n",
    "#include \"main.h\"\n",
    "#include <unistd.h>\n",
    "\n",
    "/**\n",
    "* _printf - Receives the main string and all the necessary parameters to\n",
    "* print a formatted string\n",
    "* @format: A string containing all the desired characters\n",
    "* Return: A total count of the characters printed\n",
    "*/\n",
    "int _printf(const char *format, ...)\n",
    "{\n",
    "va_list arg_list;\n",
    "int printed_chars = 0;\n",
    "char buffer[1024];\n",
    "int index = 0;\n",
    "\n",
    "conver_t f_list[] = {\n",
    "{\"%\", print_percent},\n",
    "{\"c\", print_char},\n",
    "{\"s\", print_string},\n",
    "{\"d\", print_integer},\n",
    "{\"i\", print_integer},\n",
    "{\"b\", print_binary},\n",
    "{\"u\", print_unsigned},\n",
    "{\"o\", print_octal},\n",
    "{\"x\", print_hex},\n",
    "{\"X\", print_HEX},\n",
    "{\"S\", print_special_string},\n",
    "{\"p\", print_pointer},\n",
    "{NULL, NULL}\n",
    "};\n",
    "\n",
    "va_start(arg_list, format);\n",
    "printed_chars = format_reciever(format, f_list, arg_list, buffer, &index);\n",
    "va_end(arg_list);\n",
    "\n",
    "buffer[index] = '\\0';\n",
    "write(1, buffer, index);\n",
    "\n",
    "return (printed_chars);\n",
    "}\n"
   ]
  },
  {
   "cell_type": "code",
   "execution_count": 1,
   "metadata": {},
   "outputs": [
    {
     "name": "stdout",
     "output_type": "stream",
     "text": [
      "Overwriting /home/elkomy/alx/printf/format_reciever.c\n"
     ]
    }
   ],
   "source": [
    "%%file /home/elkomy/alx/printf/format_reciever.c\n",
    "#include \"main.h\"\n",
    "#include <stdio.h>\n",
    "\n",
    "/**\n",
    " * format_reciever - Receives the main string and necessary parameters to\n",
    " * print a formatted string\n",
    " * @format: A string containing all the desired characters\n",
    " * @f_list: List of format specifiers and their corresponding functions\n",
    " * @arg_list: List of arguments\n",
    " * @buffer: Buffer to store characters\n",
    " * @index: Current index in the buffer\n",
    " * Return: Number of characters printed\n",
    " */\n",
    "int format_reciever(const char *format, conver_t f_list[], va_list arg_list, char *buffer, int *index)\n",
    "{\n",
    "    int i = 0, j, printed_chars = 0;\n",
    "    flags_t flags;\n",
    "\n",
    "    while (format[i])\n",
    "    {\n",
    "        if (format[i] == '%')\n",
    "        {\n",
    "            i++;\n",
    "            flags = parse_flags(format, &i);\n",
    "\n",
    "            for (j = 0; f_list[j].sym != NULL; j++)\n",
    "            {\n",
    "                if (format[i] == f_list[j].sym[0])\n",
    "                {\n",
    "                    printed_chars += f_list[j].f(arg_list, buffer, index, flags);\n",
    "                    break;\n",
    "                }\n",
    "            }\n",
    "            if (f_list[j].sym == NULL)\n",
    "            {\n",
    "                _putchar('%', buffer, index);\n",
    "                _putchar(format[i], buffer, index);\n",
    "                printed_chars += 2;\n",
    "            }\n",
    "            i++;\n",
    "        }\n",
    "        else\n",
    "        {\n",
    "            _putchar(format[i], buffer, index);\n",
    "            printed_chars++;\n",
    "            i++;\n",
    "        }\n",
    "    }\n",
    "    return (printed_chars);\n",
    "}"
   ]
  },
  {
   "cell_type": "code",
   "execution_count": 2,
   "metadata": {},
   "outputs": [
    {
     "name": "stdout",
     "output_type": "stream",
     "text": [
      "Overwriting /home/elkomy/alx/printf/main.h\n"
     ]
    }
   ],
   "source": [
    "%%file /home/elkomy/alx/printf/main.h\n",
    "#ifndef MAIN_H\n",
    "#define MAIN_H\n",
    "\n",
    "#include <stdarg.h>\n",
    "#include <stdlib.h>\n",
    "#include <unistd.h>\n",
    "\n",
    "/**\n",
    " * struct flags - struct containing flags to \"turn on\"\n",
    " * when a flag specifier is passed to _printf()\n",
    " * @plus: flag for the '+' character\n",
    " * @space: flag for the ' ' character\n",
    " * @hash: flag for the '#' character\n",
    " */\n",
    "typedef struct flags\n",
    "{\n",
    "    int plus;\n",
    "    int space;\n",
    "    int hash;\n",
    "} flags_t;\n",
    "\n",
    "/**\n",
    " * struct convert - struct for symbols and functions\n",
    " * @sym: The operator\n",
    " * @f: The function associated\n",
    " */\n",
    "typedef struct convert\n",
    "{\n",
    "    char *sym;\n",
    "    int (*f)(va_list, char *, int *, flags_t);\n",
    "} conver_t;\n",
    "\n",
    "int _printf(const char *format, ...);\n",
    "int format_reciever(const char *format, conver_t f_list[], va_list arg_list, char *buffer, int *index);\n",
    "int _putchar(char c, char *buffer, int *index);\n",
    "char *convert(unsigned long int num, int base, int lowercase);\n",
    "flags_t parse_flags(const char *format, int *i);\n",
    "\n",
    "/* Function prototypes */\n",
    "int _printf(const char *format, ...);\n",
    "int print_char(va_list l, char *buf, int *i, flags_t);\n",
    "int print_string(va_list l, char *buf, int *i, flags_t);\n",
    "int print_percent(va_list l, char *buf, int *i, flags_t);\n",
    "int print_integer(va_list l, char *buf, int *i, flags_t);\n",
    "int print_unsigned(va_list l, char *buf, int *i, flags_t);\n",
    "int print_binary(va_list l, char *buf, int *i, flags_t);\n",
    "int print_octal(va_list l, char *buf, int *i, flags_t);\n",
    "int print_hex(va_list l, char *buf, int *i, flags_t);\n",
    "int print_HEX(va_list l, char *buf, int *i, flags_t);\n",
    "int print_pointer(va_list l, char *buf, int *i, flags_t);\n",
    "int print_reverse(va_list l, char *buf, int *i, flags_t);\n",
    "int print_rot13(va_list l, char *buf, int *i, flags_t);\n",
    "int print_non_printable(va_list l, char *buf, int *i, flags_t);\n",
    "int print_special_string(va_list, char *, int *, flags_t);\n",
    "\n",
    "#endif /* MAIN_H */\n"
   ]
  },
  {
   "cell_type": "code",
   "execution_count": 234,
   "metadata": {},
   "outputs": [
    {
     "name": "stdout",
     "output_type": "stream",
     "text": [
      "Overwriting /home/elkomy/alx/printf/parse_flags.c\n"
     ]
    }
   ],
   "source": [
    "%%file /home/elkomy/alx/printf/parse_flags.c\n",
    "#include \"main.h\"\n",
    "\n",
    "flags_t parse_flags(const char *format, int *i)\n",
    "{\n",
    "    flags_t flags = {0, 0, 0};\n",
    "\n",
    "    while (format[*i])\n",
    "    {\n",
    "        if (format[*i] == '+')\n",
    "            flags.plus = 1;\n",
    "        else if (format[*i] == ' ')\n",
    "            flags.space = 1;\n",
    "        else if (format[*i] == '#')\n",
    "            flags.hash = 1;\n",
    "        else\n",
    "            break;\n",
    "        (*i)++;\n",
    "    }\n",
    "\n",
    "    return flags;\n",
    "}\n"
   ]
  },
  {
   "cell_type": "code",
   "execution_count": 236,
   "metadata": {},
   "outputs": [
    {
     "name": "stdout",
     "output_type": "stream",
     "text": [
      "Overwriting /home/elkomy/alx/printf/print_pointer.c\n"
     ]
    }
   ],
   "source": [
    "%%file /home/elkomy/alx/printf/print_pointer.c\n",
    "#include \"main.h\"\n",
    "#include <stdio.h>\n",
    "\n",
    "/**\n",
    " * print_pointer - Prints a pointer address\n",
    " * @list: List of arguments\n",
    " * @buffer: Buffer to store characters\n",
    " * @index: Current index in the buffer\n",
    " * @flags: Flags for formatting\n",
    " * Return: Number of characters printed\n",
    " */\n",
    "int print_pointer(va_list list, char *buffer, int *index, flags_t flags)\n",
    "{\n",
    "    void *ptr = va_arg(list, void *);\n",
    "    unsigned long int addr = (unsigned long int)ptr;\n",
    "    char hex[17];\n",
    "    int i, digit;\n",
    "\n",
    "    (void)flags; /* Suppress unused parameter warning */\n",
    "\n",
    "    _putchar('0', buffer, index);\n",
    "    _putchar('x', buffer, index);\n",
    "\n",
    "    i = 15;\n",
    "    while (addr)\n",
    "    {\n",
    "        digit = addr % 16;\n",
    "        hex[i--] = (digit < 10) ? digit + '0' : digit - 10 + 'a';\n",
    "        addr /= 16;\n",
    "    }\n",
    "    i++;\n",
    "    while (i < 16)\n",
    "    {\n",
    "        _putchar(hex[i++], buffer, index);\n",
    "    }\n",
    "\n",
    "    return (2 + 15 - i);\n",
    "}\n"
   ]
  },
  {
   "cell_type": "code",
   "execution_count": 237,
   "metadata": {},
   "outputs": [
    {
     "name": "stdout",
     "output_type": "stream",
     "text": [
      "Overwriting /home/elkomy/alx/printf/print_char.c\n"
     ]
    }
   ],
   "source": [
    "%%file /home/elkomy/alx/printf/print_char.c\n",
    "#include \"main.h\"\n",
    "#include <stdio.h>\n",
    "\n",
    "/**\n",
    " * print_char - Prints a character\n",
    " * @list: List of arguments\n",
    " * @buffer: Buffer to store characters\n",
    " * @index: Current index in the buffer\n",
    " * @flags: Flags for formatting\n",
    " * Return: Number of characters printed\n",
    " */\n",
    "int print_char(va_list list, char *buffer, int *index, flags_t flags)\n",
    "{\n",
    "    char c = va_arg(list, int);\n",
    "\n",
    "    (void)flags; /* Flags are not used for characters */\n",
    "    \n",
    "    buffer[*index] = c;\n",
    "    (*index)++;\n",
    "\n",
    "    return (1);\n",
    "}\n"
   ]
  },
  {
   "cell_type": "code",
   "execution_count": 238,
   "metadata": {},
   "outputs": [
    {
     "name": "stdout",
     "output_type": "stream",
     "text": [
      "Overwriting /home/elkomy/alx/printf/convert.c\n"
     ]
    }
   ],
   "source": [
    "%%file /home/elkomy/alx/printf/convert.c\n",
    "#include \"main.h\"\n",
    "#include <stdlib.h>\n",
    "\n",
    "/**\n",
    " * convert - Converts a number to a string in the given base\n",
    " * @num: The number to be converted\n",
    " * @base: The base to convert to\n",
    " * @lowercase: Flag to determine if hex letters should be lowercase\n",
    " * Return: A pointer to the converted string (static buffer)\n",
    " */\n",
    "\n",
    "\n",
    "char *convert(unsigned long int num, int base, int lowercase)\n",
    "{\n",
    "    static char *rep;\n",
    "    static char buffer[50];\n",
    "    char *ptr;\n",
    "\n",
    "    rep = (lowercase) ? \"0123456789abcdef\" : \"0123456789ABCDEF\";\n",
    "    ptr = &buffer[49];\n",
    "    *ptr = '\\0';\n",
    "\n",
    "    do\n",
    "    {\n",
    "        *--ptr = rep[num % base];\n",
    "        num /= base;\n",
    "    } while (num != 0);\n",
    "\n",
    "    return (ptr);\n",
    "}\n"
   ]
  },
  {
   "cell_type": "code",
   "execution_count": 239,
   "metadata": {},
   "outputs": [
    {
     "name": "stdout",
     "output_type": "stream",
     "text": [
      "Overwriting /home/elkomy/alx/printf/print_string.c\n"
     ]
    }
   ],
   "source": [
    "%%file /home/elkomy/alx/printf/print_string.c\n",
    "#include \"main.h\"\n",
    "#include <stdio.h>\n",
    "\n",
    "/**\n",
    " * print_string - Prints a string\n",
    " * @list: List of arguments\n",
    " * @buffer: Buffer to store characters\n",
    " * @index: Current index in the buffer\n",
    " * @flags: Flags for formatting\n",
    " * Return: Number of characters printed\n",
    " */\n",
    "int print_string(va_list list, char *buffer, int *index, flags_t flags)\n",
    "{\n",
    "    char *str = va_arg(list, char *);\n",
    "    int num_chars = 0;\n",
    "\n",
    "    (void)flags; /* Flags are not used for strings */\n",
    "\n",
    "    if (str == NULL)\n",
    "        str = \"(null)\";\n",
    "\n",
    "    while (*str)\n",
    "    {\n",
    "        buffer[*index] = *str;\n",
    "        (*index)++;\n",
    "        str++;\n",
    "        num_chars++;\n",
    "    }\n",
    "\n",
    "    return (num_chars);\n",
    "}\n"
   ]
  },
  {
   "cell_type": "code",
   "execution_count": 240,
   "metadata": {},
   "outputs": [
    {
     "name": "stdout",
     "output_type": "stream",
     "text": [
      "Overwriting /home/elkomy/alx/printf/print_percent.c\n"
     ]
    }
   ],
   "source": [
    "%%file /home/elkomy/alx/printf/print_percent.c\n",
    "#include \"main.h\"\n",
    "#include <stdio.h>\n",
    "\n",
    "/**\n",
    " * print_percent - Prints a percent symbol\n",
    " * @list: List of arguments\n",
    " * @buffer: Buffer to store characters\n",
    " * @index: Current index in the buffer\n",
    " * @flags: Flags for formatting\n",
    " * Return: Number of characters printed\n",
    " */\n",
    "int print_percent(va_list list, char *buffer, int *index, flags_t flags)\n",
    "{\n",
    "    (void)list;\n",
    "    (void)flags; /* Flags are not used for percent */\n",
    "\n",
    "    buffer[*index] = '%';\n",
    "    (*index)++;\n",
    "\n",
    "    return (1);\n",
    "}\n"
   ]
  },
  {
   "cell_type": "code",
   "execution_count": 5,
   "metadata": {},
   "outputs": [
    {
     "name": "stdout",
     "output_type": "stream",
     "text": [
      "Overwriting /home/elkomy/alx/printf/print_integer.c\n"
     ]
    }
   ],
   "source": [
    "%%file /home/elkomy/alx/printf/print_integer.c\n",
    "\n",
    "#include \"main.h\"\n",
    "#include <stdlib.h>  /* Include stdlib.h for malloc */\n",
    "\n",
    "/* Helper function to implement itoa since it's not standard in C */\n",
    "void itoa(int num, char *str, int base) {\n",
    "    int i = 0;\n",
    "    int is_negative = 0;\n",
    "    int start, end;\n",
    "\n",
    "    /* Handle 0 explicitly, otherwise empty string is printed for 0 */\n",
    "    if (num == 0) {\n",
    "        str[i++] = '0';\n",
    "        str[i] = '\\0';\n",
    "        return;\n",
    "    }\n",
    "\n",
    "    /* Handle negative numbers for base 10 */\n",
    "    if (num < 0 && base == 10) {\n",
    "        is_negative = 1;\n",
    "        num = -num;\n",
    "    }\n",
    "\n",
    "    /* Process individual digits */\n",
    "    while (num != 0) {\n",
    "        int rem = num % base;\n",
    "        str[i++] = (rem > 9) ? (rem - 10) + 'a' : rem + '0';\n",
    "        num = num / base;\n",
    "    }\n",
    "\n",
    "    /* Append '-' for negative numbers */\n",
    "    if (is_negative) {\n",
    "        str[i++] = '-';\n",
    "    }\n",
    "\n",
    "    str[i] = '\\0';\n",
    "\n",
    "    /* Reverse the string */\n",
    "    start = 0;\n",
    "    end = i - 1;\n",
    "    while (start < end) {\n",
    "        char temp = str[start];\n",
    "        str[start] = str[end];\n",
    "        str[end] = temp;\n",
    "        start++;\n",
    "        end--;\n",
    "    }\n",
    "}\n",
    "\n",
    "/**\n",
    " * print_integer - Prints an integer\n",
    " * @list: List of arguments\n",
    " * @buffer: Buffer to store characters\n",
    " * @index: Current index in the buffer\n",
    " * @flags: Flags for formatting\n",
    " * Return: Number of characters printed\n",
    " */\n",
    "int print_integer(va_list list, char *buffer, int *index, flags_t flags)\n",
    "{\n",
    "    int num = va_arg(list, int);\n",
    "    char str[12];\n",
    "    int i = 0, num_chars = 0;\n",
    "\n",
    "    itoa(num, str, 10);\n",
    "\n",
    "    /* Handle the space and plus flags */\n",
    "    if (flags.plus && num >= 0)\n",
    "    {\n",
    "        _putchar('+', buffer, index);\n",
    "        num_chars++;\n",
    "    }\n",
    "    else if (flags.space && num >= 0)\n",
    "    {\n",
    "        _putchar(' ', buffer, index);\n",
    "        num_chars++;\n",
    "    }\n",
    "\n",
    "    while (str[i])\n",
    "    {\n",
    "        _putchar(str[i], buffer, index);\n",
    "        i++;\n",
    "        num_chars++;\n",
    "    }\n",
    "\n",
    "    return (num_chars);\n",
    "}\n"
   ]
  },
  {
   "cell_type": "code",
   "execution_count": 6,
   "metadata": {},
   "outputs": [
    {
     "name": "stdout",
     "output_type": "stream",
     "text": [
      "Overwriting /home/elkomy/alx/printf/print_binary.c\n"
     ]
    }
   ],
   "source": [
    "%%file /home/elkomy/alx/printf/print_binary.c\n",
    "#include \"main.h\"\n",
    "#include <stdio.h>\n",
    "\n",
    "/**\n",
    " * print_binary - Prints a number in binary\n",
    " * @list: List of arguments\n",
    " * @buffer: Buffer to store characters\n",
    " * @index: Current index in the buffer\n",
    " * @flags: Flags for formatting\n",
    " * Return: Number of characters printed\n",
    " */\n",
    "int print_binary(va_list list, char *buffer, int *index, flags_t flags)\n",
    "{\n",
    "    unsigned int num = va_arg(list, unsigned int);\n",
    "    int num_chars = 0;\n",
    "    char *str = convert(num, 2, 0);\n",
    "\n",
    "    (void)flags; /* Flags are not used for binary */\n",
    "\n",
    "    while (*str)\n",
    "    {\n",
    "        buffer[*index] = *str;\n",
    "        (*index)++;\n",
    "        str++;\n",
    "        num_chars++;\n",
    "    }\n",
    "\n",
    "    return (num_chars);\n",
    "}\n"
   ]
  },
  {
   "cell_type": "code",
   "execution_count": null,
   "metadata": {},
   "outputs": [],
   "source": []
  },
  {
   "cell_type": "code",
   "execution_count": 7,
   "metadata": {},
   "outputs": [
    {
     "name": "stdout",
     "output_type": "stream",
     "text": [
      "Overwriting /home/elkomy/alx/printf/print_unsigned.c\n"
     ]
    }
   ],
   "source": [
    "%%file /home/elkomy/alx/printf/print_unsigned.c\n",
    "#include \"main.h\"\n",
    "#include <stdio.h>\n",
    "\n",
    "/**\n",
    " * print_unsigned - Prints an unsigned integer\n",
    " * @list: List of arguments\n",
    " * @buffer: Buffer to store characters\n",
    " * @index: Current index in the buffer\n",
    " * @flags: Flags for formatting\n",
    " * Return: Number of characters printed\n",
    " */\n",
    "int print_unsigned(va_list list, char *buffer, int *index, flags_t flags)\n",
    "{\n",
    "    unsigned int n = va_arg(list, unsigned int);\n",
    "    int num_chars = 0;\n",
    "    char temp[50];\n",
    "    int temp_index = 0;\n",
    "\n",
    "    (void)flags; /* Flags are not used for unsigned integers */\n",
    "\n",
    "    do {\n",
    "        temp[temp_index++] = (n % 10) + '0';\n",
    "        n /= 10;\n",
    "    } while (n > 0);\n",
    "\n",
    "    for (temp_index--; temp_index >= 0; temp_index--)\n",
    "    {\n",
    "        buffer[*index] = temp[temp_index];\n",
    "        (*index)++;\n",
    "        num_chars++;\n",
    "    }\n",
    "\n",
    "    return (num_chars);\n",
    "}\n"
   ]
  },
  {
   "cell_type": "code",
   "execution_count": 8,
   "metadata": {},
   "outputs": [
    {
     "name": "stdout",
     "output_type": "stream",
     "text": [
      "Overwriting /home/elkomy/alx/printf/print_octal.c\n"
     ]
    }
   ],
   "source": [
    "%%file /home/elkomy/alx/printf/print_octal.c\n",
    "#include \"main.h\"\n",
    "#include <stdio.h>\n",
    "\n",
    "/**\n",
    " * print_octal - Prints a number in octal\n",
    " * @list: List of arguments\n",
    " * @buffer: Buffer to store characters\n",
    " * @index: Current index in the buffer\n",
    " * @flags: Flags for formatting\n",
    " * Return: Number of characters printed\n",
    " */\n",
    "int print_octal(va_list list, char *buffer, int *index, flags_t flags)\n",
    "{\n",
    "    unsigned int num = va_arg(list, unsigned int);\n",
    "    int num_chars = 0;\n",
    "    char *str;\n",
    "\n",
    "    if (flags.hash && num != 0)\n",
    "    {\n",
    "        buffer[*index] = '0';\n",
    "        (*index)++;\n",
    "        num_chars++;\n",
    "    }\n",
    "\n",
    "    str = convert(num, 8, 0);\n",
    "    while (*str)\n",
    "    {\n",
    "        buffer[*index] = *str;\n",
    "        (*index)++;\n",
    "        str++;\n",
    "        num_chars++;\n",
    "    }\n",
    "\n",
    "    return (num_chars);\n",
    "}\n"
   ]
  },
  {
   "cell_type": "code",
   "execution_count": 9,
   "metadata": {},
   "outputs": [
    {
     "name": "stdout",
     "output_type": "stream",
     "text": [
      "Overwriting /home/elkomy/alx/printf/print_hex.c\n"
     ]
    }
   ],
   "source": [
    "%%file /home/elkomy/alx/printf/print_hex.c\n",
    "#include \"main.h\"\n",
    "#include <stdio.h>\n",
    "\n",
    "/**\n",
    " * print_hex - Prints a number in hexadecimal (lowercase)\n",
    " * @list: List of arguments\n",
    " * @buffer: Buffer to store characters\n",
    " * @index: Current index in the buffer\n",
    " * @flags: Flags for formatting\n",
    " * Return: Number of characters printed\n",
    " */\n",
    "int print_hex(va_list list, char *buffer, int *index, flags_t flags)\n",
    "{\n",
    "    unsigned int num = va_arg(list, unsigned int);\n",
    "    int num_chars = 0;\n",
    "    char *str;\n",
    "\n",
    "    if (flags.hash && num != 0)\n",
    "    {\n",
    "        buffer[*index] = '0';\n",
    "        buffer[*index + 1] = 'x';\n",
    "        *index += 2;\n",
    "        num_chars += 2;\n",
    "    }\n",
    "\n",
    "    str = convert(num, 16, 1);\n",
    "    while (*str)\n",
    "    {\n",
    "        buffer[*index] = *str;\n",
    "        (*index)++;\n",
    "        str++;\n",
    "        num_chars++;\n",
    "    }\n",
    "\n",
    "    return (num_chars);\n",
    "}\n"
   ]
  },
  {
   "cell_type": "code",
   "execution_count": 10,
   "metadata": {},
   "outputs": [
    {
     "name": "stdout",
     "output_type": "stream",
     "text": [
      "Overwriting /home/elkomy/alx/printf/print_HEX.c\n"
     ]
    }
   ],
   "source": [
    "%%file /home/elkomy/alx/printf/print_HEX.c\n",
    "\n",
    "#include \"main.h\"\n",
    "#include <stdio.h>\n",
    "\n",
    "/**\n",
    " * print_HEX - Prints a number in hexadecimal (uppercase)\n",
    " * @list: List of arguments\n",
    " * @buffer: Buffer to store characters\n",
    " * @index: Current index in the buffer\n",
    " * @flags: Flags for formatting\n",
    " * Return: Number of characters printed\n",
    " */\n",
    "int print_HEX(va_list list, char *buffer, int *index, flags_t flags)\n",
    "{\n",
    "    unsigned int num = va_arg(list, unsigned int);\n",
    "    int num_chars = 0;\n",
    "    char *str;\n",
    "\n",
    "    if (flags.hash && num != 0)\n",
    "    {\n",
    "        buffer[*index] = '0';\n",
    "        buffer[*index + 1] = 'X';\n",
    "        *index += 2;\n",
    "        num_chars += 2;\n",
    "    }\n",
    "\n",
    "    str = convert(num, 16, 0);\n",
    "    while (*str)\n",
    "    {\n",
    "        buffer[*index] = *str;\n",
    "        (*index)++;\n",
    "        str++;\n",
    "        num_chars++;\n",
    "    }\n",
    "\n",
    "    return (num_chars);\n",
    "}\n"
   ]
  },
  {
   "cell_type": "code",
   "execution_count": 247,
   "metadata": {},
   "outputs": [
    {
     "name": "stdout",
     "output_type": "stream",
     "text": [
      "Overwriting /home/elkomy/alx/printf/print_reverse.c\n"
     ]
    }
   ],
   "source": [
    "%%file /home/elkomy/alx/printf/print_reverse.c\n",
    "#include \"main.h\"\n",
    "#include <stdio.h>\n",
    "\n",
    "/**\n",
    " * print_reverse - Prints a string in reverse\n",
    " * @list: List of arguments\n",
    " * @buffer: Buffer to store characters\n",
    " * @index: Current index in the buffer\n",
    " * @flags: Flags for formatting\n",
    " * Return: Number of characters printed\n",
    " */\n",
    "\n",
    "int print_reverse(va_list list, char *buffer, int *index, flags_t flags)\n",
    "{\n",
    "    char *str = va_arg(list, char *);\n",
    "    int len = 0, i;\n",
    "\n",
    "    (void)flags; /* Suppress unused parameter warning */\n",
    "\n",
    "    while (str[len])\n",
    "        len++;\n",
    "\n",
    "    for (i = len - 1; i >= 0; i--)\n",
    "        _putchar(str[i], buffer, index);\n",
    "\n",
    "    return (len);\n",
    "}\n",
    "\n"
   ]
  },
  {
   "cell_type": "code",
   "execution_count": 248,
   "metadata": {},
   "outputs": [
    {
     "name": "stdout",
     "output_type": "stream",
     "text": [
      "Overwriting /home/elkomy/alx/printf/print_rot13.c\n"
     ]
    }
   ],
   "source": [
    "%%file /home/elkomy/alx/printf/print_rot13.c\n",
    "#include \"main.h\"\n",
    "#include <stdio.h>\n",
    "\n",
    "\n",
    "/**\n",
    " * print_rot13 - Prints a string in rot13 encoding\n",
    " * @list: List of arguments\n",
    " * @buffer: Buffer to store characters\n",
    " * @index: Current index in the buffer\n",
    " * @flags: Flags for formatting\n",
    " * Return: Number of characters printed\n",
    " */\n",
    "int print_rot13(va_list list, char *buffer, int *index, flags_t flags)\n",
    "{\n",
    "    char *str = va_arg(list, char *);\n",
    "    int i, j;\n",
    "\n",
    "    char in[] = \"ABCDEFGHIJKLMNOPQRSTUVWXYZabcdefghijklmnopqrstuvwxyz\";\n",
    "    char out[] = \"NOPQRSTUVWXYZABCDEFGHIJKLMnopqrstuvwxyzabcdefghijklm\";\n",
    "\n",
    "    (void)flags; /* Suppress unused parameter warning */\n",
    "\n",
    "    for (i = 0; str[i]; i++)\n",
    "    {\n",
    "        for (j = 0; in[j]; j++)\n",
    "        {\n",
    "            if (str[i] == in[j])\n",
    "            {\n",
    "                _putchar(out[j], buffer, index);\n",
    "                break;\n",
    "            }\n",
    "        }\n",
    "        if (!in[j])\n",
    "            _putchar(str[i], buffer, index);\n",
    "    }\n",
    "\n",
    "    return (i);\n",
    "}\n"
   ]
  },
  {
   "cell_type": "code",
   "execution_count": 249,
   "metadata": {},
   "outputs": [
    {
     "name": "stdout",
     "output_type": "stream",
     "text": [
      "Overwriting /home/elkomy/alx/printf/print_non_printable.c\n"
     ]
    }
   ],
   "source": [
    "%%file /home/elkomy/alx/printf/print_non_printable.c\n",
    "#include \"main.h\"\n",
    "#include <stdio.h>\n",
    "\n",
    "/**\n",
    " * print_non_printable - Prints non-printable characters in hexadecimal format\n",
    " * @list: List of arguments\n",
    " * @buffer: Buffer to store characters\n",
    " * @index: Current index in the buffer\n",
    " * @flags: Flags for formatting\n",
    " * Return: Number of characters printed\n",
    " */\n",
    "int print_non_printable(va_list list, char *buffer, int *index, flags_t flags)\n",
    "{\n",
    "    char *str = va_arg(list, char *);\n",
    "    int i = 0, count = 0;\n",
    "\n",
    "    (void)flags; /* Suppress unused parameter warning */\n",
    "\n",
    "    while (str[i])\n",
    "    {\n",
    "        if ((str[i] > 0 && str[i] < 32) || str[i] >= 127)\n",
    "        {\n",
    "            count += sprintf(&buffer[*index], \"\\\\x%02X\", str[i]);\n",
    "            *index += 4;\n",
    "        }\n",
    "        else\n",
    "        {\n",
    "            _putchar(str[i], buffer, index);\n",
    "            count++;\n",
    "        }\n",
    "        i++;\n",
    "    }\n",
    "\n",
    "    return (count);\n",
    "}\n"
   ]
  },
  {
   "cell_type": "code",
   "execution_count": 4,
   "metadata": {},
   "outputs": [
    {
     "name": "stdout",
     "output_type": "stream",
     "text": [
      "Overwriting /home/elkomy/alx/printf/print_special_string.c\n"
     ]
    }
   ],
   "source": [
    "%%file /home/elkomy/alx/printf/print_special_string.c\n",
    "#include \"main.h\"\n",
    "#include <stdio.h>\n",
    "\n",
    "/**\n",
    " * print_special_string - Prints a special string with non-printable characters\n",
    " * @list: List of arguments\n",
    " * @buffer: Buffer to store characters\n",
    " * @index: Current index in the buffer\n",
    " * @flags: Flags for formatting\n",
    " * Return: Number of characters printed\n",
    " */\n",
    "int print_special_string(va_list list, char *buffer, int *index, flags_t flags)\n",
    "{\n",
    "    char *str = va_arg(list, char *);\n",
    "    int i = 0, count = 0;\n",
    "\n",
    "    (void)flags; /* Suppress unused parameter warning */\n",
    "\n",
    "    if (str == NULL)\n",
    "        str = \"(null)\";\n",
    "\n",
    "    while (str[i])\n",
    "    {\n",
    "        if ((str[i] > 0 && str[i] < 32) || str[i] >= 127)\n",
    "        {\n",
    "            count += sprintf(&buffer[*index], \"\\\\x%02X\", (unsigned char)str[i]);\n",
    "            *index += 4;\n",
    "        }\n",
    "        else\n",
    "        {\n",
    "            _putchar(str[i], buffer, index);\n",
    "            count++;\n",
    "        }\n",
    "        i++;\n",
    "    }\n",
    "\n",
    "    return (count);\n",
    "}\n",
    "\n"
   ]
  },
  {
   "cell_type": "code",
   "execution_count": 251,
   "metadata": {},
   "outputs": [
    {
     "name": "stdout",
     "output_type": "stream",
     "text": [
      "Overwriting /home/elkomy/alx/printf/tests/main.c\n"
     ]
    }
   ],
   "source": [
    "%%file /home/elkomy/alx/printf/tests/main.c\n",
    "#include \"../main.h\"\n",
    "#include <stdio.h>\n",
    "\n",
    "/**\n",
    " * main - Entry point\n",
    " *\n",
    " * Return: Always 0\n",
    " */\n",
    "int main(void)\n",
    "{\n",
    "    _printf(\"Space flag: % d\\n\", 42);\n",
    "    _printf(\"Plus flag: %+d\\n\", 42);\n",
    "    _printf(\"Hash flag: %#x\\n\", 255);\n",
    "    _printf(\"%S\\n\", \"Best\\nSchool\");\n",
    "    return (0);\n",
    "}\n"
   ]
  },
  {
   "cell_type": "code",
   "execution_count": 1,
   "metadata": {},
   "outputs": [
    {
     "name": "stdout",
     "output_type": "stream",
     "text": [
      "\n",
      "========== /home/elkomy/alx/printf/_printf.c ==========\n",
      "_printf\n",
      "Space flag:  42\n",
      "Plus flag: +42\n",
      "Hash flag: 0xff\n",
      "Best\\x0ASchool\n"
     ]
    }
   ],
   "source": [
    "\n",
    "!betty /home/elkomy/alx/printf/_printf.c\n",
    "!gcc -Wall -Werror -Wextra -pedantic -std=gnu89 -Wno-format /home/elkomy/alx/printf/*.c /home/elkomy/alx/printf/tests/main.c -o /home/elkomy/alx/printf/printf\n",
    "!./printf\n"
   ]
  },
  {
   "cell_type": "code",
   "execution_count": 2,
   "metadata": {},
   "outputs": [
    {
     "name": "stdout",
     "output_type": "stream",
     "text": [
      "[main 43f1fe1] alx-low_level_programming/0x0D-preprocessor/0-putchar\n",
      " 9 files changed, 1069 insertions(+), 422 deletions(-)\n",
      " rewrite format_reciever.c (62%)\n",
      " rewrite main.h (68%)\n"
     ]
    },
    {
     "name": "stderr",
     "output_type": "stream",
     "text": [
      "To https://github.com/elkomysara/printf\n",
      "   71e2fc1..43f1fe1  main -> main\n"
     ]
    }
   ],
   "source": [
    "%%bash\n",
    "git add .\n",
    "git commit -m \"alx-low_level_programming/0x0D-preprocessor/0-putchar\"\n",
    "git push"
   ]
  },
  {
   "cell_type": "code",
   "execution_count": null,
   "metadata": {},
   "outputs": [],
   "source": []
  },
  {
   "cell_type": "markdown",
   "metadata": {},
   "source": [
    "###\n",
    "---\n",
    "<center>\n",
    "<h4>8. Sarcasm is lost in print</h4>\n",
    "</center>\n",
    "\n",
    "---"
   ]
  },
  {
   "cell_type": "markdown",
   "metadata": {},
   "source": [
    "\n",
    "#### Handle the following length modifiers for non-custom conversion specifiers:\n",
    "\n",
    "* `l`\n",
    "* `h`\n",
    "Conversion specifiers to handle: `d`, `i`, `u`, `o`, `x`, `X`\n",
    "\n",
    "#### Repo:\n",
    "* GitHub repository: ``` printf```"
   ]
  },
  {
   "cell_type": "code",
   "execution_count": 3,
   "metadata": {},
   "outputs": [
    {
     "name": "stdout",
     "output_type": "stream",
     "text": [
      "Overwriting /home/elkomy/alx/printf/format_reciever.c\n"
     ]
    }
   ],
   "source": [
    "%%file /home/elkomy/alx/printf/format_reciever.c\n",
    "#include \"main.h\"\n",
    "#include <stdio.h>\n",
    "\n",
    "/**\n",
    " * format_reciever - Receives the main string and necessary parameters to\n",
    " * print a formatted string\n",
    " * @format: A string containing all the desired characters\n",
    " * @f_list: List of format specifiers and their corresponding functions\n",
    " * @arg_list: List of arguments\n",
    " * @buffer: Buffer to store characters\n",
    " * @index: Current index in the buffer\n",
    " * Return: Number of characters printed\n",
    " */\n",
    "int format_reciever(const char *format, conver_t f_list[], va_list arg_list, char *buffer, int *index)\n",
    "{\n",
    "    int i = 0, j, printed_chars = 0;\n",
    "    flags_t flags;\n",
    "    length_mod_t length_mod;\n",
    "\n",
    "    while (format[i])\n",
    "    {\n",
    "        if (format[i] == '%')\n",
    "        {\n",
    "            i++;\n",
    "            flags = parse_flags(format, &i);\n",
    "             length_mod = parse_length_mod(format, &i);\n",
    "\n",
    "            for (j = 0; f_list[j].sym != NULL; j++)\n",
    "            {\n",
    "                if (format[i] == f_list[j].sym[0])\n",
    "                {\n",
    "                    printed_chars += f_list[j].f(arg_list, buffer, index, flags, length_mod);\n",
    "                    break;\n",
    "                }\n",
    "            }\n",
    "            if (f_list[j].sym == NULL)\n",
    "            {\n",
    "                _putchar('%', buffer, index);\n",
    "                _putchar(format[i], buffer, index);\n",
    "                printed_chars += 2;\n",
    "            }\n",
    "            i++;\n",
    "        }\n",
    "        else\n",
    "        {\n",
    "            _putchar(format[i], buffer, index);\n",
    "            printed_chars++;\n",
    "            i++;\n",
    "        }\n",
    "    }\n",
    "    return (printed_chars);\n",
    "}"
   ]
  },
  {
   "cell_type": "code",
   "execution_count": 12,
   "metadata": {},
   "outputs": [
    {
     "name": "stdout",
     "output_type": "stream",
     "text": [
      "Overwriting /home/elkomy/alx/printf/main.h\n"
     ]
    }
   ],
   "source": [
    "%%file /home/elkomy/alx/printf/main.h\n",
    "#ifndef MAIN_H\n",
    "#define MAIN_H\n",
    "\n",
    "#include <stdarg.h>\n",
    "#include <stdlib.h>\n",
    "#include <unistd.h>\n",
    "\n",
    "/**\n",
    " * struct flags - struct containing flags to \"turn on\"\n",
    " * when a flag specifier is passed to _printf()\n",
    " * @plus: flag for the '+' character\n",
    " * @space: flag for the ' ' character\n",
    " * @hash: flag for the '#' character\n",
    " */\n",
    "typedef struct flags\n",
    "{\n",
    "    int plus;\n",
    "    int space;\n",
    "    int hash;\n",
    "} flags_t;\n",
    "\n",
    "/**\n",
    " * struct length_mod - struct containing length modifiers\n",
    " * when a length specifier is passed to _printf()\n",
    " * @l: flag for the 'l' character\n",
    " * @h: flag for the 'h' character\n",
    " */\n",
    "typedef struct length_mod\n",
    "{\n",
    "    int l;\n",
    "    int h;\n",
    "} length_mod_t;\n",
    "\n",
    "/**\n",
    " * struct convert - struct for symbols and functions\n",
    " * @sym: The operator\n",
    " * @f: The function associated\n",
    " */\n",
    "typedef struct convert\n",
    "{\n",
    "    char *sym;\n",
    "    int (*f)(va_list, char *, int *, flags_t, length_mod_t);\n",
    "} conver_t;\n",
    "\n",
    "int _printf(const char *format, ...);\n",
    "int format_reciever(const char *format, conver_t f_list[], va_list arg_list, char *buffer, int *index);\n",
    "int _putchar(char c, char *buffer, int *index);\n",
    "char *convert(unsigned long int num, int base, int lowercase);\n",
    "flags_t parse_flags(const char *format, int *i);\n",
    "length_mod_t parse_length_mod(const char *format, int *i);\n",
    "\n",
    "/* Function prototypes */\n",
    "int _printf(const char *format, ...);\n",
    "int print_char(va_list l, char *buf, int *i, flags_t, length_mod_t);\n",
    "int print_string(va_list l, char *buf, int *i, flags_t, length_mod_t);\n",
    "int print_percent(va_list l, char *buf, int *i, flags_t, length_mod_t);\n",
    "int print_integer(va_list l, char *buf, int *i, flags_t, length_mod_t);\n",
    "int print_unsigned(va_list l, char *buf, int *i, flags_t, length_mod_t);\n",
    "int print_binary(va_list l, char *buf, int *i, flags_t, length_mod_t);\n",
    "int print_octal(va_list l, char *buf, int *i, flags_t, length_mod_t);\n",
    "int print_hex(va_list l, char *buf, int *i, flags_t, length_mod_t);\n",
    "int print_HEX(va_list l, char *buf, int *i, flags_t, length_mod_t);\n",
    "int print_pointer(va_list l, char *buf, int *i, flags_t, length_mod_t);\n",
    "int print_reverse(va_list l, char *buf, int *i, flags_t, length_mod_t);\n",
    "int print_rot13(va_list l, char *buf, int *i, flags_t, length_mod_t);\n",
    "int print_non_printable(va_list l, char *buf, int *i, flags_t, length_mod_t);\n",
    "int print_special_string(va_list, char *, int *, flags_t, length_mod_t);\n",
    "\n",
    "#endif /* MAIN_H */\n"
   ]
  },
  {
   "cell_type": "code",
   "execution_count": null,
   "metadata": {},
   "outputs": [
    {
     "name": "stdout",
     "output_type": "stream",
     "text": [
      "Overwriting /home/elkomy/alx/printf/parse_flags.c\n"
     ]
    }
   ],
   "source": [
    "%%file /home/elkomy/alx/printf/parse_flags.c\n",
    "#include \"main.h\"\n",
    "\n",
    "flags_t parse_flags(const char *format, int *i)\n",
    "{\n",
    "    flags_t flags = {0, 0, 0};\n",
    "\n",
    "    while (format[*i])\n",
    "    {\n",
    "        if (format[*i] == '+')\n",
    "            flags.plus = 1;\n",
    "        else if (format[*i] == ' ')\n",
    "            flags.space = 1;\n",
    "        else if (format[*i] == '#')\n",
    "            flags.hash = 1;\n",
    "        else\n",
    "            break;\n",
    "        (*i)++;\n",
    "    }\n",
    "\n",
    "    return flags;\n",
    "}\n"
   ]
  },
  {
   "cell_type": "code",
   "execution_count": 5,
   "metadata": {},
   "outputs": [
    {
     "name": "stdout",
     "output_type": "stream",
     "text": [
      "Writing /home/elkomy/alx/printf/parse_length_mod.c\n"
     ]
    }
   ],
   "source": [
    "%%file /home/elkomy/alx/printf/parse_length_mod.c\n",
    "#include \"main.h\"\n",
    "\n",
    "length_mod_t parse_length_mod(const char *format, int *i)\n",
    "{\n",
    "    length_mod_t length_mod = {0, 0};\n",
    "\n",
    "    if (format[*i] == 'l')\n",
    "    {\n",
    "        length_mod.l = 1;\n",
    "        (*i)++;\n",
    "    }\n",
    "    else if (format[*i] == 'h')\n",
    "    {\n",
    "        length_mod.h = 1;\n",
    "        (*i)++;\n",
    "    }\n",
    "\n",
    "    return length_mod;\n",
    "}\n",
    "\n"
   ]
  },
  {
   "cell_type": "code",
   "execution_count": null,
   "metadata": {},
   "outputs": [
    {
     "name": "stdout",
     "output_type": "stream",
     "text": [
      "Overwriting /home/elkomy/alx/printf/_printf.c\n"
     ]
    }
   ],
   "source": [
    "%%file /home/elkomy/alx/printf/_printf.c\n",
    "#include \"main.h\"\n",
    "#include <unistd.h>\n",
    "\n",
    "/**\n",
    "* _printf - Receives the main string and all the necessary parameters to\n",
    "* print a formatted string\n",
    "* @format: A string containing all the desired characters\n",
    "* Return: A total count of the characters printed\n",
    "*/\n",
    "int _printf(const char *format, ...)\n",
    "{\n",
    "va_list arg_list;\n",
    "int printed_chars = 0;\n",
    "char buffer[1024];\n",
    "int index = 0;\n",
    "\n",
    "conver_t f_list[] = {\n",
    "{\"%\", print_percent},\n",
    "{\"c\", print_char},\n",
    "{\"s\", print_string},\n",
    "{\"d\", print_integer},\n",
    "{\"i\", print_integer},\n",
    "{\"b\", print_binary},\n",
    "{\"u\", print_unsigned},\n",
    "{\"o\", print_octal},\n",
    "{\"x\", print_hex},\n",
    "{\"X\", print_HEX},\n",
    "{\"S\", print_special_string},\n",
    "{\"p\", print_pointer},\n",
    "{NULL, NULL}\n",
    "};\n",
    "\n",
    "va_start(arg_list, format);\n",
    "printed_chars = format_reciever(format, f_list, arg_list, buffer, &index);\n",
    "va_end(arg_list);\n",
    "\n",
    "buffer[index] = '\\0';\n",
    "write(1, buffer, index);\n",
    "\n",
    "return (printed_chars);\n",
    "}\n"
   ]
  },
  {
   "cell_type": "code",
   "execution_count": 63,
   "metadata": {},
   "outputs": [
    {
     "name": "stdout",
     "output_type": "stream",
     "text": [
      "Overwriting /home/elkomy/alx/printf/format_reciever.c\n"
     ]
    }
   ],
   "source": [
    "%%file /home/elkomy/alx/printf/format_reciever.c\n",
    "#include \"main.h\"\n",
    "#include <stdio.h>\n",
    "\n",
    "/**\n",
    " * format_reciever - Receives the main string and necessary parameters to\n",
    " * print a formatted string\n",
    " * @format: A string containing all the desired characters\n",
    " * @f_list: List of format specifiers and their corresponding functions\n",
    " * @arg_list: List of arguments\n",
    " * @buffer: Buffer to store characters\n",
    " * @index: Current index in the buffer\n",
    " * Return: Number of characters printed\n",
    " */\n",
    "int format_reciever(const char *format, conver_t f_list[], va_list arg_list, char *buffer, int *index)\n",
    "{\n",
    "    int i = 0, j, printed_chars = 0;\n",
    "    flags_t flags;\n",
    "    length_mod_t length_mod;\n",
    "\n",
    "    while (format[i])\n",
    "    {\n",
    "        if (format[i] == '%')\n",
    "        {\n",
    "            i++;\n",
    "            flags = parse_flags(format, &i);\n",
    "             length_mod = parse_length_mod(format, &i);\n",
    "\n",
    "            for (j = 0; f_list[j].sym != NULL; j++)\n",
    "            {\n",
    "                if (format[i] == f_list[j].sym[0])\n",
    "                {\n",
    "                    printed_chars += f_list[j].f(arg_list, buffer, index, flags, length_mod);\n",
    "                    break;\n",
    "                }\n",
    "            }\n",
    "            if (f_list[j].sym == NULL)\n",
    "            {\n",
    "                _putchar('%', buffer, index);\n",
    "                _putchar(format[i], buffer, index);\n",
    "                printed_chars += 2;\n",
    "            }\n",
    "            i++;\n",
    "        }\n",
    "        else\n",
    "        {\n",
    "            _putchar(format[i], buffer, index);\n",
    "            printed_chars++;\n",
    "            i++;\n",
    "        }\n",
    "    }\n",
    "    return (printed_chars);\n",
    "}"
   ]
  },
  {
   "cell_type": "code",
   "execution_count": 64,
   "metadata": {},
   "outputs": [
    {
     "name": "stdout",
     "output_type": "stream",
     "text": [
      "Overwriting /home/elkomy/alx/printf/print_pointer.c\n"
     ]
    }
   ],
   "source": [
    "%%file /home/elkomy/alx/printf/print_pointer.c\n",
    "#include \"main.h\"\n",
    "#include <stdio.h>\n",
    "\n",
    "/**\n",
    " * print_pointer - Prints a pointer address\n",
    " * @list: List of arguments\n",
    " * @buffer: Buffer to store characters\n",
    " * @index: Current index in the buffer\n",
    " * @flags: Flags for formatting\n",
    " * Return: Number of characters printed\n",
    " */\n",
    "int print_pointer(va_list list, char *buffer, int *index, flags_t flags)\n",
    "{\n",
    "    void *ptr = va_arg(list, void *);\n",
    "    unsigned long int addr = (unsigned long int)ptr;\n",
    "    char hex[17];\n",
    "    int i, digit;\n",
    "\n",
    "    (void)flags; /* Suppress unused parameter warning */\n",
    "\n",
    "    _putchar('0', buffer, index);\n",
    "    _putchar('x', buffer, index);\n",
    "\n",
    "    i = 15;\n",
    "    while (addr)\n",
    "    {\n",
    "        digit = addr % 16;\n",
    "        hex[i--] = (digit < 10) ? digit + '0' : digit - 10 + 'a';\n",
    "        addr /= 16;\n",
    "    }\n",
    "    i++;\n",
    "    while (i < 16)\n",
    "    {\n",
    "        _putchar(hex[i++], buffer, index);\n",
    "    }\n",
    "\n",
    "    return (2 + 15 - i);\n",
    "}\n"
   ]
  },
  {
   "cell_type": "code",
   "execution_count": 65,
   "metadata": {},
   "outputs": [
    {
     "name": "stdout",
     "output_type": "stream",
     "text": [
      "Overwriting /home/elkomy/alx/printf/print_char.c\n"
     ]
    }
   ],
   "source": [
    "%%file /home/elkomy/alx/printf/print_char.c\n",
    "#include \"main.h\"\n",
    "#include <stdio.h>\n",
    "\n",
    "/**\n",
    " * print_char - Prints a character\n",
    " * @list: List of arguments\n",
    " * @buffer: Buffer to store characters\n",
    " * @index: Current index in the buffer\n",
    " * @flags: Flags for formatting\n",
    " * @length_mod: Length modifier for formatting\n",
    " * Return: Number of characters printed\n",
    " */\n",
    "int print_char(va_list list, char *buffer, int *index, flags_t flags, length_mod_t length_mod)\n",
    "{\n",
    "    char c = va_arg(list, int);\n",
    "\n",
    "    (void)flags; /* Flags are not used for characters */\n",
    "    (void)length_mod;\n",
    "    buffer[*index] = c;\n",
    "    (*index)++;\n",
    "\n",
    "    return (1);\n",
    "}\n"
   ]
  },
  {
   "cell_type": "code",
   "execution_count": 66,
   "metadata": {},
   "outputs": [
    {
     "name": "stdout",
     "output_type": "stream",
     "text": [
      "Overwriting /home/elkomy/alx/printf/convert.c\n"
     ]
    }
   ],
   "source": [
    "%%file /home/elkomy/alx/printf/convert.c\n",
    "#include \"main.h\"\n",
    "#include <stdlib.h>\n",
    "\n",
    "/**\n",
    " * convert - Converts a number to a string in the given base\n",
    " * @num: The number to be converted\n",
    " * @base: The base to convert to\n",
    " * @lowercase: Flag to determine if hex letters should be lowercase\n",
    " * Return: A pointer to the converted string (static buffer)\n",
    " */\n",
    "\n",
    "\n",
    "char *convert(unsigned long int num, int base, int lowercase)\n",
    "{\n",
    "    static char *rep;\n",
    "    static char buffer[50];\n",
    "    char *ptr;\n",
    "\n",
    "    rep = (lowercase) ? \"0123456789abcdef\" : \"0123456789ABCDEF\";\n",
    "    ptr = &buffer[49];\n",
    "    *ptr = '\\0';\n",
    "\n",
    "    do\n",
    "    {\n",
    "        *--ptr = rep[num % base];\n",
    "        num /= base;\n",
    "    } while (num != 0);\n",
    "\n",
    "    return (ptr);\n",
    "}\n"
   ]
  },
  {
   "cell_type": "code",
   "execution_count": 67,
   "metadata": {},
   "outputs": [
    {
     "name": "stdout",
     "output_type": "stream",
     "text": [
      "Overwriting /home/elkomy/alx/printf/print_string.c\n"
     ]
    }
   ],
   "source": [
    "%%file /home/elkomy/alx/printf/print_string.c\n",
    "#include \"main.h\"\n",
    "#include <stdio.h>\n",
    "\n",
    "/**\n",
    " * print_string - Prints a string\n",
    " * @list: List of arguments\n",
    " * @buffer: Buffer to store characters\n",
    " * @index: Current index in the buffer\n",
    " * @flags: Flags for formatting\n",
    " * Return: Number of characters printed\n",
    " */\n",
    "int print_string(va_list list, char *buffer, int *index, flags_t flags, length_mod_t length_mod)\n",
    "{\n",
    "    char *str = va_arg(list, char *);\n",
    "    int num_chars = 0;\n",
    "\n",
    "    (void)flags; /* Flags are not used for strings */\n",
    "    (void)length_mod;\n",
    "\n",
    "    if (str == NULL)\n",
    "        str = \"(null)\";\n",
    "\n",
    "    while (*str)\n",
    "    {\n",
    "        buffer[*index] = *str;\n",
    "        (*index)++;\n",
    "        str++;\n",
    "        num_chars++;\n",
    "    }\n",
    "\n",
    "    return (num_chars);\n",
    "}\n"
   ]
  },
  {
   "cell_type": "code",
   "execution_count": 68,
   "metadata": {},
   "outputs": [
    {
     "name": "stdout",
     "output_type": "stream",
     "text": [
      "Overwriting /home/elkomy/alx/printf/print_percent.c\n"
     ]
    }
   ],
   "source": [
    "%%file /home/elkomy/alx/printf/print_percent.c\n",
    "#include \"main.h\"\n",
    "#include <stdio.h>\n",
    "\n",
    "/**\n",
    " * print_percent - Prints a percent symbol\n",
    " * @list: List of arguments\n",
    " * @buffer: Buffer to store characters\n",
    " * @index: Current index in the buffer\n",
    " * @flags: Flags for formatting\n",
    " * @length_mod: Length modifier for formatting\n",
    " * Return: Number of characters printed\n",
    " */\n",
    "int print_percent(va_list list, char *buffer, int *index, flags_t flags,length_mod_t length_mod )\n",
    "{\n",
    "    (void)list;\n",
    "    (void)flags; /* Flags are not used for percent */\n",
    "    (void)length_mod; \n",
    "\n",
    "    buffer[*index] = '%';\n",
    "    (*index)++;\n",
    "\n",
    "    return (1);\n",
    "}\n"
   ]
  },
  {
   "cell_type": "code",
   "execution_count": 95,
   "metadata": {},
   "outputs": [
    {
     "name": "stdout",
     "output_type": "stream",
     "text": [
      "Overwriting /home/elkomy/alx/printf/print_integer.c\n"
     ]
    }
   ],
   "source": [
    "%%file /home/elkomy/alx/printf/print_integer.c\n",
    "\n",
    "\n",
    "#include \"main.h\"\n",
    "#include <stdlib.h>  /* Include stdlib.h for malloc */\n",
    "\n",
    "/* Helper function to implement itoa since it's not standard in C */\n",
    "void itoa(int num, char *str, int base) {\n",
    "    int i = 0;\n",
    "    int is_negative = 0;\n",
    "    int start, end;\n",
    "\n",
    "    /* Handle 0 explicitly, otherwise empty string is printed for 0 */\n",
    "    if (num == 0) {\n",
    "        str[i++] = '0';\n",
    "        str[i] = '\\0';\n",
    "        return;\n",
    "    }\n",
    "\n",
    "    /* Handle negative numbers for base 10 */\n",
    "    if (num < 0 && base == 10) {\n",
    "        is_negative = 1;\n",
    "        num = -num;\n",
    "    }\n",
    "\n",
    "    /* Process individual digits */\n",
    "    while (num != 0) {\n",
    "        int rem = num % base;\n",
    "        str[i++] = (rem > 9) ? (rem - 10) + 'a' : rem + '0';\n",
    "        num = num / base;\n",
    "    }\n",
    "\n",
    "    /* Append '-' for negative numbers */\n",
    "    if (is_negative) {\n",
    "        str[i++] = '-';\n",
    "    }\n",
    "\n",
    "    str[i] = '\\0';\n",
    "\n",
    "    /* Reverse the string */\n",
    "    start = 0;\n",
    "    end = i - 1;\n",
    "    while (start < end) {\n",
    "        char temp = str[start];\n",
    "        str[start] = str[end];\n",
    "        str[end] = temp;\n",
    "        start++;\n",
    "        end--;\n",
    "    }\n",
    "}\n",
    "\n",
    "/**\n",
    " * print_integer - Prints an integer\n",
    " * @list: List of arguments\n",
    " * @buffer: Buffer to store characters\n",
    " * @index: Current index in the buffer\n",
    " * @flags: Flags for formatting\n",
    " * @length_mod: Length modifier for formatting\n",
    " * Return: Number of characters printed\n",
    " */\n",
    "int print_integer(va_list list, char *buffer, int *index, flags_t flags, length_mod_t length_mod)\n",
    "{\n",
    "    long int num;\n",
    "    char str[21]; /* Enough to hold long int in base 10 with sign */\n",
    "    int i = 0, num_chars = 0;\n",
    "\n",
    "    if (length_mod.l)\n",
    "        num = va_arg(list, long int);\n",
    "    else if (length_mod.h)\n",
    "        num = (short int)va_arg(list, int);\n",
    "    else\n",
    "        num = va_arg(list, int);\n",
    "\n",
    "    \n",
    "\n",
    "    itoa(num, str, 10);\n",
    "\n",
    "    /* Handle the space and plus flags */\n",
    "    if (flags.plus && num >= 0)\n",
    "    {\n",
    "        _putchar('+', buffer, index);\n",
    "        num_chars++;\n",
    "    }\n",
    "    else if (flags.space && num >= 0)\n",
    "    {\n",
    "        _putchar(' ', buffer, index);\n",
    "        num_chars++;\n",
    "    }\n",
    "\n",
    "    while (str[i])\n",
    "    {\n",
    "        _putchar(str[i], buffer, index);\n",
    "        i++;\n",
    "        num_chars++;\n",
    "    }\n",
    "\n",
    "    return (num_chars);\n",
    "}\n"
   ]
  },
  {
   "cell_type": "code",
   "execution_count": 96,
   "metadata": {},
   "outputs": [
    {
     "name": "stdout",
     "output_type": "stream",
     "text": [
      "Overwriting /home/elkomy/alx/printf/print_binary.c\n"
     ]
    }
   ],
   "source": [
    "%%file /home/elkomy/alx/printf/print_binary.c\n",
    "#include \"main.h\"\n",
    "#include <stdio.h>\n",
    "\n",
    "/**\n",
    " * print_binary - Prints a number in binary\n",
    " * @list: List of arguments\n",
    " * @buffer: Buffer to store characters\n",
    " * @index: Current index in the buffer\n",
    " * @flags: Flags for formatting\n",
    " * @length_mod: Length modifier for formatting\n",
    " * Return: Number of characters printed\n",
    " */\n",
    "int print_binary(va_list list, char *buffer, int *index, flags_t flags, length_mod_t length_mod)\n",
    "{\n",
    "    unsigned int num = va_arg(list, unsigned int);\n",
    "    int num_chars = 0;\n",
    "    char *str = convert(num, 2, 0);\n",
    "\n",
    "    (void)flags; /* Flags are not used for binary */\n",
    "    (void)length_mod;\n",
    "    while (*str)\n",
    "    {\n",
    "        buffer[*index] = *str;\n",
    "        (*index)++;\n",
    "        str++;\n",
    "        num_chars++;\n",
    "    }\n",
    "\n",
    "    return (num_chars);\n",
    "}\n"
   ]
  },
  {
   "cell_type": "code",
   "execution_count": null,
   "metadata": {},
   "outputs": [],
   "source": []
  },
  {
   "cell_type": "code",
   "execution_count": 141,
   "metadata": {},
   "outputs": [
    {
     "name": "stdout",
     "output_type": "stream",
     "text": [
      "Overwriting /home/elkomy/alx/printf/print_unsigned.c\n"
     ]
    }
   ],
   "source": [
    "%%file /home/elkomy/alx/printf/print_unsigned.c\n",
    "#include \"main.h\"\n",
    "#include <stdio.h>\n",
    "\n",
    "/**\n",
    " * print_unsigned - Prints an unsigned integer\n",
    " * @list: List of arguments\n",
    " * @buffer: Buffer to store characters\n",
    " * @index: Current index in the buffer\n",
    " * @flags: Flags for formatting\n",
    " * @length_mod: Length modifier for formatting\n",
    " * Return: Number of characters printed\n",
    " */\n",
    "int print_unsigned(va_list list, char *buffer, int *index, flags_t flags, length_mod_t length_mod)\n",
    "{\n",
    "    unsigned long int num;\n",
    "      int num_chars = 0;\n",
    "      char *str;\n",
    "\n",
    "    if (length_mod.l)\n",
    "        num = va_arg(list, unsigned long int);\n",
    "    else if (length_mod.h)\n",
    "        num = (unsigned short int)va_arg(list, unsigned int);\n",
    "    else\n",
    "        num = va_arg(list, unsigned int);\n",
    "\n",
    "  \n",
    "    str = convert(num, 10, 0);\n",
    "\n",
    "    (void)flags; /* Flags are not used for unsigned integers */\n",
    "\n",
    "    while (*str)\n",
    "    {\n",
    "        buffer[*index] = *str;\n",
    "        (*index)++;\n",
    "        str++;\n",
    "        num_chars++;\n",
    "    }\n",
    "\n",
    "    return (num_chars);\n",
    "}\n"
   ]
  },
  {
   "cell_type": "code",
   "execution_count": 142,
   "metadata": {},
   "outputs": [
    {
     "name": "stdout",
     "output_type": "stream",
     "text": [
      "Overwriting /home/elkomy/alx/printf/print_octal.c\n"
     ]
    }
   ],
   "source": [
    "%%file /home/elkomy/alx/printf/print_octal.c\n",
    "#include \"main.h\"\n",
    "#include <stdio.h>\n",
    "\n",
    "/**\n",
    " * print_octal - Prints a number in octal\n",
    " * @list: List of arguments\n",
    " * @buffer: Buffer to store characters\n",
    " * @index: Current index in the buffer\n",
    " * @flags: Flags for formatting\n",
    " * @length_mod: Length modifier for formatting\n",
    " * Return: Number of characters printed\n",
    " */\n",
    "int print_octal(va_list list, char *buffer, int *index, flags_t flags, length_mod_t length_mod)\n",
    "{\n",
    "    unsigned int num = va_arg(list, unsigned int);\n",
    "    int num_chars = 0;\n",
    "    char *str;\n",
    "\n",
    "    if (length_mod.l)\n",
    "        num = va_arg(list, long int);\n",
    "    else if (length_mod.h)\n",
    "        num = (short int)va_arg(list, int);\n",
    "    else\n",
    "        num = va_arg(list, int);\n",
    "\n",
    "    if (flags.hash && num != 0)\n",
    "    {\n",
    "        buffer[*index] = '0';\n",
    "        (*index)++;\n",
    "        num_chars++;\n",
    "    }\n",
    "\n",
    "    str = convert(num, 8, 0);\n",
    "    while (*str)\n",
    "    {\n",
    "        buffer[*index] = *str;\n",
    "        (*index)++;\n",
    "        str++;\n",
    "        num_chars++;\n",
    "    }\n",
    "\n",
    "    return (num_chars);\n",
    "}\n"
   ]
  },
  {
   "cell_type": "code",
   "execution_count": 143,
   "metadata": {},
   "outputs": [
    {
     "name": "stdout",
     "output_type": "stream",
     "text": [
      "Overwriting /home/elkomy/alx/printf/print_hex.c\n"
     ]
    }
   ],
   "source": [
    "%%file /home/elkomy/alx/printf/print_hex.c\n",
    "#include \"main.h\"\n",
    "#include <stdio.h>\n",
    "\n",
    "/**\n",
    " * print_hex - Prints a number in hexadecimal (lowercase)\n",
    " * @list: List of arguments\n",
    " * @buffer: Buffer to store characters\n",
    " * @index: Current index in the buffer\n",
    " * @flags: Flags for formatting\n",
    " * @length_mod: Length modifier for formatting\n",
    " * Return: Number of characters printed\n",
    " */\n",
    "int print_hex(va_list list, char *buffer, int *index, flags_t flags, length_mod_t length_mod)\n",
    "{\n",
    "    unsigned int num = va_arg(list, unsigned int);\n",
    "    int num_chars = 0;\n",
    "    char *str;\n",
    "    \n",
    "    if (length_mod.l)\n",
    "        num = va_arg(list, long int);\n",
    "    else if (length_mod.h)\n",
    "        num = (short int)va_arg(list, int);\n",
    "    else\n",
    "        num = va_arg(list, int);\n",
    "\n",
    "\n",
    "    if (flags.hash && num != 0)\n",
    "    {\n",
    "        buffer[*index] = '0';\n",
    "        buffer[*index + 1] = 'x';\n",
    "        *index += 2;\n",
    "        num_chars += 2;\n",
    "    }\n",
    "\n",
    "    str = convert(num, 16, 1);\n",
    "    while (*str)\n",
    "    {\n",
    "        buffer[*index] = *str;\n",
    "        (*index)++;\n",
    "        str++;\n",
    "        num_chars++;\n",
    "    }\n",
    "\n",
    "    return (num_chars);\n",
    "}\n"
   ]
  },
  {
   "cell_type": "code",
   "execution_count": 144,
   "metadata": {},
   "outputs": [
    {
     "name": "stdout",
     "output_type": "stream",
     "text": [
      "Overwriting /home/elkomy/alx/printf/print_HEX.c\n"
     ]
    }
   ],
   "source": [
    "%%file /home/elkomy/alx/printf/print_HEX.c\n",
    "\n",
    "#include \"main.h\"\n",
    "#include <stdio.h>\n",
    "\n",
    "/**\n",
    " * print_HEX - Prints a number in hexadecimal (uppercase)\n",
    " * @list: List of arguments\n",
    " * @buffer: Buffer to store characters\n",
    " * @index: Current index in the buffer\n",
    " * @flags: Flags for formatting\n",
    " * @length_mod: Length modifier for formatting\n",
    " * Return: Number of characters printed\n",
    " */\n",
    "int print_HEX(va_list list, char *buffer, int *index, flags_t flags, length_mod_t length_mod)\n",
    "{\n",
    "    unsigned int num = va_arg(list, unsigned int);\n",
    "    int num_chars = 0;\n",
    "    char *str;\n",
    "     if (length_mod.l)\n",
    "        num = va_arg(list, long int);\n",
    "    else if (length_mod.h)\n",
    "        num = (short int)va_arg(list, int);\n",
    "    else\n",
    "        num = va_arg(list, int);\n",
    "\n",
    "    if (flags.hash && num != 0)\n",
    "    {\n",
    "        buffer[*index] = '0';\n",
    "        buffer[*index + 1] = 'X';\n",
    "        *index += 2;\n",
    "        num_chars += 2;\n",
    "    }\n",
    "\n",
    "    str = convert(num, 16, 0);\n",
    "    while (*str)\n",
    "    {\n",
    "        buffer[*index] = *str;\n",
    "        (*index)++;\n",
    "        str++;\n",
    "        num_chars++;\n",
    "    }\n",
    "\n",
    "    return (num_chars);\n",
    "}\n"
   ]
  },
  {
   "cell_type": "code",
   "execution_count": 145,
   "metadata": {},
   "outputs": [
    {
     "name": "stdout",
     "output_type": "stream",
     "text": [
      "Overwriting /home/elkomy/alx/printf/print_reverse.c\n"
     ]
    }
   ],
   "source": [
    "%%file /home/elkomy/alx/printf/print_reverse.c\n",
    "#include \"main.h\"\n",
    "#include <stdio.h>\n",
    "\n",
    "/**\n",
    " * print_reverse - Prints a string in reverse\n",
    " * @list: List of arguments\n",
    " * @buffer: Buffer to store characters\n",
    " * @index: Current index in the buffer\n",
    " * @flags: Flags for formatting\n",
    " * @length_mod: Length modifier for formatting \n",
    " * Return: Number of characters printed\n",
    " */\n",
    "\n",
    "int print_reverse(va_list list, char *buffer, int *index, flags_t flags, length_mod_t length_mod)\n",
    "{\n",
    "    char *str = va_arg(list, char *);\n",
    "    int len = 0, i;\n",
    "\n",
    "    (void)flags; /* Suppress unused parameter warning */\n",
    "    (void)length_mod;\n",
    "    while (str[len])\n",
    "        len++;\n",
    "\n",
    "    for (i = len - 1; i >= 0; i--)\n",
    "        _putchar(str[i], buffer, index);\n",
    "\n",
    "    return (len);\n",
    "}\n",
    "\n"
   ]
  },
  {
   "cell_type": "code",
   "execution_count": 146,
   "metadata": {},
   "outputs": [
    {
     "name": "stdout",
     "output_type": "stream",
     "text": [
      "Overwriting /home/elkomy/alx/printf/print_rot13.c\n"
     ]
    }
   ],
   "source": [
    "%%file /home/elkomy/alx/printf/print_rot13.c\n",
    "#include \"main.h\"\n",
    "#include <stdio.h>\n",
    "\n",
    "\n",
    "/**\n",
    " * print_rot13 - Prints a string in rot13 encoding\n",
    " * @list: List of arguments\n",
    " * @buffer: Buffer to store characters\n",
    " * @index: Current index in the buffer\n",
    " * @flags: Flags for formatting\n",
    " * @length_mod: Length modifier for formatting\n",
    " * Return: Number of characters printed\n",
    " */\n",
    "int print_rot13(va_list list, char *buffer, int *index, flags_t flags, length_mod_t length_mod)\n",
    "{\n",
    "    char *str = va_arg(list, char *);\n",
    "    int i, j;\n",
    "\n",
    "    char in[] = \"ABCDEFGHIJKLMNOPQRSTUVWXYZabcdefghijklmnopqrstuvwxyz\";\n",
    "    char out[] = \"NOPQRSTUVWXYZABCDEFGHIJKLMnopqrstuvwxyzabcdefghijklm\";\n",
    "\n",
    "    (void)flags; /* Suppress unused parameter warning */\n",
    "    (void)length_mod;\n",
    "    for (i = 0; str[i]; i++)\n",
    "    {\n",
    "        for (j = 0; in[j]; j++)\n",
    "        {\n",
    "            if (str[i] == in[j])\n",
    "            {\n",
    "                _putchar(out[j], buffer, index);\n",
    "                break;\n",
    "            }\n",
    "        }\n",
    "        if (!in[j])\n",
    "            _putchar(str[i], buffer, index);\n",
    "    }\n",
    "\n",
    "    return (i);\n",
    "}\n"
   ]
  },
  {
   "cell_type": "code",
   "execution_count": 147,
   "metadata": {},
   "outputs": [
    {
     "name": "stdout",
     "output_type": "stream",
     "text": [
      "Overwriting /home/elkomy/alx/printf/print_non_printable.c\n"
     ]
    }
   ],
   "source": [
    "%%file /home/elkomy/alx/printf/print_non_printable.c\n",
    "#include \"main.h\"\n",
    "#include <stdio.h>\n",
    "\n",
    "/**\n",
    " * print_non_printable - Prints non-printable characters in hexadecimal format\n",
    " * @list: List of arguments\n",
    " * @buffer: Buffer to store characters\n",
    " * @index: Current index in the buffer\n",
    " * @flags: Flags for formatting\n",
    " * @length_mod: Length modifier for formatting\n",
    " * Return: Number of characters printed\n",
    " */\n",
    "int print_non_printable(va_list list, char *buffer, int *index, flags_t flags, length_mod_t length_mod)\n",
    "{\n",
    "    char *str = va_arg(list, char *);\n",
    "    int i = 0, count = 0;\n",
    "\n",
    "    (void)flags; /* Suppress unused parameter warning */\n",
    "    (void)length_mod;\n",
    "    while (str[i])\n",
    "    {\n",
    "        if ((str[i] > 0 && str[i] < 32) || str[i] >= 127)\n",
    "        {\n",
    "            count += sprintf(&buffer[*index], \"\\\\x%02X\", str[i]);\n",
    "            *index += 4;\n",
    "        }\n",
    "        else\n",
    "        {\n",
    "            _putchar(str[i], buffer, index);\n",
    "            count++;\n",
    "        }\n",
    "        i++;\n",
    "    }\n",
    "\n",
    "    return (count);\n",
    "}\n"
   ]
  },
  {
   "cell_type": "code",
   "execution_count": 148,
   "metadata": {},
   "outputs": [
    {
     "name": "stdout",
     "output_type": "stream",
     "text": [
      "Overwriting /home/elkomy/alx/printf/print_special_string.c\n"
     ]
    }
   ],
   "source": [
    "%%file /home/elkomy/alx/printf/print_special_string.c\n",
    "#include \"main.h\"\n",
    "#include <stdio.h>\n",
    "\n",
    "/**\n",
    " * print_special_string - Prints a special string with non-printable characters\n",
    " * @list: List of arguments\n",
    " * @buffer: Buffer to store characters\n",
    " * @index: Current index in the buffer\n",
    " * @flags: Flags for formatting\n",
    " * @length_mod: Length modifier for formatting\n",
    " * Return: Number of characters printed\n",
    " */\n",
    "int print_special_string(va_list list, char *buffer, int *index, flags_t flags, length_mod_t length_mod)\n",
    "{\n",
    "    char *str = va_arg(list, char *);\n",
    "    int i = 0, count = 0;\n",
    "\n",
    "    (void)flags; /* Suppress unused parameter warning */\n",
    "    (void)length_mod;\n",
    "    if (str == NULL)\n",
    "        str = \"(null)\";\n",
    "\n",
    "    while (str[i])\n",
    "    {\n",
    "        if ((str[i] > 0 && str[i] < 32) || str[i] >= 127)\n",
    "        {\n",
    "            count += sprintf(&buffer[*index], \"\\\\x%02X\", (unsigned char)str[i]);\n",
    "            *index += 4;\n",
    "        }\n",
    "        else\n",
    "        {\n",
    "            _putchar(str[i], buffer, index);\n",
    "            count++;\n",
    "        }\n",
    "        i++;\n",
    "    }\n",
    "\n",
    "    return (count);\n",
    "}\n",
    "\n"
   ]
  },
  {
   "cell_type": "code",
   "execution_count": 149,
   "metadata": {},
   "outputs": [
    {
     "name": "stdout",
     "output_type": "stream",
     "text": [
      "Overwriting /home/elkomy/alx/printf/tests/main.c\n"
     ]
    }
   ],
   "source": [
    "%%file /home/elkomy/alx/printf/tests/main.c\n",
    "#include <limits.h>\n",
    "#include <stdio.h>\n",
    "#include \"main.h\"\n",
    "\n",
    "/**\n",
    " * main - Entry point\n",
    " *\n",
    " * Return: Always 0\n",
    " */\n",
    "int main(void)\n",
    "{\n",
    "    int len;\n",
    "    int len2;\n",
    "    unsigned int ui;\n",
    "    void *addr;\n",
    "\n",
    "    len = _printf(\"Let's try to printf a simple sentence.\\n\");\n",
    "    len2 = printf(\"Let's try to printf a simple sentence.\\n\");\n",
    "    ui = (unsigned int)INT_MAX + 1024;\n",
    "    addr = (void *)0x7ffe637541f0;\n",
    "    _printf(\"Length:[%d, %i]\\n\", len, len);\n",
    "    printf(\"Length:[%d, %i]\\n\", len2, len2);\n",
    "    _printf(\"Negative:[%d]\\n\", -762534);\n",
    "    printf(\"Negative:[%d]\\n\", -762534);\n",
    "    _printf(\"Unsigned:[%u]\\n\", ui);\n",
    "    printf(\"Unsigned:[%u]\\n\", ui);\n",
    "    _printf(\"Unsigned octal:[%o]\\n\", ui);\n",
    "    printf(\"Unsigned octal:[%o]\\n\", ui);\n",
    "    _printf(\"Unsigned hexadecimal:[%x, %X]\\n\", ui, ui);\n",
    "    printf(\"Unsigned hexadecimal:[%x, %X]\\n\", ui, ui);\n",
    "    _printf(\"Character:[%c]\\n\", 'H');\n",
    "    printf(\"Character:[%c]\\n\", 'H');\n",
    "    _printf(\"String:[%s]\\n\", \"I am a string !\");\n",
    "    printf(\"String:[%s]\\n\", \"I am a string !\");\n",
    "    _printf(\"Address:[%p]\\n\", addr);\n",
    "    printf(\"Address:[%p]\\n\", addr);\n",
    "    len = _printf(\"Percent:[%%]\\n\");\n",
    "    len2 = printf(\"Percent:[%%]\\n\");\n",
    "    _printf(\"Len:[%d]\\n\", len);\n",
    "    printf(\"Len:[%d]\\n\", len2);\n",
    "    _printf(\"Unknown:[%r]\\n\");\n",
    "    printf(\"Unknown:[%r]\\n\");\n",
    "    return (0);\n",
    "}"
   ]
  },
  {
   "cell_type": "code",
   "execution_count": 150,
   "metadata": {},
   "outputs": [
    {
     "name": "stdout",
     "output_type": "stream",
     "text": [
      "Overwriting /home/elkomy/alx/printf/print_pointer.c\n"
     ]
    }
   ],
   "source": [
    "%%file /home/elkomy/alx/printf/print_pointer.c\n",
    "#include \"main.h\"\n",
    "#include <stdio.h>\n",
    "\n",
    "/**\n",
    " * print_pointer - Prints a pointer address\n",
    " * @list: List of arguments\n",
    " * @buffer: Buffer to store characters\n",
    " * @index: Current index in the buffer\n",
    " * @flags: Flags for formatting\n",
    " * Return: Number of characters printed\n",
    " */\n",
    "int print_pointer(va_list list, char *buffer, int *index, flags_t flags, length_mod_t length_mod)\n",
    "{\n",
    "    void *ptr = va_arg(list, void *);\n",
    "    unsigned long int addr = (unsigned long int)ptr;\n",
    "    char hex[17];\n",
    "    int i, digit;\n",
    "\n",
    "    (void)flags; /* Suppress unused parameter warning */\n",
    "    (void)length_mod;\n",
    "    _putchar('0', buffer, index);\n",
    "    _putchar('x', buffer, index);\n",
    "\n",
    "    i = 15;\n",
    "    while (addr)\n",
    "    {\n",
    "        digit = addr % 16;\n",
    "        hex[i--] = (digit < 10) ? digit + '0' : digit - 10 + 'a';\n",
    "        addr /= 16;\n",
    "    }\n",
    "    i++;\n",
    "    while (i < 16)\n",
    "    {\n",
    "        _putchar(hex[i++], buffer, index);\n",
    "    }\n",
    "\n",
    "    return (2 + 15 - i);\n",
    "}\n"
   ]
  },
  {
   "cell_type": "code",
   "execution_count": 151,
   "metadata": {},
   "outputs": [
    {
     "name": "stdout",
     "output_type": "stream",
     "text": [
      "\n",
      "========== /home/elkomy/alx/printf/_printf.c ==========\n",
      "_printf\n",
      "Let's try to printf a simple sentence.\n",
      "Let's try to printf a simple sentence.\n",
      "Length:[39, 39]\n",
      "Length:[39, 39]\n",
      "Negative:[-762534]\n",
      "Negative:[-762534]\n",
      "Unsigned:[2147484671]\n",
      "Unsigned:[2147484671]\n",
      "Unsigned octal:[0]\n",
      "Unsigned octal:[20000001777]\n",
      "Unsigned hexadecimal:[800003ff, 0]\n",
      "Unsigned hexadecimal:[800003ff, 800003FF]\n",
      "Character:[H]\n",
      "Character:[H]\n",
      "String:[I am a string !]\n",
      "String:[I am a string !]\n",
      "Address:[0x7ffe637541f0]\n",
      "Address:[0x7ffe637541f0]\n",
      "Percent:[%]\n",
      "Percent:[%]\n",
      "Len:[12]\n",
      "Len:[12]\n",
      "Unknown:[%r]\n",
      "Unknown:[%r]\n"
     ]
    }
   ],
   "source": [
    "\n",
    "!betty /home/elkomy/alx/printf/_printf.c\n",
    "!gcc -Wall -Werror -Wextra -pedantic -std=gnu89 -Wno-format /home/elkomy/alx/printf/*.c /home/elkomy/alx/printf/tests/main.c -o /home/elkomy/alx/printf/printf\n",
    "!./printf\n"
   ]
  },
  {
   "cell_type": "code",
   "execution_count": 152,
   "metadata": {},
   "outputs": [
    {
     "name": "stdout",
     "output_type": "stream",
     "text": [
      "[main 8541527] alx-low_level_programming/0x0D-preprocessor/0-putchar\n",
      " 3 files changed, 22 insertions(+), 13 deletions(-)\n"
     ]
    },
    {
     "name": "stderr",
     "output_type": "stream",
     "text": [
      "To https://github.com/elkomysara/printf\n",
      "   ff72637..8541527  main -> main\n"
     ]
    }
   ],
   "source": [
    "%%bash\n",
    "git add .\n",
    "git commit -m \"alx-low_level_programming/0x0D-preprocessor/0-putchar\"\n",
    "git push"
   ]
  },
  {
   "cell_type": "code",
   "execution_count": null,
   "metadata": {},
   "outputs": [],
   "source": []
  },
  {
   "cell_type": "markdown",
   "metadata": {},
   "source": [
    "###\n",
    "---\n",
    "<center>\n",
    "<h4>9. Print some money and give it to us for the rain forests</h4>\n",
    "</center>\n",
    "\n",
    "---"
   ]
  },
  {
   "cell_type": "markdown",
   "metadata": {},
   "source": [
    "\n",
    "#### Handle the field width for non-custom conversion specifiers.\n",
    "\n",
    "#### Repo:\n",
    "* GitHub repository: ``` printf```"
   ]
  },
  {
   "cell_type": "code",
   "execution_count": 6,
   "metadata": {},
   "outputs": [
    {
     "name": "stdout",
     "output_type": "stream",
     "text": [
      "Overwriting /home/elkomy/alx/printf/format_reciever.c\n"
     ]
    }
   ],
   "source": [
    "%%file /home/elkomy/alx/printf/format_reciever.c\n",
    "#include \"main.h\"\n",
    "#include <stdio.h>\n",
    "\n",
    "/**\n",
    " * format_reciever - Receives the main string and necessary parameters to\n",
    " * print a formatted string\n",
    " * @format: A string containing all the desired characters\n",
    " * @f_list: List of format specifiers and their corresponding functions\n",
    " * @arg_list: List of arguments\n",
    " * @buffer: Buffer to store characters\n",
    " * @index: Current index in the buffer\n",
    " * Return: Number of characters printed\n",
    " */\n",
    "int format_reciever(const char *format, conver_t f_list[], va_list arg_list, char *buffer, int *index)\n",
    "{\n",
    "    int i = 0, j, printed_chars = 0;\n",
    "    flags_t flags;\n",
    "    length_mod_t length_mod;\n",
    "    int width;\n",
    "\n",
    "    while (format[i])\n",
    "    {\n",
    "        if (format[i] == '%')\n",
    "        {\n",
    "            i++;\n",
    "            flags = parse_flags(format, &i);\n",
    "            length_mod = parse_length_mod(format, &i);\n",
    "            width = parse_width(format, &i, arg_list);\n",
    "\n",
    "            for (j = 0; f_list[j].sym != NULL; j++)\n",
    "            {\n",
    "                if (format[i] == f_list[j].sym[0])\n",
    "                {\n",
    "                    printed_chars += f_list[j].f(arg_list, buffer, index, flags, length_mod, width);\n",
    "                    break;\n",
    "                }\n",
    "            }\n",
    "            if (f_list[j].sym == NULL)\n",
    "            {\n",
    "                _putchar('%', buffer, index);\n",
    "                _putchar(format[i], buffer, index);\n",
    "                printed_chars += 2;\n",
    "            }\n",
    "            i++;\n",
    "        }\n",
    "        else\n",
    "        {\n",
    "            _putchar(format[i], buffer, index);\n",
    "            printed_chars++;\n",
    "            i++;\n",
    "        }\n",
    "    }\n",
    "    return (printed_chars);\n",
    "}"
   ]
  },
  {
   "cell_type": "code",
   "execution_count": 154,
   "metadata": {},
   "outputs": [
    {
     "name": "stdout",
     "output_type": "stream",
     "text": [
      "Overwriting /home/elkomy/alx/printf/main.h\n"
     ]
    }
   ],
   "source": [
    "%%file /home/elkomy/alx/printf/main.h\n",
    "#ifndef MAIN_H\n",
    "#define MAIN_H\n",
    "\n",
    "#include <stdarg.h>\n",
    "#include <stdlib.h>\n",
    "#include <unistd.h>\n",
    "\n",
    "/**\n",
    " * struct flags - struct containing flags to \"turn on\"\n",
    " * when a flag specifier is passed to _printf()\n",
    " * @plus: flag for the '+' character\n",
    " * @space: flag for the ' ' character\n",
    " * @hash: flag for the '#' character\n",
    " */\n",
    "typedef struct flags\n",
    "{\n",
    "    int plus;\n",
    "    int space;\n",
    "    int hash;\n",
    "} flags_t;\n",
    "\n",
    "/**\n",
    " * struct length_mod - struct containing length modifiers\n",
    " * when a length specifier is passed to _printf()\n",
    " * @l: flag for the 'l' character\n",
    " * @h: flag for the 'h' character\n",
    " */\n",
    " \n",
    "typedef struct length_mod\n",
    "{\n",
    "    int l;\n",
    "    int h;\n",
    "} length_mod_t;\n",
    "\n",
    "/**\n",
    " * struct convert - struct for symbols and functions\n",
    " * @sym: The operator\n",
    " * @f: The function associated\n",
    " */\n",
    "typedef struct convert\n",
    "{\n",
    "    char *sym;\n",
    "    int (*f)(va_list, char *, int *, flags_t, length_mod_t, int);\n",
    "} conver_t;\n",
    "\n",
    "int _printf(const char *format, ...);\n",
    "int format_reciever(const char *format, conver_t f_list[], va_list arg_list, char *buffer, int *index);\n",
    "int _putchar(char c, char *buffer, int *index);\n",
    "char *convert(unsigned long int num, int base, int lowercase);\n",
    "flags_t parse_flags(const char *format, int *i);\n",
    "length_mod_t parse_length_mod(const char *format, int *i);\n",
    "int parse_width(const char *format, int *i, va_list arg_list);\n",
    "\n",
    "/* Function prototypes */\n",
    "int _printf(const char *format, ...);\n",
    "int print_char(va_list l, char *buf, int *i, flags_t, length_mod_t, int);\n",
    "int print_string(va_list l, char *buf, int *i, flags_t, length_mod_t, int);\n",
    "int print_percent(va_list l, char *buf, int *i, flags_t, length_mod_t, int);\n",
    "int print_integer(va_list l, char *buf, int *i, flags_t, length_mod_t, int);\n",
    "int print_unsigned(va_list l, char *buf, int *i, flags_t, length_mod_t, int);\n",
    "int print_binary(va_list l, char *buf, int *i, flags_t, length_mod_t, int);\n",
    "int print_octal(va_list l, char *buf, int *i, flags_t, length_mod_t, int);\n",
    "int print_hex(va_list l, char *buf, int *i, flags_t, length_mod_t, int);\n",
    "int print_HEX(va_list l, char *buf, int *i, flags_t, length_mod_t, int);\n",
    "int print_pointer(va_list l, char *buf, int *i, flags_t, length_mod_t, int);\n",
    "int print_reverse(va_list l, char *buf, int *i, flags_t, length_mod_t, int);\n",
    "int print_rot13(va_list l, char *buf, int *i, flags_t, length_mod_t, int);\n",
    "int print_non_printable(va_list l, char *buf, int *i, flags_t, length_mod_t, int);\n",
    "int print_special_string(va_list, char *, int *, flags_t, length_mod_t, int);\n",
    "\n",
    "#endif /* MAIN_H */\n"
   ]
  },
  {
   "cell_type": "code",
   "execution_count": 2,
   "metadata": {},
   "outputs": [
    {
     "name": "stdout",
     "output_type": "stream",
     "text": [
      "Overwriting /home/elkomy/alx/printf/parse_flags.c\n"
     ]
    }
   ],
   "source": [
    "%%file /home/elkomy/alx/printf/parse_flags.c\n",
    "#include \"main.h\"\n",
    "\n",
    "flags_t parse_flags(const char *format, int *i)\n",
    "{\n",
    "    flags_t flags = {0, 0, 0};\n",
    "\n",
    "    while (format[*i])\n",
    "    {\n",
    "        if (format[*i] == '+')\n",
    "            flags.plus = 1;\n",
    "        else if (format[*i] == ' ')\n",
    "            flags.space = 1;\n",
    "        else if (format[*i] == '#')\n",
    "            flags.hash = 1;\n",
    "        else\n",
    "            break;\n",
    "        (*i)++;\n",
    "    }\n",
    "\n",
    "    return flags;\n",
    "}"
   ]
  },
  {
   "cell_type": "code",
   "execution_count": 3,
   "metadata": {},
   "outputs": [
    {
     "name": "stdout",
     "output_type": "stream",
     "text": [
      "Overwriting /home/elkomy/alx/printf/parse_length_mod.c\n"
     ]
    }
   ],
   "source": [
    "%%file /home/elkomy/alx/printf/parse_length_mod.c\n",
    "#include \"main.h\"\n",
    "\n",
    "length_mod_t parse_length_mod(const char *format, int *i)\n",
    "{\n",
    "    length_mod_t length_mod = {0, 0};\n",
    "\n",
    "    if (format[*i] == 'l')\n",
    "    {\n",
    "        length_mod.l = 1;\n",
    "        (*i)++;\n",
    "    }\n",
    "    else if (format[*i] == 'h')\n",
    "    {\n",
    "        length_mod.h = 1;\n",
    "        (*i)++;\n",
    "    }\n",
    "\n",
    "    return length_mod;\n",
    "}"
   ]
  },
  {
   "cell_type": "code",
   "execution_count": 4,
   "metadata": {},
   "outputs": [
    {
     "name": "stdout",
     "output_type": "stream",
     "text": [
      "Overwriting /home/elkomy/alx/printf/parse_width.c\n"
     ]
    }
   ],
   "source": [
    "%%file /home/elkomy/alx/printf/parse_width.c\n",
    "#include \"main.h\"\n",
    "#include <ctype.h>\n",
    "\n",
    "/**\n",
    " * parse_width - Parses the width from the format string\n",
    " * @format: The format string\n",
    " * @i: Pointer to the current index in the format string\n",
    " * @arg_list: The list of arguments\n",
    " * Return: The width\n",
    " */\n",
    "int parse_width(const char *format, int *i, va_list arg_list)\n",
    "{\n",
    "    int width = 0;\n",
    "\n",
    "    if (isdigit(format[*i]))\n",
    "    {\n",
    "        while (isdigit(format[*i]))\n",
    "        {\n",
    "            width = width * 10 + (format[*i] - '0');\n",
    "            (*i)++;\n",
    "        }\n",
    "    }\n",
    "    else if (format[*i] == '*')\n",
    "    {\n",
    "        width = va_arg(arg_list, int);\n",
    "        (*i)++;\n",
    "    }\n",
    "\n",
    "    return (width);\n",
    "}"
   ]
  },
  {
   "cell_type": "code",
   "execution_count": null,
   "metadata": {},
   "outputs": [
    {
     "name": "stdout",
     "output_type": "stream",
     "text": [
      "Overwriting /home/elkomy/alx/printf/_printf.c\n"
     ]
    }
   ],
   "source": [
    "%%file /home/elkomy/alx/printf/_printf.c\n",
    "#include \"main.h\"\n",
    "#include <unistd.h>\n",
    "\n",
    "/**\n",
    "* _printf - Receives the main string and all the necessary parameters to\n",
    "* print a formatted string\n",
    "* @format: A string containing all the desired characters\n",
    "* Return: A total count of the characters printed\n",
    "*/\n",
    "int _printf(const char *format, ...)\n",
    "{\n",
    "va_list arg_list;\n",
    "int printed_chars = 0;\n",
    "char buffer[1024];\n",
    "int index = 0;\n",
    "\n",
    "conver_t f_list[] = {\n",
    "{\"%\", print_percent},\n",
    "{\"c\", print_char},\n",
    "{\"s\", print_string},\n",
    "{\"d\", print_integer},\n",
    "{\"i\", print_integer},\n",
    "{\"b\", print_binary},\n",
    "{\"u\", print_unsigned},\n",
    "{\"o\", print_octal},\n",
    "{\"x\", print_hex},\n",
    "{\"X\", print_HEX},\n",
    "{\"S\", print_special_string},\n",
    "{\"p\", print_pointer},\n",
    "{NULL, NULL}\n",
    "};\n",
    "\n",
    "va_start(arg_list, format);\n",
    "printed_chars = format_reciever(format, f_list, arg_list, buffer, &index);\n",
    "va_end(arg_list);\n",
    "\n",
    "buffer[index] = '\\0';\n",
    "write(1, buffer, index);\n",
    "\n",
    "return (printed_chars);\n",
    "}\n"
   ]
  },
  {
   "cell_type": "code",
   "execution_count": null,
   "metadata": {},
   "outputs": [
    {
     "name": "stdout",
     "output_type": "stream",
     "text": [
      "Overwriting /home/elkomy/alx/printf/format_reciever.c\n"
     ]
    }
   ],
   "source": [
    "%%file /home/elkomy/alx/printf/format_reciever.c\n",
    "#include \"main.h\"\n",
    "#include <stdio.h>\n",
    "\n",
    "/**\n",
    " * format_reciever - Receives the main string and necessary parameters to\n",
    " * print a formatted string\n",
    " * @format: A string containing all the desired characters\n",
    " * @f_list: List of format specifiers and their corresponding functions\n",
    " * @arg_list: List of arguments\n",
    " * @buffer: Buffer to store characters\n",
    " * @index: Current index in the buffer\n",
    " * Return: Number of characters printed\n",
    " */\n",
    "int format_reciever(const char *format, conver_t f_list[], va_list arg_list, char *buffer, int *index)\n",
    "{\n",
    "    int i = 0, j, printed_chars = 0;\n",
    "    flags_t flags;\n",
    "    length_mod_t length_mod;\n",
    "    int width;\n",
    "\n",
    "    while (format[i])\n",
    "    {\n",
    "        if (format[i] == '%')\n",
    "        {\n",
    "            i++;\n",
    "            flags = parse_flags(format, &i);\n",
    "            length_mod = parse_length_mod(format, &i);\n",
    "            width = parse_width(format, &i, arg_list);\n",
    "\n",
    "            for (j = 0; f_list[j].sym != NULL; j++)\n",
    "            {\n",
    "                if (format[i] == f_list[j].sym[0])\n",
    "                {\n",
    "                    printed_chars += f_list[j].f(arg_list, buffer, index, flags, length_mod, width);\n",
    "                    break;\n",
    "                }\n",
    "            }\n",
    "            if (f_list[j].sym == NULL)\n",
    "            {\n",
    "                _putchar('%', buffer, index);\n",
    "                _putchar(format[i], buffer, index);\n",
    "                printed_chars += 2;\n",
    "            }\n",
    "            i++;\n",
    "        }\n",
    "        else\n",
    "        {\n",
    "            _putchar(format[i], buffer, index);\n",
    "            printed_chars++;\n",
    "            i++;\n",
    "        }\n",
    "    }\n",
    "    return (printed_chars);\n",
    "}"
   ]
  },
  {
   "cell_type": "code",
   "execution_count": 5,
   "metadata": {},
   "outputs": [
    {
     "name": "stdout",
     "output_type": "stream",
     "text": [
      "Overwriting /home/elkomy/alx/printf/print_char.c\n"
     ]
    }
   ],
   "source": [
    "%%file /home/elkomy/alx/printf/print_char.c\n",
    "#include \"main.h\"\n",
    "#include <stdio.h>\n",
    "\n",
    "/**\n",
    " * print_char - Prints a character\n",
    " * @list: List of arguments\n",
    " * @buffer: Buffer to store characters\n",
    " * @index: Current index in the buffer\n",
    " * @flags: Flags for formatting\n",
    " * @length_mod: Length modifier for formatting\n",
    " * @width: Width for formatting\n",
    " * Return: Number of characters printed\n",
    " */\n",
    "int print_char(va_list list, char *buffer, int *index, flags_t flags, length_mod_t length_mod, int width)\n",
    "{\n",
    "    char c = va_arg(list, int);\n",
    "    int i;\n",
    "\n",
    "    (void)flags; /* Flags are not used for characters */\n",
    "    (void)length_mod;\n",
    "\n",
    "    if (width > 1)\n",
    "    {\n",
    "        for (i = 1; i < width; i++)\n",
    "        {\n",
    "            _putchar(' ', buffer, index);\n",
    "        }\n",
    "    }\n",
    "\n",
    "    buffer[*index] = c;\n",
    "    (*index)++;\n",
    "\n",
    "    return (width > 1 ? width : 1);\n",
    "}\n"
   ]
  },
  {
   "cell_type": "code",
   "execution_count": null,
   "metadata": {},
   "outputs": [
    {
     "name": "stdout",
     "output_type": "stream",
     "text": [
      "Overwriting /home/elkomy/alx/printf/convert.c\n"
     ]
    }
   ],
   "source": [
    "%%file /home/elkomy/alx/printf/convert.c\n",
    "#include \"main.h\"\n",
    "#include <stdlib.h>\n",
    "\n",
    "/**\n",
    " * convert - Converts a number to a string in the given base\n",
    " * @num: The number to be converted\n",
    " * @base: The base to convert to\n",
    " * @lowercase: Flag to determine if hex letters should be lowercase\n",
    " * Return: A pointer to the converted string (static buffer)\n",
    " */\n",
    "\n",
    "\n",
    "char *convert(unsigned long int num, int base, int lowercase)\n",
    "{\n",
    "    static char *rep;\n",
    "    static char buffer[50];\n",
    "    char *ptr;\n",
    "\n",
    "    rep = (lowercase) ? \"0123456789abcdef\" : \"0123456789ABCDEF\";\n",
    "    ptr = &buffer[49];\n",
    "    *ptr = '\\0';\n",
    "\n",
    "    do\n",
    "    {\n",
    "        *--ptr = rep[num % base];\n",
    "        num /= base;\n",
    "    } while (num != 0);\n",
    "\n",
    "    return (ptr);\n",
    "}\n"
   ]
  },
  {
   "cell_type": "code",
   "execution_count": 114,
   "metadata": {},
   "outputs": [
    {
     "name": "stdout",
     "output_type": "stream",
     "text": [
      "Overwriting /home/elkomy/alx/printf/print_string.c\n"
     ]
    }
   ],
   "source": [
    "%%file /home/elkomy/alx/printf/print_string.c\n",
    "#include \"main.h\"\n",
    "#include <stdio.h>\n",
    "#include <string.h>\n",
    "\n",
    "/**\n",
    " * print_string - Prints a string\n",
    " * @list: List of arguments\n",
    " * @buffer: Buffer to store characters\n",
    " * @index: Current index in the buffer\n",
    " * @flags: Flags for formatting\n",
    " * @length_mod: Length modifier for formatting\n",
    " * @width: Width for formatting\n",
    " * Return: Number of characters printed\n",
    " */\n",
    "int print_string(va_list list, char *buffer, int *index, flags_t flags, length_mod_t length_mod, int width)\n",
    "{\n",
    "    char *str = va_arg(list, char *);\n",
    "    int len, i, num_chars = 0;\n",
    "\n",
    "    (void)flags; /* Flags are not used for strings */\n",
    "    (void)length_mod;\n",
    "\n",
    "    if (str == NULL)\n",
    "        str = \"(null)\";\n",
    "\n",
    "    len = strlen(str);\n",
    "\n",
    "    if (width > len)\n",
    "    {\n",
    "        for (i = 0; i < width - len; i++)\n",
    "        {\n",
    "            _putchar(' ', buffer, index);\n",
    "            num_chars++;\n",
    "        }\n",
    "    }\n",
    "    \n",
    "    while (*str)\n",
    "    {\n",
    "        buffer[*index] = *str;\n",
    "        (*index)++;\n",
    "        str++;\n",
    "        num_chars++;\n",
    "    }\n",
    "\n",
    "    return (num_chars);\n",
    "}\n"
   ]
  },
  {
   "cell_type": "code",
   "execution_count": 115,
   "metadata": {},
   "outputs": [
    {
     "name": "stdout",
     "output_type": "stream",
     "text": [
      "Overwriting /home/elkomy/alx/printf/print_percent.c\n"
     ]
    }
   ],
   "source": [
    "%%file /home/elkomy/alx/printf/print_percent.c\n",
    "#include \"main.h\"\n",
    "#include <stdio.h>\n",
    "\n",
    "/**\n",
    " * print_percent - Prints a percent symbol\n",
    " * @list: List of arguments\n",
    " * @buffer: Buffer to store characters\n",
    " * @index: Current index in the buffer\n",
    " * @flags: Flags for formatting\n",
    " * @length_mod: Length modifier for formatting\n",
    " * @width: Width for formatting \n",
    " * Return: Number of characters printed\n",
    " */\n",
    "int print_percent(va_list list, char *buffer, int *index, flags_t flags,length_mod_t length_mod, int width )\n",
    "{\n",
    "    (void)list;\n",
    "    (void)flags; /* Flags are not used for percent */\n",
    "    (void)length_mod; \n",
    "\n",
    "\n",
    "  if (width > 1)  \n",
    "    {\n",
    "        int i;\n",
    "        for (i = 0; i < width - 1; i++)  \n",
    "        {\n",
    "            _putchar(' ', buffer, index);\n",
    "        }\n",
    "    }\n",
    "    buffer[*index] = '%';\n",
    "    (*index)++;\n",
    "\n",
    "  return (width > 1 ? width : 1);\n",
    "}\n"
   ]
  },
  {
   "cell_type": "code",
   "execution_count": 116,
   "metadata": {},
   "outputs": [
    {
     "name": "stdout",
     "output_type": "stream",
     "text": [
      "Overwriting /home/elkomy/alx/printf/print_integer.c\n"
     ]
    }
   ],
   "source": [
    "%%file /home/elkomy/alx/printf/print_integer.c\n",
    "\n",
    "\n",
    "#include \"main.h\"\n",
    "#include <stdlib.h>  /* Include stdlib.h for malloc */\n",
    "#include <string.h>\n",
    "\n",
    "/* Helper function to implement itoa since it's not standard in C */\n",
    "void itoa(int num, char *str, int base) {\n",
    "    int i = 0;\n",
    "    int is_negative = 0;\n",
    "    int start, end;\n",
    "\n",
    "    /* Handle 0 explicitly, otherwise empty string is printed for 0 */\n",
    "    if (num == 0) {\n",
    "        str[i++] = '0';\n",
    "        str[i] = '\\0';\n",
    "        return;\n",
    "    }\n",
    "\n",
    "    /* Handle negative numbers for base 10 */\n",
    "    if (num < 0 && base == 10) {\n",
    "        is_negative = 1;\n",
    "        num = -num;\n",
    "    }\n",
    "\n",
    "    /* Process individual digits */\n",
    "    while (num != 0) {\n",
    "        int rem = num % base;\n",
    "        str[i++] = (rem > 9) ? (rem - 10) + 'a' : rem + '0';\n",
    "        num = num / base;\n",
    "    }\n",
    "\n",
    "    /* Append '-' for negative numbers */\n",
    "    if (is_negative) {\n",
    "        str[i++] = '-';\n",
    "    }\n",
    "\n",
    "    str[i] = '\\0';\n",
    "\n",
    "    /* Reverse the string */\n",
    "    start = 0;\n",
    "    end = i - 1;\n",
    "    while (start < end) {\n",
    "        char temp = str[start];\n",
    "        str[start] = str[end];\n",
    "        str[end] = temp;\n",
    "        start++;\n",
    "        end--;\n",
    "    }\n",
    "}\n",
    "\n",
    "/**\n",
    " * print_integer - Prints an integer\n",
    " * @list: List of arguments\n",
    " * @buffer: Buffer to store characters\n",
    " * @index: Current index in the buffer\n",
    " * @flags: Flags for formatting\n",
    " * @length_mod: Length modifier for formatting\n",
    " * @width: Width for formatting\n",
    " * Return: Number of characters printed\n",
    " */\n",
    "int print_integer(va_list list, char *buffer, int *index, flags_t flags, length_mod_t length_mod, int width)\n",
    "{\n",
    "    long int num;\n",
    "    char str[21]; /* Enough to hold long int in base 10 with sign */\n",
    "    int i = 0, num_chars = 0;\n",
    "    int len;\n",
    "\n",
    "    if (length_mod.l)\n",
    "        num = va_arg(list, long int);\n",
    "    else if (length_mod.h)\n",
    "        num = (short int)va_arg(list, int);\n",
    "    else\n",
    "        num = va_arg(list, int);\n",
    "\n",
    "    itoa(num, str, 10);\n",
    "\n",
    "    /* Handle width */\n",
    "    len = strlen(str);\n",
    "    if (width > len)\n",
    "    {\n",
    "        int pad = width - len;\n",
    "        if (flags.plus || flags.space)\n",
    "        {\n",
    "            pad--;\n",
    "        }\n",
    "        for (i = 0; i < pad; i++)\n",
    "        {\n",
    "            _putchar(' ', buffer, index);\n",
    "        }\n",
    "    }\n",
    "\n",
    "    /* Handle the space and plus flags */\n",
    "    if (flags.plus && num >= 0)\n",
    "    {\n",
    "        _putchar('+', buffer, index);\n",
    "        num_chars++;\n",
    "    }\n",
    "    else if (flags.space && num >= 0)\n",
    "    {\n",
    "        _putchar(' ', buffer, index);\n",
    "        num_chars++;\n",
    "    }\n",
    "\n",
    "    i = 0;  /* Reset i to 0 for the next loop */\n",
    "    while (str[i])\n",
    "    {\n",
    "        _putchar(str[i], buffer, index);\n",
    "        i++;\n",
    "        num_chars++;\n",
    "    }\n",
    "\n",
    "    return (num_chars + (width > len ? width - len : 0));\n",
    "}\n"
   ]
  },
  {
   "cell_type": "code",
   "execution_count": 117,
   "metadata": {},
   "outputs": [
    {
     "name": "stdout",
     "output_type": "stream",
     "text": [
      "Overwriting /home/elkomy/alx/printf/print_binary.c\n"
     ]
    }
   ],
   "source": [
    "%%file /home/elkomy/alx/printf/print_binary.c\n",
    "#include \"main.h\"\n",
    "#include <stdio.h>\n",
    "#include <string.h>\n",
    "\n",
    "/**\n",
    " * print_binary - Prints a number in binary\n",
    " * @list: List of arguments\n",
    " * @buffer: Buffer to store characters\n",
    " * @index: Current index in the buffer\n",
    " * @flags: Flags for formatting\n",
    " * @length_mod: Length modifier for formatting\n",
    " * @width: Width for formatting\n",
    " * Return: Number of characters printed\n",
    " */\n",
    "int print_binary(va_list list, char *buffer, int *index, flags_t flags, length_mod_t length_mod, int width)\n",
    "{\n",
    "    unsigned int num = va_arg(list, unsigned int);\n",
    "    int num_chars = 0;\n",
    "    char *str = convert(num, 2, 0);\n",
    "\n",
    "    (void)flags; /* Flags are not used for binary */\n",
    "    (void)length_mod;\n",
    "    while (*str)\n",
    "    {\n",
    "        buffer[*index] = *str;\n",
    "        (*index)++;\n",
    "        str++;\n",
    "        num_chars++;\n",
    "    }\n",
    "\n",
    "     if (width > (int)strlen(str))  \n",
    "    {\n",
    "        int i;\n",
    "        for (i = 0; i < width - (int)strlen(str); i++)  \n",
    "        {\n",
    "            _putchar(' ', buffer, index);\n",
    "        }\n",
    "    }\n",
    "\n",
    "    return (num_chars);\n",
    "}\n"
   ]
  },
  {
   "cell_type": "code",
   "execution_count": 151,
   "metadata": {},
   "outputs": [
    {
     "name": "stdout",
     "output_type": "stream",
     "text": [
      "Overwriting /home/elkomy/alx/printf/print_unsigned.c\n"
     ]
    }
   ],
   "source": [
    "%%file /home/elkomy/alx/printf/print_unsigned.c\n",
    "#include \"main.h\"\n",
    "#include <stdio.h>\n",
    "#include <string.h>\n",
    "\n",
    "/**\n",
    " * print_unsigned - Prints an unsigned integer\n",
    " * @list: List of arguments\n",
    " * @buffer: Buffer to store characters\n",
    " * @index: Current index in the buffer\n",
    " * @flags: Flags for formatting\n",
    " * @length_mod: Length modifier for formatting\n",
    " * @width: Width for formatting\n",
    " * Return: Number of characters printed\n",
    " */\n",
    "int print_unsigned(va_list list, char *buffer, int *index, flags_t flags, length_mod_t length_mod, int width)\n",
    "{\n",
    "    unsigned long int num;\n",
    "    int num_chars = 0;\n",
    "    char *str;\n",
    "\n",
    "    (void)flags; /* Suppress unused parameter warning */\n",
    "    (void)width; /* Suppress unused parameter warning */\n",
    "\n",
    "    if (length_mod.l)\n",
    "        num = va_arg(list, unsigned long int);\n",
    "    else if (length_mod.h)\n",
    "        num = (unsigned short int)va_arg(list, unsigned int);\n",
    "    else\n",
    "        num = va_arg(list, unsigned int);\n",
    "\n",
    "    str = convert(num, 10, 0);\n",
    "\n",
    "    if (width > (int)strlen(str))  \n",
    "    {\n",
    "        int i;\n",
    "        for (i = 0; i < width - (int)strlen(str); i++)  \n",
    "        {\n",
    "            _putchar(' ', buffer, index);\n",
    "            num_chars++;\n",
    "        }\n",
    "    }\n",
    "\n",
    "    while (*str)\n",
    "    {\n",
    "        buffer[*index] = *str;\n",
    "        (*index)++;\n",
    "        str++;\n",
    "        num_chars++;\n",
    "    }\n",
    "\n",
    "    return num_chars;\n",
    "}\n"
   ]
  },
  {
   "cell_type": "code",
   "execution_count": 152,
   "metadata": {},
   "outputs": [
    {
     "name": "stdout",
     "output_type": "stream",
     "text": [
      "Overwriting /home/elkomy/alx/printf/print_octal.c\n"
     ]
    }
   ],
   "source": [
    "%%file /home/elkomy/alx/printf/print_octal.c\n",
    "#include \"main.h\"\n",
    "#include <stdio.h>\n",
    "#include <string.h>\n",
    "\n",
    "/**\n",
    " * print_octal - Prints a number in octal\n",
    " * @list: List of arguments\n",
    " * @buffer: Buffer to store characters\n",
    " * @index: Current index in the buffer\n",
    " * @flags: Flags for formatting\n",
    " * @length_mod: Length modifier for formatting\n",
    " * @width: Width for formatting\n",
    " * Return: Number of characters printed\n",
    " */\n",
    "int print_octal(va_list list, char *buffer, int *index, flags_t flags, length_mod_t length_mod, int width)\n",
    "{\n",
    "    unsigned long int num ;\n",
    "    char *str;\n",
    "    int num_chars = 0, len, i;\n",
    "    \n",
    "\n",
    "    if (length_mod.l)\n",
    "        num = va_arg(list, unsigned long int);\n",
    "    else if (length_mod.h)\n",
    "        num = (unsigned short int)va_arg(list, unsigned int);\n",
    "    else\n",
    "        num = va_arg(list, unsigned int);\n",
    "\n",
    "    str = convert(num, 8, 0);\n",
    "    len = strlen(str);\n",
    "\n",
    "    if (flags.hash && num != 0)\n",
    "    {\n",
    "         _putchar('0', buffer, index);\n",
    "        num_chars++;\n",
    "        if (width > 0)\n",
    "            width--;\n",
    "    }\n",
    "\n",
    "   \n",
    "    if (width > len)\n",
    "    {\n",
    "        for (i = 0; i < width - len; i++)\n",
    "        {\n",
    "            _putchar(' ', buffer, index);\n",
    "            num_chars++;\n",
    "        }\n",
    "    }\n",
    "\n",
    "    while (*str)\n",
    "    {\n",
    "        buffer[*index] = *str;\n",
    "        (*index)++;\n",
    "        str++;\n",
    "        num_chars++;\n",
    "    }\n",
    "\n",
    "    return (num_chars);\n",
    "}\n"
   ]
  },
  {
   "cell_type": "code",
   "execution_count": 153,
   "metadata": {},
   "outputs": [
    {
     "name": "stdout",
     "output_type": "stream",
     "text": [
      "Overwriting /home/elkomy/alx/printf/print_hex.c\n"
     ]
    }
   ],
   "source": [
    "%%file /home/elkomy/alx/printf/print_hex.c\n",
    "#include \"main.h\"\n",
    "#include <stdio.h>\n",
    "#include <string.h>\n",
    "\n",
    "/**\n",
    " * print_hex - Prints a number in hexadecimal (lowercase)\n",
    " * @list: List of arguments\n",
    " * @buffer: Buffer to store characters\n",
    " * @index: Current index in the buffer\n",
    " * @flags: Flags for formatting\n",
    " * @length_mod: Length modifier for formatting\n",
    " * @width: Width for formatting\n",
    " * Return: Number of characters printed\n",
    " */\n",
    "int print_hex(va_list list, char *buffer, int *index, flags_t flags, length_mod_t length_mod, int width)\n",
    "{\n",
    "    unsigned long int num;\n",
    "    char *str;\n",
    "    int num_chars = 0, len, i;\n",
    "\n",
    "    if (length_mod.l)\n",
    "        num = va_arg(list, unsigned long int);\n",
    "    else if (length_mod.h)\n",
    "        num = (unsigned short int)va_arg(list, unsigned int);\n",
    "    else\n",
    "        num = va_arg(list,unsigned int);\n",
    "\n",
    "    str = convert(num, 16, 1); \n",
    "    len = strlen(str);\n",
    "\n",
    "    if (flags.hash && num != 0)\n",
    "    {\n",
    "      _putchar('0', buffer, index);\n",
    "      _putchar('x', buffer, index);\n",
    "      num_chars += 2;\n",
    "     if (width > 0)\n",
    "        width -= 2;\n",
    "    }\n",
    "\n",
    "\n",
    "    if (width > (int)strlen(str)) \n",
    "    {\n",
    "        \n",
    "        for (i = 0; i < width - len; i++)\n",
    "        {\n",
    "            _putchar(' ', buffer, index);\n",
    "            num_chars++;\n",
    "        }\n",
    "    }\n",
    "\n",
    "    while (*str)\n",
    "    {\n",
    "        buffer[*index] = *str;\n",
    "        (*index)++;\n",
    "        str++;\n",
    "        num_chars++;\n",
    "    }\n",
    "\n",
    "    return (num_chars);\n",
    "}\n"
   ]
  },
  {
   "cell_type": "code",
   "execution_count": 154,
   "metadata": {},
   "outputs": [
    {
     "name": "stdout",
     "output_type": "stream",
     "text": [
      "Overwriting /home/elkomy/alx/printf/print_HEX.c\n"
     ]
    }
   ],
   "source": [
    "%%file /home/elkomy/alx/printf/print_HEX.c\n",
    "\n",
    "#include \"main.h\"\n",
    "#include <stdio.h>\n",
    "#include <string.h>\n",
    "\n",
    "/**\n",
    " * print_HEX - Prints a number in hexadecimal (uppercase)\n",
    " * @list: List of arguments\n",
    " * @buffer: Buffer to store characters\n",
    " * @index: Current index in the buffer\n",
    " * @flags: Flags for formatting\n",
    " * @length_mod: Length modifier for formatting\n",
    " * @width: width for formatting\n",
    " * Return: Number of characters printed\n",
    " */\n",
    "int print_HEX(va_list list, char *buffer, int *index, flags_t flags, length_mod_t length_mod, int width)\n",
    "{\n",
    "    unsigned long int num;\n",
    "     char *str;\n",
    "    int num_chars = 0, len ,i;\n",
    "   \n",
    "\n",
    "    if (length_mod.l)\n",
    "        num = va_arg(list, unsigned long int);\n",
    "    else if (length_mod.h)\n",
    "        num = (unsigned short int)va_arg(list, unsigned int);\n",
    "    else\n",
    "        num = va_arg(list, unsigned int);\n",
    "\n",
    "    str = convert(num, 16, 0);\n",
    "    len = strlen(str);\n",
    "\n",
    "    if (flags.hash && num != 0)\n",
    "    {\n",
    "    _putchar('0', buffer, index);\n",
    "    _putchar('X', buffer, index);\n",
    "    num_chars += 2;\n",
    "    if (width > 0)\n",
    "        width -= 2;\n",
    "    }\n",
    "\n",
    "\n",
    "    if (width > len)\n",
    "    {\n",
    "       for (i = 0; i < width - len; i++)\n",
    "    {\n",
    "            _putchar(' ', buffer, index);\n",
    "            num_chars++;\n",
    "    }\n",
    "    }\n",
    "\n",
    "    while (*str)\n",
    "    {\n",
    "        buffer[*index] = *str;\n",
    "        (*index)++;\n",
    "        str++;\n",
    "        num_chars++;\n",
    "    }\n",
    "\n",
    "    return (num_chars);\n",
    "}"
   ]
  },
  {
   "cell_type": "code",
   "execution_count": 155,
   "metadata": {},
   "outputs": [
    {
     "name": "stdout",
     "output_type": "stream",
     "text": [
      "Overwriting /home/elkomy/alx/printf/print_reverse.c\n"
     ]
    }
   ],
   "source": [
    "%%file /home/elkomy/alx/printf/print_reverse.c\n",
    "#include \"main.h\"\n",
    "#include <stdio.h>\n",
    "#include <string.h>\n",
    "\n",
    "/**\n",
    " * print_reverse - Prints a string in reverse\n",
    " * @list: List of arguments\n",
    " * @buffer: Buffer to store characters\n",
    " * @index: Current index in the buffer\n",
    " * @flags: Flags for formatting\n",
    " * @length_mod: Length modifier for formatting \n",
    " * @width: Width for formatting\n",
    " * Return: Number of characters printed\n",
    " */\n",
    "\n",
    "int print_reverse(va_list list, char *buffer, int *index, flags_t flags, length_mod_t length_mod, int width)\n",
    "{\n",
    "    char *str = va_arg(list, char *);\n",
    "    int len, i, num_chars = 0;\n",
    "\n",
    "    (void)flags; /* Flags are not used for strings */\n",
    "    (void)length_mod;\n",
    "\n",
    "    if (str == NULL)\n",
    "        str = \"(null)\";\n",
    "\n",
    "    len = strlen(str);\n",
    "\n",
    "    if (width > len) \n",
    "    {\n",
    "        for (i = 0; i < width - len; i++)  \n",
    "        {\n",
    "            _putchar(' ', buffer, index);\n",
    "            num_chars++;\n",
    "        }\n",
    "    }\n",
    "\n",
    "    for (i = len - 1; i >= 0; i--)\n",
    "    {\n",
    "        _putchar(str[i], buffer, index);\n",
    "        num_chars++;\n",
    "    }\n",
    "\n",
    "    return (num_chars);\n",
    "}\n"
   ]
  },
  {
   "cell_type": "code",
   "execution_count": 156,
   "metadata": {},
   "outputs": [
    {
     "name": "stdout",
     "output_type": "stream",
     "text": [
      "Overwriting /home/elkomy/alx/printf/print_rot13.c\n"
     ]
    }
   ],
   "source": [
    "%%file /home/elkomy/alx/printf/print_rot13.c\n",
    "#include \"main.h\"\n",
    "#include <stdio.h>\n",
    "#include <string.h>\n",
    "\n",
    "/**\n",
    " * print_rot13 - Encodes a string using rot13 and prints it\n",
    " * @list: List of arguments\n",
    " * @buffer: Buffer to store characters\n",
    " * @index: Current index in the buffer\n",
    " * @flags: Flags for formatting\n",
    " * @length_mod: Length modifier for formatting\n",
    " * @width: Width for formatting\n",
    " * Return: Number of characters printed\n",
    " */\n",
    "int print_rot13(va_list list, char *buffer, int *index, flags_t flags, length_mod_t length_mod, int width)\n",
    "{\n",
    "    char *str = va_arg(list, char *);\n",
    "    char in[] = \"ABCDEFGHIJKLMNOPQRSTUVWXYZabcdefghijklmnopqrstuvwxyz\";\n",
    "    char out[] = \"NOPQRSTUVWXYZABCDEFGHIJKLMnopqrstuvwxyzabcdefghijklm\";\n",
    "    int len, i, j, num_chars = 0;\n",
    "\n",
    "    (void)flags; /* Flags are not used for rot13 */\n",
    "    (void)length_mod;\n",
    "\n",
    "    if (str == NULL)\n",
    "        str = \"(null)\";\n",
    "\n",
    "    len = strlen(str);\n",
    "\n",
    "    if (width > len)\n",
    "    {\n",
    "        for (i = 0; i < width - len; i++)\n",
    "        {\n",
    "            _putchar(' ', buffer, index);\n",
    "            num_chars++;\n",
    "        }\n",
    "    }\n",
    "\n",
    "    while (*str)\n",
    "    {\n",
    "        for (j = 0; j < 52; j++)\n",
    "        {\n",
    "            if (*str == in[j])\n",
    "            {\n",
    "                buffer[*index] = out[j];\n",
    "                (*index)++;\n",
    "                num_chars++;\n",
    "                break;\n",
    "            }\n",
    "        }\n",
    "        if (j == 52)\n",
    "        {\n",
    "            buffer[*index] = *str;\n",
    "            (*index)++;\n",
    "            num_chars++;\n",
    "        }\n",
    "        str++;\n",
    "    }\n",
    "\n",
    "    return (num_chars);\n",
    "}\n"
   ]
  },
  {
   "cell_type": "code",
   "execution_count": 157,
   "metadata": {},
   "outputs": [
    {
     "name": "stdout",
     "output_type": "stream",
     "text": [
      "Overwriting /home/elkomy/alx/printf/print_non_printable.c\n"
     ]
    }
   ],
   "source": [
    "%%file /home/elkomy/alx/printf/print_non_printable.c\n",
    "#include \"main.h\"\n",
    "#include <stdio.h>\n",
    "#include <string.h>\n",
    "\n",
    "/**\n",
    " * print_non_printable - Prints a string with non-printable characters in hex\n",
    " * @list: List of arguments\n",
    " * @buffer: Buffer to store characters\n",
    " * @index: Current index in the buffer\n",
    " * @flags: Flags for formatting\n",
    " * @length_mod: Length modifier for formatting\n",
    " * @width: Width for formatting\n",
    " * Return: Number of characters printed\n",
    " */\n",
    "int print_non_printable(va_list list, char *buffer, int *index, flags_t flags, length_mod_t length_mod, int width)\n",
    "{\n",
    "    char *str = va_arg(list, char *);\n",
    "    char hex[5];\n",
    "    int len, i, num_chars = 0;\n",
    "\n",
    "    (void)flags; /* Flags are not used for non-printable characters */\n",
    "    (void)length_mod;\n",
    "\n",
    "    if (str == NULL)\n",
    "        str = \"(null)\";\n",
    "\n",
    "    len = strlen(str);\n",
    "\n",
    "    if (width > len)\n",
    "    {\n",
    "        for (i = 0; i < width - len; i++)\n",
    "        {\n",
    "            _putchar(' ', buffer, index);\n",
    "            num_chars++;\n",
    "        }\n",
    "    }\n",
    "\n",
    "    while (*str)\n",
    "    {\n",
    "        if (*str < 32 || *str >= 127)\n",
    "        {\n",
    "            sprintf(hex, \"\\\\x%02X\", (unsigned char)*str);\n",
    "            for (i = 0; hex[i]; i++)\n",
    "            {\n",
    "                buffer[*index] = hex[i];\n",
    "                (*index)++;\n",
    "                num_chars++;\n",
    "            }\n",
    "        }\n",
    "        else\n",
    "        {\n",
    "            buffer[*index] = *str;\n",
    "            (*index)++;\n",
    "            num_chars++;\n",
    "        }\n",
    "        str++;\n",
    "    }\n",
    "\n",
    "    return (num_chars);\n",
    "}"
   ]
  },
  {
   "cell_type": "code",
   "execution_count": 158,
   "metadata": {},
   "outputs": [
    {
     "name": "stdout",
     "output_type": "stream",
     "text": [
      "Overwriting /home/elkomy/alx/printf/print_special_string.c\n"
     ]
    }
   ],
   "source": [
    "%%file /home/elkomy/alx/printf/print_special_string.c\n",
    "#include \"main.h\"\n",
    "#include <stdio.h>\n",
    "\n",
    "/**\n",
    " * print_special_string - Prints a special string with non-printable characters\n",
    " * @list: List of arguments\n",
    " * @buffer: Buffer to store characters\n",
    " * @index: Current index in the buffer\n",
    " * @flags: Flags for formatting\n",
    " * @length_mod: Length modifier for formatting\n",
    " * @width: Width for formatting\n",
    " * Return: Number of characters printed\n",
    " */\n",
    "int print_special_string(va_list list, char *buffer, int *index, flags_t flags, length_mod_t length_mod, int width)\n",
    "{\n",
    "    char *str = va_arg(list, char *);\n",
    "    int i = 0, count = 0;\n",
    "\n",
    "    (void)flags; /* Suppress unused parameter warning */\n",
    "    (void)length_mod;\n",
    "    (void)width;\n",
    "\n",
    "    if (str == NULL)\n",
    "        str = \"(null)\";\n",
    "\n",
    "    while (str[i])\n",
    "    {\n",
    "        if ((str[i] > 0 && str[i] < 32) || str[i] >= 127)\n",
    "        {\n",
    "            count += sprintf(&buffer[*index], \"\\\\x%02X\", (unsigned char)str[i]);\n",
    "            *index += 4;\n",
    "        }\n",
    "        else\n",
    "        {\n",
    "            _putchar(str[i], buffer, index);\n",
    "            count++;\n",
    "        }\n",
    "        i++;\n",
    "    }\n",
    "\n",
    "    return (count);\n",
    "}\n"
   ]
  },
  {
   "cell_type": "code",
   "execution_count": 159,
   "metadata": {},
   "outputs": [
    {
     "name": "stdout",
     "output_type": "stream",
     "text": [
      "Overwriting /home/elkomy/alx/printf/print_pointer.c\n"
     ]
    }
   ],
   "source": [
    "%%file /home/elkomy/alx/printf/print_pointer.c\n",
    "#include \"main.h\"\n",
    "#include <stdio.h>\n",
    "#include <string.h>\n",
    "\n",
    "/**\n",
    " * print_pointer - Prints a pointer address\n",
    " * @list: List of arguments\n",
    " * @buffer: Buffer to store characters\n",
    " * @index: Current index in the buffer\n",
    " * @flags: Flags for formatting\n",
    " * @length_mod: Length modifier for formatting\n",
    " * @width: Width for formatting\n",
    " * Return: Number of characters printed\n",
    " */\n",
    "int print_pointer(va_list list, char *buffer, int *index, flags_t flags, length_mod_t length_mod, int width)\n",
    "{\n",
    "    void *ptr = va_arg(list, void *);\n",
    "    unsigned long int addr = (unsigned long int)ptr;\n",
    "    char hex[17];\n",
    "    int i, digit, num_chars = 2; \n",
    "\n",
    "    (void)flags; /* Suppress unused parameter warning */\n",
    "    (void)length_mod;\n",
    "\n",
    "    _putchar('0', buffer, index);\n",
    "    _putchar('x', buffer, index);\n",
    "\n",
    "    i = 15;\n",
    "    while (addr)\n",
    "    {\n",
    "        digit = addr % 16;\n",
    "        hex[i--] = (digit < 10) ? digit + '0' : digit - 10 + 'a';\n",
    "        addr /= 16;\n",
    "    }\n",
    "    i++;\n",
    "    while (i < 16)\n",
    "    {\n",
    "        _putchar(hex[i++], buffer, index);\n",
    "        num_chars++;\n",
    "    }\n",
    "\n",
    "    /* Handle width */\n",
    "    if (width > num_chars)\n",
    "    {\n",
    "        for (i = 0; i < width - num_chars; i++)\n",
    "        {\n",
    "            _putchar(' ', buffer, index);\n",
    "            num_chars++;\n",
    "        }\n",
    "    }\n",
    "\n",
    "    return num_chars;\n",
    "}"
   ]
  },
  {
   "cell_type": "code",
   "execution_count": 160,
   "metadata": {},
   "outputs": [
    {
     "name": "stdout",
     "output_type": "stream",
     "text": [
      "Overwriting /home/elkomy/alx/printf/tests/main.c\n"
     ]
    }
   ],
   "source": [
    "%%file /home/elkomy/alx/printf/tests/main.c\n",
    "#include <limits.h>\n",
    "#include <stdio.h>\n",
    "#include \"main.h\"\n",
    "\n",
    "/**\n",
    " * main - Entry point\n",
    " *\n",
    " * Return: Always 0\n",
    " */\n",
    "int main(void)\n",
    "{\n",
    "    int len;\n",
    "    int len2;\n",
    "    unsigned int ui;\n",
    "    void *addr;\n",
    "\n",
    "    len = _printf(\"Let's try to printf a simple sentence.\\n\");\n",
    "    len2 = printf(\"Let's try to printf a simple sentence.\\n\");\n",
    "    ui = (unsigned int)INT_MAX + 1024;\n",
    "    addr = (void *)0x7ffe637541f0;\n",
    "    _printf(\"Length:[%d, %i]\\n\", len, len);\n",
    "    printf(\"Length:[%d, %i]\\n\", len2, len2);\n",
    "    _printf(\"Negative:[%d]\\n\", -762534);\n",
    "    printf(\"Negative:[%d]\\n\", -762534);\n",
    "    _printf(\"Unsigned:[%u]\\n\", ui);\n",
    "    printf(\"Unsigned:[%u]\\n\", ui);\n",
    "    _printf(\"Unsigned octal:[%o]\\n\", ui);\n",
    "    printf(\"Unsigned octal:[%o]\\n\", ui);\n",
    "    _printf(\"Unsigned hexadecimal:[%x, %X]\\n\", ui, ui);\n",
    "    printf(\"Unsigned hexadecimal:[%x, %X]\\n\", ui, ui);\n",
    "    _printf(\"Character:[%c]\\n\", 'H');\n",
    "    printf(\"Character:[%c]\\n\", 'H');\n",
    "    _printf(\"String:[%s]\\n\", \"I am a string !\");\n",
    "    printf(\"String:[%s]\\n\", \"I am a string !\");\n",
    "    _printf(\"Address:[%p]\\n\", addr);\n",
    "    printf(\"Address:[%p]\\n\", addr);\n",
    "    len = _printf(\"Percent:[%%]\\n\");\n",
    "    len2 = printf(\"Percent:[%%]\\n\");\n",
    "    _printf(\"Len:[%d]\\n\", len);\n",
    "    printf(\"Len:[%d]\\n\", len2);\n",
    "    _printf(\"Unknown:[%r]\\n\");\n",
    "    printf(\"Unknown:[%r]\\n\");\n",
    "    return (0);\n",
    "}"
   ]
  },
  {
   "cell_type": "code",
   "execution_count": 161,
   "metadata": {},
   "outputs": [
    {
     "name": "stdout",
     "output_type": "stream",
     "text": [
      "\n",
      "========== /home/elkomy/alx/printf/_printf.c ==========\n",
      "_printf\n",
      "Let's try to printf a simple sentence.\n",
      "Let's try to printf a simple sentence.\n",
      "Length:[39, 39]\n",
      "Length:[39, 39]\n",
      "Negative:[-762534]\n",
      "Negative:[-762534]\n",
      "Unsigned:[2147484671]\n",
      "Unsigned:[2147484671]\n",
      "Unsigned octal:[20000001777]\n",
      "Unsigned octal:[20000001777]\n",
      "Unsigned hexadecimal:[800003ff, 800003FF]\n",
      "Unsigned hexadecimal:[800003ff, 800003FF]\n",
      "Character:[H]\n",
      "Character:[H]\n",
      "String:[I am a string !]\n",
      "String:[I am a string !]\n",
      "Address:[0x7ffe637541f0]\n",
      "Address:[0x7ffe637541f0]\n",
      "Percent:[%]\n",
      "Percent:[%]\n",
      "Len:[12]\n",
      "Len:[12]\n",
      "Unknown:[%r]\n",
      "Unknown:[%r]\n"
     ]
    }
   ],
   "source": [
    "\n",
    "!betty /home/elkomy/alx/printf/_printf.c\n",
    "!gcc -Wall -Werror -Wextra -pedantic -std=gnu89 -Wno-format /home/elkomy/alx/printf/*.c /home/elkomy/alx/printf/tests/main.c -o /home/elkomy/alx/printf/printf\n",
    "!./printf\n"
   ]
  },
  {
   "cell_type": "code",
   "execution_count": 162,
   "metadata": {},
   "outputs": [
    {
     "name": "stdout",
     "output_type": "stream",
     "text": [
      "[main 7807a39] alx-low_level_programming/0x0D-preprocessor/0-putchar\n",
      " 6 files changed, 26 insertions(+), 20 deletions(-)\n",
      " rewrite printf (70%)\n"
     ]
    },
    {
     "name": "stderr",
     "output_type": "stream",
     "text": [
      "To https://github.com/elkomysara/printf\n",
      "   a8ac785..7807a39  main -> main\n"
     ]
    }
   ],
   "source": [
    "%%bash\n",
    "git add .\n",
    "git commit -m \"alx-low_level_programming/0x0D-preprocessor/0-putchar\"\n",
    "git push"
   ]
  },
  {
   "cell_type": "code",
   "execution_count": null,
   "metadata": {},
   "outputs": [],
   "source": []
  },
  {
   "cell_type": "markdown",
   "metadata": {},
   "source": [
    "###\n",
    "---\n",
    "<center>\n",
    "<h4>10. The negative is the equivalent of the composer's score, and the print the performance</h4>\n",
    "</center>\n",
    "\n",
    "---"
   ]
  },
  {
   "cell_type": "markdown",
   "metadata": {},
   "source": [
    "\n",
    "#### Handle the precision for non-custom conversion specifiers.\n",
    "\n",
    "#### Repo:\n",
    "* GitHub repository: ``` printf```"
   ]
  },
  {
   "cell_type": "code",
   "execution_count": 206,
   "metadata": {},
   "outputs": [
    {
     "name": "stdout",
     "output_type": "stream",
     "text": [
      "Overwriting /home/elkomy/alx/printf/format_reciever.c\n"
     ]
    }
   ],
   "source": [
    "%%file /home/elkomy/alx/printf/format_reciever.c\n",
    "#include \"main.h\"\n",
    "#include <stdio.h>\n",
    "\n",
    "/**\n",
    " * format_reciever - Receives the main string and necessary parameters to\n",
    " * print a formatted string\n",
    " * @format: A string containing all the desired characters\n",
    " * @f_list: List of format specifiers and their corresponding functions\n",
    " * @arg_list: List of arguments\n",
    " * @buffer: Buffer to store characters\n",
    " * @index: Current index in the buffer\n",
    " * Return: Number of characters printed\n",
    " */\n",
    " \n",
    "int format_reciever(const char *format, conver_t f_list[], va_list arg_list, char *buffer, int *index)\n",
    "{\n",
    "    int i = 0, j, printed_chars = 0;\n",
    "    flags_t flags;\n",
    "    length_mod_t length_mod;\n",
    "    int width, precision;\n",
    "\n",
    "    while (format[i])\n",
    "    {\n",
    "        if (format[i] == '%')\n",
    "        {\n",
    "            i++;\n",
    "            flags = parse_flags(format, &i);\n",
    "            length_mod = parse_length_mod(format, &i);\n",
    "            width = parse_width(format, &i, arg_list);\n",
    "            precision = parse_precision(format, &i); /* Parse precision */\n",
    "\n",
    "            for (j = 0; f_list[j].sym != NULL; j++)\n",
    "            {\n",
    "                if (format[i] == f_list[j].sym[0])\n",
    "                {\n",
    "                    printed_chars += f_list[j].f(arg_list, buffer, index, flags, length_mod, width, precision);\n",
    "                    break;\n",
    "                }\n",
    "            }\n",
    "            if (f_list[j].sym == NULL)\n",
    "            {\n",
    "                _putchar('%', buffer, index);\n",
    "                _putchar(format[i], buffer, index);\n",
    "                printed_chars += 2;\n",
    "            }\n",
    "            i++;\n",
    "        }\n",
    "        else\n",
    "        {\n",
    "            _putchar(format[i], buffer, index);\n",
    "            printed_chars++;\n",
    "            i++;\n",
    "        }\n",
    "    }\n",
    "    return (printed_chars);\n",
    "}"
   ]
  },
  {
   "cell_type": "code",
   "execution_count": 75,
   "metadata": {},
   "outputs": [
    {
     "name": "stdout",
     "output_type": "stream",
     "text": [
      "Overwriting /home/elkomy/alx/printf/_printf.c\n"
     ]
    }
   ],
   "source": [
    "%%file /home/elkomy/alx/printf/_printf.c\n",
    "#include \"main.h\"\n",
    "#include <unistd.h>\n",
    "\n",
    "/**\n",
    "* _printf - Receives the main string and all the necessary parameters to\n",
    "* print a formatted string\n",
    "* @format: A string containing all the desired characters\n",
    "* Return: A total count of the characters printed\n",
    "*/\n",
    "int _printf(const char *format, ...)\n",
    "{\n",
    "va_list arg_list;\n",
    "int printed_chars = 0;\n",
    "char buffer[1024];\n",
    "int index = 0;\n",
    "\n",
    "conver_t f_list[] = {\n",
    "{\"%\", print_percent},\n",
    "{\"c\", print_char},\n",
    "{\"s\", print_string},\n",
    "{\"d\", print_integer},\n",
    "{\"i\", print_integer},\n",
    "{\"b\", print_binary},\n",
    "{\"u\", print_unsigned},\n",
    "{\"o\", print_octal},\n",
    "{\"x\", print_hex},\n",
    "{\"X\", print_HEX},\n",
    "{\"S\", print_special_string},\n",
    "{\"p\", print_pointer},\n",
    "{NULL, NULL}\n",
    "};\n",
    "\n",
    "va_start(arg_list, format);\n",
    "printed_chars = format_reciever(format, f_list, arg_list, buffer, &index);\n",
    "va_end(arg_list);\n",
    "\n",
    "buffer[index] = '\\0';\n",
    "write(1, buffer, index);\n",
    "\n",
    "return (printed_chars);\n",
    "}\n"
   ]
  },
  {
   "cell_type": "code",
   "execution_count": 76,
   "metadata": {},
   "outputs": [
    {
     "name": "stdout",
     "output_type": "stream",
     "text": [
      "Overwriting /home/elkomy/alx/printf/main.h\n"
     ]
    }
   ],
   "source": [
    "%%file /home/elkomy/alx/printf/main.h\n",
    "#ifndef MAIN_H\n",
    "#define MAIN_H\n",
    "\n",
    "#include <stdarg.h>\n",
    "#include <stdlib.h>\n",
    "#include <unistd.h>\n",
    "#include <ctype.h>\n",
    "\n",
    "/**\n",
    " * struct flags - struct containing flags to \"turn on\"\n",
    " * when a flag specifier is passed to _printf()\n",
    " * @plus: flag for the '+' character\n",
    " * @space: flag for the ' ' character\n",
    " * @hash: flag for the '#' character\n",
    " */\n",
    "typedef struct flags\n",
    "{\n",
    "    int plus;\n",
    "    int space;\n",
    "    int hash;\n",
    "} flags_t;\n",
    "\n",
    "/**\n",
    " * struct length_mod - struct containing length modifiers\n",
    " * when a length specifier is passed to _printf()\n",
    " * @l: flag for the 'l' character\n",
    " * @h: flag for the 'h' character\n",
    " */\n",
    " \n",
    "typedef struct length_mod\n",
    "{\n",
    "    int l;\n",
    "    int h;\n",
    "} length_mod_t;\n",
    "\n",
    "/**\n",
    " * struct convert - struct for symbols and functions\n",
    " * @sym: The operator\n",
    " * @f: The function associated\n",
    " */\n",
    "typedef struct convert\n",
    "{\n",
    "    char *sym;\n",
    "    int (*f)(va_list, char *, int *, flags_t, length_mod_t, int, int);\n",
    "} conver_t;\n",
    "\n",
    "int _printf(const char *format, ...);\n",
    "int format_reciever(const char *format, conver_t f_list[], va_list arg_list, char *buffer, int *index);\n",
    "int _putchar(char c, char *buffer, int *index);\n",
    "char *convert(unsigned long int num, int base, int lowercase);\n",
    "flags_t parse_flags(const char *format, int *i);\n",
    "length_mod_t parse_length_mod(const char *format, int *i);\n",
    "int parse_width(const char *format, int *i, va_list arg_list);\n",
    "int parse_precision(const char *format, int *i); /* Added parse_precision function */\n",
    "\n",
    "\n",
    "/* Function prototypes */\n",
    "int _printf(const char *format, ...);\n",
    "int print_char(va_list l, char *buf, int *i, flags_t, length_mod_t,int ,int);\n",
    "int print_string(va_list l, char *buf, int *i, flags_t, length_mod_t,int ,int);\n",
    "int print_percent(va_list l, char *buf, int *i, flags_t, length_mod_t,int ,int);\n",
    "int print_integer(va_list l, char *buf, int *i, flags_t, length_mod_t,int ,int);\n",
    "int print_unsigned(va_list l, char *buf, int *i, flags_t, length_mod_t,int ,int);\n",
    "int print_binary(va_list l, char *buf, int *i, flags_t, length_mod_t,int ,int);\n",
    "int print_octal(va_list l, char *buf, int *i, flags_t, length_mod_t,int ,int);\n",
    "int print_hex(va_list l, char *buf, int *i, flags_t, length_mod_t,int ,int);\n",
    "int print_HEX(va_list l, char *buf, int *i, flags_t, length_mod_t,int ,int);\n",
    "int print_pointer(va_list l, char *buf, int *i, flags_t, length_mod_t,int ,int);\n",
    "int print_reverse(va_list l, char *buf, int *i, flags_t, length_mod_t,int ,int);\n",
    "int print_rot13(va_list l, char *buf, int *i, flags_t, length_mod_t,int ,int);\n",
    "int print_non_printable(va_list l, char *buf, int *i, flags_t, length_mod_t,int ,int);\n",
    "int print_special_string(va_list, char *, int *, flags_t, length_mod_t,int ,int);\n",
    "\n",
    "#endif /* MAIN_H */\n"
   ]
  },
  {
   "cell_type": "code",
   "execution_count": 77,
   "metadata": {},
   "outputs": [
    {
     "name": "stdout",
     "output_type": "stream",
     "text": [
      "Overwriting /home/elkomy/alx/printf/parse_flags.c\n"
     ]
    }
   ],
   "source": [
    "%%file /home/elkomy/alx/printf/parse_flags.c\n",
    "#include \"main.h\"\n",
    "\n",
    "flags_t parse_flags(const char *format, int *i)\n",
    "{\n",
    "    flags_t flags = {0, 0, 0};\n",
    "\n",
    "    while (format[*i])\n",
    "    {\n",
    "        if (format[*i] == '+')\n",
    "            flags.plus = 1;\n",
    "        else if (format[*i] == ' ')\n",
    "            flags.space = 1;\n",
    "        else if (format[*i] == '#')\n",
    "            flags.hash = 1;\n",
    "        else\n",
    "            break;\n",
    "        (*i)++;\n",
    "    }\n",
    "\n",
    "    return flags;\n",
    "}"
   ]
  },
  {
   "cell_type": "code",
   "execution_count": 78,
   "metadata": {},
   "outputs": [
    {
     "name": "stdout",
     "output_type": "stream",
     "text": [
      "Overwriting /home/elkomy/alx/printf/parse_precision.c\n"
     ]
    }
   ],
   "source": [
    "%%file /home/elkomy/alx/printf/parse_precision.c\n",
    "#include \"main.h\"\n",
    "#include <ctype.h>\n",
    "\n",
    "/**\n",
    " * parse_precision - Parses the precision from the format string\n",
    " * @format: The format string\n",
    " * @i: Pointer to the current index in the format string\n",
    " * Return: The precision\n",
    " */\n",
    "int parse_precision(const char *format, int *i)\n",
    "{\n",
    "    int precision = -1; /* Default precision is not set */\n",
    "\n",
    "    if (format[*i] == '.')\n",
    "    {\n",
    "        (*i)++;\n",
    "        precision = 0;\n",
    "        while (isdigit(format[*i]))\n",
    "        {\n",
    "            precision = precision * 10 + (format[*i] - '0');\n",
    "            (*i)++;\n",
    "        }\n",
    "    }\n",
    "\n",
    "    return precision;\n",
    "}\n"
   ]
  },
  {
   "cell_type": "code",
   "execution_count": 79,
   "metadata": {},
   "outputs": [
    {
     "name": "stdout",
     "output_type": "stream",
     "text": [
      "Overwriting /home/elkomy/alx/printf/parse_length_mod.c\n"
     ]
    }
   ],
   "source": [
    "%%file /home/elkomy/alx/printf/parse_length_mod.c\n",
    "#include \"main.h\"\n",
    "\n",
    "length_mod_t parse_length_mod(const char *format, int *i)\n",
    "{\n",
    "    length_mod_t length_mod = {0, 0};\n",
    "\n",
    "    if (format[*i] == 'l')\n",
    "    {\n",
    "        length_mod.l = 1;\n",
    "        (*i)++;\n",
    "    }\n",
    "    else if (format[*i] == 'h')\n",
    "    {\n",
    "        length_mod.h = 1;\n",
    "        (*i)++;\n",
    "    }\n",
    "\n",
    "    return length_mod;\n",
    "}"
   ]
  },
  {
   "cell_type": "code",
   "execution_count": 80,
   "metadata": {},
   "outputs": [
    {
     "name": "stdout",
     "output_type": "stream",
     "text": [
      "Overwriting /home/elkomy/alx/printf/parse_width.c\n"
     ]
    }
   ],
   "source": [
    "%%file /home/elkomy/alx/printf/parse_width.c\n",
    "#include \"main.h\"\n",
    "#include <ctype.h>\n",
    "\n",
    "/**\n",
    " * parse_width - Parses the width from the format string\n",
    " * @format: The format string\n",
    " * @i: Pointer to the current index in the format string\n",
    " * @arg_list: The list of arguments\n",
    " * Return: The width\n",
    " */\n",
    "int parse_width(const char *format, int *i, va_list arg_list)\n",
    "{\n",
    "    int width = 0;\n",
    "\n",
    "    if (isdigit(format[*i]))\n",
    "    {\n",
    "        while (isdigit(format[*i]))\n",
    "        {\n",
    "            width = width * 10 + (format[*i] - '0');\n",
    "            (*i)++;\n",
    "        }\n",
    "    }\n",
    "    else if (format[*i] == '*')\n",
    "    {\n",
    "        width = va_arg(arg_list, int);\n",
    "        (*i)++;\n",
    "    }\n",
    "\n",
    "    return (width);\n",
    "}"
   ]
  },
  {
   "cell_type": "code",
   "execution_count": 98,
   "metadata": {},
   "outputs": [
    {
     "name": "stdout",
     "output_type": "stream",
     "text": [
      "Overwriting /home/elkomy/alx/printf/print_char.c\n"
     ]
    }
   ],
   "source": [
    "%%file /home/elkomy/alx/printf/print_char.c\n",
    "#include \"main.h\"\n",
    "#include <stdio.h>\n",
    "\n",
    "/**\n",
    " * print_char - Prints a character\n",
    " * @list: List of arguments\n",
    " * @buffer: Buffer to store characters\n",
    " * @index: Current index in the buffer\n",
    " * @flags: Flags for formatting\n",
    " * @length_mod: Length modifier for formatting\n",
    " * @width: Width for formatting\n",
    " * Return: Number of characters printed\n",
    " */\n",
    "int print_char(va_list list, char *buffer, int *index, flags_t flags, length_mod_t length_mod, int width, int precision)\n",
    "{\n",
    "    char c = va_arg(list, int);\n",
    "    int i;\n",
    "\n",
    "    (void)flags; /* Flags are not used for characters */\n",
    "    (void)length_mod;\n",
    "    (void)precision;\n",
    "\n",
    "    if (width > 1)\n",
    "    {\n",
    "        for (i = 1; i < width; i++)\n",
    "        {\n",
    "            _putchar(' ', buffer, index);\n",
    "        }\n",
    "    }\n",
    "\n",
    "    buffer[*index] = c;\n",
    "    (*index)++;\n",
    "\n",
    "    return (width > 1 ? width : 1);\n",
    "}\n"
   ]
  },
  {
   "cell_type": "code",
   "execution_count": 99,
   "metadata": {},
   "outputs": [
    {
     "name": "stdout",
     "output_type": "stream",
     "text": [
      "Overwriting /home/elkomy/alx/printf/convert.c\n"
     ]
    }
   ],
   "source": [
    "%%file /home/elkomy/alx/printf/convert.c\n",
    "#include \"main.h\"\n",
    "#include <stdlib.h>\n",
    "\n",
    "/**\n",
    " * convert - Converts a number to a string in the given base\n",
    " * @num: The number to be converted\n",
    " * @base: The base to convert to\n",
    " * @lowercase: Flag to determine if hex letters should be lowercase\n",
    " * Return: A pointer to the converted string (static buffer)\n",
    " */\n",
    "\n",
    "\n",
    "char *convert(unsigned long int num, int base, int lowercase)\n",
    "{\n",
    "    static char *rep;\n",
    "    static char buffer[50];\n",
    "    char *ptr;\n",
    "\n",
    "    rep = (lowercase) ? \"0123456789abcdef\" : \"0123456789ABCDEF\";\n",
    "    ptr = &buffer[49];\n",
    "    *ptr = '\\0';\n",
    "\n",
    "    do\n",
    "    {\n",
    "        *--ptr = rep[num % base];\n",
    "        num /= base;\n",
    "    } while (num != 0);\n",
    "\n",
    "    return (ptr);\n",
    "}\n"
   ]
  },
  {
   "cell_type": "code",
   "execution_count": 100,
   "metadata": {},
   "outputs": [
    {
     "name": "stdout",
     "output_type": "stream",
     "text": [
      "Overwriting /home/elkomy/alx/printf/print_string.c\n"
     ]
    }
   ],
   "source": [
    "%%file /home/elkomy/alx/printf/print_string.c\n",
    "#include \"main.h\"\n",
    "#include <stdio.h>\n",
    "#include <string.h>\n",
    "\n",
    "/**\n",
    " * print_string - Prints a string\n",
    " * @list: List of arguments\n",
    " * @buffer: Buffer to store characters\n",
    " * @index: Current index in the buffer\n",
    " * @flags: Flags for formatting\n",
    " * @length_mod: Length modifier for formatting\n",
    " * @width: Width for formatting\n",
    " * Return: Number of characters printed\n",
    " */\n",
    "int print_string(va_list list, char *buffer, int *index, flags_t flags, length_mod_t length_mod, int width, int precision)\n",
    "{\n",
    "    char *str = va_arg(list, char *);\n",
    "    int len, i, num_chars = 0;\n",
    "\n",
    "    (void)flags; /* Flags are not used for strings */\n",
    "    (void)length_mod;\n",
    "\n",
    "    if (str == NULL)\n",
    "        str = \"(null)\";\n",
    "\n",
    "    len = strlen(str);\n",
    "        /* Respect precision */\n",
    "    if (precision >= 0 && precision < len)\n",
    "        len = precision;\n",
    "\n",
    "\n",
    "\n",
    "    if (width > len)\n",
    "    {\n",
    "        for (i = 0; i < width - len; i++)\n",
    "        {\n",
    "            _putchar(' ', buffer, index);\n",
    "            num_chars++;\n",
    "        }\n",
    "    }\n",
    "    \n",
    "    for (i = 0; i < len; i++)\n",
    "    {\n",
    "        _putchar(str[i], buffer, index);\n",
    "        num_chars++;\n",
    "    }\n",
    "\n",
    "    return (num_chars);\n",
    "}\n"
   ]
  },
  {
   "cell_type": "code",
   "execution_count": 101,
   "metadata": {},
   "outputs": [
    {
     "name": "stdout",
     "output_type": "stream",
     "text": [
      "Overwriting /home/elkomy/alx/printf/print_percent.c\n"
     ]
    }
   ],
   "source": [
    "%%file /home/elkomy/alx/printf/print_percent.c\n",
    "#include \"main.h\"\n",
    "#include <stdio.h>\n",
    "\n",
    "/**\n",
    " * print_percent - Prints a percent symbol\n",
    " * @list: List of arguments\n",
    " * @buffer: Buffer to store characters\n",
    " * @index: Current index in the buffer\n",
    " * @flags: Flags for formatting\n",
    " * @length_mod: Length modifier for formatting\n",
    " * @width: Width for formatting\n",
    " * @precision: precision handling \n",
    " * Return: Number of characters printed\n",
    " */\n",
    "int print_percent(va_list list, char *buffer, int *index, flags_t flags,length_mod_t length_mod, int width, int precision)\n",
    "{\n",
    "    (void)list;\n",
    "    (void)flags; /* Flags are not used for percent */\n",
    "    (void)length_mod; \n",
    "    (void)precision;\n",
    "\n",
    "\n",
    "  if (width > 1)  \n",
    "    {\n",
    "        int i;\n",
    "        for (i = 0; i < width - 1; i++)  \n",
    "        {\n",
    "            _putchar(' ', buffer, index);\n",
    "        }\n",
    "    }\n",
    "    buffer[*index] = '%';\n",
    "    (*index)++;\n",
    "\n",
    "  return (width > 1 ? width : 1);\n",
    "}\n"
   ]
  },
  {
   "cell_type": "code",
   "execution_count": 154,
   "metadata": {},
   "outputs": [
    {
     "name": "stdout",
     "output_type": "stream",
     "text": [
      "Overwriting /home/elkomy/alx/printf/print_integer.c\n"
     ]
    }
   ],
   "source": [
    "%%file /home/elkomy/alx/printf/print_integer.c\n",
    "\n",
    "\n",
    "#include \"main.h\"\n",
    "#include <stdlib.h>  /* Include stdlib.h for malloc */\n",
    "#include <string.h>\n",
    "\n",
    "/* Helper function to implement itoa since it's not standard in C */\n",
    "void itoa(int num, char *str, int base) {\n",
    "    int i = 0;\n",
    "    int is_negative = 0;\n",
    "    int start, end;\n",
    "\n",
    "    /* Handle 0 explicitly, otherwise empty string is printed for 0 */\n",
    "    if (num == 0) {\n",
    "        str[i++] = '0';\n",
    "        str[i] = '\\0';\n",
    "        return;\n",
    "    }\n",
    "\n",
    "    /* Handle negative numbers for base 10 */\n",
    "    if (num < 0 && base == 10) {\n",
    "        is_negative = 1;\n",
    "        num = -num;\n",
    "    }\n",
    "\n",
    "    /* Process individual digits */\n",
    "    while (num != 0) {\n",
    "        int rem = num % base;\n",
    "        str[i++] = (rem > 9) ? (rem - 10) + 'a' : rem + '0';\n",
    "        num = num / base;\n",
    "    }\n",
    "\n",
    "    /* Append '-' for negative numbers */\n",
    "    if (is_negative) {\n",
    "        str[i++] = '-';\n",
    "    }\n",
    "\n",
    "    str[i] = '\\0';\n",
    "\n",
    "    /* Reverse the string */\n",
    "    start = 0;\n",
    "    end = i - 1;\n",
    "    while (start < end) {\n",
    "        char temp = str[start];\n",
    "        str[start] = str[end];\n",
    "        str[end] = temp;\n",
    "        start++;\n",
    "        end--;\n",
    "    }\n",
    "}\n",
    "\n",
    "/**\n",
    " * print_integer - Prints an integer\n",
    " * @list: List of arguments\n",
    " * @buffer: Buffer to store characters\n",
    " * @index: Current index in the buffer\n",
    " * @flags: Flags for formatting\n",
    " * @length_mod: Length modifier for formatting\n",
    " * @width: Width for formatting\n",
    " * Return: Number of characters printed\n",
    " */\n",
    " \n",
    "int print_integer(va_list list, char *buffer, int *index, flags_t flags, length_mod_t length_mod, int width, int precision)\n",
    "{\n",
    "    long int num;\n",
    "    char str[21]; /* Enough to hold long int in base 10 with sign */\n",
    "    int i = 0, len, num_chars = 0;\n",
    "\n",
    "    /* Get the number based on length modifier */\n",
    "\n",
    "    if (length_mod.l)\n",
    "        num = va_arg(list, long int);\n",
    "    else if (length_mod.h)\n",
    "        num = (short int)va_arg(list, int);\n",
    "    else\n",
    "        num = va_arg(list, int);\n",
    "\n",
    "    /* convert int to string */\n",
    "\n",
    "    itoa(num, str, 10);\n",
    "    len = strlen(str);\n",
    "\n",
    "    /* Handle the precision */\n",
    "    \n",
    "    if (precision >= 0) {\n",
    "        int num_zeros = precision - len + (num < 0);  /* Calculate leading zeros needed */\n",
    "        if (num_zeros > 0) {\n",
    "            /* Shift existing number to the right */\n",
    "            memmove(str + num_zeros, str, len + 1);\n",
    "            /* Add leading zeros */\n",
    "            for (i = 0; i < num_zeros; i++) {\n",
    "                str[i + (num < 0)] = '0';  /* Add zero after the sign if number is negative */\n",
    "            }\n",
    "            len += num_zeros;\n",
    "        }\n",
    "    }\n",
    "\n",
    "    /* Handle space and plus flags */\n",
    "    if (flags.plus && num >= 0)\n",
    "    {\n",
    "        _putchar('+', buffer, index);\n",
    "        num_chars++;\n",
    "    }\n",
    "    else if (flags.space && num >= 0)\n",
    "    {\n",
    "        _putchar(' ', buffer, index);\n",
    "        num_chars++;\n",
    "    }\n",
    "\n",
    "    \n",
    "    if (num < 0) len--; /* Exclude sign for width/precision */\n",
    "\n",
    "\n",
    "    /* Handle width */\n",
    "    if (width > len + num_chars)\n",
    "    {\n",
    "        for (i = 0; i < width - len - num_chars; i++)\n",
    "        {\n",
    "            _putchar(' ', buffer, index);\n",
    "            num_chars++;\n",
    "        }\n",
    "    }\n",
    "\n",
    "    /* Print number */\n",
    "    for (i = 0; i < len; i++)\n",
    "    {\n",
    "        _putchar(str[i], buffer, index);\n",
    "        num_chars++;\n",
    "    }\n",
    "\n",
    "    return (num_chars);\n",
    "}"
   ]
  },
  {
   "cell_type": "code",
   "execution_count": 155,
   "metadata": {},
   "outputs": [
    {
     "name": "stdout",
     "output_type": "stream",
     "text": [
      "Overwriting /home/elkomy/alx/printf/print_binary.c\n"
     ]
    }
   ],
   "source": [
    "%%file /home/elkomy/alx/printf/print_binary.c\n",
    "#include \"main.h\"\n",
    "#include <stdio.h>\n",
    "#include <string.h>\n",
    "\n",
    "/**\n",
    " * print_binary - Prints a number in binary\n",
    " * @list: List of arguments\n",
    " * @buffer: Buffer to store characters\n",
    " * @index: Current index in the buffer\n",
    " * @flags: Flags for formatting\n",
    " * @length_mod: Length modifier for formatting\n",
    " * @width: Width for formatting\n",
    " * Return: Number of characters printed\n",
    " */\n",
    "int print_binary(va_list list, char *buffer, int *index, flags_t flags, length_mod_t length_mod, int width, int precision)\n",
    "{\n",
    "    unsigned int num = va_arg(list, unsigned int);\n",
    "    int num_chars = 0;\n",
    "    char *str = convert(num, 2, 0);\n",
    "\n",
    "    (void)flags; /* Flags are not used for binary */\n",
    "    (void)length_mod;\n",
    "    (void)precision;\n",
    "    while (*str)\n",
    "    {\n",
    "        buffer[*index] = *str;\n",
    "        (*index)++;\n",
    "        str++;\n",
    "        num_chars++;\n",
    "    }\n",
    "\n",
    "     if (width > (int)strlen(str))  \n",
    "    {\n",
    "        int i;\n",
    "        for (i = 0; i < width - (int)strlen(str); i++)  \n",
    "        {\n",
    "            _putchar(' ', buffer, index);\n",
    "        }\n",
    "    }\n",
    "\n",
    "    return (num_chars);\n",
    "}\n"
   ]
  },
  {
   "cell_type": "code",
   "execution_count": 204,
   "metadata": {},
   "outputs": [
    {
     "name": "stdout",
     "output_type": "stream",
     "text": [
      "Overwriting /home/elkomy/alx/printf/print_unsigned.c\n"
     ]
    }
   ],
   "source": [
    "%%file /home/elkomy/alx/printf/print_unsigned.c\n",
    "#include \"main.h\"\n",
    "#include <stdio.h>\n",
    "#include <string.h>\n",
    "\n",
    "/**\n",
    " * print_unsigned - Prints an unsigned integer\n",
    " * @list: List of arguments\n",
    " * @buffer: Buffer to store characters\n",
    " * @index: Current index in the buffer\n",
    " * @flags: Flags for formatting\n",
    " * @length_mod: Length modifier for formatting\n",
    " * @width: Width for formatting\n",
    " * Return: Number of characters printed\n",
    " */\n",
    "int print_unsigned(va_list list, char *buffer, int *index, flags_t flags, length_mod_t length_mod, int width, int precision)\n",
    "{\n",
    "    unsigned long int num;\n",
    "    int num_chars = 0;\n",
    "    char *str;\n",
    "    size_t len;\n",
    "   \n",
    "    (void)flags; /* Suppress unused parameter warning */\n",
    "    (void)width; /* Suppress unused parameter warning */\n",
    "    \n",
    "    if (length_mod.l)\n",
    "        num = va_arg(list, unsigned long int);\n",
    "    else if (length_mod.h)\n",
    "        num = (unsigned short int)va_arg(list, unsigned int);\n",
    "    else\n",
    "        num = va_arg(list, unsigned int);\n",
    "        \n",
    "    str = convert(num, 10, 0);\n",
    "    len = strlen(str);\n",
    "    if (precision >= 0 && precision < (int)len) \n",
    "    {\n",
    "    len = precision;\n",
    "    }\n",
    "\n",
    "    \n",
    "    if (width > (int)len)  \n",
    "    {\n",
    "        int i;\n",
    "        for (i = 0; i < width - (int)len; i++)  \n",
    "        {\n",
    "            _putchar(' ', buffer, index);\n",
    "            num_chars++;\n",
    "        }\n",
    "    }\n",
    "\n",
    "    while (*str)\n",
    "    {\n",
    "        buffer[*index] = *str;\n",
    "        (*index)++;\n",
    "        str++;\n",
    "        num_chars++;\n",
    "    }\n",
    "\n",
    "    return num_chars;\n",
    "}\n"
   ]
  },
  {
   "cell_type": "code",
   "execution_count": 190,
   "metadata": {},
   "outputs": [
    {
     "name": "stdout",
     "output_type": "stream",
     "text": [
      "Overwriting /home/elkomy/alx/printf/print_octal.c\n"
     ]
    }
   ],
   "source": [
    "%%file /home/elkomy/alx/printf/print_octal.c\n",
    "#include \"main.h\"\n",
    "#include <stdio.h>\n",
    "#include <string.h>\n",
    "\n",
    "/**\n",
    " * print_octal - Prints a number in octal\n",
    " * @list: List of arguments\n",
    " * @buffer: Buffer to store characters\n",
    " * @index: Current index in the buffer\n",
    " * @flags: Flags for formatting\n",
    " * @length_mod: Length modifier for formatting\n",
    " * @width: Width for formatting\n",
    " * Return: Number of characters printed\n",
    " */\n",
    "int print_octal(va_list list, char *buffer, int *index, flags_t flags, length_mod_t length_mod, int width, int precision)\n",
    "{\n",
    "    unsigned long int num ;\n",
    "    char *str;\n",
    "    int num_chars = 0, len, i;\n",
    "    \n",
    "     (void)precision;\n",
    "    if (length_mod.l)\n",
    "        num = va_arg(list, unsigned long int);\n",
    "    else if (length_mod.h)\n",
    "        num = (unsigned short int)va_arg(list, unsigned int);\n",
    "    else\n",
    "        num = va_arg(list, unsigned int);\n",
    "\n",
    "    str = convert(num, 8, 0);\n",
    "    len = strlen(str);\n",
    "\n",
    "    if (flags.hash && num != 0)\n",
    "    {\n",
    "         _putchar('0', buffer, index);\n",
    "        num_chars++;\n",
    "        if (width > 0)\n",
    "            width--;\n",
    "    }\n",
    "\n",
    "   \n",
    "    if (width > len)\n",
    "    {\n",
    "        for (i = 0; i < width - len; i++)\n",
    "        {\n",
    "            _putchar(' ', buffer, index);\n",
    "            num_chars++;\n",
    "        }\n",
    "    }\n",
    "\n",
    "    while (*str)\n",
    "    {\n",
    "        buffer[*index] = *str;\n",
    "        (*index)++;\n",
    "        str++;\n",
    "        num_chars++;\n",
    "    }\n",
    "\n",
    "    return (num_chars);\n",
    "}\n"
   ]
  },
  {
   "cell_type": "code",
   "execution_count": 191,
   "metadata": {},
   "outputs": [
    {
     "name": "stdout",
     "output_type": "stream",
     "text": [
      "Overwriting /home/elkomy/alx/printf/print_hex.c\n"
     ]
    }
   ],
   "source": [
    "%%file /home/elkomy/alx/printf/print_hex.c\n",
    "#include \"main.h\"\n",
    "#include <stdio.h>\n",
    "#include <string.h>\n",
    "\n",
    "/**\n",
    " * print_hex - Prints a number in hexadecimal (lowercase)\n",
    " * @list: List of arguments\n",
    " * @buffer: Buffer to store characters\n",
    " * @index: Current index in the buffer\n",
    " * @flags: Flags for formatting\n",
    " * @length_mod: Length modifier for formatting\n",
    " * @width: Width for formatting\n",
    " * Return: Number of characters printed\n",
    " */\n",
    "int print_hex(va_list list, char *buffer, int *index, flags_t flags, length_mod_t length_mod, int width, int precision)\n",
    "{\n",
    "    unsigned long int num;\n",
    "    char *str;\n",
    "    int num_chars = 0, len, i;\n",
    "\n",
    "     (void)precision;\n",
    "    if (length_mod.l)\n",
    "        num = va_arg(list, unsigned long int);\n",
    "    else if (length_mod.h)\n",
    "        num = (unsigned short int)va_arg(list, unsigned int);\n",
    "    else\n",
    "        num = va_arg(list,unsigned int);\n",
    "\n",
    "    str = convert(num, 16, 1); \n",
    "    len = strlen(str);\n",
    "\n",
    "    if (flags.hash && num != 0)\n",
    "    {\n",
    "      _putchar('0', buffer, index);\n",
    "      _putchar('x', buffer, index);\n",
    "      num_chars += 2;\n",
    "     if (width > 0)\n",
    "        width -= 2;\n",
    "    }\n",
    "\n",
    "\n",
    "    if (width > (int)strlen(str)) \n",
    "    {\n",
    "        \n",
    "        for (i = 0; i < width - len; i++)\n",
    "        {\n",
    "            _putchar(' ', buffer, index);\n",
    "            num_chars++;\n",
    "        }\n",
    "    }\n",
    "\n",
    "    while (*str)\n",
    "    {\n",
    "        buffer[*index] = *str;\n",
    "        (*index)++;\n",
    "        str++;\n",
    "        num_chars++;\n",
    "    }\n",
    "\n",
    "    return (num_chars);\n",
    "}\n"
   ]
  },
  {
   "cell_type": "code",
   "execution_count": 192,
   "metadata": {},
   "outputs": [
    {
     "name": "stdout",
     "output_type": "stream",
     "text": [
      "Overwriting /home/elkomy/alx/printf/print_HEX.c\n"
     ]
    }
   ],
   "source": [
    "%%file /home/elkomy/alx/printf/print_HEX.c\n",
    "\n",
    "#include \"main.h\"\n",
    "#include <stdio.h>\n",
    "#include <string.h>\n",
    "\n",
    "/**\n",
    " * print_HEX - Prints a number in hexadecimal (uppercase)\n",
    " * @list: List of arguments\n",
    " * @buffer: Buffer to store characters\n",
    " * @index: Current index in the buffer\n",
    " * @flags: Flags for formatting\n",
    " * @length_mod: Length modifier for formatting\n",
    " * @width: width for formatting\n",
    " * Return: Number of characters printed\n",
    " */\n",
    "int print_HEX(va_list list, char *buffer, int *index, flags_t flags, length_mod_t length_mod, int width, int precision)\n",
    "{\n",
    "    unsigned long int num;\n",
    "     char *str;\n",
    "    int num_chars = 0, len ,i;\n",
    "   \n",
    "     (void)precision;\n",
    "    if (length_mod.l)\n",
    "        num = va_arg(list, unsigned long int);\n",
    "    else if (length_mod.h)\n",
    "        num = (unsigned short int)va_arg(list, unsigned int);\n",
    "    else\n",
    "        num = va_arg(list, unsigned int);\n",
    "\n",
    "    str = convert(num, 16, 0);\n",
    "    len = strlen(str);\n",
    "\n",
    "    if (flags.hash && num != 0)\n",
    "    {\n",
    "    _putchar('0', buffer, index);\n",
    "    _putchar('X', buffer, index);\n",
    "    num_chars += 2;\n",
    "    if (width > 0)\n",
    "        width -= 2;\n",
    "    }\n",
    "\n",
    "\n",
    "    if (width > len)\n",
    "    {\n",
    "       for (i = 0; i < width - len; i++)\n",
    "    {\n",
    "            _putchar(' ', buffer, index);\n",
    "            num_chars++;\n",
    "    }\n",
    "    }\n",
    "\n",
    "    while (*str)\n",
    "    {\n",
    "        buffer[*index] = *str;\n",
    "        (*index)++;\n",
    "        str++;\n",
    "        num_chars++;\n",
    "    }\n",
    "\n",
    "    return (num_chars);\n",
    "}"
   ]
  },
  {
   "cell_type": "code",
   "execution_count": 193,
   "metadata": {},
   "outputs": [
    {
     "name": "stdout",
     "output_type": "stream",
     "text": [
      "Overwriting /home/elkomy/alx/printf/print_reverse.c\n"
     ]
    }
   ],
   "source": [
    "%%file /home/elkomy/alx/printf/print_reverse.c\n",
    "#include \"main.h\"\n",
    "#include <stdio.h>\n",
    "#include <string.h>\n",
    "\n",
    "/**\n",
    " * print_reverse - Prints a string in reverse\n",
    " * @list: List of arguments\n",
    " * @buffer: Buffer to store characters\n",
    " * @index: Current index in the buffer\n",
    " * @flags: Flags for formatting\n",
    " * @length_mod: Length modifier for formatting \n",
    " * @width: Width for formatting\n",
    " * Return: Number of characters printed\n",
    " */\n",
    "\n",
    "int print_reverse(va_list list, char *buffer, int *index, flags_t flags, length_mod_t length_mod, int width, int precision)\n",
    "{\n",
    "    char *str = va_arg(list, char *);\n",
    "    int len, i, num_chars = 0;\n",
    "\n",
    "    (void)flags; /* Flags are not used for strings */\n",
    "    (void)length_mod;\n",
    "    (void)precision;\n",
    "\n",
    "    if (str == NULL)\n",
    "        str = \"(null)\";\n",
    "\n",
    "    len = strlen(str);\n",
    "\n",
    "    if (width > len) \n",
    "    {\n",
    "        for (i = 0; i < width - len; i++)  \n",
    "        {\n",
    "            _putchar(' ', buffer, index);\n",
    "            num_chars++;\n",
    "        }\n",
    "    }\n",
    "\n",
    "    for (i = len - 1; i >= 0; i--)\n",
    "    {\n",
    "        _putchar(str[i], buffer, index);\n",
    "        num_chars++;\n",
    "    }\n",
    "\n",
    "    return (num_chars);\n",
    "}\n"
   ]
  },
  {
   "cell_type": "code",
   "execution_count": 194,
   "metadata": {},
   "outputs": [
    {
     "name": "stdout",
     "output_type": "stream",
     "text": [
      "Overwriting /home/elkomy/alx/printf/print_rot13.c\n"
     ]
    }
   ],
   "source": [
    "%%file /home/elkomy/alx/printf/print_rot13.c\n",
    "#include \"main.h\"\n",
    "#include <stdio.h>\n",
    "#include <string.h>\n",
    "\n",
    "/**\n",
    " * print_rot13 - Encodes a string using rot13 and prints it\n",
    " * @list: List of arguments\n",
    " * @buffer: Buffer to store characters\n",
    " * @index: Current index in the buffer\n",
    " * @flags: Flags for formatting\n",
    " * @length_mod: Length modifier for formatting\n",
    " * @width: Width for formatting\n",
    " * Return: Number of characters printed\n",
    " */\n",
    "int print_rot13(va_list list, char *buffer, int *index, flags_t flags, length_mod_t length_mod, int width, int precision)\n",
    "{\n",
    "    char *str = va_arg(list, char *);\n",
    "    char in[] = \"ABCDEFGHIJKLMNOPQRSTUVWXYZabcdefghijklmnopqrstuvwxyz\";\n",
    "    char out[] = \"NOPQRSTUVWXYZABCDEFGHIJKLMnopqrstuvwxyzabcdefghijklm\";\n",
    "    int len, i, j, num_chars = 0;\n",
    "\n",
    "    (void)flags; /* Flags are not used for rot13 */\n",
    "    (void)length_mod;\n",
    "    (void)precision;\n",
    "\n",
    "    if (str == NULL)\n",
    "        str = \"(null)\";\n",
    "\n",
    "    len = strlen(str);\n",
    "\n",
    "    if (width > len)\n",
    "    {\n",
    "        for (i = 0; i < width - len; i++)\n",
    "        {\n",
    "            _putchar(' ', buffer, index);\n",
    "            num_chars++;\n",
    "        }\n",
    "    }\n",
    "\n",
    "    while (*str)\n",
    "    {\n",
    "        for (j = 0; j < 52; j++)\n",
    "        {\n",
    "            if (*str == in[j])\n",
    "            {\n",
    "                buffer[*index] = out[j];\n",
    "                (*index)++;\n",
    "                num_chars++;\n",
    "                break;\n",
    "            }\n",
    "        }\n",
    "        if (j == 52)\n",
    "        {\n",
    "            buffer[*index] = *str;\n",
    "            (*index)++;\n",
    "            num_chars++;\n",
    "        }\n",
    "        str++;\n",
    "    }\n",
    "\n",
    "    return (num_chars);\n",
    "}\n"
   ]
  },
  {
   "cell_type": "code",
   "execution_count": 195,
   "metadata": {},
   "outputs": [
    {
     "name": "stdout",
     "output_type": "stream",
     "text": [
      "Overwriting /home/elkomy/alx/printf/print_non_printable.c\n"
     ]
    }
   ],
   "source": [
    "%%file /home/elkomy/alx/printf/print_non_printable.c\n",
    "#include \"main.h\"\n",
    "#include <stdio.h>\n",
    "#include <string.h>\n",
    "\n",
    "/**\n",
    " * print_non_printable - Prints a string with non-printable characters in hex\n",
    " * @list: List of arguments\n",
    " * @buffer: Buffer to store characters\n",
    " * @index: Current index in the buffer\n",
    " * @flags: Flags for formatting\n",
    " * @length_mod: Length modifier for formatting\n",
    " * @width: Width for formatting\n",
    " * Return: Number of characters printed\n",
    " */\n",
    "int print_non_printable(va_list list, char *buffer, int *index, flags_t flags, length_mod_t length_mod, int width, int precision)\n",
    "{\n",
    "    char *str = va_arg(list, char *);\n",
    "    char hex[5];\n",
    "    int len, i, num_chars = 0;\n",
    "\n",
    "    (void)flags; /* Flags are not used for non-printable characters */\n",
    "    (void)length_mod;\n",
    "     (void)precision;\n",
    "\n",
    "    if (str == NULL)\n",
    "        str = \"(null)\";\n",
    "\n",
    "    len = strlen(str);\n",
    "\n",
    "    if (width > len)\n",
    "    {\n",
    "        for (i = 0; i < width - len; i++)\n",
    "        {\n",
    "            _putchar(' ', buffer, index);\n",
    "            num_chars++;\n",
    "        }\n",
    "    }\n",
    "\n",
    "    while (*str)\n",
    "    {\n",
    "        if (*str < 32 || *str >= 127)\n",
    "        {\n",
    "            sprintf(hex, \"\\\\x%02X\", (unsigned char)*str);\n",
    "            for (i = 0; hex[i]; i++)\n",
    "            {\n",
    "                buffer[*index] = hex[i];\n",
    "                (*index)++;\n",
    "                num_chars++;\n",
    "            }\n",
    "        }\n",
    "        else\n",
    "        {\n",
    "            buffer[*index] = *str;\n",
    "            (*index)++;\n",
    "            num_chars++;\n",
    "        }\n",
    "        str++;\n",
    "    }\n",
    "\n",
    "    return (num_chars);\n",
    "}"
   ]
  },
  {
   "cell_type": "code",
   "execution_count": 196,
   "metadata": {},
   "outputs": [
    {
     "name": "stdout",
     "output_type": "stream",
     "text": [
      "Overwriting /home/elkomy/alx/printf/print_special_string.c\n"
     ]
    }
   ],
   "source": [
    "%%file /home/elkomy/alx/printf/print_special_string.c\n",
    "#include \"main.h\"\n",
    "#include <stdio.h>\n",
    "\n",
    "/**\n",
    " * print_special_string - Prints a special string with non-printable characters\n",
    " * @list: List of arguments\n",
    " * @buffer: Buffer to store characters\n",
    " * @index: Current index in the buffer\n",
    " * @flags: Flags for formatting\n",
    " * @length_mod: Length modifier for formatting\n",
    " * @width: Width for formatting\n",
    " * Return: Number of characters printed\n",
    " */\n",
    "int print_special_string(va_list list, char *buffer, int *index, flags_t flags, length_mod_t length_mod, int width, int precision)\n",
    "{\n",
    "    char *str = va_arg(list, char *);\n",
    "    int i = 0, count = 0;\n",
    "\n",
    "    (void)flags; /* Suppress unused parameter warning */\n",
    "    (void)length_mod;\n",
    "    (void)width;\n",
    "    (void)precision;\n",
    "\n",
    "    if (str == NULL)\n",
    "        str = \"(null)\";\n",
    "\n",
    "    while (str[i])\n",
    "    {\n",
    "        if ((str[i] > 0 && str[i] < 32) || str[i] >= 127)\n",
    "        {\n",
    "            count += sprintf(&buffer[*index], \"\\\\x%02X\", (unsigned char)str[i]);\n",
    "            *index += 4;\n",
    "        }\n",
    "        else\n",
    "        {\n",
    "            _putchar(str[i], buffer, index);\n",
    "            count++;\n",
    "        }\n",
    "        i++;\n",
    "    }\n",
    "\n",
    "    return (count);\n",
    "}\n"
   ]
  },
  {
   "cell_type": "code",
   "execution_count": 197,
   "metadata": {},
   "outputs": [
    {
     "name": "stdout",
     "output_type": "stream",
     "text": [
      "Overwriting /home/elkomy/alx/printf/print_pointer.c\n"
     ]
    }
   ],
   "source": [
    "%%file /home/elkomy/alx/printf/print_pointer.c\n",
    "#include \"main.h\"\n",
    "#include <stdio.h>\n",
    "#include <string.h>\n",
    "\n",
    "/**\n",
    " * print_pointer - Prints a pointer address\n",
    " * @list: List of arguments\n",
    " * @buffer: Buffer to store characters\n",
    " * @index: Current index in the buffer\n",
    " * @flags: Flags for formatting\n",
    " * @length_mod: Length modifier for formatting\n",
    " * @width: Width for formatting\n",
    " * Return: Number of characters printed\n",
    " */\n",
    "int print_pointer(va_list list, char *buffer, int *index, flags_t flags, length_mod_t length_mod, int width, int precision)\n",
    "{\n",
    "    void *ptr = va_arg(list, void *);\n",
    "    unsigned long int addr = (unsigned long int)ptr;\n",
    "    char hex[17];\n",
    "    int i, digit, num_chars = 2; \n",
    "\n",
    "    (void)flags; /* Suppress unused parameter warning */\n",
    "    (void)length_mod;\n",
    "    (void)precision;\n",
    "\n",
    "    _putchar('0', buffer, index);\n",
    "    _putchar('x', buffer, index);\n",
    "\n",
    "    i = 15;\n",
    "    while (addr)\n",
    "    {\n",
    "        digit = addr % 16;\n",
    "        hex[i--] = (digit < 10) ? digit + '0' : digit - 10 + 'a';\n",
    "        addr /= 16;\n",
    "    }\n",
    "    i++;\n",
    "    while (i < 16)\n",
    "    {\n",
    "        _putchar(hex[i++], buffer, index);\n",
    "        num_chars++;\n",
    "    }\n",
    "\n",
    "    /* Handle width */\n",
    "    if (width > num_chars)\n",
    "    {\n",
    "        for (i = 0; i < width - num_chars; i++)\n",
    "        {\n",
    "            _putchar(' ', buffer, index);\n",
    "            num_chars++;\n",
    "        }\n",
    "    }\n",
    "\n",
    "    return num_chars;\n",
    "}"
   ]
  },
  {
   "cell_type": "code",
   "execution_count": 198,
   "metadata": {},
   "outputs": [
    {
     "name": "stdout",
     "output_type": "stream",
     "text": [
      "Overwriting /home/elkomy/alx/printf/tests/main.c\n"
     ]
    }
   ],
   "source": [
    "%%file /home/elkomy/alx/printf/tests/main.c\n",
    "#include <limits.h>\n",
    "#include <stdio.h>\n",
    "#include \"main.h\"\n",
    "\n",
    "/**\n",
    " * main - Entry point\n",
    " *\n",
    " * Return: Always 0\n",
    " */\n",
    "int main(void)\n",
    "{\n",
    "    int len;\n",
    "    int len2;\n",
    "    unsigned int ui;\n",
    "    void *addr;\n",
    "\n",
    "    len = _printf(\"Let's try to printf a simple sentence.\\n\");\n",
    "    len2 = printf(\"Let's try to printf a simple sentence.\\n\");\n",
    "    ui = (unsigned int)INT_MAX + 1024;\n",
    "    addr = (void *)0x7ffe637541f0;\n",
    "    _printf(\"Length:[%d, %i]\\n\", len, len);\n",
    "    printf(\"Length:[%d, %i]\\n\", len2, len2);\n",
    "    _printf(\"Negative:[%d]\\n\", -762534);\n",
    "    printf(\"Negative:[%d]\\n\", -762534);\n",
    "    _printf(\"Unsigned:[%u]\\n\", ui);\n",
    "    printf(\"Unsigned:[%u]\\n\", ui);\n",
    "    _printf(\"Unsigned octal:[%o]\\n\", ui);\n",
    "    printf(\"Unsigned octal:[%o]\\n\", ui);\n",
    "    _printf(\"Unsigned hexadecimal:[%x, %X]\\n\", ui, ui);\n",
    "    printf(\"Unsigned hexadecimal:[%x, %X]\\n\", ui, ui);\n",
    "    _printf(\"Character:[%c]\\n\", 'H');\n",
    "    printf(\"Character:[%c]\\n\", 'H');\n",
    "    _printf(\"String:[%s]\\n\", \"I am a string !\");\n",
    "    printf(\"String:[%s]\\n\", \"I am a string !\");\n",
    "    _printf(\"Address:[%p]\\n\", addr);\n",
    "    printf(\"Address:[%p]\\n\", addr);\n",
    "    len = _printf(\"Percent:[%%]\\n\");\n",
    "    len2 = printf(\"Percent:[%%]\\n\");\n",
    "    _printf(\"Len:[%d]\\n\", len);\n",
    "    printf(\"Len:[%d]\\n\", len2);\n",
    "    _printf(\"Unknown:[%r]\\n\");\n",
    "    printf(\"Unknown:[%r]\\n\");\n",
    "    return (0);\n",
    "}"
   ]
  },
  {
   "cell_type": "code",
   "execution_count": 207,
   "metadata": {},
   "outputs": [
    {
     "name": "stdout",
     "output_type": "stream",
     "text": [
      "\n",
      "========== /home/elkomy/alx/printf/_printf.c ==========\n",
      "_printf\n",
      "Let's try to printf a simple sentence.\n",
      "Let's try to printf a simple sentence.\n",
      "Length:[39, 39]\n",
      "Length:[39, 39]\n",
      "Negative:[-76253]\n",
      "Negative:[-762534]\n",
      "Unsigned:[2147484671]\n",
      "Unsigned:[2147484671]\n",
      "Unsigned octal:[20000001777]\n",
      "Unsigned octal:[20000001777]\n",
      "Unsigned hexadecimal:[800003ff, 800003FF]\n",
      "Unsigned hexadecimal:[800003ff, 800003FF]\n",
      "Character:[H]\n",
      "Character:[H]\n",
      "String:[I am a string !]\n",
      "String:[I am a string !]\n",
      "Address:[0x7ffe637541f0]\n",
      "Address:[0x7ffe637541f0]\n",
      "Percent:[%]\n",
      "Percent:[%]\n",
      "Len:[12]\n",
      "Len:[12]\n",
      "Unknown:[%r]\n",
      "Unknown:[%r]\n"
     ]
    }
   ],
   "source": [
    "\n",
    "!betty /home/elkomy/alx/printf/_printf.c\n",
    "!gcc -Wall -Werror -Wextra -pedantic -std=gnu89 -Wno-format /home/elkomy/alx/printf/*.c /home/elkomy/alx/printf/tests/main.c -o /home/elkomy/alx/printf/printf\n",
    "!./printf\n"
   ]
  },
  {
   "cell_type": "code",
   "execution_count": 208,
   "metadata": {},
   "outputs": [
    {
     "name": "stdout",
     "output_type": "stream",
     "text": [
      "[main acd0a0f] alx-low_level_programming/0x0D-preprocessor/0-putchar\n",
      " 19 files changed, 2104 insertions(+), 317 deletions(-)\n",
      " create mode 100644 parse_precision.c\n",
      " rewrite printf (60%)\n"
     ]
    },
    {
     "name": "stderr",
     "output_type": "stream",
     "text": [
      "To https://github.com/elkomysara/printf\n",
      "   7807a39..acd0a0f  main -> main\n"
     ]
    }
   ],
   "source": [
    "%%bash\n",
    "git add .\n",
    "git commit -m \"alx-low_level_programming/0x0D-preprocessor/0-putchar\"\n",
    "git push"
   ]
  },
  {
   "cell_type": "code",
   "execution_count": null,
   "metadata": {},
   "outputs": [],
   "source": []
  },
  {
   "cell_type": "markdown",
   "metadata": {},
   "source": [
    "###\n",
    "---\n",
    "<center>\n",
    "<h4>11. It's depressing when you're still around and your albums are out of print</h4>\n",
    "</center>\n",
    "\n",
    "---"
   ]
  },
  {
   "cell_type": "markdown",
   "metadata": {},
   "source": [
    "\n",
    "#### Handle the `0` flag character for non-custom conversion specifiers.\n",
    "\n",
    "#### Repo:\n",
    "* GitHub repository: ``` printf```"
   ]
  },
  {
   "cell_type": "code",
   "execution_count": null,
   "metadata": {},
   "outputs": [
    {
     "name": "stdout",
     "output_type": "stream",
     "text": [
      "Overwriting /home/elkomy/alx/printf/format_reciever.c\n"
     ]
    }
   ],
   "source": [
    "%%file /home/elkomy/alx/printf/format_reciever.c\n",
    "#include \"main.h\"\n",
    "#include <stdio.h>\n",
    "\n",
    "/**\n",
    " * format_reciever - Receives the main string and necessary parameters to\n",
    " * print a formatted string\n",
    " * @format: A string containing all the desired characters\n",
    " * @f_list: List of format specifiers and their corresponding functions\n",
    " * @arg_list: List of arguments\n",
    " * @buffer: Buffer to store characters\n",
    " * @index: Current index in the buffer\n",
    " * Return: Number of characters printed\n",
    " */\n",
    " \n",
    "int format_reciever(const char *format, conver_t f_list[], va_list arg_list, char *buffer, int *index)\n",
    "{\n",
    "    int i = 0, j, printed_chars = 0;\n",
    "    flags_t flags;\n",
    "    length_mod_t length_mod;\n",
    "    int width, precision;\n",
    "\n",
    "    while (format[i])\n",
    "    {\n",
    "        if (format[i] == '%')\n",
    "        {\n",
    "            i++;\n",
    "            flags = parse_flags(format, &i);\n",
    "            length_mod = parse_length_mod(format, &i);\n",
    "            width = parse_width(format, &i, arg_list);\n",
    "            precision = parse_precision(format, &i); /* Parse precision */\n",
    "\n",
    "            for (j = 0; f_list[j].sym != NULL; j++)\n",
    "            {\n",
    "                if (format[i] == f_list[j].sym[0])\n",
    "                {\n",
    "                    printed_chars += f_list[j].f(arg_list, buffer, index, flags, length_mod, width, precision);\n",
    "                    break;\n",
    "                }\n",
    "            }\n",
    "            if (f_list[j].sym == NULL)\n",
    "            {\n",
    "                _putchar('%', buffer, index);\n",
    "                _putchar(format[i], buffer, index);\n",
    "                printed_chars += 2;\n",
    "            }\n",
    "            i++;\n",
    "        }\n",
    "        else\n",
    "        {\n",
    "            _putchar(format[i], buffer, index);\n",
    "            printed_chars++;\n",
    "            i++;\n",
    "        }\n",
    "    }\n",
    "    return (printed_chars);\n",
    "}"
   ]
  },
  {
   "cell_type": "code",
   "execution_count": null,
   "metadata": {},
   "outputs": [
    {
     "name": "stdout",
     "output_type": "stream",
     "text": [
      "Overwriting /home/elkomy/alx/printf/_printf.c\n"
     ]
    }
   ],
   "source": [
    "%%file /home/elkomy/alx/printf/_printf.c\n",
    "#include \"main.h\"\n",
    "#include <unistd.h>\n",
    "\n",
    "/**\n",
    "* _printf - Receives the main string and all the necessary parameters to\n",
    "* print a formatted string\n",
    "* @format: A string containing all the desired characters\n",
    "* Return: A total count of the characters printed\n",
    "*/\n",
    "int _printf(const char *format, ...)\n",
    "{\n",
    "va_list arg_list;\n",
    "int printed_chars = 0;\n",
    "char buffer[1024];\n",
    "int index = 0;\n",
    "\n",
    "conver_t f_list[] = {\n",
    "{\"%\", print_percent},\n",
    "{\"c\", print_char},\n",
    "{\"s\", print_string},\n",
    "{\"d\", print_integer},\n",
    "{\"i\", print_integer},\n",
    "{\"b\", print_binary},\n",
    "{\"u\", print_unsigned},\n",
    "{\"o\", print_octal},\n",
    "{\"x\", print_hex},\n",
    "{\"X\", print_HEX},\n",
    "{\"S\", print_special_string},\n",
    "{\"p\", print_pointer},\n",
    "{NULL, NULL}\n",
    "};\n",
    "\n",
    "va_start(arg_list, format);\n",
    "printed_chars = format_reciever(format, f_list, arg_list, buffer, &index);\n",
    "va_end(arg_list);\n",
    "\n",
    "buffer[index] = '\\0';\n",
    "write(1, buffer, index);\n",
    "\n",
    "return (printed_chars);\n",
    "}\n"
   ]
  },
  {
   "cell_type": "code",
   "execution_count": null,
   "metadata": {},
   "outputs": [
    {
     "name": "stdout",
     "output_type": "stream",
     "text": [
      "Overwriting /home/elkomy/alx/printf/main.h\n"
     ]
    }
   ],
   "source": [
    "%%file /home/elkomy/alx/printf/main.h\n",
    "#ifndef MAIN_H\n",
    "#define MAIN_H\n",
    "\n",
    "#include <stdarg.h>\n",
    "#include <stdlib.h>\n",
    "#include <unistd.h>\n",
    "#include <ctype.h>\n",
    "\n",
    "/**\n",
    " * struct flags - struct containing flags to \"turn on\"\n",
    " * when a flag specifier is passed to _printf()\n",
    " * @plus: flag for the '+' character\n",
    " * @space: flag for the ' ' character\n",
    " * @hash: flag for the '#' character\n",
    " */\n",
    "typedef struct flags\n",
    "{\n",
    "    int plus;\n",
    "    int space;\n",
    "    int hash;\n",
    "} flags_t;\n",
    "\n",
    "/**\n",
    " * struct length_mod - struct containing length modifiers\n",
    " * when a length specifier is passed to _printf()\n",
    " * @l: flag for the 'l' character\n",
    " * @h: flag for the 'h' character\n",
    " */\n",
    " \n",
    "typedef struct length_mod\n",
    "{\n",
    "    int l;\n",
    "    int h;\n",
    "} length_mod_t;\n",
    "\n",
    "/**\n",
    " * struct convert - struct for symbols and functions\n",
    " * @sym: The operator\n",
    " * @f: The function associated\n",
    " */\n",
    "typedef struct convert\n",
    "{\n",
    "    char *sym;\n",
    "    int (*f)(va_list, char *, int *, flags_t, length_mod_t, int, int);\n",
    "} conver_t;\n",
    "\n",
    "int _printf(const char *format, ...);\n",
    "int format_reciever(const char *format, conver_t f_list[], va_list arg_list, char *buffer, int *index);\n",
    "int _putchar(char c, char *buffer, int *index);\n",
    "char *convert(unsigned long int num, int base, int lowercase);\n",
    "flags_t parse_flags(const char *format, int *i);\n",
    "length_mod_t parse_length_mod(const char *format, int *i);\n",
    "int parse_width(const char *format, int *i, va_list arg_list);\n",
    "int parse_precision(const char *format, int *i); /* Added parse_precision function */\n",
    "\n",
    "\n",
    "/* Function prototypes */\n",
    "int _printf(const char *format, ...);\n",
    "int print_char(va_list l, char *buf, int *i, flags_t, length_mod_t,int ,int);\n",
    "int print_string(va_list l, char *buf, int *i, flags_t, length_mod_t,int ,int);\n",
    "int print_percent(va_list l, char *buf, int *i, flags_t, length_mod_t,int ,int);\n",
    "int print_integer(va_list l, char *buf, int *i, flags_t, length_mod_t,int ,int);\n",
    "int print_unsigned(va_list l, char *buf, int *i, flags_t, length_mod_t,int ,int);\n",
    "int print_binary(va_list l, char *buf, int *i, flags_t, length_mod_t,int ,int);\n",
    "int print_octal(va_list l, char *buf, int *i, flags_t, length_mod_t,int ,int);\n",
    "int print_hex(va_list l, char *buf, int *i, flags_t, length_mod_t,int ,int);\n",
    "int print_HEX(va_list l, char *buf, int *i, flags_t, length_mod_t,int ,int);\n",
    "int print_pointer(va_list l, char *buf, int *i, flags_t, length_mod_t,int ,int);\n",
    "int print_reverse(va_list l, char *buf, int *i, flags_t, length_mod_t,int ,int);\n",
    "int print_rot13(va_list l, char *buf, int *i, flags_t, length_mod_t,int ,int);\n",
    "int print_non_printable(va_list l, char *buf, int *i, flags_t, length_mod_t,int ,int);\n",
    "int print_special_string(va_list, char *, int *, flags_t, length_mod_t,int ,int);\n",
    "\n",
    "#endif /* MAIN_H */\n"
   ]
  },
  {
   "cell_type": "code",
   "execution_count": null,
   "metadata": {},
   "outputs": [
    {
     "name": "stdout",
     "output_type": "stream",
     "text": [
      "Overwriting /home/elkomy/alx/printf/parse_flags.c\n"
     ]
    }
   ],
   "source": [
    "%%file /home/elkomy/alx/printf/parse_flags.c\n",
    "#include \"main.h\"\n",
    "\n",
    "flags_t parse_flags(const char *format, int *i)\n",
    "{\n",
    "    flags_t flags = {0, 0, 0};\n",
    "\n",
    "    while (format[*i])\n",
    "    {\n",
    "        if (format[*i] == '+')\n",
    "            flags.plus = 1;\n",
    "        else if (format[*i] == ' ')\n",
    "            flags.space = 1;\n",
    "        else if (format[*i] == '#')\n",
    "            flags.hash = 1;\n",
    "        else\n",
    "            break;\n",
    "        (*i)++;\n",
    "    }\n",
    "\n",
    "    return flags;\n",
    "}"
   ]
  },
  {
   "cell_type": "code",
   "execution_count": null,
   "metadata": {},
   "outputs": [
    {
     "name": "stdout",
     "output_type": "stream",
     "text": [
      "Overwriting /home/elkomy/alx/printf/parse_precision.c\n"
     ]
    }
   ],
   "source": [
    "%%file /home/elkomy/alx/printf/parse_precision.c\n",
    "#include \"main.h\"\n",
    "#include <ctype.h>\n",
    "\n",
    "/**\n",
    " * parse_precision - Parses the precision from the format string\n",
    " * @format: The format string\n",
    " * @i: Pointer to the current index in the format string\n",
    " * Return: The precision\n",
    " */\n",
    "int parse_precision(const char *format, int *i)\n",
    "{\n",
    "    int precision = -1; /* Default precision is not set */\n",
    "\n",
    "    if (format[*i] == '.')\n",
    "    {\n",
    "        (*i)++;\n",
    "        precision = 0;\n",
    "        while (isdigit(format[*i]))\n",
    "        {\n",
    "            precision = precision * 10 + (format[*i] - '0');\n",
    "            (*i)++;\n",
    "        }\n",
    "    }\n",
    "\n",
    "    return precision;\n",
    "}\n"
   ]
  },
  {
   "cell_type": "code",
   "execution_count": null,
   "metadata": {},
   "outputs": [
    {
     "name": "stdout",
     "output_type": "stream",
     "text": [
      "Overwriting /home/elkomy/alx/printf/parse_length_mod.c\n"
     ]
    }
   ],
   "source": [
    "%%file /home/elkomy/alx/printf/parse_length_mod.c\n",
    "#include \"main.h\"\n",
    "\n",
    "length_mod_t parse_length_mod(const char *format, int *i)\n",
    "{\n",
    "    length_mod_t length_mod = {0, 0};\n",
    "\n",
    "    if (format[*i] == 'l')\n",
    "    {\n",
    "        length_mod.l = 1;\n",
    "        (*i)++;\n",
    "    }\n",
    "    else if (format[*i] == 'h')\n",
    "    {\n",
    "        length_mod.h = 1;\n",
    "        (*i)++;\n",
    "    }\n",
    "\n",
    "    return length_mod;\n",
    "}"
   ]
  },
  {
   "cell_type": "code",
   "execution_count": null,
   "metadata": {},
   "outputs": [
    {
     "name": "stdout",
     "output_type": "stream",
     "text": [
      "Overwriting /home/elkomy/alx/printf/parse_width.c\n"
     ]
    }
   ],
   "source": [
    "%%file /home/elkomy/alx/printf/parse_width.c\n",
    "#include \"main.h\"\n",
    "#include <ctype.h>\n",
    "\n",
    "/**\n",
    " * parse_width - Parses the width from the format string\n",
    " * @format: The format string\n",
    " * @i: Pointer to the current index in the format string\n",
    " * @arg_list: The list of arguments\n",
    " * Return: The width\n",
    " */\n",
    "int parse_width(const char *format, int *i, va_list arg_list)\n",
    "{\n",
    "    int width = 0;\n",
    "\n",
    "    if (isdigit(format[*i]))\n",
    "    {\n",
    "        while (isdigit(format[*i]))\n",
    "        {\n",
    "            width = width * 10 + (format[*i] - '0');\n",
    "            (*i)++;\n",
    "        }\n",
    "    }\n",
    "    else if (format[*i] == '*')\n",
    "    {\n",
    "        width = va_arg(arg_list, int);\n",
    "        (*i)++;\n",
    "    }\n",
    "\n",
    "    return (width);\n",
    "}"
   ]
  },
  {
   "cell_type": "code",
   "execution_count": null,
   "metadata": {},
   "outputs": [
    {
     "name": "stdout",
     "output_type": "stream",
     "text": [
      "Overwriting /home/elkomy/alx/printf/print_char.c\n"
     ]
    }
   ],
   "source": [
    "%%file /home/elkomy/alx/printf/print_char.c\n",
    "#include \"main.h\"\n",
    "#include <stdio.h>\n",
    "\n",
    "/**\n",
    " * print_char - Prints a character\n",
    " * @list: List of arguments\n",
    " * @buffer: Buffer to store characters\n",
    " * @index: Current index in the buffer\n",
    " * @flags: Flags for formatting\n",
    " * @length_mod: Length modifier for formatting\n",
    " * @width: Width for formatting\n",
    " * Return: Number of characters printed\n",
    " */\n",
    "int print_char(va_list list, char *buffer, int *index, flags_t flags, length_mod_t length_mod, int width, int precision)\n",
    "{\n",
    "    char c = va_arg(list, int);\n",
    "    int i;\n",
    "\n",
    "    (void)flags; /* Flags are not used for characters */\n",
    "    (void)length_mod;\n",
    "    (void)precision;\n",
    "\n",
    "    if (width > 1)\n",
    "    {\n",
    "        for (i = 1; i < width; i++)\n",
    "        {\n",
    "            _putchar(' ', buffer, index);\n",
    "        }\n",
    "    }\n",
    "\n",
    "    buffer[*index] = c;\n",
    "    (*index)++;\n",
    "\n",
    "    return (width > 1 ? width : 1);\n",
    "}\n"
   ]
  },
  {
   "cell_type": "code",
   "execution_count": null,
   "metadata": {},
   "outputs": [
    {
     "name": "stdout",
     "output_type": "stream",
     "text": [
      "Overwriting /home/elkomy/alx/printf/convert.c\n"
     ]
    }
   ],
   "source": [
    "%%file /home/elkomy/alx/printf/convert.c\n",
    "#include \"main.h\"\n",
    "#include <stdlib.h>\n",
    "\n",
    "/**\n",
    " * convert - Converts a number to a string in the given base\n",
    " * @num: The number to be converted\n",
    " * @base: The base to convert to\n",
    " * @lowercase: Flag to determine if hex letters should be lowercase\n",
    " * Return: A pointer to the converted string (static buffer)\n",
    " */\n",
    "\n",
    "\n",
    "char *convert(unsigned long int num, int base, int lowercase)\n",
    "{\n",
    "    static char *rep;\n",
    "    static char buffer[50];\n",
    "    char *ptr;\n",
    "\n",
    "    rep = (lowercase) ? \"0123456789abcdef\" : \"0123456789ABCDEF\";\n",
    "    ptr = &buffer[49];\n",
    "    *ptr = '\\0';\n",
    "\n",
    "    do\n",
    "    {\n",
    "        *--ptr = rep[num % base];\n",
    "        num /= base;\n",
    "    } while (num != 0);\n",
    "\n",
    "    return (ptr);\n",
    "}\n"
   ]
  },
  {
   "cell_type": "code",
   "execution_count": null,
   "metadata": {},
   "outputs": [
    {
     "name": "stdout",
     "output_type": "stream",
     "text": [
      "Overwriting /home/elkomy/alx/printf/print_string.c\n"
     ]
    }
   ],
   "source": [
    "%%file /home/elkomy/alx/printf/print_string.c\n",
    "#include \"main.h\"\n",
    "#include <stdio.h>\n",
    "#include <string.h>\n",
    "\n",
    "/**\n",
    " * print_string - Prints a string\n",
    " * @list: List of arguments\n",
    " * @buffer: Buffer to store characters\n",
    " * @index: Current index in the buffer\n",
    " * @flags: Flags for formatting\n",
    " * @length_mod: Length modifier for formatting\n",
    " * @width: Width for formatting\n",
    " * Return: Number of characters printed\n",
    " */\n",
    "int print_string(va_list list, char *buffer, int *index, flags_t flags, length_mod_t length_mod, int width, int precision)\n",
    "{\n",
    "    char *str = va_arg(list, char *);\n",
    "    int len, i, num_chars = 0;\n",
    "\n",
    "    (void)flags; /* Flags are not used for strings */\n",
    "    (void)length_mod;\n",
    "\n",
    "    if (str == NULL)\n",
    "        str = \"(null)\";\n",
    "\n",
    "    len = strlen(str);\n",
    "        /* Respect precision */\n",
    "    if (precision >= 0 && precision < len)\n",
    "        len = precision;\n",
    "\n",
    "\n",
    "\n",
    "    if (width > len)\n",
    "    {\n",
    "        for (i = 0; i < width - len; i++)\n",
    "        {\n",
    "            _putchar(' ', buffer, index);\n",
    "            num_chars++;\n",
    "        }\n",
    "    }\n",
    "    \n",
    "    for (i = 0; i < len; i++)\n",
    "    {\n",
    "        _putchar(str[i], buffer, index);\n",
    "        num_chars++;\n",
    "    }\n",
    "\n",
    "    return (num_chars);\n",
    "}\n"
   ]
  },
  {
   "cell_type": "code",
   "execution_count": null,
   "metadata": {},
   "outputs": [
    {
     "name": "stdout",
     "output_type": "stream",
     "text": [
      "Overwriting /home/elkomy/alx/printf/print_percent.c\n"
     ]
    }
   ],
   "source": [
    "%%file /home/elkomy/alx/printf/print_percent.c\n",
    "#include \"main.h\"\n",
    "#include <stdio.h>\n",
    "\n",
    "/**\n",
    " * print_percent - Prints a percent symbol\n",
    " * @list: List of arguments\n",
    " * @buffer: Buffer to store characters\n",
    " * @index: Current index in the buffer\n",
    " * @flags: Flags for formatting\n",
    " * @length_mod: Length modifier for formatting\n",
    " * @width: Width for formatting\n",
    " * @precision: precision handling \n",
    " * Return: Number of characters printed\n",
    " */\n",
    "int print_percent(va_list list, char *buffer, int *index, flags_t flags,length_mod_t length_mod, int width, int precision)\n",
    "{\n",
    "    (void)list;\n",
    "    (void)flags; /* Flags are not used for percent */\n",
    "    (void)length_mod; \n",
    "    (void)precision;\n",
    "\n",
    "\n",
    "  if (width > 1)  \n",
    "    {\n",
    "        int i;\n",
    "        for (i = 0; i < width - 1; i++)  \n",
    "        {\n",
    "            _putchar(' ', buffer, index);\n",
    "        }\n",
    "    }\n",
    "    buffer[*index] = '%';\n",
    "    (*index)++;\n",
    "\n",
    "  return (width > 1 ? width : 1);\n",
    "}\n"
   ]
  },
  {
   "cell_type": "code",
   "execution_count": null,
   "metadata": {},
   "outputs": [
    {
     "name": "stdout",
     "output_type": "stream",
     "text": [
      "Overwriting /home/elkomy/alx/printf/print_integer.c\n"
     ]
    }
   ],
   "source": [
    "%%file /home/elkomy/alx/printf/print_integer.c\n",
    "\n",
    "\n",
    "#include \"main.h\"\n",
    "#include <stdlib.h>  /* Include stdlib.h for malloc */\n",
    "#include <string.h>\n",
    "\n",
    "/* Helper function to implement itoa since it's not standard in C */\n",
    "void itoa(int num, char *str, int base) {\n",
    "    int i = 0;\n",
    "    int is_negative = 0;\n",
    "    int start, end;\n",
    "\n",
    "    /* Handle 0 explicitly, otherwise empty string is printed for 0 */\n",
    "    if (num == 0) {\n",
    "        str[i++] = '0';\n",
    "        str[i] = '\\0';\n",
    "        return;\n",
    "    }\n",
    "\n",
    "    /* Handle negative numbers for base 10 */\n",
    "    if (num < 0 && base == 10) {\n",
    "        is_negative = 1;\n",
    "        num = -num;\n",
    "    }\n",
    "\n",
    "    /* Process individual digits */\n",
    "    while (num != 0) {\n",
    "        int rem = num % base;\n",
    "        str[i++] = (rem > 9) ? (rem - 10) + 'a' : rem + '0';\n",
    "        num = num / base;\n",
    "    }\n",
    "\n",
    "    /* Append '-' for negative numbers */\n",
    "    if (is_negative) {\n",
    "        str[i++] = '-';\n",
    "    }\n",
    "\n",
    "    str[i] = '\\0';\n",
    "\n",
    "    /* Reverse the string */\n",
    "    start = 0;\n",
    "    end = i - 1;\n",
    "    while (start < end) {\n",
    "        char temp = str[start];\n",
    "        str[start] = str[end];\n",
    "        str[end] = temp;\n",
    "        start++;\n",
    "        end--;\n",
    "    }\n",
    "}\n",
    "\n",
    "/**\n",
    " * print_integer - Prints an integer\n",
    " * @list: List of arguments\n",
    " * @buffer: Buffer to store characters\n",
    " * @index: Current index in the buffer\n",
    " * @flags: Flags for formatting\n",
    " * @length_mod: Length modifier for formatting\n",
    " * @width: Width for formatting\n",
    " * Return: Number of characters printed\n",
    " */\n",
    " \n",
    "int print_integer(va_list list, char *buffer, int *index, flags_t flags, length_mod_t length_mod, int width, int precision)\n",
    "{\n",
    "    long int num;\n",
    "    char str[21]; /* Enough to hold long int in base 10 with sign */\n",
    "    int i = 0, len, num_chars = 0;\n",
    "\n",
    "    /* Get the number based on length modifier */\n",
    "\n",
    "    if (length_mod.l)\n",
    "        num = va_arg(list, long int);\n",
    "    else if (length_mod.h)\n",
    "        num = (short int)va_arg(list, int);\n",
    "    else\n",
    "        num = va_arg(list, int);\n",
    "\n",
    "    /* convert int to string */\n",
    "\n",
    "    itoa(num, str, 10);\n",
    "    len = strlen(str);\n",
    "\n",
    "    /* Handle the precision */\n",
    "    \n",
    "    if (precision >= 0) {\n",
    "        int num_zeros = precision - len + (num < 0);  /* Calculate leading zeros needed */\n",
    "        if (num_zeros > 0) {\n",
    "            /* Shift existing number to the right */\n",
    "            memmove(str + num_zeros, str, len + 1);\n",
    "            /* Add leading zeros */\n",
    "            for (i = 0; i < num_zeros; i++) {\n",
    "                str[i + (num < 0)] = '0';  /* Add zero after the sign if number is negative */\n",
    "            }\n",
    "            len += num_zeros;\n",
    "        }\n",
    "    }\n",
    "\n",
    "    /* Handle space and plus flags */\n",
    "    if (flags.plus && num >= 0)\n",
    "    {\n",
    "        _putchar('+', buffer, index);\n",
    "        num_chars++;\n",
    "    }\n",
    "    else if (flags.space && num >= 0)\n",
    "    {\n",
    "        _putchar(' ', buffer, index);\n",
    "        num_chars++;\n",
    "    }\n",
    "\n",
    "    \n",
    "    if (num < 0) len--; /* Exclude sign for width/precision */\n",
    "\n",
    "\n",
    "    /* Handle width */\n",
    "    if (width > len + num_chars)\n",
    "    {\n",
    "        for (i = 0; i < width - len - num_chars; i++)\n",
    "        {\n",
    "            _putchar(' ', buffer, index);\n",
    "            num_chars++;\n",
    "        }\n",
    "    }\n",
    "\n",
    "    /* Print number */\n",
    "    for (i = 0; i < len; i++)\n",
    "    {\n",
    "        _putchar(str[i], buffer, index);\n",
    "        num_chars++;\n",
    "    }\n",
    "\n",
    "    return (num_chars);\n",
    "}"
   ]
  },
  {
   "cell_type": "code",
   "execution_count": null,
   "metadata": {},
   "outputs": [
    {
     "name": "stdout",
     "output_type": "stream",
     "text": [
      "Overwriting /home/elkomy/alx/printf/print_binary.c\n"
     ]
    }
   ],
   "source": [
    "%%file /home/elkomy/alx/printf/print_binary.c\n",
    "#include \"main.h\"\n",
    "#include <stdio.h>\n",
    "#include <string.h>\n",
    "\n",
    "/**\n",
    " * print_binary - Prints a number in binary\n",
    " * @list: List of arguments\n",
    " * @buffer: Buffer to store characters\n",
    " * @index: Current index in the buffer\n",
    " * @flags: Flags for formatting\n",
    " * @length_mod: Length modifier for formatting\n",
    " * @width: Width for formatting\n",
    " * Return: Number of characters printed\n",
    " */\n",
    "int print_binary(va_list list, char *buffer, int *index, flags_t flags, length_mod_t length_mod, int width, int precision)\n",
    "{\n",
    "    unsigned int num = va_arg(list, unsigned int);\n",
    "    int num_chars = 0;\n",
    "    char *str = convert(num, 2, 0);\n",
    "\n",
    "    (void)flags; /* Flags are not used for binary */\n",
    "    (void)length_mod;\n",
    "    (void)precision;\n",
    "    while (*str)\n",
    "    {\n",
    "        buffer[*index] = *str;\n",
    "        (*index)++;\n",
    "        str++;\n",
    "        num_chars++;\n",
    "    }\n",
    "\n",
    "     if (width > (int)strlen(str))  \n",
    "    {\n",
    "        int i;\n",
    "        for (i = 0; i < width - (int)strlen(str); i++)  \n",
    "        {\n",
    "            _putchar(' ', buffer, index);\n",
    "        }\n",
    "    }\n",
    "\n",
    "    return (num_chars);\n",
    "}\n"
   ]
  },
  {
   "cell_type": "code",
   "execution_count": null,
   "metadata": {},
   "outputs": [
    {
     "name": "stdout",
     "output_type": "stream",
     "text": [
      "Overwriting /home/elkomy/alx/printf/print_unsigned.c\n"
     ]
    }
   ],
   "source": [
    "%%file /home/elkomy/alx/printf/print_unsigned.c\n",
    "#include \"main.h\"\n",
    "#include <stdio.h>\n",
    "#include <string.h>\n",
    "\n",
    "/**\n",
    " * print_unsigned - Prints an unsigned integer\n",
    " * @list: List of arguments\n",
    " * @buffer: Buffer to store characters\n",
    " * @index: Current index in the buffer\n",
    " * @flags: Flags for formatting\n",
    " * @length_mod: Length modifier for formatting\n",
    " * @width: Width for formatting\n",
    " * Return: Number of characters printed\n",
    " */\n",
    "int print_unsigned(va_list list, char *buffer, int *index, flags_t flags, length_mod_t length_mod, int width, int precision)\n",
    "{\n",
    "    unsigned long int num;\n",
    "    int num_chars = 0;\n",
    "    char *str;\n",
    "    size_t len;\n",
    "   \n",
    "    (void)flags; /* Suppress unused parameter warning */\n",
    "    (void)width; /* Suppress unused parameter warning */\n",
    "    \n",
    "    if (length_mod.l)\n",
    "        num = va_arg(list, unsigned long int);\n",
    "    else if (length_mod.h)\n",
    "        num = (unsigned short int)va_arg(list, unsigned int);\n",
    "    else\n",
    "        num = va_arg(list, unsigned int);\n",
    "        \n",
    "    str = convert(num, 10, 0);\n",
    "    len = strlen(str);\n",
    "    if (precision >= 0 && precision < (int)len) \n",
    "    {\n",
    "    len = precision;\n",
    "    }\n",
    "\n",
    "    \n",
    "    if (width > (int)len)  \n",
    "    {\n",
    "        int i;\n",
    "        for (i = 0; i < width - (int)len; i++)  \n",
    "        {\n",
    "            _putchar(' ', buffer, index);\n",
    "            num_chars++;\n",
    "        }\n",
    "    }\n",
    "\n",
    "    while (*str)\n",
    "    {\n",
    "        buffer[*index] = *str;\n",
    "        (*index)++;\n",
    "        str++;\n",
    "        num_chars++;\n",
    "    }\n",
    "\n",
    "    return num_chars;\n",
    "}\n"
   ]
  },
  {
   "cell_type": "code",
   "execution_count": null,
   "metadata": {},
   "outputs": [
    {
     "name": "stdout",
     "output_type": "stream",
     "text": [
      "Overwriting /home/elkomy/alx/printf/print_octal.c\n"
     ]
    }
   ],
   "source": [
    "%%file /home/elkomy/alx/printf/print_octal.c\n",
    "#include \"main.h\"\n",
    "#include <stdio.h>\n",
    "#include <string.h>\n",
    "\n",
    "/**\n",
    " * print_octal - Prints a number in octal\n",
    " * @list: List of arguments\n",
    " * @buffer: Buffer to store characters\n",
    " * @index: Current index in the buffer\n",
    " * @flags: Flags for formatting\n",
    " * @length_mod: Length modifier for formatting\n",
    " * @width: Width for formatting\n",
    " * Return: Number of characters printed\n",
    " */\n",
    "int print_octal(va_list list, char *buffer, int *index, flags_t flags, length_mod_t length_mod, int width, int precision)\n",
    "{\n",
    "    unsigned long int num ;\n",
    "    char *str;\n",
    "    int num_chars = 0, len, i;\n",
    "    \n",
    "     (void)precision;\n",
    "    if (length_mod.l)\n",
    "        num = va_arg(list, unsigned long int);\n",
    "    else if (length_mod.h)\n",
    "        num = (unsigned short int)va_arg(list, unsigned int);\n",
    "    else\n",
    "        num = va_arg(list, unsigned int);\n",
    "\n",
    "    str = convert(num, 8, 0);\n",
    "    len = strlen(str);\n",
    "\n",
    "    if (flags.hash && num != 0)\n",
    "    {\n",
    "         _putchar('0', buffer, index);\n",
    "        num_chars++;\n",
    "        if (width > 0)\n",
    "            width--;\n",
    "    }\n",
    "\n",
    "   \n",
    "    if (width > len)\n",
    "    {\n",
    "        for (i = 0; i < width - len; i++)\n",
    "        {\n",
    "            _putchar(' ', buffer, index);\n",
    "            num_chars++;\n",
    "        }\n",
    "    }\n",
    "\n",
    "    while (*str)\n",
    "    {\n",
    "        buffer[*index] = *str;\n",
    "        (*index)++;\n",
    "        str++;\n",
    "        num_chars++;\n",
    "    }\n",
    "\n",
    "    return (num_chars);\n",
    "}\n"
   ]
  },
  {
   "cell_type": "code",
   "execution_count": null,
   "metadata": {},
   "outputs": [
    {
     "name": "stdout",
     "output_type": "stream",
     "text": [
      "Overwriting /home/elkomy/alx/printf/print_hex.c\n"
     ]
    }
   ],
   "source": [
    "%%file /home/elkomy/alx/printf/print_hex.c\n",
    "#include \"main.h\"\n",
    "#include <stdio.h>\n",
    "#include <string.h>\n",
    "\n",
    "/**\n",
    " * print_hex - Prints a number in hexadecimal (lowercase)\n",
    " * @list: List of arguments\n",
    " * @buffer: Buffer to store characters\n",
    " * @index: Current index in the buffer\n",
    " * @flags: Flags for formatting\n",
    " * @length_mod: Length modifier for formatting\n",
    " * @width: Width for formatting\n",
    " * Return: Number of characters printed\n",
    " */\n",
    "int print_hex(va_list list, char *buffer, int *index, flags_t flags, length_mod_t length_mod, int width, int precision)\n",
    "{\n",
    "    unsigned long int num;\n",
    "    char *str;\n",
    "    int num_chars = 0, len, i;\n",
    "\n",
    "     (void)precision;\n",
    "    if (length_mod.l)\n",
    "        num = va_arg(list, unsigned long int);\n",
    "    else if (length_mod.h)\n",
    "        num = (unsigned short int)va_arg(list, unsigned int);\n",
    "    else\n",
    "        num = va_arg(list,unsigned int);\n",
    "\n",
    "    str = convert(num, 16, 1); \n",
    "    len = strlen(str);\n",
    "\n",
    "    if (flags.hash && num != 0)\n",
    "    {\n",
    "      _putchar('0', buffer, index);\n",
    "      _putchar('x', buffer, index);\n",
    "      num_chars += 2;\n",
    "     if (width > 0)\n",
    "        width -= 2;\n",
    "    }\n",
    "\n",
    "\n",
    "    if (width > (int)strlen(str)) \n",
    "    {\n",
    "        \n",
    "        for (i = 0; i < width - len; i++)\n",
    "        {\n",
    "            _putchar(' ', buffer, index);\n",
    "            num_chars++;\n",
    "        }\n",
    "    }\n",
    "\n",
    "    while (*str)\n",
    "    {\n",
    "        buffer[*index] = *str;\n",
    "        (*index)++;\n",
    "        str++;\n",
    "        num_chars++;\n",
    "    }\n",
    "\n",
    "    return (num_chars);\n",
    "}\n"
   ]
  },
  {
   "cell_type": "code",
   "execution_count": null,
   "metadata": {},
   "outputs": [
    {
     "name": "stdout",
     "output_type": "stream",
     "text": [
      "Overwriting /home/elkomy/alx/printf/print_HEX.c\n"
     ]
    }
   ],
   "source": [
    "%%file /home/elkomy/alx/printf/print_HEX.c\n",
    "\n",
    "#include \"main.h\"\n",
    "#include <stdio.h>\n",
    "#include <string.h>\n",
    "\n",
    "/**\n",
    " * print_HEX - Prints a number in hexadecimal (uppercase)\n",
    " * @list: List of arguments\n",
    " * @buffer: Buffer to store characters\n",
    " * @index: Current index in the buffer\n",
    " * @flags: Flags for formatting\n",
    " * @length_mod: Length modifier for formatting\n",
    " * @width: width for formatting\n",
    " * Return: Number of characters printed\n",
    " */\n",
    "int print_HEX(va_list list, char *buffer, int *index, flags_t flags, length_mod_t length_mod, int width, int precision)\n",
    "{\n",
    "    unsigned long int num;\n",
    "     char *str;\n",
    "    int num_chars = 0, len ,i;\n",
    "   \n",
    "     (void)precision;\n",
    "    if (length_mod.l)\n",
    "        num = va_arg(list, unsigned long int);\n",
    "    else if (length_mod.h)\n",
    "        num = (unsigned short int)va_arg(list, unsigned int);\n",
    "    else\n",
    "        num = va_arg(list, unsigned int);\n",
    "\n",
    "    str = convert(num, 16, 0);\n",
    "    len = strlen(str);\n",
    "\n",
    "    if (flags.hash && num != 0)\n",
    "    {\n",
    "    _putchar('0', buffer, index);\n",
    "    _putchar('X', buffer, index);\n",
    "    num_chars += 2;\n",
    "    if (width > 0)\n",
    "        width -= 2;\n",
    "    }\n",
    "\n",
    "\n",
    "    if (width > len)\n",
    "    {\n",
    "       for (i = 0; i < width - len; i++)\n",
    "    {\n",
    "            _putchar(' ', buffer, index);\n",
    "            num_chars++;\n",
    "    }\n",
    "    }\n",
    "\n",
    "    while (*str)\n",
    "    {\n",
    "        buffer[*index] = *str;\n",
    "        (*index)++;\n",
    "        str++;\n",
    "        num_chars++;\n",
    "    }\n",
    "\n",
    "    return (num_chars);\n",
    "}"
   ]
  },
  {
   "cell_type": "code",
   "execution_count": null,
   "metadata": {},
   "outputs": [
    {
     "name": "stdout",
     "output_type": "stream",
     "text": [
      "Overwriting /home/elkomy/alx/printf/print_reverse.c\n"
     ]
    }
   ],
   "source": [
    "%%file /home/elkomy/alx/printf/print_reverse.c\n",
    "#include \"main.h\"\n",
    "#include <stdio.h>\n",
    "#include <string.h>\n",
    "\n",
    "/**\n",
    " * print_reverse - Prints a string in reverse\n",
    " * @list: List of arguments\n",
    " * @buffer: Buffer to store characters\n",
    " * @index: Current index in the buffer\n",
    " * @flags: Flags for formatting\n",
    " * @length_mod: Length modifier for formatting \n",
    " * @width: Width for formatting\n",
    " * Return: Number of characters printed\n",
    " */\n",
    "\n",
    "int print_reverse(va_list list, char *buffer, int *index, flags_t flags, length_mod_t length_mod, int width, int precision)\n",
    "{\n",
    "    char *str = va_arg(list, char *);\n",
    "    int len, i, num_chars = 0;\n",
    "\n",
    "    (void)flags; /* Flags are not used for strings */\n",
    "    (void)length_mod;\n",
    "    (void)precision;\n",
    "\n",
    "    if (str == NULL)\n",
    "        str = \"(null)\";\n",
    "\n",
    "    len = strlen(str);\n",
    "\n",
    "    if (width > len) \n",
    "    {\n",
    "        for (i = 0; i < width - len; i++)  \n",
    "        {\n",
    "            _putchar(' ', buffer, index);\n",
    "            num_chars++;\n",
    "        }\n",
    "    }\n",
    "\n",
    "    for (i = len - 1; i >= 0; i--)\n",
    "    {\n",
    "        _putchar(str[i], buffer, index);\n",
    "        num_chars++;\n",
    "    }\n",
    "\n",
    "    return (num_chars);\n",
    "}\n"
   ]
  },
  {
   "cell_type": "code",
   "execution_count": null,
   "metadata": {},
   "outputs": [
    {
     "name": "stdout",
     "output_type": "stream",
     "text": [
      "Overwriting /home/elkomy/alx/printf/print_rot13.c\n"
     ]
    }
   ],
   "source": [
    "%%file /home/elkomy/alx/printf/print_rot13.c\n",
    "#include \"main.h\"\n",
    "#include <stdio.h>\n",
    "#include <string.h>\n",
    "\n",
    "/**\n",
    " * print_rot13 - Encodes a string using rot13 and prints it\n",
    " * @list: List of arguments\n",
    " * @buffer: Buffer to store characters\n",
    " * @index: Current index in the buffer\n",
    " * @flags: Flags for formatting\n",
    " * @length_mod: Length modifier for formatting\n",
    " * @width: Width for formatting\n",
    " * Return: Number of characters printed\n",
    " */\n",
    "int print_rot13(va_list list, char *buffer, int *index, flags_t flags, length_mod_t length_mod, int width, int precision)\n",
    "{\n",
    "    char *str = va_arg(list, char *);\n",
    "    char in[] = \"ABCDEFGHIJKLMNOPQRSTUVWXYZabcdefghijklmnopqrstuvwxyz\";\n",
    "    char out[] = \"NOPQRSTUVWXYZABCDEFGHIJKLMnopqrstuvwxyzabcdefghijklm\";\n",
    "    int len, i, j, num_chars = 0;\n",
    "\n",
    "    (void)flags; /* Flags are not used for rot13 */\n",
    "    (void)length_mod;\n",
    "    (void)precision;\n",
    "\n",
    "    if (str == NULL)\n",
    "        str = \"(null)\";\n",
    "\n",
    "    len = strlen(str);\n",
    "\n",
    "    if (width > len)\n",
    "    {\n",
    "        for (i = 0; i < width - len; i++)\n",
    "        {\n",
    "            _putchar(' ', buffer, index);\n",
    "            num_chars++;\n",
    "        }\n",
    "    }\n",
    "\n",
    "    while (*str)\n",
    "    {\n",
    "        for (j = 0; j < 52; j++)\n",
    "        {\n",
    "            if (*str == in[j])\n",
    "            {\n",
    "                buffer[*index] = out[j];\n",
    "                (*index)++;\n",
    "                num_chars++;\n",
    "                break;\n",
    "            }\n",
    "        }\n",
    "        if (j == 52)\n",
    "        {\n",
    "            buffer[*index] = *str;\n",
    "            (*index)++;\n",
    "            num_chars++;\n",
    "        }\n",
    "        str++;\n",
    "    }\n",
    "\n",
    "    return (num_chars);\n",
    "}\n"
   ]
  },
  {
   "cell_type": "code",
   "execution_count": null,
   "metadata": {},
   "outputs": [
    {
     "name": "stdout",
     "output_type": "stream",
     "text": [
      "Overwriting /home/elkomy/alx/printf/print_non_printable.c\n"
     ]
    }
   ],
   "source": [
    "%%file /home/elkomy/alx/printf/print_non_printable.c\n",
    "#include \"main.h\"\n",
    "#include <stdio.h>\n",
    "#include <string.h>\n",
    "\n",
    "/**\n",
    " * print_non_printable - Prints a string with non-printable characters in hex\n",
    " * @list: List of arguments\n",
    " * @buffer: Buffer to store characters\n",
    " * @index: Current index in the buffer\n",
    " * @flags: Flags for formatting\n",
    " * @length_mod: Length modifier for formatting\n",
    " * @width: Width for formatting\n",
    " * Return: Number of characters printed\n",
    " */\n",
    "int print_non_printable(va_list list, char *buffer, int *index, flags_t flags, length_mod_t length_mod, int width, int precision)\n",
    "{\n",
    "    char *str = va_arg(list, char *);\n",
    "    char hex[5];\n",
    "    int len, i, num_chars = 0;\n",
    "\n",
    "    (void)flags; /* Flags are not used for non-printable characters */\n",
    "    (void)length_mod;\n",
    "     (void)precision;\n",
    "\n",
    "    if (str == NULL)\n",
    "        str = \"(null)\";\n",
    "\n",
    "    len = strlen(str);\n",
    "\n",
    "    if (width > len)\n",
    "    {\n",
    "        for (i = 0; i < width - len; i++)\n",
    "        {\n",
    "            _putchar(' ', buffer, index);\n",
    "            num_chars++;\n",
    "        }\n",
    "    }\n",
    "\n",
    "    while (*str)\n",
    "    {\n",
    "        if (*str < 32 || *str >= 127)\n",
    "        {\n",
    "            sprintf(hex, \"\\\\x%02X\", (unsigned char)*str);\n",
    "            for (i = 0; hex[i]; i++)\n",
    "            {\n",
    "                buffer[*index] = hex[i];\n",
    "                (*index)++;\n",
    "                num_chars++;\n",
    "            }\n",
    "        }\n",
    "        else\n",
    "        {\n",
    "            buffer[*index] = *str;\n",
    "            (*index)++;\n",
    "            num_chars++;\n",
    "        }\n",
    "        str++;\n",
    "    }\n",
    "\n",
    "    return (num_chars);\n",
    "}"
   ]
  },
  {
   "cell_type": "code",
   "execution_count": null,
   "metadata": {},
   "outputs": [
    {
     "name": "stdout",
     "output_type": "stream",
     "text": [
      "Overwriting /home/elkomy/alx/printf/print_special_string.c\n"
     ]
    }
   ],
   "source": [
    "%%file /home/elkomy/alx/printf/print_special_string.c\n",
    "#include \"main.h\"\n",
    "#include <stdio.h>\n",
    "\n",
    "/**\n",
    " * print_special_string - Prints a special string with non-printable characters\n",
    " * @list: List of arguments\n",
    " * @buffer: Buffer to store characters\n",
    " * @index: Current index in the buffer\n",
    " * @flags: Flags for formatting\n",
    " * @length_mod: Length modifier for formatting\n",
    " * @width: Width for formatting\n",
    " * Return: Number of characters printed\n",
    " */\n",
    "int print_special_string(va_list list, char *buffer, int *index, flags_t flags, length_mod_t length_mod, int width, int precision)\n",
    "{\n",
    "    char *str = va_arg(list, char *);\n",
    "    int i = 0, count = 0;\n",
    "\n",
    "    (void)flags; /* Suppress unused parameter warning */\n",
    "    (void)length_mod;\n",
    "    (void)width;\n",
    "    (void)precision;\n",
    "\n",
    "    if (str == NULL)\n",
    "        str = \"(null)\";\n",
    "\n",
    "    while (str[i])\n",
    "    {\n",
    "        if ((str[i] > 0 && str[i] < 32) || str[i] >= 127)\n",
    "        {\n",
    "            count += sprintf(&buffer[*index], \"\\\\x%02X\", (unsigned char)str[i]);\n",
    "            *index += 4;\n",
    "        }\n",
    "        else\n",
    "        {\n",
    "            _putchar(str[i], buffer, index);\n",
    "            count++;\n",
    "        }\n",
    "        i++;\n",
    "    }\n",
    "\n",
    "    return (count);\n",
    "}\n"
   ]
  },
  {
   "cell_type": "code",
   "execution_count": null,
   "metadata": {},
   "outputs": [
    {
     "name": "stdout",
     "output_type": "stream",
     "text": [
      "Overwriting /home/elkomy/alx/printf/print_pointer.c\n"
     ]
    }
   ],
   "source": [
    "%%file /home/elkomy/alx/printf/print_pointer.c\n",
    "#include \"main.h\"\n",
    "#include <stdio.h>\n",
    "#include <string.h>\n",
    "\n",
    "/**\n",
    " * print_pointer - Prints a pointer address\n",
    " * @list: List of arguments\n",
    " * @buffer: Buffer to store characters\n",
    " * @index: Current index in the buffer\n",
    " * @flags: Flags for formatting\n",
    " * @length_mod: Length modifier for formatting\n",
    " * @width: Width for formatting\n",
    " * Return: Number of characters printed\n",
    " */\n",
    "int print_pointer(va_list list, char *buffer, int *index, flags_t flags, length_mod_t length_mod, int width, int precision)\n",
    "{\n",
    "    void *ptr = va_arg(list, void *);\n",
    "    unsigned long int addr = (unsigned long int)ptr;\n",
    "    char hex[17];\n",
    "    int i, digit, num_chars = 2; \n",
    "\n",
    "    (void)flags; /* Suppress unused parameter warning */\n",
    "    (void)length_mod;\n",
    "    (void)precision;\n",
    "\n",
    "    _putchar('0', buffer, index);\n",
    "    _putchar('x', buffer, index);\n",
    "\n",
    "    i = 15;\n",
    "    while (addr)\n",
    "    {\n",
    "        digit = addr % 16;\n",
    "        hex[i--] = (digit < 10) ? digit + '0' : digit - 10 + 'a';\n",
    "        addr /= 16;\n",
    "    }\n",
    "    i++;\n",
    "    while (i < 16)\n",
    "    {\n",
    "        _putchar(hex[i++], buffer, index);\n",
    "        num_chars++;\n",
    "    }\n",
    "\n",
    "    /* Handle width */\n",
    "    if (width > num_chars)\n",
    "    {\n",
    "        for (i = 0; i < width - num_chars; i++)\n",
    "        {\n",
    "            _putchar(' ', buffer, index);\n",
    "            num_chars++;\n",
    "        }\n",
    "    }\n",
    "\n",
    "    return num_chars;\n",
    "}"
   ]
  },
  {
   "cell_type": "code",
   "execution_count": null,
   "metadata": {},
   "outputs": [
    {
     "name": "stdout",
     "output_type": "stream",
     "text": [
      "Overwriting /home/elkomy/alx/printf/tests/main.c\n"
     ]
    }
   ],
   "source": [
    "%%file /home/elkomy/alx/printf/tests/main.c\n",
    "#include <limits.h>\n",
    "#include <stdio.h>\n",
    "#include \"main.h\"\n",
    "\n",
    "/**\n",
    " * main - Entry point\n",
    " *\n",
    " * Return: Always 0\n",
    " */\n",
    "int main(void)\n",
    "{\n",
    "    int len;\n",
    "    int len2;\n",
    "    unsigned int ui;\n",
    "    void *addr;\n",
    "\n",
    "    len = _printf(\"Let's try to printf a simple sentence.\\n\");\n",
    "    len2 = printf(\"Let's try to printf a simple sentence.\\n\");\n",
    "    ui = (unsigned int)INT_MAX + 1024;\n",
    "    addr = (void *)0x7ffe637541f0;\n",
    "    _printf(\"Length:[%d, %i]\\n\", len, len);\n",
    "    printf(\"Length:[%d, %i]\\n\", len2, len2);\n",
    "    _printf(\"Negative:[%d]\\n\", -762534);\n",
    "    printf(\"Negative:[%d]\\n\", -762534);\n",
    "    _printf(\"Unsigned:[%u]\\n\", ui);\n",
    "    printf(\"Unsigned:[%u]\\n\", ui);\n",
    "    _printf(\"Unsigned octal:[%o]\\n\", ui);\n",
    "    printf(\"Unsigned octal:[%o]\\n\", ui);\n",
    "    _printf(\"Unsigned hexadecimal:[%x, %X]\\n\", ui, ui);\n",
    "    printf(\"Unsigned hexadecimal:[%x, %X]\\n\", ui, ui);\n",
    "    _printf(\"Character:[%c]\\n\", 'H');\n",
    "    printf(\"Character:[%c]\\n\", 'H');\n",
    "    _printf(\"String:[%s]\\n\", \"I am a string !\");\n",
    "    printf(\"String:[%s]\\n\", \"I am a string !\");\n",
    "    _printf(\"Address:[%p]\\n\", addr);\n",
    "    printf(\"Address:[%p]\\n\", addr);\n",
    "    len = _printf(\"Percent:[%%]\\n\");\n",
    "    len2 = printf(\"Percent:[%%]\\n\");\n",
    "    _printf(\"Len:[%d]\\n\", len);\n",
    "    printf(\"Len:[%d]\\n\", len2);\n",
    "    _printf(\"Unknown:[%r]\\n\");\n",
    "    printf(\"Unknown:[%r]\\n\");\n",
    "    return (0);\n",
    "}"
   ]
  },
  {
   "cell_type": "code",
   "execution_count": null,
   "metadata": {},
   "outputs": [
    {
     "name": "stdout",
     "output_type": "stream",
     "text": [
      "\n",
      "========== /home/elkomy/alx/printf/_printf.c ==========\n",
      "_printf\n",
      "Let's try to printf a simple sentence.\n",
      "Let's try to printf a simple sentence.\n",
      "Length:[39, 39]\n",
      "Length:[39, 39]\n",
      "Negative:[-76253]\n",
      "Negative:[-762534]\n",
      "Unsigned:[2147484671]\n",
      "Unsigned:[2147484671]\n",
      "Unsigned octal:[20000001777]\n",
      "Unsigned octal:[20000001777]\n",
      "Unsigned hexadecimal:[800003ff, 800003FF]\n",
      "Unsigned hexadecimal:[800003ff, 800003FF]\n",
      "Character:[H]\n",
      "Character:[H]\n",
      "String:[I am a string !]\n",
      "String:[I am a string !]\n",
      "Address:[0x7ffe637541f0]\n",
      "Address:[0x7ffe637541f0]\n",
      "Percent:[%]\n",
      "Percent:[%]\n",
      "Len:[12]\n",
      "Len:[12]\n",
      "Unknown:[%r]\n",
      "Unknown:[%r]\n"
     ]
    }
   ],
   "source": [
    "\n",
    "!betty /home/elkomy/alx/printf/_printf.c\n",
    "!gcc -Wall -Werror -Wextra -pedantic -std=gnu89 -Wno-format /home/elkomy/alx/printf/*.c /home/elkomy/alx/printf/tests/main.c -o /home/elkomy/alx/printf/printf\n",
    "!./printf\n"
   ]
  },
  {
   "cell_type": "code",
   "execution_count": null,
   "metadata": {},
   "outputs": [
    {
     "name": "stdout",
     "output_type": "stream",
     "text": [
      "[main acd0a0f] alx-low_level_programming/0x0D-preprocessor/0-putchar\n",
      " 19 files changed, 2104 insertions(+), 317 deletions(-)\n",
      " create mode 100644 parse_precision.c\n",
      " rewrite printf (60%)\n"
     ]
    },
    {
     "name": "stderr",
     "output_type": "stream",
     "text": [
      "To https://github.com/elkomysara/printf\n",
      "   7807a39..acd0a0f  main -> main\n"
     ]
    }
   ],
   "source": [
    "%%bash\n",
    "git add .\n",
    "git commit -m \"alx-low_level_programming/0x0D-preprocessor/0-putchar\"\n",
    "git push"
   ]
  }
 ],
 "metadata": {
  "kernelspec": {
   "display_name": "Python 3",
   "language": "python",
   "name": "python3"
  },
  "language_info": {
   "codemirror_mode": {
    "name": "ipython",
    "version": 3
   },
   "file_extension": ".py",
   "mimetype": "text/x-python",
   "name": "python",
   "nbconvert_exporter": "python",
   "pygments_lexer": "ipython3",
   "version": "3.12.3"
  }
 },
 "nbformat": 4,
 "nbformat_minor": 2
}
