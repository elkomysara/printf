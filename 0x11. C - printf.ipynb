{
 "cells": [
  {
   "cell_type": "markdown",
   "metadata": {},
   "source": [
    "---\n",
    "<center>\n",
    "<h1>  printf</h1>\n",
    "</center>\n",
    "\n",
    "---\n"
   ]
  },
  {
   "cell_type": "code",
   "execution_count": 1,
   "metadata": {},
   "outputs": [],
   "source": [
    "import os\n",
    "# creating 0x02-shell_redirectionss\n",
    "\n",
    "folder_path = r'/home/elkomy/alx/printf'\n",
    "if not os.path.exists(folder_path):\n",
    "    os.makedirs(folder_path)\n",
    "\n",
    "# Create a README.md inside alx-low_level_programming/0x0D-preprocessor\n",
    "file_path = os.path.join(folder_path, 'README.md')\n",
    "\n",
    "with open(file_path, 'w') as file:\n",
    "    file.write(\"This is a README.md file inside alx-low_level_programming/0x0D-preprocessor\")\n",
    "\n"
   ]
  },
  {
   "cell_type": "code",
   "execution_count": 12,
   "metadata": {},
   "outputs": [],
   "source": [
    "!cd /home/elkomy/alx/printf"
   ]
  },
  {
   "cell_type": "code",
   "execution_count": 13,
   "metadata": {},
   "outputs": [
    {
     "name": "stdout",
     "output_type": "stream",
     "text": [
      "/home/elkomy/alx/printf\n"
     ]
    }
   ],
   "source": [
    "!pwd"
   ]
  },
  {
   "cell_type": "markdown",
   "metadata": {},
   "source": [
    "###\n",
    "---\n",
    "<center>\n",
    "<h1> 0x11. C - printf </h1>\n",
    "</center>\n",
    "\n",
    "---\n"
   ]
  },
  {
   "cell_type": "markdown",
   "metadata": {},
   "source": [
    "###\n",
    "---\n",
    "<center>\n",
    "<h4> 0. I'm not going anywhere. You can print that wherever you want to. I'm here and I'm a Spur for life</h4>\n",
    "</center>\n",
    "\n",
    "---"
   ]
  },
  {
   "cell_type": "markdown",
   "metadata": {},
   "source": [
    "\n",
    "#### Write a function that produces output according to a format.\n",
    "\n",
    "* Prototype: `int _printf(const char *format, ...);`\n",
    "* Returns: the number of characters printed (excluding the null byte used to end output to strings)\n",
    "* write output to stdout, the standard output stream\n",
    "* `format` is a character string. The format string is composed of zero or more directives. See `man 3 printf` for more detail. You need to handle the following conversion specifiers:\n",
    "    * c\n",
    "    * s\n",
    "    * %\n",
    "* You don’t have to reproduce the buffer handling of the C library `printf` function\n",
    "* You don’t have to handle the flag characters\n",
    "* You don’t have to handle field width\n",
    "* You don’t have to handle precision\n",
    "* You don’t have to handle the length modifiers\n",
    "#### Repo:\n",
    "* GitHub repository: ```  printf ```"
   ]
  },
  {
   "cell_type": "code",
   "execution_count": 177,
   "metadata": {},
   "outputs": [
    {
     "name": "stdout",
     "output_type": "stream",
     "text": [
      "Overwriting /home/elkomy/alx/printf/_printf.c\n"
     ]
    }
   ],
   "source": [
    "%%file /home/elkomy/alx/printf/_printf.c\n",
    "#include \"main.h\"\n",
    "\n",
    "/**\n",
    "* _printf - Receives the main string and all the necessary parameters to\n",
    "* print a formatted string\n",
    "* @format: A string containing all the desired characters\n",
    "* Return: A total count of the characters printed\n",
    "*/\n",
    "int _printf(const char *format, ...)\n",
    "{\n",
    "int printed_chars;\n",
    "conver_t f_list[] = {\n",
    "{\"%\", print_percent},\n",
    "{\"c\", print_char},\n",
    "{\"s\", print_string},\n",
    "{NULL, NULL},\n",
    "};\n",
    "va_list arg_list;\n",
    "\n",
    "if (format == NULL)\n",
    "return (-1);\n",
    "\n",
    "va_start(arg_list, format);\n",
    "printed_chars = format_reciever(format, f_list, arg_list);\n",
    "va_end(arg_list);\n",
    "\n",
    "return (printed_chars);\n",
    "}\n"
   ]
  },
  {
   "cell_type": "code",
   "execution_count": null,
   "metadata": {},
   "outputs": [
    {
     "name": "stdout",
     "output_type": "stream",
     "text": [
      "Overwriting /home/elkomy/alx/printf/format_reciever.c\n"
     ]
    }
   ],
   "source": [
    "%%file /home/elkomy/alx/printf/format_reciever.c\n",
    "#include \"main.h\"\n",
    "\n",
    "/**\n",
    "* format_reciever - Receives the format and the argument list, then calls the appropriate function\n",
    "* @format: The format string\n",
    "* @f_list: List of conversion specifiers and associated functions\n",
    "* @arg_list: Argument list\n",
    "* Return: The number of characters printed\n",
    "*/\n",
    "int format_reciever(const char *format, conver_t f_list[], va_list arg_list)\n",
    "{\n",
    "int i, j, printed_chars = 0;\n",
    "\n",
    "for (i = 0; format[i] != '\\0'; i++)\n",
    "{\n",
    "if (format[i] == '%')\n",
    "{\n",
    "for (j = 0; f_list[j].sym != NULL; j++)\n",
    "{\n",
    "if (format[i + 1] == f_list[j].sym[0])\n",
    "{\n",
    "printed_chars += f_list[j].f(arg_list);\n",
    "i++;\n",
    "break;\n",
    "}\n",
    "}\n",
    "if (f_list[j].sym == NULL && format[i + 1] != ' ')\n",
    "{\n",
    "_putchar(format[i]);\n",
    "printed_chars++;\n",
    "}\n",
    "}\n",
    "else\n",
    "{\n",
    "_putchar(format[i]);\n",
    "printed_chars++;\n",
    "}\n",
    "}\n",
    "return (printed_chars);\n",
    "}\n",
    "\n"
   ]
  },
  {
   "cell_type": "code",
   "execution_count": 178,
   "metadata": {},
   "outputs": [
    {
     "name": "stdout",
     "output_type": "stream",
     "text": [
      "Overwriting /home/elkomy/alx/printf/print_percent.c\n"
     ]
    }
   ],
   "source": [
    "%%file /home/elkomy/alx/printf/print_percent.c\n",
    "#include \"main.h\"\n",
    "\n",
    "/**\n",
    "* print_percent - Prints a percent symbol\n",
    "* @list: list of arguments\n",
    "* Return: Will return the amount of characters printed.\n",
    "*/\n",
    "int print_percent(__attribute__((unused))va_list list)\n",
    "{\n",
    "_putchar('%');\n",
    "return (1);\n",
    "}\n",
    "\n"
   ]
  },
  {
   "cell_type": "code",
   "execution_count": 179,
   "metadata": {},
   "outputs": [
    {
     "name": "stdout",
     "output_type": "stream",
     "text": [
      "Overwriting /home/elkomy/alx/printf/print_char.c\n"
     ]
    }
   ],
   "source": [
    "%%file /home/elkomy/alx/printf/print_char.c\n",
    "#include \"main.h\"\n",
    "\n",
    "/**\n",
    "* print_char - Prints character\n",
    "* @list: list of arguments\n",
    "* Return: Will return the amount of characters printed.\n",
    "*/\n",
    "int print_char(va_list list)\n",
    "{\n",
    "_putchar(va_arg(list, int));\n",
    "return (1);\n",
    "}\n"
   ]
  },
  {
   "cell_type": "code",
   "execution_count": 180,
   "metadata": {},
   "outputs": [
    {
     "name": "stdout",
     "output_type": "stream",
     "text": [
      "Overwriting /home/elkomy/alx/printf/print_string.c\n"
     ]
    }
   ],
   "source": [
    "%%file /home/elkomy/alx/printf/print_string.c\n",
    "#include \"main.h\"\n",
    "\n",
    "/**\n",
    "* print_string - Prints a string\n",
    "* @list: list of arguments\n",
    "* Return: Will return the amount of characters printed.\n",
    "*/\n",
    "int print_string(va_list list)\n",
    "{\n",
    "int i;\n",
    "char *str;\n",
    "\n",
    "str = va_arg(list, char *);\n",
    "if (str == NULL)\n",
    "str = \"(null)\";\n",
    "for (i = 0; str[i] != '\\0'; i++)\n",
    "_putchar(str[i]);\n",
    "return (i);\n",
    "}\n"
   ]
  },
  {
   "cell_type": "code",
   "execution_count": 181,
   "metadata": {},
   "outputs": [
    {
     "name": "stdout",
     "output_type": "stream",
     "text": [
      "Overwriting /home/elkomy/alx/printf/main.h\n"
     ]
    }
   ],
   "source": [
    "%%file /home/elkomy/alx/printf/main.h\n",
    "#ifndef MAIN_H\n",
    "#define MAIN_H\n",
    "\n",
    "#include <stdio.h>\n",
    "#include <unistd.h>\n",
    "#include <stdlib.h>\n",
    "#include <stdarg.h>\n",
    "#include <limits.h>\n",
    "\n",
    "#define NULL_STRING \"(null)\"\n",
    "#define NUL '\\0'\n",
    "\n",
    "/**\n",
    " * struct convert - defines a structure for symbols and functions\n",
    " * @sym: The operator\n",
    " * @f: The function associated\n",
    " */\n",
    "struct convert\n",
    "{\n",
    "    char *sym;\n",
    "    int (*f)(va_list);\n",
    "};\n",
    "typedef struct convert conver_t;\n",
    "\n",
    "int _printf(const char *format, ...);\n",
    "int _putchar(char c);\n",
    "int format_reciever(const char *format, conver_t f_list[], va_list arg_list);\n",
    "int print_percent(va_list);\n",
    "int print_char(va_list);\n",
    "int print_string(va_list);\n",
    "#endif /* MAIN_H */\n",
    "\n",
    "\n"
   ]
  },
  {
   "cell_type": "code",
   "execution_count": 182,
   "metadata": {},
   "outputs": [
    {
     "name": "stdout",
     "output_type": "stream",
     "text": [
      "Overwriting /home/elkomy/alx/printf/_putchar.c\n"
     ]
    }
   ],
   "source": [
    "%%file /home/elkomy/alx/printf/_putchar.c\n",
    "#include <unistd.h>\n",
    "\n",
    "/**\n",
    " * _putchar - writes a character to stdout\n",
    " * @c: character to write\n",
    " *\n",
    " * Return: On success 1.\n",
    " * On error, -1 is returned, and errno is set appropriately.\n",
    " */\n",
    "int _putchar(char c)\n",
    "{\n",
    "    return (write(1, &c, 1));\n",
    "}\n"
   ]
  },
  {
   "cell_type": "code",
   "execution_count": 184,
   "metadata": {},
   "outputs": [
    {
     "name": "stdout",
     "output_type": "stream",
     "text": [
      "Overwriting /home/elkomy/alx/printf/tests/main.c\n"
     ]
    }
   ],
   "source": [
    "%%file /home/elkomy/alx/printf/tests/main.c\n",
    "#include <limits.h>\n",
    "#include <stdio.h>\n",
    "#include \"main.h\"\n",
    "\n",
    "/**\n",
    "* main - Entry point\n",
    "*\n",
    "* Return: Always 0\n",
    "*/\n",
    "int main(void)\n",
    "{\n",
    "int len;\n",
    "int len2;\n",
    "unsigned int ui;\n",
    "void *addr;\n",
    "\n",
    "len = _printf(\"Let's try to printf a simple sentence.\\n\");\n",
    "len2 = printf(\"Let's try to printf a simple sentence.\\n\");\n",
    "ui = (unsigned int)INT_MAX + 1024;\n",
    "addr = (void *)0x7ffe637541f0;\n",
    "_printf(\"Length:[%d, %i]\\n\", len, len);\n",
    "printf(\"Length:[%d, %i]\\n\", len2, len2);\n",
    "_printf(\"Negative:[%d]\\n\", -762534);\n",
    "printf(\"Negative:[%d]\\n\", -762534);\n",
    "_printf(\"Unsigned:[%u]\\n\", ui);\n",
    "printf(\"Unsigned:[%u]\\n\", ui);\n",
    "_printf(\"Unsigned octal:[%o]\\n\", ui);\n",
    "printf(\"Unsigned octal:[%o]\\n\", ui);\n",
    "_printf(\"Unsigned hexadecimal:[%x, %X]\\n\", ui, ui);\n",
    "printf(\"Unsigned hexadecimal:[%x, %X]\\n\", ui, ui);\n",
    "_printf(\"Character:[%c]\\n\", 'H');\n",
    "printf(\"Character:[%c]\\n\", 'H');\n",
    "_printf(\"String:[%s]\\n\", \"I am a string !\");\n",
    "printf(\"String:[%s]\\n\", \"I am a string !\");\n",
    "_printf(\"Address:[%p]\\n\", addr);\n",
    "printf(\"Address:[%p]\\n\", addr);\n",
    "len = _printf(\"Percent:[%%]\\n\");\n",
    "len2 = printf(\"Percent:[%%]\\n\");\n",
    "_printf(\"Len:[%d]\\n\", len);\n",
    "printf(\"Len:[%d]\\n\", len2);\n",
    "_printf(\"Unknown:[%r]\\n\");\n",
    "printf(\"Unknown:[%r]\\n\");\n",
    "return (0);\n",
    "}\n",
    "\n"
   ]
  },
  {
   "cell_type": "code",
   "execution_count": 185,
   "metadata": {},
   "outputs": [],
   "source": [
    "!cd /home/elkomy/alx/printf/"
   ]
  },
  {
   "cell_type": "code",
   "execution_count": 187,
   "metadata": {},
   "outputs": [
    {
     "name": "stdout",
     "output_type": "stream",
     "text": [
      "\n",
      "========== /home/elkomy/alx/printf/_printf.c ==========\n",
      "_printf\n",
      "Let's try to printf a simple sentence.\n",
      "Let's try to printf a simple sentence.\n",
      "Length:[%d, %i]\n",
      "Length:[39, 39]\n",
      "Negative:[%d]\n",
      "Negative:[-762534]\n",
      "Unsigned:[%u]\n",
      "Unsigned:[2147484671]\n",
      "Unsigned octal:[%o]\n",
      "Unsigned octal:[20000001777]\n",
      "Unsigned hexadecimal:[%x, %X]\n",
      "Unsigned hexadecimal:[800003ff, 800003FF]\n",
      "Character:[H]\n",
      "Character:[H]\n",
      "String:[I am a string !]\n",
      "String:[I am a string !]\n",
      "Address:[%p]\n",
      "Address:[0x7ffe637541f0]\n",
      "Percent:[%]\n",
      "Percent:[%]\n",
      "Len:[%d]\n",
      "Len:[12]\n",
      "Unknown:[%r]\n",
      "Unknown:[%r]\n"
     ]
    }
   ],
   "source": [
    "\n",
    "!betty /home/elkomy/alx/printf/_printf.c\n",
    "!gcc -Wall -Werror -Wextra -pedantic -std=gnu89 -Wno-format /home/elkomy/alx/printf/*.c /home/elkomy/alx/printf/tests/main.c -o /home/elkomy/alx/printf/printf\n",
    "!./printf\n"
   ]
  },
  {
   "cell_type": "code",
   "execution_count": 188,
   "metadata": {},
   "outputs": [
    {
     "name": "stdout",
     "output_type": "stream",
     "text": [
      "[main e378af1] alx-low_level_programming/0x0D-preprocessor/0-putchar\n",
      " 9 files changed, 374 insertions(+), 350 deletions(-)\n",
      " delete mode 100644 _puts.c\n",
      " delete mode 100644 print_String.c\n",
      " delete mode 100644 print_integer.c\n",
      " delete mode 100644 print_number.c\n"
     ]
    },
    {
     "name": "stderr",
     "output_type": "stream",
     "text": [
      "To https://github.com/elkomysara/printf\n",
      "   c092bd0..e378af1  main -> main\n"
     ]
    }
   ],
   "source": [
    "%%bash\n",
    "git add .\n",
    "git commit -m \"alx-low_level_programming/0x0D-preprocessor/0-putchar\"\n",
    "git push"
   ]
  },
  {
   "cell_type": "code",
   "execution_count": null,
   "metadata": {},
   "outputs": [],
   "source": []
  },
  {
   "cell_type": "markdown",
   "metadata": {},
   "source": [
    "###\n",
    "---\n",
    "<center>\n",
    "<h4>1. Education is when you read the fine print. Experience is what you get if you don't</h4>\n",
    "</center>\n",
    "\n",
    "---"
   ]
  },
  {
   "cell_type": "markdown",
   "metadata": {},
   "source": [
    "\n",
    "#### Handle the following conversion specifiers:\n",
    "\n",
    "* `d`\n",
    "* `i`\n",
    "* You don’t have to handle the flag characters\n",
    "* You don’t have to handle field width\n",
    "* You don’t have to handle precision\n",
    "* You don’t have to handle the length modifiers\n",
    "#### Repo:\n",
    "* GitHub repository: ``` printf```"
   ]
  },
  {
   "cell_type": "code",
   "execution_count": 189,
   "metadata": {},
   "outputs": [
    {
     "name": "stdout",
     "output_type": "stream",
     "text": [
      "Overwriting /home/elkomy/alx/printf/_printf.c\n"
     ]
    }
   ],
   "source": [
    "%%file /home/elkomy/alx/printf/_printf.c\n",
    "#include \"main.h\"\n",
    "\n",
    "/**\n",
    "* _printf - Receives the main string and all the necessary parameters to\n",
    "* print a formatted string\n",
    "* @format: A string containing all the desired characters\n",
    "* Return: A total count of the characters printed\n",
    "*/\n",
    "int _printf(const char *format, ...)\n",
    "{\n",
    "int printed_chars;\n",
    "conver_t f_list[] = {\n",
    "{\"%\", print_percent},\n",
    "{\"c\", print_char},\n",
    "{\"s\", print_string},\n",
    "{\"d\", print_integer},\n",
    "{\"i\", print_integer},\n",
    "{NULL, NULL},\n",
    "};\n",
    "va_list arg_list;\n",
    "\n",
    "if (format == NULL)\n",
    "return (-1);\n",
    "\n",
    "va_start(arg_list, format);\n",
    "printed_chars = format_reciever(format, f_list, arg_list);\n",
    "va_end(arg_list);\n",
    "\n",
    "return (printed_chars);\n",
    "}\n"
   ]
  },
  {
   "cell_type": "code",
   "execution_count": 191,
   "metadata": {},
   "outputs": [
    {
     "name": "stdout",
     "output_type": "stream",
     "text": [
      "Overwriting /home/elkomy/alx/printf/main.h\n"
     ]
    }
   ],
   "source": [
    "%%file /home/elkomy/alx/printf/main.h\n",
    "#ifndef MAIN_H\n",
    "#define MAIN_H\n",
    "\n",
    "#include <stdio.h>\n",
    "#include <unistd.h>\n",
    "#include <stdlib.h>\n",
    "#include <stdarg.h>\n",
    "#include <limits.h>\n",
    "\n",
    "#define NULL_STRING \"(null)\"\n",
    "#define NUL '\\0'\n",
    "\n",
    "/**\n",
    " * struct convert - defines a structure for symbols and functions\n",
    " * @sym: The operator\n",
    " * @f: The function associated\n",
    " */\n",
    "struct convert\n",
    "{\n",
    "    char *sym;\n",
    "    int (*f)(va_list);\n",
    "};\n",
    "typedef struct convert conver_t;\n",
    "\n",
    "int _printf(const char *format, ...);\n",
    "int _putchar(char c);\n",
    "int format_reciever(const char *format, conver_t f_list[], va_list arg_list);\n",
    "int print_percent(va_list);\n",
    "int print_char(va_list);\n",
    "int print_string(va_list);\n",
    "int print_integer(va_list);\n",
    "int print_number(int n);\n",
    "#endif /* MAIN_H */\n",
    "\n",
    "\n"
   ]
  },
  {
   "cell_type": "code",
   "execution_count": null,
   "metadata": {},
   "outputs": [
    {
     "name": "stdout",
     "output_type": "stream",
     "text": [
      "Overwriting /home/elkomy/alx/printf/format_reciever.c\n"
     ]
    }
   ],
   "source": [
    "%%file /home/elkomy/alx/printf/format_reciever.c\n",
    "#include \"main.h\"\n",
    "\n",
    "/**\n",
    "* format_reciever - Receives the format and the argument list, then calls the appropriate function\n",
    "* @format: The format string\n",
    "* @f_list: List of conversion specifiers and associated functions\n",
    "* @arg_list: Argument list\n",
    "* Return: The number of characters printed\n",
    "*/\n",
    "int format_reciever(const char *format, conver_t f_list[], va_list arg_list)\n",
    "{\n",
    "int i, j, printed_chars = 0;\n",
    "\n",
    "for (i = 0; format[i] != '\\0'; i++)\n",
    "{\n",
    "if (format[i] == '%')\n",
    "{\n",
    "for (j = 0; f_list[j].sym != NULL; j++)\n",
    "{\n",
    "if (format[i + 1] == f_list[j].sym[0])\n",
    "{\n",
    "printed_chars += f_list[j].f(arg_list);\n",
    "i++;\n",
    "break;\n",
    "}\n",
    "}\n",
    "if (f_list[j].sym == NULL && format[i + 1] != ' ')\n",
    "{\n",
    "_putchar(format[i]);\n",
    "printed_chars++;\n",
    "}\n",
    "}\n",
    "else\n",
    "{\n",
    "_putchar(format[i]);\n",
    "printed_chars++;\n",
    "}\n",
    "}\n",
    "return (printed_chars);\n",
    "}\n",
    "\n"
   ]
  },
  {
   "cell_type": "code",
   "execution_count": 190,
   "metadata": {},
   "outputs": [
    {
     "name": "stdout",
     "output_type": "stream",
     "text": [
      "Writing /home/elkomy/alx/printf/print_integer.c\n"
     ]
    }
   ],
   "source": [
    "%%file /home/elkomy/alx/printf/print_integer.c\n",
    "#include \"main.h\"\n",
    "\n",
    "/**\n",
    " * print_integer - Prints an integer\n",
    " * @list: list of arguments\n",
    " * Return: Will return the number of characters printed\n",
    " */\n",
    "int print_integer(va_list list)\n",
    "{\n",
    "    int n = va_arg(list, int);\n",
    "    int num_chars = 0;\n",
    "\n",
    "    if (n == 0)\n",
    "    {\n",
    "        _putchar('0');\n",
    "        return (1);\n",
    "    }\n",
    "    if (n < 0)\n",
    "    {\n",
    "        _putchar('-');\n",
    "        num_chars++;\n",
    "        n = -n;\n",
    "    }\n",
    "    num_chars += print_number(n);\n",
    "    return (num_chars);\n",
    "}\n",
    "\n",
    "/**\n",
    " * print_number - Helper function to print an integer number\n",
    " * @n: The integer to print\n",
    " * Return: Number of characters printed\n",
    " */\n",
    "int print_number(int n)\n",
    "{\n",
    "    int num_chars = 0;\n",
    "    unsigned int num;\n",
    "\n",
    "    if (n < 0)\n",
    "        num = -n;\n",
    "    else\n",
    "        num = n;\n",
    "\n",
    "    if (num / 10)\n",
    "        num_chars += print_number(num / 10);\n",
    "\n",
    "    _putchar((num % 10) + '0');\n",
    "    num_chars++;\n",
    "\n",
    "    return (num_chars);\n",
    "}"
   ]
  },
  {
   "cell_type": "code",
   "execution_count": 192,
   "metadata": {},
   "outputs": [
    {
     "name": "stdout",
     "output_type": "stream",
     "text": [
      "\n",
      "========== /home/elkomy/alx/printf/_printf.c ==========\n",
      "_printf\n",
      "Let's try to printf a simple sentence.\n",
      "Let's try to printf a simple sentence.\n",
      "Length:[39, 39]\n",
      "Length:[39, 39]\n",
      "Negative:[-762534]\n",
      "Negative:[-762534]\n",
      "Unsigned:[%u]\n",
      "Unsigned:[2147484671]\n",
      "Unsigned octal:[%o]\n",
      "Unsigned octal:[20000001777]\n",
      "Unsigned hexadecimal:[%x, %X]\n",
      "Unsigned hexadecimal:[800003ff, 800003FF]\n",
      "Character:[H]\n",
      "Character:[H]\n",
      "String:[I am a string !]\n",
      "String:[I am a string !]\n",
      "Address:[%p]\n",
      "Address:[0x7ffe637541f0]\n",
      "Percent:[%]\n",
      "Percent:[%]\n",
      "Len:[12]\n",
      "Len:[12]\n",
      "Unknown:[%r]\n",
      "Unknown:[%r]\n"
     ]
    }
   ],
   "source": [
    "\n",
    "!betty /home/elkomy/alx/printf/_printf.c\n",
    "!gcc -Wall -Werror -Wextra -pedantic -std=gnu89 -Wno-format /home/elkomy/alx/printf/*.c /home/elkomy/alx/printf/tests/main.c -o /home/elkomy/alx/printf/printf\n",
    "!./printf\n"
   ]
  },
  {
   "cell_type": "code",
   "execution_count": 193,
   "metadata": {},
   "outputs": [
    {
     "name": "stdout",
     "output_type": "stream",
     "text": [
      "[main d46bdb6] alx-low_level_programming/0x0D-preprocessor/0-putchar\n",
      " 4 files changed, 54 insertions(+)\n",
      " create mode 100644 print_integer.c\n"
     ]
    },
    {
     "name": "stderr",
     "output_type": "stream",
     "text": [
      "To https://github.com/elkomysara/printf\n",
      "   e378af1..d46bdb6  main -> main\n"
     ]
    }
   ],
   "source": [
    "%%bash\n",
    "git add .\n",
    "git commit -m \"alx-low_level_programming/0x0D-preprocessor/0-putchar\"\n",
    "git push"
   ]
  },
  {
   "cell_type": "code",
   "execution_count": null,
   "metadata": {},
   "outputs": [],
   "source": []
  },
  {
   "cell_type": "markdown",
   "metadata": {},
   "source": [
    "###\n",
    "---\n",
    "<center>\n",
    "<h4>2. With a face like mine, I do better in print</h4>\n",
    "</center>\n",
    "\n",
    "---"
   ]
  },
  {
   "cell_type": "markdown",
   "metadata": {},
   "source": [
    "\n",
    "#### Handle the following custom conversion specifiers:\n",
    "\n",
    "* `b`: the unsigned int argument is converted to binary\n",
    "\n",
    "```bash\n",
    "alex@ubuntu:~/c/printf$ cat main.c\n",
    "#include \"main.h\"\n",
    "\n",
    "/**\n",
    " * main - Entry point\n",
    " *\n",
    " * Return: Always 0\n",
    " */\n",
    "int main(void)\n",
    "{\n",
    "    _printf(\"%b\\n\", 98);\n",
    "    return (0);\n",
    "}\n",
    "alex@ubuntu:~/c/printf$ gcc -Wall -Wextra -Werror -pedantic -std=gnu89 main.c\n",
    "alex@ubuntu:~/c/printf$ ./a.out\n",
    "1100010\n",
    "alex@ubuntu:~/c/printf$\n",
    "```\n",
    "\n",
    "#### Repo:\n",
    "* GitHub repository: ``` printf```"
   ]
  },
  {
   "cell_type": "code",
   "execution_count": null,
   "metadata": {},
   "outputs": [],
   "source": [
    "%%file /home/elkomy/alx/printf/print_binary.c\n",
    "#include \"main.h\"\n",
    "\n",
    "/**\n",
    " * print_binary - Converts an unsigned int argument to binary\n",
    " * @list: list of arguments\n",
    " * Return: The number of characters printed\n",
    " */\n",
    "int print_binary(va_list list)\n",
    "{\n",
    "    unsigned int n = va_arg(list, unsigned int);\n",
    "    char *binary_str;\n",
    "    int num_chars;\n",
    "\n",
    "    binary_str = convert(n, 2, 0);\n",
    "    if (binary_str == NULL)\n",
    "        return (-1);\n",
    "\n",
    "    num_chars = _puts(binary_str);\n",
    "    return (num_chars);\n",
    "}\n",
    "\n",
    "/**\n",
    " * convert - Converts a number to a string in the given base\n",
    " * @num: The number to be converted\n",
    " * @base: The base to convert to\n",
    " * @lowercase: Flag to determine if hex letters should be lowercase\n",
    " * Return: A pointer to the converted string (static buffer)\n",
    " */\n",
    "char *convert(unsigned long int num, int base, int lowercase)\n",
    "\n",
    "{\n",
    "    static char buffer[50];\n",
    "    char *ptr;\n",
    "    char *rep = (lowercase) ? \"0123456789abcdef\" : \"0123456789ABCDEF\";\n",
    "\n",
    "    ptr = &buffer[49];\n",
    "    *ptr = '\\0';\n",
    "\n",
    "    do {\n",
    "        *--ptr = rep[num % base];\n",
    "        num /= base;\n",
    "    } while (num != 0);\n",
    "\n",
    "    return (ptr);\n",
    "}\n"
   ]
  },
  {
   "cell_type": "code",
   "execution_count": null,
   "metadata": {},
   "outputs": [
    {
     "name": "stdout",
     "output_type": "stream",
     "text": [
      "Overwriting /home/elkomy/alx/printf/_printf.c\n"
     ]
    }
   ],
   "source": [
    "%%file /home/elkomy/alx/printf/_printf.c\n",
    "#include \"main.h\"\n",
    "\n",
    "/**\n",
    "* _printf - Receives the main string and all the necessary parameters to\n",
    "* print a formatted string\n",
    "* @format: A string containing all the desired characters\n",
    "* Return: A total count of the characters printed\n",
    "*/\n",
    "int _printf(const char *format, ...)\n",
    "{\n",
    "int printed_chars;\n",
    "conver_t f_list[] = {\n",
    "{\"%\", print_percent},\n",
    "{\"c\", print_char},\n",
    "{\"s\", print_string},\n",
    "{\"d\", print_integer},\n",
    "{\"i\", print_integer},\n",
    "{\"b\", print_binary},\n",
    "{NULL, NULL},\n",
    "};\n",
    "va_list arg_list;\n",
    "\n",
    "if (format == NULL)\n",
    "return (-1);\n",
    "\n",
    "va_start(arg_list, format);\n",
    "printed_chars = format_reciever(format, f_list, arg_list);\n",
    "va_end(arg_list);\n",
    "\n",
    "return (printed_chars);\n",
    "}\n"
   ]
  },
  {
   "cell_type": "code",
   "execution_count": null,
   "metadata": {},
   "outputs": [
    {
     "name": "stdout",
     "output_type": "stream",
     "text": [
      "Overwriting /home/elkomy/alx/printf/_puts.c\n"
     ]
    }
   ],
   "source": [
    "%%file /home/elkomy/alx/printf/_puts.c\n",
    "#include \"main.h\"\n",
    "\n",
    "/**\n",
    " * _puts - Prints a string\n",
    " * @str: The string to be printed\n",
    " * Return: The number of characters printed\n",
    " */\n",
    "int _puts(char *str)\n",
    "{\n",
    "    int i;\n",
    "\n",
    "    for (i = 0; str[i] != '\\0'; i++)\n",
    "        _putchar(str[i]);\n",
    "\n",
    "    return (i);\n",
    "}\n",
    "\n"
   ]
  },
  {
   "cell_type": "code",
   "execution_count": null,
   "metadata": {},
   "outputs": [
    {
     "name": "stdout",
     "output_type": "stream",
     "text": [
      "Overwriting /home/elkomy/alx/printf/main.h\n"
     ]
    }
   ],
   "source": [
    "%%file /home/elkomy/alx/printf/main.h\n",
    "#ifndef MAIN_H\n",
    "#define MAIN_H\n",
    "\n",
    "#include <stdio.h>\n",
    "#include <unistd.h>\n",
    "#include <stdlib.h>\n",
    "#include <stdarg.h>\n",
    "#include <limits.h>\n",
    "\n",
    "#define NULL_STRING \"(null)\"\n",
    "#define NUL '\\0'\n",
    "\n",
    "/**\n",
    " * struct convert - defines a structure for symbols and functions\n",
    " * @sym: The operator\n",
    " * @f: The function associated\n",
    " */\n",
    "struct convert\n",
    "{\n",
    "    char *sym;\n",
    "    int (*f)(va_list);\n",
    "};\n",
    "typedef struct convert conver_t;\n",
    "\n",
    "int _printf(const char *format, ...);\n",
    "int _putchar(char c);\n",
    "int format_reciever(const char *format, conver_t f_list[], va_list arg_list);\n",
    "int print_percent(va_list);\n",
    "int print_char(va_list);\n",
    "int print_string(va_list);\n",
    "int print_integer(va_list);\n",
    "int print_number(int n);\n",
    "int print_binary(va_list list);\n",
    "char *convert(unsigned long int num, int base, int lowercase);\n",
    "int _puts(char *str);\n",
    "#endif /* MAIN_H */\n",
    "\n",
    "\n"
   ]
  },
  {
   "cell_type": "code",
   "execution_count": null,
   "metadata": {},
   "outputs": [
    {
     "name": "stdout",
     "output_type": "stream",
     "text": [
      "Overwriting /home/elkomy/alx/printf/tests/main.c\n"
     ]
    }
   ],
   "source": [
    "%%file /home/elkomy/alx/printf/tests/main.c\n",
    "#include \"main.h\"\n",
    "\n",
    "/**\n",
    " * main - Entry point\n",
    " *\n",
    " * Return: Always 0\n",
    " */\n",
    "int main(void)\n",
    "{\n",
    "    _printf(\"%b\\n\", 98);\n",
    "    return (0);\n",
    "}\n",
    "\n",
    "\n"
   ]
  },
  {
   "cell_type": "code",
   "execution_count": null,
   "metadata": {},
   "outputs": [
    {
     "name": "stdout",
     "output_type": "stream",
     "text": [
      "\n",
      "========== /home/elkomy/alx/printf/_printf.c ==========\n",
      "_printf\n",
      "1100010\n"
     ]
    }
   ],
   "source": [
    "\n",
    "!betty /home/elkomy/alx/printf/_printf.c\n",
    "!gcc -Wall -Werror -Wextra -pedantic -std=gnu89 -Wno-format /home/elkomy/alx/printf/*.c /home/elkomy/alx/printf/tests/main.c -o /home/elkomy/alx/printf/printf\n",
    "!./printf\n"
   ]
  },
  {
   "cell_type": "code",
   "execution_count": null,
   "metadata": {},
   "outputs": [
    {
     "name": "stdout",
     "output_type": "stream",
     "text": [
      "[main 840a670] alx-low_level_programming/0x0D-preprocessor/0-putchar\n",
      " 3 files changed, 58 insertions(+), 90 deletions(-)\n",
      " rewrite print_binary.c (86%)\n",
      " rewrite printf (63%)\n",
      " rewrite tests/main.c (96%)\n"
     ]
    },
    {
     "name": "stderr",
     "output_type": "stream",
     "text": [
      "To https://github.com/elkomysara/printf\n",
      "   3c351eb..840a670  main -> main\n"
     ]
    }
   ],
   "source": [
    "%%bash\n",
    "git add .\n",
    "git commit -m \"alx-low_level_programming/0x0D-preprocessor/0-putchar\"\n",
    "git push"
   ]
  },
  {
   "cell_type": "markdown",
   "metadata": {},
   "source": [
    "###\n",
    "---\n",
    "<center>\n",
    "<h4>3. What one has not experienced, one will never understand in print</h4>\n",
    "</center>\n",
    "\n",
    "---"
   ]
  },
  {
   "cell_type": "markdown",
   "metadata": {},
   "source": [
    "\n",
    "#### Handle the following conversion specifiers:\n",
    "\n",
    "* `u`\n",
    "* `o`\n",
    "* `x`\n",
    "* `x`\n",
    "* You don’t have to handle the flag characters\n",
    "* You don’t have to handle field width\n",
    "* You don’t have to handle precision\n",
    "* You don’t have to handle the length modifiers\n",
    "\n",
    "#### Repo:\n",
    "* GitHub repository: ``` printf```"
   ]
  },
  {
   "cell_type": "code",
   "execution_count": null,
   "metadata": {},
   "outputs": [
    {
     "name": "stdout",
     "output_type": "stream",
     "text": [
      "Overwriting /home/elkomy/alx/printf/print_unsigned.c\n"
     ]
    }
   ],
   "source": [
    "%%file /home/elkomy/alx/printf/print_unsigned.c\n",
    "#include \"main.h\"\n",
    "\n",
    "/**\n",
    " * print_unsigned - Prints an unsigned integer\n",
    " * @list: list of arguments\n",
    " * Return: The number of characters printed\n",
    " */\n",
    "int print_unsigned(va_list list)\n",
    "{\n",
    "    unsigned int n = va_arg(list, unsigned int);\n",
    "    char *str;\n",
    "    int num_chars;\n",
    "\n",
    "    str = convert(n, 10, 0);\n",
    "    if (str == NULL)\n",
    "        return (-1);\n",
    "\n",
    "    num_chars = _puts(str);\n",
    "    return (num_chars);\n",
    "}\n"
   ]
  },
  {
   "cell_type": "code",
   "execution_count": null,
   "metadata": {},
   "outputs": [
    {
     "name": "stdout",
     "output_type": "stream",
     "text": [
      "Overwriting /home/elkomy/alx/printf/print_octal.c\n"
     ]
    }
   ],
   "source": [
    "%%file /home/elkomy/alx/printf/print_octal.c\n",
    "#include \"main.h\"\n",
    "\n",
    "/**\n",
    " * print_octal - Prints a number in octal base\n",
    " * @list: list of arguments\n",
    " * Return: The number of characters printed\n",
    " */\n",
    "int print_octal(va_list list)\n",
    "{\n",
    "    unsigned int n = va_arg(list, unsigned int);\n",
    "    char *str;\n",
    "    int num_chars;\n",
    "\n",
    "    str = convert(n, 8, 0);\n",
    "    if (str == NULL)\n",
    "        return (-1);\n",
    "\n",
    "    num_chars = _puts(str);\n",
    "    return (num_chars);\n",
    "}\n",
    "\n"
   ]
  },
  {
   "cell_type": "code",
   "execution_count": null,
   "metadata": {},
   "outputs": [
    {
     "name": "stdout",
     "output_type": "stream",
     "text": [
      "Overwriting /home/elkomy/alx/printf/print_hex.c\n"
     ]
    }
   ],
   "source": [
    "%%file /home/elkomy/alx/printf/print_hex.c\n",
    "#include \"main.h\"\n",
    "\n",
    "/**\n",
    " * print_hex - Prints a number in hexadecimal base\n",
    " * @list: list of arguments\n",
    " * Return: The number of characters printed\n",
    " */\n",
    "int print_hex(va_list list)\n",
    "{\n",
    "    unsigned int n = va_arg(list, unsigned int);\n",
    "    char *str;\n",
    "    int num_chars;\n",
    "\n",
    "    str = convert(n, 16, 1);\n",
    "    if (str == NULL)\n",
    "        return (-1);\n",
    "\n",
    "    num_chars = _puts(str);\n",
    "    return (num_chars);\n",
    "}\n",
    "\n"
   ]
  },
  {
   "cell_type": "code",
   "execution_count": null,
   "metadata": {},
   "outputs": [
    {
     "name": "stdout",
     "output_type": "stream",
     "text": [
      "Overwriting /home/elkomy/alx/printf/print_HEX.c\n"
     ]
    }
   ],
   "source": [
    "%%file /home/elkomy/alx/printf/print_HEX.c\n",
    "#include \"main.h\"\n",
    "\n",
    "/**\n",
    " * print_HEX - Prints a number in hexadecimal base\n",
    " * @list: list of arguments\n",
    " * Return: The number of characters printed\n",
    " */\n",
    "int print_HEX(va_list list)\n",
    "{\n",
    "    unsigned int n = va_arg(list, unsigned int);\n",
    "    char *str;\n",
    "    int num_chars;\n",
    "\n",
    "    str = convert(n, 16, 0);\n",
    "    if (str == NULL)\n",
    "        return (-1);\n",
    "\n",
    "    num_chars = _puts(str);\n",
    "    return (num_chars);\n",
    "}\n",
    "\n",
    "\n"
   ]
  },
  {
   "cell_type": "code",
   "execution_count": null,
   "metadata": {},
   "outputs": [
    {
     "name": "stdout",
     "output_type": "stream",
     "text": [
      "Overwriting /home/elkomy/alx/printf/_printf.c\n"
     ]
    }
   ],
   "source": [
    "%%file /home/elkomy/alx/printf/_printf.c\n",
    "#include \"main.h\"\n",
    "\n",
    "/**\n",
    "* _printf - Receives the main string and all the necessary parameters to\n",
    "* print a formatted string\n",
    "* @format: A string containing all the desired characters\n",
    "* Return: A total count of the characters printed\n",
    "*/\n",
    "int _printf(const char *format, ...)\n",
    "{\n",
    "int printed_chars;\n",
    "conver_t f_list[] = {\n",
    "{\"%\", print_percent},\n",
    "{\"c\", print_char},\n",
    "{\"s\", print_string},\n",
    "{\"d\", print_integer},\n",
    "{\"i\", print_integer},\n",
    "{\"b\", print_binary},\n",
    "{\"u\", print_unsigned},\n",
    "{\"o\", print_octal},\n",
    "{\"x\", print_hex},\n",
    "{\"X\", print_HEX},\n",
    "{NULL, NULL},\n",
    "};\n",
    "va_list arg_list;\n",
    "\n",
    "if (format == NULL)\n",
    "return (-1);\n",
    "\n",
    "va_start(arg_list, format);\n",
    "printed_chars = format_reciever(format, f_list, arg_list);\n",
    "va_end(arg_list);\n",
    "\n",
    "return (printed_chars);\n",
    "}\n"
   ]
  },
  {
   "cell_type": "code",
   "execution_count": 303,
   "metadata": {},
   "outputs": [
    {
     "name": "stdout",
     "output_type": "stream",
     "text": [
      "Overwriting /home/elkomy/alx/printf/print_binary.c\n"
     ]
    }
   ],
   "source": [
    "%%file /home/elkomy/alx/printf/print_binary.c\n",
    "#include \"main.h\"\n",
    "\n",
    "/**\n",
    " * print_binary - Converts an unsigned int argument to binary\n",
    " * @list: list of arguments\n",
    " * Return: The number of characters printed\n",
    " */\n",
    "int print_binary(va_list list)\n",
    "{\n",
    "    unsigned int n = va_arg(list, unsigned int);\n",
    "    char *binary_str;\n",
    "    int num_chars;\n",
    "\n",
    "    binary_str = convert(n, 2, 0);\n",
    "    if (binary_str == NULL)\n",
    "        return (-1);\n",
    "\n",
    "    num_chars = _puts(binary_str);\n",
    "    return (num_chars);\n",
    "}\n",
    "\n",
    "/**\n",
    " * convert - Converts a number to a string in the given base\n",
    " * @num: The number to be converted\n",
    " * @base: The base to convert to\n",
    " * @lowercase: Flag to determine if hex letters should be lowercase\n",
    " * Return: A pointer to the converted string (static buffer)\n",
    " */\n",
    "char *convert(unsigned long int num, int base, int lowercase)\n",
    "{\n",
    "    static char buffer[50];\n",
    "    char *ptr;\n",
    "    char *rep = (lowercase) ? \"0123456789abcdef\" : \"0123456789ABCDEF\";\n",
    "\n",
    "    ptr = &buffer[49];\n",
    "    *ptr = '\\0';\n",
    "\n",
    "    do {\n",
    "        *--ptr = rep[num % base];\n",
    "        num /= base;\n",
    "    } while (num != 0);\n",
    "\n",
    "    return (ptr);\n",
    "}\n"
   ]
  },
  {
   "cell_type": "code",
   "execution_count": null,
   "metadata": {},
   "outputs": [
    {
     "name": "stdout",
     "output_type": "stream",
     "text": [
      "Overwriting /home/elkomy/alx/printf/_puts.c\n"
     ]
    }
   ],
   "source": [
    "%%file /home/elkomy/alx/printf/_puts.c\n",
    "#include \"main.h\"\n",
    "\n",
    "/**\n",
    " * _puts - Prints a string\n",
    " * @str: The string to be printed\n",
    " * Return: The number of characters printed\n",
    " */\n",
    "int _puts(char *str)\n",
    "{\n",
    "    int i;\n",
    "\n",
    "    for (i = 0; str[i] != '\\0'; i++)\n",
    "        _putchar(str[i]);\n",
    "\n",
    "    return (i);\n",
    "}\n",
    "\n"
   ]
  },
  {
   "cell_type": "code",
   "execution_count": null,
   "metadata": {},
   "outputs": [
    {
     "name": "stdout",
     "output_type": "stream",
     "text": [
      "Overwriting /home/elkomy/alx/printf/main.h\n"
     ]
    }
   ],
   "source": [
    "%%file /home/elkomy/alx/printf/main.h\n",
    "#ifndef MAIN_H\n",
    "#define MAIN_H\n",
    "\n",
    "#include <stdio.h>\n",
    "#include <unistd.h>\n",
    "#include <stdlib.h>\n",
    "#include <stdarg.h>\n",
    "#include <limits.h>\n",
    "\n",
    "#define NULL_STRING \"(null)\"\n",
    "#define NUL '\\0'\n",
    "\n",
    "/**\n",
    " * struct convert - defines a structure for symbols and functions\n",
    " * @sym: The operator\n",
    " * @f: The function associated\n",
    " */\n",
    "struct convert\n",
    "{\n",
    "    char *sym;\n",
    "    int (*f)(va_list);\n",
    "};\n",
    "typedef struct convert conver_t;\n",
    "\n",
    "int _printf(const char *format, ...);\n",
    "int _putchar(char c);\n",
    "int format_reciever(const char *format, conver_t f_list[], va_list arg_list);\n",
    "int print_percent(va_list);\n",
    "int print_char(va_list);\n",
    "int print_string(va_list);\n",
    "int print_integer(va_list);\n",
    "int print_number(int n);\n",
    "int print_binary(va_list list);\n",
    "char *convert(unsigned long int num, int base, int lowercase);\n",
    "int print_unsigned(va_list list);\n",
    "int print_octal(va_list list);\n",
    "int print_hex(va_list list);\n",
    "int print_HEX(va_list list);\n",
    "int _puts(char *str);\n",
    "#endif /* MAIN_H */\n",
    "\n",
    "\n"
   ]
  },
  {
   "cell_type": "code",
   "execution_count": null,
   "metadata": {},
   "outputs": [
    {
     "name": "stdout",
     "output_type": "stream",
     "text": [
      "Overwriting /home/elkomy/alx/printf/tests/main.c\n"
     ]
    }
   ],
   "source": [
    "%%file /home/elkomy/alx/printf/tests/main.c\n",
    "#include \"main.h\"\n",
    "\n",
    "/**\n",
    " * main - Entry point\n",
    " *\n",
    " * Return: Always 0\n",
    " */\n",
    "int main(void)\n",
    "{\n",
    "    _printf(\"Unsigned:[%u]\\n\", 12345);\n",
    "    _printf(\"Octal:[%o]\\n\", 12345);\n",
    "    _printf(\"Hexadecimal:[%x]\\n\", 12345);\n",
    "    _printf(\"HEX:[%X]\\n\", 12345);\n",
    "    return (0);\n",
    "}\n"
   ]
  },
  {
   "cell_type": "code",
   "execution_count": null,
   "metadata": {},
   "outputs": [
    {
     "name": "stdout",
     "output_type": "stream",
     "text": [
      "\n",
      "========== /home/elkomy/alx/printf/_printf.c ==========\n",
      "_printf\n",
      "Unsigned:[12345]\n",
      "Octal:[30071]\n",
      "Hexadecimal:[3039]\n",
      "HEX:[3039]\n"
     ]
    }
   ],
   "source": [
    "\n",
    "!betty /home/elkomy/alx/printf/_printf.c\n",
    "!gcc -Wall -Werror -Wextra -pedantic -std=gnu89 -Wno-format /home/elkomy/alx/printf/*.c /home/elkomy/alx/printf/tests/main.c -o /home/elkomy/alx/printf/printf\n",
    "!./printf\n"
   ]
  },
  {
   "cell_type": "code",
   "execution_count": null,
   "metadata": {},
   "outputs": [
    {
     "name": "stdout",
     "output_type": "stream",
     "text": [
      "[main 29858a4] alx-low_level_programming/0x0D-preprocessor/0-putchar\n",
      " 8 files changed, 96 insertions(+), 3 deletions(-)\n",
      " create mode 100644 print_HEX.c\n",
      " create mode 100644 print_hex.c\n",
      " create mode 100644 print_octal.c\n",
      " create mode 100644 print_unsigned.c\n"
     ]
    },
    {
     "name": "stderr",
     "output_type": "stream",
     "text": [
      "To https://github.com/elkomysara/printf\n",
      "   840a670..29858a4  main -> main\n"
     ]
    }
   ],
   "source": [
    "%%bash\n",
    "git add .\n",
    "git commit -m \"alx-low_level_programming/0x0D-preprocessor/0-putchar\"\n",
    "git push"
   ]
  },
  {
   "cell_type": "markdown",
   "metadata": {},
   "source": [
    "###\n",
    "---\n",
    "<center>\n",
    "<h4>4. Nothing in fine print is ever good news</h4>\n",
    "</center>\n",
    "\n",
    "---"
   ]
  },
  {
   "cell_type": "markdown",
   "metadata": {},
   "source": [
    "\n",
    "#### Use a local buffer of 1024 chars in order to call `write` as little as possible.\n",
    "\n",
    "\n",
    "\n",
    "#### Repo:\n",
    "* GitHub repository: ``` printf```"
   ]
  },
  {
   "cell_type": "code",
   "execution_count": 374,
   "metadata": {},
   "outputs": [
    {
     "name": "stdout",
     "output_type": "stream",
     "text": [
      "Overwriting /home/elkomy/alx/printf/_printf.c\n"
     ]
    }
   ],
   "source": [
    "%%file /home/elkomy/alx/printf/_printf.c\n",
    "#include \"main.h\"\n",
    "\n",
    "/**\n",
    "* _printf - Receives the main string and all the necessary parameters to\n",
    "* print a formatted string\n",
    "* @format: A string containing all the desired characters\n",
    "* Return: A total count of the characters printed\n",
    "*/\n",
    "\n",
    "int _printf(const char *format, ...)\n",
    "{\n",
    "va_list arg_list;\n",
    "int printed_chars = 0;\n",
    "char buffer[1024];\n",
    "int index = 0;\n",
    "\n",
    "conver_t f_list[] = {\n",
    "{\"%\", print_percent},\n",
    "{\"c\", print_char},\n",
    "{\"s\", print_string},\n",
    "{\"d\", print_integer},\n",
    "{\"i\", print_integer},\n",
    "{\"b\", print_binary},\n",
    "{\"u\", print_unsigned},\n",
    "{\"o\", print_octal},\n",
    "{\"x\", print_hex},\n",
    "{\"X\", print_HEX},\n",
    "{NULL, NULL}\n",
    "};\n",
    "\n",
    "va_start(arg_list, format);\n",
    "printed_chars = format_reciever(format, f_list, arg_list, buffer, &index);\n",
    "va_end(arg_list);\n",
    "\n",
    "buffer[index] = '\\0';\n",
    "write(1, buffer, index);\n",
    "\n",
    "return (printed_chars);\n",
    "}\n",
    "\n"
   ]
  },
  {
   "cell_type": "code",
   "execution_count": 421,
   "metadata": {},
   "outputs": [
    {
     "name": "stdout",
     "output_type": "stream",
     "text": [
      "Overwriting /home/elkomy/alx/printf/main.h\n"
     ]
    }
   ],
   "source": [
    "%%file /home/elkomy/alx/printf/main.h\n",
    "#ifndef MAIN_H\n",
    "#define MAIN_H\n",
    "\n",
    "#include <stdarg.h>\n",
    "#include <unistd.h>\n",
    "\n",
    "typedef struct converter {\n",
    "    char *specifier;\n",
    "    int (*f)(va_list, char *, int *);\n",
    "} conver_t;\n",
    "int _printf(const char *format, ...);\n",
    "int _putchar(char c, char *buffer, int *index);\n",
    "int _puts(char *str, char *buffer, int *index);\n",
    "int format_reciever(const char *format, conver_t f_list[], va_list arg_list, char *buffer, int *index);\n",
    "int print_char(va_list list, char *buffer, int *index);\n",
    "int print_string(va_list list, char *buffer, int *index);\n",
    "int print_percent(va_list list, char *buffer, int *index);\n",
    "int print_integer(va_list list, char *buffer, int *index);\n",
    "int print_number(int n, char *buffer, int *index);\n",
    "int print_binary(va_list list, char *buffer, int *index);\n",
    "int print_unsigned(va_list list, char *buffer, int *index);\n",
    "int print_octal(va_list list, char *buffer, int *index);\n",
    "int print_hex(va_list list, char *buffer, int *index);\n",
    "int print_HEX(va_list list, char *buffer, int *index);\n",
    "char *convert(unsigned long int num, int base, int lowercase);\n",
    "\n",
    "\n",
    "#endif\n",
    "\n",
    "\n",
    "\n"
   ]
  },
  {
   "cell_type": "code",
   "execution_count": 422,
   "metadata": {},
   "outputs": [
    {
     "name": "stdout",
     "output_type": "stream",
     "text": [
      "Overwriting /home/elkomy/alx/printf/print_binary.c\n"
     ]
    }
   ],
   "source": [
    "%%file /home/elkomy/alx/printf/print_binary.c\n",
    "#include \"main.h\"\n",
    "\n",
    "/**\n",
    " * print_binary - Converts an unsigned int argument to binary\n",
    " * @list: list of arguments\n",
    " * @buffer: buffer to store the result\n",
    " * @index: current index in the buffer\n",
    " * Return: The number of characters printed\n",
    " */\n",
    "int print_binary(va_list list, char *buffer, int *index)\n",
    "{\n",
    "    unsigned int n = va_arg(list, unsigned int);\n",
    "    char *binary_str;\n",
    "    int num_chars;\n",
    "\n",
    "    binary_str = convert(n, 2, 0);\n",
    "    if (binary_str == NULL)\n",
    "        return (-1);\n",
    "\n",
    "    num_chars = _puts(binary_str, buffer, index);\n",
    "    return (num_chars);\n",
    "}\n",
    "\n",
    "\n",
    "/**\n",
    " * convert - Converts a number to a string in the given base\n",
    " * @num: The number to be converted\n",
    " * @base: The base to convert to\n",
    " * @lowercase: Flag to determine if hex letters should be lowercase\n",
    " * Return: A pointer to the converted string (static buffer)\n",
    " */\n",
    "char *convert(unsigned long int num, int base, int lowercase)\n",
    "{\n",
    "    static char buffer[50];\n",
    "    char *ptr;\n",
    "    char *rep = (lowercase) ? \"0123456789abcdef\" : \"0123456789ABCDEF\";\n",
    "\n",
    "    ptr = &buffer[49];\n",
    "    *ptr = '\\0';\n",
    "\n",
    "    do {\n",
    "        *--ptr = rep[num % base];\n",
    "        num /= base;\n",
    "    } while (num != 0);\n",
    "\n",
    "    return (ptr);\n",
    "}\n"
   ]
  },
  {
   "cell_type": "code",
   "execution_count": 423,
   "metadata": {},
   "outputs": [
    {
     "name": "stdout",
     "output_type": "stream",
     "text": [
      "Overwriting /home/elkomy/alx/printf/print_char.c\n"
     ]
    }
   ],
   "source": [
    "%%file /home/elkomy/alx/printf/print_char.c\n",
    "#include \"main.h\"\n",
    "\n",
    "int print_char(va_list list, char *buffer, int *index)\n",
    "{\n",
    "    _putchar(va_arg(list, int), buffer, index);\n",
    "    return (1);\n",
    "}\n",
    "\n"
   ]
  },
  {
   "cell_type": "code",
   "execution_count": 424,
   "metadata": {},
   "outputs": [
    {
     "name": "stdout",
     "output_type": "stream",
     "text": [
      "Overwriting /home/elkomy/alx/printf/print_string.c\n"
     ]
    }
   ],
   "source": [
    "%%file /home/elkomy/alx/printf/print_string.c\n",
    "#include \"main.h\"\n",
    "\n",
    "int print_string(va_list list, char *buffer, int *index)\n",
    "{\n",
    "    char *str = va_arg(list, char *);\n",
    "\n",
    "    if (str == NULL)\n",
    "        str = \"(null)\";\n",
    "\n",
    "    return (_puts(str, buffer, index));\n",
    "}\n",
    "\n"
   ]
  },
  {
   "cell_type": "code",
   "execution_count": 425,
   "metadata": {},
   "outputs": [
    {
     "name": "stdout",
     "output_type": "stream",
     "text": [
      "Overwriting /home/elkomy/alx/printf/print_integer.c\n"
     ]
    }
   ],
   "source": [
    "%%file /home/elkomy/alx/printf/print_integer.c\n",
    "#include \"main.h\"\n",
    "\n",
    "int print_integer(va_list list, char *buffer, int *index)\n",
    "{\n",
    "    int n = va_arg(list, int);\n",
    "    int num_chars = 0;\n",
    "\n",
    "    if (n == 0)\n",
    "    {\n",
    "        _putchar('0', buffer, index);\n",
    "        return (1);\n",
    "    }\n",
    "\n",
    "    if (n < 0)\n",
    "    {\n",
    "        _putchar('-', buffer, index);\n",
    "        num_chars++;\n",
    "        n = -n;\n",
    "    }\n",
    "\n",
    "    num_chars += print_number(n, buffer, index);\n",
    "\n",
    "    return (num_chars);\n",
    "}\n",
    "\n",
    "int print_number(int n, char *buffer, int *index)\n",
    "{\n",
    "    int num_chars = 0;\n",
    "    unsigned int num = n;\n",
    "\n",
    "    if (num / 10)\n",
    "        num_chars += print_number(num / 10, buffer, index);\n",
    "\n",
    "    _putchar((num % 10) + '0', buffer, index);\n",
    "    num_chars++;\n",
    "\n",
    "    return (num_chars);\n",
    "}\n"
   ]
  },
  {
   "cell_type": "code",
   "execution_count": 426,
   "metadata": {},
   "outputs": [
    {
     "name": "stdout",
     "output_type": "stream",
     "text": [
      "Overwriting /home/elkomy/alx/printf/_putchar.c\n"
     ]
    }
   ],
   "source": [
    "%%file /home/elkomy/alx/printf/_putchar.c\n",
    "#include \"main.h\"\n",
    "\n",
    "/**\n",
    " * _putchar - Writes a character to the buffer and flushes it if necessary\n",
    " * @c: The character to write\n",
    " * @buffer: The buffer to write to\n",
    " * @index: The current index in the buffer\n",
    " * Return: Always 1\n",
    " */\n",
    "#include \"main.h\"\n",
    "\n",
    "int _putchar(char c, char *buffer, int *index)\n",
    "{\n",
    "    buffer[(*index)++] = c;\n",
    "    if (*index >= 1024)\n",
    "    {\n",
    "        write(1, buffer, *index);\n",
    "        *index = 0;\n",
    "    }\n",
    "    return (1);\n",
    "}\n",
    "\n"
   ]
  },
  {
   "cell_type": "code",
   "execution_count": 427,
   "metadata": {},
   "outputs": [
    {
     "name": "stdout",
     "output_type": "stream",
     "text": [
      "Overwriting /home/elkomy/alx/printf/_puts.c\n"
     ]
    }
   ],
   "source": [
    "%%file /home/elkomy/alx/printf/_puts.c\n",
    "#include \"main.h\"\n",
    "\n",
    "/**\n",
    " * _puts - Writes a string to the buffer\n",
    " * @str: The string to write\n",
    " * @buffer: The buffer to write to\n",
    " * @index: The current index in the buffer\n",
    " * Return: The number of characters written\n",
    " */\n",
    "int _puts(char *str, char *buffer, int *index)\n",
    "{\n",
    "    int i;\n",
    "\n",
    "    for (i = 0; str[i] != '\\0'; i++)\n",
    "    {\n",
    "        _putchar(str[i], buffer, index);\n",
    "    }\n",
    "\n",
    "    return (i);\n",
    "}\n",
    "\n"
   ]
  },
  {
   "cell_type": "code",
   "execution_count": 428,
   "metadata": {},
   "outputs": [
    {
     "name": "stdout",
     "output_type": "stream",
     "text": [
      "Overwriting /home/elkomy/alx/printf/flush_buffer.c\n"
     ]
    }
   ],
   "source": [
    "%%file /home/elkomy/alx/printf/flush_buffer.c\n",
    "#include \"main.h\"\n",
    "\n",
    "/**\n",
    " * flush_buffer - Writes the buffer to stdout and resets the buffer index\n",
    " * @buffer: The buffer containing the characters to be written\n",
    " * @index: The current index in the buffer\n",
    " */\n",
    "void flush_buffer(char *buffer, int *index)\n",
    "{\n",
    "    if (*index > 0)\n",
    "    {\n",
    "        write(1, buffer, *index);\n",
    "        *index = 0;\n",
    "    }\n",
    "}\n"
   ]
  },
  {
   "cell_type": "code",
   "execution_count": 429,
   "metadata": {},
   "outputs": [
    {
     "name": "stdout",
     "output_type": "stream",
     "text": [
      "Overwriting /home/elkomy/alx/printf/print_percent.c\n"
     ]
    }
   ],
   "source": [
    "%%file /home/elkomy/alx/printf/print_percent.c\n",
    "\n",
    "#include \"main.h\"\n",
    "\n",
    "/**\n",
    " * print_percent - Prints a percent symbol\n",
    " * @list: list of arguments (unused)\n",
    " * @buffer: The buffer to write to\n",
    " * @index: The current index in the buffer\n",
    " * Return: Always 1\n",
    " */\n",
    "int print_percent(va_list list __attribute__((unused)), char *buffer, int *index)\n",
    "{\n",
    "    return _putchar('%', buffer, index);\n",
    "}\n",
    "\n",
    "\n"
   ]
  },
  {
   "cell_type": "code",
   "execution_count": 430,
   "metadata": {},
   "outputs": [
    {
     "name": "stdout",
     "output_type": "stream",
     "text": [
      "Overwriting /home/elkomy/alx/printf/print_hex.c\n"
     ]
    }
   ],
   "source": [
    "%%file /home/elkomy/alx/printf/print_hex.c\n",
    "#include \"main.h\"\n",
    "\n",
    "/**\n",
    " * print_hex - Prints a number in hexadecimal base\n",
    " * @list: list of arguments\n",
    " * @buffer: buffer to store the result\n",
    " * @index: current index in the buffer\n",
    " * Return: The number of characters printed\n",
    " */\n",
    "int print_hex(va_list list, char *buffer, int *index)\n",
    "{\n",
    "    unsigned int n = va_arg(list, unsigned int);\n",
    "    char *str;\n",
    "    int num_chars;\n",
    "\n",
    "    str = convert(n, 16, 1);\n",
    "    if (str == NULL)\n",
    "        return (-1);\n",
    "\n",
    "    num_chars = _puts(str, buffer, index);\n",
    "    return (num_chars);\n",
    "}\n"
   ]
  },
  {
   "cell_type": "code",
   "execution_count": 431,
   "metadata": {},
   "outputs": [
    {
     "name": "stdout",
     "output_type": "stream",
     "text": [
      "Overwriting /home/elkomy/alx/printf/print_HEX.c\n"
     ]
    }
   ],
   "source": [
    "%%file /home/elkomy/alx/printf/print_HEX.c\n",
    "#include \"main.h\"\n",
    "\n",
    "/**\n",
    " * print_HEX - Prints a number in hexadecimal base\n",
    " * @list: list of arguments\n",
    " * @buffer: buffer to store the result\n",
    " * @index: current index in the buffer\n",
    " * Return: The number of characters printed\n",
    " */\n",
    "int print_HEX(va_list list, char *buffer, int *index)\n",
    "{\n",
    "    unsigned int n = va_arg(list, unsigned int);\n",
    "    char *str;\n",
    "    int num_chars;\n",
    "\n",
    "    str = convert(n, 16, 0);\n",
    "    if (str == NULL)\n",
    "        return (-1);\n",
    "\n",
    "    num_chars = _puts(str, buffer, index);\n",
    "    return (num_chars);\n",
    "}\n"
   ]
  },
  {
   "cell_type": "code",
   "execution_count": 432,
   "metadata": {},
   "outputs": [
    {
     "name": "stdout",
     "output_type": "stream",
     "text": [
      "Overwriting /home/elkomy/alx/printf/print_octal.c\n"
     ]
    }
   ],
   "source": [
    "%%file /home/elkomy/alx/printf/print_octal.c\n",
    "#include \"main.h\"\n",
    "#include <stdlib.h>\n",
    "\n",
    "/**\n",
    " * print_octal - Prints a number in octal base\n",
    " * @list: list of arguments\n",
    " * @buffer: buffer to store the result\n",
    " * @index: current index in the buffer\n",
    " * Return: The number of characters printed\n",
    " */\n",
    "int print_octal(va_list list, char *buffer, int *index)\n",
    "{\n",
    "    unsigned int n = va_arg(list, unsigned int);\n",
    "    char *str;\n",
    "    int num_chars;\n",
    "\n",
    "    str = convert(n, 8, 0);\n",
    "    if (str == NULL)\n",
    "        return (-1);\n",
    "\n",
    "    num_chars = _puts(str, buffer, index);\n",
    "    return (num_chars);\n",
    "}\n",
    "\n",
    "\n"
   ]
  },
  {
   "cell_type": "code",
   "execution_count": 433,
   "metadata": {},
   "outputs": [
    {
     "name": "stdout",
     "output_type": "stream",
     "text": [
      "Overwriting /home/elkomy/alx/printf/print_unsigned.c\n"
     ]
    }
   ],
   "source": [
    "%%file /home/elkomy/alx/printf/print_unsigned.c\n",
    "#include \"main.h\"\n",
    "\n",
    "/**\n",
    " * print_unsigned - Prints an unsigned integer\n",
    " * @list: list of arguments\n",
    " * @buffer: buffer to store the result\n",
    " * @index: current index in the buffer\n",
    " * Return: The number of characters printed\n",
    " */\n",
    "int print_unsigned(va_list list, char *buffer, int *index)\n",
    "{\n",
    "    unsigned int n = va_arg(list, unsigned int);\n",
    "    char *str;\n",
    "    int num_chars;\n",
    "\n",
    "    str = convert(n, 10, 0);\n",
    "    if (str == NULL)\n",
    "        return (-1);\n",
    "\n",
    "    num_chars = _puts(str, buffer, index);\n",
    "    return (num_chars);\n",
    "}\n"
   ]
  },
  {
   "cell_type": "code",
   "execution_count": 437,
   "metadata": {},
   "outputs": [
    {
     "name": "stdout",
     "output_type": "stream",
     "text": [
      "Overwriting /home/elkomy/alx/printf/tests/main.c\n"
     ]
    }
   ],
   "source": [
    "%%file /home/elkomy/alx/printf/tests/main.c\n",
    "#include <limits.h>\n",
    "#include <stdio.h>\n",
    "#include \"../main.h\"\n",
    "\n",
    "/**\n",
    "* main - Entry point\n",
    "*\n",
    "* Return: Always 0\n",
    "*/\n",
    "int main(void)\n",
    "{\n",
    "int len;\n",
    "int len2;\n",
    "unsigned int ui;\n",
    "void *addr;\n",
    "\n",
    "len = _printf(\"Let's try to printf a simple sentence.\\n\");\n",
    "len2 = printf(\"Let's try to printf a simple sentence.\\n\");\n",
    "ui = (unsigned int)INT_MAX + 1024;\n",
    "addr = (void *)0x7ffe637541f0;\n",
    "_printf(\"Length:[%d, %i]\\n\", len, len);\n",
    "printf(\"Length:[%d, %i]\\n\", len2, len2);\n",
    "_printf(\"Negative:[%d]\\n\", -762534);\n",
    "printf(\"Negative:[%d]\\n\", -762534);\n",
    "_printf(\"Unsigned:[%u]\\n\", ui);\n",
    "printf(\"Unsigned:[%u]\\n\", ui);\n",
    "_printf(\"Unsigned octal:[%o]\\n\", ui);\n",
    "printf(\"Unsigned octal:[%o]\\n\", ui);\n",
    "_printf(\"Unsigned hexadecimal:[%x, %X]\\n\", ui, ui);\n",
    "printf(\"Unsigned hexadecimal:[%x, %X]\\n\", ui, ui);\n",
    "_printf(\"Character:[%c]\\n\", 'H');\n",
    "printf(\"Character:[%c]\\n\", 'H');\n",
    "_printf(\"String:[%s]\\n\", \"I am a string !\");\n",
    "printf(\"String:[%s]\\n\", \"I am a string !\");\n",
    "_printf(\"Address:[%p]\\n\", addr);\n",
    "printf(\"Address:[%p]\\n\", addr);\n",
    "len = _printf(\"Percent:[%%]\\n\");\n",
    "len2 = printf(\"Percent:[%%]\\n\");\n",
    "_printf(\"Len:[%d]\\n\", len);\n",
    "printf(\"Len:[%d]\\n\", len2);\n",
    "_printf(\"Unknown:[%r]\\n\");\n",
    "printf(\"Unknown:[%r]\\n\");\n",
    "return (0);\n",
    "}\n",
    "\n"
   ]
  },
  {
   "cell_type": "code",
   "execution_count": 438,
   "metadata": {},
   "outputs": [
    {
     "name": "stdout",
     "output_type": "stream",
     "text": [
      "Overwriting /home/elkomy/alx/printf/format_reciever.c\n"
     ]
    }
   ],
   "source": [
    "%%file /home/elkomy/alx/printf/format_reciever.c\n",
    "#include \"main.h\"\n",
    "\n",
    "/**\n",
    " * format_reciever - Receives the main string and all the necessary parameters to\n",
    " * print a formatted string\n",
    " * @format: A string containing all the desired characters\n",
    " * @f_list: A list of conversion specifiers\n",
    " * @arg_list: A list containing all the arguments passed to the program\n",
    " * @buffer: The buffer to write to\n",
    " * @index: The current index in the buffer\n",
    " * Return: A total count of the characters printed\n",
    " */\n",
    "#include \"main.h\"\n",
    "\n",
    "int format_reciever(const char *format, conver_t f_list[], va_list arg_list, char *buffer, int *index)\n",
    "{\n",
    "    int i, j, printed_chars = 0;\n",
    "    int (*func)(va_list, char *, int *);\n",
    "\n",
    "    for (i = 0; format[i] != '\\0'; i++)\n",
    "    {\n",
    "        if (format[i] == '%')\n",
    "        {\n",
    "            for (j = 0; f_list[j].specifier != NULL; j++)\n",
    "            {\n",
    "                if (format[i + 1] == f_list[j].specifier[0])\n",
    "                {\n",
    "                    func = f_list[j].f;\n",
    "                    printed_chars += func(arg_list, buffer, index);\n",
    "                    break;\n",
    "                }\n",
    "            }\n",
    "            if (f_list[j].specifier == NULL && format[i + 1] != ' ')\n",
    "            {\n",
    "                _putchar(format[i], buffer, index);\n",
    "                _putchar(format[i + 1], buffer, index);\n",
    "                printed_chars += 2;\n",
    "            }\n",
    "            i++;\n",
    "        }\n",
    "        else\n",
    "        {\n",
    "            _putchar(format[i], buffer, index);\n",
    "            printed_chars++;\n",
    "        }\n",
    "    }\n",
    "\n",
    "    return (printed_chars);\n",
    "}\n",
    "\n"
   ]
  },
  {
   "cell_type": "code",
   "execution_count": 439,
   "metadata": {},
   "outputs": [
    {
     "name": "stdout",
     "output_type": "stream",
     "text": [
      "\n",
      "========== /home/elkomy/alx/printf/_printf.c ==========\n",
      "_printf\n",
      "Let's try to printf a simple sentence.\n",
      "Let's try to printf a simple sentence.\n",
      "Length:[39, 39]\n",
      "Length:[39, 39]\n",
      "Negative:[-762534]\n",
      "Negative:[-762534]\n",
      "Unsigned:[2147484671]\n",
      "Unsigned:[2147484671]\n",
      "Unsigned octal:[20000001777]\n",
      "Unsigned octal:[20000001777]\n",
      "Unsigned hexadecimal:[800003ff, 800003FF]\n",
      "Unsigned hexadecimal:[800003ff, 800003FF]\n",
      "Character:[H]\n",
      "Character:[H]\n",
      "String:[I am a string !]\n",
      "String:[I am a string !]\n",
      "Address:[%p]\n",
      "Address:[0x7ffe637541f0]\n",
      "Percent:[%]\n",
      "Percent:[%]\n",
      "Len:[12]\n",
      "Len:[12]\n",
      "Unknown:[%r]\n",
      "Unknown:[%r]\n"
     ]
    }
   ],
   "source": [
    "\n",
    "!betty /home/elkomy/alx/printf/_printf.c\n",
    "!gcc -Wall -Werror -Wextra -pedantic -std=gnu89 -Wno-format /home/elkomy/alx/printf/*.c /home/elkomy/alx/printf/tests/main.c -o /home/elkomy/alx/printf/printf\n",
    "!./printf\n"
   ]
  },
  {
   "cell_type": "code",
   "execution_count": 391,
   "metadata": {},
   "outputs": [
    {
     "name": "stdout",
     "output_type": "stream",
     "text": [
      "[main 9f9aa53] alx-low_level_programming/0x0D-preprocessor/0-putchar\n",
      " 3 files changed, 7 insertions(+)\n",
      " rename tests/flush_buffer.c => flush_buffer.c (100%)\n"
     ]
    },
    {
     "name": "stderr",
     "output_type": "stream",
     "text": [
      "To https://github.com/elkomysara/printf\n",
      "   144ee33..9f9aa53  main -> main\n"
     ]
    }
   ],
   "source": [
    "%%bash\n",
    "git add .\n",
    "git commit -m \"alx-low_level_programming/0x0D-preprocessor/0-putchar\"\n",
    "git push"
   ]
  },
  {
   "cell_type": "markdown",
   "metadata": {},
   "source": [
    "###\n",
    "---\n",
    "<center>\n",
    "<h4>5. My weakness is wearing too much leopard print</h4>\n",
    "</center>\n",
    "\n",
    "---"
   ]
  },
  {
   "cell_type": "markdown",
   "metadata": {},
   "source": [
    "\n",
    "#### Handle the following custom conversion specifier:\n",
    "\n",
    "* `S` : prints the string.\n",
    "* Non printable characters (0 < ASCII value < 32 or >= 127) are printed this way: `\\x`, followed by the ASCII code value in hexadecimal (upper case - always 2 characters)\n",
    "\n",
    "```bash\n",
    "alex@ubuntu:~/c/printf$ cat main.c\n",
    "#include \"main.h\"\n",
    "\n",
    "/**\n",
    " * main - Entry point\n",
    " *\n",
    " * Return: Always 0\n",
    " */\n",
    "int main(void)\n",
    "{\n",
    "    _printf(\"%S\\n\", \"Best\\nSchool\");\n",
    "    return (0);\n",
    "}\n",
    "alex@ubuntu:~/c/printf$ gcc -Wall -Wextra -Werror -pedantic -std=gnu89 main.c\n",
    "alex@ubuntu:~/c/printf$ ./a.out\n",
    "Best\\x0ASchool\n",
    "alex@ubuntu:~/c/printf$\n",
    "```\n",
    "\n",
    "\n",
    "\n",
    "#### Repo:\n",
    "* GitHub repository: ``` printf```"
   ]
  },
  {
   "cell_type": "code",
   "execution_count": 511,
   "metadata": {},
   "outputs": [
    {
     "name": "stdout",
     "output_type": "stream",
     "text": [
      "Overwriting /home/elkomy/alx/printf/_printf.c\n"
     ]
    }
   ],
   "source": [
    "%%file /home/elkomy/alx/printf/_printf.c\n",
    "#include \"main.h\"\n",
    "#include <unistd.h>\n",
    "\n",
    "/**\n",
    "* _printf - Receives the main string and all the necessary parameters to\n",
    "* print a formatted string\n",
    "* @format: A string containing all the desired characters\n",
    "* Return: A total count of the characters printed\n",
    "*/\n",
    "int _printf(const char *format, ...)\n",
    "{\n",
    "va_list arg_list;\n",
    "int printed_chars = 0;\n",
    "char buffer[1024];\n",
    "int index = 0;\n",
    "\n",
    "conver_t f_list[] = {\n",
    "{\"%\", print_percent},\n",
    "{\"c\", print_char},\n",
    "{\"s\", print_string},\n",
    "{\"d\", print_integer},\n",
    "{\"i\", print_integer},\n",
    "{\"b\", print_binary},\n",
    "{\"u\", print_unsigned},\n",
    "{\"o\", print_octal},\n",
    "{\"x\", print_hex},\n",
    "{\"X\", print_HEX},\n",
    "{\"S\", print_special_string},\n",
    "{NULL, NULL}\n",
    "};\n",
    "\n",
    "va_start(arg_list, format);\n",
    "printed_chars = format_reciever(format, f_list, arg_list, buffer, &index);\n",
    "va_end(arg_list);\n",
    "\n",
    "buffer[index] = '\\0';\n",
    "write(1, buffer, index);\n",
    "\n",
    "return (printed_chars);\n",
    "}\n"
   ]
  },
  {
   "cell_type": "code",
   "execution_count": 512,
   "metadata": {},
   "outputs": [
    {
     "name": "stdout",
     "output_type": "stream",
     "text": [
      "Overwriting /home/elkomy/alx/printf/print_special_string.c\n"
     ]
    }
   ],
   "source": [
    "%%file /home/elkomy/alx/printf/print_special_string.c\n",
    "#include \"main.h\"\n",
    "#include <stdio.h>\n",
    "\n",
    "/**\n",
    " * print_special_string - Prints a string and converts non-printable\n",
    " * characters to their hexadecimal representation.\n",
    " * @list: list of arguments\n",
    " * @buffer: buffer to store the result\n",
    " * @index: current index in the buffer\n",
    " * Return: The number of characters printed\n",
    " */\n",
    "int print_special_string(va_list list, char *buffer, int *index)\n",
    "{\n",
    "    char *str = va_arg(list, char *);\n",
    "    char hex[5];\n",
    "    int i, j, num_chars = 0;\n",
    "\n",
    "    if (str == NULL)\n",
    "        str = \"(null)\";\n",
    "\n",
    "    for (i = 0; str[i] != '\\0'; i++)\n",
    "    {\n",
    "        if ((str[i] > 0 && str[i] < 32) || str[i] >= 127)\n",
    "        {\n",
    "            sprintf(hex, \"\\\\x%02X\", (unsigned char)str[i]);\n",
    "            for (j = 0; hex[j] != '\\0'; j++)\n",
    "            {\n",
    "                _putchar(hex[j], buffer, index);\n",
    "                num_chars++;\n",
    "            }\n",
    "        }\n",
    "        else\n",
    "        {\n",
    "            _putchar(str[i], buffer, index);\n",
    "            num_chars++;\n",
    "        }\n",
    "    }\n",
    "    return (num_chars);\n",
    "}\n"
   ]
  },
  {
   "cell_type": "code",
   "execution_count": 513,
   "metadata": {},
   "outputs": [
    {
     "name": "stdout",
     "output_type": "stream",
     "text": [
      "Overwriting /home/elkomy/alx/printf/format_reciever.c\n"
     ]
    }
   ],
   "source": [
    "%%file /home/elkomy/alx/printf/format_reciever.c\n",
    "#include \"main.h\"\n",
    "#include <stdio.h>\n",
    "\n",
    "/**\n",
    " * format_reciever - Receives the main string and all the necessary parameters to\n",
    " * print a formatted string\n",
    " * @format: A string containing all the desired characters\n",
    " * @f_list: A list of format specifiers and their corresponding functions\n",
    " * @arg_list: A list of arguments to be printed\n",
    " * @buffer: Buffer to store the formatted string\n",
    " * @index: Current index in the buffer\n",
    " * Return: A total count of the characters printed\n",
    " */\n",
    "int format_reciever(const char *format, conver_t f_list[], va_list arg_list, char *buffer, int *index)\n",
    "{\n",
    "    int i = 0, j, count = 0;\n",
    "\n",
    "    while (format && format[i])\n",
    "    {\n",
    "        if (format[i] == '%')\n",
    "        {\n",
    "            i++;\n",
    "            for (j = 0; f_list[j].specifier != NULL; j++)\n",
    "            {\n",
    "                if (format[i] == f_list[j].specifier[0])\n",
    "                {\n",
    "                    count += f_list[j].f(arg_list, buffer, index);\n",
    "                    break;\n",
    "                }\n",
    "            }\n",
    "            if (f_list[j].specifier == NULL)\n",
    "            {\n",
    "                buffer[*index] = '%';\n",
    "                buffer[*index + 1] = format[i];\n",
    "                *index += 2;\n",
    "                count += 2;\n",
    "            }\n",
    "        }\n",
    "        else\n",
    "        {\n",
    "            buffer[*index] = format[i];\n",
    "            (*index)++;\n",
    "            count++;\n",
    "        }\n",
    "        i++;\n",
    "    }\n",
    "    return (count);\n",
    "}\n"
   ]
  },
  {
   "cell_type": "code",
   "execution_count": 514,
   "metadata": {},
   "outputs": [
    {
     "name": "stdout",
     "output_type": "stream",
     "text": [
      "Overwriting /home/elkomy/alx/printf/main.h\n"
     ]
    }
   ],
   "source": [
    "%%file /home/elkomy/alx/printf/main.h\n",
    "#ifndef MAIN_H\n",
    "#define MAIN_H\n",
    "\n",
    "#include <stdarg.h>\n",
    "#include <stdlib.h>\n",
    "\n",
    "typedef struct converter {\n",
    "    char *specifier;\n",
    "    int (*f)(va_list, char *, int *);\n",
    "} conver_t;\n",
    "\n",
    "int _printf(const char *format, ...);\n",
    "int _putchar(char c, char *buffer, int *index);\n",
    "int _puts(char *str, char *buffer, int *index);\n",
    "int format_reciever(const char *format, conver_t f_list[], va_list arg_list, char *buffer, int *index);\n",
    "int print_char(va_list list, char *buffer, int *index);\n",
    "int print_string(va_list list, char *buffer, int *index);\n",
    "int print_percent(va_list list, char *buffer, int *index);\n",
    "int print_integer(va_list list, char *buffer, int *index);\n",
    "int print_number(int n, char *buffer, int *index);\n",
    "int print_binary(va_list list, char *buffer, int *index);\n",
    "int print_unsigned(va_list list, char *buffer, int *index);\n",
    "int print_octal(va_list list, char *buffer, int *index);\n",
    "int print_hex(va_list list, char *buffer, int *index);\n",
    "int print_HEX(va_list list, char *buffer, int *index);\n",
    "int print_special_string(va_list list, char *buffer, int *index); \n",
    "char *convert(unsigned long int num, int base, int lowercase);\n",
    "\n",
    "#endif /* MAIN_H */\n"
   ]
  },
  {
   "cell_type": "code",
   "execution_count": 515,
   "metadata": {},
   "outputs": [
    {
     "name": "stdout",
     "output_type": "stream",
     "text": [
      "Overwriting /home/elkomy/alx/printf/tests/main.c\n"
     ]
    }
   ],
   "source": [
    "%%file /home/elkomy/alx/printf/tests/main.c\n",
    "#include \"../main.h\"\n",
    "\n",
    "/**\n",
    " * main - Entry point\n",
    " *\n",
    " * Return: Always 0\n",
    " */\n",
    "int main(void)\n",
    "{\n",
    "    _printf(\"%S\\n\", \"Best\\nSchool\");\n",
    "    return (0);\n",
    "}"
   ]
  },
  {
   "cell_type": "code",
   "execution_count": 518,
   "metadata": {},
   "outputs": [
    {
     "name": "stdout",
     "output_type": "stream",
     "text": [
      "Overwriting /home/elkomy/alx/printf/_putchar.c\n"
     ]
    }
   ],
   "source": [
    "%%file /home/elkomy/alx/printf/_putchar.c\n",
    "#include \"main.h\"\n",
    "#include <unistd.h> \n",
    "\n",
    "/**\n",
    " * _putchar - Writes the character c to stdout\n",
    " * @c: The character to print\n",
    " * @buffer: Buffer to store characters\n",
    " * @index: Current index in the buffer\n",
    " * Return: On success 1.\n",
    " * On error, -1 is returned, and errno is set appropriately.\n",
    " */\n",
    "int _putchar(char c, char *buffer, int *index)\n",
    "{\n",
    "    if (*index >= 1024)\n",
    "    {\n",
    "        write(1, buffer, *index);\n",
    "        *index = 0;\n",
    "    }\n",
    "\n",
    "    buffer[*index] = c;\n",
    "    (*index)++;\n",
    "\n",
    "    return (1);\n",
    "}\n"
   ]
  },
  {
   "cell_type": "code",
   "execution_count": 519,
   "metadata": {},
   "outputs": [
    {
     "name": "stdout",
     "output_type": "stream",
     "text": [
      "Overwriting /home/elkomy/alx/printf/flush_buffer.c\n"
     ]
    }
   ],
   "source": [
    "%%file /home/elkomy/alx/printf/flush_buffer.c\n",
    "#include \"main.h\"\n",
    "#include <unistd.h> \n",
    "\n",
    "/**\n",
    " * flush_buffer - Writes the content of the buffer to stdout\n",
    " * @buffer: Buffer to store characters\n",
    " * @index: Current index in the buffer\n",
    " * Return: void\n",
    " */\n",
    "void flush_buffer(char *buffer, int *index)\n",
    "{\n",
    "    if (*index > 0)\n",
    "    {\n",
    "        write(1, buffer, *index);\n",
    "        *index = 0;\n",
    "    }\n",
    "}\n"
   ]
  },
  {
   "cell_type": "code",
   "execution_count": 521,
   "metadata": {},
   "outputs": [
    {
     "name": "stdout",
     "output_type": "stream",
     "text": [
      "Best\\x0ASchool\n"
     ]
    }
   ],
   "source": [
    "%%bash\n",
    "cd /home/elkomy/alx/printf\n",
    "gcc -Wall -Wextra -Werror -pedantic -std=gnu89 -Wno-format *.c tests/main.c -o printf\n",
    "./printf\n"
   ]
  },
  {
   "cell_type": "code",
   "execution_count": 522,
   "metadata": {},
   "outputs": [
    {
     "name": "stdout",
     "output_type": "stream",
     "text": [
      "[main 5a53f46] alx-low_level_programming/0x0D-preprocessor/0-putchar\n",
      " 1 file changed, 0 insertions(+), 0 deletions(-)\n",
      " rewrite printf (65%)\n"
     ]
    },
    {
     "name": "stderr",
     "output_type": "stream",
     "text": [
      "To https://github.com/elkomysara/printf\n",
      "   6fe62c8..5a53f46  main -> main\n"
     ]
    }
   ],
   "source": [
    "%%bash\n",
    "git add .\n",
    "git commit -m \"alx-low_level_programming/0x0D-preprocessor/0-putchar\"\n",
    "git push"
   ]
  },
  {
   "cell_type": "code",
   "execution_count": null,
   "metadata": {},
   "outputs": [],
   "source": []
  },
  {
   "cell_type": "markdown",
   "metadata": {},
   "source": [
    "###\n",
    "---\n",
    "<center>\n",
    "<h4>6. How is the world ruled and led to war? Diplomats lie to journalists and believe these lies when they see them in print</h4>\n",
    "</center>\n",
    "\n",
    "---"
   ]
  },
  {
   "cell_type": "markdown",
   "metadata": {},
   "source": [
    "\n",
    "#### Handle the following conversion specifier: `p`.\n",
    "\n",
    "* You don’t have to handle the flag characters\n",
    "* You don’t have to handle field width\n",
    "* You don’t have to handle precision\n",
    "* You don’t have to handle the length modifiers\n",
    "\n",
    "#### Repo:\n",
    "* GitHub repository: ``` printf```"
   ]
  },
  {
   "cell_type": "code",
   "execution_count": 524,
   "metadata": {},
   "outputs": [
    {
     "name": "stdout",
     "output_type": "stream",
     "text": [
      "Overwriting /home/elkomy/alx/printf/_printf.c\n"
     ]
    }
   ],
   "source": [
    "%%file /home/elkomy/alx/printf/_printf.c\n",
    "#include \"main.h\"\n",
    "#include <unistd.h>\n",
    "\n",
    "/**\n",
    "* _printf - Receives the main string and all the necessary parameters to\n",
    "* print a formatted string\n",
    "* @format: A string containing all the desired characters\n",
    "* Return: A total count of the characters printed\n",
    "*/\n",
    "int _printf(const char *format, ...)\n",
    "{\n",
    "va_list arg_list;\n",
    "int printed_chars = 0;\n",
    "char buffer[1024];\n",
    "int index = 0;\n",
    "\n",
    "conver_t f_list[] = {\n",
    "{\"%\", print_percent},\n",
    "{\"c\", print_char},\n",
    "{\"s\", print_string},\n",
    "{\"d\", print_integer},\n",
    "{\"i\", print_integer},\n",
    "{\"b\", print_binary},\n",
    "{\"u\", print_unsigned},\n",
    "{\"o\", print_octal},\n",
    "{\"x\", print_hex},\n",
    "{\"X\", print_HEX},\n",
    "{\"S\", print_special_string},\n",
    "{\"p\", print_pointer},\n",
    "{NULL, NULL}\n",
    "};\n",
    "\n",
    "va_start(arg_list, format);\n",
    "printed_chars = format_reciever(format, f_list, arg_list, buffer, &index);\n",
    "va_end(arg_list);\n",
    "\n",
    "buffer[index] = '\\0';\n",
    "write(1, buffer, index);\n",
    "\n",
    "return (printed_chars);\n",
    "}\n"
   ]
  },
  {
   "cell_type": "code",
   "execution_count": 525,
   "metadata": {},
   "outputs": [
    {
     "name": "stdout",
     "output_type": "stream",
     "text": [
      "Overwriting /home/elkomy/alx/printf/print_pointer.c\n"
     ]
    }
   ],
   "source": [
    "%%file /home/elkomy/alx/printf/print_pointer.c\n",
    "#include \"main.h\"\n",
    "#include <stdio.h>\n",
    "\n",
    "/**\n",
    " * print_pointer - Prints a pointer address\n",
    " * @list: list of arguments\n",
    " * @buffer: buffer to store characters\n",
    " * @index: current index in the buffer\n",
    " * Return: The number of characters printed\n",
    " */\n",
    "int print_pointer(va_list list, char *buffer, int *index)\n",
    "{\n",
    "    void *ptr = va_arg(list, void *);\n",
    "    unsigned long int addr = (unsigned long int)ptr;\n",
    "    char *hex_str;\n",
    "    int num_chars = 0;\n",
    "\n",
    "    if (ptr == NULL)\n",
    "    {\n",
    "        return (_puts(\"(nil)\", buffer, index));\n",
    "    }\n",
    "\n",
    "    _puts(\"0x\", buffer, index);\n",
    "    num_chars += 2;\n",
    "\n",
    "    hex_str = convert(addr, 16, 1);\n",
    "    num_chars += _puts(hex_str, buffer, index);\n",
    "\n",
    "    return (num_chars);\n",
    "}\n"
   ]
  },
  {
   "cell_type": "code",
   "execution_count": null,
   "metadata": {},
   "outputs": [
    {
     "name": "stdout",
     "output_type": "stream",
     "text": [
      "Overwriting /home/elkomy/alx/printf/format_reciever.c\n"
     ]
    }
   ],
   "source": [
    "%%file /home/elkomy/alx/printf/format_reciever.c\n",
    "#include \"main.h\"\n",
    "#include <stdio.h>\n",
    "\n",
    "/**\n",
    " * format_reciever - Receives the main string and all the necessary parameters to\n",
    " * print a formatted string\n",
    " * @format: A string containing all the desired characters\n",
    " * @f_list: A list of format specifiers and their corresponding functions\n",
    " * @arg_list: A list of arguments to be printed\n",
    " * @buffer: Buffer to store the formatted string\n",
    " * @index: Current index in the buffer\n",
    " * Return: A total count of the characters printed\n",
    " */\n",
    "int format_reciever(const char *format, conver_t f_list[], va_list arg_list, char *buffer, int *index)\n",
    "{\n",
    "    int i = 0, j, count = 0;\n",
    "\n",
    "    while (format && format[i])\n",
    "    {\n",
    "        if (format[i] == '%')\n",
    "        {\n",
    "            i++;\n",
    "            for (j = 0; f_list[j].specifier != NULL; j++)\n",
    "            {\n",
    "                if (format[i] == f_list[j].specifier[0])\n",
    "                {\n",
    "                    count += f_list[j].f(arg_list, buffer, index);\n",
    "                    break;\n",
    "                }\n",
    "            }\n",
    "            if (f_list[j].specifier == NULL)\n",
    "            {\n",
    "                buffer[*index] = '%';\n",
    "                buffer[*index + 1] = format[i];\n",
    "                *index += 2;\n",
    "                count += 2;\n",
    "            }\n",
    "        }\n",
    "        else\n",
    "        {\n",
    "            buffer[*index] = format[i];\n",
    "            (*index)++;\n",
    "            count++;\n",
    "        }\n",
    "        i++;\n",
    "    }\n",
    "    return (count);\n",
    "}\n"
   ]
  },
  {
   "cell_type": "code",
   "execution_count": 526,
   "metadata": {},
   "outputs": [
    {
     "name": "stdout",
     "output_type": "stream",
     "text": [
      "Overwriting /home/elkomy/alx/printf/main.h\n"
     ]
    }
   ],
   "source": [
    "%%file /home/elkomy/alx/printf/main.h\n",
    "#ifndef MAIN_H\n",
    "#define MAIN_H\n",
    "\n",
    "#include <stdarg.h>\n",
    "#include <stdlib.h>\n",
    "\n",
    "typedef struct converter {\n",
    "    char *specifier;\n",
    "    int (*f)(va_list, char *, int *);\n",
    "} conver_t;\n",
    "\n",
    "int _printf(const char *format, ...);\n",
    "int _putchar(char c, char *buffer, int *index);\n",
    "int _puts(char *str, char *buffer, int *index);\n",
    "int format_reciever(const char *format, conver_t f_list[], va_list arg_list, char *buffer, int *index);\n",
    "int print_char(va_list list, char *buffer, int *index);\n",
    "int print_string(va_list list, char *buffer, int *index);\n",
    "int print_percent(va_list list, char *buffer, int *index);\n",
    "int print_integer(va_list list, char *buffer, int *index);\n",
    "int print_number(int n, char *buffer, int *index);\n",
    "int print_binary(va_list list, char *buffer, int *index);\n",
    "int print_unsigned(va_list list, char *buffer, int *index);\n",
    "int print_octal(va_list list, char *buffer, int *index);\n",
    "int print_hex(va_list list, char *buffer, int *index);\n",
    "int print_HEX(va_list list, char *buffer, int *index);\n",
    "int print_special_string(va_list list, char *buffer, int *index);\n",
    "char *convert(unsigned long int num, int base, int lowercase);\n",
    "int print_pointer(va_list list, char *buffer, int *index);\n",
    "\n",
    "#endif /* MAIN_H */\n"
   ]
  },
  {
   "cell_type": "code",
   "execution_count": 527,
   "metadata": {},
   "outputs": [
    {
     "name": "stdout",
     "output_type": "stream",
     "text": [
      "Overwriting /home/elkomy/alx/printf/tests/main.c\n"
     ]
    }
   ],
   "source": [
    "%%file /home/elkomy/alx/printf/tests/main.c\n",
    "#include \"../main.h\"\n",
    "\n",
    "/**\n",
    " * main - Entry point\n",
    " *\n",
    " * Return: Always 0\n",
    " */\n",
    "int main(void)\n",
    "{\n",
    "    int *ptr = (int *)0x7ffe637541f0;\n",
    "\n",
    "    _printf(\"Pointer address: %p\\n\", ptr);\n",
    "    _printf(\"%S\\n\", \"Best\\nSchool\");\n",
    "    return (0);\n",
    "}"
   ]
  },
  {
   "cell_type": "code",
   "execution_count": 528,
   "metadata": {},
   "outputs": [
    {
     "name": "stdout",
     "output_type": "stream",
     "text": [
      "\n",
      "========== /home/elkomy/alx/printf/_printf.c ==========\n",
      "_printf\n",
      "Pointer address: 0x7ffe637541f0\n",
      "Best\\x0ASchool\n"
     ]
    }
   ],
   "source": [
    "\n",
    "!betty /home/elkomy/alx/printf/_printf.c\n",
    "!gcc -Wall -Werror -Wextra -pedantic -std=gnu89 -Wno-format /home/elkomy/alx/printf/*.c /home/elkomy/alx/printf/tests/main.c -o /home/elkomy/alx/printf/printf\n",
    "!./printf\n"
   ]
  },
  {
   "cell_type": "code",
   "execution_count": 529,
   "metadata": {},
   "outputs": [
    {
     "name": "stdout",
     "output_type": "stream",
     "text": [
      "[main 42d887a] alx-low_level_programming/0x0D-preprocessor/0-putchar\n",
      " 5 files changed, 36 insertions(+), 1 deletion(-)\n",
      " create mode 100644 print_pointer.c\n"
     ]
    },
    {
     "name": "stderr",
     "output_type": "stream",
     "text": [
      "To https://github.com/elkomysara/printf\n",
      "   5a53f46..42d887a  main -> main\n"
     ]
    }
   ],
   "source": [
    "%%bash\n",
    "git add .\n",
    "git commit -m \"alx-low_level_programming/0x0D-preprocessor/0-putchar\"\n",
    "git push"
   ]
  },
  {
   "cell_type": "code",
   "execution_count": null,
   "metadata": {},
   "outputs": [],
   "source": []
  },
  {
   "cell_type": "markdown",
   "metadata": {},
   "source": [
    "###\n",
    "---\n",
    "<center>\n",
    "<h4>7. The big print gives and the small print takes away</h4>\n",
    "</center>\n",
    "\n",
    "---"
   ]
  },
  {
   "cell_type": "markdown",
   "metadata": {},
   "source": [
    "\n",
    "#### Handle the following flag characters for non-custom conversion specifiers:\n",
    "\n",
    "* `+`\n",
    "* space\n",
    "* `#`\n",
    "\n",
    "#### Repo:\n",
    "* GitHub repository: ``` printf```"
   ]
  },
  {
   "cell_type": "code",
   "execution_count": 531,
   "metadata": {},
   "outputs": [
    {
     "name": "stdout",
     "output_type": "stream",
     "text": [
      "Overwriting /home/elkomy/alx/printf/_printf.c\n"
     ]
    }
   ],
   "source": [
    "%%file /home/elkomy/alx/printf/_printf.c\n",
    "#include \"main.h\"\n",
    "#include <unistd.h>\n",
    "\n",
    "/**\n",
    "* _printf - Receives the main string and all the necessary parameters to\n",
    "* print a formatted string\n",
    "* @format: A string containing all the desired characters\n",
    "* Return: A total count of the characters printed\n",
    "*/\n",
    "int _printf(const char *format, ...)\n",
    "{\n",
    "va_list arg_list;\n",
    "int printed_chars = 0;\n",
    "char buffer[1024];\n",
    "int index = 0;\n",
    "\n",
    "conver_t f_list[] = {\n",
    "{\"%\", print_percent},\n",
    "{\"c\", print_char},\n",
    "{\"s\", print_string},\n",
    "{\"d\", print_integer},\n",
    "{\"i\", print_integer},\n",
    "{\"b\", print_binary},\n",
    "{\"u\", print_unsigned},\n",
    "{\"o\", print_octal},\n",
    "{\"x\", print_hex},\n",
    "{\"X\", print_HEX},\n",
    "{\"S\", print_special_string},\n",
    "{\"p\", print_pointer},\n",
    "{NULL, NULL}\n",
    "};\n",
    "\n",
    "va_start(arg_list, format);\n",
    "printed_chars = format_reciever(format, f_list, arg_list, buffer, &index);\n",
    "va_end(arg_list);\n",
    "\n",
    "buffer[index] = '\\0';\n",
    "write(1, buffer, index);\n",
    "\n",
    "return (printed_chars);\n",
    "}\n"
   ]
  },
  {
   "cell_type": "code",
   "execution_count": 1,
   "metadata": {},
   "outputs": [
    {
     "name": "stdout",
     "output_type": "stream",
     "text": [
      "Overwriting /home/elkomy/alx/printf/format_reciever.c\n"
     ]
    }
   ],
   "source": [
    "%%file /home/elkomy/alx/printf/format_reciever.c\n",
    "%%file /home/elkomy/alx/printf/format_reciever.c\n",
    "#include \"main.h\"\n",
    "#include <stdio.h>\n",
    "\n",
    "/**\n",
    " * format_reciever - Receives the main string and all the necessary parameters to\n",
    " * print a formatted string\n",
    " * @format: A string containing all the desired characters\n",
    " * @f_list: A list of format specifiers and their corresponding functions\n",
    " * @arg_list: A list of arguments to be printed\n",
    " * @buffer: Buffer to store the formatted string\n",
    " * @index: Current index in the buffer\n",
    " * Return: A total count of the characters printed\n",
    " */\n",
    "int format_reciever(const char *format, conver_t f_list[], va_list arg_list, char *buffer, int *index)\n",
    "{\n",
    "    int i = 0, j, count = 0;\n",
    "    flags_t flags = {0, 0, 0};\n",
    "\n",
    "    while (format && format[i])\n",
    "    {\n",
    "        if (format[i] == '%')\n",
    "        {\n",
    "            i++;\n",
    "            flags.plus = flags.space = flags.hash = 0;\n",
    "\n",
    "            while (format[i] == '+' || format[i] == ' ' || format[i] == '#')\n",
    "            {\n",
    "                if (format[i] == '+')\n",
    "                    flags.plus = 1;\n",
    "                else if (format[i] == ' ')\n",
    "                    flags.space = 1;\n",
    "                else if (format[i] == '#')\n",
    "                    flags.hash = 1;\n",
    "                i++;\n",
    "            }\n",
    "\n",
    "            for (j = 0; f_list[j].specifier != NULL; j++)\n",
    "            {\n",
    "                if (format[i] == f_list[j].specifier[0])\n",
    "                {\n",
    "                    count += f_list[j].f(arg_list, buffer, index, flags);\n",
    "                    break;\n",
    "                }\n",
    "            }\n",
    "\n",
    "            if (f_list[j].specifier == NULL)\n",
    "            {\n",
    "                buffer[*index] = '%';\n",
    "                buffer[*index + 1] = format[i];\n",
    "                *index += 2;\n",
    "                count += 2;\n",
    "            }\n",
    "        }\n",
    "        else\n",
    "        {\n",
    "            buffer[*index] = format[i];\n",
    "            (*index)++;\n",
    "            count++;\n",
    "        }\n",
    "        i++;\n",
    "    }\n",
    "    return (count);\n",
    "}"
   ]
  },
  {
   "cell_type": "code",
   "execution_count": 2,
   "metadata": {},
   "outputs": [
    {
     "name": "stdout",
     "output_type": "stream",
     "text": [
      "Overwriting /home/elkomy/alx/printf/main.h\n"
     ]
    }
   ],
   "source": [
    "%%file /home/elkomy/alx/printf/main.h\n",
    "%%file /home/elkomy/alx/printf/main.h\n",
    "#ifndef MAIN_H\n",
    "#define MAIN_H\n",
    "\n",
    "#include <stdarg.h>\n",
    "#include <stdlib.h>\n",
    "\n",
    "typedef struct converter {\n",
    "    char *specifier;\n",
    "    int (*f)(va_list, char *, int *, flags_t);\n",
    "} conver_t;\n",
    "\n",
    "/* Define a structure to hold flags */\n",
    "typedef struct flags {\n",
    "    int plus;\n",
    "    int space;\n",
    "    int hash;\n",
    "} flags_t;\n",
    "\n",
    "int _printf(const char *format, ...);\n",
    "int _putchar(char c, char *buffer, int *index);\n",
    "int _puts(char *str, char *buffer, int *index);\n",
    "int format_reciever(const char *format, conver_t f_list[], va_list arg_list, char *buffer, int *index);\n",
    "int print_char(va_list list, char *buffer, int *index, flags_t flags);\n",
    "int print_string(va_list list, char *buffer, int *index, flags_t flags);\n",
    "int print_percent(va_list list, char *buffer, int *index, flags_t flags);\n",
    "int print_integer(va_list list, char *buffer, int *index, flags_t flags);\n",
    "int print_number(int n, char *buffer, int *index, flags_t flags);\n",
    "int print_binary(va_list list, char *buffer, int *index, flags_t flags);\n",
    "int print_unsigned(va_list list, char *buffer, int *index, flags_t flags);\n",
    "int print_octal(va_list list, char *buffer, int *index, flags_t flags);\n",
    "int print_hex(va_list list, char *buffer, int *index, flags_t flags);\n",
    "int print_HEX(va_list list, char *buffer, int *index, flags_t flags);\n",
    "int print_special_string(va_list list, char *buffer, int *index, flags_t flags);\n",
    "int print_pointer(va_list list, char *buffer, int *index, flags_t flags);\n",
    "char *convert(unsigned long int num, int base, int lowercase);\n",
    "\n",
    "#endif /* MAIN_H */\n",
    "\n"
   ]
  },
  {
   "cell_type": "code",
   "execution_count": 3,
   "metadata": {},
   "outputs": [
    {
     "name": "stdout",
     "output_type": "stream",
     "text": [
      "Overwriting /home/elkomy/alx/printf/print_integer.c\n"
     ]
    }
   ],
   "source": [
    "%%file /home/elkomy/alx/printf/print_integer.c\n",
    "#include \"main.h\"\n",
    "#include <stdio.h>\n",
    "\n",
    "/**\n",
    " * print_integer - Prints an integer\n",
    " * @list: list of arguments\n",
    " * @buffer: buffer to store characters\n",
    " * @index: current index in the buffer\n",
    " * @flags: flags for formatting\n",
    " * Return: The number of characters printed\n",
    " */\n",
    "int print_integer(va_list list, char *buffer, int *index, flags_t flags)\n",
    "{\n",
    "    int n = va_arg(list, int);\n",
    "    int num_chars = 0;\n",
    "    char temp[50];\n",
    "    int temp_index = 0;\n",
    "\n",
    "    if (flags.plus && n >= 0)\n",
    "    {\n",
    "        buffer[*index] = '+';\n",
    "        (*index)++;\n",
    "        num_chars++;\n",
    "    }\n",
    "    else if (flags.space && n >= 0)\n",
    "    {\n",
    "        buffer[*index] = ' ';\n",
    "        (*index)++;\n",
    "        num_chars++;\n",
    "    }\n",
    "\n",
    "    if (n < 0)\n",
    "    {\n",
    "        buffer[*index] = '-';\n",
    "        (*index)++;\n",
    "        num_chars++;\n",
    "        n = -n;\n",
    "    }\n",
    "\n",
    "    do {\n",
    "        temp[temp_index++] = (n % 10) + '0';\n",
    "        n /= 10;\n",
    "    } while (n > 0);\n",
    "\n",
    "    for (temp_index--; temp_index >= 0; temp_index--)\n",
    "    {\n",
    "        buffer[*index] = temp[temp_index];\n",
    "        (*index)++;\n",
    "        num_chars++;\n",
    "    }\n",
    "\n",
    "    return (num_chars);\n",
    "}\n"
   ]
  },
  {
   "cell_type": "code",
   "execution_count": 559,
   "metadata": {},
   "outputs": [
    {
     "name": "stdout",
     "output_type": "stream",
     "text": [
      "Overwriting /home/elkomy/alx/printf/print_HEX.c\n"
     ]
    }
   ],
   "source": [
    "%%file /home/elkomy/alx/printf/print_HEX.c\n",
    "#include \"main.h\"\n",
    "#include <stdio.h>\n",
    "\n",
    "/**\n",
    " * print_HEX - Prints a number in hexadecimal (uppercase)\n",
    " * @list: List of arguments\n",
    " * @buffer: Buffer to store characters\n",
    " * @index: Current index in the buffer\n",
    " * @plus_flag: Flag for '+' character\n",
    " * @space_flag: Flag for ' ' character\n",
    " * @hash_flag: Flag for '#' character\n",
    " * Return: Number of characters printed\n",
    " */\n",
    "int print_HEX(va_list list, char *buffer, int *index)\n",
    "{\n",
    "    unsigned int num = va_arg(list, unsigned int);\n",
    "    int num_chars = 0;\n",
    "    char *str;\n",
    "\n",
    "    if (hash_flag && num != 0)\n",
    "    {\n",
    "        buffer[*index] = '0';\n",
    "        buffer[*index + 1] = 'X';\n",
    "        *index += 2;\n",
    "        num_chars += 2;\n",
    "    }\n",
    "\n",
    "    str = convert(num, 16, 0);\n",
    "    while (*str)\n",
    "    {\n",
    "        buffer[*index] = *str;\n",
    "        (*index)++;\n",
    "        str++;\n",
    "        num_chars++;\n",
    "    }\n",
    "\n",
    "    return (num_chars);\n",
    "}\n"
   ]
  },
  {
   "cell_type": "code",
   "execution_count": 560,
   "metadata": {},
   "outputs": [
    {
     "name": "stdout",
     "output_type": "stream",
     "text": [
      "Overwriting /home/elkomy/alx/printf/print_binary.c\n"
     ]
    }
   ],
   "source": [
    "%%file /home/elkomy/alx/printf/print_binary.c\n",
    "#include \"main.h\"\n",
    "#include <stdio.h>\n",
    "\n",
    "/**\n",
    " * print_binary - Prints a number in binary\n",
    " * @list: List of arguments\n",
    " * @buffer: Buffer to store characters\n",
    " * @index: Current index in the buffer\n",
    " * @plus_flag: Flag for '+' character\n",
    " * @space_flag: Flag for ' ' character\n",
    " * @hash_flag: Flag for '#' character\n",
    " * Return: Number of characters printed\n",
    " */\n",
    "int print_binary(va_list list, char *buffer, int *index, int plus_flag, int space_flag, int hash_flag)\n",
    "{\n",
    "    unsigned int num = va_arg(list, unsigned int);\n",
    "    int num_chars = 0;\n",
    "    char *str = convert(num, 2, 0);\n",
    "\n",
    "    while (*str)\n",
    "    {\n",
    "        buffer[*index] = *str;\n",
    "        (*index)++;\n",
    "        str++;\n",
    "        num_chars++;\n",
    "    }\n",
    "\n",
    "    return (num_chars);\n",
    "}\n"
   ]
  },
  {
   "cell_type": "code",
   "execution_count": 561,
   "metadata": {},
   "outputs": [
    {
     "name": "stdout",
     "output_type": "stream",
     "text": [
      "Overwriting /home/elkomy/alx/printf/print_char.c\n"
     ]
    }
   ],
   "source": [
    "%%file /home/elkomy/alx/printf/print_char.c\n",
    "#include \"main.h\"\n",
    "#include <stdio.h>\n",
    "\n",
    "/**\n",
    " * print_char - Prints a character\n",
    " * @list: List of arguments\n",
    " * @buffer: Buffer to store characters\n",
    " * @index: Current index in the buffer\n",
    " * @plus_flag: Flag for '+' character\n",
    " * @space_flag: Flag for ' ' character\n",
    " * @hash_flag: Flag for '#' character\n",
    " * Return: Number of characters printed\n",
    " */\n",
    "int print_char(va_list list, char *buffer, int *index, int plus_flag, int space_flag, int hash_flag)\n",
    "{\n",
    "    char c = va_arg(list, int);\n",
    "\n",
    "    buffer[*index] = c;\n",
    "    (*index)++;\n",
    "\n",
    "    return (1);\n",
    "}\n"
   ]
  },
  {
   "cell_type": "code",
   "execution_count": 562,
   "metadata": {},
   "outputs": [
    {
     "name": "stdout",
     "output_type": "stream",
     "text": [
      "Overwriting /home/elkomy/alx/printf/print_hex.c\n"
     ]
    }
   ],
   "source": [
    "%%file /home/elkomy/alx/printf/print_hex.c\n",
    "#include \"main.h\"\n",
    "#include <stdio.h>\n",
    "\n",
    "/**\n",
    " * print_hex - Prints a number in hexadecimal (lowercase)\n",
    " * @list: List of arguments\n",
    " * @buffer: Buffer to store characters\n",
    " * @index: Current index in the buffer\n",
    " * @plus_flag: Flag for '+' character\n",
    " * @space_flag: Flag for ' ' character\n",
    " * @hash_flag: Flag for '#' character\n",
    " * Return: Number of characters printed\n",
    " */\n",
    "int print_hex(va_list list, char *buffer, int *index, int plus_flag, int space_flag, int hash_flag)\n",
    "{\n",
    "    unsigned int num = va_arg(list, unsigned int);\n",
    "    int num_chars = 0;\n",
    "    char *str;\n",
    "\n",
    "    if (hash_flag && num != 0)\n",
    "    {\n",
    "        buffer[*index] = '0';\n",
    "        buffer[*index + 1] = 'x';\n",
    "        *index += 2;\n",
    "        num_chars += 2;\n",
    "    }\n",
    "\n",
    "    str = convert(num, 16, 1);\n",
    "    while (*str)\n",
    "    {\n",
    "        buffer[*index] = *str;\n",
    "        (*index)++;\n",
    "        str++;\n",
    "        num_chars++;\n",
    "    }\n",
    "\n",
    "    return (num_chars);\n",
    "}\n"
   ]
  },
  {
   "cell_type": "code",
   "execution_count": 563,
   "metadata": {},
   "outputs": [
    {
     "name": "stdout",
     "output_type": "stream",
     "text": [
      "Overwriting /home/elkomy/alx/printf/tests/main.c\n"
     ]
    }
   ],
   "source": [
    "%%file /home/elkomy/alx/printf/tests/main.c\n",
    "#include \"../main.h\"\n",
    "\n",
    "/**\n",
    " * main - Entry point\n",
    " *\n",
    " * Return: Always 0\n",
    " */\n",
    "int main(void)\n",
    "{\n",
    "    _printf(\"Space flag: % d\\n\", 42);\n",
    "    _printf(\"Plus flag: %+d\\n\", 42);\n",
    "    _printf(\"Hash flag: %#x\\n\", 255);\n",
    "    _printf(\"%S\\n\", \"Best\\nSchool\");\n",
    "    int *ptr = (int *)0x7ffe637541f0;\n",
    "    _printf(\"Pointer address: %p\\n\", ptr);\n",
    "    return (0);\n",
    "}\n"
   ]
  },
  {
   "cell_type": "code",
   "execution_count": 564,
   "metadata": {},
   "outputs": [
    {
     "name": "stdout",
     "output_type": "stream",
     "text": [
      "\n",
      "========== /home/elkomy/alx/printf/_printf.c ==========\n",
      "_printf\n",
      "\u001b[01m\u001b[K/home/elkomy/alx/printf/print_HEX.c:14:5:\u001b[m\u001b[K \u001b[01;31m\u001b[Kerror: \u001b[m\u001b[Kconflicting types for ‘\u001b[01m\u001b[Kprint_HEX\u001b[m\u001b[K’\n",
      "   14 | int \u001b[01;31m\u001b[Kprint_HEX\u001b[m\u001b[K(va_list list, char *buffer, int *index)\n",
      "      |     \u001b[01;31m\u001b[K^~~~~~~~~\u001b[m\u001b[K\n",
      "In file included from \u001b[01m\u001b[K/home/elkomy/alx/printf/print_HEX.c:1\u001b[m\u001b[K:\n",
      "\u001b[01m\u001b[K/home/elkomy/alx/printf/main.h:25:5:\u001b[m\u001b[K \u001b[01;36m\u001b[Knote: \u001b[m\u001b[Kprevious declaration of ‘\u001b[01m\u001b[Kprint_HEX\u001b[m\u001b[K’ was here\n",
      "   25 | int \u001b[01;36m\u001b[Kprint_HEX\u001b[m\u001b[K(va_list list, char *buffer, int *index, int plus_flag, int space_flag, int hash_flag);\n",
      "      |     \u001b[01;36m\u001b[K^~~~~~~~~\u001b[m\u001b[K\n",
      "\u001b[01m\u001b[K/home/elkomy/alx/printf/print_HEX.c:\u001b[m\u001b[K In function ‘\u001b[01m\u001b[Kprint_HEX\u001b[m\u001b[K’:\n",
      "\u001b[01m\u001b[K/home/elkomy/alx/printf/print_HEX.c:20:9:\u001b[m\u001b[K \u001b[01;31m\u001b[Kerror: \u001b[m\u001b[K‘\u001b[01m\u001b[Khash_flag\u001b[m\u001b[K’ undeclared (first use in this function)\n",
      "   20 |     if (\u001b[01;31m\u001b[Khash_flag\u001b[m\u001b[K && num != 0)\n",
      "      |         \u001b[01;31m\u001b[K^~~~~~~~~\u001b[m\u001b[K\n",
      "\u001b[01m\u001b[K/home/elkomy/alx/printf/print_HEX.c:20:9:\u001b[m\u001b[K \u001b[01;36m\u001b[Knote: \u001b[m\u001b[Keach undeclared identifier is reported only once for each function it appears in\n",
      "\u001b[01m\u001b[K/home/elkomy/alx/printf/print_binary.c:\u001b[m\u001b[K In function ‘\u001b[01m\u001b[Kprint_binary\u001b[m\u001b[K’:\n",
      "\u001b[01m\u001b[K/home/elkomy/alx/printf/print_binary.c:14:62:\u001b[m\u001b[K \u001b[01;31m\u001b[Kerror: \u001b[m\u001b[Kunused parameter ‘\u001b[01m\u001b[Kplus_flag\u001b[m\u001b[K’ [\u001b[01;31m\u001b[K-Werror=unused-parameter\u001b[m\u001b[K]\n",
      "   14 | int print_binary(va_list list, char *buffer, int *index, \u001b[01;31m\u001b[Kint plus_flag\u001b[m\u001b[K, int space_flag, int hash_flag)\n",
      "      |                                                          \u001b[01;31m\u001b[K~~~~^~~~~~~~~\u001b[m\u001b[K\n",
      "\u001b[01m\u001b[K/home/elkomy/alx/printf/print_binary.c:14:77:\u001b[m\u001b[K \u001b[01;31m\u001b[Kerror: \u001b[m\u001b[Kunused parameter ‘\u001b[01m\u001b[Kspace_flag\u001b[m\u001b[K’ [\u001b[01;31m\u001b[K-Werror=unused-parameter\u001b[m\u001b[K]\n",
      "   14 | y(va_list list, char *buffer, int *index, int plus_flag, \u001b[01;31m\u001b[Kint space_flag\u001b[m\u001b[K, int hash_flag)\n",
      "      |                                                          \u001b[01;31m\u001b[K~~~~^~~~~~~~~~\u001b[m\u001b[K\n",
      "\n",
      "\u001b[01m\u001b[K/home/elkomy/alx/printf/print_binary.c:14:93:\u001b[m\u001b[K \u001b[01;31m\u001b[Kerror: \u001b[m\u001b[Kunused parameter ‘\u001b[01m\u001b[Khash_flag\u001b[m\u001b[K’ [\u001b[01;31m\u001b[K-Werror=unused-parameter\u001b[m\u001b[K]\n",
      "   14 | t list, char *buffer, int *index, int plus_flag, int space_flag, \u001b[01;31m\u001b[Kint hash_flag\u001b[m\u001b[K)\n",
      "      |                                                                  \u001b[01;31m\u001b[K~~~~^~~~~~~~~\u001b[m\u001b[K\n",
      "\n",
      "cc1: all warnings being treated as errors\n",
      "\u001b[01m\u001b[K/home/elkomy/alx/printf/print_char.c:\u001b[m\u001b[K In function ‘\u001b[01m\u001b[Kprint_char\u001b[m\u001b[K’:\n",
      "\u001b[01m\u001b[K/home/elkomy/alx/printf/print_char.c:14:60:\u001b[m\u001b[K \u001b[01;31m\u001b[Kerror: \u001b[m\u001b[Kunused parameter ‘\u001b[01m\u001b[Kplus_flag\u001b[m\u001b[K’ [\u001b[01;31m\u001b[K-Werror=unused-parameter\u001b[m\u001b[K]\n",
      "   14 | int print_char(va_list list, char *buffer, int *index, \u001b[01;31m\u001b[Kint plus_flag\u001b[m\u001b[K, int space_flag, int hash_flag)\n",
      "      |                                                        \u001b[01;31m\u001b[K~~~~^~~~~~~~~\u001b[m\u001b[K\n",
      "\u001b[01m\u001b[K/home/elkomy/alx/printf/print_char.c:14:75:\u001b[m\u001b[K \u001b[01;31m\u001b[Kerror: \u001b[m\u001b[Kunused parameter ‘\u001b[01m\u001b[Kspace_flag\u001b[m\u001b[K’ [\u001b[01;31m\u001b[K-Werror=unused-parameter\u001b[m\u001b[K]\n",
      "   14 | r(va_list list, char *buffer, int *index, int plus_flag, \u001b[01;31m\u001b[Kint space_flag\u001b[m\u001b[K, int hash_flag)\n",
      "      |                                                          \u001b[01;31m\u001b[K~~~~^~~~~~~~~~\u001b[m\u001b[K\n",
      "\n",
      "\u001b[01m\u001b[K/home/elkomy/alx/printf/print_char.c:14:91:\u001b[m\u001b[K \u001b[01;31m\u001b[Kerror: \u001b[m\u001b[Kunused parameter ‘\u001b[01m\u001b[Khash_flag\u001b[m\u001b[K’ [\u001b[01;31m\u001b[K-Werror=unused-parameter\u001b[m\u001b[K]\n",
      "   14 | t list, char *buffer, int *index, int plus_flag, int space_flag, \u001b[01;31m\u001b[Kint hash_flag\u001b[m\u001b[K)\n",
      "      |                                                                  \u001b[01;31m\u001b[K~~~~^~~~~~~~~\u001b[m\u001b[K\n",
      "\n",
      "cc1: all warnings being treated as errors\n",
      "\u001b[01m\u001b[K/home/elkomy/alx/printf/print_hex.c:\u001b[m\u001b[K In function ‘\u001b[01m\u001b[Kprint_hex\u001b[m\u001b[K’:\n",
      "\u001b[01m\u001b[K/home/elkomy/alx/printf/print_hex.c:14:59:\u001b[m\u001b[K \u001b[01;31m\u001b[Kerror: \u001b[m\u001b[Kunused parameter ‘\u001b[01m\u001b[Kplus_flag\u001b[m\u001b[K’ [\u001b[01;31m\u001b[K-Werror=unused-parameter\u001b[m\u001b[K]\n",
      "   14 | int print_hex(va_list list, char *buffer, int *index, \u001b[01;31m\u001b[Kint plus_flag\u001b[m\u001b[K, int space_flag, int hash_flag)\n",
      "      |                                                       \u001b[01;31m\u001b[K~~~~^~~~~~~~~\u001b[m\u001b[K\n",
      "\u001b[01m\u001b[K/home/elkomy/alx/printf/print_hex.c:14:74:\u001b[m\u001b[K \u001b[01;31m\u001b[Kerror: \u001b[m\u001b[Kunused parameter ‘\u001b[01m\u001b[Kspace_flag\u001b[m\u001b[K’ [\u001b[01;31m\u001b[K-Werror=unused-parameter\u001b[m\u001b[K]\n",
      "   14 | x(va_list list, char *buffer, int *index, int plus_flag, \u001b[01;31m\u001b[Kint space_flag\u001b[m\u001b[K, int hash_flag)\n",
      "      |                                                          \u001b[01;31m\u001b[K~~~~^~~~~~~~~~\u001b[m\u001b[K\n",
      "\n",
      "cc1: all warnings being treated as errors\n",
      "\u001b[01m\u001b[K/home/elkomy/alx/printf/print_integer.c:\u001b[m\u001b[K In function ‘\u001b[01m\u001b[Kprint_integer\u001b[m\u001b[K’:\n",
      "\u001b[01m\u001b[K/home/elkomy/alx/printf/print_integer.c:14:94:\u001b[m\u001b[K \u001b[01;31m\u001b[Kerror: \u001b[m\u001b[Kunused parameter ‘\u001b[01m\u001b[Khash_flag\u001b[m\u001b[K’ [\u001b[01;31m\u001b[K-Werror=unused-parameter\u001b[m\u001b[K]\n",
      "   14 | t list, char *buffer, int *index, int plus_flag, int space_flag, \u001b[01;31m\u001b[Kint hash_flag\u001b[m\u001b[K)\n",
      "      |                                                                  \u001b[01;31m\u001b[K~~~~^~~~~~~~~\u001b[m\u001b[K\n",
      "\n",
      "cc1: all warnings being treated as errors\n",
      "\u001b[01m\u001b[K/home/elkomy/alx/printf/print_octal.c:11:5:\u001b[m\u001b[K \u001b[01;31m\u001b[Kerror: \u001b[m\u001b[Kconflicting types for ‘\u001b[01m\u001b[Kprint_octal\u001b[m\u001b[K’\n",
      "   11 | int \u001b[01;31m\u001b[Kprint_octal\u001b[m\u001b[K(va_list list, char *buffer, int *index)\n",
      "      |     \u001b[01;31m\u001b[K^~~~~~~~~~~\u001b[m\u001b[K\n",
      "In file included from \u001b[01m\u001b[K/home/elkomy/alx/printf/print_octal.c:1\u001b[m\u001b[K:\n",
      "\u001b[01m\u001b[K/home/elkomy/alx/printf/main.h:23:5:\u001b[m\u001b[K \u001b[01;36m\u001b[Knote: \u001b[m\u001b[Kprevious declaration of ‘\u001b[01m\u001b[Kprint_octal\u001b[m\u001b[K’ was here\n",
      "   23 | int \u001b[01;36m\u001b[Kprint_octal\u001b[m\u001b[K(va_list list, char *buffer, int *index, int plus_flag, int space_flag, int hash_flag);\n",
      "      |     \u001b[01;36m\u001b[K^~~~~~~~~~~\u001b[m\u001b[K\n",
      "\u001b[01m\u001b[K/home/elkomy/alx/printf/print_percent.c:11:5:\u001b[m\u001b[K \u001b[01;31m\u001b[Kerror: \u001b[m\u001b[Kconflicting types for ‘\u001b[01m\u001b[Kprint_percent\u001b[m\u001b[K’\n",
      "   11 | int \u001b[01;31m\u001b[Kprint_percent\u001b[m\u001b[K(va_list list __attribute__((unused)), char *buffer, int *index)\n",
      "      |     \u001b[01;31m\u001b[K^~~~~~~~~~~~~\u001b[m\u001b[K\n",
      "In file included from \u001b[01m\u001b[K/home/elkomy/alx/printf/print_percent.c:2\u001b[m\u001b[K:\n",
      "\u001b[01m\u001b[K/home/elkomy/alx/printf/main.h:18:5:\u001b[m\u001b[K \u001b[01;36m\u001b[Knote: \u001b[m\u001b[Kprevious declaration of ‘\u001b[01m\u001b[Kprint_percent\u001b[m\u001b[K’ was here\n",
      "   18 | int \u001b[01;36m\u001b[Kprint_percent\u001b[m\u001b[K(va_list list, char *buffer, int *index, int plus_flag, int space_flag, int hash_flag);\n",
      "      |     \u001b[01;36m\u001b[K^~~~~~~~~~~~~\u001b[m\u001b[K\n",
      "\u001b[01m\u001b[K/home/elkomy/alx/printf/print_pointer.c:11:5:\u001b[m\u001b[K \u001b[01;31m\u001b[Kerror: \u001b[m\u001b[Kconflicting types for ‘\u001b[01m\u001b[Kprint_pointer\u001b[m\u001b[K’\n",
      "   11 | int \u001b[01;31m\u001b[Kprint_pointer\u001b[m\u001b[K(va_list list, char *buffer, int *index)\n",
      "      |     \u001b[01;31m\u001b[K^~~~~~~~~~~~~\u001b[m\u001b[K\n",
      "In file included from \u001b[01m\u001b[K/home/elkomy/alx/printf/print_pointer.c:1\u001b[m\u001b[K:\n",
      "\u001b[01m\u001b[K/home/elkomy/alx/printf/main.h:27:5:\u001b[m\u001b[K \u001b[01;36m\u001b[Knote: \u001b[m\u001b[Kprevious declaration of ‘\u001b[01m\u001b[Kprint_pointer\u001b[m\u001b[K’ was here\n",
      "   27 | int \u001b[01;36m\u001b[Kprint_pointer\u001b[m\u001b[K(va_list list, char *buffer, int *index, int plus_flag, int space_flag, int hash_flag);\n",
      "      |     \u001b[01;36m\u001b[K^~~~~~~~~~~~~\u001b[m\u001b[K\n",
      "\u001b[01m\u001b[K/home/elkomy/alx/printf/print_special_string.c:12:5:\u001b[m\u001b[K \u001b[01;31m\u001b[Kerror: \u001b[m\u001b[Kconflicting types for ‘\u001b[01m\u001b[Kprint_special_string\u001b[m\u001b[K’\n",
      "   12 | int \u001b[01;31m\u001b[Kprint_special_string\u001b[m\u001b[K(va_list list, char *buffer, int *index)\n",
      "      |     \u001b[01;31m\u001b[K^~~~~~~~~~~~~~~~~~~~\u001b[m\u001b[K\n",
      "In file included from \u001b[01m\u001b[K/home/elkomy/alx/printf/print_special_string.c:1\u001b[m\u001b[K:\n",
      "\u001b[01m\u001b[K/home/elkomy/alx/printf/main.h:26:5:\u001b[m\u001b[K \u001b[01;36m\u001b[Knote: \u001b[m\u001b[Kprevious declaration of ‘\u001b[01m\u001b[Kprint_special_string\u001b[m\u001b[K’ was here\n",
      "   26 | int \u001b[01;36m\u001b[Kprint_special_string\u001b[m\u001b[K(va_list list, char *buffer, int *index, int plus_flag, int space_flag, int hash_flag);\n",
      "      |     \u001b[01;36m\u001b[K^~~~~~~~~~~~~~~~~~~~\u001b[m\u001b[K\n",
      "\u001b[01m\u001b[K/home/elkomy/alx/printf/print_string.c:3:5:\u001b[m\u001b[K \u001b[01;31m\u001b[Kerror: \u001b[m\u001b[Kconflicting types for ‘\u001b[01m\u001b[Kprint_string\u001b[m\u001b[K’\n",
      "    3 | int \u001b[01;31m\u001b[Kprint_string\u001b[m\u001b[K(va_list list, char *buffer, int *index)\n",
      "      |     \u001b[01;31m\u001b[K^~~~~~~~~~~~\u001b[m\u001b[K\n",
      "In file included from \u001b[01m\u001b[K/home/elkomy/alx/printf/print_string.c:1\u001b[m\u001b[K:\n",
      "\u001b[01m\u001b[K/home/elkomy/alx/printf/main.h:17:5:\u001b[m\u001b[K \u001b[01;36m\u001b[Knote: \u001b[m\u001b[Kprevious declaration of ‘\u001b[01m\u001b[Kprint_string\u001b[m\u001b[K’ was here\n",
      "   17 | int \u001b[01;36m\u001b[Kprint_string\u001b[m\u001b[K(va_list list, char *buffer, int *index, int plus_flag, int space_flag, int hash_flag);\n",
      "      |     \u001b[01;36m\u001b[K^~~~~~~~~~~~\u001b[m\u001b[K\n",
      "\u001b[01m\u001b[K/home/elkomy/alx/printf/print_unsigned.c:10:5:\u001b[m\u001b[K \u001b[01;31m\u001b[Kerror: \u001b[m\u001b[Kconflicting types for ‘\u001b[01m\u001b[Kprint_unsigned\u001b[m\u001b[K’\n",
      "   10 | int \u001b[01;31m\u001b[Kprint_unsigned\u001b[m\u001b[K(va_list list, char *buffer, int *index)\n",
      "      |     \u001b[01;31m\u001b[K^~~~~~~~~~~~~~\u001b[m\u001b[K\n",
      "In file included from \u001b[01m\u001b[K/home/elkomy/alx/printf/print_unsigned.c:1\u001b[m\u001b[K:\n",
      "\u001b[01m\u001b[K/home/elkomy/alx/printf/main.h:22:5:\u001b[m\u001b[K \u001b[01;36m\u001b[Knote: \u001b[m\u001b[Kprevious declaration of ‘\u001b[01m\u001b[Kprint_unsigned\u001b[m\u001b[K’ was here\n",
      "   22 | int \u001b[01;36m\u001b[Kprint_unsigned\u001b[m\u001b[K(va_list list, char *buffer, int *index, int plus_flag, int space_flag, int hash_flag);\n",
      "      |     \u001b[01;36m\u001b[K^~~~~~~~~~~~~~\u001b[m\u001b[K\n",
      "\u001b[01m\u001b[K/home/elkomy/alx/printf/tests/main.c:\u001b[m\u001b[K In function ‘\u001b[01m\u001b[Kmain\u001b[m\u001b[K’:\n",
      "\u001b[01m\u001b[K/home/elkomy/alx/printf/tests/main.c:14:5:\u001b[m\u001b[K \u001b[01;31m\u001b[Kerror: \u001b[m\u001b[KISO C90 forbids mixed declarations and code [\u001b[01;31m\u001b[K-Werror=declaration-after-statement\u001b[m\u001b[K]\n",
      "   14 |     \u001b[01;31m\u001b[Kint\u001b[m\u001b[K *ptr = (int *)0x7ffe637541f0;\n",
      "      |     \u001b[01;31m\u001b[K^~~\u001b[m\u001b[K\n",
      "cc1: all warnings being treated as errors\n",
      "Pointer address: 0x7ffe637541f0\n",
      "Best\\x0ASchool\n"
     ]
    }
   ],
   "source": [
    "\n",
    "!betty /home/elkomy/alx/printf/_printf.c\n",
    "!gcc -Wall -Werror -Wextra -pedantic -std=gnu89 -Wno-format /home/elkomy/alx/printf/*.c /home/elkomy/alx/printf/tests/main.c -o /home/elkomy/alx/printf/printf\n",
    "!./printf\n"
   ]
  },
  {
   "cell_type": "code",
   "execution_count": 565,
   "metadata": {},
   "outputs": [
    {
     "name": "stdout",
     "output_type": "stream",
     "text": [
      "[main 86549d3] alx-low_level_programming/0x0D-preprocessor/0-putchar\n",
      " 8 files changed, 232 insertions(+), 170 deletions(-)\n",
      " rewrite main.h (61%)\n",
      " rewrite print_HEX.c (75%)\n",
      " rewrite print_binary.c (95%)\n",
      " rewrite print_char.c (72%)\n",
      " rewrite print_hex.c (85%)\n",
      " rewrite print_integer.c (72%)\n"
     ]
    },
    {
     "name": "stderr",
     "output_type": "stream",
     "text": [
      "To https://github.com/elkomysara/printf\n",
      "   42d887a..86549d3  main -> main\n"
     ]
    }
   ],
   "source": [
    "%%bash\n",
    "git add .\n",
    "git commit -m \"alx-low_level_programming/0x0D-preprocessor/0-putchar\"\n",
    "git push"
   ]
  },
  {
   "cell_type": "code",
   "execution_count": null,
   "metadata": {},
   "outputs": [],
   "source": []
  }
 ],
 "metadata": {
  "kernelspec": {
   "display_name": "Python 3",
   "language": "python",
   "name": "python3"
  },
  "language_info": {
   "codemirror_mode": {
    "name": "ipython",
    "version": 3
   },
   "file_extension": ".py",
   "mimetype": "text/x-python",
   "name": "python",
   "nbconvert_exporter": "python",
   "pygments_lexer": "ipython3",
   "version": "3.12.3"
  }
 },
 "nbformat": 4,
 "nbformat_minor": 2
}
