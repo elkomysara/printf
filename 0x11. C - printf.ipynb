{
 "cells": [
  {
   "cell_type": "markdown",
   "metadata": {},
   "source": [
    "#\n",
    "<center>\n",
    "<div style=\"border: 2px solid yellow; display: inline-block; padding: 10px;\">\n",
    "<h2><b>printf</b></h2>\n",
    "</div>\n",
    "</center>\n"
   ]
  },
  {
   "cell_type": "markdown",
   "metadata": {},
   "source": [
    "##\n",
    "<center>\n",
    "<div style=\"border: 2px solid red; display: inline-block; padding: 10px;\">\n",
    "<h2><b>Project Preping</b></h2>\n",
    "</div>\n",
    "</center>"
   ]
  },
  {
   "cell_type": "markdown",
   "metadata": {},
   "source": [
    "######\n",
    "<center>\n",
    "<div style=\"border: 2px solid blue; display: inline-block; padding: 10px;\">\n",
    "<h2><b>STEP1:Making the README</b></h2>\n",
    "</div>\n",
    "</center>"
   ]
  },
  {
   "cell_type": "code",
   "execution_count": 1,
   "metadata": {},
   "outputs": [],
   "source": [
    "import os\n",
    "# creating 0x02-shell_redirectionss\n",
    "\n",
    "folder_path = r'/home/elkomy/alx/printf'\n",
    "if not os.path.exists(folder_path):\n",
    "    os.makedirs(folder_path)\n",
    "\n",
    "# Create a README.md inside alx-low_level_programming/0x0D-preprocessor\n",
    "file_path = os.path.join(folder_path, 'README.md')\n",
    "\n",
    "with open(file_path, 'w') as file:\n",
    "    file.write(\"This is a README.md file inside alx-low_level_programming/0x0D-preprocessor\")\n",
    "\n"
   ]
  },
  {
   "cell_type": "code",
   "execution_count": 284,
   "metadata": {},
   "outputs": [
    {
     "name": "stdout",
     "output_type": "stream",
     "text": [
      "Overwriting /home/elkomy/alx/printf/README.md\n"
     ]
    }
   ],
   "source": [
    "%%file /home/elkomy/alx/printf/README.md\n",
    "# _printf Project\n",
    "\n",
    "## Description\n",
    "\n",
    "This project is an implementation of the C standard library function `printf`. The `_printf` function produces output according to a format string.\n",
    "\n",
    "## Requirements\n",
    "\n",
    "- All files will be compiled on Ubuntu 20.04 LTS using `gcc`.\n",
    "- All files should end with a new line.\n",
    "- Code should use the Betty style.\n",
    "- No global variables.\n",
    "- No more than 5 functions per file.\n",
    "- Allowed functions and macros: `write`, `malloc`, `free`, `va_start`, `va_end`, `va_copy`, `va_arg`.\n",
    "\n",
    "## Conversion Specifiers\n",
    "\n",
    "- `c`: Prints a character.\n",
    "- `s`: Prints a string.\n",
    "- `%`: Prints a percent symbol.\n",
    "\n",
    "## Compilation\n",
    "\n",
    "To compile the project, run:\n",
    "```sh\n",
    "gcc -Wall -Werror -Wextra -pedantic -std=gnu89 -Wno-format *.c tests/main.c -o printf\n"
   ]
  },
  {
   "cell_type": "code",
   "execution_count": 12,
   "metadata": {},
   "outputs": [],
   "source": [
    "!cd /home/elkomy/alx/printf"
   ]
  },
  {
   "cell_type": "code",
   "execution_count": 13,
   "metadata": {},
   "outputs": [
    {
     "name": "stdout",
     "output_type": "stream",
     "text": [
      "/home/elkomy/alx/printf\n"
     ]
    }
   ],
   "source": [
    "!pwd"
   ]
  },
  {
   "cell_type": "markdown",
   "metadata": {},
   "source": [
    "######\n",
    "<center>\n",
    "<div style=\"border: 2px solid pink; display: inline-block; padding: 10px;\">\n",
    "<h2><b>0x11. C - printf </b></h2>\n",
    "</div>\n",
    "</center>"
   ]
  },
  {
   "cell_type": "markdown",
   "metadata": {},
   "source": [
    "#### Tasks\n",
    "0. I'm not going anywhere. You can print that wherever you want to. I'm here and I'm a Spur for life\n",
    "mandatory\n",
    "Write a function that produces output according to a format.\n",
    "\n",
    "Prototype: int _printf(const char *format, ...);\n",
    "Returns: the number of characters printed (excluding the null byte used to end output to strings)\n",
    "write output to stdout, the standard output stream\n",
    "format is a character string. The format string is composed of zero or more directives. See man 3 printf for more detail. You need to handle the following conversion specifiers:\n",
    "c\n",
    "s\n",
    "%\n",
    "You don’t have to reproduce the buffer handling of the C library printf function\n",
    "You don’t have to handle the flag characters\n",
    "You don’t have to handle field width\n",
    "You don’t have to handle precision\n",
    "You don’t have to handle the length modifiers\n",
    "Repo:\n",
    "\n",
    "GitHub repository: printf\n",
    "   \n",
    "1. Education is when you read the fine print. Experience is what you get if you don't\n",
    "mandatory\n",
    "Handle the following conversion specifiers:\n",
    "\n",
    "d\n",
    "i\n",
    "You don’t have to handle the flag characters\n",
    "You don’t have to handle field width\n",
    "You don’t have to handle precision\n",
    "You don’t have to handle the length modifiers\n",
    "Repo:\n",
    "\n",
    "GitHub repository: printf\n",
    "   \n",
    "2. With a face like mine, I do better in print\n",
    "#advanced\n",
    "Handle the following custom conversion specifiers:\n",
    "\n",
    "b: the unsigned int argument is converted to binary\n",
    "alex@ubuntu:~/c/printf$ cat main.c\n",
    "#include \"main.h\"\n",
    "\n",
    "/**\n",
    " * main - Entry point\n",
    " *\n",
    " * Return: Always 0\n",
    " */\n",
    "int main(void)\n",
    "{\n",
    "    _printf(\"%b\\n\", 98);\n",
    "    return (0);\n",
    "}\n",
    "alex@ubuntu:~/c/printf$ gcc -Wall -Wextra -Werror -pedantic -std=gnu89 main.c\n",
    "alex@ubuntu:~/c/printf$ ./a.out\n",
    "1100010\n",
    "alex@ubuntu:~/c/printf$\n",
    "Repo:\n",
    "\n",
    "GitHub repository: printf\n",
    "   \n",
    "3. What one has not experienced, one will never understand in print\n",
    "#advanced\n",
    "Handle the following conversion specifiers:\n",
    "\n",
    "u\n",
    "o\n",
    "x\n",
    "X\n",
    "You don’t have to handle the flag characters\n",
    "You don’t have to handle field width\n",
    "You don’t have to handle precision\n",
    "You don’t have to handle the length modifiers\n",
    "Repo:\n",
    "\n",
    "GitHub repository: printf\n",
    "   \n",
    "4. Nothing in fine print is ever good news\n",
    "#advanced\n",
    "Use a local buffer of 1024 chars in order to call write as little as possible.\n",
    "\n",
    "Repo:\n",
    "\n",
    "GitHub repository: printf\n",
    "   \n",
    "5. My weakness is wearing too much leopard print\n",
    "#advanced\n",
    "Handle the following custom conversion specifier:\n",
    "\n",
    "S : prints the string.\n",
    "Non printable characters (0 < ASCII value < 32 or >= 127) are printed this way: \\x, followed by the ASCII code value in hexadecimal (upper case - always 2 characters)\n",
    "alex@ubuntu:~/c/printf$ cat main.c\n",
    "#include \"main.h\"\n",
    "\n",
    "/**\n",
    " * main - Entry point\n",
    " *\n",
    " * Return: Always 0\n",
    " */\n",
    "int main(void)\n",
    "{\n",
    "    _printf(\"%S\\n\", \"Best\\nSchool\");\n",
    "    return (0);\n",
    "}\n",
    "alex@ubuntu:~/c/printf$ gcc -Wall -Wextra -Werror -pedantic -std=gnu89 main.c\n",
    "alex@ubuntu:~/c/printf$ ./a.out\n",
    "Best\\x0ASchool\n",
    "alex@ubuntu:~/c/printf$\n",
    "Repo:\n",
    "\n",
    "GitHub repository: printf\n",
    "   \n",
    "6. How is the world ruled and led to war? Diplomats lie to journalists and believe these lies when they see them in print\n",
    "#advanced\n",
    "Handle the following conversion specifier: p.\n",
    "\n",
    "You don’t have to handle the flag characters\n",
    "You don’t have to handle field width\n",
    "You don’t have to handle precision\n",
    "You don’t have to handle the length modifiers\n",
    "Repo:\n",
    "\n",
    "GitHub repository: printf\n",
    "   \n",
    "7. The big print gives and the small print takes away\n",
    "#advanced\n",
    "Handle the following flag characters for non-custom conversion specifiers:\n",
    "\n",
    "+\n",
    "space\n",
    "#\n",
    "Repo:\n",
    "\n",
    "GitHub repository: printf\n",
    "    \n",
    "8. Sarcasm is lost in print\n",
    "#advanced\n",
    "Handle the following length modifiers for non-custom conversion specifiers:\n",
    "\n",
    "l\n",
    "h\n",
    "Conversion specifiers to handle: d, i, u, o, x, X\n",
    "\n",
    "Repo:\n",
    "\n",
    "GitHub repository: printf\n",
    "    \n",
    "9. Print some money and give it to us for the rain forests\n",
    "#advanced\n",
    "Handle the field width for non-custom conversion specifiers.\n",
    "\n",
    "Repo:\n",
    "\n",
    "GitHub repository: printf\n",
    "   \n",
    "10. The negative is the equivalent of the composer's score, and the print the performance\n",
    "#advanced\n",
    "Handle the precision for non-custom conversion specifiers.\n",
    "\n",
    "Repo:\n",
    "\n",
    "GitHub repository: printf\n",
    "    \n",
    "11. It's depressing when you're still around and your albums are out of print\n",
    "#advanced\n",
    "Handle the 0 flag character for non-custom conversion specifiers.\n",
    "\n",
    "Repo:\n",
    "\n",
    "GitHub repository: printf\n",
    "    \n",
    "12. Every time that I wanted to give up, if I saw an interesting textile, print what ever, suddenly I would see a collection\n",
    "#advanced\n",
    "Handle the - flag character for non-custom conversion specifiers.\n",
    "\n",
    "Repo:\n",
    "\n",
    "GitHub repository: printf\n",
    "    \n",
    "13. Print is the sharpest and the strongest weapon of our party\n",
    "#advanced\n",
    "Handle the following custom conversion specifier:\n",
    "\n",
    "r : prints the reversed string\n",
    "Repo:\n",
    "\n",
    "GitHub repository: printf\n",
    "    \n",
    "14. The flood of print has turned reading into a process of gulping rather than savoring\n",
    "#advanced\n",
    "Handle the following custom conversion specifier:\n",
    "\n",
    "R: prints the rot13'ed string\n",
    "Repo:\n",
    "\n",
    "GitHub repository: printf\n",
    "    "
   ]
  },
  {
   "cell_type": "markdown",
   "metadata": {},
   "source": [
    "###\n",
    "<center>\n",
    "<div style=\"border: 2px solid violet; display: inline-block; padding: 10px;\">\n",
    "<h4>0. I'm not going anywhere. You can print that wherever you want to. I'm here and I'm a Spur for life </h4>\n",
    "<hr style=\"width:100%; margin:auto;\">\n",
    "</div>\n",
    "</center>"
   ]
  },
  {
   "cell_type": "markdown",
   "metadata": {},
   "source": [
    "<div style=\"border: 2px solid violet; display: inline-block; padding: 10px;\">\n",
    "\n",
    "\n",
    "Write a function that produces output according to a format.\n",
    "\n",
    "* Prototype: `int _printf(const char *format, ...);`\n",
    "* Returns: the number of characters printed (excluding the null byte used to end output to strings)\n",
    "* write output to stdout, the standard output stream\n",
    "* `format` is a character string. The format string is composed of zero or more directives. See `man 3 printf` for more detail. You need to handle the following conversion specifiers:\n",
    "    * c\n",
    "    * s\n",
    "    * %\n",
    "* You don’t have to reproduce the buffer handling of the C library `printf` function\n",
    "* You don’t have to handle the flag characters\n",
    "* You don’t have to handle field width\n",
    "* You don’t have to handle precision\n",
    "* You don’t have to handle the length modifiers\n",
    "#### Repo:\n",
    "* GitHub repository: ```  printf ```\n",
    "</div>"
   ]
  },
  {
   "cell_type": "markdown",
   "metadata": {},
   "source": [
    "<details>\n",
    "\n",
    "#### Task 0 create overview:\n",
    "* the basic `_printf` function that can handle the `c`, `s`, and `%` format specifiers. \n",
    "\n",
    "##### Task 0 Plan:\n",
    "1. **Create the Basic Functionality**:\n",
    "   - Implement the `_printf` function that processes a format string and calls the appropriate function for each specifier.\n",
    "   - Implement helper functions for handling `c`, `s`, and `%` specifiers.\n",
    "\n",
    "2. **Implement and Test**:\n",
    "   - Implement the required functions in separate files.\n",
    "   - Update `main.h` to include the function prototypes and necessary includes.\n",
    "   - Test the implementation with a basic `main.c` file to ensure that everything is working as expected.\n",
    "\n",
    "##### Step-by-Step Implementation:\n",
    "\n",
    "###### 1. Implement the `_putchar.c` file\n",
    "You've already provided the `_putchar.c` file, which is essential for writing characters to stdout. This file does not need further updates.\n",
    "\n",
    "###### 2. Implement the `_printf.c` file\n",
    "This file contains the main logic for handling the format string and dispatching calls to the appropriate functions. It will include handling of the `c`, `s`, and `%` specifiers.\n",
    "\n",
    "###### 3. Implement the `format_reciever.c` file\n",
    "This file contains the logic for iterating over the format string and identifying the correct conversion specifier, calling the corresponding function.\n",
    "\n",
    "###### 4. Implement the `print_percent.c` file\n",
    "This file contains the function that handles printing the `%` symbol.\n",
    "\n",
    "###### 5. Implement the `print_char.c` and `print_string.c` files\n",
    "These files will contain the logic for handling the `c` and `s` specifiers.\n",
    "\n",
    "###### 6. Implement a simple `main.c` file for testing\n",
    "We'll create a `main.c` file that tests the basic functionality of the `_printf` function.\n",
    "\n",
    "###### 7. Update the `main.h` header file\n",
    "The header file should include all the necessary function prototypes and the `struct convert`.\n",
    "\n",
    "###### 8. Run `betty` and compile\n",
    "We'll use `betty` to check the code style and then compile the program to ensure everything works correctly."
   ]
  },
  {
   "cell_type": "markdown",
   "metadata": {},
   "source": [
    "#### Step[0] - Erease all files and start all over"
   ]
  },
  {
   "cell_type": "code",
   "execution_count": 42,
   "metadata": {},
   "outputs": [],
   "source": [
    "%%bash\n",
    "rm -f /home/elkomy/alx/printf/*.o\n",
    "rm -f /home/elkomy/alx/printf/*.c\n",
    "rm -f /home/elkomy/alx/printf/*.h\n",
    "rm -f /home/elkomy/alx/printf/printf\n",
    "rm -f /home/elkomy/alx/printf/Makefile"
   ]
  },
  {
   "cell_type": "markdown",
   "metadata": {},
   "source": [
    "#### Step[1] - Update _putchar.c (if needed)"
   ]
  },
  {
   "cell_type": "code",
   "execution_count": null,
   "metadata": {},
   "outputs": [
    {
     "name": "stdout",
     "output_type": "stream",
     "text": [
      "Writing /home/elkomy/alx/printf/_putchar.c\n"
     ]
    }
   ],
   "source": [
    "%%file /home/elkomy/alx/printf/_putchar.c\n",
    "#include <unistd.h>\n",
    "\n",
    "/**\n",
    "* _putchar - writes a character to stdout\n",
    "* @c: character to write\n",
    "*\n",
    "* Return: On success 1.\n",
    "* On error, -1 is returned, and errno is set appropriately.\n",
    "*/\n",
    "\n",
    "int _putchar(char c)\n",
    "{\n",
    "return (write(1, &c, 1));\n",
    "}\n"
   ]
  },
  {
   "cell_type": "markdown",
   "metadata": {},
   "source": [
    "#### Step[2] - Update _printf.c"
   ]
  },
  {
   "cell_type": "code",
   "execution_count": 404,
   "metadata": {},
   "outputs": [
    {
     "name": "stdout",
     "output_type": "stream",
     "text": [
      "Overwriting /home/elkomy/alx/printf/_printf.c\n"
     ]
    }
   ],
   "source": [
    "%%file /home/elkomy/alx/printf/_printf.c\n",
    "#include \"main.h\"\n",
    "\n",
    "/**\n",
    "* _printf - Receives the main string and all the necessary parameters to\n",
    "* print a formatted string\n",
    "* @format: A string containing all the desired characters\n",
    "* Return: A total count of the characters printed\n",
    "*/\n",
    "\n",
    "\n",
    "int _printf(const char *format, ...)\n",
    "{\n",
    "int printed_chars;\n",
    "conver_t f_list[] = {\n",
    "{\"%\", print_percent},\n",
    "{\"c\", print_char},\n",
    "{\"s\", print_string},\n",
    "{\"d\", print_int},\n",
    "{\"i\", print_int},\n",
    "{\"u\", print_unsigned},\n",
    "{\"o\", print_octal},\n",
    "{\"x\", print_hex},\n",
    "{\"X\", print_HEX},\n",
    "{\"p\", print_pointer},\n",
    "{NULL, NULL},\n",
    "};\n",
    "va_list arg_list;\n",
    "\n",
    "if (format == NULL)\n",
    "return (-1);\n",
    "\n",
    "va_start(arg_list, format);\n",
    "printed_chars = format_reciever(format, f_list, arg_list);\n",
    "va_end(arg_list);\n",
    "\n",
    "return (printed_chars);\n",
    "}\n",
    "\n"
   ]
  },
  {
   "cell_type": "markdown",
   "metadata": {},
   "source": [
    "#### Step[3] - Update format_reciever.c"
   ]
  },
  {
   "cell_type": "code",
   "execution_count": null,
   "metadata": {},
   "outputs": [
    {
     "name": "stdout",
     "output_type": "stream",
     "text": [
      "Overwriting /home/elkomy/alx/printf/format_reciever.c\n"
     ]
    }
   ],
   "source": [
    "%%file /home/elkomy/alx/printf/format_reciever.c\n",
    "#include \"main.h\"\n",
    "\n",
    "/**\n",
    "* format_reciever - Receives the format and\n",
    "* the argument list, then calls the appropriate function\n",
    "* @format: The format string\n",
    "* @f_list: List of conversion specifiers and associated functions\n",
    "* @arg_list: Argument list\n",
    "* Return: The number of characters printed\n",
    "*/\n",
    "int format_reciever(const char *format, conver_t f_list[], va_list arg_list)\n",
    "{\n",
    "int i, j, printed_chars = 0;\n",
    "\n",
    "for (i = 0; format[i] != '\\0'; i++)\n",
    "{\n",
    "if (format[i] == '%')\n",
    "{\n",
    "int found = 0;\n",
    "for (j = 0; f_list[j].sym != NULL; j++)\n",
    "{\n",
    "if (format[i + 1] == f_list[j].sym[0])\n",
    "{\n",
    "printed_chars += f_list[j].f(arg_list);\n",
    "i++;\n",
    "found = 1;\n",
    "break;\n",
    "}\n",
    "}\n",
    "if (!found)\n",
    "{\n",
    "if (format[i + 1] != '\\0')\n",
    "{\n",
    "_putchar(format[i]);\n",
    "_putchar(format[i + 1]);\n",
    "printed_chars += 2;\n",
    "i++;\n",
    "}\n",
    "else\n",
    "{\n",
    "_putchar(format[i]);\n",
    "printed_chars++;\n",
    "}\n",
    "}\n",
    "}\n",
    "else\n",
    "{\n",
    "_putchar(format[i]);\n",
    "printed_chars++;\n",
    "}\n",
    "}\n",
    "return (printed_chars);\n",
    "}\n"
   ]
  },
  {
   "cell_type": "markdown",
   "metadata": {},
   "source": [
    "#### Update print_precent.c"
   ]
  },
  {
   "cell_type": "code",
   "execution_count": 405,
   "metadata": {},
   "outputs": [
    {
     "name": "stdout",
     "output_type": "stream",
     "text": [
      "Overwriting /home/elkomy/alx/printf/print_percent.c\n"
     ]
    }
   ],
   "source": [
    "%%file /home/elkomy/alx/printf/print_percent.c\n",
    "#include \"main.h\"\n",
    "\n",
    "/**\n",
    "* print_percent - Prints a percent symbol\n",
    "* @list: list of arguments\n",
    "* Return: Will return the amount of characters printed.\n",
    "*/\n",
    "\n",
    "int print_percent(__attribute__((unused))va_list list)\n",
    "{\n",
    "_putchar('%');\n",
    "return (1);\n",
    "}\n",
    "\n",
    "\n"
   ]
  },
  {
   "cell_type": "markdown",
   "metadata": {},
   "source": [
    "#### Update print_char.c"
   ]
  },
  {
   "cell_type": "code",
   "execution_count": 406,
   "metadata": {},
   "outputs": [
    {
     "name": "stdout",
     "output_type": "stream",
     "text": [
      "Overwriting /home/elkomy/alx/printf/print_char.c\n"
     ]
    }
   ],
   "source": [
    "%%file /home/elkomy/alx/printf/print_char.c\n",
    "#include \"main.h\"\n",
    "\n",
    "/**\n",
    "* print_char - Prints character\n",
    "* @list: list of arguments\n",
    "* Return: Will return the amount of characters printed.\n",
    "*/\n",
    "\n",
    "int print_char(va_list list)\n",
    "{\n",
    "_putchar(va_arg(list, int));\n",
    "return (1);\n",
    "}\n"
   ]
  },
  {
   "cell_type": "markdown",
   "metadata": {},
   "source": [
    "#### Update print_string.c"
   ]
  },
  {
   "cell_type": "code",
   "execution_count": 407,
   "metadata": {},
   "outputs": [
    {
     "name": "stdout",
     "output_type": "stream",
     "text": [
      "Overwriting /home/elkomy/alx/printf/print_string.c\n"
     ]
    }
   ],
   "source": [
    "%%file /home/elkomy/alx/printf/print_string.c\n",
    "#include \"main.h\"\n",
    "\n",
    "/**\n",
    "* print_string - Prints a string\n",
    "* @list: list of arguments\n",
    "* Return: Will return the amount of characters printed.\n",
    "*/\n",
    "\n",
    "\n",
    "int print_string(va_list list)\n",
    "{\n",
    "int i;\n",
    "char *str;\n",
    "\n",
    "str = va_arg(list, char *);\n",
    "if (str == NULL)\n",
    "str = \"(null)\";\n",
    "for (i = 0; str[i] != '\\0'; i++)\n",
    "_putchar(str[i]);\n",
    "return (i);\n",
    "}\n"
   ]
  },
  {
   "cell_type": "markdown",
   "metadata": {},
   "source": [
    "#### Update print_int.c"
   ]
  },
  {
   "cell_type": "code",
   "execution_count": 409,
   "metadata": {},
   "outputs": [
    {
     "name": "stdout",
     "output_type": "stream",
     "text": [
      "Overwriting /home/elkomy/alx/printf/print_int.c\n"
     ]
    }
   ],
   "source": [
    "%%file /home/elkomy/alx/printf/print_int.c\n",
    "#include \"main.h\"\n",
    "#include <stdarg.h>\n",
    "\n",
    "/**\n",
    "* print_int - Prints an integer\n",
    "* @list: list of arguments\n",
    "* Return: Will return the number of characters printed\n",
    "*/\n",
    "int print_int(va_list list)\n",
    "{\n",
    "int num = va_arg(list, int);\n",
    "char buffer[12];\n",
    "int i = 0, len = 0, negative = 0;\n",
    "\n",
    "if (num < 0)\n",
    "{\n",
    "_putchar('-');\n",
    "num = -num;\n",
    "negative = 1;\n",
    "len++;\n",
    "}\n",
    "\n",
    "if (num == 0)\n",
    "{\n",
    "_putchar('0');\n",
    "return (1);\n",
    "}\n",
    "\n",
    "while (num != 0)\n",
    "{\n",
    "buffer[i++] = (num % 10) + '0';\n",
    "num /= 10;\n",
    "}\n",
    "\n",
    "while (i--)\n",
    "_putchar(buffer[i]);\n",
    "\n",
    "return (len + i + negative);\n",
    "}"
   ]
  },
  {
   "cell_type": "markdown",
   "metadata": {},
   "source": [
    "#### Update print_unsigned.c"
   ]
  },
  {
   "cell_type": "code",
   "execution_count": 410,
   "metadata": {},
   "outputs": [
    {
     "name": "stdout",
     "output_type": "stream",
     "text": [
      "Overwriting /home/elkomy/alx/printf/print_unsigned.c\n"
     ]
    }
   ],
   "source": [
    "%%file /home/elkomy/alx/printf/print_unsigned.c\n",
    "\n",
    "#include \"main.h\"\n",
    "#include <stdarg.h>\n",
    "/**\n",
    "* print_unsigned - Prints an unsigned integer\n",
    "* @list: list of arguments\n",
    "* Return: Will return the number of characters printed\n",
    "*/\n",
    "\n",
    "int print_unsigned(va_list list)\n",
    "{\n",
    "unsigned int num = va_arg(list, unsigned int);\n",
    "char buffer[12];\n",
    "int i = 0, len = 0;\n",
    "\n",
    "if (num == 0)\n",
    "{\n",
    "_putchar('0');\n",
    "return (1);\n",
    "}\n",
    "\n",
    "while (num != 0)\n",
    "{\n",
    "buffer[i++] = (num % 10) + '0';\n",
    "num /= 10;\n",
    "}\n",
    "\n",
    "while (i--)\n",
    "_putchar(buffer[i]);\n",
    "\n",
    "return (len + i);\n",
    "}\n"
   ]
  },
  {
   "cell_type": "markdown",
   "metadata": {},
   "source": [
    "#### Update print_octal.c"
   ]
  },
  {
   "cell_type": "code",
   "execution_count": 411,
   "metadata": {},
   "outputs": [
    {
     "name": "stdout",
     "output_type": "stream",
     "text": [
      "Overwriting /home/elkomy/alx/printf/print_octal.c\n"
     ]
    }
   ],
   "source": [
    "%%file /home/elkomy/alx/printf/print_octal.c\n",
    "\n",
    "#include \"main.h\"\n",
    "\n",
    "/**\n",
    "* print_octal - Prints an unsigned integer in octal notation\n",
    "* @list: list of arguments\n",
    "* Return: Will return the number of characters printed\n",
    "*/\n",
    "\n",
    "int print_octal(va_list list)\n",
    "{\n",
    "unsigned int num = va_arg(list, unsigned int);\n",
    "char buffer[12];\n",
    "int i = 0, len = 0;\n",
    "\n",
    "if (num == 0)\n",
    "{\n",
    "_putchar('0');\n",
    "return (1);\n",
    "}\n",
    "\n",
    "while (num != 0)\n",
    "{\n",
    "buffer[i++] = (num % 8) + '0';\n",
    "num /= 8;\n",
    "}\n",
    "\n",
    "while (i--)\n",
    "_putchar(buffer[i]);\n",
    "\n",
    "return (len + i);\n",
    "}\n"
   ]
  },
  {
   "cell_type": "markdown",
   "metadata": {},
   "source": [
    "#### Update print_hex.c"
   ]
  },
  {
   "cell_type": "code",
   "execution_count": 412,
   "metadata": {},
   "outputs": [
    {
     "name": "stdout",
     "output_type": "stream",
     "text": [
      "Overwriting /home/elkomy/alx/printf/print_hex.c\n"
     ]
    }
   ],
   "source": [
    "%%file /home/elkomy/alx/printf/print_hex.c\n",
    "\n",
    "#include \"main.h\"\n",
    "#include <stdarg.h>\n",
    "\n",
    "/**\n",
    "* print_hex - Prints an unsigned integer in hexadecimal notation (lowercase)\n",
    "* @list: list of arguments\n",
    "* Return: Will return the number of characters printed\n",
    "*/\n",
    "int print_hex(va_list list)\n",
    "{\n",
    "unsigned int num = va_arg(list, unsigned int);\n",
    "char buffer[12];\n",
    "int i = 0, len = 0;\n",
    "\n",
    "if (num == 0)\n",
    "{\n",
    "_putchar('0');\n",
    "return (1);\n",
    "}\n",
    "\n",
    "while (num != 0)\n",
    "{\n",
    "buffer[i++] = (num % 16) + (num % 16 < 10 ? '0' : 'a' - 10);\n",
    "num /= 16;\n",
    "}\n",
    "\n",
    "while (i--)\n",
    "_putchar(buffer[i]);\n",
    "\n",
    "return (len + i);\n",
    "}"
   ]
  },
  {
   "cell_type": "markdown",
   "metadata": {},
   "source": [
    "#### Update print_HEX.c"
   ]
  },
  {
   "cell_type": "code",
   "execution_count": 413,
   "metadata": {},
   "outputs": [
    {
     "name": "stdout",
     "output_type": "stream",
     "text": [
      "Overwriting /home/elkomy/alx/printf/print_HEX.c\n"
     ]
    }
   ],
   "source": [
    "%%file /home/elkomy/alx/printf/print_HEX.c\n",
    "\n",
    "#include \"main.h\"\n",
    "#include <stdarg.h>\n",
    "\n",
    "/**\n",
    "* print_HEX - Prints an unsigned integer in hexadecimal notation (uppercase)\n",
    "* @list: list of arguments\n",
    "* Return: Will return the number of characters printed\n",
    "*/\n",
    "int print_HEX(va_list list)\n",
    "{\n",
    "unsigned int num = va_arg(list, unsigned int);\n",
    "char buffer[12];\n",
    "int i = 0, len = 0;\n",
    "\n",
    "if (num == 0)\n",
    "{\n",
    "_putchar('0');\n",
    "return (1);\n",
    "}\n",
    "\n",
    "while (num != 0)\n",
    "{\n",
    "buffer[i++] = (num % 16) + (num % 16 < 10 ? '0' : 'A' - 10);\n",
    "num /= 16;\n",
    "}\n",
    "\n",
    "while (i--)\n",
    "_putchar(buffer[i]);\n",
    "\n",
    "return (len + i);\n",
    "}\n"
   ]
  },
  {
   "cell_type": "markdown",
   "metadata": {},
   "source": [
    "#### Update print_pointer.c"
   ]
  },
  {
   "cell_type": "code",
   "execution_count": 414,
   "metadata": {},
   "outputs": [
    {
     "name": "stdout",
     "output_type": "stream",
     "text": [
      "Overwriting /home/elkomy/alx/printf/print_pointer.c\n"
     ]
    }
   ],
   "source": [
    "%%file /home/elkomy/alx/printf/print_pointer.c\n",
    "\n",
    "#include \"main.h\"\n",
    "#include <stdarg.h>\n",
    "\n",
    "/**\n",
    "* print_pointer - Prints a pointer address\n",
    "* @list: list of arguments\n",
    "* Return: Will return the number of characters printed\n",
    "*/\n",
    "int print_pointer(va_list list)\n",
    "{\n",
    "unsigned long int addr = (unsigned long int)va_arg(list, void *);\n",
    "char buffer[17];\n",
    "int i = 0, len = 0;\n",
    "\n",
    "if (addr == 0)\n",
    "{\n",
    "_putchar('(');\n",
    "_putchar('n');\n",
    "_putchar('i');\n",
    "_putchar('l');\n",
    "_putchar(')');\n",
    "return (5);\n",
    "}\n",
    "\n",
    "while (addr != 0)\n",
    "{\n",
    "buffer[i++] = (addr % 16) + (addr % 16 < 10 ? '0' : 'a' - 10);\n",
    "addr /= 16;\n",
    "}\n",
    "\n",
    "_putchar('0');\n",
    "_putchar('x');\n",
    "len += 2;\n",
    "\n",
    "while (i--)\n",
    "_putchar(buffer[i]);\n",
    "\n",
    "return (len + i);\n",
    "}"
   ]
  },
  {
   "cell_type": "markdown",
   "metadata": {},
   "source": [
    "#### Update print_string.c"
   ]
  },
  {
   "cell_type": "code",
   "execution_count": 415,
   "metadata": {},
   "outputs": [
    {
     "name": "stdout",
     "output_type": "stream",
     "text": [
      "Overwriting /home/elkomy/alx/printf/_putchar.c\n"
     ]
    }
   ],
   "source": [
    "%%file /home/elkomy/alx/printf/_putchar.c\n",
    "#include <unistd.h>\n",
    "\n",
    "/**\n",
    "* _putchar - writes a character to stdout\n",
    "* @c: character to write\n",
    "*\n",
    "* Return: On success 1.\n",
    "* On error, -1 is returned, and errno is set appropriately.\n",
    "*/\n",
    "\n",
    "int _putchar(char c)\n",
    "{\n",
    "return (write(1, &c, 1));\n",
    "}\n"
   ]
  },
  {
   "cell_type": "markdown",
   "metadata": {},
   "source": [
    "#### Step[-2] - Update main.h"
   ]
  },
  {
   "cell_type": "code",
   "execution_count": null,
   "metadata": {},
   "outputs": [
    {
     "name": "stdout",
     "output_type": "stream",
     "text": [
      "Overwriting /home/elkomy/alx/printf/main.h\n"
     ]
    }
   ],
   "source": [
    "%%file /home/elkomy/alx/printf/main.h\n",
    "#ifndef MAIN_H\n",
    "#define MAIN_H\n",
    "\n",
    "#include <stdio.h>\n",
    "#include <unistd.h>\n",
    "#include <stdlib.h>\n",
    "#include <stdarg.h>\n",
    "#include <limits.h>\n",
    "\n",
    "/**\n",
    "* struct convert - defines a structure for symbols and functions\n",
    "* @sym: The operator\n",
    "* @f: The function associated\n",
    "*/\n",
    "\n",
    "struct convert\n",
    "{\n",
    "char *sym;\n",
    "int (*f)(va_list);\n",
    "};\n",
    "typedef struct convert conver_t;\n",
    "\n",
    "int _printf(const char *format, ...);\n",
    "int _putchar(char c);\n",
    "int format_reciever(const char *format, conver_t f_list[], va_list arg_list);\n",
    "int print_percent(va_list);\n",
    "int print_char(va_list);\n",
    "int print_string(va_list);\n",
    "int print_int(va_list);\n",
    "int print_unsigned(va_list);\n",
    "int print_octal(va_list);\n",
    "int print_hex(va_list);\n",
    "int print_HEX(va_list);\n",
    "int print_pointer(va_list);\n",
    "\n",
    "#endif /* MAIN_H */\n",
    "\n"
   ]
  },
  {
   "cell_type": "markdown",
   "metadata": {},
   "source": [
    "#### Betty Tests"
   ]
  },
  {
   "cell_type": "code",
   "execution_count": 418,
   "metadata": {},
   "outputs": [
    {
     "name": "stdout",
     "output_type": "stream",
     "text": [
      "_printf\n",
      "_putchar\n",
      "format_reciever\n",
      "print_HEX\n",
      "print_char\n",
      "print_hex\n",
      "print_int\n",
      "print_int\n",
      "print_octal\n",
      "print_percent\n",
      "print_pointer\n",
      "print_string\n",
      "print_unsigned\n",
      "main\n",
      "struct convert\n"
     ]
    }
   ],
   "source": [
    "%%bash\n",
    "betty-style /home/elkomy/alx/printf/*.c /home/elkomy/alx/printf/tests/*.c /home/elkomy/alx/printf/*.h\n",
    "betty-doc /home/elkomy/alx/printf/*.c /home/elkomy/alx/printf/tests/*.c /home/elkomy/alx/printf/*.h\n"
   ]
  },
  {
   "cell_type": "markdown",
   "metadata": {},
   "source": [
    "#### Compile"
   ]
  },
  {
   "cell_type": "code",
   "execution_count": 419,
   "metadata": {},
   "outputs": [
    {
     "name": "stdout",
     "output_type": "stream",
     "text": [
      "\n",
      "========== /home/elkomy/alx/printf/_printf.c ==========\n",
      "_printf\n"
     ]
    },
    {
     "name": "stderr",
     "output_type": "stream",
     "text": [
      "/usr/bin/ld: /tmp/ccsn58ii.o: in function `print_int':\n",
      "print_integer.c:(.text+0x0): multiple definition of `print_int'; /tmp/ccdTwOMj.o:print_int.c:(.text+0x0): first defined here\n",
      "collect2: error: ld returned 1 exit status\n",
      "bash: line 3: ./printf: No such file or directory\n"
     ]
    },
    {
     "ename": "CalledProcessError",
     "evalue": "Command 'b'betty /home/elkomy/alx/printf/_printf.c\\ngcc -Wall -Werror -Wextra -pedantic -std=gnu89 -Wno-format /home/elkomy/alx/printf/*.c /home/elkomy/alx/printf/tests/main.c -o /home/elkomy/alx/printf/printf\\n./printf\\n\\n'' returned non-zero exit status 127.",
     "output_type": "error",
     "traceback": [
      "\u001b[0;31m---------------------------------------------------------------------------\u001b[0m",
      "\u001b[0;31mCalledProcessError\u001b[0m                        Traceback (most recent call last)",
      "Cell \u001b[0;32mIn[419], line 1\u001b[0m\n\u001b[0;32m----> 1\u001b[0m \u001b[43mget_ipython\u001b[49m\u001b[43m(\u001b[49m\u001b[43m)\u001b[49m\u001b[38;5;241;43m.\u001b[39;49m\u001b[43mrun_cell_magic\u001b[49m\u001b[43m(\u001b[49m\u001b[38;5;124;43m'\u001b[39;49m\u001b[38;5;124;43mbash\u001b[39;49m\u001b[38;5;124;43m'\u001b[39;49m\u001b[43m,\u001b[49m\u001b[43m \u001b[49m\u001b[38;5;124;43m'\u001b[39;49m\u001b[38;5;124;43m'\u001b[39;49m\u001b[43m,\u001b[49m\u001b[43m \u001b[49m\u001b[38;5;124;43m'\u001b[39;49m\u001b[38;5;124;43mbetty /home/elkomy/alx/printf/_printf.c\u001b[39;49m\u001b[38;5;130;43;01m\\n\u001b[39;49;00m\u001b[38;5;124;43mgcc -Wall -Werror -Wextra -pedantic -std=gnu89 -Wno-format /home/elkomy/alx/printf/*.c /home/elkomy/alx/printf/tests/main.c -o /home/elkomy/alx/printf/printf\u001b[39;49m\u001b[38;5;130;43;01m\\n\u001b[39;49;00m\u001b[38;5;124;43m./printf\u001b[39;49m\u001b[38;5;130;43;01m\\n\u001b[39;49;00m\u001b[38;5;130;43;01m\\n\u001b[39;49;00m\u001b[38;5;124;43m'\u001b[39;49m\u001b[43m)\u001b[49m\n",
      "File \u001b[0;32m~/anaconda3/envs/alxse/lib/python3.12/site-packages/IPython/core/interactiveshell.py:2541\u001b[0m, in \u001b[0;36mInteractiveShell.run_cell_magic\u001b[0;34m(self, magic_name, line, cell)\u001b[0m\n\u001b[1;32m   2539\u001b[0m \u001b[38;5;28;01mwith\u001b[39;00m \u001b[38;5;28mself\u001b[39m\u001b[38;5;241m.\u001b[39mbuiltin_trap:\n\u001b[1;32m   2540\u001b[0m     args \u001b[38;5;241m=\u001b[39m (magic_arg_s, cell)\n\u001b[0;32m-> 2541\u001b[0m     result \u001b[38;5;241m=\u001b[39m \u001b[43mfn\u001b[49m\u001b[43m(\u001b[49m\u001b[38;5;241;43m*\u001b[39;49m\u001b[43margs\u001b[49m\u001b[43m,\u001b[49m\u001b[43m \u001b[49m\u001b[38;5;241;43m*\u001b[39;49m\u001b[38;5;241;43m*\u001b[39;49m\u001b[43mkwargs\u001b[49m\u001b[43m)\u001b[49m\n\u001b[1;32m   2543\u001b[0m \u001b[38;5;66;03m# The code below prevents the output from being displayed\u001b[39;00m\n\u001b[1;32m   2544\u001b[0m \u001b[38;5;66;03m# when using magics with decorator @output_can_be_silenced\u001b[39;00m\n\u001b[1;32m   2545\u001b[0m \u001b[38;5;66;03m# when the last Python token in the expression is a ';'.\u001b[39;00m\n\u001b[1;32m   2546\u001b[0m \u001b[38;5;28;01mif\u001b[39;00m \u001b[38;5;28mgetattr\u001b[39m(fn, magic\u001b[38;5;241m.\u001b[39mMAGIC_OUTPUT_CAN_BE_SILENCED, \u001b[38;5;28;01mFalse\u001b[39;00m):\n",
      "File \u001b[0;32m~/anaconda3/envs/alxse/lib/python3.12/site-packages/IPython/core/magics/script.py:155\u001b[0m, in \u001b[0;36mScriptMagics._make_script_magic.<locals>.named_script_magic\u001b[0;34m(line, cell)\u001b[0m\n\u001b[1;32m    153\u001b[0m \u001b[38;5;28;01melse\u001b[39;00m:\n\u001b[1;32m    154\u001b[0m     line \u001b[38;5;241m=\u001b[39m script\n\u001b[0;32m--> 155\u001b[0m \u001b[38;5;28;01mreturn\u001b[39;00m \u001b[38;5;28;43mself\u001b[39;49m\u001b[38;5;241;43m.\u001b[39;49m\u001b[43mshebang\u001b[49m\u001b[43m(\u001b[49m\u001b[43mline\u001b[49m\u001b[43m,\u001b[49m\u001b[43m \u001b[49m\u001b[43mcell\u001b[49m\u001b[43m)\u001b[49m\n",
      "File \u001b[0;32m~/anaconda3/envs/alxse/lib/python3.12/site-packages/IPython/core/magics/script.py:315\u001b[0m, in \u001b[0;36mScriptMagics.shebang\u001b[0;34m(self, line, cell)\u001b[0m\n\u001b[1;32m    310\u001b[0m \u001b[38;5;28;01mif\u001b[39;00m args\u001b[38;5;241m.\u001b[39mraise_error \u001b[38;5;129;01mand\u001b[39;00m p\u001b[38;5;241m.\u001b[39mreturncode \u001b[38;5;241m!=\u001b[39m \u001b[38;5;241m0\u001b[39m:\n\u001b[1;32m    311\u001b[0m     \u001b[38;5;66;03m# If we get here and p.returncode is still None, we must have\u001b[39;00m\n\u001b[1;32m    312\u001b[0m     \u001b[38;5;66;03m# killed it but not yet seen its return code. We don't wait for it,\u001b[39;00m\n\u001b[1;32m    313\u001b[0m     \u001b[38;5;66;03m# in case it's stuck in uninterruptible sleep. -9 = SIGKILL\u001b[39;00m\n\u001b[1;32m    314\u001b[0m     rc \u001b[38;5;241m=\u001b[39m p\u001b[38;5;241m.\u001b[39mreturncode \u001b[38;5;129;01mor\u001b[39;00m \u001b[38;5;241m-\u001b[39m\u001b[38;5;241m9\u001b[39m\n\u001b[0;32m--> 315\u001b[0m     \u001b[38;5;28;01mraise\u001b[39;00m CalledProcessError(rc, cell)\n",
      "\u001b[0;31mCalledProcessError\u001b[0m: Command 'b'betty /home/elkomy/alx/printf/_printf.c\\ngcc -Wall -Werror -Wextra -pedantic -std=gnu89 -Wno-format /home/elkomy/alx/printf/*.c /home/elkomy/alx/printf/tests/main.c -o /home/elkomy/alx/printf/printf\\n./printf\\n\\n'' returned non-zero exit status 127."
     ]
    }
   ],
   "source": [
    "\n",
    "%%bash\n",
    "betty /home/elkomy/alx/printf/_printf.c\n",
    "gcc -Wall -Werror -Wextra -pedantic -std=gnu89 -Wno-format /home/elkomy/alx/printf/*.c /home/elkomy/alx/printf/tests/main.c -o /home/elkomy/alx/printf/printf\n",
    "./printf\n",
    "\n"
   ]
  },
  {
   "cell_type": "markdown",
   "metadata": {},
   "source": [
    "#### Compile (Makefile)"
   ]
  },
  {
   "cell_type": "code",
   "execution_count": null,
   "metadata": {},
   "outputs": [
    {
     "name": "stdout",
     "output_type": "stream",
     "text": [
      "Overwriting /home/elkomy/alx/printf/Makefile\n"
     ]
    }
   ],
   "source": [
    "%%file /home/elkomy/alx/printf/Makefile\n",
    "\n",
    "CC = gcc\n",
    "CFLAGS = -Wall -Werror -Wextra -pedantic -std=gnu89\n",
    "SRC = _printf.c print_percent.c print_char.c print_string.c print_integer.c print_binary.c _putchar.c format_reciever.c _puts.c\n",
    "OBJ = $(SRC:.c=.o)\n",
    "TARGET = printf\n",
    "\n",
    "all: $(TARGET)\n",
    "\n",
    "$(TARGET): $(OBJ)\n",
    "\t$(CC) $(CFLAGS) -o $(TARGET) $(OBJ)\n",
    "\n",
    "clean:\n",
    "\trm -f $(OBJ) $(TARGET)\n"
   ]
  },
  {
   "cell_type": "code",
   "execution_count": null,
   "metadata": {},
   "outputs": [
    {
     "name": "stdout",
     "output_type": "stream",
     "text": [
      "rm -f _printf.o print_percent.o print_char.o print_string.o print_integer.o print_binary.o _putchar.o format_reciever.o _puts.o printf\n",
      "gcc -Wall -Werror -Wextra -pedantic -std=gnu89   -c -o _printf.o _printf.c\n",
      "gcc -Wall -Werror -Wextra -pedantic -std=gnu89   -c -o print_percent.o print_percent.c\n",
      "gcc -Wall -Werror -Wextra -pedantic -std=gnu89   -c -o print_char.o print_char.c\n",
      "gcc -Wall -Werror -Wextra -pedantic -std=gnu89   -c -o print_string.o print_string.c\n"
     ]
    },
    {
     "name": "stderr",
     "output_type": "stream",
     "text": [
      "make: *** No rule to make target 'print_integer.o', needed by 'printf'.  Stop.\n"
     ]
    },
    {
     "ename": "CalledProcessError",
     "evalue": "Command 'b'make clean\\nmake\\n'' returned non-zero exit status 2.",
     "output_type": "error",
     "traceback": [
      "\u001b[0;31m---------------------------------------------------------------------------\u001b[0m\n",
      "\u001b[0;31mCalledProcessError\u001b[0m                        Traceback (most recent call last)\n",
      "Cell \u001b[0;32mIn[323], line 1\u001b[0m\n",
      "\u001b[0;32m----> 1\u001b[0m \u001b[43mget_ipython\u001b[49m\u001b[43m(\u001b[49m\u001b[43m)\u001b[49m\u001b[38;5;241;43m.\u001b[39;49m\u001b[43mrun_cell_magic\u001b[49m\u001b[43m(\u001b[49m\u001b[38;5;124;43m'\u001b[39;49m\u001b[38;5;124;43mbash\u001b[39;49m\u001b[38;5;124;43m'\u001b[39;49m\u001b[43m,\u001b[49m\u001b[43m \u001b[49m\u001b[38;5;124;43m'\u001b[39;49m\u001b[38;5;124;43m'\u001b[39;49m\u001b[43m,\u001b[49m\u001b[43m \u001b[49m\u001b[38;5;124;43m'\u001b[39;49m\u001b[38;5;124;43mmake clean\u001b[39;49m\u001b[38;5;130;43;01m\\n\u001b[39;49;00m\u001b[38;5;124;43mmake\u001b[39;49m\u001b[38;5;130;43;01m\\n\u001b[39;49;00m\u001b[38;5;124;43m'\u001b[39;49m\u001b[43m)\u001b[49m\n",
      "\n",
      "File \u001b[0;32m~/anaconda3/envs/alxse/lib/python3.12/site-packages/IPython/core/interactiveshell.py:2541\u001b[0m, in \u001b[0;36mInteractiveShell.run_cell_magic\u001b[0;34m(self, magic_name, line, cell)\u001b[0m\n",
      "\u001b[1;32m   2539\u001b[0m \u001b[38;5;28;01mwith\u001b[39;00m \u001b[38;5;28mself\u001b[39m\u001b[38;5;241m.\u001b[39mbuiltin_trap:\n",
      "\u001b[1;32m   2540\u001b[0m     args \u001b[38;5;241m=\u001b[39m (magic_arg_s, cell)\n",
      "\u001b[0;32m-> 2541\u001b[0m     result \u001b[38;5;241m=\u001b[39m \u001b[43mfn\u001b[49m\u001b[43m(\u001b[49m\u001b[38;5;241;43m*\u001b[39;49m\u001b[43margs\u001b[49m\u001b[43m,\u001b[49m\u001b[43m \u001b[49m\u001b[38;5;241;43m*\u001b[39;49m\u001b[38;5;241;43m*\u001b[39;49m\u001b[43mkwargs\u001b[49m\u001b[43m)\u001b[49m\n",
      "\u001b[1;32m   2543\u001b[0m \u001b[38;5;66;03m# The code below prevents the output from being displayed\u001b[39;00m\n",
      "\u001b[1;32m   2544\u001b[0m \u001b[38;5;66;03m# when using magics with decorator @output_can_be_silenced\u001b[39;00m\n",
      "\u001b[1;32m   2545\u001b[0m \u001b[38;5;66;03m# when the last Python token in the expression is a ';'.\u001b[39;00m\n",
      "\u001b[1;32m   2546\u001b[0m \u001b[38;5;28;01mif\u001b[39;00m \u001b[38;5;28mgetattr\u001b[39m(fn, magic\u001b[38;5;241m.\u001b[39mMAGIC_OUTPUT_CAN_BE_SILENCED, \u001b[38;5;28;01mFalse\u001b[39;00m):\n",
      "\n",
      "File \u001b[0;32m~/anaconda3/envs/alxse/lib/python3.12/site-packages/IPython/core/magics/script.py:155\u001b[0m, in \u001b[0;36mScriptMagics._make_script_magic.<locals>.named_script_magic\u001b[0;34m(line, cell)\u001b[0m\n",
      "\u001b[1;32m    153\u001b[0m \u001b[38;5;28;01melse\u001b[39;00m:\n",
      "\u001b[1;32m    154\u001b[0m     line \u001b[38;5;241m=\u001b[39m script\n",
      "\u001b[0;32m--> 155\u001b[0m \u001b[38;5;28;01mreturn\u001b[39;00m \u001b[38;5;28;43mself\u001b[39;49m\u001b[38;5;241;43m.\u001b[39;49m\u001b[43mshebang\u001b[49m\u001b[43m(\u001b[49m\u001b[43mline\u001b[49m\u001b[43m,\u001b[49m\u001b[43m \u001b[49m\u001b[43mcell\u001b[49m\u001b[43m)\u001b[49m\n",
      "\n",
      "File \u001b[0;32m~/anaconda3/envs/alxse/lib/python3.12/site-packages/IPython/core/magics/script.py:315\u001b[0m, in \u001b[0;36mScriptMagics.shebang\u001b[0;34m(self, line, cell)\u001b[0m\n",
      "\u001b[1;32m    310\u001b[0m \u001b[38;5;28;01mif\u001b[39;00m args\u001b[38;5;241m.\u001b[39mraise_error \u001b[38;5;129;01mand\u001b[39;00m p\u001b[38;5;241m.\u001b[39mreturncode \u001b[38;5;241m!=\u001b[39m \u001b[38;5;241m0\u001b[39m:\n",
      "\u001b[1;32m    311\u001b[0m     \u001b[38;5;66;03m# If we get here and p.returncode is still None, we must have\u001b[39;00m\n",
      "\u001b[1;32m    312\u001b[0m     \u001b[38;5;66;03m# killed it but not yet seen its return code. We don't wait for it,\u001b[39;00m\n",
      "\u001b[1;32m    313\u001b[0m     \u001b[38;5;66;03m# in case it's stuck in uninterruptible sleep. -9 = SIGKILL\u001b[39;00m\n",
      "\u001b[1;32m    314\u001b[0m     rc \u001b[38;5;241m=\u001b[39m p\u001b[38;5;241m.\u001b[39mreturncode \u001b[38;5;129;01mor\u001b[39;00m \u001b[38;5;241m-\u001b[39m\u001b[38;5;241m9\u001b[39m\n",
      "\u001b[0;32m--> 315\u001b[0m     \u001b[38;5;28;01mraise\u001b[39;00m CalledProcessError(rc, cell)\n",
      "\n",
      "\u001b[0;31mCalledProcessError\u001b[0m: Command 'b'make clean\\nmake\\n'' returned non-zero exit status 2."
     ]
    }
   ],
   "source": [
    "%%bash\n",
    "make clean\n",
    "make"
   ]
  },
  {
   "cell_type": "markdown",
   "metadata": {},
   "source": [
    "#### Push to github"
   ]
  },
  {
   "cell_type": "code",
   "execution_count": null,
   "metadata": {},
   "outputs": [
    {
     "name": "stdout",
     "output_type": "stream",
     "text": [
      "[main be0e548] alx-low_level_programming/0x0D-preprocessor/0-putchar\n",
      " 22 files changed, 186 insertions(+), 270 deletions(-)\n",
      " create mode 100644 Makefile\n",
      " create mode 100644 _printf.o\n",
      " delete mode 100644 handle_percent.c\n",
      " rewrite main.h (70%)\n",
      " delete mode 100644 print_binary.c\n",
      " create mode 100644 print_char.o\n",
      " create mode 100644 print_percent.o\n",
      " create mode 100644 print_string.o\n",
      " delete mode 100755 printf\n",
      " rewrite tests/main.c (91%)\n"
     ]
    },
    {
     "name": "stderr",
     "output_type": "stream",
     "text": [
      "To https://github.com/elkomysara/printf\n",
      "   655a149..be0e548  main -> main\n"
     ]
    }
   ],
   "source": [
    "%%bash\n",
    "git add .\n",
    "git commit -m \"alx-low_level_programming/0x0D-preprocessor/0-putchar\"\n",
    "git push"
   ]
  },
  {
   "cell_type": "markdown",
   "metadata": {},
   "source": [
    "###\n",
    "---\n",
    "<center>\n",
    "<h4>1. Education is when you read the fine print. Experience is what you get if you don't</h4>\n",
    "</center>\n",
    "\n",
    "---"
   ]
  },
  {
   "cell_type": "markdown",
   "metadata": {},
   "source": [
    "\n",
    "#### Handle the following conversion specifiers:\n",
    "\n",
    "* `d`\n",
    "* `i`\n",
    "* You don’t have to handle the flag characters\n",
    "* You don’t have to handle field width\n",
    "* You don’t have to handle precision\n",
    "* You don’t have to handle the length modifiers\n",
    "#### Repo:\n",
    "* GitHub repository: ``` printf```"
   ]
  },
  {
   "cell_type": "markdown",
   "metadata": {},
   "source": [
    "#### Erease all files and start all over"
   ]
  },
  {
   "cell_type": "code",
   "execution_count": 31,
   "metadata": {},
   "outputs": [],
   "source": [
    "%%bash\n",
    "rm -f /home/elkomy/alx/printf/*.o\n",
    "rm -f /home/elkomy/alx/printf/*.c\n",
    "rm -f /home/elkomy/alx/printf/*.h\n",
    "rm -f /home/elkomy/alx/printf/printf\n",
    "rm -f /home/elkomy/alx/printf/Makefile"
   ]
  },
  {
   "cell_type": "markdown",
   "metadata": {},
   "source": [
    "#### Update _putchar.c"
   ]
  },
  {
   "cell_type": "code",
   "execution_count": 35,
   "metadata": {},
   "outputs": [
    {
     "name": "stdout",
     "output_type": "stream",
     "text": [
      "Writing /home/elkomy/alx/printf/_putchar.c\n"
     ]
    }
   ],
   "source": [
    "%%file /home/elkomy/alx/printf/_putchar.c\n",
    "#include <unistd.h>\n",
    "\n",
    "/**\n",
    "* _putchar - writes a character to stdout\n",
    "* @c: character to write\n",
    "*\n",
    "* Return: On success 1.\n",
    "* On error, -1 is returned, and errno is set appropriately.\n",
    "*/\n",
    "\n",
    "int _putchar(char c)\n",
    "{\n",
    "return (write(1, &c, 1));\n",
    "}\n"
   ]
  },
  {
   "cell_type": "markdown",
   "metadata": {},
   "source": [
    "#### Update _printf.c"
   ]
  },
  {
   "cell_type": "code",
   "execution_count": 36,
   "metadata": {},
   "outputs": [
    {
     "name": "stdout",
     "output_type": "stream",
     "text": [
      "Writing /home/elkomy/alx/printf/_printf.c\n"
     ]
    }
   ],
   "source": [
    "%%file /home/elkomy/alx/printf/_printf.c\n",
    "#include \"main.h\"\n",
    "\n",
    "/**\n",
    "* _printf - Receives the main string and all the necessary parameters to\n",
    "* print a formatted string\n",
    "* @format: A string containing all the desired characters\n",
    "* Return: A total count of the characters printed\n",
    "*/\n",
    "int _printf(const char *format, ...)\n",
    "{\n",
    "int printed_chars;\n",
    "conver_t f_list[] = {\n",
    "{\"%\", print_percent},\n",
    "{\"c\", print_char},\n",
    "{\"s\", print_string},\n",
    "{\"d\", print_int},\n",
    "{\"i\", print_int},\n",
    "{NULL, NULL},\n",
    "};\n",
    "va_list arg_list;\n",
    "\n",
    "if (format == NULL)\n",
    "return (-1);\n",
    "\n",
    "va_start(arg_list, format);\n",
    "printed_chars = format_reciever(format, f_list, arg_list);\n",
    "va_end(arg_list);\n",
    "\n",
    "return (printed_chars);\n",
    "}\n"
   ]
  },
  {
   "cell_type": "markdown",
   "metadata": {},
   "source": [
    "#### Update main.h"
   ]
  },
  {
   "cell_type": "code",
   "execution_count": 37,
   "metadata": {},
   "outputs": [
    {
     "name": "stdout",
     "output_type": "stream",
     "text": [
      "Overwriting /home/elkomy/alx/printf/main.h\n"
     ]
    }
   ],
   "source": [
    "%%file /home/elkomy/alx/printf/main.h\n",
    "#ifndef MAIN_H\n",
    "#define MAIN_H\n",
    "\n",
    "#include <stdio.h>\n",
    "#include <unistd.h>\n",
    "#include <stdlib.h>\n",
    "#include <stdarg.h>\n",
    "#include <limits.h>\n",
    "\n",
    "/**\n",
    "* struct convert - defines a structure for symbols and functions\n",
    "* @sym: The operator\n",
    "* @f: The function associated\n",
    "*/\n",
    "struct convert\n",
    "{\n",
    "char *sym;\n",
    "int (*f)(va_list);\n",
    "};\n",
    "typedef struct convert conver_t;\n",
    "\n",
    "int _printf(const char *format, ...);\n",
    "int _putchar(char c);\n",
    "int format_reciever(const char *format, conver_t f_list[], va_list arg_list);\n",
    "int print_int(va_list);\n",
    "\n",
    "#endif /* MAIN_H */\n"
   ]
  },
  {
   "cell_type": "markdown",
   "metadata": {},
   "source": [
    "#### Update main.c"
   ]
  },
  {
   "cell_type": "code",
   "execution_count": 38,
   "metadata": {},
   "outputs": [
    {
     "name": "stdout",
     "output_type": "stream",
     "text": [
      "Overwriting /home/elkomy/alx/printf/tests/main.c\n"
     ]
    }
   ],
   "source": [
    "%%file /home/elkomy/alx/printf/tests/main.c\n",
    "#include \"../main.h\"\n",
    "#include <stdio.h>\n",
    "\n",
    "/**\n",
    "* main - Entry point for testing the _printf function\n",
    "*\n",
    "* Return: Always 0\n",
    "*/\n",
    "int main(void)\n",
    "{\n",
    "int len1, len2;\n",
    "int num = -12345;\n",
    "int max = INT_MAX;\n",
    "int min = INT_MIN;\n",
    "\n",
    "len1 = _printf(\"Number: %d\\n\", num);\n",
    "len2 = printf(\"Number: %d\\n\", num);\n",
    "printf(\"Returned: _printf: %d, printf: %d\\n\", len1, len2);\n",
    "\n",
    "len1 = _printf(\"Max int: %d\\n\", max);\n",
    "len2 = printf(\"Max int: %d\\n\", max);\n",
    "printf(\"Returned: _printf: %d, printf: %d\\n\", len1, len2);\n",
    "\n",
    "len1 = _printf(\"Min int: %d\\n\", min);\n",
    "len2 = printf(\"Min int: %d\\n\", min);\n",
    "printf(\"Returned: _printf: %d, printf: %d\\n\", len1, len2);\n",
    "\n",
    "return (0);\n",
    "}\n"
   ]
  },
  {
   "cell_type": "markdown",
   "metadata": {},
   "source": [
    "#### Update format_reciever.c"
   ]
  },
  {
   "cell_type": "code",
   "execution_count": 39,
   "metadata": {},
   "outputs": [
    {
     "name": "stdout",
     "output_type": "stream",
     "text": [
      "Writing /home/elkomy/alx/printf/format_reciever.c\n"
     ]
    }
   ],
   "source": [
    "%%file /home/elkomy/alx/printf/format_reciever.c\n",
    "#include \"main.h\"\n",
    "\n",
    "/**\n",
    "* format_reciever - Receives the format and\n",
    "* the argument list, then calls the appropriate function\n",
    "* @format: The format string\n",
    "* @f_list: List of conversion specifiers and associated functions\n",
    "* @arg_list: Argument list\n",
    "* Return: The number of characters printed\n",
    "*/\n",
    "int format_reciever(const char *format, conver_t f_list[], va_list arg_list)\n",
    "{\n",
    "int i, j, printed_chars = 0;\n",
    "\n",
    "for (i = 0; format[i] != '\\0'; i++)\n",
    "{\n",
    "if (format[i] == '%')\n",
    "{\n",
    "int found = 0;\n",
    "for (j = 0; f_list[j].sym != NULL; j++)\n",
    "{\n",
    "if (format[i + 1] == f_list[j].sym[0])\n",
    "{\n",
    "printed_chars += f_list[j].f(arg_list);\n",
    "i++;\n",
    "found = 1;\n",
    "break;\n",
    "}\n",
    "}\n",
    "if (!found)\n",
    "{\n",
    "if (format[i + 1] != '\\0')\n",
    "{\n",
    "_putchar(format[i]);\n",
    "_putchar(format[i + 1]);\n",
    "printed_chars += 2;\n",
    "i++;\n",
    "}\n",
    "else\n",
    "{\n",
    "return (-1);\n",
    "}\n",
    "}\n",
    "}\n",
    "else\n",
    "{\n",
    "_putchar(format[i]);\n",
    "printed_chars++;\n",
    "}\n",
    "}\n",
    "return (printed_chars);\n",
    "}\n"
   ]
  },
  {
   "cell_type": "markdown",
   "metadata": {},
   "source": [
    "#### Update print_precent.c"
   ]
  },
  {
   "cell_type": "code",
   "execution_count": 17,
   "metadata": {},
   "outputs": [
    {
     "name": "stdout",
     "output_type": "stream",
     "text": [
      "Writing /home/elkomy/alx/printf/print_percent.c\n"
     ]
    }
   ],
   "source": [
    "%%file /home/elkomy/alx/printf/print_percent.c\n",
    "#include \"main.h\"\n",
    "\n",
    "/**\n",
    "* print_percent - Prints a percent symbol\n",
    "* @list: list of arguments\n",
    "* Return: Will return the amount of characters printed.\n",
    "*/\n",
    "\n",
    "int print_percent(__attribute__((unused))va_list list)\n",
    "{\n",
    "_putchar('%');\n",
    "return (1);\n",
    "}\n",
    "\n",
    "\n"
   ]
  },
  {
   "cell_type": "markdown",
   "metadata": {},
   "source": [
    "#### Update print_int.c"
   ]
  },
  {
   "cell_type": "code",
   "execution_count": 40,
   "metadata": {},
   "outputs": [
    {
     "name": "stdout",
     "output_type": "stream",
     "text": [
      "Writing /home/elkomy/alx/printf/print_int.c\n"
     ]
    }
   ],
   "source": [
    "%%file /home/elkomy/alx/printf/print_int.c\n",
    "#include \"main.h\"\n",
    "#include <stdarg.h>\n",
    "\n",
    "/**\n",
    "* print_int - Prints an integer\n",
    "* @list: list of arguments\n",
    "* Return: Will return the number of characters printed\n",
    "*/\n",
    "int print_int(va_list list)\n",
    "{\n",
    "int num = va_arg(list, int);\n",
    "char buffer[12];\n",
    "int i = 0, len = 0, negative = 0;\n",
    "\n",
    "if (num == INT_MIN)\n",
    "{\n",
    "_putchar('-');\n",
    "_putchar('2');\n",
    "num = 147483648; /* INT_MIN = -2147483648, so we need to handle 147483648 */\n",
    "negative = 2; /*  Count '-' and '2' */\n",
    "}\n",
    "else if (num < 0)\n",
    "{\n",
    "_putchar('-');\n",
    "num = -num;\n",
    "negative = 1;\n",
    "}\n",
    "\n",
    "if (num == 0)\n",
    "{\n",
    "_putchar('0');\n",
    "return (1);\n",
    "}\n",
    "\n",
    "while (num != 0)\n",
    "{\n",
    "buffer[i++] = (num % 10) + '0';\n",
    "num /= 10;\n",
    "}\n",
    "\n",
    "while (i--)\n",
    "{\n",
    "_putchar(buffer[i]);\n",
    "len++;\n",
    "}\n",
    "\n",
    "return (len + negative);\n",
    "}\n"
   ]
  },
  {
   "cell_type": "markdown",
   "metadata": {},
   "source": [
    "#### Update print_char.c"
   ]
  },
  {
   "cell_type": "code",
   "execution_count": 18,
   "metadata": {},
   "outputs": [
    {
     "name": "stdout",
     "output_type": "stream",
     "text": [
      "Writing /home/elkomy/alx/printf/print_char.c\n"
     ]
    }
   ],
   "source": [
    "%%file /home/elkomy/alx/printf/print_char.c\n",
    "#include \"main.h\"\n",
    "\n",
    "/**\n",
    "* print_char - Prints character\n",
    "* @list: list of arguments\n",
    "* Return: Will return the amount of characters printed.\n",
    "*/\n",
    "\n",
    "int print_char(va_list list)\n",
    "{\n",
    "_putchar(va_arg(list, int));\n",
    "return (1);\n",
    "}\n"
   ]
  },
  {
   "cell_type": "markdown",
   "metadata": {},
   "source": [
    "#### Update print_string.c"
   ]
  },
  {
   "cell_type": "code",
   "execution_count": 19,
   "metadata": {},
   "outputs": [
    {
     "name": "stdout",
     "output_type": "stream",
     "text": [
      "Writing /home/elkomy/alx/printf/print_string.c\n"
     ]
    }
   ],
   "source": [
    "%%file /home/elkomy/alx/printf/print_string.c\n",
    "#include \"main.h\"\n",
    "\n",
    "/**\n",
    "* print_string - Prints a string\n",
    "* @list: list of arguments\n",
    "* Return: Will return the amount of characters printed.\n",
    "*/\n",
    "\n",
    "\n",
    "int print_string(va_list list)\n",
    "{\n",
    "int i;\n",
    "char *str;\n",
    "\n",
    "str = va_arg(list, char *);\n",
    "if (str == NULL)\n",
    "str = \"(null)\";\n",
    "for (i = 0; str[i] != '\\0'; i++)\n",
    "_putchar(str[i]);\n",
    "return (i);\n",
    "}\n"
   ]
  },
  {
   "cell_type": "markdown",
   "metadata": {},
   "source": [
    "#### Update print_unsigned.c"
   ]
  },
  {
   "cell_type": "code",
   "execution_count": 21,
   "metadata": {},
   "outputs": [
    {
     "name": "stdout",
     "output_type": "stream",
     "text": [
      "Writing /home/elkomy/alx/printf/print_unsigned.c\n"
     ]
    }
   ],
   "source": [
    "%%file /home/elkomy/alx/printf/print_unsigned.c\n",
    "\n",
    "#include \"main.h\"\n",
    "#include <stdarg.h>\n",
    "/**\n",
    "* print_unsigned - Prints an unsigned integer\n",
    "* @list: list of arguments\n",
    "* Return: Will return the number of characters printed\n",
    "*/\n",
    "\n",
    "int print_unsigned(va_list list)\n",
    "{\n",
    "unsigned int num = va_arg(list, unsigned int);\n",
    "char buffer[12];\n",
    "int i = 0, len = 0;\n",
    "\n",
    "if (num == 0)\n",
    "{\n",
    "_putchar('0');\n",
    "return (1);\n",
    "}\n",
    "\n",
    "while (num != 0)\n",
    "{\n",
    "buffer[i++] = (num % 10) + '0';\n",
    "num /= 10;\n",
    "}\n",
    "\n",
    "while (i--)\n",
    "_putchar(buffer[i]);\n",
    "\n",
    "return (len + i);\n",
    "}\n"
   ]
  },
  {
   "cell_type": "markdown",
   "metadata": {},
   "source": [
    "#### Update print_octal.c"
   ]
  },
  {
   "cell_type": "code",
   "execution_count": 22,
   "metadata": {},
   "outputs": [
    {
     "name": "stdout",
     "output_type": "stream",
     "text": [
      "Writing /home/elkomy/alx/printf/print_octal.c\n"
     ]
    }
   ],
   "source": [
    "%%file /home/elkomy/alx/printf/print_octal.c\n",
    "\n",
    "#include \"main.h\"\n",
    "\n",
    "/**\n",
    "* print_octal - Prints an unsigned integer in octal notation\n",
    "* @list: list of arguments\n",
    "* Return: Will return the number of characters printed\n",
    "*/\n",
    "\n",
    "int print_octal(va_list list)\n",
    "{\n",
    "unsigned int num = va_arg(list, unsigned int);\n",
    "char buffer[12];\n",
    "int i = 0, len = 0;\n",
    "\n",
    "if (num == 0)\n",
    "{\n",
    "_putchar('0');\n",
    "return (1);\n",
    "}\n",
    "\n",
    "while (num != 0)\n",
    "{\n",
    "buffer[i++] = (num % 8) + '0';\n",
    "num /= 8;\n",
    "}\n",
    "\n",
    "while (i--)\n",
    "_putchar(buffer[i]);\n",
    "\n",
    "return (len + i);\n",
    "}\n"
   ]
  },
  {
   "cell_type": "markdown",
   "metadata": {},
   "source": [
    "#### Update print_hex.c"
   ]
  },
  {
   "cell_type": "code",
   "execution_count": 23,
   "metadata": {},
   "outputs": [
    {
     "name": "stdout",
     "output_type": "stream",
     "text": [
      "Writing /home/elkomy/alx/printf/print_hex.c\n"
     ]
    }
   ],
   "source": [
    "%%file /home/elkomy/alx/printf/print_hex.c\n",
    "\n",
    "#include \"main.h\"\n",
    "#include <stdarg.h>\n",
    "\n",
    "/**\n",
    "* print_hex - Prints an unsigned integer in hexadecimal notation (lowercase)\n",
    "* @list: list of arguments\n",
    "* Return: Will return the number of characters printed\n",
    "*/\n",
    "int print_hex(va_list list)\n",
    "{\n",
    "unsigned int num = va_arg(list, unsigned int);\n",
    "char buffer[12];\n",
    "int i = 0, len = 0;\n",
    "\n",
    "if (num == 0)\n",
    "{\n",
    "_putchar('0');\n",
    "return (1);\n",
    "}\n",
    "\n",
    "while (num != 0)\n",
    "{\n",
    "buffer[i++] = (num % 16) + (num % 16 < 10 ? '0' : 'a' - 10);\n",
    "num /= 16;\n",
    "}\n",
    "\n",
    "while (i--)\n",
    "_putchar(buffer[i]);\n",
    "\n",
    "return (len + i);\n",
    "}"
   ]
  },
  {
   "cell_type": "markdown",
   "metadata": {},
   "source": [
    "#### Update print_HEX.c"
   ]
  },
  {
   "cell_type": "code",
   "execution_count": 24,
   "metadata": {},
   "outputs": [
    {
     "name": "stdout",
     "output_type": "stream",
     "text": [
      "Writing /home/elkomy/alx/printf/print_HEX.c\n"
     ]
    }
   ],
   "source": [
    "%%file /home/elkomy/alx/printf/print_HEX.c\n",
    "\n",
    "#include \"main.h\"\n",
    "#include <stdarg.h>\n",
    "\n",
    "/**\n",
    "* print_HEX - Prints an unsigned integer in hexadecimal notation (uppercase)\n",
    "* @list: list of arguments\n",
    "* Return: Will return the number of characters printed\n",
    "*/\n",
    "int print_HEX(va_list list)\n",
    "{\n",
    "unsigned int num = va_arg(list, unsigned int);\n",
    "char buffer[12];\n",
    "int i = 0, len = 0;\n",
    "\n",
    "if (num == 0)\n",
    "{\n",
    "_putchar('0');\n",
    "return (1);\n",
    "}\n",
    "\n",
    "while (num != 0)\n",
    "{\n",
    "buffer[i++] = (num % 16) + (num % 16 < 10 ? '0' : 'A' - 10);\n",
    "num /= 16;\n",
    "}\n",
    "\n",
    "while (i--)\n",
    "_putchar(buffer[i]);\n",
    "\n",
    "return (len + i);\n",
    "}\n"
   ]
  },
  {
   "cell_type": "markdown",
   "metadata": {},
   "source": [
    "#### Update print_pointer.c"
   ]
  },
  {
   "cell_type": "code",
   "execution_count": 25,
   "metadata": {},
   "outputs": [
    {
     "name": "stdout",
     "output_type": "stream",
     "text": [
      "Writing /home/elkomy/alx/printf/print_pointer.c\n"
     ]
    }
   ],
   "source": [
    "%%file /home/elkomy/alx/printf/print_pointer.c\n",
    "\n",
    "#include \"main.h\"\n",
    "#include <stdarg.h>\n",
    "\n",
    "/**\n",
    "* print_pointer - Prints a pointer address\n",
    "* @list: list of arguments\n",
    "* Return: Will return the number of characters printed\n",
    "*/\n",
    "int print_pointer(va_list list)\n",
    "{\n",
    "unsigned long int addr = (unsigned long int)va_arg(list, void *);\n",
    "char buffer[17];\n",
    "int i = 0, len = 0;\n",
    "\n",
    "if (addr == 0)\n",
    "{\n",
    "_putchar('(');\n",
    "_putchar('n');\n",
    "_putchar('i');\n",
    "_putchar('l');\n",
    "_putchar(')');\n",
    "return (5);\n",
    "}\n",
    "\n",
    "while (addr != 0)\n",
    "{\n",
    "buffer[i++] = (addr % 16) + (addr % 16 < 10 ? '0' : 'a' - 10);\n",
    "addr /= 16;\n",
    "}\n",
    "\n",
    "_putchar('0');\n",
    "_putchar('x');\n",
    "len += 2;\n",
    "\n",
    "while (i--)\n",
    "_putchar(buffer[i]);\n",
    "\n",
    "return (len + i);\n",
    "}"
   ]
  },
  {
   "cell_type": "markdown",
   "metadata": {},
   "source": [
    "#### Update print_string.c"
   ]
  },
  {
   "cell_type": "code",
   "execution_count": 28,
   "metadata": {},
   "outputs": [
    {
     "name": "stdout",
     "output_type": "stream",
     "text": [
      "Overwriting /home/elkomy/alx/printf/print_string.c\n"
     ]
    }
   ],
   "source": [
    "%%file /home/elkomy/alx/printf/print_string.c\n",
    "#include \"main.h\"\n",
    "\n",
    "/**\n",
    "* print_string - Prints a string\n",
    "* @list: list of arguments\n",
    "* @buffer: buffer to store the output\n",
    "* @index: index in the buffer\n",
    "* Return: Will return the amount of characters printed.\n",
    "*/\n",
    "int print_string(va_list list, char *buffer, int *index)\n",
    "{\n",
    "int i;\n",
    "char *str;\n",
    "\n",
    "(void)buffer; /* Avoid unused parameter warning */\n",
    "(void)index;  /* Avoid unused parameter warning */\n",
    "\n",
    "str = va_arg(list, char *);\n",
    "if (str == NULL)\n",
    "{\n",
    "str = \"(null)\";\n",
    "}\n",
    "for (i = 0; str[i] != '\\0'; i++)\n",
    "{\n",
    "_putchar(str[i], buffer, index);\n",
    "}\n",
    "return (i);\n",
    "}\n"
   ]
  },
  {
   "cell_type": "markdown",
   "metadata": {},
   "source": [
    "#### test betty"
   ]
  },
  {
   "cell_type": "code",
   "execution_count": 29,
   "metadata": {},
   "outputs": [
    {
     "name": "stdout",
     "output_type": "stream",
     "text": [
      "_printf\n",
      "_putchar\n",
      "format_reciever\n",
      "print_HEX\n",
      "print_char\n",
      "print_hex\n",
      "print_int\n",
      "print_octal\n",
      "print_percent\n",
      "print_pointer\n",
      "print_string\n",
      "print_unsigned\n",
      "main\n",
      "struct convert\n"
     ]
    }
   ],
   "source": [
    "%%bash\n",
    "betty-style /home/elkomy/alx/printf/*.c /home/elkomy/alx/printf/tests/*.c /home/elkomy/alx/printf/*.h\n",
    "betty-doc /home/elkomy/alx/printf/*.c /home/elkomy/alx/printf/tests/*.c /home/elkomy/alx/printf/*.h\n"
   ]
  },
  {
   "cell_type": "markdown",
   "metadata": {},
   "source": [
    "#### compile"
   ]
  },
  {
   "cell_type": "code",
   "execution_count": 41,
   "metadata": {},
   "outputs": [
    {
     "name": "stdout",
     "output_type": "stream",
     "text": [
      "\n",
      "========== /home/elkomy/alx/printf/_printf.c ==========\n",
      "_printf\n"
     ]
    },
    {
     "name": "stderr",
     "output_type": "stream",
     "text": [
      "/home/elkomy/alx/printf/_printf.c: In function ‘_printf’:\n",
      "/home/elkomy/alx/printf/_printf.c:13:7: error: ‘print_percent’ undeclared (first use in this function); did you mean ‘print_int’?\n",
      "   13 | {\"%\", print_percent},\n",
      "      |       ^~~~~~~~~~~~~\n",
      "      |       print_int\n",
      "/home/elkomy/alx/printf/_printf.c:13:7: note: each undeclared identifier is reported only once for each function it appears in\n",
      "/home/elkomy/alx/printf/_printf.c:13:1: error: missing initializer for field ‘f’ of ‘conver_t’ {aka ‘struct convert’} [-Werror=missing-field-initializers]\n",
      "   13 | {\"%\", print_percent},\n",
      "      | ^\n",
      "In file included from /home/elkomy/alx/printf/_printf.c:1:\n",
      "/home/elkomy/alx/printf/main.h:18:7: note: ‘f’ declared here\n",
      "   18 | int (*f)(va_list);\n",
      "      |       ^\n",
      "/home/elkomy/alx/printf/_printf.c:14:7: error: ‘print_char’ undeclared (first use in this function); did you mean ‘printed_chars’?\n",
      "   14 | {\"c\", print_char},\n",
      "      |       ^~~~~~~~~~\n",
      "      |       printed_chars\n",
      "/home/elkomy/alx/printf/_printf.c:14:1: error: missing initializer for field ‘f’ of ‘conver_t’ {aka ‘struct convert’} [-Werror=missing-field-initializers]\n",
      "   14 | {\"c\", print_char},\n",
      "      | ^\n",
      "In file included from /home/elkomy/alx/printf/_printf.c:1:\n",
      "/home/elkomy/alx/printf/main.h:18:7: note: ‘f’ declared here\n",
      "   18 | int (*f)(va_list);\n",
      "      |       ^\n",
      "/home/elkomy/alx/printf/_printf.c:15:7: error: ‘print_string’ undeclared (first use in this function); did you mean ‘print_int’?\n",
      "   15 | {\"s\", print_string},\n",
      "      |       ^~~~~~~~~~~~\n",
      "      |       print_int\n",
      "/home/elkomy/alx/printf/_printf.c:15:1: error: missing initializer for field ‘f’ of ‘conver_t’ {aka ‘struct convert’} [-Werror=missing-field-initializers]\n",
      "   15 | {\"s\", print_string},\n",
      "      | ^\n",
      "In file included from /home/elkomy/alx/printf/_printf.c:1:\n",
      "/home/elkomy/alx/printf/main.h:18:7: note: ‘f’ declared here\n",
      "   18 | int (*f)(va_list);\n",
      "      |       ^\n",
      "cc1: all warnings being treated as errors\n",
      "bash: line 3: ./printf: No such file or directory\n"
     ]
    },
    {
     "ename": "CalledProcessError",
     "evalue": "Command 'b'betty /home/elkomy/alx/printf/_printf.c\\ngcc -Wall -Werror -Wextra -pedantic -std=gnu89 -Wno-format /home/elkomy/alx/printf/*.c /home/elkomy/alx/printf/tests/main.c -o /home/elkomy/alx/printf/printf\\n./printf\\n\\n'' returned non-zero exit status 127.",
     "output_type": "error",
     "traceback": [
      "\u001b[0;31m---------------------------------------------------------------------------\u001b[0m",
      "\u001b[0;31mCalledProcessError\u001b[0m                        Traceback (most recent call last)",
      "Cell \u001b[0;32mIn[41], line 1\u001b[0m\n\u001b[0;32m----> 1\u001b[0m \u001b[43mget_ipython\u001b[49m\u001b[43m(\u001b[49m\u001b[43m)\u001b[49m\u001b[38;5;241;43m.\u001b[39;49m\u001b[43mrun_cell_magic\u001b[49m\u001b[43m(\u001b[49m\u001b[38;5;124;43m'\u001b[39;49m\u001b[38;5;124;43mbash\u001b[39;49m\u001b[38;5;124;43m'\u001b[39;49m\u001b[43m,\u001b[49m\u001b[43m \u001b[49m\u001b[38;5;124;43m'\u001b[39;49m\u001b[38;5;124;43m'\u001b[39;49m\u001b[43m,\u001b[49m\u001b[43m \u001b[49m\u001b[38;5;124;43m'\u001b[39;49m\u001b[38;5;124;43mbetty /home/elkomy/alx/printf/_printf.c\u001b[39;49m\u001b[38;5;130;43;01m\\n\u001b[39;49;00m\u001b[38;5;124;43mgcc -Wall -Werror -Wextra -pedantic -std=gnu89 -Wno-format /home/elkomy/alx/printf/*.c /home/elkomy/alx/printf/tests/main.c -o /home/elkomy/alx/printf/printf\u001b[39;49m\u001b[38;5;130;43;01m\\n\u001b[39;49;00m\u001b[38;5;124;43m./printf\u001b[39;49m\u001b[38;5;130;43;01m\\n\u001b[39;49;00m\u001b[38;5;130;43;01m\\n\u001b[39;49;00m\u001b[38;5;124;43m'\u001b[39;49m\u001b[43m)\u001b[49m\n",
      "File \u001b[0;32m~/anaconda3/envs/alxse/lib/python3.12/site-packages/IPython/core/interactiveshell.py:2541\u001b[0m, in \u001b[0;36mInteractiveShell.run_cell_magic\u001b[0;34m(self, magic_name, line, cell)\u001b[0m\n\u001b[1;32m   2539\u001b[0m \u001b[38;5;28;01mwith\u001b[39;00m \u001b[38;5;28mself\u001b[39m\u001b[38;5;241m.\u001b[39mbuiltin_trap:\n\u001b[1;32m   2540\u001b[0m     args \u001b[38;5;241m=\u001b[39m (magic_arg_s, cell)\n\u001b[0;32m-> 2541\u001b[0m     result \u001b[38;5;241m=\u001b[39m \u001b[43mfn\u001b[49m\u001b[43m(\u001b[49m\u001b[38;5;241;43m*\u001b[39;49m\u001b[43margs\u001b[49m\u001b[43m,\u001b[49m\u001b[43m \u001b[49m\u001b[38;5;241;43m*\u001b[39;49m\u001b[38;5;241;43m*\u001b[39;49m\u001b[43mkwargs\u001b[49m\u001b[43m)\u001b[49m\n\u001b[1;32m   2543\u001b[0m \u001b[38;5;66;03m# The code below prevents the output from being displayed\u001b[39;00m\n\u001b[1;32m   2544\u001b[0m \u001b[38;5;66;03m# when using magics with decorator @output_can_be_silenced\u001b[39;00m\n\u001b[1;32m   2545\u001b[0m \u001b[38;5;66;03m# when the last Python token in the expression is a ';'.\u001b[39;00m\n\u001b[1;32m   2546\u001b[0m \u001b[38;5;28;01mif\u001b[39;00m \u001b[38;5;28mgetattr\u001b[39m(fn, magic\u001b[38;5;241m.\u001b[39mMAGIC_OUTPUT_CAN_BE_SILENCED, \u001b[38;5;28;01mFalse\u001b[39;00m):\n",
      "File \u001b[0;32m~/anaconda3/envs/alxse/lib/python3.12/site-packages/IPython/core/magics/script.py:155\u001b[0m, in \u001b[0;36mScriptMagics._make_script_magic.<locals>.named_script_magic\u001b[0;34m(line, cell)\u001b[0m\n\u001b[1;32m    153\u001b[0m \u001b[38;5;28;01melse\u001b[39;00m:\n\u001b[1;32m    154\u001b[0m     line \u001b[38;5;241m=\u001b[39m script\n\u001b[0;32m--> 155\u001b[0m \u001b[38;5;28;01mreturn\u001b[39;00m \u001b[38;5;28;43mself\u001b[39;49m\u001b[38;5;241;43m.\u001b[39;49m\u001b[43mshebang\u001b[49m\u001b[43m(\u001b[49m\u001b[43mline\u001b[49m\u001b[43m,\u001b[49m\u001b[43m \u001b[49m\u001b[43mcell\u001b[49m\u001b[43m)\u001b[49m\n",
      "File \u001b[0;32m~/anaconda3/envs/alxse/lib/python3.12/site-packages/IPython/core/magics/script.py:315\u001b[0m, in \u001b[0;36mScriptMagics.shebang\u001b[0;34m(self, line, cell)\u001b[0m\n\u001b[1;32m    310\u001b[0m \u001b[38;5;28;01mif\u001b[39;00m args\u001b[38;5;241m.\u001b[39mraise_error \u001b[38;5;129;01mand\u001b[39;00m p\u001b[38;5;241m.\u001b[39mreturncode \u001b[38;5;241m!=\u001b[39m \u001b[38;5;241m0\u001b[39m:\n\u001b[1;32m    311\u001b[0m     \u001b[38;5;66;03m# If we get here and p.returncode is still None, we must have\u001b[39;00m\n\u001b[1;32m    312\u001b[0m     \u001b[38;5;66;03m# killed it but not yet seen its return code. We don't wait for it,\u001b[39;00m\n\u001b[1;32m    313\u001b[0m     \u001b[38;5;66;03m# in case it's stuck in uninterruptible sleep. -9 = SIGKILL\u001b[39;00m\n\u001b[1;32m    314\u001b[0m     rc \u001b[38;5;241m=\u001b[39m p\u001b[38;5;241m.\u001b[39mreturncode \u001b[38;5;129;01mor\u001b[39;00m \u001b[38;5;241m-\u001b[39m\u001b[38;5;241m9\u001b[39m\n\u001b[0;32m--> 315\u001b[0m     \u001b[38;5;28;01mraise\u001b[39;00m CalledProcessError(rc, cell)\n",
      "\u001b[0;31mCalledProcessError\u001b[0m: Command 'b'betty /home/elkomy/alx/printf/_printf.c\\ngcc -Wall -Werror -Wextra -pedantic -std=gnu89 -Wno-format /home/elkomy/alx/printf/*.c /home/elkomy/alx/printf/tests/main.c -o /home/elkomy/alx/printf/printf\\n./printf\\n\\n'' returned non-zero exit status 127."
     ]
    }
   ],
   "source": [
    "\n",
    "%%bash\n",
    "betty /home/elkomy/alx/printf/_printf.c\n",
    "gcc -Wall -Werror -Wextra -pedantic -std=gnu89 -Wno-format /home/elkomy/alx/printf/*.c /home/elkomy/alx/printf/tests/main.c -o /home/elkomy/alx/printf/printf\n",
    "./printf\n",
    "\n"
   ]
  },
  {
   "cell_type": "markdown",
   "metadata": {},
   "source": [
    "#### compile (Makefile)"
   ]
  },
  {
   "cell_type": "code",
   "execution_count": 318,
   "metadata": {},
   "outputs": [
    {
     "name": "stdout",
     "output_type": "stream",
     "text": [
      "Overwriting /home/elkomy/alx/printf/Makefile\n"
     ]
    }
   ],
   "source": [
    "%%file /home/elkomy/alx/printf/Makefile\n",
    "\n",
    "CC = gcc\n",
    "CFLAGS = -Wall -Werror -Wextra -pedantic -std=gnu89\n",
    "SRC = _printf.c print_percent.c print_char.c print_string.c print_integer.c print_binary.c _putchar.c format_reciever.c _puts.c\n",
    "OBJ = $(SRC:.c=.o)\n",
    "TARGET = printf\n",
    "\n",
    "all: $(TARGET)\n",
    "\n",
    "$(TARGET): $(OBJ)\n",
    "\t$(CC) $(CFLAGS) -o $(TARGET) $(OBJ)\n",
    "\n",
    "clean:\n",
    "\trm -f $(OBJ) $(TARGET)\n"
   ]
  },
  {
   "cell_type": "code",
   "execution_count": 323,
   "metadata": {},
   "outputs": [
    {
     "name": "stdout",
     "output_type": "stream",
     "text": [
      "rm -f _printf.o print_percent.o print_char.o print_string.o print_integer.o print_binary.o _putchar.o format_reciever.o _puts.o printf\n",
      "gcc -Wall -Werror -Wextra -pedantic -std=gnu89   -c -o _printf.o _printf.c\n",
      "gcc -Wall -Werror -Wextra -pedantic -std=gnu89   -c -o print_percent.o print_percent.c\n",
      "gcc -Wall -Werror -Wextra -pedantic -std=gnu89   -c -o print_char.o print_char.c\n",
      "gcc -Wall -Werror -Wextra -pedantic -std=gnu89   -c -o print_string.o print_string.c\n"
     ]
    },
    {
     "name": "stderr",
     "output_type": "stream",
     "text": [
      "make: *** No rule to make target 'print_integer.o', needed by 'printf'.  Stop.\n"
     ]
    },
    {
     "ename": "CalledProcessError",
     "evalue": "Command 'b'make clean\\nmake\\n'' returned non-zero exit status 2.",
     "output_type": "error",
     "traceback": [
      "\u001b[0;31m---------------------------------------------------------------------------\u001b[0m",
      "\u001b[0;31mCalledProcessError\u001b[0m                        Traceback (most recent call last)",
      "Cell \u001b[0;32mIn[323], line 1\u001b[0m\n\u001b[0;32m----> 1\u001b[0m \u001b[43mget_ipython\u001b[49m\u001b[43m(\u001b[49m\u001b[43m)\u001b[49m\u001b[38;5;241;43m.\u001b[39;49m\u001b[43mrun_cell_magic\u001b[49m\u001b[43m(\u001b[49m\u001b[38;5;124;43m'\u001b[39;49m\u001b[38;5;124;43mbash\u001b[39;49m\u001b[38;5;124;43m'\u001b[39;49m\u001b[43m,\u001b[49m\u001b[43m \u001b[49m\u001b[38;5;124;43m'\u001b[39;49m\u001b[38;5;124;43m'\u001b[39;49m\u001b[43m,\u001b[49m\u001b[43m \u001b[49m\u001b[38;5;124;43m'\u001b[39;49m\u001b[38;5;124;43mmake clean\u001b[39;49m\u001b[38;5;130;43;01m\\n\u001b[39;49;00m\u001b[38;5;124;43mmake\u001b[39;49m\u001b[38;5;130;43;01m\\n\u001b[39;49;00m\u001b[38;5;124;43m'\u001b[39;49m\u001b[43m)\u001b[49m\n",
      "File \u001b[0;32m~/anaconda3/envs/alxse/lib/python3.12/site-packages/IPython/core/interactiveshell.py:2541\u001b[0m, in \u001b[0;36mInteractiveShell.run_cell_magic\u001b[0;34m(self, magic_name, line, cell)\u001b[0m\n\u001b[1;32m   2539\u001b[0m \u001b[38;5;28;01mwith\u001b[39;00m \u001b[38;5;28mself\u001b[39m\u001b[38;5;241m.\u001b[39mbuiltin_trap:\n\u001b[1;32m   2540\u001b[0m     args \u001b[38;5;241m=\u001b[39m (magic_arg_s, cell)\n\u001b[0;32m-> 2541\u001b[0m     result \u001b[38;5;241m=\u001b[39m \u001b[43mfn\u001b[49m\u001b[43m(\u001b[49m\u001b[38;5;241;43m*\u001b[39;49m\u001b[43margs\u001b[49m\u001b[43m,\u001b[49m\u001b[43m \u001b[49m\u001b[38;5;241;43m*\u001b[39;49m\u001b[38;5;241;43m*\u001b[39;49m\u001b[43mkwargs\u001b[49m\u001b[43m)\u001b[49m\n\u001b[1;32m   2543\u001b[0m \u001b[38;5;66;03m# The code below prevents the output from being displayed\u001b[39;00m\n\u001b[1;32m   2544\u001b[0m \u001b[38;5;66;03m# when using magics with decorator @output_can_be_silenced\u001b[39;00m\n\u001b[1;32m   2545\u001b[0m \u001b[38;5;66;03m# when the last Python token in the expression is a ';'.\u001b[39;00m\n\u001b[1;32m   2546\u001b[0m \u001b[38;5;28;01mif\u001b[39;00m \u001b[38;5;28mgetattr\u001b[39m(fn, magic\u001b[38;5;241m.\u001b[39mMAGIC_OUTPUT_CAN_BE_SILENCED, \u001b[38;5;28;01mFalse\u001b[39;00m):\n",
      "File \u001b[0;32m~/anaconda3/envs/alxse/lib/python3.12/site-packages/IPython/core/magics/script.py:155\u001b[0m, in \u001b[0;36mScriptMagics._make_script_magic.<locals>.named_script_magic\u001b[0;34m(line, cell)\u001b[0m\n\u001b[1;32m    153\u001b[0m \u001b[38;5;28;01melse\u001b[39;00m:\n\u001b[1;32m    154\u001b[0m     line \u001b[38;5;241m=\u001b[39m script\n\u001b[0;32m--> 155\u001b[0m \u001b[38;5;28;01mreturn\u001b[39;00m \u001b[38;5;28;43mself\u001b[39;49m\u001b[38;5;241;43m.\u001b[39;49m\u001b[43mshebang\u001b[49m\u001b[43m(\u001b[49m\u001b[43mline\u001b[49m\u001b[43m,\u001b[49m\u001b[43m \u001b[49m\u001b[43mcell\u001b[49m\u001b[43m)\u001b[49m\n",
      "File \u001b[0;32m~/anaconda3/envs/alxse/lib/python3.12/site-packages/IPython/core/magics/script.py:315\u001b[0m, in \u001b[0;36mScriptMagics.shebang\u001b[0;34m(self, line, cell)\u001b[0m\n\u001b[1;32m    310\u001b[0m \u001b[38;5;28;01mif\u001b[39;00m args\u001b[38;5;241m.\u001b[39mraise_error \u001b[38;5;129;01mand\u001b[39;00m p\u001b[38;5;241m.\u001b[39mreturncode \u001b[38;5;241m!=\u001b[39m \u001b[38;5;241m0\u001b[39m:\n\u001b[1;32m    311\u001b[0m     \u001b[38;5;66;03m# If we get here and p.returncode is still None, we must have\u001b[39;00m\n\u001b[1;32m    312\u001b[0m     \u001b[38;5;66;03m# killed it but not yet seen its return code. We don't wait for it,\u001b[39;00m\n\u001b[1;32m    313\u001b[0m     \u001b[38;5;66;03m# in case it's stuck in uninterruptible sleep. -9 = SIGKILL\u001b[39;00m\n\u001b[1;32m    314\u001b[0m     rc \u001b[38;5;241m=\u001b[39m p\u001b[38;5;241m.\u001b[39mreturncode \u001b[38;5;129;01mor\u001b[39;00m \u001b[38;5;241m-\u001b[39m\u001b[38;5;241m9\u001b[39m\n\u001b[0;32m--> 315\u001b[0m     \u001b[38;5;28;01mraise\u001b[39;00m CalledProcessError(rc, cell)\n",
      "\u001b[0;31mCalledProcessError\u001b[0m: Command 'b'make clean\\nmake\\n'' returned non-zero exit status 2."
     ]
    }
   ],
   "source": [
    "%%bash\n",
    "make clean\n",
    "make"
   ]
  },
  {
   "cell_type": "markdown",
   "metadata": {},
   "source": [
    "#### push to git"
   ]
  },
  {
   "cell_type": "code",
   "execution_count": 321,
   "metadata": {},
   "outputs": [
    {
     "name": "stdout",
     "output_type": "stream",
     "text": [
      "[main be0e548] alx-low_level_programming/0x0D-preprocessor/0-putchar\n",
      " 22 files changed, 186 insertions(+), 270 deletions(-)\n",
      " create mode 100644 Makefile\n",
      " create mode 100644 _printf.o\n",
      " delete mode 100644 handle_percent.c\n",
      " rewrite main.h (70%)\n",
      " delete mode 100644 print_binary.c\n",
      " create mode 100644 print_char.o\n",
      " create mode 100644 print_percent.o\n",
      " create mode 100644 print_string.o\n",
      " delete mode 100755 printf\n",
      " rewrite tests/main.c (91%)\n"
     ]
    },
    {
     "name": "stderr",
     "output_type": "stream",
     "text": [
      "To https://github.com/elkomysara/printf\n",
      "   655a149..be0e548  main -> main\n"
     ]
    }
   ],
   "source": [
    "%%bash\n",
    "git add .\n",
    "git commit -m \"alx-low_level_programming/0x0D-preprocessor/0-putchar\"\n",
    "git push"
   ]
  },
  {
   "cell_type": "markdown",
   "metadata": {},
   "source": [
    "###\n",
    "---\n",
    "<center>\n",
    "<h4>2. With a face like mine, I do better in print</h4>\n",
    "</center>\n",
    "\n",
    "---"
   ]
  },
  {
   "cell_type": "markdown",
   "metadata": {},
   "source": [
    "\n",
    "#### Handle the following custom conversion specifiers:\n",
    "\n",
    "* `b`: the unsigned int argument is converted to binary\n",
    "<details>\n",
    "\n",
    "```bash\n",
    "alex@ubuntu:~/c/printf$ cat main.c\n",
    "#include \"main.h\"\n",
    "\n",
    "/**\n",
    " * main - Entry point\n",
    " *\n",
    " * Return: Always 0\n",
    " */\n",
    "int main(void)\n",
    "{\n",
    "    _printf(\"%b\\n\", 98);\n",
    "    return (0);\n",
    "}\n",
    "alex@ubuntu:~/c/printf$ gcc -Wall -Wextra -Werror -pedantic -std=gnu89 main.c\n",
    "alex@ubuntu:~/c/printf$ ./a.out\n",
    "1100010\n",
    "alex@ubuntu:~/c/printf$\n",
    "\n",
    "```\n",
    "#### Repo:\n",
    "* GitHub repository: ``` printf```"
   ]
  },
  {
   "cell_type": "markdown",
   "metadata": {},
   "source": [
    "#### Erease all files and start all over"
   ]
  },
  {
   "cell_type": "code",
   "execution_count": 234,
   "metadata": {},
   "outputs": [],
   "source": [
    "%rm -f /home/elkomy/alx/printf/*.o\n",
    "%rm -f /home/elkomy/alx/printf/*.c\n",
    "%rm -f /home/elkomy/alx/printf/*.h\n",
    "%rm -f /home/elkomy/alx/printf/printf"
   ]
  },
  {
   "cell_type": "markdown",
   "metadata": {},
   "source": [
    "#### History (old files)"
   ]
  },
  {
   "cell_type": "code",
   "execution_count": 254,
   "metadata": {},
   "outputs": [
    {
     "name": "stdout",
     "output_type": "stream",
     "text": [
      "Overwriting /home/elkomy/alx/printf/main.h\n"
     ]
    }
   ],
   "source": [
    "%%file /home/elkomy/alx/printf/main.h\n",
    "#ifndef MAIN_H\n",
    "#define MAIN_H\n",
    "\n",
    "#include <stdio.h>\n",
    "#include <unistd.h>\n",
    "#include <stdlib.h>\n",
    "#include <stdarg.h>\n",
    "#include <limits.h>\n",
    "\n",
    "/**\n",
    "* struct convert - defines a structure for symbols and functions\n",
    "* @sym: The operator\n",
    "* @f: The function associated\n",
    "*/\n",
    "\n",
    "struct convert\n",
    "{\n",
    "char *sym;\n",
    "int (*f)(va_list);\n",
    "};\n",
    "typedef struct convert conver_t;\n",
    "\n",
    "int _printf(const char *format, ...);\n",
    "int _putchar(char c);\n",
    "int format_reciever(const char *format, conver_t f_list[], va_list arg_list);\n",
    "int print_percent(va_list);\n",
    "int print_char(va_list);\n",
    "int print_string(va_list);\n",
    "int print_int(va_list);\n",
    "int print_unsigned(va_list);\n",
    "int print_octal(va_list);\n",
    "int print_hex(va_list);\n",
    "int print_HEX(va_list);\n",
    "int print_pointer(va_list);\n",
    "\n",
    "#endif /* MAIN_H */\n",
    "\n"
   ]
  },
  {
   "cell_type": "code",
   "execution_count": 255,
   "metadata": {},
   "outputs": [
    {
     "name": "stdout",
     "output_type": "stream",
     "text": [
      "Overwriting /home/elkomy/alx/printf/print_int.c\n"
     ]
    }
   ],
   "source": [
    "%%file /home/elkomy/alx/printf/print_int.c\n",
    "#include \"main.h\"\n",
    "#include <stdarg.h>\n",
    "\n",
    "/**\n",
    "* print_int - Prints an integer\n",
    "* @list: list of arguments\n",
    "* Return: Will return the number of characters printed\n",
    "*/\n",
    "int print_int(va_list list)\n",
    "{\n",
    "int num = va_arg(list, int);\n",
    "char buffer[12];\n",
    "int i = 0, len = 0, negative = 0;\n",
    "\n",
    "if (num == INT_MIN)\n",
    "{\n",
    "_putchar('-');\n",
    "_putchar('2');\n",
    "num = 147483648; /* INT_MIN = -2147483648, so we need to handle 147483648 */\n",
    "negative = 2; /*  Count '-' and '2' */\n",
    "}\n",
    "else if (num < 0)\n",
    "{\n",
    "_putchar('-');\n",
    "num = -num;\n",
    "negative = 1;\n",
    "}\n",
    "\n",
    "if (num == 0)\n",
    "{\n",
    "_putchar('0');\n",
    "return (1);\n",
    "}\n",
    "\n",
    "while (num != 0)\n",
    "{\n",
    "buffer[i++] = (num % 10) + '0';\n",
    "num /= 10;\n",
    "}\n",
    "\n",
    "while (i--)\n",
    "{\n",
    "_putchar(buffer[i]);\n",
    "len++;\n",
    "}\n",
    "\n",
    "return (len + negative);\n",
    "}\n"
   ]
  },
  {
   "cell_type": "code",
   "execution_count": 256,
   "metadata": {},
   "outputs": [
    {
     "name": "stdout",
     "output_type": "stream",
     "text": [
      "Overwriting /home/elkomy/alx/printf/print_unsigned.c\n"
     ]
    }
   ],
   "source": [
    "%%file /home/elkomy/alx/printf/print_unsigned.c\n",
    "\n",
    "#include \"main.h\"\n",
    "#include <stdarg.h>\n",
    "/**\n",
    "* print_unsigned - Prints an unsigned integer\n",
    "* @list: list of arguments\n",
    "* Return: Will return the number of characters printed\n",
    "*/\n",
    "\n",
    "int print_unsigned(va_list list)\n",
    "{\n",
    "unsigned int num = va_arg(list, unsigned int);\n",
    "char buffer[12];\n",
    "int i = 0, len = 0;\n",
    "\n",
    "if (num == 0)\n",
    "{\n",
    "_putchar('0');\n",
    "return (1);\n",
    "}\n",
    "\n",
    "while (num != 0)\n",
    "{\n",
    "buffer[i++] = (num % 10) + '0';\n",
    "num /= 10;\n",
    "}\n",
    "\n",
    "while (i--)\n",
    "_putchar(buffer[i]);\n",
    "\n",
    "return (len + i);\n",
    "}\n"
   ]
  },
  {
   "cell_type": "code",
   "execution_count": 257,
   "metadata": {},
   "outputs": [
    {
     "name": "stdout",
     "output_type": "stream",
     "text": [
      "Overwriting /home/elkomy/alx/printf/print_octal.c\n"
     ]
    }
   ],
   "source": [
    "%%file /home/elkomy/alx/printf/print_octal.c\n",
    "\n",
    "#include \"main.h\"\n",
    "\n",
    "/**\n",
    "* print_octal - Prints an unsigned integer in octal notation\n",
    "* @list: list of arguments\n",
    "* Return: Will return the number of characters printed\n",
    "*/\n",
    "\n",
    "int print_octal(va_list list)\n",
    "{\n",
    "unsigned int num = va_arg(list, unsigned int);\n",
    "char buffer[12];\n",
    "int i = 0, len = 0;\n",
    "\n",
    "if (num == 0)\n",
    "{\n",
    "_putchar('0');\n",
    "return (1);\n",
    "}\n",
    "\n",
    "while (num != 0)\n",
    "{\n",
    "buffer[i++] = (num % 8) + '0';\n",
    "num /= 8;\n",
    "}\n",
    "\n",
    "while (i--)\n",
    "_putchar(buffer[i]);\n",
    "\n",
    "return (len + i);\n",
    "}\n"
   ]
  },
  {
   "cell_type": "code",
   "execution_count": 258,
   "metadata": {},
   "outputs": [
    {
     "name": "stdout",
     "output_type": "stream",
     "text": [
      "Overwriting /home/elkomy/alx/printf/print_hex.c\n"
     ]
    }
   ],
   "source": [
    "%%file /home/elkomy/alx/printf/print_hex.c\n",
    "\n",
    "#include \"main.h\"\n",
    "#include <stdarg.h>\n",
    "\n",
    "/**\n",
    "* print_hex - Prints an unsigned integer in hexadecimal notation (lowercase)\n",
    "* @list: list of arguments\n",
    "* Return: Will return the number of characters printed\n",
    "*/\n",
    "int print_hex(va_list list)\n",
    "{\n",
    "unsigned int num = va_arg(list, unsigned int);\n",
    "char buffer[12];\n",
    "int i = 0, len = 0;\n",
    "\n",
    "if (num == 0)\n",
    "{\n",
    "_putchar('0');\n",
    "return (1);\n",
    "}\n",
    "\n",
    "while (num != 0)\n",
    "{\n",
    "buffer[i++] = (num % 16) + (num % 16 < 10 ? '0' : 'a' - 10);\n",
    "num /= 16;\n",
    "}\n",
    "\n",
    "while (i--)\n",
    "_putchar(buffer[i]);\n",
    "\n",
    "return (len + i);\n",
    "}"
   ]
  },
  {
   "cell_type": "code",
   "execution_count": 259,
   "metadata": {},
   "outputs": [
    {
     "name": "stdout",
     "output_type": "stream",
     "text": [
      "Overwriting /home/elkomy/alx/printf/print_HEX.c\n"
     ]
    }
   ],
   "source": [
    "%%file /home/elkomy/alx/printf/print_HEX.c\n",
    "\n",
    "#include \"main.h\"\n",
    "#include <stdarg.h>\n",
    "\n",
    "/**\n",
    "* print_HEX - Prints an unsigned integer in hexadecimal notation (uppercase)\n",
    "* @list: list of arguments\n",
    "* Return: Will return the number of characters printed\n",
    "*/\n",
    "int print_HEX(va_list list)\n",
    "{\n",
    "unsigned int num = va_arg(list, unsigned int);\n",
    "char buffer[12];\n",
    "int i = 0, len = 0;\n",
    "\n",
    "if (num == 0)\n",
    "{\n",
    "_putchar('0');\n",
    "return (1);\n",
    "}\n",
    "\n",
    "while (num != 0)\n",
    "{\n",
    "buffer[i++] = (num % 16) + (num % 16 < 10 ? '0' : 'A' - 10);\n",
    "num /= 16;\n",
    "}\n",
    "\n",
    "while (i--)\n",
    "_putchar(buffer[i]);\n",
    "\n",
    "return (len + i);\n",
    "}\n"
   ]
  },
  {
   "cell_type": "code",
   "execution_count": 260,
   "metadata": {},
   "outputs": [
    {
     "name": "stdout",
     "output_type": "stream",
     "text": [
      "Overwriting /home/elkomy/alx/printf/print_pointer.c\n"
     ]
    }
   ],
   "source": [
    "%%file /home/elkomy/alx/printf/print_pointer.c\n",
    "\n",
    "#include \"main.h\"\n",
    "#include <stdarg.h>\n",
    "\n",
    "/**\n",
    "* print_pointer - Prints a pointer address\n",
    "* @list: list of arguments\n",
    "* Return: Will return the number of characters printed\n",
    "*/\n",
    "int print_pointer(va_list list)\n",
    "{\n",
    "unsigned long int addr = (unsigned long int)va_arg(list, void *);\n",
    "char buffer[17];\n",
    "int i = 0, len = 0;\n",
    "\n",
    "if (addr == 0)\n",
    "{\n",
    "_putchar('(');\n",
    "_putchar('n');\n",
    "_putchar('i');\n",
    "_putchar('l');\n",
    "_putchar(')');\n",
    "return (5);\n",
    "}\n",
    "\n",
    "while (addr != 0)\n",
    "{\n",
    "buffer[i++] = (addr % 16) + (addr % 16 < 10 ? '0' : 'a' - 10);\n",
    "addr /= 16;\n",
    "}\n",
    "\n",
    "_putchar('0');\n",
    "_putchar('x');\n",
    "len += 2;\n",
    "\n",
    "while (i--)\n",
    "_putchar(buffer[i]);\n",
    "\n",
    "return (len + i);\n",
    "}"
   ]
  },
  {
   "cell_type": "code",
   "execution_count": 261,
   "metadata": {},
   "outputs": [
    {
     "name": "stdout",
     "output_type": "stream",
     "text": [
      "Overwriting /home/elkomy/alx/printf/_putchar.c\n"
     ]
    }
   ],
   "source": [
    "%%file /home/elkomy/alx/printf/_putchar.c\n",
    "#include <unistd.h>\n",
    "\n",
    "/**\n",
    "* _putchar - writes a character to stdout\n",
    "* @c: character to write\n",
    "*\n",
    "* Return: On success 1.\n",
    "* On error, -1 is returned, and errno is set appropriately.\n",
    "*/\n",
    "\n",
    "int _putchar(char c)\n",
    "{\n",
    "return (write(1, &c, 1));\n",
    "}\n"
   ]
  },
  {
   "cell_type": "code",
   "execution_count": 262,
   "metadata": {},
   "outputs": [
    {
     "name": "stdout",
     "output_type": "stream",
     "text": [
      "Overwriting /home/elkomy/alx/printf/format_reciever.c\n"
     ]
    }
   ],
   "source": [
    "%%file /home/elkomy/alx/printf/format_reciever.c\n",
    "#include \"main.h\"\n",
    "\n",
    "/**\n",
    "* format_reciever - Receives the format and\n",
    "* the argument list, then calls the appropriate function\n",
    "* @format: The format string\n",
    "* @f_list: List of conversion specifiers and associated functions\n",
    "* @arg_list: Argument list\n",
    "* Return: The number of characters printed\n",
    "*/\n",
    "int format_reciever(const char *format, conver_t f_list[], va_list arg_list)\n",
    "{\n",
    "int i, j, printed_chars = 0;\n",
    "\n",
    "for (i = 0; format[i] != '\\0'; i++)\n",
    "{\n",
    "if (format[i] == '%')\n",
    "{\n",
    "int found = 0;\n",
    "for (j = 0; f_list[j].sym != NULL; j++)\n",
    "{\n",
    "if (format[i + 1] == f_list[j].sym[0])\n",
    "{\n",
    "printed_chars += f_list[j].f(arg_list);\n",
    "i++;\n",
    "found = 1;\n",
    "break;\n",
    "}\n",
    "}\n",
    "if (!found)\n",
    "{\n",
    "if (format[i + 1] != '\\0')\n",
    "{\n",
    "_putchar(format[i]);\n",
    "_putchar(format[i + 1]);\n",
    "printed_chars += 2;\n",
    "i++;\n",
    "}\n",
    "else\n",
    "{\n",
    "return (-1);\n",
    "}\n",
    "}\n",
    "}\n",
    "else\n",
    "{\n",
    "_putchar(format[i]);\n",
    "printed_chars++;\n",
    "}\n",
    "}\n",
    "return (printed_chars);\n",
    "}\n"
   ]
  },
  {
   "cell_type": "code",
   "execution_count": 263,
   "metadata": {},
   "outputs": [
    {
     "name": "stdout",
     "output_type": "stream",
     "text": [
      "Overwriting /home/elkomy/alx/printf/tests/main.c\n"
     ]
    }
   ],
   "source": [
    "%%file /home/elkomy/alx/printf/tests/main.c\n",
    "#include \"../main.h\"\n",
    "#include <stdio.h>\n",
    "\n",
    "/**\n",
    "* main - Entry point for testing the _printf function\n",
    "*\n",
    "* Return: Always 0\n",
    "*/\n",
    "int main(void)\n",
    "{\n",
    "int len1, len2;\n",
    "int num = -12345;\n",
    "int max = INT_MAX;\n",
    "int min = INT_MIN;\n",
    "\n",
    "len1 = _printf(\"Hello %%\\n\");\n",
    "len2 = printf(\"Hello %%\\n\");\n",
    "printf(\"Returned: _printf: %d, printf: %d\\n\", len1, len2);\n",
    "\n",
    "len1 = _printf(\"%s\\n\", NULL);\n",
    "len2 = printf(\"%s\\n\", NULL);\n",
    "printf(\"Returned: _printf: %d, printf: %d\\n\", len1, len2);\n",
    "\n",
    "len1 = _printf(\"%%\\n\");\n",
    "len2 = printf(\"%%\\n\");\n",
    "printf(\"Returned: _printf: %d, printf: %d\\n\", len1, len2);\n",
    "\n",
    "len1 = _printf(\"Unsupported specifier: %q\\n\");\n",
    "len2 = printf(\"Unsupported specifier: %q\\n\");\n",
    "printf(\"Returned: _printf: %d, printf: %d\\n\", len1, len2);\n",
    "\n",
    "len1 = _printf(\"Number: %d\\n\", num);\n",
    "len2 = printf(\"Number: %d\\n\", num);\n",
    "printf(\"Returned: _printf: %d, printf: %d\\n\", len1, len2);\n",
    "\n",
    "len1 = _printf(\"Number: %i\\n\", num);\n",
    "len2 = printf(\"Number: %i\\n\", num);\n",
    "printf(\"Returned: _printf: %d, printf: %d\\n\", len1, len2);\n",
    "\n",
    "len1 = _printf(\"Max int: %d\\n\", max);\n",
    "len2 = printf(\"Max int: %d\\n\", max);\n",
    "printf(\"Returned: _printf: %d, printf: %d\\n\", len1, len2);\n",
    "\n",
    "len1 = _printf(\"Min int: %d\\n\", min);\n",
    "len2 = printf(\"Min int: %d\\n\", min);\n",
    "printf(\"Returned: _printf: %d, printf: %d\\n\", len1, len2);\n",
    "\n",
    "return (0);\n",
    "}\n"
   ]
  },
  {
   "cell_type": "code",
   "execution_count": 264,
   "metadata": {},
   "outputs": [
    {
     "name": "stdout",
     "output_type": "stream",
     "text": [
      "Overwriting /home/elkomy/alx/printf/print_binary.c\n"
     ]
    }
   ],
   "source": [
    "%%file /home/elkomy/alx/printf/print_binary.c\n",
    "#include \"main.h\"\n",
    "\n",
    "/**\n",
    " * print_binary - Converts an unsigned int argument to binary\n",
    " * @list: list of arguments\n",
    " * Return: The number of characters printed\n",
    " */\n",
    "int print_binary(va_list list)\n",
    "{\n",
    "    unsigned int n = va_arg(list, unsigned int);\n",
    "    char *binary_str;\n",
    "    int num_chars;\n",
    "\n",
    "    binary_str = convert(n, 2, 0);\n",
    "    if (binary_str == NULL)\n",
    "        return (-1);\n",
    "\n",
    "    num_chars = _puts(binary_str);\n",
    "    return (num_chars);\n",
    "}\n",
    "\n",
    "/**\n",
    " * convert - Converts a number to a string in the given base\n",
    " * @num: The number to be converted\n",
    " * @base: The base to convert to\n",
    " * @lowercase: Flag to determine if hex letters should be lowercase\n",
    " * Return: A pointer to the converted string (static buffer)\n",
    " */\n",
    "char *convert(unsigned long int num, int base, int lowercase)\n",
    "\n",
    "{\n",
    "    static char buffer[50];\n",
    "    char *ptr;\n",
    "    char *rep = (lowercase) ? \"0123456789abcdef\" : \"0123456789ABCDEF\";\n",
    "\n",
    "    ptr = &buffer[49];\n",
    "    *ptr = '\\0';\n",
    "\n",
    "    do {\n",
    "        *--ptr = rep[num % base];\n",
    "        num /= base;\n",
    "    } while (num != 0);\n",
    "\n",
    "    return (ptr);\n",
    "}\n"
   ]
  },
  {
   "cell_type": "code",
   "execution_count": 265,
   "metadata": {},
   "outputs": [
    {
     "name": "stdout",
     "output_type": "stream",
     "text": [
      "Overwriting /home/elkomy/alx/printf/_printf.c\n"
     ]
    }
   ],
   "source": [
    "%%file /home/elkomy/alx/printf/_printf.c\n",
    "#include \"main.h\"\n",
    "\n",
    "/**\n",
    "* _printf - Receives the main string and all the necessary parameters to\n",
    "* print a formatted string\n",
    "* @format: A string containing all the desired characters\n",
    "* Return: A total count of the characters printed\n",
    "*/\n",
    "int _printf(const char *format, ...)\n",
    "{\n",
    "int printed_chars;\n",
    "conver_t f_list[] = {\n",
    "{\"%\", print_percent},\n",
    "{\"c\", print_char},\n",
    "{\"s\", print_string},\n",
    "{\"d\", print_integer},\n",
    "{\"i\", print_integer},\n",
    "{\"b\", print_binary},\n",
    "{NULL, NULL},\n",
    "};\n",
    "va_list arg_list;\n",
    "\n",
    "if (format == NULL)\n",
    "return (-1);\n",
    "\n",
    "va_start(arg_list, format);\n",
    "printed_chars = format_reciever(format, f_list, arg_list);\n",
    "va_end(arg_list);\n",
    "\n",
    "return (printed_chars);\n",
    "}\n"
   ]
  },
  {
   "cell_type": "code",
   "execution_count": 266,
   "metadata": {},
   "outputs": [
    {
     "name": "stdout",
     "output_type": "stream",
     "text": [
      "Overwriting /home/elkomy/alx/printf/_puts.c\n"
     ]
    }
   ],
   "source": [
    "%%file /home/elkomy/alx/printf/_puts.c\n",
    "#include \"main.h\"\n",
    "\n",
    "/**\n",
    " * _puts - Prints a string\n",
    " * @str: The string to be printed\n",
    " * Return: The number of characters printed\n",
    " */\n",
    "int _puts(char *str)\n",
    "{\n",
    "    int i;\n",
    "\n",
    "    for (i = 0; str[i] != '\\0'; i++)\n",
    "        _putchar(str[i]);\n",
    "\n",
    "    return (i);\n",
    "}\n",
    "\n"
   ]
  },
  {
   "cell_type": "code",
   "execution_count": 267,
   "metadata": {},
   "outputs": [
    {
     "name": "stdout",
     "output_type": "stream",
     "text": [
      "Overwriting /home/elkomy/alx/printf/main.h\n"
     ]
    }
   ],
   "source": [
    "%%file /home/elkomy/alx/printf/main.h\n",
    "#ifndef MAIN_H\n",
    "#define MAIN_H\n",
    "\n",
    "#include <stdio.h>\n",
    "#include <unistd.h>\n",
    "#include <stdlib.h>\n",
    "#include <stdarg.h>\n",
    "#include <limits.h>\n",
    "\n",
    "#define NULL_STRING \"(null)\"\n",
    "#define NUL '\\0'\n",
    "\n",
    "/**\n",
    " * struct convert - defines a structure for symbols and functions\n",
    " * @sym: The operator\n",
    " * @f: The function associated\n",
    " */\n",
    "struct convert\n",
    "{\n",
    "    char *sym;\n",
    "    int (*f)(va_list);\n",
    "};\n",
    "typedef struct convert conver_t;\n",
    "\n",
    "int _printf(const char *format, ...);\n",
    "int _putchar(char c);\n",
    "int format_reciever(const char *format, conver_t f_list[], va_list arg_list);\n",
    "int print_percent(va_list);\n",
    "int print_char(va_list);\n",
    "int print_string(va_list);\n",
    "int print_integer(va_list);\n",
    "int print_number(int n);\n",
    "int print_binary(va_list list);\n",
    "char *convert(unsigned long int num, int base, int lowercase);\n",
    "int _puts(char *str);\n",
    "#endif /* MAIN_H */\n",
    "\n",
    "\n"
   ]
  },
  {
   "cell_type": "code",
   "execution_count": 268,
   "metadata": {},
   "outputs": [
    {
     "name": "stdout",
     "output_type": "stream",
     "text": [
      "Overwriting /home/elkomy/alx/printf/tests/main.c\n"
     ]
    }
   ],
   "source": [
    "%%file /home/elkomy/alx/printf/tests/main.c\n",
    "#include \"../main.h\"\n",
    "\n",
    "/**\n",
    " * main - Entry point\n",
    " *\n",
    " * Return: Always 0\n",
    " */\n",
    "int main(void)\n",
    "{\n",
    "    _printf(\"%b\\n\", 98);\n",
    "    return (0);\n",
    "}\n",
    "\n",
    "\n"
   ]
  },
  {
   "cell_type": "markdown",
   "metadata": {},
   "source": [
    "#### Update _printf.c"
   ]
  },
  {
   "cell_type": "code",
   "execution_count": 106,
   "metadata": {},
   "outputs": [
    {
     "name": "stdout",
     "output_type": "stream",
     "text": [
      "Overwriting /home/elkomy/alx/printf/_printf.c\n"
     ]
    }
   ],
   "source": [
    "%%file /home/elkomy/alx/printf/_printf.c\n",
    "#include \"main.h\"\n",
    "\n",
    "/**\n",
    "* _printf - Receives the main string and all the necessary parameters to\n",
    "* print a formatted string\n",
    "* @format: A string containing all the desired characters\n",
    "* Return: A total count of the characters printed\n",
    "*/\n",
    "int _printf(const char *format, ...)\n",
    "{\n",
    "int printed_chars;\n",
    "conver_t f_list[] = {\n",
    "{\"%\", print_percent},\n",
    "{\"c\", print_char},\n",
    "{\"s\", print_string},\n",
    "{\"d\", print_int},\n",
    "{\"i\", print_int},\n",
    "{\"u\", print_unsigned},\n",
    "{\"o\", print_octal},\n",
    "{\"x\", print_hex},\n",
    "{\"X\", print_HEX},\n",
    "{\"p\", print_pointer},\n",
    "{\"b\", print_binary},\n",
    "{NULL, NULL},\n",
    "};\n",
    "va_list arg_list;\n",
    "char buffer[1024];\n",
    "int index = 0;\n",
    "\n",
    "if (format == NULL)\n",
    "return (-1);\n",
    "\n",
    "va_start(arg_list, format);\n",
    "printed_chars = format_reciever(format, f_list, arg_list, buffer, &index);\n",
    "va_end(arg_list);\n",
    "\n",
    "if (index > 0)\n",
    "write(1, buffer, index);\n",
    "\n",
    "return (printed_chars);\n",
    "}\n"
   ]
  },
  {
   "cell_type": "markdown",
   "metadata": {},
   "source": [
    "#### Update print_precent.c"
   ]
  },
  {
   "cell_type": "code",
   "execution_count": 151,
   "metadata": {},
   "outputs": [
    {
     "name": "stdout",
     "output_type": "stream",
     "text": [
      "Overwriting /home/elkomy/alx/printf/print_percent.c\n"
     ]
    }
   ],
   "source": [
    "%%file /home/elkomy/alx/printf/print_percent.c\n",
    "#include \"main.h\"\n",
    "\n",
    "/**\n",
    "* print_percent - Prints a percent symbol\n",
    "* @list: list of arguments (unused)\n",
    "* @buffer: buffer to store the output\n",
    "* @index: index in the buffer\n",
    "* Return: Will return the amount of characters printed.\n",
    "*/\n",
    "int print_percent(va_list list, char *buffer, int *index)\n",
    "{\n",
    "(void)list; /* Avoid unused parameter warning */\n",
    "_putchar('%', buffer, index);\n",
    "return (1);\n",
    "}\n"
   ]
  },
  {
   "cell_type": "markdown",
   "metadata": {},
   "source": [
    "#### Update print_char.c"
   ]
  },
  {
   "cell_type": "code",
   "execution_count": 130,
   "metadata": {},
   "outputs": [
    {
     "name": "stdout",
     "output_type": "stream",
     "text": [
      "Overwriting /home/elkomy/alx/printf/print_char.c\n"
     ]
    }
   ],
   "source": [
    "%%file /home/elkomy/alx/printf/print_char.c\n",
    "#include \"main.h\"\n",
    "\n",
    "/**\n",
    "* print_char - Prints character\n",
    "* @list: list of arguments\n",
    "* @buffer: buffer to store the output\n",
    "* @index: index in the buffer\n",
    "* Return: Will return the amount of characters printed.\n",
    "*/\n",
    "\n",
    "int print_char(va_list list, char *buffer, int *index)\n",
    "{\n",
    "_putchar(va_arg(list, int), buffer, index);\n",
    "return (1);\n",
    "}\n"
   ]
  },
  {
   "cell_type": "markdown",
   "metadata": {},
   "source": [
    "#### Update print_string.c"
   ]
  },
  {
   "cell_type": "code",
   "execution_count": 131,
   "metadata": {},
   "outputs": [
    {
     "name": "stdout",
     "output_type": "stream",
     "text": [
      "Overwriting /home/elkomy/alx/printf/print_string.c\n"
     ]
    }
   ],
   "source": [
    "%%file /home/elkomy/alx/printf/print_string.c\n",
    "#include \"main.h\"\n",
    "\n",
    "/**\n",
    "* print_string - Prints a string\n",
    "* @list: list of arguments\n",
    "* @buffer: buffer to store the output\n",
    "* @index: index in the buffer\n",
    "* Return: Will return the amount of characters printed.\n",
    "*/\n",
    "\n",
    "int print_string(va_list list, char *buffer, int *index)\n",
    "{\n",
    "int i;\n",
    "char *str;\n",
    "\n",
    "str = va_arg(list, char *);\n",
    "if (str == NULL)\n",
    "str = \"(null)\";\n",
    "for (i = 0; str[i] != '\\0'; i++)\n",
    "_putchar(str[i], buffer, index);\n",
    "return (i);\n",
    "}\n"
   ]
  },
  {
   "cell_type": "markdown",
   "metadata": {},
   "source": [
    "#### Update main.h"
   ]
  },
  {
   "cell_type": "code",
   "execution_count": 198,
   "metadata": {},
   "outputs": [
    {
     "name": "stdout",
     "output_type": "stream",
     "text": [
      "Overwriting /home/elkomy/alx/printf/main.h\n"
     ]
    }
   ],
   "source": [
    "%%file /home/elkomy/alx/printf/main.h\n",
    "#ifndef MAIN_H\n",
    "#define MAIN_H\n",
    "\n",
    "#include <stdio.h>\n",
    "#include <unistd.h>\n",
    "#include <stdlib.h>\n",
    "#include <stdarg.h>\n",
    "#include <limits.h>\n",
    "\n",
    "/**\n",
    "* struct convert - defines a structure for symbols and functions\n",
    "* @sym: The operator\n",
    "* @f: The function associated\n",
    "*/\n",
    "struct convert\n",
    "{\n",
    "char *sym;\n",
    "int (*f)(va_list, char *, int *);\n",
    "};\n",
    "typedef struct convert conver_t;\n",
    "\n",
    "int _printf(const char *format, ...);\n",
    "int _putchar(char c, char *buffer, int *index);\n",
    "int format_reciever(const char *format, conver_t f_list[],\n",
    "va_list arg_list, char *buffer, int *index);\n",
    "void handle_percent(const char *format, int *i, conver_t f_list[],\n",
    "va_list arg_list, char *buffer, int *index, int *printed_chars);\n",
    "int print_percent(va_list list, char *buffer, int *index);\n",
    "int print_char(va_list list, char *buffer, int *index);\n",
    "int print_string(va_list list, char *buffer, int *index);\n",
    "int print_int(va_list list, char *buffer, int *index);\n",
    "int print_unsigned(va_list list, char *buffer, int *index);\n",
    "int print_octal(va_list list, char *buffer, int *index);\n",
    "int print_hex(va_list list, char *buffer, int *index);\n",
    "int print_HEX(va_list list, char *buffer, int *index);\n",
    "int print_pointer(va_list list, char *buffer, int *index);\n",
    "int print_binary(va_list list, char *buffer, int *index);\n",
    "\n",
    "#endif /* MAIN_H */\n"
   ]
  },
  {
   "cell_type": "markdown",
   "metadata": {},
   "source": [
    "#### Update print_int.c"
   ]
  },
  {
   "cell_type": "code",
   "execution_count": 199,
   "metadata": {},
   "outputs": [
    {
     "name": "stdout",
     "output_type": "stream",
     "text": [
      "Overwriting /home/elkomy/alx/printf/print_int.c\n"
     ]
    }
   ],
   "source": [
    "%%file /home/elkomy/alx/printf/print_int.c\n",
    "#include \"main.h\"\n",
    "#include <stdarg.h>\n",
    "#include <limits.h>\n",
    "\n",
    "/**\n",
    "* print_int - Prints an integer\n",
    "* @list: list of arguments\n",
    "* @buffer: buffer to store the output\n",
    "* @index: index in the buffer\n",
    "* Return: Will return the number of characters printed\n",
    "*/\n",
    "int print_int(va_list list, char *buffer, int *index)\n",
    "{\n",
    "int num = va_arg(list, int);\n",
    "char temp[12];\n",
    "int i = 0, len = 0, negative = 0;\n",
    "\n",
    "if (num == INT_MIN)\n",
    "{\n",
    "_putchar('-', buffer, index);\n",
    "_putchar('2', buffer, index);\n",
    "num = 147483648; /* INT_MIN = -2147483648, so we need to handle 147483648 */\n",
    "negative = 2; /*  Count '-' and '2' */\n",
    "}\n",
    "else if (num < 0)\n",
    "{\n",
    "_putchar('-', buffer, index);\n",
    "num = -num;\n",
    "negative = 1;\n",
    "}\n",
    "\n",
    "if (num == 0)\n",
    "{\n",
    "_putchar('0', buffer, index);\n",
    "return (1);\n",
    "}\n",
    "\n",
    "while (num != 0)\n",
    "{\n",
    "temp[i++] = (num % 10) + '0';\n",
    "num /= 10;\n",
    "}\n",
    "\n",
    "while (i--)\n",
    "{\n",
    "_putchar(temp[i], buffer, index);\n",
    "len++;\n",
    "}\n",
    "\n",
    "return (len + negative);\n",
    "}\n"
   ]
  },
  {
   "cell_type": "markdown",
   "metadata": {},
   "source": [
    "#### Update print_unsigned.c"
   ]
  },
  {
   "cell_type": "code",
   "execution_count": 200,
   "metadata": {},
   "outputs": [
    {
     "name": "stdout",
     "output_type": "stream",
     "text": [
      "Overwriting /home/elkomy/alx/printf/print_unsigned.c\n"
     ]
    }
   ],
   "source": [
    "%%file /home/elkomy/alx/printf/print_unsigned.c\n",
    "#include \"main.h\"\n",
    "#include <stdarg.h>\n",
    "\n",
    "/**\n",
    "* print_unsigned - Prints an unsigned integer\n",
    "* @list: list of arguments\n",
    "* @buffer: buffer to store the output\n",
    "* @index: index in the buffer\n",
    "* Return: Will return the number of characters printed\n",
    "*/\n",
    "\n",
    "int print_unsigned(va_list list, char *buffer, int *index)\n",
    "{\n",
    "unsigned int num = va_arg(list, unsigned int);\n",
    "char temp[12];\n",
    "int i = 0, len = 0;\n",
    "\n",
    "if (num == 0)\n",
    "{\n",
    "_putchar('0', buffer, index);\n",
    "return (1);\n",
    "}\n",
    "\n",
    "while (num != 0)\n",
    "{\n",
    "temp[i++] = (num % 10) + '0';\n",
    "num /= 10;\n",
    "}\n",
    "\n",
    "while (i--)\n",
    "_putchar(temp[i], buffer, index);\n",
    "\n",
    "return (len + i);\n",
    "}\n"
   ]
  },
  {
   "cell_type": "markdown",
   "metadata": {},
   "source": [
    "#### Update print_octal.c"
   ]
  },
  {
   "cell_type": "code",
   "execution_count": 201,
   "metadata": {},
   "outputs": [
    {
     "name": "stdout",
     "output_type": "stream",
     "text": [
      "Overwriting /home/elkomy/alx/printf/print_octal.c\n"
     ]
    }
   ],
   "source": [
    "%%file /home/elkomy/alx/printf/print_octal.c\n",
    "#include \"main.h\"\n",
    "\n",
    "/**\n",
    "* print_octal - Prints an unsigned integer in octal notation\n",
    "* @list: list of arguments\n",
    "* @buffer: buffer to store the output\n",
    "* @index: index in the buffer\n",
    "* Return: Will return the number of characters printed\n",
    "*/\n",
    "\n",
    "int print_octal(va_list list, char *buffer, int *index)\n",
    "{\n",
    "unsigned int num = va_arg(list, unsigned int);\n",
    "char temp[12];\n",
    "int i = 0, len = 0;\n",
    "\n",
    "if (num == 0)\n",
    "{\n",
    "_putchar('0', buffer, index);\n",
    "return (1);\n",
    "}\n",
    "\n",
    "while (num != 0)\n",
    "{\n",
    "temp[i++] = (num % 8) + '0';\n",
    "num /= 8;\n",
    "}\n",
    "\n",
    "while (i--)\n",
    "_putchar(temp[i], buffer, index);\n",
    "\n",
    "return (len + i);\n",
    "}\n"
   ]
  },
  {
   "cell_type": "markdown",
   "metadata": {},
   "source": [
    "#### Update print_hex.c"
   ]
  },
  {
   "cell_type": "code",
   "execution_count": 202,
   "metadata": {},
   "outputs": [
    {
     "name": "stdout",
     "output_type": "stream",
     "text": [
      "Overwriting /home/elkomy/alx/printf/print_hex.c\n"
     ]
    }
   ],
   "source": [
    "%%file /home/elkomy/alx/printf/print_hex.c\n",
    "#include \"main.h\"\n",
    "#include <stdarg.h>\n",
    "\n",
    "/**\n",
    "* print_hex - Prints an unsigned integer in hexadecimal notation (lowercase)\n",
    "* @list: list of arguments\n",
    "* @buffer: buffer to store the output\n",
    "* @index: index in the buffer\n",
    "* Return: Will return the number of characters printed\n",
    "*/\n",
    "int print_hex(va_list list, char *buffer, int *index)\n",
    "{\n",
    "unsigned int num = va_arg(list, unsigned int);\n",
    "char temp[12];\n",
    "int i = 0, len = 0;\n",
    "\n",
    "if (num == 0)\n",
    "{\n",
    "_putchar('0', buffer, index);\n",
    "return (1);\n",
    "}\n",
    "\n",
    "while (num != 0)\n",
    "{\n",
    "temp[i++] = (num % 16) + (num % 16 < 10 ? '0' : 'a' - 10);\n",
    "num /= 16;\n",
    "}\n",
    "\n",
    "while (i--)\n",
    "_putchar(temp[i], buffer, index);\n",
    "\n",
    "return (len + i);\n",
    "}\n"
   ]
  },
  {
   "cell_type": "markdown",
   "metadata": {},
   "source": [
    "#### Update print_HEX.c"
   ]
  },
  {
   "cell_type": "code",
   "execution_count": 203,
   "metadata": {},
   "outputs": [
    {
     "name": "stdout",
     "output_type": "stream",
     "text": [
      "Overwriting /home/elkomy/alx/printf/print_HEX.c\n"
     ]
    }
   ],
   "source": [
    "%%file /home/elkomy/alx/printf/print_HEX.c\n",
    "#include \"main.h\"\n",
    "#include <stdarg.h>\n",
    "\n",
    "/**\n",
    "* print_HEX - Prints an unsigned integer in hexadecimal notation (uppercase)\n",
    "* @list: list of arguments\n",
    "* @buffer: buffer to store the output\n",
    "* @index: index in the buffer\n",
    "* Return: Will return the number of characters printed\n",
    "*/\n",
    "\n",
    "int print_HEX(va_list list, char *buffer, int *index)\n",
    "{\n",
    "unsigned int num = va_arg(list, unsigned int);\n",
    "char temp[12];\n",
    "int i = 0, len = 0;\n",
    "\n",
    "if (num == 0)\n",
    "{\n",
    "_putchar('0', buffer, index);\n",
    "return (1);\n",
    "}\n",
    "\n",
    "while (num != 0)\n",
    "{\n",
    "temp[i++] = (num % 16) + (num % 16 < 10 ? '0' : 'A' - 10);\n",
    "num /= 16;\n",
    "}\n",
    "\n",
    "while (i--)\n",
    "_putchar(temp[i], buffer, index);\n",
    "\n",
    "return (len + i);\n",
    "}\n"
   ]
  },
  {
   "cell_type": "markdown",
   "metadata": {},
   "source": [
    "#### Update print_pointer.c"
   ]
  },
  {
   "cell_type": "code",
   "execution_count": 204,
   "metadata": {},
   "outputs": [
    {
     "name": "stdout",
     "output_type": "stream",
     "text": [
      "Overwriting /home/elkomy/alx/printf/print_pointer.c\n"
     ]
    }
   ],
   "source": [
    "%%file /home/elkomy/alx/printf/print_pointer.c\n",
    "#include \"main.h\"\n",
    "#include <stdarg.h>\n",
    "\n",
    "/**\n",
    "* print_pointer - Prints a pointer address\n",
    "* @list: list of arguments\n",
    "* @buffer: buffer to store the output\n",
    "* @index: index in the buffer\n",
    "* Return: Will return the number of characters printed\n",
    "*/\n",
    "int print_pointer(va_list list, char *buffer, int *index)\n",
    "{\n",
    "unsigned long int addr = (unsigned long int)va_arg(list, void *);\n",
    "char temp[17];\n",
    "int i = 0, len = 0;\n",
    "\n",
    "if (addr == 0)\n",
    "{\n",
    "_putchar('(', buffer, index);\n",
    "_putchar('n', buffer, index);\n",
    "_putchar('i', buffer, index);\n",
    "_putchar('l', buffer, index);\n",
    "_putchar(')', buffer, index);\n",
    "return (5);\n",
    "}\n",
    "\n",
    "while (addr != 0)\n",
    "{\n",
    "temp[i++] = (addr % 16) + (addr % 16 < 10 ? '0' : 'a' - 10);\n",
    "addr /= 16;\n",
    "}\n",
    "\n",
    "_putchar('0', buffer, index);\n",
    "_putchar('x', buffer, index);\n",
    "len += 2;\n",
    "\n",
    "while (i--)\n",
    "_putchar(temp[i], buffer, index);\n",
    "\n",
    "return (len + i);\n",
    "}\n"
   ]
  },
  {
   "cell_type": "markdown",
   "metadata": {},
   "source": [
    "#### Update print_binary.c"
   ]
  },
  {
   "cell_type": "code",
   "execution_count": 205,
   "metadata": {},
   "outputs": [
    {
     "name": "stdout",
     "output_type": "stream",
     "text": [
      "Overwriting /home/elkomy/alx/printf/print_binary.c\n"
     ]
    }
   ],
   "source": [
    "%%file /home/elkomy/alx/printf/print_binary.c\n",
    "#include \"main.h\"\n",
    "#include <stdarg.h>\n",
    "\n",
    "/**\n",
    "* print_binary - Converts an unsigned int to binary\n",
    "* @list: list of arguments\n",
    "* @buffer: buffer to store the output\n",
    "* @index: index in the buffer\n",
    "* Return: Will return the number of characters printed\n",
    "*/\n",
    "int print_binary(va_list list, char *buffer, int *index)\n",
    "{\n",
    "unsigned int num = va_arg(list, unsigned int);\n",
    "char bin_str[32];\n",
    "int i = 0, len = 0;\n",
    "\n",
    "if (num == 0)\n",
    "{\n",
    "_putchar('0', buffer, index);\n",
    "return (1);\n",
    "}\n",
    "\n",
    "while (num != 0)\n",
    "{\n",
    "bin_str[i++] = (num % 2) + '0';\n",
    "num /= 2;\n",
    "}\n",
    "\n",
    "while (i--)\n",
    "{\n",
    "_putchar(bin_str[i], buffer, index);\n",
    "len++;\n",
    "}\n",
    "\n",
    "return (len);\n",
    "}\n"
   ]
  },
  {
   "cell_type": "markdown",
   "metadata": {},
   "source": [
    "#### Update _putchar.c"
   ]
  },
  {
   "cell_type": "code",
   "execution_count": 206,
   "metadata": {},
   "outputs": [
    {
     "name": "stdout",
     "output_type": "stream",
     "text": [
      "Overwriting /home/elkomy/alx/printf/_putchar.c\n"
     ]
    }
   ],
   "source": [
    "%%file /home/elkomy/alx/printf/_putchar.c\n",
    "#include <unistd.h>\n",
    "\n",
    "/**\n",
    "* _putchar - writes a character to stdout\n",
    "* @c: character to write\n",
    "* @buffer: the buffer to write the character to\n",
    "* @index: the index in the buffer\n",
    "*\n",
    "* Return: On success 1.\n",
    "* On error, -1 is returned, and errno is set appropriately.\n",
    "*/\n",
    "int _putchar(char c, char *buffer, int *index)\n",
    "{\n",
    "buffer[(*index)++] = c;\n",
    "if (*index >= 1024)\n",
    "{\n",
    "write(1, buffer, *index);\n",
    "*index = 0;\n",
    "}\n",
    "return (1);\n",
    "}\n"
   ]
  },
  {
   "cell_type": "markdown",
   "metadata": {},
   "source": [
    "#### Update format_reciever.c"
   ]
  },
  {
   "cell_type": "code",
   "execution_count": 207,
   "metadata": {},
   "outputs": [
    {
     "name": "stdout",
     "output_type": "stream",
     "text": [
      "Overwriting /home/elkomy/alx/printf/format_reciever.c\n"
     ]
    }
   ],
   "source": [
    "%%file /home/elkomy/alx/printf/format_reciever.c\n",
    "#include \"main.h\"\n",
    "#include <stdarg.h>\n",
    "/**\n",
    "* format_reciever - Receives the format and\n",
    "* the argument list, then calls the appropriate function\n",
    "* @format: The format string\n",
    "* @f_list: List of conversion specifiers and associated functions\n",
    "* @arg_list: Argument list\n",
    "* @buffer: Buffer to store the output\n",
    "* @index: Index in the buffer\n",
    "* Return: The number of characters printed\n",
    "*/\n",
    "\n",
    "int format_reciever(const char *format, conver_t f_list[], va_list arg_list,\n",
    "char *buffer, int *index)\n",
    "{\n",
    "int i, printed_chars = 0;\n",
    "\n",
    "for (i = 0; format[i] != '\\0'; i++)\n",
    "{\n",
    "if (format[i] == '%')\n",
    "{\n",
    "handle_percent(format, &i, f_list, arg_list, buffer, index, &printed_chars);\n",
    "if (printed_chars == -1)\n",
    "{\n",
    "return (-1);\n",
    "}\n",
    "}\n",
    "else\n",
    "{\n",
    "_putchar(format[i], buffer, index);\n",
    "printed_chars++;\n",
    "}\n",
    "}\n",
    "if (*index > 0)\n",
    "{\n",
    "write(1, buffer, *index);\n",
    "}\n",
    "return (printed_chars);\n",
    "}"
   ]
  },
  {
   "cell_type": "markdown",
   "metadata": {},
   "source": [
    "#### Update main.c"
   ]
  },
  {
   "cell_type": "code",
   "execution_count": 214,
   "metadata": {},
   "outputs": [
    {
     "name": "stdout",
     "output_type": "stream",
     "text": [
      "Overwriting /home/elkomy/alx/printf/tests/main.c\n"
     ]
    }
   ],
   "source": [
    "%%file /home/elkomy/alx/printf/tests/main.c\n",
    "#include \"../main.h\"\n",
    "\n",
    "/**\n",
    "* main - Entry point\n",
    "*\n",
    "* Return: Always 0\n",
    "*/\n",
    "int main(void)\n",
    "{\n",
    "_printf(\"%b\\n\", 98);\n",
    "return (0);\n",
    "}\n"
   ]
  },
  {
   "cell_type": "markdown",
   "metadata": {},
   "source": [
    "#### Update main.c"
   ]
  },
  {
   "cell_type": "code",
   "execution_count": 226,
   "metadata": {},
   "outputs": [
    {
     "name": "stdout",
     "output_type": "stream",
     "text": [
      "Overwriting /home/elkomy/alx/printf/tests/main.c\n"
     ]
    }
   ],
   "source": [
    "%%file /home/elkomy/alx/printf/tests/main.c\n",
    "#include <limits.h>\n",
    "#include <stdio.h>\n",
    "#include \"../main.h\"\n",
    "\n",
    "/**\n",
    "* main - Entry point\n",
    "*\n",
    "* Return: Always 0\n",
    "*/\n",
    "int main(void)\n",
    "{\n",
    "int len;\n",
    "int len2;\n",
    "unsigned int ui;\n",
    "void *addr;\n",
    "\n",
    "len = _printf(\"Let's try to printf a simple sentence.\\n\");\n",
    "len2 = printf(\"Let's try to printf a simple sentence.\\n\");\n",
    "ui = (unsigned int)INT_MAX + 1024;\n",
    "addr = (void *)0x7ffe637541f0;\n",
    "_printf(\"Length:[%d, %i]\\n\", len, len);\n",
    "printf(\"Length:[%d, %i]\\n\", len2, len2);\n",
    "_printf(\"Negative:[%d]\\n\", -762534);\n",
    "printf(\"Negative:[%d]\\n\", -762534);\n",
    "_printf(\"Unsigned:[%u]\\n\", ui);\n",
    "printf(\"Unsigned:[%u]\\n\", ui);\n",
    "_printf(\"Unsigned octal:[%o]\\n\", ui);\n",
    "printf(\"Unsigned octal:[%o]\\n\", ui);\n",
    "_printf(\"Unsigned hexadecimal:[%x, %X]\\n\", ui, ui);\n",
    "printf(\"Unsigned hexadecimal:[%x, %X]\\n\", ui, ui);\n",
    "_printf(\"Character:[%c]\\n\", 'H');\n",
    "printf(\"Character:[%c]\\n\", 'H');\n",
    "_printf(\"String:[%s]\\n\", \"I am a string !\");\n",
    "printf(\"String:[%s]\\n\", \"I am a string !\");\n",
    "_printf(\"Address:[%p]\\n\", addr);\n",
    "printf(\"Address:[%p]\\n\", addr);\n",
    "len = _printf(\"Percent:[%%]\\n\");\n",
    "len2 = printf(\"Percent:[%%]\\n\");\n",
    "_printf(\"Len:[%d]\\n\", len);\n",
    "printf(\"Len:[%d]\\n\", len2);\n",
    "_printf(\"Unknown:[%r]\\n\");\n",
    "printf(\"Unknown:[%r]\\n\");\n",
    "_printf(\"Binary:[%b]\\n\", 98);\n",
    "printf(\"Binary:[1100010]\\n\");\n",
    "return (0);\n",
    "}"
   ]
  },
  {
   "cell_type": "markdown",
   "metadata": {},
   "source": [
    "#### Update handle_percent.c"
   ]
  },
  {
   "cell_type": "code",
   "execution_count": 227,
   "metadata": {},
   "outputs": [
    {
     "name": "stdout",
     "output_type": "stream",
     "text": [
      "Overwriting /home/elkomy/alx/printf/handle_percent.c\n"
     ]
    }
   ],
   "source": [
    "%%file /home/elkomy/alx/printf/handle_percent.c\n",
    "\n",
    "#include \"main.h\"\n",
    "\n",
    "/**\n",
    "* handle_percent - Handles the percent format\n",
    "* @format: The format string\n",
    "* @i: Pointer to the current position in the format string\n",
    "* @f_list: List of conversion specifiers and associated functions\n",
    "* @arg_list: Argument list\n",
    "* @buffer: Buffer to store the output\n",
    "* @index: Index in the buffer\n",
    "* @printed_chars: Pointer to the total number of characters printed\n",
    "*/\n",
    "void handle_percent(const char *format, int *i, conver_t f_list[],\n",
    "va_list arg_list, char *buffer, int *index,\n",
    "int *printed_chars)\n",
    "{\n",
    "int j, found = 0;\n",
    "for (j = 0; f_list[j].sym != NULL; j++)\n",
    "{\n",
    "if (format[*i + 1] == f_list[j].sym[0])\n",
    "{\n",
    "*printed_chars += f_list[j].f(arg_list, buffer, index);\n",
    "(*i)++;\n",
    "found = 1;\n",
    "break;\n",
    "}\n",
    "}\n",
    "if (!found)\n",
    "{\n",
    "if (format[*i + 1] != '\\0')\n",
    "{\n",
    "_putchar(format[*i], buffer, index);\n",
    "_putchar(format[*i + 1], buffer, index);\n",
    "*printed_chars += 2;\n",
    "(*i)++;\n",
    "}\n",
    "else\n",
    "{\n",
    "*printed_chars = -1;\n",
    "}\n",
    "}\n",
    "}\n"
   ]
  },
  {
   "cell_type": "markdown",
   "metadata": {},
   "source": [
    "#### Update print_string.c"
   ]
  },
  {
   "cell_type": "code",
   "execution_count": 228,
   "metadata": {},
   "outputs": [
    {
     "name": "stdout",
     "output_type": "stream",
     "text": [
      "Overwriting /home/elkomy/alx/printf/print_string.c\n"
     ]
    }
   ],
   "source": [
    "%%file /home/elkomy/alx/printf/print_string.c\n",
    "#include \"main.h\"\n",
    "\n",
    "/**\n",
    "* print_string - Prints a string\n",
    "* @list: list of arguments\n",
    "* @buffer: buffer to store the output\n",
    "* @index: index in the buffer\n",
    "* Return: Will return the amount of characters printed.\n",
    "*/\n",
    "int print_string(va_list list, char *buffer, int *index)\n",
    "{\n",
    "int i;\n",
    "char *str;\n",
    "\n",
    "(void)buffer; /* Avoid unused parameter warning */\n",
    "(void)index;  /* Avoid unused parameter warning */\n",
    "\n",
    "str = va_arg(list, char *);\n",
    "if (str == NULL)\n",
    "{\n",
    "str = \"(null)\";\n",
    "}\n",
    "for (i = 0; str[i] != '\\0'; i++)\n",
    "{\n",
    "_putchar(str[i], buffer, index);\n",
    "}\n",
    "return (i);\n",
    "}\n"
   ]
  },
  {
   "cell_type": "markdown",
   "metadata": {},
   "source": [
    "#### test betty"
   ]
  },
  {
   "cell_type": "code",
   "execution_count": 250,
   "metadata": {},
   "outputs": [
    {
     "name": "stdout",
     "output_type": "stream",
     "text": [
      "/home/elkomy/alx/printf/_puts.c:10: WARNING: please, no spaces at the start of a line\n",
      "/home/elkomy/alx/printf/_puts.c:12: WARNING: please, no spaces at the start of a line\n",
      "/home/elkomy/alx/printf/_puts.c:13: ERROR: code indent should use tabs where possible\n",
      "/home/elkomy/alx/printf/_puts.c:13: WARNING: please, no spaces at the start of a line\n",
      "/home/elkomy/alx/printf/_puts.c:15: WARNING: please, no spaces at the start of a line\n",
      "total: 1 errors, 4 warnings, 17 lines checked\n",
      "/home/elkomy/alx/printf/print_binary.c:10: WARNING: please, no spaces at the start of a line\n",
      "/home/elkomy/alx/printf/print_binary.c:11: WARNING: please, no spaces at the start of a line\n",
      "/home/elkomy/alx/printf/print_binary.c:12: WARNING: please, no spaces at the start of a line\n",
      "/home/elkomy/alx/printf/print_binary.c:14: WARNING: please, no spaces at the start of a line\n",
      "/home/elkomy/alx/printf/print_binary.c:15: WARNING: please, no spaces at the start of a line\n",
      "/home/elkomy/alx/printf/print_binary.c:16: ERROR: code indent should use tabs where possible\n",
      "/home/elkomy/alx/printf/print_binary.c:16: WARNING: please, no spaces at the start of a line\n",
      "/home/elkomy/alx/printf/print_binary.c:18: WARNING: please, no spaces at the start of a line\n",
      "/home/elkomy/alx/printf/print_binary.c:19: WARNING: please, no spaces at the start of a line\n",
      "/home/elkomy/alx/printf/print_binary.c:32: WARNING: please, no spaces at the start of a line\n",
      "/home/elkomy/alx/printf/print_binary.c:33: WARNING: please, no spaces at the start of a line\n",
      "/home/elkomy/alx/printf/print_binary.c:34: WARNING: please, no spaces at the start of a line\n",
      "/home/elkomy/alx/printf/print_binary.c:36: WARNING: please, no spaces at the start of a line\n",
      "/home/elkomy/alx/printf/print_binary.c:37: WARNING: please, no spaces at the start of a line\n",
      "/home/elkomy/alx/printf/print_binary.c:39: WARNING: please, no spaces at the start of a line\n",
      "/home/elkomy/alx/printf/print_binary.c:40: ERROR: code indent should use tabs where possible\n",
      "/home/elkomy/alx/printf/print_binary.c:40: WARNING: please, no spaces at the start of a line\n",
      "/home/elkomy/alx/printf/print_binary.c:41: ERROR: code indent should use tabs where possible\n",
      "/home/elkomy/alx/printf/print_binary.c:41: WARNING: please, no spaces at the start of a line\n",
      "/home/elkomy/alx/printf/print_binary.c:42: WARNING: please, no spaces at the start of a line\n",
      "/home/elkomy/alx/printf/print_binary.c:44: WARNING: please, no spaces at the start of a line\n",
      "total: 3 errors, 18 warnings, 45 lines checked\n",
      "/home/elkomy/alx/printf/tests/main.c:10: WARNING: please, no spaces at the start of a line\n",
      "/home/elkomy/alx/printf/tests/main.c:11: WARNING: please, no spaces at the start of a line\n",
      "total: 0 errors, 2 warnings, 14 lines checked\n",
      "/home/elkomy/alx/printf/main.h:20: WARNING: please, no spaces at the start of a line\n",
      "/home/elkomy/alx/printf/main.h:21: WARNING: please, no spaces at the start of a line\n",
      "total: 0 errors, 2 warnings, 38 lines checked\n",
      "_printf\n",
      "_putchar\n",
      "_puts\n",
      "format_reciever\n",
      "print_HEX\n",
      "print_binary\n",
      "convert\n",
      "print_hex\n",
      "print_int\n",
      "print_octal\n",
      "print_pointer\n",
      "print_unsigned\n",
      "main\n",
      "struct convert\n"
     ]
    }
   ],
   "source": [
    "%%bash\n",
    "betty-style /home/elkomy/alx/printf/*.c /home/elkomy/alx/printf/tests/*.c /home/elkomy/alx/printf/*.h\n",
    "betty-doc /home/elkomy/alx/printf/*.c /home/elkomy/alx/printf/tests/*.c /home/elkomy/alx/printf/*.h\n"
   ]
  },
  {
   "cell_type": "markdown",
   "metadata": {},
   "source": [
    "#### compile"
   ]
  },
  {
   "cell_type": "code",
   "execution_count": 269,
   "metadata": {},
   "outputs": [
    {
     "name": "stdout",
     "output_type": "stream",
     "text": [
      "\n",
      "========== /home/elkomy/alx/printf/_printf.c ==========\n"
     ]
    },
    {
     "name": "stdout",
     "output_type": "stream",
     "text": [
      "_printf\n"
     ]
    },
    {
     "name": "stderr",
     "output_type": "stream",
     "text": [
      "/usr/bin/ld: /tmp/ccSY9rRy.o: in function `_printf':\n",
      "_printf.c:(.text+0x80): undefined reference to `print_percent'\n",
      "/usr/bin/ld: _printf.c:(.text+0x9c): undefined reference to `print_char'\n",
      "/usr/bin/ld: _printf.c:(.text+0xb8): undefined reference to `print_string'\n",
      "/usr/bin/ld: _printf.c:(.text+0xd4): undefined reference to `print_integer'\n",
      "/usr/bin/ld: _printf.c:(.text+0xf0): undefined reference to `print_integer'\n",
      "collect2: error: ld returned 1 exit status\n",
      "bash: line 3: ./printf: No such file or directory\n"
     ]
    },
    {
     "ename": "CalledProcessError",
     "evalue": "Command 'b'betty /home/elkomy/alx/printf/_printf.c\\ngcc -Wall -Werror -Wextra -pedantic -std=gnu89 -Wno-format /home/elkomy/alx/printf/*.c /home/elkomy/alx/printf/tests/main.c -o /home/elkomy/alx/printf/printf\\n./printf\\n\\n'' returned non-zero exit status 127.",
     "output_type": "error",
     "traceback": [
      "\u001b[0;31m---------------------------------------------------------------------------\u001b[0m",
      "\u001b[0;31mCalledProcessError\u001b[0m                        Traceback (most recent call last)",
      "Cell \u001b[0;32mIn[269], line 1\u001b[0m\n\u001b[0;32m----> 1\u001b[0m \u001b[43mget_ipython\u001b[49m\u001b[43m(\u001b[49m\u001b[43m)\u001b[49m\u001b[38;5;241;43m.\u001b[39;49m\u001b[43mrun_cell_magic\u001b[49m\u001b[43m(\u001b[49m\u001b[38;5;124;43m'\u001b[39;49m\u001b[38;5;124;43mbash\u001b[39;49m\u001b[38;5;124;43m'\u001b[39;49m\u001b[43m,\u001b[49m\u001b[43m \u001b[49m\u001b[38;5;124;43m'\u001b[39;49m\u001b[38;5;124;43m'\u001b[39;49m\u001b[43m,\u001b[49m\u001b[43m \u001b[49m\u001b[38;5;124;43m'\u001b[39;49m\u001b[38;5;124;43mbetty /home/elkomy/alx/printf/_printf.c\u001b[39;49m\u001b[38;5;130;43;01m\\n\u001b[39;49;00m\u001b[38;5;124;43mgcc -Wall -Werror -Wextra -pedantic -std=gnu89 -Wno-format /home/elkomy/alx/printf/*.c /home/elkomy/alx/printf/tests/main.c -o /home/elkomy/alx/printf/printf\u001b[39;49m\u001b[38;5;130;43;01m\\n\u001b[39;49;00m\u001b[38;5;124;43m./printf\u001b[39;49m\u001b[38;5;130;43;01m\\n\u001b[39;49;00m\u001b[38;5;130;43;01m\\n\u001b[39;49;00m\u001b[38;5;124;43m'\u001b[39;49m\u001b[43m)\u001b[49m\n",
      "File \u001b[0;32m~/anaconda3/envs/alxse/lib/python3.12/site-packages/IPython/core/interactiveshell.py:2541\u001b[0m, in \u001b[0;36mInteractiveShell.run_cell_magic\u001b[0;34m(self, magic_name, line, cell)\u001b[0m\n\u001b[1;32m   2539\u001b[0m \u001b[38;5;28;01mwith\u001b[39;00m \u001b[38;5;28mself\u001b[39m\u001b[38;5;241m.\u001b[39mbuiltin_trap:\n\u001b[1;32m   2540\u001b[0m     args \u001b[38;5;241m=\u001b[39m (magic_arg_s, cell)\n\u001b[0;32m-> 2541\u001b[0m     result \u001b[38;5;241m=\u001b[39m \u001b[43mfn\u001b[49m\u001b[43m(\u001b[49m\u001b[38;5;241;43m*\u001b[39;49m\u001b[43margs\u001b[49m\u001b[43m,\u001b[49m\u001b[43m \u001b[49m\u001b[38;5;241;43m*\u001b[39;49m\u001b[38;5;241;43m*\u001b[39;49m\u001b[43mkwargs\u001b[49m\u001b[43m)\u001b[49m\n\u001b[1;32m   2543\u001b[0m \u001b[38;5;66;03m# The code below prevents the output from being displayed\u001b[39;00m\n\u001b[1;32m   2544\u001b[0m \u001b[38;5;66;03m# when using magics with decorator @output_can_be_silenced\u001b[39;00m\n\u001b[1;32m   2545\u001b[0m \u001b[38;5;66;03m# when the last Python token in the expression is a ';'.\u001b[39;00m\n\u001b[1;32m   2546\u001b[0m \u001b[38;5;28;01mif\u001b[39;00m \u001b[38;5;28mgetattr\u001b[39m(fn, magic\u001b[38;5;241m.\u001b[39mMAGIC_OUTPUT_CAN_BE_SILENCED, \u001b[38;5;28;01mFalse\u001b[39;00m):\n",
      "File \u001b[0;32m~/anaconda3/envs/alxse/lib/python3.12/site-packages/IPython/core/magics/script.py:155\u001b[0m, in \u001b[0;36mScriptMagics._make_script_magic.<locals>.named_script_magic\u001b[0;34m(line, cell)\u001b[0m\n\u001b[1;32m    153\u001b[0m \u001b[38;5;28;01melse\u001b[39;00m:\n\u001b[1;32m    154\u001b[0m     line \u001b[38;5;241m=\u001b[39m script\n\u001b[0;32m--> 155\u001b[0m \u001b[38;5;28;01mreturn\u001b[39;00m \u001b[38;5;28;43mself\u001b[39;49m\u001b[38;5;241;43m.\u001b[39;49m\u001b[43mshebang\u001b[49m\u001b[43m(\u001b[49m\u001b[43mline\u001b[49m\u001b[43m,\u001b[49m\u001b[43m \u001b[49m\u001b[43mcell\u001b[49m\u001b[43m)\u001b[49m\n",
      "File \u001b[0;32m~/anaconda3/envs/alxse/lib/python3.12/site-packages/IPython/core/magics/script.py:315\u001b[0m, in \u001b[0;36mScriptMagics.shebang\u001b[0;34m(self, line, cell)\u001b[0m\n\u001b[1;32m    310\u001b[0m \u001b[38;5;28;01mif\u001b[39;00m args\u001b[38;5;241m.\u001b[39mraise_error \u001b[38;5;129;01mand\u001b[39;00m p\u001b[38;5;241m.\u001b[39mreturncode \u001b[38;5;241m!=\u001b[39m \u001b[38;5;241m0\u001b[39m:\n\u001b[1;32m    311\u001b[0m     \u001b[38;5;66;03m# If we get here and p.returncode is still None, we must have\u001b[39;00m\n\u001b[1;32m    312\u001b[0m     \u001b[38;5;66;03m# killed it but not yet seen its return code. We don't wait for it,\u001b[39;00m\n\u001b[1;32m    313\u001b[0m     \u001b[38;5;66;03m# in case it's stuck in uninterruptible sleep. -9 = SIGKILL\u001b[39;00m\n\u001b[1;32m    314\u001b[0m     rc \u001b[38;5;241m=\u001b[39m p\u001b[38;5;241m.\u001b[39mreturncode \u001b[38;5;129;01mor\u001b[39;00m \u001b[38;5;241m-\u001b[39m\u001b[38;5;241m9\u001b[39m\n\u001b[0;32m--> 315\u001b[0m     \u001b[38;5;28;01mraise\u001b[39;00m CalledProcessError(rc, cell)\n",
      "\u001b[0;31mCalledProcessError\u001b[0m: Command 'b'betty /home/elkomy/alx/printf/_printf.c\\ngcc -Wall -Werror -Wextra -pedantic -std=gnu89 -Wno-format /home/elkomy/alx/printf/*.c /home/elkomy/alx/printf/tests/main.c -o /home/elkomy/alx/printf/printf\\n./printf\\n\\n'' returned non-zero exit status 127."
     ]
    }
   ],
   "source": [
    "\n",
    "%%bash\n",
    "betty /home/elkomy/alx/printf/_printf.c\n",
    "gcc -Wall -Werror -Wextra -pedantic -std=gnu89 -Wno-format /home/elkomy/alx/printf/*.c /home/elkomy/alx/printf/tests/main.c -o /home/elkomy/alx/printf/printf\n",
    "./printf\n",
    "\n"
   ]
  },
  {
   "cell_type": "code",
   "execution_count": 270,
   "metadata": {},
   "outputs": [
    {
     "name": "stdout",
     "output_type": "stream",
     "text": [
      "Writing /home/elkomy/alx/printf/Makefile\n"
     ]
    }
   ],
   "source": [
    "%%file /home/elkomy/alx/printf/Makefile\n",
    "\n",
    "CC = gcc\n",
    "CFLAGS = -Wall -Werror -Wextra -pedantic -std=gnu89\n",
    "SRC = _printf.c print_percent.c print_char.c print_string.c print_integer.c print_binary.c _putchar.c format_reciever.c _puts.c\n",
    "OBJ = $(SRC:.c=.o)\n",
    "TARGET = printf\n",
    "\n",
    "all: $(TARGET)\n",
    "\n",
    "$(TARGET): $(OBJ)\n",
    "\t$(CC) $(CFLAGS) -o $(TARGET) $(OBJ)\n",
    "\n",
    "clean:\n",
    "\trm -f $(OBJ) $(TARGET)\n"
   ]
  },
  {
   "cell_type": "code",
   "execution_count": 272,
   "metadata": {},
   "outputs": [
    {
     "name": "stdout",
     "output_type": "stream",
     "text": [
      "rm -f _printf.o print_percent.o print_char.o print_string.o print_integer.o print_binary.o _putchar.o format_reciever.o _puts.o printf\n"
     ]
    }
   ],
   "source": [
    "%%bash\n",
    "make clean"
   ]
  },
  {
   "cell_type": "code",
   "execution_count": 271,
   "metadata": {},
   "outputs": [
    {
     "name": "stdout",
     "output_type": "stream",
     "text": [
      "gcc -Wall -Werror -Wextra -pedantic -std=gnu89   -c -o _printf.o _printf.c\n"
     ]
    },
    {
     "name": "stderr",
     "output_type": "stream",
     "text": [
      "make: *** No rule to make target 'print_percent.o', needed by 'printf'.  Stop.\n"
     ]
    },
    {
     "ename": "CalledProcessError",
     "evalue": "Command 'b'make\\n'' returned non-zero exit status 2.",
     "output_type": "error",
     "traceback": [
      "\u001b[0;31m---------------------------------------------------------------------------\u001b[0m",
      "\u001b[0;31mCalledProcessError\u001b[0m                        Traceback (most recent call last)",
      "Cell \u001b[0;32mIn[271], line 1\u001b[0m\n\u001b[0;32m----> 1\u001b[0m \u001b[43mget_ipython\u001b[49m\u001b[43m(\u001b[49m\u001b[43m)\u001b[49m\u001b[38;5;241;43m.\u001b[39;49m\u001b[43mrun_cell_magic\u001b[49m\u001b[43m(\u001b[49m\u001b[38;5;124;43m'\u001b[39;49m\u001b[38;5;124;43mbash\u001b[39;49m\u001b[38;5;124;43m'\u001b[39;49m\u001b[43m,\u001b[49m\u001b[43m \u001b[49m\u001b[38;5;124;43m'\u001b[39;49m\u001b[38;5;124;43m'\u001b[39;49m\u001b[43m,\u001b[49m\u001b[43m \u001b[49m\u001b[38;5;124;43m'\u001b[39;49m\u001b[38;5;124;43mmake\u001b[39;49m\u001b[38;5;130;43;01m\\n\u001b[39;49;00m\u001b[38;5;124;43m'\u001b[39;49m\u001b[43m)\u001b[49m\n",
      "File \u001b[0;32m~/anaconda3/envs/alxse/lib/python3.12/site-packages/IPython/core/interactiveshell.py:2541\u001b[0m, in \u001b[0;36mInteractiveShell.run_cell_magic\u001b[0;34m(self, magic_name, line, cell)\u001b[0m\n\u001b[1;32m   2539\u001b[0m \u001b[38;5;28;01mwith\u001b[39;00m \u001b[38;5;28mself\u001b[39m\u001b[38;5;241m.\u001b[39mbuiltin_trap:\n\u001b[1;32m   2540\u001b[0m     args \u001b[38;5;241m=\u001b[39m (magic_arg_s, cell)\n\u001b[0;32m-> 2541\u001b[0m     result \u001b[38;5;241m=\u001b[39m \u001b[43mfn\u001b[49m\u001b[43m(\u001b[49m\u001b[38;5;241;43m*\u001b[39;49m\u001b[43margs\u001b[49m\u001b[43m,\u001b[49m\u001b[43m \u001b[49m\u001b[38;5;241;43m*\u001b[39;49m\u001b[38;5;241;43m*\u001b[39;49m\u001b[43mkwargs\u001b[49m\u001b[43m)\u001b[49m\n\u001b[1;32m   2543\u001b[0m \u001b[38;5;66;03m# The code below prevents the output from being displayed\u001b[39;00m\n\u001b[1;32m   2544\u001b[0m \u001b[38;5;66;03m# when using magics with decorator @output_can_be_silenced\u001b[39;00m\n\u001b[1;32m   2545\u001b[0m \u001b[38;5;66;03m# when the last Python token in the expression is a ';'.\u001b[39;00m\n\u001b[1;32m   2546\u001b[0m \u001b[38;5;28;01mif\u001b[39;00m \u001b[38;5;28mgetattr\u001b[39m(fn, magic\u001b[38;5;241m.\u001b[39mMAGIC_OUTPUT_CAN_BE_SILENCED, \u001b[38;5;28;01mFalse\u001b[39;00m):\n",
      "File \u001b[0;32m~/anaconda3/envs/alxse/lib/python3.12/site-packages/IPython/core/magics/script.py:155\u001b[0m, in \u001b[0;36mScriptMagics._make_script_magic.<locals>.named_script_magic\u001b[0;34m(line, cell)\u001b[0m\n\u001b[1;32m    153\u001b[0m \u001b[38;5;28;01melse\u001b[39;00m:\n\u001b[1;32m    154\u001b[0m     line \u001b[38;5;241m=\u001b[39m script\n\u001b[0;32m--> 155\u001b[0m \u001b[38;5;28;01mreturn\u001b[39;00m \u001b[38;5;28;43mself\u001b[39;49m\u001b[38;5;241;43m.\u001b[39;49m\u001b[43mshebang\u001b[49m\u001b[43m(\u001b[49m\u001b[43mline\u001b[49m\u001b[43m,\u001b[49m\u001b[43m \u001b[49m\u001b[43mcell\u001b[49m\u001b[43m)\u001b[49m\n",
      "File \u001b[0;32m~/anaconda3/envs/alxse/lib/python3.12/site-packages/IPython/core/magics/script.py:315\u001b[0m, in \u001b[0;36mScriptMagics.shebang\u001b[0;34m(self, line, cell)\u001b[0m\n\u001b[1;32m    310\u001b[0m \u001b[38;5;28;01mif\u001b[39;00m args\u001b[38;5;241m.\u001b[39mraise_error \u001b[38;5;129;01mand\u001b[39;00m p\u001b[38;5;241m.\u001b[39mreturncode \u001b[38;5;241m!=\u001b[39m \u001b[38;5;241m0\u001b[39m:\n\u001b[1;32m    311\u001b[0m     \u001b[38;5;66;03m# If we get here and p.returncode is still None, we must have\u001b[39;00m\n\u001b[1;32m    312\u001b[0m     \u001b[38;5;66;03m# killed it but not yet seen its return code. We don't wait for it,\u001b[39;00m\n\u001b[1;32m    313\u001b[0m     \u001b[38;5;66;03m# in case it's stuck in uninterruptible sleep. -9 = SIGKILL\u001b[39;00m\n\u001b[1;32m    314\u001b[0m     rc \u001b[38;5;241m=\u001b[39m p\u001b[38;5;241m.\u001b[39mreturncode \u001b[38;5;129;01mor\u001b[39;00m \u001b[38;5;241m-\u001b[39m\u001b[38;5;241m9\u001b[39m\n\u001b[0;32m--> 315\u001b[0m     \u001b[38;5;28;01mraise\u001b[39;00m CalledProcessError(rc, cell)\n",
      "\u001b[0;31mCalledProcessError\u001b[0m: Command 'b'make\\n'' returned non-zero exit status 2."
     ]
    }
   ],
   "source": [
    "%%bash\n",
    "make"
   ]
  },
  {
   "cell_type": "markdown",
   "metadata": {},
   "source": [
    "#### push to git"
   ]
  },
  {
   "cell_type": "code",
   "execution_count": 231,
   "metadata": {},
   "outputs": [
    {
     "name": "stdout",
     "output_type": "stream",
     "text": [
      "[main 655a149] alx-low_level_programming/0x0D-preprocessor/0-putchar\n",
      " 3 files changed, 207 insertions(+), 377 deletions(-)\n"
     ]
    },
    {
     "name": "stderr",
     "output_type": "stream",
     "text": [
      "To https://github.com/elkomysara/printf\n",
      "   2568875..655a149  main -> main\n"
     ]
    }
   ],
   "source": [
    "%%bash\n",
    "git add .\n",
    "git commit -m \"alx-low_level_programming/0x0D-preprocessor/0-putchar\"\n",
    "git push"
   ]
  },
  {
   "cell_type": "markdown",
   "metadata": {},
   "source": [
    "###\n",
    "---\n",
    "<center>\n",
    "<h4>3. What one has not experienced, one will never understand in print</h4>\n",
    "</center>\n",
    "\n",
    "---"
   ]
  },
  {
   "cell_type": "markdown",
   "metadata": {},
   "source": [
    "\n",
    "#### Handle the following conversion specifiers:\n",
    "\n",
    "* `u`\n",
    "* `o`\n",
    "* `x`\n",
    "* `x`\n",
    "* You don’t have to handle the flag characters\n",
    "* You don’t have to handle field width\n",
    "* You don’t have to handle precision\n",
    "* You don’t have to handle the length modifiers\n",
    "\n",
    "#### Repo:\n",
    "* GitHub repository: ``` printf```"
   ]
  },
  {
   "cell_type": "code",
   "execution_count": null,
   "metadata": {},
   "outputs": [
    {
     "name": "stdout",
     "output_type": "stream",
     "text": [
      "Overwriting /home/elkomy/alx/printf/print_unsigned.c\n"
     ]
    }
   ],
   "source": [
    "%%file /home/elkomy/alx/printf/print_unsigned.c\n",
    "#include \"main.h\"\n",
    "\n",
    "/**\n",
    " * print_unsigned - Prints an unsigned integer\n",
    " * @list: list of arguments\n",
    " * Return: The number of characters printed\n",
    " */\n",
    "int print_unsigned(va_list list)\n",
    "{\n",
    "    unsigned int n = va_arg(list, unsigned int);\n",
    "    char *str;\n",
    "    int num_chars;\n",
    "\n",
    "    str = convert(n, 10, 0);\n",
    "    if (str == NULL)\n",
    "        return (-1);\n",
    "\n",
    "    num_chars = _puts(str);\n",
    "    return (num_chars);\n",
    "}\n"
   ]
  },
  {
   "cell_type": "code",
   "execution_count": null,
   "metadata": {},
   "outputs": [
    {
     "name": "stdout",
     "output_type": "stream",
     "text": [
      "Overwriting /home/elkomy/alx/printf/print_octal.c\n"
     ]
    }
   ],
   "source": [
    "%%file /home/elkomy/alx/printf/print_octal.c\n",
    "#include \"main.h\"\n",
    "\n",
    "/**\n",
    " * print_octal - Prints a number in octal base\n",
    " * @list: list of arguments\n",
    " * Return: The number of characters printed\n",
    " */\n",
    "int print_octal(va_list list)\n",
    "{\n",
    "    unsigned int n = va_arg(list, unsigned int);\n",
    "    char *str;\n",
    "    int num_chars;\n",
    "\n",
    "    str = convert(n, 8, 0);\n",
    "    if (str == NULL)\n",
    "        return (-1);\n",
    "\n",
    "    num_chars = _puts(str);\n",
    "    return (num_chars);\n",
    "}\n",
    "\n"
   ]
  },
  {
   "cell_type": "code",
   "execution_count": null,
   "metadata": {},
   "outputs": [
    {
     "name": "stdout",
     "output_type": "stream",
     "text": [
      "Overwriting /home/elkomy/alx/printf/print_hex.c\n"
     ]
    }
   ],
   "source": [
    "%%file /home/elkomy/alx/printf/print_hex.c\n",
    "#include \"main.h\"\n",
    "\n",
    "/**\n",
    " * print_hex - Prints a number in hexadecimal base\n",
    " * @list: list of arguments\n",
    " * Return: The number of characters printed\n",
    " */\n",
    "int print_hex(va_list list)\n",
    "{\n",
    "    unsigned int n = va_arg(list, unsigned int);\n",
    "    char *str;\n",
    "    int num_chars;\n",
    "\n",
    "    str = convert(n, 16, 1);\n",
    "    if (str == NULL)\n",
    "        return (-1);\n",
    "\n",
    "    num_chars = _puts(str);\n",
    "    return (num_chars);\n",
    "}\n",
    "\n"
   ]
  },
  {
   "cell_type": "code",
   "execution_count": null,
   "metadata": {},
   "outputs": [
    {
     "name": "stdout",
     "output_type": "stream",
     "text": [
      "Overwriting /home/elkomy/alx/printf/print_HEX.c\n"
     ]
    }
   ],
   "source": [
    "%%file /home/elkomy/alx/printf/print_HEX.c\n",
    "#include \"main.h\"\n",
    "\n",
    "/**\n",
    " * print_HEX - Prints a number in hexadecimal base\n",
    " * @list: list of arguments\n",
    " * Return: The number of characters printed\n",
    " */\n",
    "int print_HEX(va_list list)\n",
    "{\n",
    "    unsigned int n = va_arg(list, unsigned int);\n",
    "    char *str;\n",
    "    int num_chars;\n",
    "\n",
    "    str = convert(n, 16, 0);\n",
    "    if (str == NULL)\n",
    "        return (-1);\n",
    "\n",
    "    num_chars = _puts(str);\n",
    "    return (num_chars);\n",
    "}\n",
    "\n",
    "\n"
   ]
  },
  {
   "cell_type": "code",
   "execution_count": null,
   "metadata": {},
   "outputs": [
    {
     "name": "stdout",
     "output_type": "stream",
     "text": [
      "Overwriting /home/elkomy/alx/printf/_printf.c\n"
     ]
    }
   ],
   "source": [
    "%%file /home/elkomy/alx/printf/_printf.c\n",
    "#include \"main.h\"\n",
    "\n",
    "/**\n",
    "* _printf - Receives the main string and all the necessary parameters to\n",
    "* print a formatted string\n",
    "* @format: A string containing all the desired characters\n",
    "* Return: A total count of the characters printed\n",
    "*/\n",
    "int _printf(const char *format, ...)\n",
    "{\n",
    "int printed_chars;\n",
    "conver_t f_list[] = {\n",
    "{\"%\", print_percent},\n",
    "{\"c\", print_char},\n",
    "{\"s\", print_string},\n",
    "{\"d\", print_integer},\n",
    "{\"i\", print_integer},\n",
    "{\"b\", print_binary},\n",
    "{\"u\", print_unsigned},\n",
    "{\"o\", print_octal},\n",
    "{\"x\", print_hex},\n",
    "{\"X\", print_HEX},\n",
    "{NULL, NULL},\n",
    "};\n",
    "va_list arg_list;\n",
    "\n",
    "if (format == NULL)\n",
    "return (-1);\n",
    "\n",
    "va_start(arg_list, format);\n",
    "printed_chars = format_reciever(format, f_list, arg_list);\n",
    "va_end(arg_list);\n",
    "\n",
    "return (printed_chars);\n",
    "}\n"
   ]
  },
  {
   "cell_type": "code",
   "execution_count": 303,
   "metadata": {},
   "outputs": [
    {
     "name": "stdout",
     "output_type": "stream",
     "text": [
      "Overwriting /home/elkomy/alx/printf/print_binary.c\n"
     ]
    }
   ],
   "source": [
    "%%file /home/elkomy/alx/printf/print_binary.c\n",
    "#include \"main.h\"\n",
    "\n",
    "/**\n",
    " * print_binary - Converts an unsigned int argument to binary\n",
    " * @list: list of arguments\n",
    " * Return: The number of characters printed\n",
    " */\n",
    "int print_binary(va_list list)\n",
    "{\n",
    "    unsigned int n = va_arg(list, unsigned int);\n",
    "    char *binary_str;\n",
    "    int num_chars;\n",
    "\n",
    "    binary_str = convert(n, 2, 0);\n",
    "    if (binary_str == NULL)\n",
    "        return (-1);\n",
    "\n",
    "    num_chars = _puts(binary_str);\n",
    "    return (num_chars);\n",
    "}\n",
    "\n",
    "/**\n",
    " * convert - Converts a number to a string in the given base\n",
    " * @num: The number to be converted\n",
    " * @base: The base to convert to\n",
    " * @lowercase: Flag to determine if hex letters should be lowercase\n",
    " * Return: A pointer to the converted string (static buffer)\n",
    " */\n",
    "char *convert(unsigned long int num, int base, int lowercase)\n",
    "{\n",
    "    static char buffer[50];\n",
    "    char *ptr;\n",
    "    char *rep = (lowercase) ? \"0123456789abcdef\" : \"0123456789ABCDEF\";\n",
    "\n",
    "    ptr = &buffer[49];\n",
    "    *ptr = '\\0';\n",
    "\n",
    "    do {\n",
    "        *--ptr = rep[num % base];\n",
    "        num /= base;\n",
    "    } while (num != 0);\n",
    "\n",
    "    return (ptr);\n",
    "}\n"
   ]
  },
  {
   "cell_type": "code",
   "execution_count": null,
   "metadata": {},
   "outputs": [
    {
     "name": "stdout",
     "output_type": "stream",
     "text": [
      "Overwriting /home/elkomy/alx/printf/_puts.c\n"
     ]
    }
   ],
   "source": [
    "%%file /home/elkomy/alx/printf/_puts.c\n",
    "#include \"main.h\"\n",
    "\n",
    "/**\n",
    " * _puts - Prints a string\n",
    " * @str: The string to be printed\n",
    " * Return: The number of characters printed\n",
    " */\n",
    "int _puts(char *str)\n",
    "{\n",
    "    int i;\n",
    "\n",
    "    for (i = 0; str[i] != '\\0'; i++)\n",
    "        _putchar(str[i]);\n",
    "\n",
    "    return (i);\n",
    "}\n",
    "\n"
   ]
  },
  {
   "cell_type": "code",
   "execution_count": null,
   "metadata": {},
   "outputs": [
    {
     "name": "stdout",
     "output_type": "stream",
     "text": [
      "Overwriting /home/elkomy/alx/printf/main.h\n"
     ]
    }
   ],
   "source": [
    "%%file /home/elkomy/alx/printf/main.h\n",
    "#ifndef MAIN_H\n",
    "#define MAIN_H\n",
    "\n",
    "#include <stdio.h>\n",
    "#include <unistd.h>\n",
    "#include <stdlib.h>\n",
    "#include <stdarg.h>\n",
    "#include <limits.h>\n",
    "\n",
    "#define NULL_STRING \"(null)\"\n",
    "#define NUL '\\0'\n",
    "\n",
    "/**\n",
    " * struct convert - defines a structure for symbols and functions\n",
    " * @sym: The operator\n",
    " * @f: The function associated\n",
    " */\n",
    "struct convert\n",
    "{\n",
    "    char *sym;\n",
    "    int (*f)(va_list);\n",
    "};\n",
    "typedef struct convert conver_t;\n",
    "\n",
    "int _printf(const char *format, ...);\n",
    "int _putchar(char c);\n",
    "int format_reciever(const char *format, conver_t f_list[], va_list arg_list);\n",
    "int print_percent(va_list);\n",
    "int print_char(va_list);\n",
    "int print_string(va_list);\n",
    "int print_integer(va_list);\n",
    "int print_number(int n);\n",
    "int print_binary(va_list list);\n",
    "char *convert(unsigned long int num, int base, int lowercase);\n",
    "int print_unsigned(va_list list);\n",
    "int print_octal(va_list list);\n",
    "int print_hex(va_list list);\n",
    "int print_HEX(va_list list);\n",
    "int _puts(char *str);\n",
    "#endif /* MAIN_H */\n",
    "\n",
    "\n"
   ]
  },
  {
   "cell_type": "code",
   "execution_count": null,
   "metadata": {},
   "outputs": [
    {
     "name": "stdout",
     "output_type": "stream",
     "text": [
      "Overwriting /home/elkomy/alx/printf/tests/main.c\n"
     ]
    }
   ],
   "source": [
    "%%file /home/elkomy/alx/printf/tests/main.c\n",
    "#include \"main.h\"\n",
    "\n",
    "/**\n",
    " * main - Entry point\n",
    " *\n",
    " * Return: Always 0\n",
    " */\n",
    "int main(void)\n",
    "{\n",
    "    _printf(\"Unsigned:[%u]\\n\", 12345);\n",
    "    _printf(\"Octal:[%o]\\n\", 12345);\n",
    "    _printf(\"Hexadecimal:[%x]\\n\", 12345);\n",
    "    _printf(\"HEX:[%X]\\n\", 12345);\n",
    "    return (0);\n",
    "}\n"
   ]
  },
  {
   "cell_type": "code",
   "execution_count": null,
   "metadata": {},
   "outputs": [
    {
     "name": "stdout",
     "output_type": "stream",
     "text": [
      "\n",
      "========== /home/elkomy/alx/printf/_printf.c ==========\n",
      "_printf\n",
      "Unsigned:[12345]\n",
      "Octal:[30071]\n",
      "Hexadecimal:[3039]\n",
      "HEX:[3039]\n"
     ]
    }
   ],
   "source": [
    "\n",
    "!betty /home/elkomy/alx/printf/_printf.c\n",
    "!gcc -Wall -Werror -Wextra -pedantic -std=gnu89 -Wno-format /home/elkomy/alx/printf/*.c /home/elkomy/alx/printf/tests/main.c -o /home/elkomy/alx/printf/printf\n",
    "!./printf\n"
   ]
  },
  {
   "cell_type": "code",
   "execution_count": null,
   "metadata": {},
   "outputs": [
    {
     "name": "stdout",
     "output_type": "stream",
     "text": [
      "[main 29858a4] alx-low_level_programming/0x0D-preprocessor/0-putchar\n",
      " 8 files changed, 96 insertions(+), 3 deletions(-)\n",
      " create mode 100644 print_HEX.c\n",
      " create mode 100644 print_hex.c\n",
      " create mode 100644 print_octal.c\n",
      " create mode 100644 print_unsigned.c\n"
     ]
    },
    {
     "name": "stderr",
     "output_type": "stream",
     "text": [
      "To https://github.com/elkomysara/printf\n",
      "   840a670..29858a4  main -> main\n"
     ]
    }
   ],
   "source": [
    "%%bash\n",
    "git add .\n",
    "git commit -m \"alx-low_level_programming/0x0D-preprocessor/0-putchar\"\n",
    "git push"
   ]
  },
  {
   "cell_type": "markdown",
   "metadata": {},
   "source": [
    "###\n",
    "---\n",
    "<center>\n",
    "<h4>4. Nothing in fine print is ever good news</h4>\n",
    "</center>\n",
    "\n",
    "---"
   ]
  },
  {
   "cell_type": "markdown",
   "metadata": {},
   "source": [
    "\n",
    "#### Use a local buffer of 1024 chars in order to call `write` as little as possible.\n",
    "\n",
    "\n",
    "\n",
    "#### Repo:\n",
    "* GitHub repository: ``` printf```"
   ]
  },
  {
   "cell_type": "code",
   "execution_count": 374,
   "metadata": {},
   "outputs": [
    {
     "name": "stdout",
     "output_type": "stream",
     "text": [
      "Overwriting /home/elkomy/alx/printf/_printf.c\n"
     ]
    }
   ],
   "source": [
    "%%file /home/elkomy/alx/printf/_printf.c\n",
    "#include \"main.h\"\n",
    "\n",
    "/**\n",
    "* _printf - Receives the main string and all the necessary parameters to\n",
    "* print a formatted string\n",
    "* @format: A string containing all the desired characters\n",
    "* Return: A total count of the characters printed\n",
    "*/\n",
    "\n",
    "int _printf(const char *format, ...)\n",
    "{\n",
    "va_list arg_list;\n",
    "int printed_chars = 0;\n",
    "char buffer[1024];\n",
    "int index = 0;\n",
    "\n",
    "conver_t f_list[] = {\n",
    "{\"%\", print_percent},\n",
    "{\"c\", print_char},\n",
    "{\"s\", print_string},\n",
    "{\"d\", print_integer},\n",
    "{\"i\", print_integer},\n",
    "{\"b\", print_binary},\n",
    "{\"u\", print_unsigned},\n",
    "{\"o\", print_octal},\n",
    "{\"x\", print_hex},\n",
    "{\"X\", print_HEX},\n",
    "{NULL, NULL}\n",
    "};\n",
    "\n",
    "va_start(arg_list, format);\n",
    "printed_chars = format_reciever(format, f_list, arg_list, buffer, &index);\n",
    "va_end(arg_list);\n",
    "\n",
    "buffer[index] = '\\0';\n",
    "write(1, buffer, index);\n",
    "\n",
    "return (printed_chars);\n",
    "}\n",
    "\n"
   ]
  },
  {
   "cell_type": "code",
   "execution_count": 421,
   "metadata": {},
   "outputs": [
    {
     "name": "stdout",
     "output_type": "stream",
     "text": [
      "Overwriting /home/elkomy/alx/printf/main.h\n"
     ]
    }
   ],
   "source": [
    "%%file /home/elkomy/alx/printf/main.h\n",
    "#ifndef MAIN_H\n",
    "#define MAIN_H\n",
    "\n",
    "#include <stdarg.h>\n",
    "#include <unistd.h>\n",
    "\n",
    "typedef struct converter {\n",
    "    char *specifier;\n",
    "    int (*f)(va_list, char *, int *);\n",
    "} conver_t;\n",
    "int _printf(const char *format, ...);\n",
    "int _putchar(char c, char *buffer, int *index);\n",
    "int _puts(char *str, char *buffer, int *index);\n",
    "int format_reciever(const char *format, conver_t f_list[], va_list arg_list, char *buffer, int *index);\n",
    "int print_char(va_list list, char *buffer, int *index);\n",
    "int print_string(va_list list, char *buffer, int *index);\n",
    "int print_percent(va_list list, char *buffer, int *index);\n",
    "int print_integer(va_list list, char *buffer, int *index);\n",
    "int print_number(int n, char *buffer, int *index);\n",
    "int print_binary(va_list list, char *buffer, int *index);\n",
    "int print_unsigned(va_list list, char *buffer, int *index);\n",
    "int print_octal(va_list list, char *buffer, int *index);\n",
    "int print_hex(va_list list, char *buffer, int *index);\n",
    "int print_HEX(va_list list, char *buffer, int *index);\n",
    "char *convert(unsigned long int num, int base, int lowercase);\n",
    "\n",
    "\n",
    "#endif\n",
    "\n",
    "\n",
    "\n"
   ]
  },
  {
   "cell_type": "code",
   "execution_count": 422,
   "metadata": {},
   "outputs": [
    {
     "name": "stdout",
     "output_type": "stream",
     "text": [
      "Overwriting /home/elkomy/alx/printf/print_binary.c\n"
     ]
    }
   ],
   "source": [
    "%%file /home/elkomy/alx/printf/print_binary.c\n",
    "#include \"main.h\"\n",
    "\n",
    "/**\n",
    " * print_binary - Converts an unsigned int argument to binary\n",
    " * @list: list of arguments\n",
    " * @buffer: buffer to store the result\n",
    " * @index: current index in the buffer\n",
    " * Return: The number of characters printed\n",
    " */\n",
    "int print_binary(va_list list, char *buffer, int *index)\n",
    "{\n",
    "    unsigned int n = va_arg(list, unsigned int);\n",
    "    char *binary_str;\n",
    "    int num_chars;\n",
    "\n",
    "    binary_str = convert(n, 2, 0);\n",
    "    if (binary_str == NULL)\n",
    "        return (-1);\n",
    "\n",
    "    num_chars = _puts(binary_str, buffer, index);\n",
    "    return (num_chars);\n",
    "}\n",
    "\n",
    "\n",
    "/**\n",
    " * convert - Converts a number to a string in the given base\n",
    " * @num: The number to be converted\n",
    " * @base: The base to convert to\n",
    " * @lowercase: Flag to determine if hex letters should be lowercase\n",
    " * Return: A pointer to the converted string (static buffer)\n",
    " */\n",
    "char *convert(unsigned long int num, int base, int lowercase)\n",
    "{\n",
    "    static char buffer[50];\n",
    "    char *ptr;\n",
    "    char *rep = (lowercase) ? \"0123456789abcdef\" : \"0123456789ABCDEF\";\n",
    "\n",
    "    ptr = &buffer[49];\n",
    "    *ptr = '\\0';\n",
    "\n",
    "    do {\n",
    "        *--ptr = rep[num % base];\n",
    "        num /= base;\n",
    "    } while (num != 0);\n",
    "\n",
    "    return (ptr);\n",
    "}\n"
   ]
  },
  {
   "cell_type": "code",
   "execution_count": 423,
   "metadata": {},
   "outputs": [
    {
     "name": "stdout",
     "output_type": "stream",
     "text": [
      "Overwriting /home/elkomy/alx/printf/print_char.c\n"
     ]
    }
   ],
   "source": [
    "%%file /home/elkomy/alx/printf/print_char.c\n",
    "#include \"main.h\"\n",
    "\n",
    "int print_char(va_list list, char *buffer, int *index)\n",
    "{\n",
    "    _putchar(va_arg(list, int), buffer, index);\n",
    "    return (1);\n",
    "}\n",
    "\n"
   ]
  },
  {
   "cell_type": "code",
   "execution_count": 424,
   "metadata": {},
   "outputs": [
    {
     "name": "stdout",
     "output_type": "stream",
     "text": [
      "Overwriting /home/elkomy/alx/printf/print_string.c\n"
     ]
    }
   ],
   "source": [
    "%%file /home/elkomy/alx/printf/print_string.c\n",
    "#include \"main.h\"\n",
    "\n",
    "int print_string(va_list list, char *buffer, int *index)\n",
    "{\n",
    "    char *str = va_arg(list, char *);\n",
    "\n",
    "    if (str == NULL)\n",
    "        str = \"(null)\";\n",
    "\n",
    "    return (_puts(str, buffer, index));\n",
    "}\n",
    "\n"
   ]
  },
  {
   "cell_type": "code",
   "execution_count": 425,
   "metadata": {},
   "outputs": [
    {
     "name": "stdout",
     "output_type": "stream",
     "text": [
      "Overwriting /home/elkomy/alx/printf/print_integer.c\n"
     ]
    }
   ],
   "source": [
    "%%file /home/elkomy/alx/printf/print_integer.c\n",
    "#include \"main.h\"\n",
    "\n",
    "int print_integer(va_list list, char *buffer, int *index)\n",
    "{\n",
    "    int n = va_arg(list, int);\n",
    "    int num_chars = 0;\n",
    "\n",
    "    if (n == 0)\n",
    "    {\n",
    "        _putchar('0', buffer, index);\n",
    "        return (1);\n",
    "    }\n",
    "\n",
    "    if (n < 0)\n",
    "    {\n",
    "        _putchar('-', buffer, index);\n",
    "        num_chars++;\n",
    "        n = -n;\n",
    "    }\n",
    "\n",
    "    num_chars += print_number(n, buffer, index);\n",
    "\n",
    "    return (num_chars);\n",
    "}\n",
    "\n",
    "int print_number(int n, char *buffer, int *index)\n",
    "{\n",
    "    int num_chars = 0;\n",
    "    unsigned int num = n;\n",
    "\n",
    "    if (num / 10)\n",
    "        num_chars += print_number(num / 10, buffer, index);\n",
    "\n",
    "    _putchar((num % 10) + '0', buffer, index);\n",
    "    num_chars++;\n",
    "\n",
    "    return (num_chars);\n",
    "}\n"
   ]
  },
  {
   "cell_type": "code",
   "execution_count": 426,
   "metadata": {},
   "outputs": [
    {
     "name": "stdout",
     "output_type": "stream",
     "text": [
      "Overwriting /home/elkomy/alx/printf/_putchar.c\n"
     ]
    }
   ],
   "source": [
    "%%file /home/elkomy/alx/printf/_putchar.c\n",
    "#include \"main.h\"\n",
    "\n",
    "/**\n",
    " * _putchar - Writes a character to the buffer and flushes it if necessary\n",
    " * @c: The character to write\n",
    " * @buffer: The buffer to write to\n",
    " * @index: The current index in the buffer\n",
    " * Return: Always 1\n",
    " */\n",
    "#include \"main.h\"\n",
    "\n",
    "int _putchar(char c, char *buffer, int *index)\n",
    "{\n",
    "    buffer[(*index)++] = c;\n",
    "    if (*index >= 1024)\n",
    "    {\n",
    "        write(1, buffer, *index);\n",
    "        *index = 0;\n",
    "    }\n",
    "    return (1);\n",
    "}\n",
    "\n"
   ]
  },
  {
   "cell_type": "code",
   "execution_count": 427,
   "metadata": {},
   "outputs": [
    {
     "name": "stdout",
     "output_type": "stream",
     "text": [
      "Overwriting /home/elkomy/alx/printf/_puts.c\n"
     ]
    }
   ],
   "source": [
    "%%file /home/elkomy/alx/printf/_puts.c\n",
    "#include \"main.h\"\n",
    "\n",
    "/**\n",
    " * _puts - Writes a string to the buffer\n",
    " * @str: The string to write\n",
    " * @buffer: The buffer to write to\n",
    " * @index: The current index in the buffer\n",
    " * Return: The number of characters written\n",
    " */\n",
    "int _puts(char *str, char *buffer, int *index)\n",
    "{\n",
    "    int i;\n",
    "\n",
    "    for (i = 0; str[i] != '\\0'; i++)\n",
    "    {\n",
    "        _putchar(str[i], buffer, index);\n",
    "    }\n",
    "\n",
    "    return (i);\n",
    "}\n",
    "\n"
   ]
  },
  {
   "cell_type": "code",
   "execution_count": 428,
   "metadata": {},
   "outputs": [
    {
     "name": "stdout",
     "output_type": "stream",
     "text": [
      "Overwriting /home/elkomy/alx/printf/flush_buffer.c\n"
     ]
    }
   ],
   "source": [
    "%%file /home/elkomy/alx/printf/flush_buffer.c\n",
    "#include \"main.h\"\n",
    "\n",
    "/**\n",
    " * flush_buffer - Writes the buffer to stdout and resets the buffer index\n",
    " * @buffer: The buffer containing the characters to be written\n",
    " * @index: The current index in the buffer\n",
    " */\n",
    "void flush_buffer(char *buffer, int *index)\n",
    "{\n",
    "    if (*index > 0)\n",
    "    {\n",
    "        write(1, buffer, *index);\n",
    "        *index = 0;\n",
    "    }\n",
    "}\n"
   ]
  },
  {
   "cell_type": "code",
   "execution_count": 429,
   "metadata": {},
   "outputs": [
    {
     "name": "stdout",
     "output_type": "stream",
     "text": [
      "Overwriting /home/elkomy/alx/printf/print_percent.c\n"
     ]
    }
   ],
   "source": [
    "%%file /home/elkomy/alx/printf/print_percent.c\n",
    "\n",
    "#include \"main.h\"\n",
    "\n",
    "/**\n",
    " * print_percent - Prints a percent symbol\n",
    " * @list: list of arguments (unused)\n",
    " * @buffer: The buffer to write to\n",
    " * @index: The current index in the buffer\n",
    " * Return: Always 1\n",
    " */\n",
    "int print_percent(va_list list __attribute__((unused)), char *buffer, int *index)\n",
    "{\n",
    "    return _putchar('%', buffer, index);\n",
    "}\n",
    "\n",
    "\n"
   ]
  },
  {
   "cell_type": "code",
   "execution_count": 430,
   "metadata": {},
   "outputs": [
    {
     "name": "stdout",
     "output_type": "stream",
     "text": [
      "Overwriting /home/elkomy/alx/printf/print_hex.c\n"
     ]
    }
   ],
   "source": [
    "%%file /home/elkomy/alx/printf/print_hex.c\n",
    "#include \"main.h\"\n",
    "\n",
    "/**\n",
    " * print_hex - Prints a number in hexadecimal base\n",
    " * @list: list of arguments\n",
    " * @buffer: buffer to store the result\n",
    " * @index: current index in the buffer\n",
    " * Return: The number of characters printed\n",
    " */\n",
    "int print_hex(va_list list, char *buffer, int *index)\n",
    "{\n",
    "    unsigned int n = va_arg(list, unsigned int);\n",
    "    char *str;\n",
    "    int num_chars;\n",
    "\n",
    "    str = convert(n, 16, 1);\n",
    "    if (str == NULL)\n",
    "        return (-1);\n",
    "\n",
    "    num_chars = _puts(str, buffer, index);\n",
    "    return (num_chars);\n",
    "}\n"
   ]
  },
  {
   "cell_type": "code",
   "execution_count": 431,
   "metadata": {},
   "outputs": [
    {
     "name": "stdout",
     "output_type": "stream",
     "text": [
      "Overwriting /home/elkomy/alx/printf/print_HEX.c\n"
     ]
    }
   ],
   "source": [
    "%%file /home/elkomy/alx/printf/print_HEX.c\n",
    "#include \"main.h\"\n",
    "\n",
    "/**\n",
    " * print_HEX - Prints a number in hexadecimal base\n",
    " * @list: list of arguments\n",
    " * @buffer: buffer to store the result\n",
    " * @index: current index in the buffer\n",
    " * Return: The number of characters printed\n",
    " */\n",
    "int print_HEX(va_list list, char *buffer, int *index)\n",
    "{\n",
    "    unsigned int n = va_arg(list, unsigned int);\n",
    "    char *str;\n",
    "    int num_chars;\n",
    "\n",
    "    str = convert(n, 16, 0);\n",
    "    if (str == NULL)\n",
    "        return (-1);\n",
    "\n",
    "    num_chars = _puts(str, buffer, index);\n",
    "    return (num_chars);\n",
    "}\n"
   ]
  },
  {
   "cell_type": "code",
   "execution_count": 432,
   "metadata": {},
   "outputs": [
    {
     "name": "stdout",
     "output_type": "stream",
     "text": [
      "Overwriting /home/elkomy/alx/printf/print_octal.c\n"
     ]
    }
   ],
   "source": [
    "%%file /home/elkomy/alx/printf/print_octal.c\n",
    "#include \"main.h\"\n",
    "#include <stdlib.h>\n",
    "\n",
    "/**\n",
    " * print_octal - Prints a number in octal base\n",
    " * @list: list of arguments\n",
    " * @buffer: buffer to store the result\n",
    " * @index: current index in the buffer\n",
    " * Return: The number of characters printed\n",
    " */\n",
    "int print_octal(va_list list, char *buffer, int *index)\n",
    "{\n",
    "    unsigned int n = va_arg(list, unsigned int);\n",
    "    char *str;\n",
    "    int num_chars;\n",
    "\n",
    "    str = convert(n, 8, 0);\n",
    "    if (str == NULL)\n",
    "        return (-1);\n",
    "\n",
    "    num_chars = _puts(str, buffer, index);\n",
    "    return (num_chars);\n",
    "}\n",
    "\n",
    "\n"
   ]
  },
  {
   "cell_type": "code",
   "execution_count": 433,
   "metadata": {},
   "outputs": [
    {
     "name": "stdout",
     "output_type": "stream",
     "text": [
      "Overwriting /home/elkomy/alx/printf/print_unsigned.c\n"
     ]
    }
   ],
   "source": [
    "%%file /home/elkomy/alx/printf/print_unsigned.c\n",
    "#include \"main.h\"\n",
    "\n",
    "/**\n",
    " * print_unsigned - Prints an unsigned integer\n",
    " * @list: list of arguments\n",
    " * @buffer: buffer to store the result\n",
    " * @index: current index in the buffer\n",
    " * Return: The number of characters printed\n",
    " */\n",
    "int print_unsigned(va_list list, char *buffer, int *index)\n",
    "{\n",
    "    unsigned int n = va_arg(list, unsigned int);\n",
    "    char *str;\n",
    "    int num_chars;\n",
    "\n",
    "    str = convert(n, 10, 0);\n",
    "    if (str == NULL)\n",
    "        return (-1);\n",
    "\n",
    "    num_chars = _puts(str, buffer, index);\n",
    "    return (num_chars);\n",
    "}\n"
   ]
  },
  {
   "cell_type": "code",
   "execution_count": 437,
   "metadata": {},
   "outputs": [
    {
     "name": "stdout",
     "output_type": "stream",
     "text": [
      "Overwriting /home/elkomy/alx/printf/tests/main.c\n"
     ]
    }
   ],
   "source": [
    "%%file /home/elkomy/alx/printf/tests/main.c\n",
    "#include <limits.h>\n",
    "#include <stdio.h>\n",
    "#include \"../main.h\"\n",
    "\n",
    "/**\n",
    "* main - Entry point\n",
    "*\n",
    "* Return: Always 0\n",
    "*/\n",
    "int main(void)\n",
    "{\n",
    "int len;\n",
    "int len2;\n",
    "unsigned int ui;\n",
    "void *addr;\n",
    "\n",
    "len = _printf(\"Let's try to printf a simple sentence.\\n\");\n",
    "len2 = printf(\"Let's try to printf a simple sentence.\\n\");\n",
    "ui = (unsigned int)INT_MAX + 1024;\n",
    "addr = (void *)0x7ffe637541f0;\n",
    "_printf(\"Length:[%d, %i]\\n\", len, len);\n",
    "printf(\"Length:[%d, %i]\\n\", len2, len2);\n",
    "_printf(\"Negative:[%d]\\n\", -762534);\n",
    "printf(\"Negative:[%d]\\n\", -762534);\n",
    "_printf(\"Unsigned:[%u]\\n\", ui);\n",
    "printf(\"Unsigned:[%u]\\n\", ui);\n",
    "_printf(\"Unsigned octal:[%o]\\n\", ui);\n",
    "printf(\"Unsigned octal:[%o]\\n\", ui);\n",
    "_printf(\"Unsigned hexadecimal:[%x, %X]\\n\", ui, ui);\n",
    "printf(\"Unsigned hexadecimal:[%x, %X]\\n\", ui, ui);\n",
    "_printf(\"Character:[%c]\\n\", 'H');\n",
    "printf(\"Character:[%c]\\n\", 'H');\n",
    "_printf(\"String:[%s]\\n\", \"I am a string !\");\n",
    "printf(\"String:[%s]\\n\", \"I am a string !\");\n",
    "_printf(\"Address:[%p]\\n\", addr);\n",
    "printf(\"Address:[%p]\\n\", addr);\n",
    "len = _printf(\"Percent:[%%]\\n\");\n",
    "len2 = printf(\"Percent:[%%]\\n\");\n",
    "_printf(\"Len:[%d]\\n\", len);\n",
    "printf(\"Len:[%d]\\n\", len2);\n",
    "_printf(\"Unknown:[%r]\\n\");\n",
    "printf(\"Unknown:[%r]\\n\");\n",
    "return (0);\n",
    "}\n",
    "\n"
   ]
  },
  {
   "cell_type": "code",
   "execution_count": 438,
   "metadata": {},
   "outputs": [
    {
     "name": "stdout",
     "output_type": "stream",
     "text": [
      "Overwriting /home/elkomy/alx/printf/format_reciever.c\n"
     ]
    }
   ],
   "source": [
    "%%file /home/elkomy/alx/printf/format_reciever.c\n",
    "#include \"main.h\"\n",
    "\n",
    "/**\n",
    " * format_reciever - Receives the main string and all the necessary parameters to\n",
    " * print a formatted string\n",
    " * @format: A string containing all the desired characters\n",
    " * @f_list: A list of conversion specifiers\n",
    " * @arg_list: A list containing all the arguments passed to the program\n",
    " * @buffer: The buffer to write to\n",
    " * @index: The current index in the buffer\n",
    " * Return: A total count of the characters printed\n",
    " */\n",
    "#include \"main.h\"\n",
    "\n",
    "int format_reciever(const char *format, conver_t f_list[], va_list arg_list, char *buffer, int *index)\n",
    "{\n",
    "    int i, j, printed_chars = 0;\n",
    "    int (*func)(va_list, char *, int *);\n",
    "\n",
    "    for (i = 0; format[i] != '\\0'; i++)\n",
    "    {\n",
    "        if (format[i] == '%')\n",
    "        {\n",
    "            for (j = 0; f_list[j].specifier != NULL; j++)\n",
    "            {\n",
    "                if (format[i + 1] == f_list[j].specifier[0])\n",
    "                {\n",
    "                    func = f_list[j].f;\n",
    "                    printed_chars += func(arg_list, buffer, index);\n",
    "                    break;\n",
    "                }\n",
    "            }\n",
    "            if (f_list[j].specifier == NULL && format[i + 1] != ' ')\n",
    "            {\n",
    "                _putchar(format[i], buffer, index);\n",
    "                _putchar(format[i + 1], buffer, index);\n",
    "                printed_chars += 2;\n",
    "            }\n",
    "            i++;\n",
    "        }\n",
    "        else\n",
    "        {\n",
    "            _putchar(format[i], buffer, index);\n",
    "            printed_chars++;\n",
    "        }\n",
    "    }\n",
    "\n",
    "    return (printed_chars);\n",
    "}\n",
    "\n"
   ]
  },
  {
   "cell_type": "code",
   "execution_count": 439,
   "metadata": {},
   "outputs": [
    {
     "name": "stdout",
     "output_type": "stream",
     "text": [
      "\n",
      "========== /home/elkomy/alx/printf/_printf.c ==========\n",
      "_printf\n",
      "Let's try to printf a simple sentence.\n",
      "Let's try to printf a simple sentence.\n",
      "Length:[39, 39]\n",
      "Length:[39, 39]\n",
      "Negative:[-762534]\n",
      "Negative:[-762534]\n",
      "Unsigned:[2147484671]\n",
      "Unsigned:[2147484671]\n",
      "Unsigned octal:[20000001777]\n",
      "Unsigned octal:[20000001777]\n",
      "Unsigned hexadecimal:[800003ff, 800003FF]\n",
      "Unsigned hexadecimal:[800003ff, 800003FF]\n",
      "Character:[H]\n",
      "Character:[H]\n",
      "String:[I am a string !]\n",
      "String:[I am a string !]\n",
      "Address:[%p]\n",
      "Address:[0x7ffe637541f0]\n",
      "Percent:[%]\n",
      "Percent:[%]\n",
      "Len:[12]\n",
      "Len:[12]\n",
      "Unknown:[%r]\n",
      "Unknown:[%r]\n"
     ]
    }
   ],
   "source": [
    "\n",
    "!betty /home/elkomy/alx/printf/_printf.c\n",
    "!gcc -Wall -Werror -Wextra -pedantic -std=gnu89 -Wno-format /home/elkomy/alx/printf/*.c /home/elkomy/alx/printf/tests/main.c -o /home/elkomy/alx/printf/printf\n",
    "!./printf\n"
   ]
  },
  {
   "cell_type": "code",
   "execution_count": 391,
   "metadata": {},
   "outputs": [
    {
     "name": "stdout",
     "output_type": "stream",
     "text": [
      "[main 9f9aa53] alx-low_level_programming/0x0D-preprocessor/0-putchar\n",
      " 3 files changed, 7 insertions(+)\n",
      " rename tests/flush_buffer.c => flush_buffer.c (100%)\n"
     ]
    },
    {
     "name": "stderr",
     "output_type": "stream",
     "text": [
      "To https://github.com/elkomysara/printf\n",
      "   144ee33..9f9aa53  main -> main\n"
     ]
    }
   ],
   "source": [
    "%%bash\n",
    "git add .\n",
    "git commit -m \"alx-low_level_programming/0x0D-preprocessor/0-putchar\"\n",
    "git push"
   ]
  },
  {
   "cell_type": "markdown",
   "metadata": {},
   "source": [
    "###\n",
    "---\n",
    "<center>\n",
    "<h4>5. My weakness is wearing too much leopard print</h4>\n",
    "</center>\n",
    "\n",
    "---"
   ]
  },
  {
   "cell_type": "markdown",
   "metadata": {},
   "source": [
    "\n",
    "#### Handle the following custom conversion specifier:\n",
    "\n",
    "* `S` : prints the string.\n",
    "* Non printable characters (0 < ASCII value < 32 or >= 127) are printed this way: `\\x`, followed by the ASCII code value in hexadecimal (upper case - always 2 characters)\n",
    "\n",
    "```bash\n",
    "alex@ubuntu:~/c/printf$ cat main.c\n",
    "#include \"main.h\"\n",
    "\n",
    "/**\n",
    " * main - Entry point\n",
    " *\n",
    " * Return: Always 0\n",
    " */\n",
    "int main(void)\n",
    "{\n",
    "    _printf(\"%S\\n\", \"Best\\nSchool\");\n",
    "    return (0);\n",
    "}\n",
    "alex@ubuntu:~/c/printf$ gcc -Wall -Wextra -Werror -pedantic -std=gnu89 main.c\n",
    "alex@ubuntu:~/c/printf$ ./a.out\n",
    "Best\\x0ASchool\n",
    "alex@ubuntu:~/c/printf$\n",
    "```\n",
    "\n",
    "\n",
    "\n",
    "#### Repo:\n",
    "* GitHub repository: ``` printf```"
   ]
  },
  {
   "cell_type": "code",
   "execution_count": 543,
   "metadata": {},
   "outputs": [
    {
     "name": "stdout",
     "output_type": "stream",
     "text": [
      "Overwriting /home/elkomy/alx/printf/_printf.c\n"
     ]
    }
   ],
   "source": [
    "%%file /home/elkomy/alx/printf/_printf.c\n",
    "#include \"main.h\"\n",
    "\n",
    "/**\n",
    "* _printf - Receives the main string and all the necessary parameters to\n",
    "* print a formatted string\n",
    "* @format: A string containing all the desired characters\n",
    "* Return: A total count of the characters printed\n",
    "*/\n",
    "int _printf(const char *format, ...)\n",
    "{\n",
    "int printed_chars;\n",
    "conver_t f_list[] = {\n",
    "{\"%\", print_percent},\n",
    "{\"c\", print_char},\n",
    "{\"s\", print_string},\n",
    "{\"d\", print_int},\n",
    "{\"i\", print_int},\n",
    "{\"u\", print_unsigned},\n",
    "{\"o\", print_octal},\n",
    "{\"x\", print_hex},\n",
    "{\"X\", print_HEX},\n",
    "{\"p\", print_pointer},\n",
    "{NULL, NULL},\n",
    "};\n",
    "va_list arg_list;\n",
    "char buffer[1024];\n",
    "int index = 0;\n",
    "\n",
    "if (format == NULL)\n",
    "return (-1);\n",
    "\n",
    "va_start(arg_list, format);\n",
    "printed_chars = format_reciever(format, f_list, arg_list);\n",
    "va_end(arg_list);\n",
    "\n",
    "return (printed_chars);\n",
    "}\n"
   ]
  },
  {
   "cell_type": "code",
   "execution_count": 530,
   "metadata": {},
   "outputs": [
    {
     "name": "stdout",
     "output_type": "stream",
     "text": [
      "Writing /home/elkomy/alx/printf/print_special_string.c\n"
     ]
    }
   ],
   "source": [
    "%%file /home/elkomy/alx/printf/print_special_string.c\n",
    "#include \"main.h\"\n",
    "#include <stdio.h>\n",
    "\n",
    "\n",
    "/**\n",
    "* print_special_string - Prints a special string\n",
    "* @list: List of arguments\n",
    "* @buffer: Buffer to store characters\n",
    "* @index: Current index in the buffer\n",
    "* @flags: Flags for formatting\n",
    "* Return: Number of characters printed\n",
    "*/\n",
    "int print_special_string(va_list list, char *buffer, int *index, flags_t flags)\n",
    "{\n",
    "char *str = va_arg(list, char *);\n",
    "int i = 0, count = 0;\n",
    "\n",
    "(void)flags; /* Suppress unused parameter warning */\n",
    "\n",
    "while (str[i])\n",
    "{\n",
    "if ((str[i] > 0 && str[i] < 32) || str[i] >= 127)\n",
    "{\n",
    "count += sprintf(&buffer[*index], \"\\\\x%02X\", str[i]);\n",
    "*index += 4;\n",
    "}\n",
    "else\n",
    "{\n",
    "_putchar(str[i], buffer, index);\n",
    "count++;\n",
    "}\n",
    "i++;\n",
    "}\n",
    "\n",
    "return count;\n",
    "}\n"
   ]
  },
  {
   "cell_type": "code",
   "execution_count": 531,
   "metadata": {},
   "outputs": [
    {
     "name": "stdout",
     "output_type": "stream",
     "text": [
      "Overwriting /home/elkomy/alx/printf/format_reciever.c\n"
     ]
    }
   ],
   "source": [
    "%%file /home/elkomy/alx/printf/format_reciever.c\n",
    "#include \"main.h\"\n",
    "#include <stdio.h>\n",
    "\n",
    "/**\n",
    " * format_reciever - Receives the main string and all the necessary parameters to\n",
    " * print a formatted string\n",
    " * @format: A string containing all the desired characters\n",
    " * @f_list: A list of format specifiers and their corresponding functions\n",
    " * @arg_list: A list of arguments to be printed\n",
    " * @buffer: Buffer to store the formatted string\n",
    " * @index: Current index in the buffer\n",
    " * Return: A total count of the characters printed\n",
    " */\n",
    "int format_reciever(const char *format, conver_t f_list[], va_list arg_list, char *buffer, int *index)\n",
    "{\n",
    "    int i = 0, j, count = 0;\n",
    "\n",
    "    while (format && format[i])\n",
    "    {\n",
    "        if (format[i] == '%')\n",
    "        {\n",
    "            i++;\n",
    "            for (j = 0; f_list[j].specifier != NULL; j++)\n",
    "            {\n",
    "                if (format[i] == f_list[j].specifier[0])\n",
    "                {\n",
    "                    count += f_list[j].f(arg_list, buffer, index);\n",
    "                    break;\n",
    "                }\n",
    "            }\n",
    "            if (f_list[j].specifier == NULL)\n",
    "            {\n",
    "                buffer[*index] = '%';\n",
    "                buffer[*index + 1] = format[i];\n",
    "                *index += 2;\n",
    "                count += 2;\n",
    "            }\n",
    "        }\n",
    "        else\n",
    "        {\n",
    "            buffer[*index] = format[i];\n",
    "            (*index)++;\n",
    "            count++;\n",
    "        }\n",
    "        i++;\n",
    "    }\n",
    "    return (count);\n",
    "}\n"
   ]
  },
  {
   "cell_type": "code",
   "execution_count": 538,
   "metadata": {},
   "outputs": [
    {
     "name": "stdout",
     "output_type": "stream",
     "text": [
      "Overwriting /home/elkomy/alx/printf/main.h\n"
     ]
    }
   ],
   "source": [
    "%%file /home/elkomy/alx/printf/main.h\n",
    "#ifndef MAIN_H\n",
    "#define MAIN_H\n",
    "\n",
    "#include <stdio.h>\n",
    "#include <unistd.h>\n",
    "#include <stdlib.h>\n",
    "#include <stdarg.h>\n",
    "#include <limits.h>\n",
    "\n",
    "/**\n",
    "* struct convert - defines a structure for symbols and functions\n",
    "* @sym: The operator\n",
    "* @f: The function associated\n",
    "*/\n",
    "struct convert\n",
    "{\n",
    "char *sym;\n",
    "int (*f)(va_list, char *, int *);\n",
    "};\n",
    "typedef struct convert conver_t;\n",
    "\n",
    "int _printf(const char *format, ...);\n",
    "int _putchar(char c, char *buffer, int *index);\n",
    "int format_reciever(const char *format, conver_t f_list[], va_list arg_list);\n",
    "int print_percent(va_list list, char *buffer, int *index);\n",
    "int print_char(va_list list, char *buffer, int *index);\n",
    "int print_string(va_list list, char *buffer, int *index);\n",
    "int print_int(va_list list, char *buffer, int *index);\n",
    "int print_unsigned(va_list list, char *buffer, int *index);\n",
    "int print_octal(va_list list, char *buffer, int *index);\n",
    "int print_hex(va_list list, char *buffer, int *index);\n",
    "int print_HEX(va_list list, char *buffer, int *index);\n",
    "int print_pointer(va_list list, char *buffer, int *index);\n",
    "\n",
    "#endif /* MAIN_H */\n"
   ]
  },
  {
   "cell_type": "code",
   "execution_count": 539,
   "metadata": {},
   "outputs": [
    {
     "name": "stdout",
     "output_type": "stream",
     "text": [
      "Overwriting /home/elkomy/alx/printf/tests/main.c\n"
     ]
    }
   ],
   "source": [
    "%%file /home/elkomy/alx/printf/tests/main.c\n",
    "#include \"../main.h\"\n",
    "\n",
    "/**\n",
    " * main - Entry point\n",
    " *\n",
    " * Return: Always 0\n",
    " */\n",
    "int main(void)\n",
    "{\n",
    "    _printf(\"%S\\n\", \"Best\\nSchool\");\n",
    "    return (0);\n",
    "}"
   ]
  },
  {
   "cell_type": "code",
   "execution_count": 540,
   "metadata": {},
   "outputs": [
    {
     "name": "stdout",
     "output_type": "stream",
     "text": [
      "Overwriting /home/elkomy/alx/printf/_putchar.c\n"
     ]
    }
   ],
   "source": [
    "%%file /home/elkomy/alx/printf/_putchar.c\n",
    "#include \"main.h\"\n",
    "#include <unistd.h> \n",
    "\n",
    "/**\n",
    " * _putchar - Writes the character c to stdout\n",
    " * @c: The character to print\n",
    " * @buffer: Buffer to store characters\n",
    " * @index: Current index in the buffer\n",
    " * Return: On success 1.\n",
    " * On error, -1 is returned, and errno is set appropriately.\n",
    " */\n",
    "int _putchar(char c, char *buffer, int *index)\n",
    "{\n",
    "    if (*index >= 1024)\n",
    "    {\n",
    "        write(1, buffer, *index);\n",
    "        *index = 0;\n",
    "    }\n",
    "\n",
    "    buffer[*index] = c;\n",
    "    (*index)++;\n",
    "\n",
    "    return (1);\n",
    "}\n"
   ]
  },
  {
   "cell_type": "code",
   "execution_count": 541,
   "metadata": {},
   "outputs": [
    {
     "name": "stdout",
     "output_type": "stream",
     "text": [
      "Overwriting /home/elkomy/alx/printf/flush_buffer.c\n"
     ]
    }
   ],
   "source": [
    "%%file /home/elkomy/alx/printf/flush_buffer.c\n",
    "#include \"main.h\"\n",
    "#include <unistd.h> \n",
    "\n",
    "/**\n",
    " * flush_buffer - Writes the content of the buffer to stdout\n",
    " * @buffer: Buffer to store characters\n",
    " * @index: Current index in the buffer\n",
    " * Return: void\n",
    " */\n",
    "void flush_buffer(char *buffer, int *index)\n",
    "{\n",
    "    if (*index > 0)\n",
    "    {\n",
    "        write(1, buffer, *index);\n",
    "        *index = 0;\n",
    "    }\n",
    "}\n"
   ]
  },
  {
   "cell_type": "code",
   "execution_count": 542,
   "metadata": {},
   "outputs": [
    {
     "name": "stderr",
     "output_type": "stream",
     "text": [
      "format_reciever.c:14:5: error: conflicting types for ‘format_reciever’\n",
      "   14 | int format_reciever(const char *format, conver_t f_list[], va_list arg_list, char *buffer, int *index)\n",
      "      |     ^~~~~~~~~~~~~~~\n",
      "In file included from format_reciever.c:1:\n",
      "main.h:24:5: note: previous declaration of ‘format_reciever’ was here\n",
      "   24 | int format_reciever(const char *format, conver_t f_list[], va_list arg_list);\n",
      "      |     ^~~~~~~~~~~~~~~\n",
      "format_reciever.c: In function ‘format_reciever’:\n",
      "format_reciever.c:23:34: error: ‘conver_t’ {aka ‘struct convert’} has no member named ‘specifier’\n",
      "   23 |             for (j = 0; f_list[j].specifier != NULL; j++)\n",
      "      |                                  ^\n",
      "format_reciever.c:25:43: error: ‘conver_t’ {aka ‘struct convert’} has no member named ‘specifier’\n",
      "   25 |                 if (format[i] == f_list[j].specifier[0])\n",
      "      |                                           ^\n",
      "format_reciever.c:31:26: error: ‘conver_t’ {aka ‘struct convert’} has no member named ‘specifier’\n",
      "   31 |             if (f_list[j].specifier == NULL)\n",
      "      |                          ^\n",
      "print_HEX.c:10:5: error: conflicting types for ‘print_HEX’\n",
      "   10 | int print_HEX(va_list list)\n",
      "      |     ^~~~~~~~~\n",
      "In file included from print_HEX.c:2:\n",
      "main.h:32:5: note: previous declaration of ‘print_HEX’ was here\n",
      "   32 | int print_HEX(va_list list, char *buffer, int *index);\n",
      "      |     ^~~~~~~~~\n",
      "print_HEX.c: In function ‘print_HEX’:\n",
      "print_HEX.c:18:1: error: too few arguments to function ‘_putchar’\n",
      "   18 | _putchar('0');\n",
      "      | ^~~~~~~~\n",
      "In file included from print_HEX.c:2:\n",
      "main.h:23:5: note: declared here\n",
      "   23 | int _putchar(char c, char *buffer, int *index);\n",
      "      |     ^~~~~~~~\n",
      "print_HEX.c:29:1: error: too few arguments to function ‘_putchar’\n",
      "   29 | _putchar(buffer[i]);\n",
      "      | ^~~~~~~~\n",
      "In file included from print_HEX.c:2:\n",
      "main.h:23:5: note: declared here\n",
      "   23 | int _putchar(char c, char *buffer, int *index);\n",
      "      |     ^~~~~~~~\n",
      "print_char.c:9:5: error: conflicting types for ‘print_char’\n",
      "    9 | int print_char(va_list list)\n",
      "      |     ^~~~~~~~~~\n",
      "In file included from print_char.c:1:\n",
      "main.h:26:5: note: previous declaration of ‘print_char’ was here\n",
      "   26 | int print_char(va_list list, char *buffer, int *index);\n",
      "      |     ^~~~~~~~~~\n",
      "print_char.c: In function ‘print_char’:\n",
      "print_char.c:11:1: error: too few arguments to function ‘_putchar’\n",
      "   11 | _putchar(va_arg(list, int));\n",
      "      | ^~~~~~~~\n",
      "In file included from print_char.c:1:\n",
      "main.h:23:5: note: declared here\n",
      "   23 | int _putchar(char c, char *buffer, int *index);\n",
      "      |     ^~~~~~~~\n",
      "print_hex.c:10:5: error: conflicting types for ‘print_hex’\n",
      "   10 | int print_hex(va_list list)\n",
      "      |     ^~~~~~~~~\n",
      "In file included from print_hex.c:2:\n",
      "main.h:31:5: note: previous declaration of ‘print_hex’ was here\n",
      "   31 | int print_hex(va_list list, char *buffer, int *index);\n",
      "      |     ^~~~~~~~~\n",
      "print_hex.c: In function ‘print_hex’:\n",
      "print_hex.c:18:1: error: too few arguments to function ‘_putchar’\n",
      "   18 | _putchar('0');\n",
      "      | ^~~~~~~~\n",
      "In file included from print_hex.c:2:\n",
      "main.h:23:5: note: declared here\n",
      "   23 | int _putchar(char c, char *buffer, int *index);\n",
      "      |     ^~~~~~~~\n",
      "print_hex.c:29:1: error: too few arguments to function ‘_putchar’\n",
      "   29 | _putchar(buffer[i]);\n",
      "      | ^~~~~~~~\n",
      "In file included from print_hex.c:2:\n",
      "main.h:23:5: note: declared here\n",
      "   23 | int _putchar(char c, char *buffer, int *index);\n",
      "      |     ^~~~~~~~\n",
      "print_int.c:9:5: error: conflicting types for ‘print_int’\n",
      "    9 | int print_int(va_list list)\n",
      "      |     ^~~~~~~~~\n",
      "In file included from print_int.c:1:\n",
      "main.h:28:5: note: previous declaration of ‘print_int’ was here\n",
      "   28 | int print_int(va_list list, char *buffer, int *index);\n",
      "      |     ^~~~~~~~~\n",
      "print_int.c: In function ‘print_int’:\n",
      "print_int.c:16:1: error: too few arguments to function ‘_putchar’\n",
      "   16 | _putchar('-');\n",
      "      | ^~~~~~~~\n",
      "In file included from print_int.c:1:\n",
      "main.h:23:5: note: declared here\n",
      "   23 | int _putchar(char c, char *buffer, int *index);\n",
      "      |     ^~~~~~~~\n",
      "print_int.c:17:1: error: too few arguments to function ‘_putchar’\n",
      "   17 | _putchar('2');\n",
      "      | ^~~~~~~~\n",
      "In file included from print_int.c:1:\n",
      "main.h:23:5: note: declared here\n",
      "   23 | int _putchar(char c, char *buffer, int *index);\n",
      "      |     ^~~~~~~~\n",
      "print_int.c:21:1: error: too few arguments to function ‘_putchar’\n",
      "   21 | _putchar('-');\n",
      "      | ^~~~~~~~\n",
      "In file included from print_int.c:1:\n",
      "main.h:23:5: note: declared here\n",
      "   23 | int _putchar(char c, char *buffer, int *index);\n",
      "      |     ^~~~~~~~\n",
      "print_int.c:27:1: error: too few arguments to function ‘_putchar’\n",
      "   27 | _putchar('0');\n",
      "      | ^~~~~~~~\n",
      "In file included from print_int.c:1:\n",
      "main.h:23:5: note: declared here\n",
      "   23 | int _putchar(char c, char *buffer, int *index);\n",
      "      |     ^~~~~~~~\n",
      "print_int.c:38:1: error: too few arguments to function ‘_putchar’\n",
      "   38 | _putchar(buffer[i]);\n",
      "      | ^~~~~~~~\n",
      "In file included from print_int.c:1:\n",
      "main.h:23:5: note: declared here\n",
      "   23 | int _putchar(char c, char *buffer, int *index);\n",
      "      |     ^~~~~~~~\n",
      "print_octal.c:10:5: error: conflicting types for ‘print_octal’\n",
      "   10 | int print_octal(va_list list)\n",
      "      |     ^~~~~~~~~~~\n",
      "In file included from print_octal.c:2:\n",
      "main.h:30:5: note: previous declaration of ‘print_octal’ was here\n",
      "   30 | int print_octal(va_list list, char *buffer, int *index);\n",
      "      |     ^~~~~~~~~~~\n",
      "print_octal.c: In function ‘print_octal’:\n",
      "print_octal.c:18:1: error: too few arguments to function ‘_putchar’\n",
      "   18 | _putchar('0');\n",
      "      | ^~~~~~~~\n",
      "In file included from print_octal.c:2:\n",
      "main.h:23:5: note: declared here\n",
      "   23 | int _putchar(char c, char *buffer, int *index);\n",
      "      |     ^~~~~~~~\n",
      "print_octal.c:29:1: error: too few arguments to function ‘_putchar’\n",
      "   29 | _putchar(buffer[i]);\n",
      "      | ^~~~~~~~\n",
      "In file included from print_octal.c:2:\n",
      "main.h:23:5: note: declared here\n",
      "   23 | int _putchar(char c, char *buffer, int *index);\n",
      "      |     ^~~~~~~~\n",
      "print_percent.c:9:5: error: conflicting types for ‘print_percent’\n",
      "    9 | int print_percent(__attribute__((unused))va_list list)\n",
      "      |     ^~~~~~~~~~~~~\n",
      "In file included from print_percent.c:1:\n",
      "main.h:25:5: note: previous declaration of ‘print_percent’ was here\n",
      "   25 | int print_percent(va_list list, char *buffer, int *index);\n",
      "      |     ^~~~~~~~~~~~~\n",
      "print_percent.c: In function ‘print_percent’:\n",
      "print_percent.c:11:1: error: too few arguments to function ‘_putchar’\n",
      "   11 | _putchar('%');\n",
      "      | ^~~~~~~~\n",
      "In file included from print_percent.c:1:\n",
      "main.h:23:5: note: declared here\n",
      "   23 | int _putchar(char c, char *buffer, int *index);\n",
      "      |     ^~~~~~~~\n",
      "print_pointer.c:10:5: error: conflicting types for ‘print_pointer’\n",
      "   10 | int print_pointer(va_list list)\n",
      "      |     ^~~~~~~~~~~~~\n",
      "In file included from print_pointer.c:2:\n",
      "main.h:33:5: note: previous declaration of ‘print_pointer’ was here\n",
      "   33 | int print_pointer(va_list list, char *buffer, int *index);\n",
      "      |     ^~~~~~~~~~~~~\n",
      "print_pointer.c: In function ‘print_pointer’:\n",
      "print_pointer.c:18:1: error: too few arguments to function ‘_putchar’\n",
      "   18 | _putchar('(');\n",
      "      | ^~~~~~~~\n",
      "In file included from print_pointer.c:2:\n",
      "main.h:23:5: note: declared here\n",
      "   23 | int _putchar(char c, char *buffer, int *index);\n",
      "      |     ^~~~~~~~\n",
      "print_pointer.c:19:1: error: too few arguments to function ‘_putchar’\n",
      "   19 | _putchar('n');\n",
      "      | ^~~~~~~~\n",
      "In file included from print_pointer.c:2:\n",
      "main.h:23:5: note: declared here\n",
      "   23 | int _putchar(char c, char *buffer, int *index);\n",
      "      |     ^~~~~~~~\n",
      "print_pointer.c:20:1: error: too few arguments to function ‘_putchar’\n",
      "   20 | _putchar('i');\n",
      "      | ^~~~~~~~\n",
      "In file included from print_pointer.c:2:\n",
      "main.h:23:5: note: declared here\n",
      "   23 | int _putchar(char c, char *buffer, int *index);\n",
      "      |     ^~~~~~~~\n",
      "print_pointer.c:21:1: error: too few arguments to function ‘_putchar’\n",
      "   21 | _putchar('l');\n",
      "      | ^~~~~~~~\n",
      "In file included from print_pointer.c:2:\n",
      "main.h:23:5: note: declared here\n",
      "   23 | int _putchar(char c, char *buffer, int *index);\n",
      "      |     ^~~~~~~~\n",
      "print_pointer.c:22:1: error: too few arguments to function ‘_putchar’\n",
      "   22 | _putchar(')');\n",
      "      | ^~~~~~~~\n",
      "In file included from print_pointer.c:2:\n",
      "main.h:23:5: note: declared here\n",
      "   23 | int _putchar(char c, char *buffer, int *index);\n",
      "      |     ^~~~~~~~\n",
      "print_pointer.c:32:1: error: too few arguments to function ‘_putchar’\n",
      "   32 | _putchar('0');\n",
      "      | ^~~~~~~~\n",
      "In file included from print_pointer.c:2:\n",
      "main.h:23:5: note: declared here\n",
      "   23 | int _putchar(char c, char *buffer, int *index);\n",
      "      |     ^~~~~~~~\n",
      "print_pointer.c:33:1: error: too few arguments to function ‘_putchar’\n",
      "   33 | _putchar('x');\n",
      "      | ^~~~~~~~\n",
      "In file included from print_pointer.c:2:\n",
      "main.h:23:5: note: declared here\n",
      "   23 | int _putchar(char c, char *buffer, int *index);\n",
      "      |     ^~~~~~~~\n",
      "print_pointer.c:37:1: error: too few arguments to function ‘_putchar’\n",
      "   37 | _putchar(buffer[i]);\n",
      "      | ^~~~~~~~\n",
      "In file included from print_pointer.c:2:\n",
      "main.h:23:5: note: declared here\n",
      "   23 | int _putchar(char c, char *buffer, int *index);\n",
      "      |     ^~~~~~~~\n",
      "print_special_string.c:13:66: error: unknown type name ‘flags_t’\n",
      "   13 | int print_special_string(va_list list, char *buffer, int *index, flags_t flags)\n",
      "      |                                                                  ^~~~~~~\n",
      "print_string.c:10:5: error: conflicting types for ‘print_string’\n",
      "   10 | int print_string(va_list list)\n",
      "      |     ^~~~~~~~~~~~\n",
      "In file included from print_string.c:1:\n",
      "main.h:27:5: note: previous declaration of ‘print_string’ was here\n",
      "   27 | int print_string(va_list list, char *buffer, int *index);\n",
      "      |     ^~~~~~~~~~~~\n",
      "print_string.c: In function ‘print_string’:\n",
      "print_string.c:19:1: error: too few arguments to function ‘_putchar’\n",
      "   19 | _putchar(str[i]);\n",
      "      | ^~~~~~~~\n",
      "In file included from print_string.c:1:\n",
      "main.h:23:5: note: declared here\n",
      "   23 | int _putchar(char c, char *buffer, int *index);\n",
      "      |     ^~~~~~~~\n",
      "print_unsigned.c:10:5: error: conflicting types for ‘print_unsigned’\n",
      "   10 | int print_unsigned(va_list list)\n",
      "      |     ^~~~~~~~~~~~~~\n",
      "In file included from print_unsigned.c:2:\n",
      "main.h:29:5: note: previous declaration of ‘print_unsigned’ was here\n",
      "   29 | int print_unsigned(va_list list, char *buffer, int *index);\n",
      "      |     ^~~~~~~~~~~~~~\n",
      "print_unsigned.c: In function ‘print_unsigned’:\n",
      "print_unsigned.c:18:1: error: too few arguments to function ‘_putchar’\n",
      "   18 | _putchar('0');\n",
      "      | ^~~~~~~~\n",
      "In file included from print_unsigned.c:2:\n",
      "main.h:23:5: note: declared here\n",
      "   23 | int _putchar(char c, char *buffer, int *index);\n",
      "      |     ^~~~~~~~\n",
      "print_unsigned.c:29:1: error: too few arguments to function ‘_putchar’\n",
      "   29 | _putchar(buffer[i]);\n",
      "      | ^~~~~~~~\n",
      "In file included from print_unsigned.c:2:\n",
      "main.h:23:5: note: declared here\n",
      "   23 | int _putchar(char c, char *buffer, int *index);\n",
      "      |     ^~~~~~~~\n"
     ]
    },
    {
     "name": "stdout",
     "output_type": "stream",
     "text": [
      "Hello %\n",
      "(null)\n",
      "%\n",
      "Unsupported specifier: %q\n",
      "Number: -12345\n",
      "Number: -12345\n",
      "Max int: 2147483647\n",
      "Min int: -./,),(-*,(\n",
      "Hello %\n",
      "Returned: _printf: 8, printf: 8\n",
      "(null)\n",
      "Returned: _printf: 7, printf: 7\n",
      "%\n",
      "Returned: _printf: 2, printf: 2\n",
      "Unsupported specifier: %\n",
      "Returned: _printf: 26, printf: 25\n",
      "Number: -12345\n",
      "Returned: _printf: 15, printf: 15\n",
      "Number: -12345\n",
      "Returned: _printf: 15, printf: 15\n",
      "Max int: 2147483647\n",
      "Returned: _printf: 20, printf: 20\n",
      "Min int: -2147483648\n",
      "Returned: _printf: 21, printf: 21\n"
     ]
    }
   ],
   "source": [
    "%%bash\n",
    "cd /home/elkomy/alx/printf\n",
    "gcc -Wall -Wextra -Werror -pedantic -std=gnu89 -Wno-format *.c tests/main.c -o printf\n",
    "./printf\n"
   ]
  },
  {
   "cell_type": "code",
   "execution_count": 224,
   "metadata": {},
   "outputs": [
    {
     "name": "stdout",
     "output_type": "stream",
     "text": [
      "[main 71e2fc1] alx-low_level_programming/0x0D-preprocessor/0-putchar\n",
      " 20 files changed, 4436 insertions(+), 4859 deletions(-)\n",
      " rewrite 0x11. C - printf.ipynb (67%)\n",
      " create mode 100644 convert.c\n",
      " rewrite main.h (74%)\n",
      " create mode 100644 parse_flags.c\n",
      " rewrite print_integer.c (91%)\n",
      " create mode 100644 print_non_printable.c\n",
      " rewrite print_octal.c (86%)\n",
      " rewrite print_percent.c (77%)\n",
      " rewrite print_pointer.c (70%)\n",
      " create mode 100644 print_reverse.c\n",
      " create mode 100644 print_rot13.c\n",
      " rewrite print_special_string.c (73%)\n",
      " rewrite print_unsigned.c (70%)\n"
     ]
    },
    {
     "name": "stderr",
     "output_type": "stream",
     "text": [
      "To https://github.com/elkomysara/printf\n",
      "   86549d3..71e2fc1  main -> main\n"
     ]
    }
   ],
   "source": [
    "%%bash\n",
    "git add .\n",
    "git commit -m \"alx-low_level_programming/0x0D-preprocessor/0-putchar\"\n",
    "git push"
   ]
  },
  {
   "cell_type": "code",
   "execution_count": null,
   "metadata": {},
   "outputs": [],
   "source": []
  },
  {
   "cell_type": "markdown",
   "metadata": {},
   "source": [
    "###\n",
    "---\n",
    "<center>\n",
    "<h4>6. How is the world ruled and led to war? Diplomats lie to journalists and believe these lies when they see them in print</h4>\n",
    "</center>\n",
    "\n",
    "---"
   ]
  },
  {
   "cell_type": "markdown",
   "metadata": {},
   "source": [
    "\n",
    "#### Handle the following conversion specifier: `p`.\n",
    "\n",
    "* You don’t have to handle the flag characters\n",
    "* You don’t have to handle field width\n",
    "* You don’t have to handle precision\n",
    "* You don’t have to handle the length modifiers\n",
    "\n",
    "#### Repo:\n",
    "* GitHub repository: ``` printf```"
   ]
  },
  {
   "cell_type": "code",
   "execution_count": 524,
   "metadata": {},
   "outputs": [
    {
     "name": "stdout",
     "output_type": "stream",
     "text": [
      "Overwriting /home/elkomy/alx/printf/_printf.c\n"
     ]
    }
   ],
   "source": [
    "%%file /home/elkomy/alx/printf/_printf.c\n",
    "#include \"main.h\"\n",
    "#include <unistd.h>\n",
    "\n",
    "/**\n",
    "* _printf - Receives the main string and all the necessary parameters to\n",
    "* print a formatted string\n",
    "* @format: A string containing all the desired characters\n",
    "* Return: A total count of the characters printed\n",
    "*/\n",
    "int _printf(const char *format, ...)\n",
    "{\n",
    "va_list arg_list;\n",
    "int printed_chars = 0;\n",
    "char buffer[1024];\n",
    "int index = 0;\n",
    "\n",
    "conver_t f_list[] = {\n",
    "{\"%\", print_percent},\n",
    "{\"c\", print_char},\n",
    "{\"s\", print_string},\n",
    "{\"d\", print_integer},\n",
    "{\"i\", print_integer},\n",
    "{\"b\", print_binary},\n",
    "{\"u\", print_unsigned},\n",
    "{\"o\", print_octal},\n",
    "{\"x\", print_hex},\n",
    "{\"X\", print_HEX},\n",
    "{\"S\", print_special_string},\n",
    "{\"p\", print_pointer},\n",
    "{NULL, NULL}\n",
    "};\n",
    "\n",
    "va_start(arg_list, format);\n",
    "printed_chars = format_reciever(format, f_list, arg_list, buffer, &index);\n",
    "va_end(arg_list);\n",
    "\n",
    "buffer[index] = '\\0';\n",
    "write(1, buffer, index);\n",
    "\n",
    "return (printed_chars);\n",
    "}\n"
   ]
  },
  {
   "cell_type": "code",
   "execution_count": 525,
   "metadata": {},
   "outputs": [
    {
     "name": "stdout",
     "output_type": "stream",
     "text": [
      "Overwriting /home/elkomy/alx/printf/print_pointer.c\n"
     ]
    }
   ],
   "source": [
    "%%file /home/elkomy/alx/printf/print_pointer.c\n",
    "#include \"main.h\"\n",
    "#include <stdio.h>\n",
    "\n",
    "/**\n",
    " * print_pointer - Prints a pointer address\n",
    " * @list: list of arguments\n",
    " * @buffer: buffer to store characters\n",
    " * @index: current index in the buffer\n",
    " * Return: The number of characters printed\n",
    " */\n",
    "int print_pointer(va_list list, char *buffer, int *index)\n",
    "{\n",
    "    void *ptr = va_arg(list, void *);\n",
    "    unsigned long int addr = (unsigned long int)ptr;\n",
    "    char *hex_str;\n",
    "    int num_chars = 0;\n",
    "\n",
    "    if (ptr == NULL)\n",
    "    {\n",
    "        return (_puts(\"(nil)\", buffer, index));\n",
    "    }\n",
    "\n",
    "    _puts(\"0x\", buffer, index);\n",
    "    num_chars += 2;\n",
    "\n",
    "    hex_str = convert(addr, 16, 1);\n",
    "    num_chars += _puts(hex_str, buffer, index);\n",
    "\n",
    "    return (num_chars);\n",
    "}\n"
   ]
  },
  {
   "cell_type": "code",
   "execution_count": null,
   "metadata": {},
   "outputs": [
    {
     "name": "stdout",
     "output_type": "stream",
     "text": [
      "Overwriting /home/elkomy/alx/printf/format_reciever.c\n"
     ]
    }
   ],
   "source": [
    "%%file /home/elkomy/alx/printf/format_reciever.c\n",
    "#include \"main.h\"\n",
    "#include <stdio.h>\n",
    "\n",
    "/**\n",
    " * format_reciever - Receives the main string and all the necessary parameters to\n",
    " * print a formatted string\n",
    " * @format: A string containing all the desired characters\n",
    " * @f_list: A list of format specifiers and their corresponding functions\n",
    " * @arg_list: A list of arguments to be printed\n",
    " * @buffer: Buffer to store the formatted string\n",
    " * @index: Current index in the buffer\n",
    " * Return: A total count of the characters printed\n",
    " */\n",
    "int format_reciever(const char *format, conver_t f_list[], va_list arg_list, char *buffer, int *index)\n",
    "{\n",
    "    int i = 0, j, count = 0;\n",
    "\n",
    "    while (format && format[i])\n",
    "    {\n",
    "        if (format[i] == '%')\n",
    "        {\n",
    "            i++;\n",
    "            for (j = 0; f_list[j].specifier != NULL; j++)\n",
    "            {\n",
    "                if (format[i] == f_list[j].specifier[0])\n",
    "                {\n",
    "                    count += f_list[j].f(arg_list, buffer, index);\n",
    "                    break;\n",
    "                }\n",
    "            }\n",
    "            if (f_list[j].specifier == NULL)\n",
    "            {\n",
    "                buffer[*index] = '%';\n",
    "                buffer[*index + 1] = format[i];\n",
    "                *index += 2;\n",
    "                count += 2;\n",
    "            }\n",
    "        }\n",
    "        else\n",
    "        {\n",
    "            buffer[*index] = format[i];\n",
    "            (*index)++;\n",
    "            count++;\n",
    "        }\n",
    "        i++;\n",
    "    }\n",
    "    return (count);\n",
    "}\n"
   ]
  },
  {
   "cell_type": "code",
   "execution_count": 526,
   "metadata": {},
   "outputs": [
    {
     "name": "stdout",
     "output_type": "stream",
     "text": [
      "Overwriting /home/elkomy/alx/printf/main.h\n"
     ]
    }
   ],
   "source": [
    "%%file /home/elkomy/alx/printf/main.h\n",
    "#ifndef MAIN_H\n",
    "#define MAIN_H\n",
    "\n",
    "#include <stdarg.h>\n",
    "#include <stdlib.h>\n",
    "\n",
    "typedef struct converter {\n",
    "    char *specifier;\n",
    "    int (*f)(va_list, char *, int *);\n",
    "} conver_t;\n",
    "\n",
    "int _printf(const char *format, ...);\n",
    "int _putchar(char c, char *buffer, int *index);\n",
    "int _puts(char *str, char *buffer, int *index);\n",
    "int format_reciever(const char *format, conver_t f_list[], va_list arg_list, char *buffer, int *index);\n",
    "int print_char(va_list list, char *buffer, int *index);\n",
    "int print_string(va_list list, char *buffer, int *index);\n",
    "int print_percent(va_list list, char *buffer, int *index);\n",
    "int print_integer(va_list list, char *buffer, int *index);\n",
    "int print_number(int n, char *buffer, int *index);\n",
    "int print_binary(va_list list, char *buffer, int *index);\n",
    "int print_unsigned(va_list list, char *buffer, int *index);\n",
    "int print_octal(va_list list, char *buffer, int *index);\n",
    "int print_hex(va_list list, char *buffer, int *index);\n",
    "int print_HEX(va_list list, char *buffer, int *index);\n",
    "int print_special_string(va_list list, char *buffer, int *index);\n",
    "char *convert(unsigned long int num, int base, int lowercase);\n",
    "int print_pointer(va_list list, char *buffer, int *index);\n",
    "\n",
    "#endif /* MAIN_H */\n"
   ]
  },
  {
   "cell_type": "code",
   "execution_count": 527,
   "metadata": {},
   "outputs": [
    {
     "name": "stdout",
     "output_type": "stream",
     "text": [
      "Overwriting /home/elkomy/alx/printf/tests/main.c\n"
     ]
    }
   ],
   "source": [
    "%%file /home/elkomy/alx/printf/tests/main.c\n",
    "#include \"../main.h\"\n",
    "\n",
    "/**\n",
    " * main - Entry point\n",
    " *\n",
    " * Return: Always 0\n",
    " */\n",
    "int main(void)\n",
    "{\n",
    "    int *ptr = (int *)0x7ffe637541f0;\n",
    "\n",
    "    _printf(\"Pointer address: %p\\n\", ptr);\n",
    "    _printf(\"%S\\n\", \"Best\\nSchool\");\n",
    "    return (0);\n",
    "}"
   ]
  },
  {
   "cell_type": "code",
   "execution_count": 528,
   "metadata": {},
   "outputs": [
    {
     "name": "stdout",
     "output_type": "stream",
     "text": [
      "\n",
      "========== /home/elkomy/alx/printf/_printf.c ==========\n",
      "_printf\n",
      "Pointer address: 0x7ffe637541f0\n",
      "Best\\x0ASchool\n"
     ]
    }
   ],
   "source": [
    "\n",
    "!betty /home/elkomy/alx/printf/_printf.c\n",
    "!gcc -Wall -Werror -Wextra -pedantic -std=gnu89 -Wno-format /home/elkomy/alx/printf/*.c /home/elkomy/alx/printf/tests/main.c -o /home/elkomy/alx/printf/printf\n",
    "!./printf\n"
   ]
  },
  {
   "cell_type": "code",
   "execution_count": 529,
   "metadata": {},
   "outputs": [
    {
     "name": "stdout",
     "output_type": "stream",
     "text": [
      "[main 42d887a] alx-low_level_programming/0x0D-preprocessor/0-putchar\n",
      " 5 files changed, 36 insertions(+), 1 deletion(-)\n",
      " create mode 100644 print_pointer.c\n"
     ]
    },
    {
     "name": "stderr",
     "output_type": "stream",
     "text": [
      "To https://github.com/elkomysara/printf\n",
      "   5a53f46..42d887a  main -> main\n"
     ]
    }
   ],
   "source": [
    "%%bash\n",
    "git add .\n",
    "git commit -m \"alx-low_level_programming/0x0D-preprocessor/0-putchar\"\n",
    "git push"
   ]
  },
  {
   "cell_type": "code",
   "execution_count": null,
   "metadata": {},
   "outputs": [],
   "source": []
  },
  {
   "cell_type": "markdown",
   "metadata": {},
   "source": [
    "###\n",
    "---\n",
    "<center>\n",
    "<h4>7. The big print gives and the small print takes away</h4>\n",
    "</center>\n",
    "\n",
    "---"
   ]
  },
  {
   "cell_type": "markdown",
   "metadata": {},
   "source": [
    "\n",
    "#### Handle the following flag characters for non-custom conversion specifiers:\n",
    "\n",
    "* `+`\n",
    "* space\n",
    "* `#`\n",
    "\n",
    "#### Repo:\n",
    "* GitHub repository: ``` printf```"
   ]
  },
  {
   "cell_type": "code",
   "execution_count": 42,
   "metadata": {},
   "outputs": [
    {
     "name": "stdout",
     "output_type": "stream",
     "text": [
      "Overwriting /home/elkomy/alx/printf/_printf.c\n"
     ]
    }
   ],
   "source": [
    "%%file /home/elkomy/alx/printf/_printf.c\n",
    "#include \"main.h\"\n",
    "#include <unistd.h>\n",
    "\n",
    "/**\n",
    "* _printf - Receives the main string and all the necessary parameters to\n",
    "* print a formatted string\n",
    "* @format: A string containing all the desired characters\n",
    "* Return: A total count of the characters printed\n",
    "*/\n",
    "int _printf(const char *format, ...)\n",
    "{\n",
    "va_list arg_list;\n",
    "int printed_chars = 0;\n",
    "char buffer[1024];\n",
    "int index = 0;\n",
    "\n",
    "conver_t f_list[] = {\n",
    "{\"%\", print_percent},\n",
    "{\"c\", print_char},\n",
    "{\"s\", print_string},\n",
    "{\"d\", print_integer},\n",
    "{\"i\", print_integer},\n",
    "{\"b\", print_binary},\n",
    "{\"u\", print_unsigned},\n",
    "{\"o\", print_octal},\n",
    "{\"x\", print_hex},\n",
    "{\"X\", print_HEX},\n",
    "{\"S\", print_special_string},\n",
    "{\"p\", print_pointer},\n",
    "{NULL, NULL}\n",
    "};\n",
    "\n",
    "va_start(arg_list, format);\n",
    "printed_chars = format_reciever(format, f_list, arg_list, buffer, &index);\n",
    "va_end(arg_list);\n",
    "\n",
    "buffer[index] = '\\0';\n",
    "write(1, buffer, index);\n",
    "\n",
    "return (printed_chars);\n",
    "}\n"
   ]
  },
  {
   "cell_type": "code",
   "execution_count": 1,
   "metadata": {},
   "outputs": [
    {
     "name": "stdout",
     "output_type": "stream",
     "text": [
      "Overwriting /home/elkomy/alx/printf/format_reciever.c\n"
     ]
    }
   ],
   "source": [
    "%%file /home/elkomy/alx/printf/format_reciever.c\n",
    "#include \"main.h\"\n",
    "#include <stdio.h>\n",
    "\n",
    "/**\n",
    " * format_reciever - Receives the main string and necessary parameters to\n",
    " * print a formatted string\n",
    " * @format: A string containing all the desired characters\n",
    " * @f_list: List of format specifiers and their corresponding functions\n",
    " * @arg_list: List of arguments\n",
    " * @buffer: Buffer to store characters\n",
    " * @index: Current index in the buffer\n",
    " * Return: Number of characters printed\n",
    " */\n",
    "int format_reciever(const char *format, conver_t f_list[], va_list arg_list, char *buffer, int *index)\n",
    "{\n",
    "    int i = 0, j, printed_chars = 0;\n",
    "    flags_t flags;\n",
    "\n",
    "    while (format[i])\n",
    "    {\n",
    "        if (format[i] == '%')\n",
    "        {\n",
    "            i++;\n",
    "            flags = parse_flags(format, &i);\n",
    "\n",
    "            for (j = 0; f_list[j].sym != NULL; j++)\n",
    "            {\n",
    "                if (format[i] == f_list[j].sym[0])\n",
    "                {\n",
    "                    printed_chars += f_list[j].f(arg_list, buffer, index, flags);\n",
    "                    break;\n",
    "                }\n",
    "            }\n",
    "            if (f_list[j].sym == NULL)\n",
    "            {\n",
    "                _putchar('%', buffer, index);\n",
    "                _putchar(format[i], buffer, index);\n",
    "                printed_chars += 2;\n",
    "            }\n",
    "            i++;\n",
    "        }\n",
    "        else\n",
    "        {\n",
    "            _putchar(format[i], buffer, index);\n",
    "            printed_chars++;\n",
    "            i++;\n",
    "        }\n",
    "    }\n",
    "    return (printed_chars);\n",
    "}"
   ]
  },
  {
   "cell_type": "code",
   "execution_count": 2,
   "metadata": {},
   "outputs": [
    {
     "name": "stdout",
     "output_type": "stream",
     "text": [
      "Overwriting /home/elkomy/alx/printf/main.h\n"
     ]
    }
   ],
   "source": [
    "%%file /home/elkomy/alx/printf/main.h\n",
    "#ifndef MAIN_H\n",
    "#define MAIN_H\n",
    "\n",
    "#include <stdarg.h>\n",
    "#include <stdlib.h>\n",
    "#include <unistd.h>\n",
    "\n",
    "/**\n",
    " * struct flags - struct containing flags to \"turn on\"\n",
    " * when a flag specifier is passed to _printf()\n",
    " * @plus: flag for the '+' character\n",
    " * @space: flag for the ' ' character\n",
    " * @hash: flag for the '#' character\n",
    " */\n",
    "typedef struct flags\n",
    "{\n",
    "    int plus;\n",
    "    int space;\n",
    "    int hash;\n",
    "} flags_t;\n",
    "\n",
    "/**\n",
    " * struct convert - struct for symbols and functions\n",
    " * @sym: The operator\n",
    " * @f: The function associated\n",
    " */\n",
    "typedef struct convert\n",
    "{\n",
    "    char *sym;\n",
    "    int (*f)(va_list, char *, int *, flags_t);\n",
    "} conver_t;\n",
    "\n",
    "int _printf(const char *format, ...);\n",
    "int format_reciever(const char *format, conver_t f_list[], va_list arg_list, char *buffer, int *index);\n",
    "int _putchar(char c, char *buffer, int *index);\n",
    "char *convert(unsigned long int num, int base, int lowercase);\n",
    "flags_t parse_flags(const char *format, int *i);\n",
    "\n",
    "/* Function prototypes */\n",
    "int _printf(const char *format, ...);\n",
    "int print_char(va_list l, char *buf, int *i, flags_t);\n",
    "int print_string(va_list l, char *buf, int *i, flags_t);\n",
    "int print_percent(va_list l, char *buf, int *i, flags_t);\n",
    "int print_integer(va_list l, char *buf, int *i, flags_t);\n",
    "int print_unsigned(va_list l, char *buf, int *i, flags_t);\n",
    "int print_binary(va_list l, char *buf, int *i, flags_t);\n",
    "int print_octal(va_list l, char *buf, int *i, flags_t);\n",
    "int print_hex(va_list l, char *buf, int *i, flags_t);\n",
    "int print_HEX(va_list l, char *buf, int *i, flags_t);\n",
    "int print_pointer(va_list l, char *buf, int *i, flags_t);\n",
    "int print_reverse(va_list l, char *buf, int *i, flags_t);\n",
    "int print_rot13(va_list l, char *buf, int *i, flags_t);\n",
    "int print_non_printable(va_list l, char *buf, int *i, flags_t);\n",
    "int print_special_string(va_list, char *, int *, flags_t);\n",
    "\n",
    "#endif /* MAIN_H */\n"
   ]
  },
  {
   "cell_type": "code",
   "execution_count": 234,
   "metadata": {},
   "outputs": [
    {
     "name": "stdout",
     "output_type": "stream",
     "text": [
      "Overwriting /home/elkomy/alx/printf/parse_flags.c\n"
     ]
    }
   ],
   "source": [
    "%%file /home/elkomy/alx/printf/parse_flags.c\n",
    "#include \"main.h\"\n",
    "\n",
    "flags_t parse_flags(const char *format, int *i)\n",
    "{\n",
    "    flags_t flags = {0, 0, 0};\n",
    "\n",
    "    while (format[*i])\n",
    "    {\n",
    "        if (format[*i] == '+')\n",
    "            flags.plus = 1;\n",
    "        else if (format[*i] == ' ')\n",
    "            flags.space = 1;\n",
    "        else if (format[*i] == '#')\n",
    "            flags.hash = 1;\n",
    "        else\n",
    "            break;\n",
    "        (*i)++;\n",
    "    }\n",
    "\n",
    "    return flags;\n",
    "}\n"
   ]
  },
  {
   "cell_type": "code",
   "execution_count": 236,
   "metadata": {},
   "outputs": [
    {
     "name": "stdout",
     "output_type": "stream",
     "text": [
      "Overwriting /home/elkomy/alx/printf/print_pointer.c\n"
     ]
    }
   ],
   "source": [
    "%%file /home/elkomy/alx/printf/print_pointer.c\n",
    "#include \"main.h\"\n",
    "#include <stdio.h>\n",
    "\n",
    "/**\n",
    " * print_pointer - Prints a pointer address\n",
    " * @list: List of arguments\n",
    " * @buffer: Buffer to store characters\n",
    " * @index: Current index in the buffer\n",
    " * @flags: Flags for formatting\n",
    " * Return: Number of characters printed\n",
    " */\n",
    "int print_pointer(va_list list, char *buffer, int *index, flags_t flags)\n",
    "{\n",
    "    void *ptr = va_arg(list, void *);\n",
    "    unsigned long int addr = (unsigned long int)ptr;\n",
    "    char hex[17];\n",
    "    int i, digit;\n",
    "\n",
    "    (void)flags; /* Suppress unused parameter warning */\n",
    "\n",
    "    _putchar('0', buffer, index);\n",
    "    _putchar('x', buffer, index);\n",
    "\n",
    "    i = 15;\n",
    "    while (addr)\n",
    "    {\n",
    "        digit = addr % 16;\n",
    "        hex[i--] = (digit < 10) ? digit + '0' : digit - 10 + 'a';\n",
    "        addr /= 16;\n",
    "    }\n",
    "    i++;\n",
    "    while (i < 16)\n",
    "    {\n",
    "        _putchar(hex[i++], buffer, index);\n",
    "    }\n",
    "\n",
    "    return (2 + 15 - i);\n",
    "}\n"
   ]
  },
  {
   "cell_type": "code",
   "execution_count": 237,
   "metadata": {},
   "outputs": [
    {
     "name": "stdout",
     "output_type": "stream",
     "text": [
      "Overwriting /home/elkomy/alx/printf/print_char.c\n"
     ]
    }
   ],
   "source": [
    "%%file /home/elkomy/alx/printf/print_char.c\n",
    "#include \"main.h\"\n",
    "#include <stdio.h>\n",
    "\n",
    "/**\n",
    " * print_char - Prints a character\n",
    " * @list: List of arguments\n",
    " * @buffer: Buffer to store characters\n",
    " * @index: Current index in the buffer\n",
    " * @flags: Flags for formatting\n",
    " * Return: Number of characters printed\n",
    " */\n",
    "int print_char(va_list list, char *buffer, int *index, flags_t flags)\n",
    "{\n",
    "    char c = va_arg(list, int);\n",
    "\n",
    "    (void)flags; /* Flags are not used for characters */\n",
    "    \n",
    "    buffer[*index] = c;\n",
    "    (*index)++;\n",
    "\n",
    "    return (1);\n",
    "}\n"
   ]
  },
  {
   "cell_type": "code",
   "execution_count": 238,
   "metadata": {},
   "outputs": [
    {
     "name": "stdout",
     "output_type": "stream",
     "text": [
      "Overwriting /home/elkomy/alx/printf/convert.c\n"
     ]
    }
   ],
   "source": [
    "%%file /home/elkomy/alx/printf/convert.c\n",
    "#include \"main.h\"\n",
    "#include <stdlib.h>\n",
    "\n",
    "/**\n",
    " * convert - Converts a number to a string in the given base\n",
    " * @num: The number to be converted\n",
    " * @base: The base to convert to\n",
    " * @lowercase: Flag to determine if hex letters should be lowercase\n",
    " * Return: A pointer to the converted string (static buffer)\n",
    " */\n",
    "\n",
    "\n",
    "char *convert(unsigned long int num, int base, int lowercase)\n",
    "{\n",
    "    static char *rep;\n",
    "    static char buffer[50];\n",
    "    char *ptr;\n",
    "\n",
    "    rep = (lowercase) ? \"0123456789abcdef\" : \"0123456789ABCDEF\";\n",
    "    ptr = &buffer[49];\n",
    "    *ptr = '\\0';\n",
    "\n",
    "    do\n",
    "    {\n",
    "        *--ptr = rep[num % base];\n",
    "        num /= base;\n",
    "    } while (num != 0);\n",
    "\n",
    "    return (ptr);\n",
    "}\n"
   ]
  },
  {
   "cell_type": "code",
   "execution_count": 239,
   "metadata": {},
   "outputs": [
    {
     "name": "stdout",
     "output_type": "stream",
     "text": [
      "Overwriting /home/elkomy/alx/printf/print_string.c\n"
     ]
    }
   ],
   "source": [
    "%%file /home/elkomy/alx/printf/print_string.c\n",
    "#include \"main.h\"\n",
    "#include <stdio.h>\n",
    "\n",
    "/**\n",
    " * print_string - Prints a string\n",
    " * @list: List of arguments\n",
    " * @buffer: Buffer to store characters\n",
    " * @index: Current index in the buffer\n",
    " * @flags: Flags for formatting\n",
    " * Return: Number of characters printed\n",
    " */\n",
    "int print_string(va_list list, char *buffer, int *index, flags_t flags)\n",
    "{\n",
    "    char *str = va_arg(list, char *);\n",
    "    int num_chars = 0;\n",
    "\n",
    "    (void)flags; /* Flags are not used for strings */\n",
    "\n",
    "    if (str == NULL)\n",
    "        str = \"(null)\";\n",
    "\n",
    "    while (*str)\n",
    "    {\n",
    "        buffer[*index] = *str;\n",
    "        (*index)++;\n",
    "        str++;\n",
    "        num_chars++;\n",
    "    }\n",
    "\n",
    "    return (num_chars);\n",
    "}\n"
   ]
  },
  {
   "cell_type": "code",
   "execution_count": 240,
   "metadata": {},
   "outputs": [
    {
     "name": "stdout",
     "output_type": "stream",
     "text": [
      "Overwriting /home/elkomy/alx/printf/print_percent.c\n"
     ]
    }
   ],
   "source": [
    "%%file /home/elkomy/alx/printf/print_percent.c\n",
    "#include \"main.h\"\n",
    "#include <stdio.h>\n",
    "\n",
    "/**\n",
    " * print_percent - Prints a percent symbol\n",
    " * @list: List of arguments\n",
    " * @buffer: Buffer to store characters\n",
    " * @index: Current index in the buffer\n",
    " * @flags: Flags for formatting\n",
    " * Return: Number of characters printed\n",
    " */\n",
    "int print_percent(va_list list, char *buffer, int *index, flags_t flags)\n",
    "{\n",
    "    (void)list;\n",
    "    (void)flags; /* Flags are not used for percent */\n",
    "\n",
    "    buffer[*index] = '%';\n",
    "    (*index)++;\n",
    "\n",
    "    return (1);\n",
    "}\n"
   ]
  },
  {
   "cell_type": "code",
   "execution_count": 5,
   "metadata": {},
   "outputs": [
    {
     "name": "stdout",
     "output_type": "stream",
     "text": [
      "Overwriting /home/elkomy/alx/printf/print_integer.c\n"
     ]
    }
   ],
   "source": [
    "%%file /home/elkomy/alx/printf/print_integer.c\n",
    "\n",
    "#include \"main.h\"\n",
    "#include <stdlib.h>  /* Include stdlib.h for malloc */\n",
    "\n",
    "/* Helper function to implement itoa since it's not standard in C */\n",
    "void itoa(int num, char *str, int base) {\n",
    "    int i = 0;\n",
    "    int is_negative = 0;\n",
    "    int start, end;\n",
    "\n",
    "    /* Handle 0 explicitly, otherwise empty string is printed for 0 */\n",
    "    if (num == 0) {\n",
    "        str[i++] = '0';\n",
    "        str[i] = '\\0';\n",
    "        return;\n",
    "    }\n",
    "\n",
    "    /* Handle negative numbers for base 10 */\n",
    "    if (num < 0 && base == 10) {\n",
    "        is_negative = 1;\n",
    "        num = -num;\n",
    "    }\n",
    "\n",
    "    /* Process individual digits */\n",
    "    while (num != 0) {\n",
    "        int rem = num % base;\n",
    "        str[i++] = (rem > 9) ? (rem - 10) + 'a' : rem + '0';\n",
    "        num = num / base;\n",
    "    }\n",
    "\n",
    "    /* Append '-' for negative numbers */\n",
    "    if (is_negative) {\n",
    "        str[i++] = '-';\n",
    "    }\n",
    "\n",
    "    str[i] = '\\0';\n",
    "\n",
    "    /* Reverse the string */\n",
    "    start = 0;\n",
    "    end = i - 1;\n",
    "    while (start < end) {\n",
    "        char temp = str[start];\n",
    "        str[start] = str[end];\n",
    "        str[end] = temp;\n",
    "        start++;\n",
    "        end--;\n",
    "    }\n",
    "}\n",
    "\n",
    "/**\n",
    " * print_integer - Prints an integer\n",
    " * @list: List of arguments\n",
    " * @buffer: Buffer to store characters\n",
    " * @index: Current index in the buffer\n",
    " * @flags: Flags for formatting\n",
    " * Return: Number of characters printed\n",
    " */\n",
    "int print_integer(va_list list, char *buffer, int *index, flags_t flags)\n",
    "{\n",
    "    int num = va_arg(list, int);\n",
    "    char str[12];\n",
    "    int i = 0, num_chars = 0;\n",
    "\n",
    "    itoa(num, str, 10);\n",
    "\n",
    "    /* Handle the space and plus flags */\n",
    "    if (flags.plus && num >= 0)\n",
    "    {\n",
    "        _putchar('+', buffer, index);\n",
    "        num_chars++;\n",
    "    }\n",
    "    else if (flags.space && num >= 0)\n",
    "    {\n",
    "        _putchar(' ', buffer, index);\n",
    "        num_chars++;\n",
    "    }\n",
    "\n",
    "    while (str[i])\n",
    "    {\n",
    "        _putchar(str[i], buffer, index);\n",
    "        i++;\n",
    "        num_chars++;\n",
    "    }\n",
    "\n",
    "    return (num_chars);\n",
    "}\n"
   ]
  },
  {
   "cell_type": "code",
   "execution_count": 6,
   "metadata": {},
   "outputs": [
    {
     "name": "stdout",
     "output_type": "stream",
     "text": [
      "Overwriting /home/elkomy/alx/printf/print_binary.c\n"
     ]
    }
   ],
   "source": [
    "%%file /home/elkomy/alx/printf/print_binary.c\n",
    "#include \"main.h\"\n",
    "#include <stdio.h>\n",
    "\n",
    "/**\n",
    " * print_binary - Prints a number in binary\n",
    " * @list: List of arguments\n",
    " * @buffer: Buffer to store characters\n",
    " * @index: Current index in the buffer\n",
    " * @flags: Flags for formatting\n",
    " * Return: Number of characters printed\n",
    " */\n",
    "int print_binary(va_list list, char *buffer, int *index, flags_t flags)\n",
    "{\n",
    "    unsigned int num = va_arg(list, unsigned int);\n",
    "    int num_chars = 0;\n",
    "    char *str = convert(num, 2, 0);\n",
    "\n",
    "    (void)flags; /* Flags are not used for binary */\n",
    "\n",
    "    while (*str)\n",
    "    {\n",
    "        buffer[*index] = *str;\n",
    "        (*index)++;\n",
    "        str++;\n",
    "        num_chars++;\n",
    "    }\n",
    "\n",
    "    return (num_chars);\n",
    "}\n"
   ]
  },
  {
   "cell_type": "code",
   "execution_count": null,
   "metadata": {},
   "outputs": [],
   "source": []
  },
  {
   "cell_type": "code",
   "execution_count": 7,
   "metadata": {},
   "outputs": [
    {
     "name": "stdout",
     "output_type": "stream",
     "text": [
      "Overwriting /home/elkomy/alx/printf/print_unsigned.c\n"
     ]
    }
   ],
   "source": [
    "%%file /home/elkomy/alx/printf/print_unsigned.c\n",
    "#include \"main.h\"\n",
    "#include <stdio.h>\n",
    "\n",
    "/**\n",
    " * print_unsigned - Prints an unsigned integer\n",
    " * @list: List of arguments\n",
    " * @buffer: Buffer to store characters\n",
    " * @index: Current index in the buffer\n",
    " * @flags: Flags for formatting\n",
    " * Return: Number of characters printed\n",
    " */\n",
    "int print_unsigned(va_list list, char *buffer, int *index, flags_t flags)\n",
    "{\n",
    "    unsigned int n = va_arg(list, unsigned int);\n",
    "    int num_chars = 0;\n",
    "    char temp[50];\n",
    "    int temp_index = 0;\n",
    "\n",
    "    (void)flags; /* Flags are not used for unsigned integers */\n",
    "\n",
    "    do {\n",
    "        temp[temp_index++] = (n % 10) + '0';\n",
    "        n /= 10;\n",
    "    } while (n > 0);\n",
    "\n",
    "    for (temp_index--; temp_index >= 0; temp_index--)\n",
    "    {\n",
    "        buffer[*index] = temp[temp_index];\n",
    "        (*index)++;\n",
    "        num_chars++;\n",
    "    }\n",
    "\n",
    "    return (num_chars);\n",
    "}\n"
   ]
  },
  {
   "cell_type": "code",
   "execution_count": 8,
   "metadata": {},
   "outputs": [
    {
     "name": "stdout",
     "output_type": "stream",
     "text": [
      "Overwriting /home/elkomy/alx/printf/print_octal.c\n"
     ]
    }
   ],
   "source": [
    "%%file /home/elkomy/alx/printf/print_octal.c\n",
    "#include \"main.h\"\n",
    "#include <stdio.h>\n",
    "\n",
    "/**\n",
    " * print_octal - Prints a number in octal\n",
    " * @list: List of arguments\n",
    " * @buffer: Buffer to store characters\n",
    " * @index: Current index in the buffer\n",
    " * @flags: Flags for formatting\n",
    " * Return: Number of characters printed\n",
    " */\n",
    "int print_octal(va_list list, char *buffer, int *index, flags_t flags)\n",
    "{\n",
    "    unsigned int num = va_arg(list, unsigned int);\n",
    "    int num_chars = 0;\n",
    "    char *str;\n",
    "\n",
    "    if (flags.hash && num != 0)\n",
    "    {\n",
    "        buffer[*index] = '0';\n",
    "        (*index)++;\n",
    "        num_chars++;\n",
    "    }\n",
    "\n",
    "    str = convert(num, 8, 0);\n",
    "    while (*str)\n",
    "    {\n",
    "        buffer[*index] = *str;\n",
    "        (*index)++;\n",
    "        str++;\n",
    "        num_chars++;\n",
    "    }\n",
    "\n",
    "    return (num_chars);\n",
    "}\n"
   ]
  },
  {
   "cell_type": "code",
   "execution_count": 9,
   "metadata": {},
   "outputs": [
    {
     "name": "stdout",
     "output_type": "stream",
     "text": [
      "Overwriting /home/elkomy/alx/printf/print_hex.c\n"
     ]
    }
   ],
   "source": [
    "%%file /home/elkomy/alx/printf/print_hex.c\n",
    "#include \"main.h\"\n",
    "#include <stdio.h>\n",
    "\n",
    "/**\n",
    " * print_hex - Prints a number in hexadecimal (lowercase)\n",
    " * @list: List of arguments\n",
    " * @buffer: Buffer to store characters\n",
    " * @index: Current index in the buffer\n",
    " * @flags: Flags for formatting\n",
    " * Return: Number of characters printed\n",
    " */\n",
    "int print_hex(va_list list, char *buffer, int *index, flags_t flags)\n",
    "{\n",
    "    unsigned int num = va_arg(list, unsigned int);\n",
    "    int num_chars = 0;\n",
    "    char *str;\n",
    "\n",
    "    if (flags.hash && num != 0)\n",
    "    {\n",
    "        buffer[*index] = '0';\n",
    "        buffer[*index + 1] = 'x';\n",
    "        *index += 2;\n",
    "        num_chars += 2;\n",
    "    }\n",
    "\n",
    "    str = convert(num, 16, 1);\n",
    "    while (*str)\n",
    "    {\n",
    "        buffer[*index] = *str;\n",
    "        (*index)++;\n",
    "        str++;\n",
    "        num_chars++;\n",
    "    }\n",
    "\n",
    "    return (num_chars);\n",
    "}\n"
   ]
  },
  {
   "cell_type": "code",
   "execution_count": 10,
   "metadata": {},
   "outputs": [
    {
     "name": "stdout",
     "output_type": "stream",
     "text": [
      "Overwriting /home/elkomy/alx/printf/print_HEX.c\n"
     ]
    }
   ],
   "source": [
    "%%file /home/elkomy/alx/printf/print_HEX.c\n",
    "\n",
    "#include \"main.h\"\n",
    "#include <stdio.h>\n",
    "\n",
    "/**\n",
    " * print_HEX - Prints a number in hexadecimal (uppercase)\n",
    " * @list: List of arguments\n",
    " * @buffer: Buffer to store characters\n",
    " * @index: Current index in the buffer\n",
    " * @flags: Flags for formatting\n",
    " * Return: Number of characters printed\n",
    " */\n",
    "int print_HEX(va_list list, char *buffer, int *index, flags_t flags)\n",
    "{\n",
    "    unsigned int num = va_arg(list, unsigned int);\n",
    "    int num_chars = 0;\n",
    "    char *str;\n",
    "\n",
    "    if (flags.hash && num != 0)\n",
    "    {\n",
    "        buffer[*index] = '0';\n",
    "        buffer[*index + 1] = 'X';\n",
    "        *index += 2;\n",
    "        num_chars += 2;\n",
    "    }\n",
    "\n",
    "    str = convert(num, 16, 0);\n",
    "    while (*str)\n",
    "    {\n",
    "        buffer[*index] = *str;\n",
    "        (*index)++;\n",
    "        str++;\n",
    "        num_chars++;\n",
    "    }\n",
    "\n",
    "    return (num_chars);\n",
    "}\n"
   ]
  },
  {
   "cell_type": "code",
   "execution_count": 247,
   "metadata": {},
   "outputs": [
    {
     "name": "stdout",
     "output_type": "stream",
     "text": [
      "Overwriting /home/elkomy/alx/printf/print_reverse.c\n"
     ]
    }
   ],
   "source": [
    "%%file /home/elkomy/alx/printf/print_reverse.c\n",
    "#include \"main.h\"\n",
    "#include <stdio.h>\n",
    "\n",
    "/**\n",
    " * print_reverse - Prints a string in reverse\n",
    " * @list: List of arguments\n",
    " * @buffer: Buffer to store characters\n",
    " * @index: Current index in the buffer\n",
    " * @flags: Flags for formatting\n",
    " * Return: Number of characters printed\n",
    " */\n",
    "\n",
    "int print_reverse(va_list list, char *buffer, int *index, flags_t flags)\n",
    "{\n",
    "    char *str = va_arg(list, char *);\n",
    "    int len = 0, i;\n",
    "\n",
    "    (void)flags; /* Suppress unused parameter warning */\n",
    "\n",
    "    while (str[len])\n",
    "        len++;\n",
    "\n",
    "    for (i = len - 1; i >= 0; i--)\n",
    "        _putchar(str[i], buffer, index);\n",
    "\n",
    "    return (len);\n",
    "}\n",
    "\n"
   ]
  },
  {
   "cell_type": "code",
   "execution_count": 248,
   "metadata": {},
   "outputs": [
    {
     "name": "stdout",
     "output_type": "stream",
     "text": [
      "Overwriting /home/elkomy/alx/printf/print_rot13.c\n"
     ]
    }
   ],
   "source": [
    "%%file /home/elkomy/alx/printf/print_rot13.c\n",
    "#include \"main.h\"\n",
    "#include <stdio.h>\n",
    "\n",
    "\n",
    "/**\n",
    " * print_rot13 - Prints a string in rot13 encoding\n",
    " * @list: List of arguments\n",
    " * @buffer: Buffer to store characters\n",
    " * @index: Current index in the buffer\n",
    " * @flags: Flags for formatting\n",
    " * Return: Number of characters printed\n",
    " */\n",
    "int print_rot13(va_list list, char *buffer, int *index, flags_t flags)\n",
    "{\n",
    "    char *str = va_arg(list, char *);\n",
    "    int i, j;\n",
    "\n",
    "    char in[] = \"ABCDEFGHIJKLMNOPQRSTUVWXYZabcdefghijklmnopqrstuvwxyz\";\n",
    "    char out[] = \"NOPQRSTUVWXYZABCDEFGHIJKLMnopqrstuvwxyzabcdefghijklm\";\n",
    "\n",
    "    (void)flags; /* Suppress unused parameter warning */\n",
    "\n",
    "    for (i = 0; str[i]; i++)\n",
    "    {\n",
    "        for (j = 0; in[j]; j++)\n",
    "        {\n",
    "            if (str[i] == in[j])\n",
    "            {\n",
    "                _putchar(out[j], buffer, index);\n",
    "                break;\n",
    "            }\n",
    "        }\n",
    "        if (!in[j])\n",
    "            _putchar(str[i], buffer, index);\n",
    "    }\n",
    "\n",
    "    return (i);\n",
    "}\n"
   ]
  },
  {
   "cell_type": "code",
   "execution_count": 249,
   "metadata": {},
   "outputs": [
    {
     "name": "stdout",
     "output_type": "stream",
     "text": [
      "Overwriting /home/elkomy/alx/printf/print_non_printable.c\n"
     ]
    }
   ],
   "source": [
    "%%file /home/elkomy/alx/printf/print_non_printable.c\n",
    "#include \"main.h\"\n",
    "#include <stdio.h>\n",
    "\n",
    "/**\n",
    " * print_non_printable - Prints non-printable characters in hexadecimal format\n",
    " * @list: List of arguments\n",
    " * @buffer: Buffer to store characters\n",
    " * @index: Current index in the buffer\n",
    " * @flags: Flags for formatting\n",
    " * Return: Number of characters printed\n",
    " */\n",
    "int print_non_printable(va_list list, char *buffer, int *index, flags_t flags)\n",
    "{\n",
    "    char *str = va_arg(list, char *);\n",
    "    int i = 0, count = 0;\n",
    "\n",
    "    (void)flags; /* Suppress unused parameter warning */\n",
    "\n",
    "    while (str[i])\n",
    "    {\n",
    "        if ((str[i] > 0 && str[i] < 32) || str[i] >= 127)\n",
    "        {\n",
    "            count += sprintf(&buffer[*index], \"\\\\x%02X\", str[i]);\n",
    "            *index += 4;\n",
    "        }\n",
    "        else\n",
    "        {\n",
    "            _putchar(str[i], buffer, index);\n",
    "            count++;\n",
    "        }\n",
    "        i++;\n",
    "    }\n",
    "\n",
    "    return (count);\n",
    "}\n"
   ]
  },
  {
   "cell_type": "code",
   "execution_count": 4,
   "metadata": {},
   "outputs": [
    {
     "name": "stdout",
     "output_type": "stream",
     "text": [
      "Overwriting /home/elkomy/alx/printf/print_special_string.c\n"
     ]
    }
   ],
   "source": [
    "%%file /home/elkomy/alx/printf/print_special_string.c\n",
    "#include \"main.h\"\n",
    "#include <stdio.h>\n",
    "\n",
    "/**\n",
    " * print_special_string - Prints a special string with non-printable characters\n",
    " * @list: List of arguments\n",
    " * @buffer: Buffer to store characters\n",
    " * @index: Current index in the buffer\n",
    " * @flags: Flags for formatting\n",
    " * Return: Number of characters printed\n",
    " */\n",
    "int print_special_string(va_list list, char *buffer, int *index, flags_t flags)\n",
    "{\n",
    "    char *str = va_arg(list, char *);\n",
    "    int i = 0, count = 0;\n",
    "\n",
    "    (void)flags; /* Suppress unused parameter warning */\n",
    "\n",
    "    if (str == NULL)\n",
    "        str = \"(null)\";\n",
    "\n",
    "    while (str[i])\n",
    "    {\n",
    "        if ((str[i] > 0 && str[i] < 32) || str[i] >= 127)\n",
    "        {\n",
    "            count += sprintf(&buffer[*index], \"\\\\x%02X\", (unsigned char)str[i]);\n",
    "            *index += 4;\n",
    "        }\n",
    "        else\n",
    "        {\n",
    "            _putchar(str[i], buffer, index);\n",
    "            count++;\n",
    "        }\n",
    "        i++;\n",
    "    }\n",
    "\n",
    "    return (count);\n",
    "}\n",
    "\n"
   ]
  },
  {
   "cell_type": "code",
   "execution_count": 251,
   "metadata": {},
   "outputs": [
    {
     "name": "stdout",
     "output_type": "stream",
     "text": [
      "Overwriting /home/elkomy/alx/printf/tests/main.c\n"
     ]
    }
   ],
   "source": [
    "%%file /home/elkomy/alx/printf/tests/main.c\n",
    "#include \"../main.h\"\n",
    "#include <stdio.h>\n",
    "\n",
    "/**\n",
    " * main - Entry point\n",
    " *\n",
    " * Return: Always 0\n",
    " */\n",
    "int main(void)\n",
    "{\n",
    "    _printf(\"Space flag: % d\\n\", 42);\n",
    "    _printf(\"Plus flag: %+d\\n\", 42);\n",
    "    _printf(\"Hash flag: %#x\\n\", 255);\n",
    "    _printf(\"%S\\n\", \"Best\\nSchool\");\n",
    "    return (0);\n",
    "}\n"
   ]
  },
  {
   "cell_type": "code",
   "execution_count": 1,
   "metadata": {},
   "outputs": [
    {
     "name": "stdout",
     "output_type": "stream",
     "text": [
      "\n",
      "========== /home/elkomy/alx/printf/_printf.c ==========\n",
      "_printf\n",
      "Space flag:  42\n",
      "Plus flag: +42\n",
      "Hash flag: 0xff\n",
      "Best\\x0ASchool\n"
     ]
    }
   ],
   "source": [
    "\n",
    "!betty /home/elkomy/alx/printf/_printf.c\n",
    "!gcc -Wall -Werror -Wextra -pedantic -std=gnu89 -Wno-format /home/elkomy/alx/printf/*.c /home/elkomy/alx/printf/tests/main.c -o /home/elkomy/alx/printf/printf\n",
    "!./printf\n"
   ]
  },
  {
   "cell_type": "code",
   "execution_count": 2,
   "metadata": {},
   "outputs": [
    {
     "name": "stdout",
     "output_type": "stream",
     "text": [
      "[main 43f1fe1] alx-low_level_programming/0x0D-preprocessor/0-putchar\n",
      " 9 files changed, 1069 insertions(+), 422 deletions(-)\n",
      " rewrite format_reciever.c (62%)\n",
      " rewrite main.h (68%)\n"
     ]
    },
    {
     "name": "stderr",
     "output_type": "stream",
     "text": [
      "To https://github.com/elkomysara/printf\n",
      "   71e2fc1..43f1fe1  main -> main\n"
     ]
    }
   ],
   "source": [
    "%%bash\n",
    "git add .\n",
    "git commit -m \"alx-low_level_programming/0x0D-preprocessor/0-putchar\"\n",
    "git push"
   ]
  },
  {
   "cell_type": "code",
   "execution_count": null,
   "metadata": {},
   "outputs": [],
   "source": []
  },
  {
   "cell_type": "markdown",
   "metadata": {},
   "source": [
    "###\n",
    "---\n",
    "<center>\n",
    "<h4>8. Sarcasm is lost in print</h4>\n",
    "</center>\n",
    "\n",
    "---"
   ]
  },
  {
   "cell_type": "markdown",
   "metadata": {},
   "source": [
    "\n",
    "#### Handle the following length modifiers for non-custom conversion specifiers:\n",
    "\n",
    "* `l`\n",
    "* `h`\n",
    "Conversion specifiers to handle: `d`, `i`, `u`, `o`, `x`, `X`\n",
    "\n",
    "#### Repo:\n",
    "* GitHub repository: ``` printf```"
   ]
  },
  {
   "cell_type": "code",
   "execution_count": 3,
   "metadata": {},
   "outputs": [
    {
     "name": "stdout",
     "output_type": "stream",
     "text": [
      "Overwriting /home/elkomy/alx/printf/format_reciever.c\n"
     ]
    }
   ],
   "source": [
    "%%file /home/elkomy/alx/printf/format_reciever.c\n",
    "#include \"main.h\"\n",
    "#include <stdio.h>\n",
    "\n",
    "/**\n",
    " * format_reciever - Receives the main string and necessary parameters to\n",
    " * print a formatted string\n",
    " * @format: A string containing all the desired characters\n",
    " * @f_list: List of format specifiers and their corresponding functions\n",
    " * @arg_list: List of arguments\n",
    " * @buffer: Buffer to store characters\n",
    " * @index: Current index in the buffer\n",
    " * Return: Number of characters printed\n",
    " */\n",
    "int format_reciever(const char *format, conver_t f_list[], va_list arg_list, char *buffer, int *index)\n",
    "{\n",
    "    int i = 0, j, printed_chars = 0;\n",
    "    flags_t flags;\n",
    "    length_mod_t length_mod;\n",
    "\n",
    "    while (format[i])\n",
    "    {\n",
    "        if (format[i] == '%')\n",
    "        {\n",
    "            i++;\n",
    "            flags = parse_flags(format, &i);\n",
    "             length_mod = parse_length_mod(format, &i);\n",
    "\n",
    "            for (j = 0; f_list[j].sym != NULL; j++)\n",
    "            {\n",
    "                if (format[i] == f_list[j].sym[0])\n",
    "                {\n",
    "                    printed_chars += f_list[j].f(arg_list, buffer, index, flags, length_mod);\n",
    "                    break;\n",
    "                }\n",
    "            }\n",
    "            if (f_list[j].sym == NULL)\n",
    "            {\n",
    "                _putchar('%', buffer, index);\n",
    "                _putchar(format[i], buffer, index);\n",
    "                printed_chars += 2;\n",
    "            }\n",
    "            i++;\n",
    "        }\n",
    "        else\n",
    "        {\n",
    "            _putchar(format[i], buffer, index);\n",
    "            printed_chars++;\n",
    "            i++;\n",
    "        }\n",
    "    }\n",
    "    return (printed_chars);\n",
    "}"
   ]
  },
  {
   "cell_type": "code",
   "execution_count": 12,
   "metadata": {},
   "outputs": [
    {
     "name": "stdout",
     "output_type": "stream",
     "text": [
      "Overwriting /home/elkomy/alx/printf/main.h\n"
     ]
    }
   ],
   "source": [
    "%%file /home/elkomy/alx/printf/main.h\n",
    "#ifndef MAIN_H\n",
    "#define MAIN_H\n",
    "\n",
    "#include <stdarg.h>\n",
    "#include <stdlib.h>\n",
    "#include <unistd.h>\n",
    "\n",
    "/**\n",
    " * struct flags - struct containing flags to \"turn on\"\n",
    " * when a flag specifier is passed to _printf()\n",
    " * @plus: flag for the '+' character\n",
    " * @space: flag for the ' ' character\n",
    " * @hash: flag for the '#' character\n",
    " */\n",
    "typedef struct flags\n",
    "{\n",
    "    int plus;\n",
    "    int space;\n",
    "    int hash;\n",
    "} flags_t;\n",
    "\n",
    "/**\n",
    " * struct length_mod - struct containing length modifiers\n",
    " * when a length specifier is passed to _printf()\n",
    " * @l: flag for the 'l' character\n",
    " * @h: flag for the 'h' character\n",
    " */\n",
    "typedef struct length_mod\n",
    "{\n",
    "    int l;\n",
    "    int h;\n",
    "} length_mod_t;\n",
    "\n",
    "/**\n",
    " * struct convert - struct for symbols and functions\n",
    " * @sym: The operator\n",
    " * @f: The function associated\n",
    " */\n",
    "typedef struct convert\n",
    "{\n",
    "    char *sym;\n",
    "    int (*f)(va_list, char *, int *, flags_t, length_mod_t);\n",
    "} conver_t;\n",
    "\n",
    "int _printf(const char *format, ...);\n",
    "int format_reciever(const char *format, conver_t f_list[], va_list arg_list, char *buffer, int *index);\n",
    "int _putchar(char c, char *buffer, int *index);\n",
    "char *convert(unsigned long int num, int base, int lowercase);\n",
    "flags_t parse_flags(const char *format, int *i);\n",
    "length_mod_t parse_length_mod(const char *format, int *i);\n",
    "\n",
    "/* Function prototypes */\n",
    "int _printf(const char *format, ...);\n",
    "int print_char(va_list l, char *buf, int *i, flags_t, length_mod_t);\n",
    "int print_string(va_list l, char *buf, int *i, flags_t, length_mod_t);\n",
    "int print_percent(va_list l, char *buf, int *i, flags_t, length_mod_t);\n",
    "int print_integer(va_list l, char *buf, int *i, flags_t, length_mod_t);\n",
    "int print_unsigned(va_list l, char *buf, int *i, flags_t, length_mod_t);\n",
    "int print_binary(va_list l, char *buf, int *i, flags_t, length_mod_t);\n",
    "int print_octal(va_list l, char *buf, int *i, flags_t, length_mod_t);\n",
    "int print_hex(va_list l, char *buf, int *i, flags_t, length_mod_t);\n",
    "int print_HEX(va_list l, char *buf, int *i, flags_t, length_mod_t);\n",
    "int print_pointer(va_list l, char *buf, int *i, flags_t, length_mod_t);\n",
    "int print_reverse(va_list l, char *buf, int *i, flags_t, length_mod_t);\n",
    "int print_rot13(va_list l, char *buf, int *i, flags_t, length_mod_t);\n",
    "int print_non_printable(va_list l, char *buf, int *i, flags_t, length_mod_t);\n",
    "int print_special_string(va_list, char *, int *, flags_t, length_mod_t);\n",
    "\n",
    "#endif /* MAIN_H */\n"
   ]
  },
  {
   "cell_type": "code",
   "execution_count": null,
   "metadata": {},
   "outputs": [
    {
     "name": "stdout",
     "output_type": "stream",
     "text": [
      "Overwriting /home/elkomy/alx/printf/parse_flags.c\n"
     ]
    }
   ],
   "source": [
    "%%file /home/elkomy/alx/printf/parse_flags.c\n",
    "#include \"main.h\"\n",
    "\n",
    "flags_t parse_flags(const char *format, int *i)\n",
    "{\n",
    "    flags_t flags = {0, 0, 0};\n",
    "\n",
    "    while (format[*i])\n",
    "    {\n",
    "        if (format[*i] == '+')\n",
    "            flags.plus = 1;\n",
    "        else if (format[*i] == ' ')\n",
    "            flags.space = 1;\n",
    "        else if (format[*i] == '#')\n",
    "            flags.hash = 1;\n",
    "        else\n",
    "            break;\n",
    "        (*i)++;\n",
    "    }\n",
    "\n",
    "    return flags;\n",
    "}\n"
   ]
  },
  {
   "cell_type": "code",
   "execution_count": 5,
   "metadata": {},
   "outputs": [
    {
     "name": "stdout",
     "output_type": "stream",
     "text": [
      "Writing /home/elkomy/alx/printf/parse_length_mod.c\n"
     ]
    }
   ],
   "source": [
    "%%file /home/elkomy/alx/printf/parse_length_mod.c\n",
    "#include \"main.h\"\n",
    "\n",
    "length_mod_t parse_length_mod(const char *format, int *i)\n",
    "{\n",
    "    length_mod_t length_mod = {0, 0};\n",
    "\n",
    "    if (format[*i] == 'l')\n",
    "    {\n",
    "        length_mod.l = 1;\n",
    "        (*i)++;\n",
    "    }\n",
    "    else if (format[*i] == 'h')\n",
    "    {\n",
    "        length_mod.h = 1;\n",
    "        (*i)++;\n",
    "    }\n",
    "\n",
    "    return length_mod;\n",
    "}\n",
    "\n"
   ]
  },
  {
   "cell_type": "code",
   "execution_count": null,
   "metadata": {},
   "outputs": [
    {
     "name": "stdout",
     "output_type": "stream",
     "text": [
      "Overwriting /home/elkomy/alx/printf/_printf.c\n"
     ]
    }
   ],
   "source": [
    "%%file /home/elkomy/alx/printf/_printf.c\n",
    "#include \"main.h\"\n",
    "#include <unistd.h>\n",
    "\n",
    "/**\n",
    "* _printf - Receives the main string and all the necessary parameters to\n",
    "* print a formatted string\n",
    "* @format: A string containing all the desired characters\n",
    "* Return: A total count of the characters printed\n",
    "*/\n",
    "int _printf(const char *format, ...)\n",
    "{\n",
    "va_list arg_list;\n",
    "int printed_chars = 0;\n",
    "char buffer[1024];\n",
    "int index = 0;\n",
    "\n",
    "conver_t f_list[] = {\n",
    "{\"%\", print_percent},\n",
    "{\"c\", print_char},\n",
    "{\"s\", print_string},\n",
    "{\"d\", print_integer},\n",
    "{\"i\", print_integer},\n",
    "{\"b\", print_binary},\n",
    "{\"u\", print_unsigned},\n",
    "{\"o\", print_octal},\n",
    "{\"x\", print_hex},\n",
    "{\"X\", print_HEX},\n",
    "{\"S\", print_special_string},\n",
    "{\"p\", print_pointer},\n",
    "{NULL, NULL}\n",
    "};\n",
    "\n",
    "va_start(arg_list, format);\n",
    "printed_chars = format_reciever(format, f_list, arg_list, buffer, &index);\n",
    "va_end(arg_list);\n",
    "\n",
    "buffer[index] = '\\0';\n",
    "write(1, buffer, index);\n",
    "\n",
    "return (printed_chars);\n",
    "}\n"
   ]
  },
  {
   "cell_type": "code",
   "execution_count": 63,
   "metadata": {},
   "outputs": [
    {
     "name": "stdout",
     "output_type": "stream",
     "text": [
      "Overwriting /home/elkomy/alx/printf/format_reciever.c\n"
     ]
    }
   ],
   "source": [
    "%%file /home/elkomy/alx/printf/format_reciever.c\n",
    "#include \"main.h\"\n",
    "#include <stdio.h>\n",
    "\n",
    "/**\n",
    " * format_reciever - Receives the main string and necessary parameters to\n",
    " * print a formatted string\n",
    " * @format: A string containing all the desired characters\n",
    " * @f_list: List of format specifiers and their corresponding functions\n",
    " * @arg_list: List of arguments\n",
    " * @buffer: Buffer to store characters\n",
    " * @index: Current index in the buffer\n",
    " * Return: Number of characters printed\n",
    " */\n",
    "int format_reciever(const char *format, conver_t f_list[], va_list arg_list, char *buffer, int *index)\n",
    "{\n",
    "    int i = 0, j, printed_chars = 0;\n",
    "    flags_t flags;\n",
    "    length_mod_t length_mod;\n",
    "\n",
    "    while (format[i])\n",
    "    {\n",
    "        if (format[i] == '%')\n",
    "        {\n",
    "            i++;\n",
    "            flags = parse_flags(format, &i);\n",
    "             length_mod = parse_length_mod(format, &i);\n",
    "\n",
    "            for (j = 0; f_list[j].sym != NULL; j++)\n",
    "            {\n",
    "                if (format[i] == f_list[j].sym[0])\n",
    "                {\n",
    "                    printed_chars += f_list[j].f(arg_list, buffer, index, flags, length_mod);\n",
    "                    break;\n",
    "                }\n",
    "            }\n",
    "            if (f_list[j].sym == NULL)\n",
    "            {\n",
    "                _putchar('%', buffer, index);\n",
    "                _putchar(format[i], buffer, index);\n",
    "                printed_chars += 2;\n",
    "            }\n",
    "            i++;\n",
    "        }\n",
    "        else\n",
    "        {\n",
    "            _putchar(format[i], buffer, index);\n",
    "            printed_chars++;\n",
    "            i++;\n",
    "        }\n",
    "    }\n",
    "    return (printed_chars);\n",
    "}"
   ]
  },
  {
   "cell_type": "code",
   "execution_count": 64,
   "metadata": {},
   "outputs": [
    {
     "name": "stdout",
     "output_type": "stream",
     "text": [
      "Overwriting /home/elkomy/alx/printf/print_pointer.c\n"
     ]
    }
   ],
   "source": [
    "%%file /home/elkomy/alx/printf/print_pointer.c\n",
    "#include \"main.h\"\n",
    "#include <stdio.h>\n",
    "\n",
    "/**\n",
    " * print_pointer - Prints a pointer address\n",
    " * @list: List of arguments\n",
    " * @buffer: Buffer to store characters\n",
    " * @index: Current index in the buffer\n",
    " * @flags: Flags for formatting\n",
    " * Return: Number of characters printed\n",
    " */\n",
    "int print_pointer(va_list list, char *buffer, int *index, flags_t flags)\n",
    "{\n",
    "    void *ptr = va_arg(list, void *);\n",
    "    unsigned long int addr = (unsigned long int)ptr;\n",
    "    char hex[17];\n",
    "    int i, digit;\n",
    "\n",
    "    (void)flags; /* Suppress unused parameter warning */\n",
    "\n",
    "    _putchar('0', buffer, index);\n",
    "    _putchar('x', buffer, index);\n",
    "\n",
    "    i = 15;\n",
    "    while (addr)\n",
    "    {\n",
    "        digit = addr % 16;\n",
    "        hex[i--] = (digit < 10) ? digit + '0' : digit - 10 + 'a';\n",
    "        addr /= 16;\n",
    "    }\n",
    "    i++;\n",
    "    while (i < 16)\n",
    "    {\n",
    "        _putchar(hex[i++], buffer, index);\n",
    "    }\n",
    "\n",
    "    return (2 + 15 - i);\n",
    "}\n"
   ]
  },
  {
   "cell_type": "code",
   "execution_count": 65,
   "metadata": {},
   "outputs": [
    {
     "name": "stdout",
     "output_type": "stream",
     "text": [
      "Overwriting /home/elkomy/alx/printf/print_char.c\n"
     ]
    }
   ],
   "source": [
    "%%file /home/elkomy/alx/printf/print_char.c\n",
    "#include \"main.h\"\n",
    "#include <stdio.h>\n",
    "\n",
    "/**\n",
    " * print_char - Prints a character\n",
    " * @list: List of arguments\n",
    " * @buffer: Buffer to store characters\n",
    " * @index: Current index in the buffer\n",
    " * @flags: Flags for formatting\n",
    " * @length_mod: Length modifier for formatting\n",
    " * Return: Number of characters printed\n",
    " */\n",
    "int print_char(va_list list, char *buffer, int *index, flags_t flags, length_mod_t length_mod)\n",
    "{\n",
    "    char c = va_arg(list, int);\n",
    "\n",
    "    (void)flags; /* Flags are not used for characters */\n",
    "    (void)length_mod;\n",
    "    buffer[*index] = c;\n",
    "    (*index)++;\n",
    "\n",
    "    return (1);\n",
    "}\n"
   ]
  },
  {
   "cell_type": "code",
   "execution_count": 66,
   "metadata": {},
   "outputs": [
    {
     "name": "stdout",
     "output_type": "stream",
     "text": [
      "Overwriting /home/elkomy/alx/printf/convert.c\n"
     ]
    }
   ],
   "source": [
    "%%file /home/elkomy/alx/printf/convert.c\n",
    "#include \"main.h\"\n",
    "#include <stdlib.h>\n",
    "\n",
    "/**\n",
    " * convert - Converts a number to a string in the given base\n",
    " * @num: The number to be converted\n",
    " * @base: The base to convert to\n",
    " * @lowercase: Flag to determine if hex letters should be lowercase\n",
    " * Return: A pointer to the converted string (static buffer)\n",
    " */\n",
    "\n",
    "\n",
    "char *convert(unsigned long int num, int base, int lowercase)\n",
    "{\n",
    "    static char *rep;\n",
    "    static char buffer[50];\n",
    "    char *ptr;\n",
    "\n",
    "    rep = (lowercase) ? \"0123456789abcdef\" : \"0123456789ABCDEF\";\n",
    "    ptr = &buffer[49];\n",
    "    *ptr = '\\0';\n",
    "\n",
    "    do\n",
    "    {\n",
    "        *--ptr = rep[num % base];\n",
    "        num /= base;\n",
    "    } while (num != 0);\n",
    "\n",
    "    return (ptr);\n",
    "}\n"
   ]
  },
  {
   "cell_type": "code",
   "execution_count": 67,
   "metadata": {},
   "outputs": [
    {
     "name": "stdout",
     "output_type": "stream",
     "text": [
      "Overwriting /home/elkomy/alx/printf/print_string.c\n"
     ]
    }
   ],
   "source": [
    "%%file /home/elkomy/alx/printf/print_string.c\n",
    "#include \"main.h\"\n",
    "#include <stdio.h>\n",
    "\n",
    "/**\n",
    " * print_string - Prints a string\n",
    " * @list: List of arguments\n",
    " * @buffer: Buffer to store characters\n",
    " * @index: Current index in the buffer\n",
    " * @flags: Flags for formatting\n",
    " * Return: Number of characters printed\n",
    " */\n",
    "int print_string(va_list list, char *buffer, int *index, flags_t flags, length_mod_t length_mod)\n",
    "{\n",
    "    char *str = va_arg(list, char *);\n",
    "    int num_chars = 0;\n",
    "\n",
    "    (void)flags; /* Flags are not used for strings */\n",
    "    (void)length_mod;\n",
    "\n",
    "    if (str == NULL)\n",
    "        str = \"(null)\";\n",
    "\n",
    "    while (*str)\n",
    "    {\n",
    "        buffer[*index] = *str;\n",
    "        (*index)++;\n",
    "        str++;\n",
    "        num_chars++;\n",
    "    }\n",
    "\n",
    "    return (num_chars);\n",
    "}\n"
   ]
  },
  {
   "cell_type": "code",
   "execution_count": 68,
   "metadata": {},
   "outputs": [
    {
     "name": "stdout",
     "output_type": "stream",
     "text": [
      "Overwriting /home/elkomy/alx/printf/print_percent.c\n"
     ]
    }
   ],
   "source": [
    "%%file /home/elkomy/alx/printf/print_percent.c\n",
    "#include \"main.h\"\n",
    "#include <stdio.h>\n",
    "\n",
    "/**\n",
    " * print_percent - Prints a percent symbol\n",
    " * @list: List of arguments\n",
    " * @buffer: Buffer to store characters\n",
    " * @index: Current index in the buffer\n",
    " * @flags: Flags for formatting\n",
    " * @length_mod: Length modifier for formatting\n",
    " * Return: Number of characters printed\n",
    " */\n",
    "int print_percent(va_list list, char *buffer, int *index, flags_t flags,length_mod_t length_mod )\n",
    "{\n",
    "    (void)list;\n",
    "    (void)flags; /* Flags are not used for percent */\n",
    "    (void)length_mod; \n",
    "\n",
    "    buffer[*index] = '%';\n",
    "    (*index)++;\n",
    "\n",
    "    return (1);\n",
    "}\n"
   ]
  },
  {
   "cell_type": "code",
   "execution_count": 95,
   "metadata": {},
   "outputs": [
    {
     "name": "stdout",
     "output_type": "stream",
     "text": [
      "Overwriting /home/elkomy/alx/printf/print_integer.c\n"
     ]
    }
   ],
   "source": [
    "%%file /home/elkomy/alx/printf/print_integer.c\n",
    "\n",
    "\n",
    "#include \"main.h\"\n",
    "#include <stdlib.h>  /* Include stdlib.h for malloc */\n",
    "\n",
    "/* Helper function to implement itoa since it's not standard in C */\n",
    "void itoa(int num, char *str, int base) {\n",
    "    int i = 0;\n",
    "    int is_negative = 0;\n",
    "    int start, end;\n",
    "\n",
    "    /* Handle 0 explicitly, otherwise empty string is printed for 0 */\n",
    "    if (num == 0) {\n",
    "        str[i++] = '0';\n",
    "        str[i] = '\\0';\n",
    "        return;\n",
    "    }\n",
    "\n",
    "    /* Handle negative numbers for base 10 */\n",
    "    if (num < 0 && base == 10) {\n",
    "        is_negative = 1;\n",
    "        num = -num;\n",
    "    }\n",
    "\n",
    "    /* Process individual digits */\n",
    "    while (num != 0) {\n",
    "        int rem = num % base;\n",
    "        str[i++] = (rem > 9) ? (rem - 10) + 'a' : rem + '0';\n",
    "        num = num / base;\n",
    "    }\n",
    "\n",
    "    /* Append '-' for negative numbers */\n",
    "    if (is_negative) {\n",
    "        str[i++] = '-';\n",
    "    }\n",
    "\n",
    "    str[i] = '\\0';\n",
    "\n",
    "    /* Reverse the string */\n",
    "    start = 0;\n",
    "    end = i - 1;\n",
    "    while (start < end) {\n",
    "        char temp = str[start];\n",
    "        str[start] = str[end];\n",
    "        str[end] = temp;\n",
    "        start++;\n",
    "        end--;\n",
    "    }\n",
    "}\n",
    "\n",
    "/**\n",
    " * print_integer - Prints an integer\n",
    " * @list: List of arguments\n",
    " * @buffer: Buffer to store characters\n",
    " * @index: Current index in the buffer\n",
    " * @flags: Flags for formatting\n",
    " * @length_mod: Length modifier for formatting\n",
    " * Return: Number of characters printed\n",
    " */\n",
    "int print_integer(va_list list, char *buffer, int *index, flags_t flags, length_mod_t length_mod)\n",
    "{\n",
    "    long int num;\n",
    "    char str[21]; /* Enough to hold long int in base 10 with sign */\n",
    "    int i = 0, num_chars = 0;\n",
    "\n",
    "    if (length_mod.l)\n",
    "        num = va_arg(list, long int);\n",
    "    else if (length_mod.h)\n",
    "        num = (short int)va_arg(list, int);\n",
    "    else\n",
    "        num = va_arg(list, int);\n",
    "\n",
    "    \n",
    "\n",
    "    itoa(num, str, 10);\n",
    "\n",
    "    /* Handle the space and plus flags */\n",
    "    if (flags.plus && num >= 0)\n",
    "    {\n",
    "        _putchar('+', buffer, index);\n",
    "        num_chars++;\n",
    "    }\n",
    "    else if (flags.space && num >= 0)\n",
    "    {\n",
    "        _putchar(' ', buffer, index);\n",
    "        num_chars++;\n",
    "    }\n",
    "\n",
    "    while (str[i])\n",
    "    {\n",
    "        _putchar(str[i], buffer, index);\n",
    "        i++;\n",
    "        num_chars++;\n",
    "    }\n",
    "\n",
    "    return (num_chars);\n",
    "}\n"
   ]
  },
  {
   "cell_type": "code",
   "execution_count": 96,
   "metadata": {},
   "outputs": [
    {
     "name": "stdout",
     "output_type": "stream",
     "text": [
      "Overwriting /home/elkomy/alx/printf/print_binary.c\n"
     ]
    }
   ],
   "source": [
    "%%file /home/elkomy/alx/printf/print_binary.c\n",
    "#include \"main.h\"\n",
    "#include <stdio.h>\n",
    "\n",
    "/**\n",
    " * print_binary - Prints a number in binary\n",
    " * @list: List of arguments\n",
    " * @buffer: Buffer to store characters\n",
    " * @index: Current index in the buffer\n",
    " * @flags: Flags for formatting\n",
    " * @length_mod: Length modifier for formatting\n",
    " * Return: Number of characters printed\n",
    " */\n",
    "int print_binary(va_list list, char *buffer, int *index, flags_t flags, length_mod_t length_mod)\n",
    "{\n",
    "    unsigned int num = va_arg(list, unsigned int);\n",
    "    int num_chars = 0;\n",
    "    char *str = convert(num, 2, 0);\n",
    "\n",
    "    (void)flags; /* Flags are not used for binary */\n",
    "    (void)length_mod;\n",
    "    while (*str)\n",
    "    {\n",
    "        buffer[*index] = *str;\n",
    "        (*index)++;\n",
    "        str++;\n",
    "        num_chars++;\n",
    "    }\n",
    "\n",
    "    return (num_chars);\n",
    "}\n"
   ]
  },
  {
   "cell_type": "code",
   "execution_count": null,
   "metadata": {},
   "outputs": [],
   "source": []
  },
  {
   "cell_type": "code",
   "execution_count": 141,
   "metadata": {},
   "outputs": [
    {
     "name": "stdout",
     "output_type": "stream",
     "text": [
      "Overwriting /home/elkomy/alx/printf/print_unsigned.c\n"
     ]
    }
   ],
   "source": [
    "%%file /home/elkomy/alx/printf/print_unsigned.c\n",
    "#include \"main.h\"\n",
    "#include <stdio.h>\n",
    "\n",
    "/**\n",
    " * print_unsigned - Prints an unsigned integer\n",
    " * @list: List of arguments\n",
    " * @buffer: Buffer to store characters\n",
    " * @index: Current index in the buffer\n",
    " * @flags: Flags for formatting\n",
    " * @length_mod: Length modifier for formatting\n",
    " * Return: Number of characters printed\n",
    " */\n",
    "int print_unsigned(va_list list, char *buffer, int *index, flags_t flags, length_mod_t length_mod)\n",
    "{\n",
    "    unsigned long int num;\n",
    "      int num_chars = 0;\n",
    "      char *str;\n",
    "\n",
    "    if (length_mod.l)\n",
    "        num = va_arg(list, unsigned long int);\n",
    "    else if (length_mod.h)\n",
    "        num = (unsigned short int)va_arg(list, unsigned int);\n",
    "    else\n",
    "        num = va_arg(list, unsigned int);\n",
    "\n",
    "  \n",
    "    str = convert(num, 10, 0);\n",
    "\n",
    "    (void)flags; /* Flags are not used for unsigned integers */\n",
    "\n",
    "    while (*str)\n",
    "    {\n",
    "        buffer[*index] = *str;\n",
    "        (*index)++;\n",
    "        str++;\n",
    "        num_chars++;\n",
    "    }\n",
    "\n",
    "    return (num_chars);\n",
    "}\n"
   ]
  },
  {
   "cell_type": "code",
   "execution_count": 142,
   "metadata": {},
   "outputs": [
    {
     "name": "stdout",
     "output_type": "stream",
     "text": [
      "Overwriting /home/elkomy/alx/printf/print_octal.c\n"
     ]
    }
   ],
   "source": [
    "%%file /home/elkomy/alx/printf/print_octal.c\n",
    "#include \"main.h\"\n",
    "#include <stdio.h>\n",
    "\n",
    "/**\n",
    " * print_octal - Prints a number in octal\n",
    " * @list: List of arguments\n",
    " * @buffer: Buffer to store characters\n",
    " * @index: Current index in the buffer\n",
    " * @flags: Flags for formatting\n",
    " * @length_mod: Length modifier for formatting\n",
    " * Return: Number of characters printed\n",
    " */\n",
    "int print_octal(va_list list, char *buffer, int *index, flags_t flags, length_mod_t length_mod)\n",
    "{\n",
    "    unsigned int num = va_arg(list, unsigned int);\n",
    "    int num_chars = 0;\n",
    "    char *str;\n",
    "\n",
    "    if (length_mod.l)\n",
    "        num = va_arg(list, long int);\n",
    "    else if (length_mod.h)\n",
    "        num = (short int)va_arg(list, int);\n",
    "    else\n",
    "        num = va_arg(list, int);\n",
    "\n",
    "    if (flags.hash && num != 0)\n",
    "    {\n",
    "        buffer[*index] = '0';\n",
    "        (*index)++;\n",
    "        num_chars++;\n",
    "    }\n",
    "\n",
    "    str = convert(num, 8, 0);\n",
    "    while (*str)\n",
    "    {\n",
    "        buffer[*index] = *str;\n",
    "        (*index)++;\n",
    "        str++;\n",
    "        num_chars++;\n",
    "    }\n",
    "\n",
    "    return (num_chars);\n",
    "}\n"
   ]
  },
  {
   "cell_type": "code",
   "execution_count": 143,
   "metadata": {},
   "outputs": [
    {
     "name": "stdout",
     "output_type": "stream",
     "text": [
      "Overwriting /home/elkomy/alx/printf/print_hex.c\n"
     ]
    }
   ],
   "source": [
    "%%file /home/elkomy/alx/printf/print_hex.c\n",
    "#include \"main.h\"\n",
    "#include <stdio.h>\n",
    "\n",
    "/**\n",
    " * print_hex - Prints a number in hexadecimal (lowercase)\n",
    " * @list: List of arguments\n",
    " * @buffer: Buffer to store characters\n",
    " * @index: Current index in the buffer\n",
    " * @flags: Flags for formatting\n",
    " * @length_mod: Length modifier for formatting\n",
    " * Return: Number of characters printed\n",
    " */\n",
    "int print_hex(va_list list, char *buffer, int *index, flags_t flags, length_mod_t length_mod)\n",
    "{\n",
    "    unsigned int num = va_arg(list, unsigned int);\n",
    "    int num_chars = 0;\n",
    "    char *str;\n",
    "    \n",
    "    if (length_mod.l)\n",
    "        num = va_arg(list, long int);\n",
    "    else if (length_mod.h)\n",
    "        num = (short int)va_arg(list, int);\n",
    "    else\n",
    "        num = va_arg(list, int);\n",
    "\n",
    "\n",
    "    if (flags.hash && num != 0)\n",
    "    {\n",
    "        buffer[*index] = '0';\n",
    "        buffer[*index + 1] = 'x';\n",
    "        *index += 2;\n",
    "        num_chars += 2;\n",
    "    }\n",
    "\n",
    "    str = convert(num, 16, 1);\n",
    "    while (*str)\n",
    "    {\n",
    "        buffer[*index] = *str;\n",
    "        (*index)++;\n",
    "        str++;\n",
    "        num_chars++;\n",
    "    }\n",
    "\n",
    "    return (num_chars);\n",
    "}\n"
   ]
  },
  {
   "cell_type": "code",
   "execution_count": 144,
   "metadata": {},
   "outputs": [
    {
     "name": "stdout",
     "output_type": "stream",
     "text": [
      "Overwriting /home/elkomy/alx/printf/print_HEX.c\n"
     ]
    }
   ],
   "source": [
    "%%file /home/elkomy/alx/printf/print_HEX.c\n",
    "\n",
    "#include \"main.h\"\n",
    "#include <stdio.h>\n",
    "\n",
    "/**\n",
    " * print_HEX - Prints a number in hexadecimal (uppercase)\n",
    " * @list: List of arguments\n",
    " * @buffer: Buffer to store characters\n",
    " * @index: Current index in the buffer\n",
    " * @flags: Flags for formatting\n",
    " * @length_mod: Length modifier for formatting\n",
    " * Return: Number of characters printed\n",
    " */\n",
    "int print_HEX(va_list list, char *buffer, int *index, flags_t flags, length_mod_t length_mod)\n",
    "{\n",
    "    unsigned int num = va_arg(list, unsigned int);\n",
    "    int num_chars = 0;\n",
    "    char *str;\n",
    "     if (length_mod.l)\n",
    "        num = va_arg(list, long int);\n",
    "    else if (length_mod.h)\n",
    "        num = (short int)va_arg(list, int);\n",
    "    else\n",
    "        num = va_arg(list, int);\n",
    "\n",
    "    if (flags.hash && num != 0)\n",
    "    {\n",
    "        buffer[*index] = '0';\n",
    "        buffer[*index + 1] = 'X';\n",
    "        *index += 2;\n",
    "        num_chars += 2;\n",
    "    }\n",
    "\n",
    "    str = convert(num, 16, 0);\n",
    "    while (*str)\n",
    "    {\n",
    "        buffer[*index] = *str;\n",
    "        (*index)++;\n",
    "        str++;\n",
    "        num_chars++;\n",
    "    }\n",
    "\n",
    "    return (num_chars);\n",
    "}\n"
   ]
  },
  {
   "cell_type": "code",
   "execution_count": 145,
   "metadata": {},
   "outputs": [
    {
     "name": "stdout",
     "output_type": "stream",
     "text": [
      "Overwriting /home/elkomy/alx/printf/print_reverse.c\n"
     ]
    }
   ],
   "source": [
    "%%file /home/elkomy/alx/printf/print_reverse.c\n",
    "#include \"main.h\"\n",
    "#include <stdio.h>\n",
    "\n",
    "/**\n",
    " * print_reverse - Prints a string in reverse\n",
    " * @list: List of arguments\n",
    " * @buffer: Buffer to store characters\n",
    " * @index: Current index in the buffer\n",
    " * @flags: Flags for formatting\n",
    " * @length_mod: Length modifier for formatting \n",
    " * Return: Number of characters printed\n",
    " */\n",
    "\n",
    "int print_reverse(va_list list, char *buffer, int *index, flags_t flags, length_mod_t length_mod)\n",
    "{\n",
    "    char *str = va_arg(list, char *);\n",
    "    int len = 0, i;\n",
    "\n",
    "    (void)flags; /* Suppress unused parameter warning */\n",
    "    (void)length_mod;\n",
    "    while (str[len])\n",
    "        len++;\n",
    "\n",
    "    for (i = len - 1; i >= 0; i--)\n",
    "        _putchar(str[i], buffer, index);\n",
    "\n",
    "    return (len);\n",
    "}\n",
    "\n"
   ]
  },
  {
   "cell_type": "code",
   "execution_count": 146,
   "metadata": {},
   "outputs": [
    {
     "name": "stdout",
     "output_type": "stream",
     "text": [
      "Overwriting /home/elkomy/alx/printf/print_rot13.c\n"
     ]
    }
   ],
   "source": [
    "%%file /home/elkomy/alx/printf/print_rot13.c\n",
    "#include \"main.h\"\n",
    "#include <stdio.h>\n",
    "\n",
    "\n",
    "/**\n",
    " * print_rot13 - Prints a string in rot13 encoding\n",
    " * @list: List of arguments\n",
    " * @buffer: Buffer to store characters\n",
    " * @index: Current index in the buffer\n",
    " * @flags: Flags for formatting\n",
    " * @length_mod: Length modifier for formatting\n",
    " * Return: Number of characters printed\n",
    " */\n",
    "int print_rot13(va_list list, char *buffer, int *index, flags_t flags, length_mod_t length_mod)\n",
    "{\n",
    "    char *str = va_arg(list, char *);\n",
    "    int i, j;\n",
    "\n",
    "    char in[] = \"ABCDEFGHIJKLMNOPQRSTUVWXYZabcdefghijklmnopqrstuvwxyz\";\n",
    "    char out[] = \"NOPQRSTUVWXYZABCDEFGHIJKLMnopqrstuvwxyzabcdefghijklm\";\n",
    "\n",
    "    (void)flags; /* Suppress unused parameter warning */\n",
    "    (void)length_mod;\n",
    "    for (i = 0; str[i]; i++)\n",
    "    {\n",
    "        for (j = 0; in[j]; j++)\n",
    "        {\n",
    "            if (str[i] == in[j])\n",
    "            {\n",
    "                _putchar(out[j], buffer, index);\n",
    "                break;\n",
    "            }\n",
    "        }\n",
    "        if (!in[j])\n",
    "            _putchar(str[i], buffer, index);\n",
    "    }\n",
    "\n",
    "    return (i);\n",
    "}\n"
   ]
  },
  {
   "cell_type": "code",
   "execution_count": 147,
   "metadata": {},
   "outputs": [
    {
     "name": "stdout",
     "output_type": "stream",
     "text": [
      "Overwriting /home/elkomy/alx/printf/print_non_printable.c\n"
     ]
    }
   ],
   "source": [
    "%%file /home/elkomy/alx/printf/print_non_printable.c\n",
    "#include \"main.h\"\n",
    "#include <stdio.h>\n",
    "\n",
    "/**\n",
    " * print_non_printable - Prints non-printable characters in hexadecimal format\n",
    " * @list: List of arguments\n",
    " * @buffer: Buffer to store characters\n",
    " * @index: Current index in the buffer\n",
    " * @flags: Flags for formatting\n",
    " * @length_mod: Length modifier for formatting\n",
    " * Return: Number of characters printed\n",
    " */\n",
    "int print_non_printable(va_list list, char *buffer, int *index, flags_t flags, length_mod_t length_mod)\n",
    "{\n",
    "    char *str = va_arg(list, char *);\n",
    "    int i = 0, count = 0;\n",
    "\n",
    "    (void)flags; /* Suppress unused parameter warning */\n",
    "    (void)length_mod;\n",
    "    while (str[i])\n",
    "    {\n",
    "        if ((str[i] > 0 && str[i] < 32) || str[i] >= 127)\n",
    "        {\n",
    "            count += sprintf(&buffer[*index], \"\\\\x%02X\", str[i]);\n",
    "            *index += 4;\n",
    "        }\n",
    "        else\n",
    "        {\n",
    "            _putchar(str[i], buffer, index);\n",
    "            count++;\n",
    "        }\n",
    "        i++;\n",
    "    }\n",
    "\n",
    "    return (count);\n",
    "}\n"
   ]
  },
  {
   "cell_type": "code",
   "execution_count": 148,
   "metadata": {},
   "outputs": [
    {
     "name": "stdout",
     "output_type": "stream",
     "text": [
      "Overwriting /home/elkomy/alx/printf/print_special_string.c\n"
     ]
    }
   ],
   "source": [
    "%%file /home/elkomy/alx/printf/print_special_string.c\n",
    "#include \"main.h\"\n",
    "#include <stdio.h>\n",
    "\n",
    "/**\n",
    " * print_special_string - Prints a special string with non-printable characters\n",
    " * @list: List of arguments\n",
    " * @buffer: Buffer to store characters\n",
    " * @index: Current index in the buffer\n",
    " * @flags: Flags for formatting\n",
    " * @length_mod: Length modifier for formatting\n",
    " * Return: Number of characters printed\n",
    " */\n",
    "int print_special_string(va_list list, char *buffer, int *index, flags_t flags, length_mod_t length_mod)\n",
    "{\n",
    "    char *str = va_arg(list, char *);\n",
    "    int i = 0, count = 0;\n",
    "\n",
    "    (void)flags; /* Suppress unused parameter warning */\n",
    "    (void)length_mod;\n",
    "    if (str == NULL)\n",
    "        str = \"(null)\";\n",
    "\n",
    "    while (str[i])\n",
    "    {\n",
    "        if ((str[i] > 0 && str[i] < 32) || str[i] >= 127)\n",
    "        {\n",
    "            count += sprintf(&buffer[*index], \"\\\\x%02X\", (unsigned char)str[i]);\n",
    "            *index += 4;\n",
    "        }\n",
    "        else\n",
    "        {\n",
    "            _putchar(str[i], buffer, index);\n",
    "            count++;\n",
    "        }\n",
    "        i++;\n",
    "    }\n",
    "\n",
    "    return (count);\n",
    "}\n",
    "\n"
   ]
  },
  {
   "cell_type": "code",
   "execution_count": 149,
   "metadata": {},
   "outputs": [
    {
     "name": "stdout",
     "output_type": "stream",
     "text": [
      "Overwriting /home/elkomy/alx/printf/tests/main.c\n"
     ]
    }
   ],
   "source": [
    "%%file /home/elkomy/alx/printf/tests/main.c\n",
    "#include <limits.h>\n",
    "#include <stdio.h>\n",
    "#include \"main.h\"\n",
    "\n",
    "/**\n",
    " * main - Entry point\n",
    " *\n",
    " * Return: Always 0\n",
    " */\n",
    "int main(void)\n",
    "{\n",
    "    int len;\n",
    "    int len2;\n",
    "    unsigned int ui;\n",
    "    void *addr;\n",
    "\n",
    "    len = _printf(\"Let's try to printf a simple sentence.\\n\");\n",
    "    len2 = printf(\"Let's try to printf a simple sentence.\\n\");\n",
    "    ui = (unsigned int)INT_MAX + 1024;\n",
    "    addr = (void *)0x7ffe637541f0;\n",
    "    _printf(\"Length:[%d, %i]\\n\", len, len);\n",
    "    printf(\"Length:[%d, %i]\\n\", len2, len2);\n",
    "    _printf(\"Negative:[%d]\\n\", -762534);\n",
    "    printf(\"Negative:[%d]\\n\", -762534);\n",
    "    _printf(\"Unsigned:[%u]\\n\", ui);\n",
    "    printf(\"Unsigned:[%u]\\n\", ui);\n",
    "    _printf(\"Unsigned octal:[%o]\\n\", ui);\n",
    "    printf(\"Unsigned octal:[%o]\\n\", ui);\n",
    "    _printf(\"Unsigned hexadecimal:[%x, %X]\\n\", ui, ui);\n",
    "    printf(\"Unsigned hexadecimal:[%x, %X]\\n\", ui, ui);\n",
    "    _printf(\"Character:[%c]\\n\", 'H');\n",
    "    printf(\"Character:[%c]\\n\", 'H');\n",
    "    _printf(\"String:[%s]\\n\", \"I am a string !\");\n",
    "    printf(\"String:[%s]\\n\", \"I am a string !\");\n",
    "    _printf(\"Address:[%p]\\n\", addr);\n",
    "    printf(\"Address:[%p]\\n\", addr);\n",
    "    len = _printf(\"Percent:[%%]\\n\");\n",
    "    len2 = printf(\"Percent:[%%]\\n\");\n",
    "    _printf(\"Len:[%d]\\n\", len);\n",
    "    printf(\"Len:[%d]\\n\", len2);\n",
    "    _printf(\"Unknown:[%r]\\n\");\n",
    "    printf(\"Unknown:[%r]\\n\");\n",
    "    return (0);\n",
    "}"
   ]
  },
  {
   "cell_type": "code",
   "execution_count": 150,
   "metadata": {},
   "outputs": [
    {
     "name": "stdout",
     "output_type": "stream",
     "text": [
      "Overwriting /home/elkomy/alx/printf/print_pointer.c\n"
     ]
    }
   ],
   "source": [
    "%%file /home/elkomy/alx/printf/print_pointer.c\n",
    "#include \"main.h\"\n",
    "#include <stdio.h>\n",
    "\n",
    "/**\n",
    " * print_pointer - Prints a pointer address\n",
    " * @list: List of arguments\n",
    " * @buffer: Buffer to store characters\n",
    " * @index: Current index in the buffer\n",
    " * @flags: Flags for formatting\n",
    " * Return: Number of characters printed\n",
    " */\n",
    "int print_pointer(va_list list, char *buffer, int *index, flags_t flags, length_mod_t length_mod)\n",
    "{\n",
    "    void *ptr = va_arg(list, void *);\n",
    "    unsigned long int addr = (unsigned long int)ptr;\n",
    "    char hex[17];\n",
    "    int i, digit;\n",
    "\n",
    "    (void)flags; /* Suppress unused parameter warning */\n",
    "    (void)length_mod;\n",
    "    _putchar('0', buffer, index);\n",
    "    _putchar('x', buffer, index);\n",
    "\n",
    "    i = 15;\n",
    "    while (addr)\n",
    "    {\n",
    "        digit = addr % 16;\n",
    "        hex[i--] = (digit < 10) ? digit + '0' : digit - 10 + 'a';\n",
    "        addr /= 16;\n",
    "    }\n",
    "    i++;\n",
    "    while (i < 16)\n",
    "    {\n",
    "        _putchar(hex[i++], buffer, index);\n",
    "    }\n",
    "\n",
    "    return (2 + 15 - i);\n",
    "}\n"
   ]
  },
  {
   "cell_type": "code",
   "execution_count": 151,
   "metadata": {},
   "outputs": [
    {
     "name": "stdout",
     "output_type": "stream",
     "text": [
      "\n",
      "========== /home/elkomy/alx/printf/_printf.c ==========\n",
      "_printf\n",
      "Let's try to printf a simple sentence.\n",
      "Let's try to printf a simple sentence.\n",
      "Length:[39, 39]\n",
      "Length:[39, 39]\n",
      "Negative:[-762534]\n",
      "Negative:[-762534]\n",
      "Unsigned:[2147484671]\n",
      "Unsigned:[2147484671]\n",
      "Unsigned octal:[0]\n",
      "Unsigned octal:[20000001777]\n",
      "Unsigned hexadecimal:[800003ff, 0]\n",
      "Unsigned hexadecimal:[800003ff, 800003FF]\n",
      "Character:[H]\n",
      "Character:[H]\n",
      "String:[I am a string !]\n",
      "String:[I am a string !]\n",
      "Address:[0x7ffe637541f0]\n",
      "Address:[0x7ffe637541f0]\n",
      "Percent:[%]\n",
      "Percent:[%]\n",
      "Len:[12]\n",
      "Len:[12]\n",
      "Unknown:[%r]\n",
      "Unknown:[%r]\n"
     ]
    }
   ],
   "source": [
    "\n",
    "!betty /home/elkomy/alx/printf/_printf.c\n",
    "!gcc -Wall -Werror -Wextra -pedantic -std=gnu89 -Wno-format /home/elkomy/alx/printf/*.c /home/elkomy/alx/printf/tests/main.c -o /home/elkomy/alx/printf/printf\n",
    "!./printf\n"
   ]
  },
  {
   "cell_type": "code",
   "execution_count": 152,
   "metadata": {},
   "outputs": [
    {
     "name": "stdout",
     "output_type": "stream",
     "text": [
      "[main 8541527] alx-low_level_programming/0x0D-preprocessor/0-putchar\n",
      " 3 files changed, 22 insertions(+), 13 deletions(-)\n"
     ]
    },
    {
     "name": "stderr",
     "output_type": "stream",
     "text": [
      "To https://github.com/elkomysara/printf\n",
      "   ff72637..8541527  main -> main\n"
     ]
    }
   ],
   "source": [
    "%%bash\n",
    "git add .\n",
    "git commit -m \"alx-low_level_programming/0x0D-preprocessor/0-putchar\"\n",
    "git push"
   ]
  },
  {
   "cell_type": "code",
   "execution_count": null,
   "metadata": {},
   "outputs": [],
   "source": []
  },
  {
   "cell_type": "markdown",
   "metadata": {},
   "source": [
    "###\n",
    "---\n",
    "<center>\n",
    "<h4>9. Print some money and give it to us for the rain forests</h4>\n",
    "</center>\n",
    "\n",
    "---"
   ]
  },
  {
   "cell_type": "markdown",
   "metadata": {},
   "source": [
    "\n",
    "#### Handle the field width for non-custom conversion specifiers.\n",
    "\n",
    "#### Repo:\n",
    "* GitHub repository: ``` printf```"
   ]
  },
  {
   "cell_type": "code",
   "execution_count": 6,
   "metadata": {},
   "outputs": [
    {
     "name": "stdout",
     "output_type": "stream",
     "text": [
      "Overwriting /home/elkomy/alx/printf/format_reciever.c\n"
     ]
    }
   ],
   "source": [
    "%%file /home/elkomy/alx/printf/format_reciever.c\n",
    "#include \"main.h\"\n",
    "#include <stdio.h>\n",
    "\n",
    "/**\n",
    " * format_reciever - Receives the main string and necessary parameters to\n",
    " * print a formatted string\n",
    " * @format: A string containing all the desired characters\n",
    " * @f_list: List of format specifiers and their corresponding functions\n",
    " * @arg_list: List of arguments\n",
    " * @buffer: Buffer to store characters\n",
    " * @index: Current index in the buffer\n",
    " * Return: Number of characters printed\n",
    " */\n",
    "int format_reciever(const char *format, conver_t f_list[], va_list arg_list, char *buffer, int *index)\n",
    "{\n",
    "    int i = 0, j, printed_chars = 0;\n",
    "    flags_t flags;\n",
    "    length_mod_t length_mod;\n",
    "    int width;\n",
    "\n",
    "    while (format[i])\n",
    "    {\n",
    "        if (format[i] == '%')\n",
    "        {\n",
    "            i++;\n",
    "            flags = parse_flags(format, &i);\n",
    "            length_mod = parse_length_mod(format, &i);\n",
    "            width = parse_width(format, &i, arg_list);\n",
    "\n",
    "            for (j = 0; f_list[j].sym != NULL; j++)\n",
    "            {\n",
    "                if (format[i] == f_list[j].sym[0])\n",
    "                {\n",
    "                    printed_chars += f_list[j].f(arg_list, buffer, index, flags, length_mod, width);\n",
    "                    break;\n",
    "                }\n",
    "            }\n",
    "            if (f_list[j].sym == NULL)\n",
    "            {\n",
    "                _putchar('%', buffer, index);\n",
    "                _putchar(format[i], buffer, index);\n",
    "                printed_chars += 2;\n",
    "            }\n",
    "            i++;\n",
    "        }\n",
    "        else\n",
    "        {\n",
    "            _putchar(format[i], buffer, index);\n",
    "            printed_chars++;\n",
    "            i++;\n",
    "        }\n",
    "    }\n",
    "    return (printed_chars);\n",
    "}"
   ]
  },
  {
   "cell_type": "code",
   "execution_count": 154,
   "metadata": {},
   "outputs": [
    {
     "name": "stdout",
     "output_type": "stream",
     "text": [
      "Overwriting /home/elkomy/alx/printf/main.h\n"
     ]
    }
   ],
   "source": [
    "%%file /home/elkomy/alx/printf/main.h\n",
    "#ifndef MAIN_H\n",
    "#define MAIN_H\n",
    "\n",
    "#include <stdarg.h>\n",
    "#include <stdlib.h>\n",
    "#include <unistd.h>\n",
    "\n",
    "/**\n",
    " * struct flags - struct containing flags to \"turn on\"\n",
    " * when a flag specifier is passed to _printf()\n",
    " * @plus: flag for the '+' character\n",
    " * @space: flag for the ' ' character\n",
    " * @hash: flag for the '#' character\n",
    " */\n",
    "typedef struct flags\n",
    "{\n",
    "    int plus;\n",
    "    int space;\n",
    "    int hash;\n",
    "} flags_t;\n",
    "\n",
    "/**\n",
    " * struct length_mod - struct containing length modifiers\n",
    " * when a length specifier is passed to _printf()\n",
    " * @l: flag for the 'l' character\n",
    " * @h: flag for the 'h' character\n",
    " */\n",
    " \n",
    "typedef struct length_mod\n",
    "{\n",
    "    int l;\n",
    "    int h;\n",
    "} length_mod_t;\n",
    "\n",
    "/**\n",
    " * struct convert - struct for symbols and functions\n",
    " * @sym: The operator\n",
    " * @f: The function associated\n",
    " */\n",
    "typedef struct convert\n",
    "{\n",
    "    char *sym;\n",
    "    int (*f)(va_list, char *, int *, flags_t, length_mod_t, int);\n",
    "} conver_t;\n",
    "\n",
    "int _printf(const char *format, ...);\n",
    "int format_reciever(const char *format, conver_t f_list[], va_list arg_list, char *buffer, int *index);\n",
    "int _putchar(char c, char *buffer, int *index);\n",
    "char *convert(unsigned long int num, int base, int lowercase);\n",
    "flags_t parse_flags(const char *format, int *i);\n",
    "length_mod_t parse_length_mod(const char *format, int *i);\n",
    "int parse_width(const char *format, int *i, va_list arg_list);\n",
    "\n",
    "/* Function prototypes */\n",
    "int _printf(const char *format, ...);\n",
    "int print_char(va_list l, char *buf, int *i, flags_t, length_mod_t, int);\n",
    "int print_string(va_list l, char *buf, int *i, flags_t, length_mod_t, int);\n",
    "int print_percent(va_list l, char *buf, int *i, flags_t, length_mod_t, int);\n",
    "int print_integer(va_list l, char *buf, int *i, flags_t, length_mod_t, int);\n",
    "int print_unsigned(va_list l, char *buf, int *i, flags_t, length_mod_t, int);\n",
    "int print_binary(va_list l, char *buf, int *i, flags_t, length_mod_t, int);\n",
    "int print_octal(va_list l, char *buf, int *i, flags_t, length_mod_t, int);\n",
    "int print_hex(va_list l, char *buf, int *i, flags_t, length_mod_t, int);\n",
    "int print_HEX(va_list l, char *buf, int *i, flags_t, length_mod_t, int);\n",
    "int print_pointer(va_list l, char *buf, int *i, flags_t, length_mod_t, int);\n",
    "int print_reverse(va_list l, char *buf, int *i, flags_t, length_mod_t, int);\n",
    "int print_rot13(va_list l, char *buf, int *i, flags_t, length_mod_t, int);\n",
    "int print_non_printable(va_list l, char *buf, int *i, flags_t, length_mod_t, int);\n",
    "int print_special_string(va_list, char *, int *, flags_t, length_mod_t, int);\n",
    "\n",
    "#endif /* MAIN_H */\n"
   ]
  },
  {
   "cell_type": "code",
   "execution_count": 2,
   "metadata": {},
   "outputs": [
    {
     "name": "stdout",
     "output_type": "stream",
     "text": [
      "Overwriting /home/elkomy/alx/printf/parse_flags.c\n"
     ]
    }
   ],
   "source": [
    "%%file /home/elkomy/alx/printf/parse_flags.c\n",
    "#include \"main.h\"\n",
    "\n",
    "flags_t parse_flags(const char *format, int *i)\n",
    "{\n",
    "    flags_t flags = {0, 0, 0};\n",
    "\n",
    "    while (format[*i])\n",
    "    {\n",
    "        if (format[*i] == '+')\n",
    "            flags.plus = 1;\n",
    "        else if (format[*i] == ' ')\n",
    "            flags.space = 1;\n",
    "        else if (format[*i] == '#')\n",
    "            flags.hash = 1;\n",
    "        else\n",
    "            break;\n",
    "        (*i)++;\n",
    "    }\n",
    "\n",
    "    return flags;\n",
    "}"
   ]
  },
  {
   "cell_type": "code",
   "execution_count": 3,
   "metadata": {},
   "outputs": [
    {
     "name": "stdout",
     "output_type": "stream",
     "text": [
      "Overwriting /home/elkomy/alx/printf/parse_length_mod.c\n"
     ]
    }
   ],
   "source": [
    "%%file /home/elkomy/alx/printf/parse_length_mod.c\n",
    "#include \"main.h\"\n",
    "\n",
    "length_mod_t parse_length_mod(const char *format, int *i)\n",
    "{\n",
    "    length_mod_t length_mod = {0, 0};\n",
    "\n",
    "    if (format[*i] == 'l')\n",
    "    {\n",
    "        length_mod.l = 1;\n",
    "        (*i)++;\n",
    "    }\n",
    "    else if (format[*i] == 'h')\n",
    "    {\n",
    "        length_mod.h = 1;\n",
    "        (*i)++;\n",
    "    }\n",
    "\n",
    "    return length_mod;\n",
    "}"
   ]
  },
  {
   "cell_type": "code",
   "execution_count": 4,
   "metadata": {},
   "outputs": [
    {
     "name": "stdout",
     "output_type": "stream",
     "text": [
      "Overwriting /home/elkomy/alx/printf/parse_width.c\n"
     ]
    }
   ],
   "source": [
    "%%file /home/elkomy/alx/printf/parse_width.c\n",
    "#include \"main.h\"\n",
    "#include <ctype.h>\n",
    "\n",
    "/**\n",
    " * parse_width - Parses the width from the format string\n",
    " * @format: The format string\n",
    " * @i: Pointer to the current index in the format string\n",
    " * @arg_list: The list of arguments\n",
    " * Return: The width\n",
    " */\n",
    "int parse_width(const char *format, int *i, va_list arg_list)\n",
    "{\n",
    "    int width = 0;\n",
    "\n",
    "    if (isdigit(format[*i]))\n",
    "    {\n",
    "        while (isdigit(format[*i]))\n",
    "        {\n",
    "            width = width * 10 + (format[*i] - '0');\n",
    "            (*i)++;\n",
    "        }\n",
    "    }\n",
    "    else if (format[*i] == '*')\n",
    "    {\n",
    "        width = va_arg(arg_list, int);\n",
    "        (*i)++;\n",
    "    }\n",
    "\n",
    "    return (width);\n",
    "}"
   ]
  },
  {
   "cell_type": "code",
   "execution_count": null,
   "metadata": {},
   "outputs": [
    {
     "name": "stdout",
     "output_type": "stream",
     "text": [
      "Overwriting /home/elkomy/alx/printf/_printf.c\n"
     ]
    }
   ],
   "source": [
    "%%file /home/elkomy/alx/printf/_printf.c\n",
    "#include \"main.h\"\n",
    "#include <unistd.h>\n",
    "\n",
    "/**\n",
    "* _printf - Receives the main string and all the necessary parameters to\n",
    "* print a formatted string\n",
    "* @format: A string containing all the desired characters\n",
    "* Return: A total count of the characters printed\n",
    "*/\n",
    "int _printf(const char *format, ...)\n",
    "{\n",
    "va_list arg_list;\n",
    "int printed_chars = 0;\n",
    "char buffer[1024];\n",
    "int index = 0;\n",
    "\n",
    "conver_t f_list[] = {\n",
    "{\"%\", print_percent},\n",
    "{\"c\", print_char},\n",
    "{\"s\", print_string},\n",
    "{\"d\", print_integer},\n",
    "{\"i\", print_integer},\n",
    "{\"b\", print_binary},\n",
    "{\"u\", print_unsigned},\n",
    "{\"o\", print_octal},\n",
    "{\"x\", print_hex},\n",
    "{\"X\", print_HEX},\n",
    "{\"S\", print_special_string},\n",
    "{\"p\", print_pointer},\n",
    "{NULL, NULL}\n",
    "};\n",
    "\n",
    "va_start(arg_list, format);\n",
    "printed_chars = format_reciever(format, f_list, arg_list, buffer, &index);\n",
    "va_end(arg_list);\n",
    "\n",
    "buffer[index] = '\\0';\n",
    "write(1, buffer, index);\n",
    "\n",
    "return (printed_chars);\n",
    "}\n"
   ]
  },
  {
   "cell_type": "code",
   "execution_count": null,
   "metadata": {},
   "outputs": [
    {
     "name": "stdout",
     "output_type": "stream",
     "text": [
      "Overwriting /home/elkomy/alx/printf/format_reciever.c\n"
     ]
    }
   ],
   "source": [
    "%%file /home/elkomy/alx/printf/format_reciever.c\n",
    "#include \"main.h\"\n",
    "#include <stdio.h>\n",
    "\n",
    "/**\n",
    " * format_reciever - Receives the main string and necessary parameters to\n",
    " * print a formatted string\n",
    " * @format: A string containing all the desired characters\n",
    " * @f_list: List of format specifiers and their corresponding functions\n",
    " * @arg_list: List of arguments\n",
    " * @buffer: Buffer to store characters\n",
    " * @index: Current index in the buffer\n",
    " * Return: Number of characters printed\n",
    " */\n",
    "int format_reciever(const char *format, conver_t f_list[], va_list arg_list, char *buffer, int *index)\n",
    "{\n",
    "    int i = 0, j, printed_chars = 0;\n",
    "    flags_t flags;\n",
    "    length_mod_t length_mod;\n",
    "    int width;\n",
    "\n",
    "    while (format[i])\n",
    "    {\n",
    "        if (format[i] == '%')\n",
    "        {\n",
    "            i++;\n",
    "            flags = parse_flags(format, &i);\n",
    "            length_mod = parse_length_mod(format, &i);\n",
    "            width = parse_width(format, &i, arg_list);\n",
    "\n",
    "            for (j = 0; f_list[j].sym != NULL; j++)\n",
    "            {\n",
    "                if (format[i] == f_list[j].sym[0])\n",
    "                {\n",
    "                    printed_chars += f_list[j].f(arg_list, buffer, index, flags, length_mod, width);\n",
    "                    break;\n",
    "                }\n",
    "            }\n",
    "            if (f_list[j].sym == NULL)\n",
    "            {\n",
    "                _putchar('%', buffer, index);\n",
    "                _putchar(format[i], buffer, index);\n",
    "                printed_chars += 2;\n",
    "            }\n",
    "            i++;\n",
    "        }\n",
    "        else\n",
    "        {\n",
    "            _putchar(format[i], buffer, index);\n",
    "            printed_chars++;\n",
    "            i++;\n",
    "        }\n",
    "    }\n",
    "    return (printed_chars);\n",
    "}"
   ]
  },
  {
   "cell_type": "code",
   "execution_count": 5,
   "metadata": {},
   "outputs": [
    {
     "name": "stdout",
     "output_type": "stream",
     "text": [
      "Overwriting /home/elkomy/alx/printf/print_char.c\n"
     ]
    }
   ],
   "source": [
    "%%file /home/elkomy/alx/printf/print_char.c\n",
    "#include \"main.h\"\n",
    "#include <stdio.h>\n",
    "\n",
    "/**\n",
    " * print_char - Prints a character\n",
    " * @list: List of arguments\n",
    " * @buffer: Buffer to store characters\n",
    " * @index: Current index in the buffer\n",
    " * @flags: Flags for formatting\n",
    " * @length_mod: Length modifier for formatting\n",
    " * @width: Width for formatting\n",
    " * Return: Number of characters printed\n",
    " */\n",
    "int print_char(va_list list, char *buffer, int *index, flags_t flags, length_mod_t length_mod, int width)\n",
    "{\n",
    "    char c = va_arg(list, int);\n",
    "    int i;\n",
    "\n",
    "    (void)flags; /* Flags are not used for characters */\n",
    "    (void)length_mod;\n",
    "\n",
    "    if (width > 1)\n",
    "    {\n",
    "        for (i = 1; i < width; i++)\n",
    "        {\n",
    "            _putchar(' ', buffer, index);\n",
    "        }\n",
    "    }\n",
    "\n",
    "    buffer[*index] = c;\n",
    "    (*index)++;\n",
    "\n",
    "    return (width > 1 ? width : 1);\n",
    "}\n"
   ]
  },
  {
   "cell_type": "code",
   "execution_count": null,
   "metadata": {},
   "outputs": [
    {
     "name": "stdout",
     "output_type": "stream",
     "text": [
      "Overwriting /home/elkomy/alx/printf/convert.c\n"
     ]
    }
   ],
   "source": [
    "%%file /home/elkomy/alx/printf/convert.c\n",
    "#include \"main.h\"\n",
    "#include <stdlib.h>\n",
    "\n",
    "/**\n",
    " * convert - Converts a number to a string in the given base\n",
    " * @num: The number to be converted\n",
    " * @base: The base to convert to\n",
    " * @lowercase: Flag to determine if hex letters should be lowercase\n",
    " * Return: A pointer to the converted string (static buffer)\n",
    " */\n",
    "\n",
    "\n",
    "char *convert(unsigned long int num, int base, int lowercase)\n",
    "{\n",
    "    static char *rep;\n",
    "    static char buffer[50];\n",
    "    char *ptr;\n",
    "\n",
    "    rep = (lowercase) ? \"0123456789abcdef\" : \"0123456789ABCDEF\";\n",
    "    ptr = &buffer[49];\n",
    "    *ptr = '\\0';\n",
    "\n",
    "    do\n",
    "    {\n",
    "        *--ptr = rep[num % base];\n",
    "        num /= base;\n",
    "    } while (num != 0);\n",
    "\n",
    "    return (ptr);\n",
    "}\n"
   ]
  },
  {
   "cell_type": "code",
   "execution_count": 114,
   "metadata": {},
   "outputs": [
    {
     "name": "stdout",
     "output_type": "stream",
     "text": [
      "Overwriting /home/elkomy/alx/printf/print_string.c\n"
     ]
    }
   ],
   "source": [
    "%%file /home/elkomy/alx/printf/print_string.c\n",
    "#include \"main.h\"\n",
    "#include <stdio.h>\n",
    "#include <string.h>\n",
    "\n",
    "/**\n",
    " * print_string - Prints a string\n",
    " * @list: List of arguments\n",
    " * @buffer: Buffer to store characters\n",
    " * @index: Current index in the buffer\n",
    " * @flags: Flags for formatting\n",
    " * @length_mod: Length modifier for formatting\n",
    " * @width: Width for formatting\n",
    " * Return: Number of characters printed\n",
    " */\n",
    "int print_string(va_list list, char *buffer, int *index, flags_t flags, length_mod_t length_mod, int width)\n",
    "{\n",
    "    char *str = va_arg(list, char *);\n",
    "    int len, i, num_chars = 0;\n",
    "\n",
    "    (void)flags; /* Flags are not used for strings */\n",
    "    (void)length_mod;\n",
    "\n",
    "    if (str == NULL)\n",
    "        str = \"(null)\";\n",
    "\n",
    "    len = strlen(str);\n",
    "\n",
    "    if (width > len)\n",
    "    {\n",
    "        for (i = 0; i < width - len; i++)\n",
    "        {\n",
    "            _putchar(' ', buffer, index);\n",
    "            num_chars++;\n",
    "        }\n",
    "    }\n",
    "    \n",
    "    while (*str)\n",
    "    {\n",
    "        buffer[*index] = *str;\n",
    "        (*index)++;\n",
    "        str++;\n",
    "        num_chars++;\n",
    "    }\n",
    "\n",
    "    return (num_chars);\n",
    "}\n"
   ]
  },
  {
   "cell_type": "code",
   "execution_count": 115,
   "metadata": {},
   "outputs": [
    {
     "name": "stdout",
     "output_type": "stream",
     "text": [
      "Overwriting /home/elkomy/alx/printf/print_percent.c\n"
     ]
    }
   ],
   "source": [
    "%%file /home/elkomy/alx/printf/print_percent.c\n",
    "#include \"main.h\"\n",
    "#include <stdio.h>\n",
    "\n",
    "/**\n",
    " * print_percent - Prints a percent symbol\n",
    " * @list: List of arguments\n",
    " * @buffer: Buffer to store characters\n",
    " * @index: Current index in the buffer\n",
    " * @flags: Flags for formatting\n",
    " * @length_mod: Length modifier for formatting\n",
    " * @width: Width for formatting \n",
    " * Return: Number of characters printed\n",
    " */\n",
    "int print_percent(va_list list, char *buffer, int *index, flags_t flags,length_mod_t length_mod, int width )\n",
    "{\n",
    "    (void)list;\n",
    "    (void)flags; /* Flags are not used for percent */\n",
    "    (void)length_mod; \n",
    "\n",
    "\n",
    "  if (width > 1)  \n",
    "    {\n",
    "        int i;\n",
    "        for (i = 0; i < width - 1; i++)  \n",
    "        {\n",
    "            _putchar(' ', buffer, index);\n",
    "        }\n",
    "    }\n",
    "    buffer[*index] = '%';\n",
    "    (*index)++;\n",
    "\n",
    "  return (width > 1 ? width : 1);\n",
    "}\n"
   ]
  },
  {
   "cell_type": "code",
   "execution_count": 116,
   "metadata": {},
   "outputs": [
    {
     "name": "stdout",
     "output_type": "stream",
     "text": [
      "Overwriting /home/elkomy/alx/printf/print_integer.c\n"
     ]
    }
   ],
   "source": [
    "%%file /home/elkomy/alx/printf/print_integer.c\n",
    "\n",
    "\n",
    "#include \"main.h\"\n",
    "#include <stdlib.h>  /* Include stdlib.h for malloc */\n",
    "#include <string.h>\n",
    "\n",
    "/* Helper function to implement itoa since it's not standard in C */\n",
    "void itoa(int num, char *str, int base) {\n",
    "    int i = 0;\n",
    "    int is_negative = 0;\n",
    "    int start, end;\n",
    "\n",
    "    /* Handle 0 explicitly, otherwise empty string is printed for 0 */\n",
    "    if (num == 0) {\n",
    "        str[i++] = '0';\n",
    "        str[i] = '\\0';\n",
    "        return;\n",
    "    }\n",
    "\n",
    "    /* Handle negative numbers for base 10 */\n",
    "    if (num < 0 && base == 10) {\n",
    "        is_negative = 1;\n",
    "        num = -num;\n",
    "    }\n",
    "\n",
    "    /* Process individual digits */\n",
    "    while (num != 0) {\n",
    "        int rem = num % base;\n",
    "        str[i++] = (rem > 9) ? (rem - 10) + 'a' : rem + '0';\n",
    "        num = num / base;\n",
    "    }\n",
    "\n",
    "    /* Append '-' for negative numbers */\n",
    "    if (is_negative) {\n",
    "        str[i++] = '-';\n",
    "    }\n",
    "\n",
    "    str[i] = '\\0';\n",
    "\n",
    "    /* Reverse the string */\n",
    "    start = 0;\n",
    "    end = i - 1;\n",
    "    while (start < end) {\n",
    "        char temp = str[start];\n",
    "        str[start] = str[end];\n",
    "        str[end] = temp;\n",
    "        start++;\n",
    "        end--;\n",
    "    }\n",
    "}\n",
    "\n",
    "/**\n",
    " * print_integer - Prints an integer\n",
    " * @list: List of arguments\n",
    " * @buffer: Buffer to store characters\n",
    " * @index: Current index in the buffer\n",
    " * @flags: Flags for formatting\n",
    " * @length_mod: Length modifier for formatting\n",
    " * @width: Width for formatting\n",
    " * Return: Number of characters printed\n",
    " */\n",
    "int print_integer(va_list list, char *buffer, int *index, flags_t flags, length_mod_t length_mod, int width)\n",
    "{\n",
    "    long int num;\n",
    "    char str[21]; /* Enough to hold long int in base 10 with sign */\n",
    "    int i = 0, num_chars = 0;\n",
    "    int len;\n",
    "\n",
    "    if (length_mod.l)\n",
    "        num = va_arg(list, long int);\n",
    "    else if (length_mod.h)\n",
    "        num = (short int)va_arg(list, int);\n",
    "    else\n",
    "        num = va_arg(list, int);\n",
    "\n",
    "    itoa(num, str, 10);\n",
    "\n",
    "    /* Handle width */\n",
    "    len = strlen(str);\n",
    "    if (width > len)\n",
    "    {\n",
    "        int pad = width - len;\n",
    "        if (flags.plus || flags.space)\n",
    "        {\n",
    "            pad--;\n",
    "        }\n",
    "        for (i = 0; i < pad; i++)\n",
    "        {\n",
    "            _putchar(' ', buffer, index);\n",
    "        }\n",
    "    }\n",
    "\n",
    "    /* Handle the space and plus flags */\n",
    "    if (flags.plus && num >= 0)\n",
    "    {\n",
    "        _putchar('+', buffer, index);\n",
    "        num_chars++;\n",
    "    }\n",
    "    else if (flags.space && num >= 0)\n",
    "    {\n",
    "        _putchar(' ', buffer, index);\n",
    "        num_chars++;\n",
    "    }\n",
    "\n",
    "    i = 0;  /* Reset i to 0 for the next loop */\n",
    "    while (str[i])\n",
    "    {\n",
    "        _putchar(str[i], buffer, index);\n",
    "        i++;\n",
    "        num_chars++;\n",
    "    }\n",
    "\n",
    "    return (num_chars + (width > len ? width - len : 0));\n",
    "}\n"
   ]
  },
  {
   "cell_type": "code",
   "execution_count": 117,
   "metadata": {},
   "outputs": [
    {
     "name": "stdout",
     "output_type": "stream",
     "text": [
      "Overwriting /home/elkomy/alx/printf/print_binary.c\n"
     ]
    }
   ],
   "source": [
    "%%file /home/elkomy/alx/printf/print_binary.c\n",
    "#include \"main.h\"\n",
    "#include <stdio.h>\n",
    "#include <string.h>\n",
    "\n",
    "/**\n",
    " * print_binary - Prints a number in binary\n",
    " * @list: List of arguments\n",
    " * @buffer: Buffer to store characters\n",
    " * @index: Current index in the buffer\n",
    " * @flags: Flags for formatting\n",
    " * @length_mod: Length modifier for formatting\n",
    " * @width: Width for formatting\n",
    " * Return: Number of characters printed\n",
    " */\n",
    "int print_binary(va_list list, char *buffer, int *index, flags_t flags, length_mod_t length_mod, int width)\n",
    "{\n",
    "    unsigned int num = va_arg(list, unsigned int);\n",
    "    int num_chars = 0;\n",
    "    char *str = convert(num, 2, 0);\n",
    "\n",
    "    (void)flags; /* Flags are not used for binary */\n",
    "    (void)length_mod;\n",
    "    while (*str)\n",
    "    {\n",
    "        buffer[*index] = *str;\n",
    "        (*index)++;\n",
    "        str++;\n",
    "        num_chars++;\n",
    "    }\n",
    "\n",
    "     if (width > (int)strlen(str))  \n",
    "    {\n",
    "        int i;\n",
    "        for (i = 0; i < width - (int)strlen(str); i++)  \n",
    "        {\n",
    "            _putchar(' ', buffer, index);\n",
    "        }\n",
    "    }\n",
    "\n",
    "    return (num_chars);\n",
    "}\n"
   ]
  },
  {
   "cell_type": "code",
   "execution_count": 151,
   "metadata": {},
   "outputs": [
    {
     "name": "stdout",
     "output_type": "stream",
     "text": [
      "Overwriting /home/elkomy/alx/printf/print_unsigned.c\n"
     ]
    }
   ],
   "source": [
    "%%file /home/elkomy/alx/printf/print_unsigned.c\n",
    "#include \"main.h\"\n",
    "#include <stdio.h>\n",
    "#include <string.h>\n",
    "\n",
    "/**\n",
    " * print_unsigned - Prints an unsigned integer\n",
    " * @list: List of arguments\n",
    " * @buffer: Buffer to store characters\n",
    " * @index: Current index in the buffer\n",
    " * @flags: Flags for formatting\n",
    " * @length_mod: Length modifier for formatting\n",
    " * @width: Width for formatting\n",
    " * Return: Number of characters printed\n",
    " */\n",
    "int print_unsigned(va_list list, char *buffer, int *index, flags_t flags, length_mod_t length_mod, int width)\n",
    "{\n",
    "    unsigned long int num;\n",
    "    int num_chars = 0;\n",
    "    char *str;\n",
    "\n",
    "    (void)flags; /* Suppress unused parameter warning */\n",
    "    (void)width; /* Suppress unused parameter warning */\n",
    "\n",
    "    if (length_mod.l)\n",
    "        num = va_arg(list, unsigned long int);\n",
    "    else if (length_mod.h)\n",
    "        num = (unsigned short int)va_arg(list, unsigned int);\n",
    "    else\n",
    "        num = va_arg(list, unsigned int);\n",
    "\n",
    "    str = convert(num, 10, 0);\n",
    "\n",
    "    if (width > (int)strlen(str))  \n",
    "    {\n",
    "        int i;\n",
    "        for (i = 0; i < width - (int)strlen(str); i++)  \n",
    "        {\n",
    "            _putchar(' ', buffer, index);\n",
    "            num_chars++;\n",
    "        }\n",
    "    }\n",
    "\n",
    "    while (*str)\n",
    "    {\n",
    "        buffer[*index] = *str;\n",
    "        (*index)++;\n",
    "        str++;\n",
    "        num_chars++;\n",
    "    }\n",
    "\n",
    "    return num_chars;\n",
    "}\n"
   ]
  },
  {
   "cell_type": "code",
   "execution_count": 152,
   "metadata": {},
   "outputs": [
    {
     "name": "stdout",
     "output_type": "stream",
     "text": [
      "Overwriting /home/elkomy/alx/printf/print_octal.c\n"
     ]
    }
   ],
   "source": [
    "%%file /home/elkomy/alx/printf/print_octal.c\n",
    "#include \"main.h\"\n",
    "#include <stdio.h>\n",
    "#include <string.h>\n",
    "\n",
    "/**\n",
    " * print_octal - Prints a number in octal\n",
    " * @list: List of arguments\n",
    " * @buffer: Buffer to store characters\n",
    " * @index: Current index in the buffer\n",
    " * @flags: Flags for formatting\n",
    " * @length_mod: Length modifier for formatting\n",
    " * @width: Width for formatting\n",
    " * Return: Number of characters printed\n",
    " */\n",
    "int print_octal(va_list list, char *buffer, int *index, flags_t flags, length_mod_t length_mod, int width)\n",
    "{\n",
    "    unsigned long int num ;\n",
    "    char *str;\n",
    "    int num_chars = 0, len, i;\n",
    "    \n",
    "\n",
    "    if (length_mod.l)\n",
    "        num = va_arg(list, unsigned long int);\n",
    "    else if (length_mod.h)\n",
    "        num = (unsigned short int)va_arg(list, unsigned int);\n",
    "    else\n",
    "        num = va_arg(list, unsigned int);\n",
    "\n",
    "    str = convert(num, 8, 0);\n",
    "    len = strlen(str);\n",
    "\n",
    "    if (flags.hash && num != 0)\n",
    "    {\n",
    "         _putchar('0', buffer, index);\n",
    "        num_chars++;\n",
    "        if (width > 0)\n",
    "            width--;\n",
    "    }\n",
    "\n",
    "   \n",
    "    if (width > len)\n",
    "    {\n",
    "        for (i = 0; i < width - len; i++)\n",
    "        {\n",
    "            _putchar(' ', buffer, index);\n",
    "            num_chars++;\n",
    "        }\n",
    "    }\n",
    "\n",
    "    while (*str)\n",
    "    {\n",
    "        buffer[*index] = *str;\n",
    "        (*index)++;\n",
    "        str++;\n",
    "        num_chars++;\n",
    "    }\n",
    "\n",
    "    return (num_chars);\n",
    "}\n"
   ]
  },
  {
   "cell_type": "code",
   "execution_count": 153,
   "metadata": {},
   "outputs": [
    {
     "name": "stdout",
     "output_type": "stream",
     "text": [
      "Overwriting /home/elkomy/alx/printf/print_hex.c\n"
     ]
    }
   ],
   "source": [
    "%%file /home/elkomy/alx/printf/print_hex.c\n",
    "#include \"main.h\"\n",
    "#include <stdio.h>\n",
    "#include <string.h>\n",
    "\n",
    "/**\n",
    " * print_hex - Prints a number in hexadecimal (lowercase)\n",
    " * @list: List of arguments\n",
    " * @buffer: Buffer to store characters\n",
    " * @index: Current index in the buffer\n",
    " * @flags: Flags for formatting\n",
    " * @length_mod: Length modifier for formatting\n",
    " * @width: Width for formatting\n",
    " * Return: Number of characters printed\n",
    " */\n",
    "int print_hex(va_list list, char *buffer, int *index, flags_t flags, length_mod_t length_mod, int width)\n",
    "{\n",
    "    unsigned long int num;\n",
    "    char *str;\n",
    "    int num_chars = 0, len, i;\n",
    "\n",
    "    if (length_mod.l)\n",
    "        num = va_arg(list, unsigned long int);\n",
    "    else if (length_mod.h)\n",
    "        num = (unsigned short int)va_arg(list, unsigned int);\n",
    "    else\n",
    "        num = va_arg(list,unsigned int);\n",
    "\n",
    "    str = convert(num, 16, 1); \n",
    "    len = strlen(str);\n",
    "\n",
    "    if (flags.hash && num != 0)\n",
    "    {\n",
    "      _putchar('0', buffer, index);\n",
    "      _putchar('x', buffer, index);\n",
    "      num_chars += 2;\n",
    "     if (width > 0)\n",
    "        width -= 2;\n",
    "    }\n",
    "\n",
    "\n",
    "    if (width > (int)strlen(str)) \n",
    "    {\n",
    "        \n",
    "        for (i = 0; i < width - len; i++)\n",
    "        {\n",
    "            _putchar(' ', buffer, index);\n",
    "            num_chars++;\n",
    "        }\n",
    "    }\n",
    "\n",
    "    while (*str)\n",
    "    {\n",
    "        buffer[*index] = *str;\n",
    "        (*index)++;\n",
    "        str++;\n",
    "        num_chars++;\n",
    "    }\n",
    "\n",
    "    return (num_chars);\n",
    "}\n"
   ]
  },
  {
   "cell_type": "code",
   "execution_count": 154,
   "metadata": {},
   "outputs": [
    {
     "name": "stdout",
     "output_type": "stream",
     "text": [
      "Overwriting /home/elkomy/alx/printf/print_HEX.c\n"
     ]
    }
   ],
   "source": [
    "%%file /home/elkomy/alx/printf/print_HEX.c\n",
    "\n",
    "#include \"main.h\"\n",
    "#include <stdio.h>\n",
    "#include <string.h>\n",
    "\n",
    "/**\n",
    " * print_HEX - Prints a number in hexadecimal (uppercase)\n",
    " * @list: List of arguments\n",
    " * @buffer: Buffer to store characters\n",
    " * @index: Current index in the buffer\n",
    " * @flags: Flags for formatting\n",
    " * @length_mod: Length modifier for formatting\n",
    " * @width: width for formatting\n",
    " * Return: Number of characters printed\n",
    " */\n",
    "int print_HEX(va_list list, char *buffer, int *index, flags_t flags, length_mod_t length_mod, int width)\n",
    "{\n",
    "    unsigned long int num;\n",
    "     char *str;\n",
    "    int num_chars = 0, len ,i;\n",
    "   \n",
    "\n",
    "    if (length_mod.l)\n",
    "        num = va_arg(list, unsigned long int);\n",
    "    else if (length_mod.h)\n",
    "        num = (unsigned short int)va_arg(list, unsigned int);\n",
    "    else\n",
    "        num = va_arg(list, unsigned int);\n",
    "\n",
    "    str = convert(num, 16, 0);\n",
    "    len = strlen(str);\n",
    "\n",
    "    if (flags.hash && num != 0)\n",
    "    {\n",
    "    _putchar('0', buffer, index);\n",
    "    _putchar('X', buffer, index);\n",
    "    num_chars += 2;\n",
    "    if (width > 0)\n",
    "        width -= 2;\n",
    "    }\n",
    "\n",
    "\n",
    "    if (width > len)\n",
    "    {\n",
    "       for (i = 0; i < width - len; i++)\n",
    "    {\n",
    "            _putchar(' ', buffer, index);\n",
    "            num_chars++;\n",
    "    }\n",
    "    }\n",
    "\n",
    "    while (*str)\n",
    "    {\n",
    "        buffer[*index] = *str;\n",
    "        (*index)++;\n",
    "        str++;\n",
    "        num_chars++;\n",
    "    }\n",
    "\n",
    "    return (num_chars);\n",
    "}"
   ]
  },
  {
   "cell_type": "code",
   "execution_count": 155,
   "metadata": {},
   "outputs": [
    {
     "name": "stdout",
     "output_type": "stream",
     "text": [
      "Overwriting /home/elkomy/alx/printf/print_reverse.c\n"
     ]
    }
   ],
   "source": [
    "%%file /home/elkomy/alx/printf/print_reverse.c\n",
    "#include \"main.h\"\n",
    "#include <stdio.h>\n",
    "#include <string.h>\n",
    "\n",
    "/**\n",
    " * print_reverse - Prints a string in reverse\n",
    " * @list: List of arguments\n",
    " * @buffer: Buffer to store characters\n",
    " * @index: Current index in the buffer\n",
    " * @flags: Flags for formatting\n",
    " * @length_mod: Length modifier for formatting \n",
    " * @width: Width for formatting\n",
    " * Return: Number of characters printed\n",
    " */\n",
    "\n",
    "int print_reverse(va_list list, char *buffer, int *index, flags_t flags, length_mod_t length_mod, int width)\n",
    "{\n",
    "    char *str = va_arg(list, char *);\n",
    "    int len, i, num_chars = 0;\n",
    "\n",
    "    (void)flags; /* Flags are not used for strings */\n",
    "    (void)length_mod;\n",
    "\n",
    "    if (str == NULL)\n",
    "        str = \"(null)\";\n",
    "\n",
    "    len = strlen(str);\n",
    "\n",
    "    if (width > len) \n",
    "    {\n",
    "        for (i = 0; i < width - len; i++)  \n",
    "        {\n",
    "            _putchar(' ', buffer, index);\n",
    "            num_chars++;\n",
    "        }\n",
    "    }\n",
    "\n",
    "    for (i = len - 1; i >= 0; i--)\n",
    "    {\n",
    "        _putchar(str[i], buffer, index);\n",
    "        num_chars++;\n",
    "    }\n",
    "\n",
    "    return (num_chars);\n",
    "}\n"
   ]
  },
  {
   "cell_type": "code",
   "execution_count": 156,
   "metadata": {},
   "outputs": [
    {
     "name": "stdout",
     "output_type": "stream",
     "text": [
      "Overwriting /home/elkomy/alx/printf/print_rot13.c\n"
     ]
    }
   ],
   "source": [
    "%%file /home/elkomy/alx/printf/print_rot13.c\n",
    "#include \"main.h\"\n",
    "#include <stdio.h>\n",
    "#include <string.h>\n",
    "\n",
    "/**\n",
    " * print_rot13 - Encodes a string using rot13 and prints it\n",
    " * @list: List of arguments\n",
    " * @buffer: Buffer to store characters\n",
    " * @index: Current index in the buffer\n",
    " * @flags: Flags for formatting\n",
    " * @length_mod: Length modifier for formatting\n",
    " * @width: Width for formatting\n",
    " * Return: Number of characters printed\n",
    " */\n",
    "int print_rot13(va_list list, char *buffer, int *index, flags_t flags, length_mod_t length_mod, int width)\n",
    "{\n",
    "    char *str = va_arg(list, char *);\n",
    "    char in[] = \"ABCDEFGHIJKLMNOPQRSTUVWXYZabcdefghijklmnopqrstuvwxyz\";\n",
    "    char out[] = \"NOPQRSTUVWXYZABCDEFGHIJKLMnopqrstuvwxyzabcdefghijklm\";\n",
    "    int len, i, j, num_chars = 0;\n",
    "\n",
    "    (void)flags; /* Flags are not used for rot13 */\n",
    "    (void)length_mod;\n",
    "\n",
    "    if (str == NULL)\n",
    "        str = \"(null)\";\n",
    "\n",
    "    len = strlen(str);\n",
    "\n",
    "    if (width > len)\n",
    "    {\n",
    "        for (i = 0; i < width - len; i++)\n",
    "        {\n",
    "            _putchar(' ', buffer, index);\n",
    "            num_chars++;\n",
    "        }\n",
    "    }\n",
    "\n",
    "    while (*str)\n",
    "    {\n",
    "        for (j = 0; j < 52; j++)\n",
    "        {\n",
    "            if (*str == in[j])\n",
    "            {\n",
    "                buffer[*index] = out[j];\n",
    "                (*index)++;\n",
    "                num_chars++;\n",
    "                break;\n",
    "            }\n",
    "        }\n",
    "        if (j == 52)\n",
    "        {\n",
    "            buffer[*index] = *str;\n",
    "            (*index)++;\n",
    "            num_chars++;\n",
    "        }\n",
    "        str++;\n",
    "    }\n",
    "\n",
    "    return (num_chars);\n",
    "}\n"
   ]
  },
  {
   "cell_type": "code",
   "execution_count": 157,
   "metadata": {},
   "outputs": [
    {
     "name": "stdout",
     "output_type": "stream",
     "text": [
      "Overwriting /home/elkomy/alx/printf/print_non_printable.c\n"
     ]
    }
   ],
   "source": [
    "%%file /home/elkomy/alx/printf/print_non_printable.c\n",
    "#include \"main.h\"\n",
    "#include <stdio.h>\n",
    "#include <string.h>\n",
    "\n",
    "/**\n",
    " * print_non_printable - Prints a string with non-printable characters in hex\n",
    " * @list: List of arguments\n",
    " * @buffer: Buffer to store characters\n",
    " * @index: Current index in the buffer\n",
    " * @flags: Flags for formatting\n",
    " * @length_mod: Length modifier for formatting\n",
    " * @width: Width for formatting\n",
    " * Return: Number of characters printed\n",
    " */\n",
    "int print_non_printable(va_list list, char *buffer, int *index, flags_t flags, length_mod_t length_mod, int width)\n",
    "{\n",
    "    char *str = va_arg(list, char *);\n",
    "    char hex[5];\n",
    "    int len, i, num_chars = 0;\n",
    "\n",
    "    (void)flags; /* Flags are not used for non-printable characters */\n",
    "    (void)length_mod;\n",
    "\n",
    "    if (str == NULL)\n",
    "        str = \"(null)\";\n",
    "\n",
    "    len = strlen(str);\n",
    "\n",
    "    if (width > len)\n",
    "    {\n",
    "        for (i = 0; i < width - len; i++)\n",
    "        {\n",
    "            _putchar(' ', buffer, index);\n",
    "            num_chars++;\n",
    "        }\n",
    "    }\n",
    "\n",
    "    while (*str)\n",
    "    {\n",
    "        if (*str < 32 || *str >= 127)\n",
    "        {\n",
    "            sprintf(hex, \"\\\\x%02X\", (unsigned char)*str);\n",
    "            for (i = 0; hex[i]; i++)\n",
    "            {\n",
    "                buffer[*index] = hex[i];\n",
    "                (*index)++;\n",
    "                num_chars++;\n",
    "            }\n",
    "        }\n",
    "        else\n",
    "        {\n",
    "            buffer[*index] = *str;\n",
    "            (*index)++;\n",
    "            num_chars++;\n",
    "        }\n",
    "        str++;\n",
    "    }\n",
    "\n",
    "    return (num_chars);\n",
    "}"
   ]
  },
  {
   "cell_type": "code",
   "execution_count": 158,
   "metadata": {},
   "outputs": [
    {
     "name": "stdout",
     "output_type": "stream",
     "text": [
      "Overwriting /home/elkomy/alx/printf/print_special_string.c\n"
     ]
    }
   ],
   "source": [
    "%%file /home/elkomy/alx/printf/print_special_string.c\n",
    "#include \"main.h\"\n",
    "#include <stdio.h>\n",
    "\n",
    "/**\n",
    " * print_special_string - Prints a special string with non-printable characters\n",
    " * @list: List of arguments\n",
    " * @buffer: Buffer to store characters\n",
    " * @index: Current index in the buffer\n",
    " * @flags: Flags for formatting\n",
    " * @length_mod: Length modifier for formatting\n",
    " * @width: Width for formatting\n",
    " * Return: Number of characters printed\n",
    " */\n",
    "int print_special_string(va_list list, char *buffer, int *index, flags_t flags, length_mod_t length_mod, int width)\n",
    "{\n",
    "    char *str = va_arg(list, char *);\n",
    "    int i = 0, count = 0;\n",
    "\n",
    "    (void)flags; /* Suppress unused parameter warning */\n",
    "    (void)length_mod;\n",
    "    (void)width;\n",
    "\n",
    "    if (str == NULL)\n",
    "        str = \"(null)\";\n",
    "\n",
    "    while (str[i])\n",
    "    {\n",
    "        if ((str[i] > 0 && str[i] < 32) || str[i] >= 127)\n",
    "        {\n",
    "            count += sprintf(&buffer[*index], \"\\\\x%02X\", (unsigned char)str[i]);\n",
    "            *index += 4;\n",
    "        }\n",
    "        else\n",
    "        {\n",
    "            _putchar(str[i], buffer, index);\n",
    "            count++;\n",
    "        }\n",
    "        i++;\n",
    "    }\n",
    "\n",
    "    return (count);\n",
    "}\n"
   ]
  },
  {
   "cell_type": "code",
   "execution_count": 159,
   "metadata": {},
   "outputs": [
    {
     "name": "stdout",
     "output_type": "stream",
     "text": [
      "Overwriting /home/elkomy/alx/printf/print_pointer.c\n"
     ]
    }
   ],
   "source": [
    "%%file /home/elkomy/alx/printf/print_pointer.c\n",
    "#include \"main.h\"\n",
    "#include <stdio.h>\n",
    "#include <string.h>\n",
    "\n",
    "/**\n",
    " * print_pointer - Prints a pointer address\n",
    " * @list: List of arguments\n",
    " * @buffer: Buffer to store characters\n",
    " * @index: Current index in the buffer\n",
    " * @flags: Flags for formatting\n",
    " * @length_mod: Length modifier for formatting\n",
    " * @width: Width for formatting\n",
    " * Return: Number of characters printed\n",
    " */\n",
    "int print_pointer(va_list list, char *buffer, int *index, flags_t flags, length_mod_t length_mod, int width)\n",
    "{\n",
    "    void *ptr = va_arg(list, void *);\n",
    "    unsigned long int addr = (unsigned long int)ptr;\n",
    "    char hex[17];\n",
    "    int i, digit, num_chars = 2; \n",
    "\n",
    "    (void)flags; /* Suppress unused parameter warning */\n",
    "    (void)length_mod;\n",
    "\n",
    "    _putchar('0', buffer, index);\n",
    "    _putchar('x', buffer, index);\n",
    "\n",
    "    i = 15;\n",
    "    while (addr)\n",
    "    {\n",
    "        digit = addr % 16;\n",
    "        hex[i--] = (digit < 10) ? digit + '0' : digit - 10 + 'a';\n",
    "        addr /= 16;\n",
    "    }\n",
    "    i++;\n",
    "    while (i < 16)\n",
    "    {\n",
    "        _putchar(hex[i++], buffer, index);\n",
    "        num_chars++;\n",
    "    }\n",
    "\n",
    "    /* Handle width */\n",
    "    if (width > num_chars)\n",
    "    {\n",
    "        for (i = 0; i < width - num_chars; i++)\n",
    "        {\n",
    "            _putchar(' ', buffer, index);\n",
    "            num_chars++;\n",
    "        }\n",
    "    }\n",
    "\n",
    "    return num_chars;\n",
    "}"
   ]
  },
  {
   "cell_type": "code",
   "execution_count": 160,
   "metadata": {},
   "outputs": [
    {
     "name": "stdout",
     "output_type": "stream",
     "text": [
      "Overwriting /home/elkomy/alx/printf/tests/main.c\n"
     ]
    }
   ],
   "source": [
    "%%file /home/elkomy/alx/printf/tests/main.c\n",
    "#include <limits.h>\n",
    "#include <stdio.h>\n",
    "#include \"main.h\"\n",
    "\n",
    "/**\n",
    " * main - Entry point\n",
    " *\n",
    " * Return: Always 0\n",
    " */\n",
    "int main(void)\n",
    "{\n",
    "    int len;\n",
    "    int len2;\n",
    "    unsigned int ui;\n",
    "    void *addr;\n",
    "\n",
    "    len = _printf(\"Let's try to printf a simple sentence.\\n\");\n",
    "    len2 = printf(\"Let's try to printf a simple sentence.\\n\");\n",
    "    ui = (unsigned int)INT_MAX + 1024;\n",
    "    addr = (void *)0x7ffe637541f0;\n",
    "    _printf(\"Length:[%d, %i]\\n\", len, len);\n",
    "    printf(\"Length:[%d, %i]\\n\", len2, len2);\n",
    "    _printf(\"Negative:[%d]\\n\", -762534);\n",
    "    printf(\"Negative:[%d]\\n\", -762534);\n",
    "    _printf(\"Unsigned:[%u]\\n\", ui);\n",
    "    printf(\"Unsigned:[%u]\\n\", ui);\n",
    "    _printf(\"Unsigned octal:[%o]\\n\", ui);\n",
    "    printf(\"Unsigned octal:[%o]\\n\", ui);\n",
    "    _printf(\"Unsigned hexadecimal:[%x, %X]\\n\", ui, ui);\n",
    "    printf(\"Unsigned hexadecimal:[%x, %X]\\n\", ui, ui);\n",
    "    _printf(\"Character:[%c]\\n\", 'H');\n",
    "    printf(\"Character:[%c]\\n\", 'H');\n",
    "    _printf(\"String:[%s]\\n\", \"I am a string !\");\n",
    "    printf(\"String:[%s]\\n\", \"I am a string !\");\n",
    "    _printf(\"Address:[%p]\\n\", addr);\n",
    "    printf(\"Address:[%p]\\n\", addr);\n",
    "    len = _printf(\"Percent:[%%]\\n\");\n",
    "    len2 = printf(\"Percent:[%%]\\n\");\n",
    "    _printf(\"Len:[%d]\\n\", len);\n",
    "    printf(\"Len:[%d]\\n\", len2);\n",
    "    _printf(\"Unknown:[%r]\\n\");\n",
    "    printf(\"Unknown:[%r]\\n\");\n",
    "    return (0);\n",
    "}"
   ]
  },
  {
   "cell_type": "code",
   "execution_count": 161,
   "metadata": {},
   "outputs": [
    {
     "name": "stdout",
     "output_type": "stream",
     "text": [
      "\n",
      "========== /home/elkomy/alx/printf/_printf.c ==========\n",
      "_printf\n",
      "Let's try to printf a simple sentence.\n",
      "Let's try to printf a simple sentence.\n",
      "Length:[39, 39]\n",
      "Length:[39, 39]\n",
      "Negative:[-762534]\n",
      "Negative:[-762534]\n",
      "Unsigned:[2147484671]\n",
      "Unsigned:[2147484671]\n",
      "Unsigned octal:[20000001777]\n",
      "Unsigned octal:[20000001777]\n",
      "Unsigned hexadecimal:[800003ff, 800003FF]\n",
      "Unsigned hexadecimal:[800003ff, 800003FF]\n",
      "Character:[H]\n",
      "Character:[H]\n",
      "String:[I am a string !]\n",
      "String:[I am a string !]\n",
      "Address:[0x7ffe637541f0]\n",
      "Address:[0x7ffe637541f0]\n",
      "Percent:[%]\n",
      "Percent:[%]\n",
      "Len:[12]\n",
      "Len:[12]\n",
      "Unknown:[%r]\n",
      "Unknown:[%r]\n"
     ]
    }
   ],
   "source": [
    "\n",
    "!betty /home/elkomy/alx/printf/_printf.c\n",
    "!gcc -Wall -Werror -Wextra -pedantic -std=gnu89 -Wno-format /home/elkomy/alx/printf/*.c /home/elkomy/alx/printf/tests/main.c -o /home/elkomy/alx/printf/printf\n",
    "!./printf\n"
   ]
  },
  {
   "cell_type": "code",
   "execution_count": 162,
   "metadata": {},
   "outputs": [
    {
     "name": "stdout",
     "output_type": "stream",
     "text": [
      "[main 7807a39] alx-low_level_programming/0x0D-preprocessor/0-putchar\n",
      " 6 files changed, 26 insertions(+), 20 deletions(-)\n",
      " rewrite printf (70%)\n"
     ]
    },
    {
     "name": "stderr",
     "output_type": "stream",
     "text": [
      "To https://github.com/elkomysara/printf\n",
      "   a8ac785..7807a39  main -> main\n"
     ]
    }
   ],
   "source": [
    "%%bash\n",
    "git add .\n",
    "git commit -m \"alx-low_level_programming/0x0D-preprocessor/0-putchar\"\n",
    "git push"
   ]
  },
  {
   "cell_type": "code",
   "execution_count": null,
   "metadata": {},
   "outputs": [],
   "source": []
  },
  {
   "cell_type": "markdown",
   "metadata": {},
   "source": [
    "###\n",
    "---\n",
    "<center>\n",
    "<h4>10. The negative is the equivalent of the composer's score, and the print the performance</h4>\n",
    "</center>\n",
    "\n",
    "---"
   ]
  },
  {
   "cell_type": "markdown",
   "metadata": {},
   "source": [
    "\n",
    "#### Handle the precision for non-custom conversion specifiers.\n",
    "\n",
    "#### Repo:\n",
    "* GitHub repository: ``` printf```"
   ]
  },
  {
   "cell_type": "code",
   "execution_count": 206,
   "metadata": {},
   "outputs": [
    {
     "name": "stdout",
     "output_type": "stream",
     "text": [
      "Overwriting /home/elkomy/alx/printf/format_reciever.c\n"
     ]
    }
   ],
   "source": [
    "%%file /home/elkomy/alx/printf/format_reciever.c\n",
    "#include \"main.h\"\n",
    "#include <stdio.h>\n",
    "\n",
    "/**\n",
    " * format_reciever - Receives the main string and necessary parameters to\n",
    " * print a formatted string\n",
    " * @format: A string containing all the desired characters\n",
    " * @f_list: List of format specifiers and their corresponding functions\n",
    " * @arg_list: List of arguments\n",
    " * @buffer: Buffer to store characters\n",
    " * @index: Current index in the buffer\n",
    " * Return: Number of characters printed\n",
    " */\n",
    " \n",
    "int format_reciever(const char *format, conver_t f_list[], va_list arg_list, char *buffer, int *index)\n",
    "{\n",
    "    int i = 0, j, printed_chars = 0;\n",
    "    flags_t flags;\n",
    "    length_mod_t length_mod;\n",
    "    int width, precision;\n",
    "\n",
    "    while (format[i])\n",
    "    {\n",
    "        if (format[i] == '%')\n",
    "        {\n",
    "            i++;\n",
    "            flags = parse_flags(format, &i);\n",
    "            length_mod = parse_length_mod(format, &i);\n",
    "            width = parse_width(format, &i, arg_list);\n",
    "            precision = parse_precision(format, &i); /* Parse precision */\n",
    "\n",
    "            for (j = 0; f_list[j].sym != NULL; j++)\n",
    "            {\n",
    "                if (format[i] == f_list[j].sym[0])\n",
    "                {\n",
    "                    printed_chars += f_list[j].f(arg_list, buffer, index, flags, length_mod, width, precision);\n",
    "                    break;\n",
    "                }\n",
    "            }\n",
    "            if (f_list[j].sym == NULL)\n",
    "            {\n",
    "                _putchar('%', buffer, index);\n",
    "                _putchar(format[i], buffer, index);\n",
    "                printed_chars += 2;\n",
    "            }\n",
    "            i++;\n",
    "        }\n",
    "        else\n",
    "        {\n",
    "            _putchar(format[i], buffer, index);\n",
    "            printed_chars++;\n",
    "            i++;\n",
    "        }\n",
    "    }\n",
    "    return (printed_chars);\n",
    "}"
   ]
  },
  {
   "cell_type": "code",
   "execution_count": 75,
   "metadata": {},
   "outputs": [
    {
     "name": "stdout",
     "output_type": "stream",
     "text": [
      "Overwriting /home/elkomy/alx/printf/_printf.c\n"
     ]
    }
   ],
   "source": [
    "%%file /home/elkomy/alx/printf/_printf.c\n",
    "#include \"main.h\"\n",
    "#include <unistd.h>\n",
    "\n",
    "/**\n",
    "* _printf - Receives the main string and all the necessary parameters to\n",
    "* print a formatted string\n",
    "* @format: A string containing all the desired characters\n",
    "* Return: A total count of the characters printed\n",
    "*/\n",
    "int _printf(const char *format, ...)\n",
    "{\n",
    "va_list arg_list;\n",
    "int printed_chars = 0;\n",
    "char buffer[1024];\n",
    "int index = 0;\n",
    "\n",
    "conver_t f_list[] = {\n",
    "{\"%\", print_percent},\n",
    "{\"c\", print_char},\n",
    "{\"s\", print_string},\n",
    "{\"d\", print_integer},\n",
    "{\"i\", print_integer},\n",
    "{\"b\", print_binary},\n",
    "{\"u\", print_unsigned},\n",
    "{\"o\", print_octal},\n",
    "{\"x\", print_hex},\n",
    "{\"X\", print_HEX},\n",
    "{\"S\", print_special_string},\n",
    "{\"p\", print_pointer},\n",
    "{NULL, NULL}\n",
    "};\n",
    "\n",
    "va_start(arg_list, format);\n",
    "printed_chars = format_reciever(format, f_list, arg_list, buffer, &index);\n",
    "va_end(arg_list);\n",
    "\n",
    "buffer[index] = '\\0';\n",
    "write(1, buffer, index);\n",
    "\n",
    "return (printed_chars);\n",
    "}\n"
   ]
  },
  {
   "cell_type": "code",
   "execution_count": 76,
   "metadata": {},
   "outputs": [
    {
     "name": "stdout",
     "output_type": "stream",
     "text": [
      "Overwriting /home/elkomy/alx/printf/main.h\n"
     ]
    }
   ],
   "source": [
    "%%file /home/elkomy/alx/printf/main.h\n",
    "#ifndef MAIN_H\n",
    "#define MAIN_H\n",
    "\n",
    "#include <stdarg.h>\n",
    "#include <stdlib.h>\n",
    "#include <unistd.h>\n",
    "#include <ctype.h>\n",
    "\n",
    "/**\n",
    " * struct flags - struct containing flags to \"turn on\"\n",
    " * when a flag specifier is passed to _printf()\n",
    " * @plus: flag for the '+' character\n",
    " * @space: flag for the ' ' character\n",
    " * @hash: flag for the '#' character\n",
    " */\n",
    "typedef struct flags\n",
    "{\n",
    "    int plus;\n",
    "    int space;\n",
    "    int hash;\n",
    "} flags_t;\n",
    "\n",
    "/**\n",
    " * struct length_mod - struct containing length modifiers\n",
    " * when a length specifier is passed to _printf()\n",
    " * @l: flag for the 'l' character\n",
    " * @h: flag for the 'h' character\n",
    " */\n",
    " \n",
    "typedef struct length_mod\n",
    "{\n",
    "    int l;\n",
    "    int h;\n",
    "} length_mod_t;\n",
    "\n",
    "/**\n",
    " * struct convert - struct for symbols and functions\n",
    " * @sym: The operator\n",
    " * @f: The function associated\n",
    " */\n",
    "typedef struct convert\n",
    "{\n",
    "    char *sym;\n",
    "    int (*f)(va_list, char *, int *, flags_t, length_mod_t, int, int);\n",
    "} conver_t;\n",
    "\n",
    "int _printf(const char *format, ...);\n",
    "int format_reciever(const char *format, conver_t f_list[], va_list arg_list, char *buffer, int *index);\n",
    "int _putchar(char c, char *buffer, int *index);\n",
    "char *convert(unsigned long int num, int base, int lowercase);\n",
    "flags_t parse_flags(const char *format, int *i);\n",
    "length_mod_t parse_length_mod(const char *format, int *i);\n",
    "int parse_width(const char *format, int *i, va_list arg_list);\n",
    "int parse_precision(const char *format, int *i); /* Added parse_precision function */\n",
    "\n",
    "\n",
    "/* Function prototypes */\n",
    "int _printf(const char *format, ...);\n",
    "int print_char(va_list l, char *buf, int *i, flags_t, length_mod_t,int ,int);\n",
    "int print_string(va_list l, char *buf, int *i, flags_t, length_mod_t,int ,int);\n",
    "int print_percent(va_list l, char *buf, int *i, flags_t, length_mod_t,int ,int);\n",
    "int print_integer(va_list l, char *buf, int *i, flags_t, length_mod_t,int ,int);\n",
    "int print_unsigned(va_list l, char *buf, int *i, flags_t, length_mod_t,int ,int);\n",
    "int print_binary(va_list l, char *buf, int *i, flags_t, length_mod_t,int ,int);\n",
    "int print_octal(va_list l, char *buf, int *i, flags_t, length_mod_t,int ,int);\n",
    "int print_hex(va_list l, char *buf, int *i, flags_t, length_mod_t,int ,int);\n",
    "int print_HEX(va_list l, char *buf, int *i, flags_t, length_mod_t,int ,int);\n",
    "int print_pointer(va_list l, char *buf, int *i, flags_t, length_mod_t,int ,int);\n",
    "int print_reverse(va_list l, char *buf, int *i, flags_t, length_mod_t,int ,int);\n",
    "int print_rot13(va_list l, char *buf, int *i, flags_t, length_mod_t,int ,int);\n",
    "int print_non_printable(va_list l, char *buf, int *i, flags_t, length_mod_t,int ,int);\n",
    "int print_special_string(va_list, char *, int *, flags_t, length_mod_t,int ,int);\n",
    "\n",
    "#endif /* MAIN_H */\n"
   ]
  },
  {
   "cell_type": "code",
   "execution_count": 77,
   "metadata": {},
   "outputs": [
    {
     "name": "stdout",
     "output_type": "stream",
     "text": [
      "Overwriting /home/elkomy/alx/printf/parse_flags.c\n"
     ]
    }
   ],
   "source": [
    "%%file /home/elkomy/alx/printf/parse_flags.c\n",
    "#include \"main.h\"\n",
    "\n",
    "flags_t parse_flags(const char *format, int *i)\n",
    "{\n",
    "    flags_t flags = {0, 0, 0};\n",
    "\n",
    "    while (format[*i])\n",
    "    {\n",
    "        if (format[*i] == '+')\n",
    "            flags.plus = 1;\n",
    "        else if (format[*i] == ' ')\n",
    "            flags.space = 1;\n",
    "        else if (format[*i] == '#')\n",
    "            flags.hash = 1;\n",
    "        else\n",
    "            break;\n",
    "        (*i)++;\n",
    "    }\n",
    "\n",
    "    return flags;\n",
    "}"
   ]
  },
  {
   "cell_type": "code",
   "execution_count": 78,
   "metadata": {},
   "outputs": [
    {
     "name": "stdout",
     "output_type": "stream",
     "text": [
      "Overwriting /home/elkomy/alx/printf/parse_precision.c\n"
     ]
    }
   ],
   "source": [
    "%%file /home/elkomy/alx/printf/parse_precision.c\n",
    "#include \"main.h\"\n",
    "#include <ctype.h>\n",
    "\n",
    "/**\n",
    " * parse_precision - Parses the precision from the format string\n",
    " * @format: The format string\n",
    " * @i: Pointer to the current index in the format string\n",
    " * Return: The precision\n",
    " */\n",
    "int parse_precision(const char *format, int *i)\n",
    "{\n",
    "    int precision = -1; /* Default precision is not set */\n",
    "\n",
    "    if (format[*i] == '.')\n",
    "    {\n",
    "        (*i)++;\n",
    "        precision = 0;\n",
    "        while (isdigit(format[*i]))\n",
    "        {\n",
    "            precision = precision * 10 + (format[*i] - '0');\n",
    "            (*i)++;\n",
    "        }\n",
    "    }\n",
    "\n",
    "    return precision;\n",
    "}\n"
   ]
  },
  {
   "cell_type": "code",
   "execution_count": 79,
   "metadata": {},
   "outputs": [
    {
     "name": "stdout",
     "output_type": "stream",
     "text": [
      "Overwriting /home/elkomy/alx/printf/parse_length_mod.c\n"
     ]
    }
   ],
   "source": [
    "%%file /home/elkomy/alx/printf/parse_length_mod.c\n",
    "#include \"main.h\"\n",
    "\n",
    "length_mod_t parse_length_mod(const char *format, int *i)\n",
    "{\n",
    "    length_mod_t length_mod = {0, 0};\n",
    "\n",
    "    if (format[*i] == 'l')\n",
    "    {\n",
    "        length_mod.l = 1;\n",
    "        (*i)++;\n",
    "    }\n",
    "    else if (format[*i] == 'h')\n",
    "    {\n",
    "        length_mod.h = 1;\n",
    "        (*i)++;\n",
    "    }\n",
    "\n",
    "    return length_mod;\n",
    "}"
   ]
  },
  {
   "cell_type": "code",
   "execution_count": 80,
   "metadata": {},
   "outputs": [
    {
     "name": "stdout",
     "output_type": "stream",
     "text": [
      "Overwriting /home/elkomy/alx/printf/parse_width.c\n"
     ]
    }
   ],
   "source": [
    "%%file /home/elkomy/alx/printf/parse_width.c\n",
    "#include \"main.h\"\n",
    "#include <ctype.h>\n",
    "\n",
    "/**\n",
    " * parse_width - Parses the width from the format string\n",
    " * @format: The format string\n",
    " * @i: Pointer to the current index in the format string\n",
    " * @arg_list: The list of arguments\n",
    " * Return: The width\n",
    " */\n",
    "int parse_width(const char *format, int *i, va_list arg_list)\n",
    "{\n",
    "    int width = 0;\n",
    "\n",
    "    if (isdigit(format[*i]))\n",
    "    {\n",
    "        while (isdigit(format[*i]))\n",
    "        {\n",
    "            width = width * 10 + (format[*i] - '0');\n",
    "            (*i)++;\n",
    "        }\n",
    "    }\n",
    "    else if (format[*i] == '*')\n",
    "    {\n",
    "        width = va_arg(arg_list, int);\n",
    "        (*i)++;\n",
    "    }\n",
    "\n",
    "    return (width);\n",
    "}"
   ]
  },
  {
   "cell_type": "code",
   "execution_count": 98,
   "metadata": {},
   "outputs": [
    {
     "name": "stdout",
     "output_type": "stream",
     "text": [
      "Overwriting /home/elkomy/alx/printf/print_char.c\n"
     ]
    }
   ],
   "source": [
    "%%file /home/elkomy/alx/printf/print_char.c\n",
    "#include \"main.h\"\n",
    "#include <stdio.h>\n",
    "\n",
    "/**\n",
    " * print_char - Prints a character\n",
    " * @list: List of arguments\n",
    " * @buffer: Buffer to store characters\n",
    " * @index: Current index in the buffer\n",
    " * @flags: Flags for formatting\n",
    " * @length_mod: Length modifier for formatting\n",
    " * @width: Width for formatting\n",
    " * Return: Number of characters printed\n",
    " */\n",
    "int print_char(va_list list, char *buffer, int *index, flags_t flags, length_mod_t length_mod, int width, int precision)\n",
    "{\n",
    "    char c = va_arg(list, int);\n",
    "    int i;\n",
    "\n",
    "    (void)flags; /* Flags are not used for characters */\n",
    "    (void)length_mod;\n",
    "    (void)precision;\n",
    "\n",
    "    if (width > 1)\n",
    "    {\n",
    "        for (i = 1; i < width; i++)\n",
    "        {\n",
    "            _putchar(' ', buffer, index);\n",
    "        }\n",
    "    }\n",
    "\n",
    "    buffer[*index] = c;\n",
    "    (*index)++;\n",
    "\n",
    "    return (width > 1 ? width : 1);\n",
    "}\n"
   ]
  },
  {
   "cell_type": "code",
   "execution_count": 99,
   "metadata": {},
   "outputs": [
    {
     "name": "stdout",
     "output_type": "stream",
     "text": [
      "Overwriting /home/elkomy/alx/printf/convert.c\n"
     ]
    }
   ],
   "source": [
    "%%file /home/elkomy/alx/printf/convert.c\n",
    "#include \"main.h\"\n",
    "#include <stdlib.h>\n",
    "\n",
    "/**\n",
    " * convert - Converts a number to a string in the given base\n",
    " * @num: The number to be converted\n",
    " * @base: The base to convert to\n",
    " * @lowercase: Flag to determine if hex letters should be lowercase\n",
    " * Return: A pointer to the converted string (static buffer)\n",
    " */\n",
    "\n",
    "\n",
    "char *convert(unsigned long int num, int base, int lowercase)\n",
    "{\n",
    "    static char *rep;\n",
    "    static char buffer[50];\n",
    "    char *ptr;\n",
    "\n",
    "    rep = (lowercase) ? \"0123456789abcdef\" : \"0123456789ABCDEF\";\n",
    "    ptr = &buffer[49];\n",
    "    *ptr = '\\0';\n",
    "\n",
    "    do\n",
    "    {\n",
    "        *--ptr = rep[num % base];\n",
    "        num /= base;\n",
    "    } while (num != 0);\n",
    "\n",
    "    return (ptr);\n",
    "}\n"
   ]
  },
  {
   "cell_type": "code",
   "execution_count": 100,
   "metadata": {},
   "outputs": [
    {
     "name": "stdout",
     "output_type": "stream",
     "text": [
      "Overwriting /home/elkomy/alx/printf/print_string.c\n"
     ]
    }
   ],
   "source": [
    "%%file /home/elkomy/alx/printf/print_string.c\n",
    "#include \"main.h\"\n",
    "#include <stdio.h>\n",
    "#include <string.h>\n",
    "\n",
    "/**\n",
    " * print_string - Prints a string\n",
    " * @list: List of arguments\n",
    " * @buffer: Buffer to store characters\n",
    " * @index: Current index in the buffer\n",
    " * @flags: Flags for formatting\n",
    " * @length_mod: Length modifier for formatting\n",
    " * @width: Width for formatting\n",
    " * Return: Number of characters printed\n",
    " */\n",
    "int print_string(va_list list, char *buffer, int *index, flags_t flags, length_mod_t length_mod, int width, int precision)\n",
    "{\n",
    "    char *str = va_arg(list, char *);\n",
    "    int len, i, num_chars = 0;\n",
    "\n",
    "    (void)flags; /* Flags are not used for strings */\n",
    "    (void)length_mod;\n",
    "\n",
    "    if (str == NULL)\n",
    "        str = \"(null)\";\n",
    "\n",
    "    len = strlen(str);\n",
    "        /* Respect precision */\n",
    "    if (precision >= 0 && precision < len)\n",
    "        len = precision;\n",
    "\n",
    "\n",
    "\n",
    "    if (width > len)\n",
    "    {\n",
    "        for (i = 0; i < width - len; i++)\n",
    "        {\n",
    "            _putchar(' ', buffer, index);\n",
    "            num_chars++;\n",
    "        }\n",
    "    }\n",
    "    \n",
    "    for (i = 0; i < len; i++)\n",
    "    {\n",
    "        _putchar(str[i], buffer, index);\n",
    "        num_chars++;\n",
    "    }\n",
    "\n",
    "    return (num_chars);\n",
    "}\n"
   ]
  },
  {
   "cell_type": "code",
   "execution_count": 101,
   "metadata": {},
   "outputs": [
    {
     "name": "stdout",
     "output_type": "stream",
     "text": [
      "Overwriting /home/elkomy/alx/printf/print_percent.c\n"
     ]
    }
   ],
   "source": [
    "%%file /home/elkomy/alx/printf/print_percent.c\n",
    "#include \"main.h\"\n",
    "#include <stdio.h>\n",
    "\n",
    "/**\n",
    " * print_percent - Prints a percent symbol\n",
    " * @list: List of arguments\n",
    " * @buffer: Buffer to store characters\n",
    " * @index: Current index in the buffer\n",
    " * @flags: Flags for formatting\n",
    " * @length_mod: Length modifier for formatting\n",
    " * @width: Width for formatting\n",
    " * @precision: precision handling \n",
    " * Return: Number of characters printed\n",
    " */\n",
    "int print_percent(va_list list, char *buffer, int *index, flags_t flags,length_mod_t length_mod, int width, int precision)\n",
    "{\n",
    "    (void)list;\n",
    "    (void)flags; /* Flags are not used for percent */\n",
    "    (void)length_mod; \n",
    "    (void)precision;\n",
    "\n",
    "\n",
    "  if (width > 1)  \n",
    "    {\n",
    "        int i;\n",
    "        for (i = 0; i < width - 1; i++)  \n",
    "        {\n",
    "            _putchar(' ', buffer, index);\n",
    "        }\n",
    "    }\n",
    "    buffer[*index] = '%';\n",
    "    (*index)++;\n",
    "\n",
    "  return (width > 1 ? width : 1);\n",
    "}\n"
   ]
  },
  {
   "cell_type": "code",
   "execution_count": 154,
   "metadata": {},
   "outputs": [
    {
     "name": "stdout",
     "output_type": "stream",
     "text": [
      "Overwriting /home/elkomy/alx/printf/print_integer.c\n"
     ]
    }
   ],
   "source": [
    "%%file /home/elkomy/alx/printf/print_integer.c\n",
    "\n",
    "\n",
    "#include \"main.h\"\n",
    "#include <stdlib.h>  /* Include stdlib.h for malloc */\n",
    "#include <string.h>\n",
    "\n",
    "/* Helper function to implement itoa since it's not standard in C */\n",
    "void itoa(int num, char *str, int base) {\n",
    "    int i = 0;\n",
    "    int is_negative = 0;\n",
    "    int start, end;\n",
    "\n",
    "    /* Handle 0 explicitly, otherwise empty string is printed for 0 */\n",
    "    if (num == 0) {\n",
    "        str[i++] = '0';\n",
    "        str[i] = '\\0';\n",
    "        return;\n",
    "    }\n",
    "\n",
    "    /* Handle negative numbers for base 10 */\n",
    "    if (num < 0 && base == 10) {\n",
    "        is_negative = 1;\n",
    "        num = -num;\n",
    "    }\n",
    "\n",
    "    /* Process individual digits */\n",
    "    while (num != 0) {\n",
    "        int rem = num % base;\n",
    "        str[i++] = (rem > 9) ? (rem - 10) + 'a' : rem + '0';\n",
    "        num = num / base;\n",
    "    }\n",
    "\n",
    "    /* Append '-' for negative numbers */\n",
    "    if (is_negative) {\n",
    "        str[i++] = '-';\n",
    "    }\n",
    "\n",
    "    str[i] = '\\0';\n",
    "\n",
    "    /* Reverse the string */\n",
    "    start = 0;\n",
    "    end = i - 1;\n",
    "    while (start < end) {\n",
    "        char temp = str[start];\n",
    "        str[start] = str[end];\n",
    "        str[end] = temp;\n",
    "        start++;\n",
    "        end--;\n",
    "    }\n",
    "}\n",
    "\n",
    "/**\n",
    " * print_integer - Prints an integer\n",
    " * @list: List of arguments\n",
    " * @buffer: Buffer to store characters\n",
    " * @index: Current index in the buffer\n",
    " * @flags: Flags for formatting\n",
    " * @length_mod: Length modifier for formatting\n",
    " * @width: Width for formatting\n",
    " * Return: Number of characters printed\n",
    " */\n",
    " \n",
    "int print_integer(va_list list, char *buffer, int *index, flags_t flags, length_mod_t length_mod, int width, int precision)\n",
    "{\n",
    "    long int num;\n",
    "    char str[21]; /* Enough to hold long int in base 10 with sign */\n",
    "    int i = 0, len, num_chars = 0;\n",
    "\n",
    "    /* Get the number based on length modifier */\n",
    "\n",
    "    if (length_mod.l)\n",
    "        num = va_arg(list, long int);\n",
    "    else if (length_mod.h)\n",
    "        num = (short int)va_arg(list, int);\n",
    "    else\n",
    "        num = va_arg(list, int);\n",
    "\n",
    "    /* convert int to string */\n",
    "\n",
    "    itoa(num, str, 10);\n",
    "    len = strlen(str);\n",
    "\n",
    "    /* Handle the precision */\n",
    "    \n",
    "    if (precision >= 0) {\n",
    "        int num_zeros = precision - len + (num < 0);  /* Calculate leading zeros needed */\n",
    "        if (num_zeros > 0) {\n",
    "            /* Shift existing number to the right */\n",
    "            memmove(str + num_zeros, str, len + 1);\n",
    "            /* Add leading zeros */\n",
    "            for (i = 0; i < num_zeros; i++) {\n",
    "                str[i + (num < 0)] = '0';  /* Add zero after the sign if number is negative */\n",
    "            }\n",
    "            len += num_zeros;\n",
    "        }\n",
    "    }\n",
    "\n",
    "    /* Handle space and plus flags */\n",
    "    if (flags.plus && num >= 0)\n",
    "    {\n",
    "        _putchar('+', buffer, index);\n",
    "        num_chars++;\n",
    "    }\n",
    "    else if (flags.space && num >= 0)\n",
    "    {\n",
    "        _putchar(' ', buffer, index);\n",
    "        num_chars++;\n",
    "    }\n",
    "\n",
    "    \n",
    "    if (num < 0) len--; /* Exclude sign for width/precision */\n",
    "\n",
    "\n",
    "    /* Handle width */\n",
    "    if (width > len + num_chars)\n",
    "    {\n",
    "        for (i = 0; i < width - len - num_chars; i++)\n",
    "        {\n",
    "            _putchar(' ', buffer, index);\n",
    "            num_chars++;\n",
    "        }\n",
    "    }\n",
    "\n",
    "    /* Print number */\n",
    "    for (i = 0; i < len; i++)\n",
    "    {\n",
    "        _putchar(str[i], buffer, index);\n",
    "        num_chars++;\n",
    "    }\n",
    "\n",
    "    return (num_chars);\n",
    "}"
   ]
  },
  {
   "cell_type": "code",
   "execution_count": 155,
   "metadata": {},
   "outputs": [
    {
     "name": "stdout",
     "output_type": "stream",
     "text": [
      "Overwriting /home/elkomy/alx/printf/print_binary.c\n"
     ]
    }
   ],
   "source": [
    "%%file /home/elkomy/alx/printf/print_binary.c\n",
    "#include \"main.h\"\n",
    "#include <stdio.h>\n",
    "#include <string.h>\n",
    "\n",
    "/**\n",
    " * print_binary - Prints a number in binary\n",
    " * @list: List of arguments\n",
    " * @buffer: Buffer to store characters\n",
    " * @index: Current index in the buffer\n",
    " * @flags: Flags for formatting\n",
    " * @length_mod: Length modifier for formatting\n",
    " * @width: Width for formatting\n",
    " * Return: Number of characters printed\n",
    " */\n",
    "int print_binary(va_list list, char *buffer, int *index, flags_t flags, length_mod_t length_mod, int width, int precision)\n",
    "{\n",
    "    unsigned int num = va_arg(list, unsigned int);\n",
    "    int num_chars = 0;\n",
    "    char *str = convert(num, 2, 0);\n",
    "\n",
    "    (void)flags; /* Flags are not used for binary */\n",
    "    (void)length_mod;\n",
    "    (void)precision;\n",
    "    while (*str)\n",
    "    {\n",
    "        buffer[*index] = *str;\n",
    "        (*index)++;\n",
    "        str++;\n",
    "        num_chars++;\n",
    "    }\n",
    "\n",
    "     if (width > (int)strlen(str))  \n",
    "    {\n",
    "        int i;\n",
    "        for (i = 0; i < width - (int)strlen(str); i++)  \n",
    "        {\n",
    "            _putchar(' ', buffer, index);\n",
    "        }\n",
    "    }\n",
    "\n",
    "    return (num_chars);\n",
    "}\n"
   ]
  },
  {
   "cell_type": "code",
   "execution_count": 204,
   "metadata": {},
   "outputs": [
    {
     "name": "stdout",
     "output_type": "stream",
     "text": [
      "Overwriting /home/elkomy/alx/printf/print_unsigned.c\n"
     ]
    }
   ],
   "source": [
    "%%file /home/elkomy/alx/printf/print_unsigned.c\n",
    "#include \"main.h\"\n",
    "#include <stdio.h>\n",
    "#include <string.h>\n",
    "\n",
    "/**\n",
    " * print_unsigned - Prints an unsigned integer\n",
    " * @list: List of arguments\n",
    " * @buffer: Buffer to store characters\n",
    " * @index: Current index in the buffer\n",
    " * @flags: Flags for formatting\n",
    " * @length_mod: Length modifier for formatting\n",
    " * @width: Width for formatting\n",
    " * Return: Number of characters printed\n",
    " */\n",
    "int print_unsigned(va_list list, char *buffer, int *index, flags_t flags, length_mod_t length_mod, int width, int precision)\n",
    "{\n",
    "    unsigned long int num;\n",
    "    int num_chars = 0;\n",
    "    char *str;\n",
    "    size_t len;\n",
    "   \n",
    "    (void)flags; /* Suppress unused parameter warning */\n",
    "    (void)width; /* Suppress unused parameter warning */\n",
    "    \n",
    "    if (length_mod.l)\n",
    "        num = va_arg(list, unsigned long int);\n",
    "    else if (length_mod.h)\n",
    "        num = (unsigned short int)va_arg(list, unsigned int);\n",
    "    else\n",
    "        num = va_arg(list, unsigned int);\n",
    "        \n",
    "    str = convert(num, 10, 0);\n",
    "    len = strlen(str);\n",
    "    if (precision >= 0 && precision < (int)len) \n",
    "    {\n",
    "    len = precision;\n",
    "    }\n",
    "\n",
    "    \n",
    "    if (width > (int)len)  \n",
    "    {\n",
    "        int i;\n",
    "        for (i = 0; i < width - (int)len; i++)  \n",
    "        {\n",
    "            _putchar(' ', buffer, index);\n",
    "            num_chars++;\n",
    "        }\n",
    "    }\n",
    "\n",
    "    while (*str)\n",
    "    {\n",
    "        buffer[*index] = *str;\n",
    "        (*index)++;\n",
    "        str++;\n",
    "        num_chars++;\n",
    "    }\n",
    "\n",
    "    return num_chars;\n",
    "}\n"
   ]
  },
  {
   "cell_type": "code",
   "execution_count": 190,
   "metadata": {},
   "outputs": [
    {
     "name": "stdout",
     "output_type": "stream",
     "text": [
      "Overwriting /home/elkomy/alx/printf/print_octal.c\n"
     ]
    }
   ],
   "source": [
    "%%file /home/elkomy/alx/printf/print_octal.c\n",
    "#include \"main.h\"\n",
    "#include <stdio.h>\n",
    "#include <string.h>\n",
    "\n",
    "/**\n",
    " * print_octal - Prints a number in octal\n",
    " * @list: List of arguments\n",
    " * @buffer: Buffer to store characters\n",
    " * @index: Current index in the buffer\n",
    " * @flags: Flags for formatting\n",
    " * @length_mod: Length modifier for formatting\n",
    " * @width: Width for formatting\n",
    " * Return: Number of characters printed\n",
    " */\n",
    "int print_octal(va_list list, char *buffer, int *index, flags_t flags, length_mod_t length_mod, int width, int precision)\n",
    "{\n",
    "    unsigned long int num ;\n",
    "    char *str;\n",
    "    int num_chars = 0, len, i;\n",
    "    \n",
    "     (void)precision;\n",
    "    if (length_mod.l)\n",
    "        num = va_arg(list, unsigned long int);\n",
    "    else if (length_mod.h)\n",
    "        num = (unsigned short int)va_arg(list, unsigned int);\n",
    "    else\n",
    "        num = va_arg(list, unsigned int);\n",
    "\n",
    "    str = convert(num, 8, 0);\n",
    "    len = strlen(str);\n",
    "\n",
    "    if (flags.hash && num != 0)\n",
    "    {\n",
    "         _putchar('0', buffer, index);\n",
    "        num_chars++;\n",
    "        if (width > 0)\n",
    "            width--;\n",
    "    }\n",
    "\n",
    "   \n",
    "    if (width > len)\n",
    "    {\n",
    "        for (i = 0; i < width - len; i++)\n",
    "        {\n",
    "            _putchar(' ', buffer, index);\n",
    "            num_chars++;\n",
    "        }\n",
    "    }\n",
    "\n",
    "    while (*str)\n",
    "    {\n",
    "        buffer[*index] = *str;\n",
    "        (*index)++;\n",
    "        str++;\n",
    "        num_chars++;\n",
    "    }\n",
    "\n",
    "    return (num_chars);\n",
    "}\n"
   ]
  },
  {
   "cell_type": "code",
   "execution_count": 191,
   "metadata": {},
   "outputs": [
    {
     "name": "stdout",
     "output_type": "stream",
     "text": [
      "Overwriting /home/elkomy/alx/printf/print_hex.c\n"
     ]
    }
   ],
   "source": [
    "%%file /home/elkomy/alx/printf/print_hex.c\n",
    "#include \"main.h\"\n",
    "#include <stdio.h>\n",
    "#include <string.h>\n",
    "\n",
    "/**\n",
    " * print_hex - Prints a number in hexadecimal (lowercase)\n",
    " * @list: List of arguments\n",
    " * @buffer: Buffer to store characters\n",
    " * @index: Current index in the buffer\n",
    " * @flags: Flags for formatting\n",
    " * @length_mod: Length modifier for formatting\n",
    " * @width: Width for formatting\n",
    " * Return: Number of characters printed\n",
    " */\n",
    "int print_hex(va_list list, char *buffer, int *index, flags_t flags, length_mod_t length_mod, int width, int precision)\n",
    "{\n",
    "    unsigned long int num;\n",
    "    char *str;\n",
    "    int num_chars = 0, len, i;\n",
    "\n",
    "     (void)precision;\n",
    "    if (length_mod.l)\n",
    "        num = va_arg(list, unsigned long int);\n",
    "    else if (length_mod.h)\n",
    "        num = (unsigned short int)va_arg(list, unsigned int);\n",
    "    else\n",
    "        num = va_arg(list,unsigned int);\n",
    "\n",
    "    str = convert(num, 16, 1); \n",
    "    len = strlen(str);\n",
    "\n",
    "    if (flags.hash && num != 0)\n",
    "    {\n",
    "      _putchar('0', buffer, index);\n",
    "      _putchar('x', buffer, index);\n",
    "      num_chars += 2;\n",
    "     if (width > 0)\n",
    "        width -= 2;\n",
    "    }\n",
    "\n",
    "\n",
    "    if (width > (int)strlen(str)) \n",
    "    {\n",
    "        \n",
    "        for (i = 0; i < width - len; i++)\n",
    "        {\n",
    "            _putchar(' ', buffer, index);\n",
    "            num_chars++;\n",
    "        }\n",
    "    }\n",
    "\n",
    "    while (*str)\n",
    "    {\n",
    "        buffer[*index] = *str;\n",
    "        (*index)++;\n",
    "        str++;\n",
    "        num_chars++;\n",
    "    }\n",
    "\n",
    "    return (num_chars);\n",
    "}\n"
   ]
  },
  {
   "cell_type": "code",
   "execution_count": 192,
   "metadata": {},
   "outputs": [
    {
     "name": "stdout",
     "output_type": "stream",
     "text": [
      "Overwriting /home/elkomy/alx/printf/print_HEX.c\n"
     ]
    }
   ],
   "source": [
    "%%file /home/elkomy/alx/printf/print_HEX.c\n",
    "\n",
    "#include \"main.h\"\n",
    "#include <stdio.h>\n",
    "#include <string.h>\n",
    "\n",
    "/**\n",
    " * print_HEX - Prints a number in hexadecimal (uppercase)\n",
    " * @list: List of arguments\n",
    " * @buffer: Buffer to store characters\n",
    " * @index: Current index in the buffer\n",
    " * @flags: Flags for formatting\n",
    " * @length_mod: Length modifier for formatting\n",
    " * @width: width for formatting\n",
    " * Return: Number of characters printed\n",
    " */\n",
    "int print_HEX(va_list list, char *buffer, int *index, flags_t flags, length_mod_t length_mod, int width, int precision)\n",
    "{\n",
    "    unsigned long int num;\n",
    "     char *str;\n",
    "    int num_chars = 0, len ,i;\n",
    "   \n",
    "     (void)precision;\n",
    "    if (length_mod.l)\n",
    "        num = va_arg(list, unsigned long int);\n",
    "    else if (length_mod.h)\n",
    "        num = (unsigned short int)va_arg(list, unsigned int);\n",
    "    else\n",
    "        num = va_arg(list, unsigned int);\n",
    "\n",
    "    str = convert(num, 16, 0);\n",
    "    len = strlen(str);\n",
    "\n",
    "    if (flags.hash && num != 0)\n",
    "    {\n",
    "    _putchar('0', buffer, index);\n",
    "    _putchar('X', buffer, index);\n",
    "    num_chars += 2;\n",
    "    if (width > 0)\n",
    "        width -= 2;\n",
    "    }\n",
    "\n",
    "\n",
    "    if (width > len)\n",
    "    {\n",
    "       for (i = 0; i < width - len; i++)\n",
    "    {\n",
    "            _putchar(' ', buffer, index);\n",
    "            num_chars++;\n",
    "    }\n",
    "    }\n",
    "\n",
    "    while (*str)\n",
    "    {\n",
    "        buffer[*index] = *str;\n",
    "        (*index)++;\n",
    "        str++;\n",
    "        num_chars++;\n",
    "    }\n",
    "\n",
    "    return (num_chars);\n",
    "}"
   ]
  },
  {
   "cell_type": "code",
   "execution_count": 193,
   "metadata": {},
   "outputs": [
    {
     "name": "stdout",
     "output_type": "stream",
     "text": [
      "Overwriting /home/elkomy/alx/printf/print_reverse.c\n"
     ]
    }
   ],
   "source": [
    "%%file /home/elkomy/alx/printf/print_reverse.c\n",
    "#include \"main.h\"\n",
    "#include <stdio.h>\n",
    "#include <string.h>\n",
    "\n",
    "/**\n",
    " * print_reverse - Prints a string in reverse\n",
    " * @list: List of arguments\n",
    " * @buffer: Buffer to store characters\n",
    " * @index: Current index in the buffer\n",
    " * @flags: Flags for formatting\n",
    " * @length_mod: Length modifier for formatting \n",
    " * @width: Width for formatting\n",
    " * Return: Number of characters printed\n",
    " */\n",
    "\n",
    "int print_reverse(va_list list, char *buffer, int *index, flags_t flags, length_mod_t length_mod, int width, int precision)\n",
    "{\n",
    "    char *str = va_arg(list, char *);\n",
    "    int len, i, num_chars = 0;\n",
    "\n",
    "    (void)flags; /* Flags are not used for strings */\n",
    "    (void)length_mod;\n",
    "    (void)precision;\n",
    "\n",
    "    if (str == NULL)\n",
    "        str = \"(null)\";\n",
    "\n",
    "    len = strlen(str);\n",
    "\n",
    "    if (width > len) \n",
    "    {\n",
    "        for (i = 0; i < width - len; i++)  \n",
    "        {\n",
    "            _putchar(' ', buffer, index);\n",
    "            num_chars++;\n",
    "        }\n",
    "    }\n",
    "\n",
    "    for (i = len - 1; i >= 0; i--)\n",
    "    {\n",
    "        _putchar(str[i], buffer, index);\n",
    "        num_chars++;\n",
    "    }\n",
    "\n",
    "    return (num_chars);\n",
    "}\n"
   ]
  },
  {
   "cell_type": "code",
   "execution_count": 194,
   "metadata": {},
   "outputs": [
    {
     "name": "stdout",
     "output_type": "stream",
     "text": [
      "Overwriting /home/elkomy/alx/printf/print_rot13.c\n"
     ]
    }
   ],
   "source": [
    "%%file /home/elkomy/alx/printf/print_rot13.c\n",
    "#include \"main.h\"\n",
    "#include <stdio.h>\n",
    "#include <string.h>\n",
    "\n",
    "/**\n",
    " * print_rot13 - Encodes a string using rot13 and prints it\n",
    " * @list: List of arguments\n",
    " * @buffer: Buffer to store characters\n",
    " * @index: Current index in the buffer\n",
    " * @flags: Flags for formatting\n",
    " * @length_mod: Length modifier for formatting\n",
    " * @width: Width for formatting\n",
    " * Return: Number of characters printed\n",
    " */\n",
    "int print_rot13(va_list list, char *buffer, int *index, flags_t flags, length_mod_t length_mod, int width, int precision)\n",
    "{\n",
    "    char *str = va_arg(list, char *);\n",
    "    char in[] = \"ABCDEFGHIJKLMNOPQRSTUVWXYZabcdefghijklmnopqrstuvwxyz\";\n",
    "    char out[] = \"NOPQRSTUVWXYZABCDEFGHIJKLMnopqrstuvwxyzabcdefghijklm\";\n",
    "    int len, i, j, num_chars = 0;\n",
    "\n",
    "    (void)flags; /* Flags are not used for rot13 */\n",
    "    (void)length_mod;\n",
    "    (void)precision;\n",
    "\n",
    "    if (str == NULL)\n",
    "        str = \"(null)\";\n",
    "\n",
    "    len = strlen(str);\n",
    "\n",
    "    if (width > len)\n",
    "    {\n",
    "        for (i = 0; i < width - len; i++)\n",
    "        {\n",
    "            _putchar(' ', buffer, index);\n",
    "            num_chars++;\n",
    "        }\n",
    "    }\n",
    "\n",
    "    while (*str)\n",
    "    {\n",
    "        for (j = 0; j < 52; j++)\n",
    "        {\n",
    "            if (*str == in[j])\n",
    "            {\n",
    "                buffer[*index] = out[j];\n",
    "                (*index)++;\n",
    "                num_chars++;\n",
    "                break;\n",
    "            }\n",
    "        }\n",
    "        if (j == 52)\n",
    "        {\n",
    "            buffer[*index] = *str;\n",
    "            (*index)++;\n",
    "            num_chars++;\n",
    "        }\n",
    "        str++;\n",
    "    }\n",
    "\n",
    "    return (num_chars);\n",
    "}\n"
   ]
  },
  {
   "cell_type": "code",
   "execution_count": 195,
   "metadata": {},
   "outputs": [
    {
     "name": "stdout",
     "output_type": "stream",
     "text": [
      "Overwriting /home/elkomy/alx/printf/print_non_printable.c\n"
     ]
    }
   ],
   "source": [
    "%%file /home/elkomy/alx/printf/print_non_printable.c\n",
    "#include \"main.h\"\n",
    "#include <stdio.h>\n",
    "#include <string.h>\n",
    "\n",
    "/**\n",
    " * print_non_printable - Prints a string with non-printable characters in hex\n",
    " * @list: List of arguments\n",
    " * @buffer: Buffer to store characters\n",
    " * @index: Current index in the buffer\n",
    " * @flags: Flags for formatting\n",
    " * @length_mod: Length modifier for formatting\n",
    " * @width: Width for formatting\n",
    " * Return: Number of characters printed\n",
    " */\n",
    "int print_non_printable(va_list list, char *buffer, int *index, flags_t flags, length_mod_t length_mod, int width, int precision)\n",
    "{\n",
    "    char *str = va_arg(list, char *);\n",
    "    char hex[5];\n",
    "    int len, i, num_chars = 0;\n",
    "\n",
    "    (void)flags; /* Flags are not used for non-printable characters */\n",
    "    (void)length_mod;\n",
    "     (void)precision;\n",
    "\n",
    "    if (str == NULL)\n",
    "        str = \"(null)\";\n",
    "\n",
    "    len = strlen(str);\n",
    "\n",
    "    if (width > len)\n",
    "    {\n",
    "        for (i = 0; i < width - len; i++)\n",
    "        {\n",
    "            _putchar(' ', buffer, index);\n",
    "            num_chars++;\n",
    "        }\n",
    "    }\n",
    "\n",
    "    while (*str)\n",
    "    {\n",
    "        if (*str < 32 || *str >= 127)\n",
    "        {\n",
    "            sprintf(hex, \"\\\\x%02X\", (unsigned char)*str);\n",
    "            for (i = 0; hex[i]; i++)\n",
    "            {\n",
    "                buffer[*index] = hex[i];\n",
    "                (*index)++;\n",
    "                num_chars++;\n",
    "            }\n",
    "        }\n",
    "        else\n",
    "        {\n",
    "            buffer[*index] = *str;\n",
    "            (*index)++;\n",
    "            num_chars++;\n",
    "        }\n",
    "        str++;\n",
    "    }\n",
    "\n",
    "    return (num_chars);\n",
    "}"
   ]
  },
  {
   "cell_type": "code",
   "execution_count": 196,
   "metadata": {},
   "outputs": [
    {
     "name": "stdout",
     "output_type": "stream",
     "text": [
      "Overwriting /home/elkomy/alx/printf/print_special_string.c\n"
     ]
    }
   ],
   "source": [
    "%%file /home/elkomy/alx/printf/print_special_string.c\n",
    "#include \"main.h\"\n",
    "#include <stdio.h>\n",
    "\n",
    "/**\n",
    " * print_special_string - Prints a special string with non-printable characters\n",
    " * @list: List of arguments\n",
    " * @buffer: Buffer to store characters\n",
    " * @index: Current index in the buffer\n",
    " * @flags: Flags for formatting\n",
    " * @length_mod: Length modifier for formatting\n",
    " * @width: Width for formatting\n",
    " * Return: Number of characters printed\n",
    " */\n",
    "int print_special_string(va_list list, char *buffer, int *index, flags_t flags, length_mod_t length_mod, int width, int precision)\n",
    "{\n",
    "    char *str = va_arg(list, char *);\n",
    "    int i = 0, count = 0;\n",
    "\n",
    "    (void)flags; /* Suppress unused parameter warning */\n",
    "    (void)length_mod;\n",
    "    (void)width;\n",
    "    (void)precision;\n",
    "\n",
    "    if (str == NULL)\n",
    "        str = \"(null)\";\n",
    "\n",
    "    while (str[i])\n",
    "    {\n",
    "        if ((str[i] > 0 && str[i] < 32) || str[i] >= 127)\n",
    "        {\n",
    "            count += sprintf(&buffer[*index], \"\\\\x%02X\", (unsigned char)str[i]);\n",
    "            *index += 4;\n",
    "        }\n",
    "        else\n",
    "        {\n",
    "            _putchar(str[i], buffer, index);\n",
    "            count++;\n",
    "        }\n",
    "        i++;\n",
    "    }\n",
    "\n",
    "    return (count);\n",
    "}\n"
   ]
  },
  {
   "cell_type": "code",
   "execution_count": 197,
   "metadata": {},
   "outputs": [
    {
     "name": "stdout",
     "output_type": "stream",
     "text": [
      "Overwriting /home/elkomy/alx/printf/print_pointer.c\n"
     ]
    }
   ],
   "source": [
    "%%file /home/elkomy/alx/printf/print_pointer.c\n",
    "#include \"main.h\"\n",
    "#include <stdio.h>\n",
    "#include <string.h>\n",
    "\n",
    "/**\n",
    " * print_pointer - Prints a pointer address\n",
    " * @list: List of arguments\n",
    " * @buffer: Buffer to store characters\n",
    " * @index: Current index in the buffer\n",
    " * @flags: Flags for formatting\n",
    " * @length_mod: Length modifier for formatting\n",
    " * @width: Width for formatting\n",
    " * Return: Number of characters printed\n",
    " */\n",
    "int print_pointer(va_list list, char *buffer, int *index, flags_t flags, length_mod_t length_mod, int width, int precision)\n",
    "{\n",
    "    void *ptr = va_arg(list, void *);\n",
    "    unsigned long int addr = (unsigned long int)ptr;\n",
    "    char hex[17];\n",
    "    int i, digit, num_chars = 2; \n",
    "\n",
    "    (void)flags; /* Suppress unused parameter warning */\n",
    "    (void)length_mod;\n",
    "    (void)precision;\n",
    "\n",
    "    _putchar('0', buffer, index);\n",
    "    _putchar('x', buffer, index);\n",
    "\n",
    "    i = 15;\n",
    "    while (addr)\n",
    "    {\n",
    "        digit = addr % 16;\n",
    "        hex[i--] = (digit < 10) ? digit + '0' : digit - 10 + 'a';\n",
    "        addr /= 16;\n",
    "    }\n",
    "    i++;\n",
    "    while (i < 16)\n",
    "    {\n",
    "        _putchar(hex[i++], buffer, index);\n",
    "        num_chars++;\n",
    "    }\n",
    "\n",
    "    /* Handle width */\n",
    "    if (width > num_chars)\n",
    "    {\n",
    "        for (i = 0; i < width - num_chars; i++)\n",
    "        {\n",
    "            _putchar(' ', buffer, index);\n",
    "            num_chars++;\n",
    "        }\n",
    "    }\n",
    "\n",
    "    return num_chars;\n",
    "}"
   ]
  },
  {
   "cell_type": "code",
   "execution_count": 198,
   "metadata": {},
   "outputs": [
    {
     "name": "stdout",
     "output_type": "stream",
     "text": [
      "Overwriting /home/elkomy/alx/printf/tests/main.c\n"
     ]
    }
   ],
   "source": [
    "%%file /home/elkomy/alx/printf/tests/main.c\n",
    "#include <limits.h>\n",
    "#include <stdio.h>\n",
    "#include \"main.h\"\n",
    "\n",
    "/**\n",
    " * main - Entry point\n",
    " *\n",
    " * Return: Always 0\n",
    " */\n",
    "int main(void)\n",
    "{\n",
    "    int len;\n",
    "    int len2;\n",
    "    unsigned int ui;\n",
    "    void *addr;\n",
    "\n",
    "    len = _printf(\"Let's try to printf a simple sentence.\\n\");\n",
    "    len2 = printf(\"Let's try to printf a simple sentence.\\n\");\n",
    "    ui = (unsigned int)INT_MAX + 1024;\n",
    "    addr = (void *)0x7ffe637541f0;\n",
    "    _printf(\"Length:[%d, %i]\\n\", len, len);\n",
    "    printf(\"Length:[%d, %i]\\n\", len2, len2);\n",
    "    _printf(\"Negative:[%d]\\n\", -762534);\n",
    "    printf(\"Negative:[%d]\\n\", -762534);\n",
    "    _printf(\"Unsigned:[%u]\\n\", ui);\n",
    "    printf(\"Unsigned:[%u]\\n\", ui);\n",
    "    _printf(\"Unsigned octal:[%o]\\n\", ui);\n",
    "    printf(\"Unsigned octal:[%o]\\n\", ui);\n",
    "    _printf(\"Unsigned hexadecimal:[%x, %X]\\n\", ui, ui);\n",
    "    printf(\"Unsigned hexadecimal:[%x, %X]\\n\", ui, ui);\n",
    "    _printf(\"Character:[%c]\\n\", 'H');\n",
    "    printf(\"Character:[%c]\\n\", 'H');\n",
    "    _printf(\"String:[%s]\\n\", \"I am a string !\");\n",
    "    printf(\"String:[%s]\\n\", \"I am a string !\");\n",
    "    _printf(\"Address:[%p]\\n\", addr);\n",
    "    printf(\"Address:[%p]\\n\", addr);\n",
    "    len = _printf(\"Percent:[%%]\\n\");\n",
    "    len2 = printf(\"Percent:[%%]\\n\");\n",
    "    _printf(\"Len:[%d]\\n\", len);\n",
    "    printf(\"Len:[%d]\\n\", len2);\n",
    "    _printf(\"Unknown:[%r]\\n\");\n",
    "    printf(\"Unknown:[%r]\\n\");\n",
    "    return (0);\n",
    "}"
   ]
  },
  {
   "cell_type": "code",
   "execution_count": 207,
   "metadata": {},
   "outputs": [
    {
     "name": "stdout",
     "output_type": "stream",
     "text": [
      "\n",
      "========== /home/elkomy/alx/printf/_printf.c ==========\n",
      "_printf\n",
      "Let's try to printf a simple sentence.\n",
      "Let's try to printf a simple sentence.\n",
      "Length:[39, 39]\n",
      "Length:[39, 39]\n",
      "Negative:[-76253]\n",
      "Negative:[-762534]\n",
      "Unsigned:[2147484671]\n",
      "Unsigned:[2147484671]\n",
      "Unsigned octal:[20000001777]\n",
      "Unsigned octal:[20000001777]\n",
      "Unsigned hexadecimal:[800003ff, 800003FF]\n",
      "Unsigned hexadecimal:[800003ff, 800003FF]\n",
      "Character:[H]\n",
      "Character:[H]\n",
      "String:[I am a string !]\n",
      "String:[I am a string !]\n",
      "Address:[0x7ffe637541f0]\n",
      "Address:[0x7ffe637541f0]\n",
      "Percent:[%]\n",
      "Percent:[%]\n",
      "Len:[12]\n",
      "Len:[12]\n",
      "Unknown:[%r]\n",
      "Unknown:[%r]\n"
     ]
    }
   ],
   "source": [
    "\n",
    "!betty /home/elkomy/alx/printf/_printf.c\n",
    "!gcc -Wall -Werror -Wextra -pedantic -std=gnu89 -Wno-format /home/elkomy/alx/printf/*.c /home/elkomy/alx/printf/tests/main.c -o /home/elkomy/alx/printf/printf\n",
    "!./printf\n"
   ]
  },
  {
   "cell_type": "code",
   "execution_count": 208,
   "metadata": {},
   "outputs": [
    {
     "name": "stdout",
     "output_type": "stream",
     "text": [
      "[main acd0a0f] alx-low_level_programming/0x0D-preprocessor/0-putchar\n",
      " 19 files changed, 2104 insertions(+), 317 deletions(-)\n",
      " create mode 100644 parse_precision.c\n",
      " rewrite printf (60%)\n"
     ]
    },
    {
     "name": "stderr",
     "output_type": "stream",
     "text": [
      "To https://github.com/elkomysara/printf\n",
      "   7807a39..acd0a0f  main -> main\n"
     ]
    }
   ],
   "source": [
    "%%bash\n",
    "git add .\n",
    "git commit -m \"alx-low_level_programming/0x0D-preprocessor/0-putchar\"\n",
    "git push"
   ]
  },
  {
   "cell_type": "code",
   "execution_count": null,
   "metadata": {},
   "outputs": [],
   "source": []
  },
  {
   "cell_type": "markdown",
   "metadata": {},
   "source": [
    "###\n",
    "---\n",
    "<center>\n",
    "<h4>11. It's depressing when you're still around and your albums are out of print</h4>\n",
    "</center>\n",
    "\n",
    "---"
   ]
  },
  {
   "cell_type": "markdown",
   "metadata": {},
   "source": [
    "\n",
    "#### Handle the `0` flag character for non-custom conversion specifiers.\n",
    "\n",
    "#### Repo:\n",
    "* GitHub repository: ``` printf```"
   ]
  },
  {
   "cell_type": "code",
   "execution_count": null,
   "metadata": {},
   "outputs": [
    {
     "name": "stdout",
     "output_type": "stream",
     "text": [
      "Overwriting /home/elkomy/alx/printf/format_reciever.c\n"
     ]
    }
   ],
   "source": [
    "%%file /home/elkomy/alx/printf/format_reciever.c\n",
    "#include \"main.h\"\n",
    "#include <stdio.h>\n",
    "\n",
    "/**\n",
    " * format_reciever - Receives the main string and necessary parameters to\n",
    " * print a formatted string\n",
    " * @format: A string containing all the desired characters\n",
    " * @f_list: List of format specifiers and their corresponding functions\n",
    " * @arg_list: List of arguments\n",
    " * @buffer: Buffer to store characters\n",
    " * @index: Current index in the buffer\n",
    " * Return: Number of characters printed\n",
    " */\n",
    " \n",
    "int format_reciever(const char *format, conver_t f_list[], va_list arg_list, char *buffer, int *index)\n",
    "{\n",
    "    int i = 0, j, printed_chars = 0;\n",
    "    flags_t flags;\n",
    "    length_mod_t length_mod;\n",
    "    int width, precision;\n",
    "\n",
    "    while (format[i])\n",
    "    {\n",
    "        if (format[i] == '%')\n",
    "        {\n",
    "            i++;\n",
    "            flags = parse_flags(format, &i);\n",
    "            length_mod = parse_length_mod(format, &i);\n",
    "            width = parse_width(format, &i, arg_list);\n",
    "            precision = parse_precision(format, &i); /* Parse precision */\n",
    "\n",
    "            for (j = 0; f_list[j].sym != NULL; j++)\n",
    "            {\n",
    "                if (format[i] == f_list[j].sym[0])\n",
    "                {\n",
    "                    printed_chars += f_list[j].f(arg_list, buffer, index, flags, length_mod, width, precision);\n",
    "                    break;\n",
    "                }\n",
    "            }\n",
    "            if (f_list[j].sym == NULL)\n",
    "            {\n",
    "                _putchar('%', buffer, index);\n",
    "                _putchar(format[i], buffer, index);\n",
    "                printed_chars += 2;\n",
    "            }\n",
    "            i++;\n",
    "        }\n",
    "        else\n",
    "        {\n",
    "            _putchar(format[i], buffer, index);\n",
    "            printed_chars++;\n",
    "            i++;\n",
    "        }\n",
    "    }\n",
    "    return (printed_chars);\n",
    "}"
   ]
  },
  {
   "cell_type": "code",
   "execution_count": null,
   "metadata": {},
   "outputs": [
    {
     "name": "stdout",
     "output_type": "stream",
     "text": [
      "Overwriting /home/elkomy/alx/printf/_printf.c\n"
     ]
    }
   ],
   "source": [
    "%%file /home/elkomy/alx/printf/_printf.c\n",
    "#include \"main.h\"\n",
    "#include <unistd.h>\n",
    "\n",
    "/**\n",
    "* _printf - Receives the main string and all the necessary parameters to\n",
    "* print a formatted string\n",
    "* @format: A string containing all the desired characters\n",
    "* Return: A total count of the characters printed\n",
    "*/\n",
    "int _printf(const char *format, ...)\n",
    "{\n",
    "va_list arg_list;\n",
    "int printed_chars = 0;\n",
    "char buffer[1024];\n",
    "int index = 0;\n",
    "\n",
    "conver_t f_list[] = {\n",
    "{\"%\", print_percent},\n",
    "{\"c\", print_char},\n",
    "{\"s\", print_string},\n",
    "{\"d\", print_integer},\n",
    "{\"i\", print_integer},\n",
    "{\"b\", print_binary},\n",
    "{\"u\", print_unsigned},\n",
    "{\"o\", print_octal},\n",
    "{\"x\", print_hex},\n",
    "{\"X\", print_HEX},\n",
    "{\"S\", print_special_string},\n",
    "{\"p\", print_pointer},\n",
    "{NULL, NULL}\n",
    "};\n",
    "\n",
    "va_start(arg_list, format);\n",
    "printed_chars = format_reciever(format, f_list, arg_list, buffer, &index);\n",
    "va_end(arg_list);\n",
    "\n",
    "buffer[index] = '\\0';\n",
    "write(1, buffer, index);\n",
    "\n",
    "return (printed_chars);\n",
    "}\n"
   ]
  },
  {
   "cell_type": "code",
   "execution_count": null,
   "metadata": {},
   "outputs": [
    {
     "name": "stdout",
     "output_type": "stream",
     "text": [
      "Overwriting /home/elkomy/alx/printf/main.h\n"
     ]
    }
   ],
   "source": [
    "%%file /home/elkomy/alx/printf/main.h\n",
    "#ifndef MAIN_H\n",
    "#define MAIN_H\n",
    "\n",
    "#include <stdarg.h>\n",
    "#include <stdlib.h>\n",
    "#include <unistd.h>\n",
    "#include <ctype.h>\n",
    "\n",
    "/**\n",
    " * struct flags - struct containing flags to \"turn on\"\n",
    " * when a flag specifier is passed to _printf()\n",
    " * @plus: flag for the '+' character\n",
    " * @space: flag for the ' ' character\n",
    " * @hash: flag for the '#' character\n",
    " */\n",
    "typedef struct flags\n",
    "{\n",
    "    int plus;\n",
    "    int space;\n",
    "    int hash;\n",
    "} flags_t;\n",
    "\n",
    "/**\n",
    " * struct length_mod - struct containing length modifiers\n",
    " * when a length specifier is passed to _printf()\n",
    " * @l: flag for the 'l' character\n",
    " * @h: flag for the 'h' character\n",
    " */\n",
    " \n",
    "typedef struct length_mod\n",
    "{\n",
    "    int l;\n",
    "    int h;\n",
    "} length_mod_t;\n",
    "\n",
    "/**\n",
    " * struct convert - struct for symbols and functions\n",
    " * @sym: The operator\n",
    " * @f: The function associated\n",
    " */\n",
    "typedef struct convert\n",
    "{\n",
    "    char *sym;\n",
    "    int (*f)(va_list, char *, int *, flags_t, length_mod_t, int, int);\n",
    "} conver_t;\n",
    "\n",
    "int _printf(const char *format, ...);\n",
    "int format_reciever(const char *format, conver_t f_list[], va_list arg_list, char *buffer, int *index);\n",
    "int _putchar(char c, char *buffer, int *index);\n",
    "char *convert(unsigned long int num, int base, int lowercase);\n",
    "flags_t parse_flags(const char *format, int *i);\n",
    "length_mod_t parse_length_mod(const char *format, int *i);\n",
    "int parse_width(const char *format, int *i, va_list arg_list);\n",
    "int parse_precision(const char *format, int *i); /* Added parse_precision function */\n",
    "\n",
    "\n",
    "/* Function prototypes */\n",
    "int _printf(const char *format, ...);\n",
    "int print_char(va_list l, char *buf, int *i, flags_t, length_mod_t,int ,int);\n",
    "int print_string(va_list l, char *buf, int *i, flags_t, length_mod_t,int ,int);\n",
    "int print_percent(va_list l, char *buf, int *i, flags_t, length_mod_t,int ,int);\n",
    "int print_integer(va_list l, char *buf, int *i, flags_t, length_mod_t,int ,int);\n",
    "int print_unsigned(va_list l, char *buf, int *i, flags_t, length_mod_t,int ,int);\n",
    "int print_binary(va_list l, char *buf, int *i, flags_t, length_mod_t,int ,int);\n",
    "int print_octal(va_list l, char *buf, int *i, flags_t, length_mod_t,int ,int);\n",
    "int print_hex(va_list l, char *buf, int *i, flags_t, length_mod_t,int ,int);\n",
    "int print_HEX(va_list l, char *buf, int *i, flags_t, length_mod_t,int ,int);\n",
    "int print_pointer(va_list l, char *buf, int *i, flags_t, length_mod_t,int ,int);\n",
    "int print_reverse(va_list l, char *buf, int *i, flags_t, length_mod_t,int ,int);\n",
    "int print_rot13(va_list l, char *buf, int *i, flags_t, length_mod_t,int ,int);\n",
    "int print_non_printable(va_list l, char *buf, int *i, flags_t, length_mod_t,int ,int);\n",
    "int print_special_string(va_list, char *, int *, flags_t, length_mod_t,int ,int);\n",
    "\n",
    "#endif /* MAIN_H */\n"
   ]
  },
  {
   "cell_type": "code",
   "execution_count": null,
   "metadata": {},
   "outputs": [
    {
     "name": "stdout",
     "output_type": "stream",
     "text": [
      "Overwriting /home/elkomy/alx/printf/parse_flags.c\n"
     ]
    }
   ],
   "source": [
    "%%file /home/elkomy/alx/printf/parse_flags.c\n",
    "#include \"main.h\"\n",
    "\n",
    "flags_t parse_flags(const char *format, int *i)\n",
    "{\n",
    "    flags_t flags = {0, 0, 0};\n",
    "\n",
    "    while (format[*i])\n",
    "    {\n",
    "        if (format[*i] == '+')\n",
    "            flags.plus = 1;\n",
    "        else if (format[*i] == ' ')\n",
    "            flags.space = 1;\n",
    "        else if (format[*i] == '#')\n",
    "            flags.hash = 1;\n",
    "        else\n",
    "            break;\n",
    "        (*i)++;\n",
    "    }\n",
    "\n",
    "    return flags;\n",
    "}"
   ]
  },
  {
   "cell_type": "code",
   "execution_count": null,
   "metadata": {},
   "outputs": [
    {
     "name": "stdout",
     "output_type": "stream",
     "text": [
      "Overwriting /home/elkomy/alx/printf/parse_precision.c\n"
     ]
    }
   ],
   "source": [
    "%%file /home/elkomy/alx/printf/parse_precision.c\n",
    "#include \"main.h\"\n",
    "#include <ctype.h>\n",
    "\n",
    "/**\n",
    " * parse_precision - Parses the precision from the format string\n",
    " * @format: The format string\n",
    " * @i: Pointer to the current index in the format string\n",
    " * Return: The precision\n",
    " */\n",
    "int parse_precision(const char *format, int *i)\n",
    "{\n",
    "    int precision = -1; /* Default precision is not set */\n",
    "\n",
    "    if (format[*i] == '.')\n",
    "    {\n",
    "        (*i)++;\n",
    "        precision = 0;\n",
    "        while (isdigit(format[*i]))\n",
    "        {\n",
    "            precision = precision * 10 + (format[*i] - '0');\n",
    "            (*i)++;\n",
    "        }\n",
    "    }\n",
    "\n",
    "    return precision;\n",
    "}\n"
   ]
  },
  {
   "cell_type": "code",
   "execution_count": null,
   "metadata": {},
   "outputs": [
    {
     "name": "stdout",
     "output_type": "stream",
     "text": [
      "Overwriting /home/elkomy/alx/printf/parse_length_mod.c\n"
     ]
    }
   ],
   "source": [
    "%%file /home/elkomy/alx/printf/parse_length_mod.c\n",
    "#include \"main.h\"\n",
    "\n",
    "length_mod_t parse_length_mod(const char *format, int *i)\n",
    "{\n",
    "    length_mod_t length_mod = {0, 0};\n",
    "\n",
    "    if (format[*i] == 'l')\n",
    "    {\n",
    "        length_mod.l = 1;\n",
    "        (*i)++;\n",
    "    }\n",
    "    else if (format[*i] == 'h')\n",
    "    {\n",
    "        length_mod.h = 1;\n",
    "        (*i)++;\n",
    "    }\n",
    "\n",
    "    return length_mod;\n",
    "}"
   ]
  },
  {
   "cell_type": "code",
   "execution_count": null,
   "metadata": {},
   "outputs": [
    {
     "name": "stdout",
     "output_type": "stream",
     "text": [
      "Overwriting /home/elkomy/alx/printf/parse_width.c\n"
     ]
    }
   ],
   "source": [
    "%%file /home/elkomy/alx/printf/parse_width.c\n",
    "#include \"main.h\"\n",
    "#include <ctype.h>\n",
    "\n",
    "/**\n",
    " * parse_width - Parses the width from the format string\n",
    " * @format: The format string\n",
    " * @i: Pointer to the current index in the format string\n",
    " * @arg_list: The list of arguments\n",
    " * Return: The width\n",
    " */\n",
    "int parse_width(const char *format, int *i, va_list arg_list)\n",
    "{\n",
    "    int width = 0;\n",
    "\n",
    "    if (isdigit(format[*i]))\n",
    "    {\n",
    "        while (isdigit(format[*i]))\n",
    "        {\n",
    "            width = width * 10 + (format[*i] - '0');\n",
    "            (*i)++;\n",
    "        }\n",
    "    }\n",
    "    else if (format[*i] == '*')\n",
    "    {\n",
    "        width = va_arg(arg_list, int);\n",
    "        (*i)++;\n",
    "    }\n",
    "\n",
    "    return (width);\n",
    "}"
   ]
  },
  {
   "cell_type": "code",
   "execution_count": null,
   "metadata": {},
   "outputs": [
    {
     "name": "stdout",
     "output_type": "stream",
     "text": [
      "Overwriting /home/elkomy/alx/printf/print_char.c\n"
     ]
    }
   ],
   "source": [
    "%%file /home/elkomy/alx/printf/print_char.c\n",
    "#include \"main.h\"\n",
    "#include <stdio.h>\n",
    "\n",
    "/**\n",
    " * print_char - Prints a character\n",
    " * @list: List of arguments\n",
    " * @buffer: Buffer to store characters\n",
    " * @index: Current index in the buffer\n",
    " * @flags: Flags for formatting\n",
    " * @length_mod: Length modifier for formatting\n",
    " * @width: Width for formatting\n",
    " * Return: Number of characters printed\n",
    " */\n",
    "int print_char(va_list list, char *buffer, int *index, flags_t flags, length_mod_t length_mod, int width, int precision)\n",
    "{\n",
    "    char c = va_arg(list, int);\n",
    "    int i;\n",
    "\n",
    "    (void)flags; /* Flags are not used for characters */\n",
    "    (void)length_mod;\n",
    "    (void)precision;\n",
    "\n",
    "    if (width > 1)\n",
    "    {\n",
    "        for (i = 1; i < width; i++)\n",
    "        {\n",
    "            _putchar(' ', buffer, index);\n",
    "        }\n",
    "    }\n",
    "\n",
    "    buffer[*index] = c;\n",
    "    (*index)++;\n",
    "\n",
    "    return (width > 1 ? width : 1);\n",
    "}\n"
   ]
  },
  {
   "cell_type": "code",
   "execution_count": null,
   "metadata": {},
   "outputs": [
    {
     "name": "stdout",
     "output_type": "stream",
     "text": [
      "Overwriting /home/elkomy/alx/printf/convert.c\n"
     ]
    }
   ],
   "source": [
    "%%file /home/elkomy/alx/printf/convert.c\n",
    "#include \"main.h\"\n",
    "#include <stdlib.h>\n",
    "\n",
    "/**\n",
    " * convert - Converts a number to a string in the given base\n",
    " * @num: The number to be converted\n",
    " * @base: The base to convert to\n",
    " * @lowercase: Flag to determine if hex letters should be lowercase\n",
    " * Return: A pointer to the converted string (static buffer)\n",
    " */\n",
    "\n",
    "\n",
    "char *convert(unsigned long int num, int base, int lowercase)\n",
    "{\n",
    "    static char *rep;\n",
    "    static char buffer[50];\n",
    "    char *ptr;\n",
    "\n",
    "    rep = (lowercase) ? \"0123456789abcdef\" : \"0123456789ABCDEF\";\n",
    "    ptr = &buffer[49];\n",
    "    *ptr = '\\0';\n",
    "\n",
    "    do\n",
    "    {\n",
    "        *--ptr = rep[num % base];\n",
    "        num /= base;\n",
    "    } while (num != 0);\n",
    "\n",
    "    return (ptr);\n",
    "}\n"
   ]
  },
  {
   "cell_type": "code",
   "execution_count": null,
   "metadata": {},
   "outputs": [
    {
     "name": "stdout",
     "output_type": "stream",
     "text": [
      "Overwriting /home/elkomy/alx/printf/print_string.c\n"
     ]
    }
   ],
   "source": [
    "%%file /home/elkomy/alx/printf/print_string.c\n",
    "#include \"main.h\"\n",
    "#include <stdio.h>\n",
    "#include <string.h>\n",
    "\n",
    "/**\n",
    " * print_string - Prints a string\n",
    " * @list: List of arguments\n",
    " * @buffer: Buffer to store characters\n",
    " * @index: Current index in the buffer\n",
    " * @flags: Flags for formatting\n",
    " * @length_mod: Length modifier for formatting\n",
    " * @width: Width for formatting\n",
    " * Return: Number of characters printed\n",
    " */\n",
    "int print_string(va_list list, char *buffer, int *index, flags_t flags, length_mod_t length_mod, int width, int precision)\n",
    "{\n",
    "    char *str = va_arg(list, char *);\n",
    "    int len, i, num_chars = 0;\n",
    "\n",
    "    (void)flags; /* Flags are not used for strings */\n",
    "    (void)length_mod;\n",
    "\n",
    "    if (str == NULL)\n",
    "        str = \"(null)\";\n",
    "\n",
    "    len = strlen(str);\n",
    "        /* Respect precision */\n",
    "    if (precision >= 0 && precision < len)\n",
    "        len = precision;\n",
    "\n",
    "\n",
    "\n",
    "    if (width > len)\n",
    "    {\n",
    "        for (i = 0; i < width - len; i++)\n",
    "        {\n",
    "            _putchar(' ', buffer, index);\n",
    "            num_chars++;\n",
    "        }\n",
    "    }\n",
    "    \n",
    "    for (i = 0; i < len; i++)\n",
    "    {\n",
    "        _putchar(str[i], buffer, index);\n",
    "        num_chars++;\n",
    "    }\n",
    "\n",
    "    return (num_chars);\n",
    "}\n"
   ]
  },
  {
   "cell_type": "code",
   "execution_count": null,
   "metadata": {},
   "outputs": [
    {
     "name": "stdout",
     "output_type": "stream",
     "text": [
      "Overwriting /home/elkomy/alx/printf/print_percent.c\n"
     ]
    }
   ],
   "source": [
    "%%file /home/elkomy/alx/printf/print_percent.c\n",
    "#include \"main.h\"\n",
    "#include <stdio.h>\n",
    "\n",
    "/**\n",
    " * print_percent - Prints a percent symbol\n",
    " * @list: List of arguments\n",
    " * @buffer: Buffer to store characters\n",
    " * @index: Current index in the buffer\n",
    " * @flags: Flags for formatting\n",
    " * @length_mod: Length modifier for formatting\n",
    " * @width: Width for formatting\n",
    " * @precision: precision handling \n",
    " * Return: Number of characters printed\n",
    " */\n",
    "int print_percent(va_list list, char *buffer, int *index, flags_t flags,length_mod_t length_mod, int width, int precision)\n",
    "{\n",
    "    (void)list;\n",
    "    (void)flags; /* Flags are not used for percent */\n",
    "    (void)length_mod; \n",
    "    (void)precision;\n",
    "\n",
    "\n",
    "  if (width > 1)  \n",
    "    {\n",
    "        int i;\n",
    "        for (i = 0; i < width - 1; i++)  \n",
    "        {\n",
    "            _putchar(' ', buffer, index);\n",
    "        }\n",
    "    }\n",
    "    buffer[*index] = '%';\n",
    "    (*index)++;\n",
    "\n",
    "  return (width > 1 ? width : 1);\n",
    "}\n"
   ]
  },
  {
   "cell_type": "code",
   "execution_count": null,
   "metadata": {},
   "outputs": [
    {
     "name": "stdout",
     "output_type": "stream",
     "text": [
      "Overwriting /home/elkomy/alx/printf/print_integer.c\n"
     ]
    }
   ],
   "source": [
    "%%file /home/elkomy/alx/printf/print_integer.c\n",
    "\n",
    "\n",
    "#include \"main.h\"\n",
    "#include <stdlib.h>  /* Include stdlib.h for malloc */\n",
    "#include <string.h>\n",
    "\n",
    "/* Helper function to implement itoa since it's not standard in C */\n",
    "void itoa(int num, char *str, int base) {\n",
    "    int i = 0;\n",
    "    int is_negative = 0;\n",
    "    int start, end;\n",
    "\n",
    "    /* Handle 0 explicitly, otherwise empty string is printed for 0 */\n",
    "    if (num == 0) {\n",
    "        str[i++] = '0';\n",
    "        str[i] = '\\0';\n",
    "        return;\n",
    "    }\n",
    "\n",
    "    /* Handle negative numbers for base 10 */\n",
    "    if (num < 0 && base == 10) {\n",
    "        is_negative = 1;\n",
    "        num = -num;\n",
    "    }\n",
    "\n",
    "    /* Process individual digits */\n",
    "    while (num != 0) {\n",
    "        int rem = num % base;\n",
    "        str[i++] = (rem > 9) ? (rem - 10) + 'a' : rem + '0';\n",
    "        num = num / base;\n",
    "    }\n",
    "\n",
    "    /* Append '-' for negative numbers */\n",
    "    if (is_negative) {\n",
    "        str[i++] = '-';\n",
    "    }\n",
    "\n",
    "    str[i] = '\\0';\n",
    "\n",
    "    /* Reverse the string */\n",
    "    start = 0;\n",
    "    end = i - 1;\n",
    "    while (start < end) {\n",
    "        char temp = str[start];\n",
    "        str[start] = str[end];\n",
    "        str[end] = temp;\n",
    "        start++;\n",
    "        end--;\n",
    "    }\n",
    "}\n",
    "\n",
    "/**\n",
    " * print_integer - Prints an integer\n",
    " * @list: List of arguments\n",
    " * @buffer: Buffer to store characters\n",
    " * @index: Current index in the buffer\n",
    " * @flags: Flags for formatting\n",
    " * @length_mod: Length modifier for formatting\n",
    " * @width: Width for formatting\n",
    " * Return: Number of characters printed\n",
    " */\n",
    " \n",
    "int print_integer(va_list list, char *buffer, int *index, flags_t flags, length_mod_t length_mod, int width, int precision)\n",
    "{\n",
    "    long int num;\n",
    "    char str[21]; /* Enough to hold long int in base 10 with sign */\n",
    "    int i = 0, len, num_chars = 0;\n",
    "\n",
    "    /* Get the number based on length modifier */\n",
    "\n",
    "    if (length_mod.l)\n",
    "        num = va_arg(list, long int);\n",
    "    else if (length_mod.h)\n",
    "        num = (short int)va_arg(list, int);\n",
    "    else\n",
    "        num = va_arg(list, int);\n",
    "\n",
    "    /* convert int to string */\n",
    "\n",
    "    itoa(num, str, 10);\n",
    "    len = strlen(str);\n",
    "\n",
    "    /* Handle the precision */\n",
    "    \n",
    "    if (precision >= 0) {\n",
    "        int num_zeros = precision - len + (num < 0);  /* Calculate leading zeros needed */\n",
    "        if (num_zeros > 0) {\n",
    "            /* Shift existing number to the right */\n",
    "            memmove(str + num_zeros, str, len + 1);\n",
    "            /* Add leading zeros */\n",
    "            for (i = 0; i < num_zeros; i++) {\n",
    "                str[i + (num < 0)] = '0';  /* Add zero after the sign if number is negative */\n",
    "            }\n",
    "            len += num_zeros;\n",
    "        }\n",
    "    }\n",
    "\n",
    "    /* Handle space and plus flags */\n",
    "    if (flags.plus && num >= 0)\n",
    "    {\n",
    "        _putchar('+', buffer, index);\n",
    "        num_chars++;\n",
    "    }\n",
    "    else if (flags.space && num >= 0)\n",
    "    {\n",
    "        _putchar(' ', buffer, index);\n",
    "        num_chars++;\n",
    "    }\n",
    "\n",
    "    \n",
    "    if (num < 0) len--; /* Exclude sign for width/precision */\n",
    "\n",
    "\n",
    "    /* Handle width */\n",
    "    if (width > len + num_chars)\n",
    "    {\n",
    "        for (i = 0; i < width - len - num_chars; i++)\n",
    "        {\n",
    "            _putchar(' ', buffer, index);\n",
    "            num_chars++;\n",
    "        }\n",
    "    }\n",
    "\n",
    "    /* Print number */\n",
    "    for (i = 0; i < len; i++)\n",
    "    {\n",
    "        _putchar(str[i], buffer, index);\n",
    "        num_chars++;\n",
    "    }\n",
    "\n",
    "    return (num_chars);\n",
    "}"
   ]
  },
  {
   "cell_type": "code",
   "execution_count": null,
   "metadata": {},
   "outputs": [
    {
     "name": "stdout",
     "output_type": "stream",
     "text": [
      "Overwriting /home/elkomy/alx/printf/print_binary.c\n"
     ]
    }
   ],
   "source": [
    "%%file /home/elkomy/alx/printf/print_binary.c\n",
    "#include \"main.h\"\n",
    "#include <stdio.h>\n",
    "#include <string.h>\n",
    "\n",
    "/**\n",
    " * print_binary - Prints a number in binary\n",
    " * @list: List of arguments\n",
    " * @buffer: Buffer to store characters\n",
    " * @index: Current index in the buffer\n",
    " * @flags: Flags for formatting\n",
    " * @length_mod: Length modifier for formatting\n",
    " * @width: Width for formatting\n",
    " * Return: Number of characters printed\n",
    " */\n",
    "int print_binary(va_list list, char *buffer, int *index, flags_t flags, length_mod_t length_mod, int width, int precision)\n",
    "{\n",
    "    unsigned int num = va_arg(list, unsigned int);\n",
    "    int num_chars = 0;\n",
    "    char *str = convert(num, 2, 0);\n",
    "\n",
    "    (void)flags; /* Flags are not used for binary */\n",
    "    (void)length_mod;\n",
    "    (void)precision;\n",
    "    while (*str)\n",
    "    {\n",
    "        buffer[*index] = *str;\n",
    "        (*index)++;\n",
    "        str++;\n",
    "        num_chars++;\n",
    "    }\n",
    "\n",
    "     if (width > (int)strlen(str))  \n",
    "    {\n",
    "        int i;\n",
    "        for (i = 0; i < width - (int)strlen(str); i++)  \n",
    "        {\n",
    "            _putchar(' ', buffer, index);\n",
    "        }\n",
    "    }\n",
    "\n",
    "    return (num_chars);\n",
    "}\n"
   ]
  },
  {
   "cell_type": "code",
   "execution_count": null,
   "metadata": {},
   "outputs": [
    {
     "name": "stdout",
     "output_type": "stream",
     "text": [
      "Overwriting /home/elkomy/alx/printf/print_unsigned.c\n"
     ]
    }
   ],
   "source": [
    "%%file /home/elkomy/alx/printf/print_unsigned.c\n",
    "#include \"main.h\"\n",
    "#include <stdio.h>\n",
    "#include <string.h>\n",
    "\n",
    "/**\n",
    " * print_unsigned - Prints an unsigned integer\n",
    " * @list: List of arguments\n",
    " * @buffer: Buffer to store characters\n",
    " * @index: Current index in the buffer\n",
    " * @flags: Flags for formatting\n",
    " * @length_mod: Length modifier for formatting\n",
    " * @width: Width for formatting\n",
    " * Return: Number of characters printed\n",
    " */\n",
    "int print_unsigned(va_list list, char *buffer, int *index, flags_t flags, length_mod_t length_mod, int width, int precision)\n",
    "{\n",
    "    unsigned long int num;\n",
    "    int num_chars = 0;\n",
    "    char *str;\n",
    "    size_t len;\n",
    "   \n",
    "    (void)flags; /* Suppress unused parameter warning */\n",
    "    (void)width; /* Suppress unused parameter warning */\n",
    "    \n",
    "    if (length_mod.l)\n",
    "        num = va_arg(list, unsigned long int);\n",
    "    else if (length_mod.h)\n",
    "        num = (unsigned short int)va_arg(list, unsigned int);\n",
    "    else\n",
    "        num = va_arg(list, unsigned int);\n",
    "        \n",
    "    str = convert(num, 10, 0);\n",
    "    len = strlen(str);\n",
    "    if (precision >= 0 && precision < (int)len) \n",
    "    {\n",
    "    len = precision;\n",
    "    }\n",
    "\n",
    "    \n",
    "    if (width > (int)len)  \n",
    "    {\n",
    "        int i;\n",
    "        for (i = 0; i < width - (int)len; i++)  \n",
    "        {\n",
    "            _putchar(' ', buffer, index);\n",
    "            num_chars++;\n",
    "        }\n",
    "    }\n",
    "\n",
    "    while (*str)\n",
    "    {\n",
    "        buffer[*index] = *str;\n",
    "        (*index)++;\n",
    "        str++;\n",
    "        num_chars++;\n",
    "    }\n",
    "\n",
    "    return num_chars;\n",
    "}\n"
   ]
  },
  {
   "cell_type": "code",
   "execution_count": null,
   "metadata": {},
   "outputs": [
    {
     "name": "stdout",
     "output_type": "stream",
     "text": [
      "Overwriting /home/elkomy/alx/printf/print_octal.c\n"
     ]
    }
   ],
   "source": [
    "%%file /home/elkomy/alx/printf/print_octal.c\n",
    "#include \"main.h\"\n",
    "#include <stdio.h>\n",
    "#include <string.h>\n",
    "\n",
    "/**\n",
    " * print_octal - Prints a number in octal\n",
    " * @list: List of arguments\n",
    " * @buffer: Buffer to store characters\n",
    " * @index: Current index in the buffer\n",
    " * @flags: Flags for formatting\n",
    " * @length_mod: Length modifier for formatting\n",
    " * @width: Width for formatting\n",
    " * Return: Number of characters printed\n",
    " */\n",
    "int print_octal(va_list list, char *buffer, int *index, flags_t flags, length_mod_t length_mod, int width, int precision)\n",
    "{\n",
    "    unsigned long int num ;\n",
    "    char *str;\n",
    "    int num_chars = 0, len, i;\n",
    "    \n",
    "     (void)precision;\n",
    "    if (length_mod.l)\n",
    "        num = va_arg(list, unsigned long int);\n",
    "    else if (length_mod.h)\n",
    "        num = (unsigned short int)va_arg(list, unsigned int);\n",
    "    else\n",
    "        num = va_arg(list, unsigned int);\n",
    "\n",
    "    str = convert(num, 8, 0);\n",
    "    len = strlen(str);\n",
    "\n",
    "    if (flags.hash && num != 0)\n",
    "    {\n",
    "         _putchar('0', buffer, index);\n",
    "        num_chars++;\n",
    "        if (width > 0)\n",
    "            width--;\n",
    "    }\n",
    "\n",
    "   \n",
    "    if (width > len)\n",
    "    {\n",
    "        for (i = 0; i < width - len; i++)\n",
    "        {\n",
    "            _putchar(' ', buffer, index);\n",
    "            num_chars++;\n",
    "        }\n",
    "    }\n",
    "\n",
    "    while (*str)\n",
    "    {\n",
    "        buffer[*index] = *str;\n",
    "        (*index)++;\n",
    "        str++;\n",
    "        num_chars++;\n",
    "    }\n",
    "\n",
    "    return (num_chars);\n",
    "}\n"
   ]
  },
  {
   "cell_type": "code",
   "execution_count": null,
   "metadata": {},
   "outputs": [
    {
     "name": "stdout",
     "output_type": "stream",
     "text": [
      "Overwriting /home/elkomy/alx/printf/print_hex.c\n"
     ]
    }
   ],
   "source": [
    "%%file /home/elkomy/alx/printf/print_hex.c\n",
    "#include \"main.h\"\n",
    "#include <stdio.h>\n",
    "#include <string.h>\n",
    "\n",
    "/**\n",
    " * print_hex - Prints a number in hexadecimal (lowercase)\n",
    " * @list: List of arguments\n",
    " * @buffer: Buffer to store characters\n",
    " * @index: Current index in the buffer\n",
    " * @flags: Flags for formatting\n",
    " * @length_mod: Length modifier for formatting\n",
    " * @width: Width for formatting\n",
    " * Return: Number of characters printed\n",
    " */\n",
    "int print_hex(va_list list, char *buffer, int *index, flags_t flags, length_mod_t length_mod, int width, int precision)\n",
    "{\n",
    "    unsigned long int num;\n",
    "    char *str;\n",
    "    int num_chars = 0, len, i;\n",
    "\n",
    "     (void)precision;\n",
    "    if (length_mod.l)\n",
    "        num = va_arg(list, unsigned long int);\n",
    "    else if (length_mod.h)\n",
    "        num = (unsigned short int)va_arg(list, unsigned int);\n",
    "    else\n",
    "        num = va_arg(list,unsigned int);\n",
    "\n",
    "    str = convert(num, 16, 1); \n",
    "    len = strlen(str);\n",
    "\n",
    "    if (flags.hash && num != 0)\n",
    "    {\n",
    "      _putchar('0', buffer, index);\n",
    "      _putchar('x', buffer, index);\n",
    "      num_chars += 2;\n",
    "     if (width > 0)\n",
    "        width -= 2;\n",
    "    }\n",
    "\n",
    "\n",
    "    if (width > (int)strlen(str)) \n",
    "    {\n",
    "        \n",
    "        for (i = 0; i < width - len; i++)\n",
    "        {\n",
    "            _putchar(' ', buffer, index);\n",
    "            num_chars++;\n",
    "        }\n",
    "    }\n",
    "\n",
    "    while (*str)\n",
    "    {\n",
    "        buffer[*index] = *str;\n",
    "        (*index)++;\n",
    "        str++;\n",
    "        num_chars++;\n",
    "    }\n",
    "\n",
    "    return (num_chars);\n",
    "}\n"
   ]
  },
  {
   "cell_type": "code",
   "execution_count": null,
   "metadata": {},
   "outputs": [
    {
     "name": "stdout",
     "output_type": "stream",
     "text": [
      "Overwriting /home/elkomy/alx/printf/print_HEX.c\n"
     ]
    }
   ],
   "source": [
    "%%file /home/elkomy/alx/printf/print_HEX.c\n",
    "\n",
    "#include \"main.h\"\n",
    "#include <stdio.h>\n",
    "#include <string.h>\n",
    "\n",
    "/**\n",
    " * print_HEX - Prints a number in hexadecimal (uppercase)\n",
    " * @list: List of arguments\n",
    " * @buffer: Buffer to store characters\n",
    " * @index: Current index in the buffer\n",
    " * @flags: Flags for formatting\n",
    " * @length_mod: Length modifier for formatting\n",
    " * @width: width for formatting\n",
    " * Return: Number of characters printed\n",
    " */\n",
    "int print_HEX(va_list list, char *buffer, int *index, flags_t flags, length_mod_t length_mod, int width, int precision)\n",
    "{\n",
    "    unsigned long int num;\n",
    "     char *str;\n",
    "    int num_chars = 0, len ,i;\n",
    "   \n",
    "     (void)precision;\n",
    "    if (length_mod.l)\n",
    "        num = va_arg(list, unsigned long int);\n",
    "    else if (length_mod.h)\n",
    "        num = (unsigned short int)va_arg(list, unsigned int);\n",
    "    else\n",
    "        num = va_arg(list, unsigned int);\n",
    "\n",
    "    str = convert(num, 16, 0);\n",
    "    len = strlen(str);\n",
    "\n",
    "    if (flags.hash && num != 0)\n",
    "    {\n",
    "    _putchar('0', buffer, index);\n",
    "    _putchar('X', buffer, index);\n",
    "    num_chars += 2;\n",
    "    if (width > 0)\n",
    "        width -= 2;\n",
    "    }\n",
    "\n",
    "\n",
    "    if (width > len)\n",
    "    {\n",
    "       for (i = 0; i < width - len; i++)\n",
    "    {\n",
    "            _putchar(' ', buffer, index);\n",
    "            num_chars++;\n",
    "    }\n",
    "    }\n",
    "\n",
    "    while (*str)\n",
    "    {\n",
    "        buffer[*index] = *str;\n",
    "        (*index)++;\n",
    "        str++;\n",
    "        num_chars++;\n",
    "    }\n",
    "\n",
    "    return (num_chars);\n",
    "}"
   ]
  },
  {
   "cell_type": "code",
   "execution_count": null,
   "metadata": {},
   "outputs": [
    {
     "name": "stdout",
     "output_type": "stream",
     "text": [
      "Overwriting /home/elkomy/alx/printf/print_reverse.c\n"
     ]
    }
   ],
   "source": [
    "%%file /home/elkomy/alx/printf/print_reverse.c\n",
    "#include \"main.h\"\n",
    "#include <stdio.h>\n",
    "#include <string.h>\n",
    "\n",
    "/**\n",
    " * print_reverse - Prints a string in reverse\n",
    " * @list: List of arguments\n",
    " * @buffer: Buffer to store characters\n",
    " * @index: Current index in the buffer\n",
    " * @flags: Flags for formatting\n",
    " * @length_mod: Length modifier for formatting \n",
    " * @width: Width for formatting\n",
    " * Return: Number of characters printed\n",
    " */\n",
    "\n",
    "int print_reverse(va_list list, char *buffer, int *index, flags_t flags, length_mod_t length_mod, int width, int precision)\n",
    "{\n",
    "    char *str = va_arg(list, char *);\n",
    "    int len, i, num_chars = 0;\n",
    "\n",
    "    (void)flags; /* Flags are not used for strings */\n",
    "    (void)length_mod;\n",
    "    (void)precision;\n",
    "\n",
    "    if (str == NULL)\n",
    "        str = \"(null)\";\n",
    "\n",
    "    len = strlen(str);\n",
    "\n",
    "    if (width > len) \n",
    "    {\n",
    "        for (i = 0; i < width - len; i++)  \n",
    "        {\n",
    "            _putchar(' ', buffer, index);\n",
    "            num_chars++;\n",
    "        }\n",
    "    }\n",
    "\n",
    "    for (i = len - 1; i >= 0; i--)\n",
    "    {\n",
    "        _putchar(str[i], buffer, index);\n",
    "        num_chars++;\n",
    "    }\n",
    "\n",
    "    return (num_chars);\n",
    "}\n"
   ]
  },
  {
   "cell_type": "code",
   "execution_count": null,
   "metadata": {},
   "outputs": [
    {
     "name": "stdout",
     "output_type": "stream",
     "text": [
      "Overwriting /home/elkomy/alx/printf/print_rot13.c\n"
     ]
    }
   ],
   "source": [
    "%%file /home/elkomy/alx/printf/print_rot13.c\n",
    "#include \"main.h\"\n",
    "#include <stdio.h>\n",
    "#include <string.h>\n",
    "\n",
    "/**\n",
    " * print_rot13 - Encodes a string using rot13 and prints it\n",
    " * @list: List of arguments\n",
    " * @buffer: Buffer to store characters\n",
    " * @index: Current index in the buffer\n",
    " * @flags: Flags for formatting\n",
    " * @length_mod: Length modifier for formatting\n",
    " * @width: Width for formatting\n",
    " * Return: Number of characters printed\n",
    " */\n",
    "int print_rot13(va_list list, char *buffer, int *index, flags_t flags, length_mod_t length_mod, int width, int precision)\n",
    "{\n",
    "    char *str = va_arg(list, char *);\n",
    "    char in[] = \"ABCDEFGHIJKLMNOPQRSTUVWXYZabcdefghijklmnopqrstuvwxyz\";\n",
    "    char out[] = \"NOPQRSTUVWXYZABCDEFGHIJKLMnopqrstuvwxyzabcdefghijklm\";\n",
    "    int len, i, j, num_chars = 0;\n",
    "\n",
    "    (void)flags; /* Flags are not used for rot13 */\n",
    "    (void)length_mod;\n",
    "    (void)precision;\n",
    "\n",
    "    if (str == NULL)\n",
    "        str = \"(null)\";\n",
    "\n",
    "    len = strlen(str);\n",
    "\n",
    "    if (width > len)\n",
    "    {\n",
    "        for (i = 0; i < width - len; i++)\n",
    "        {\n",
    "            _putchar(' ', buffer, index);\n",
    "            num_chars++;\n",
    "        }\n",
    "    }\n",
    "\n",
    "    while (*str)\n",
    "    {\n",
    "        for (j = 0; j < 52; j++)\n",
    "        {\n",
    "            if (*str == in[j])\n",
    "            {\n",
    "                buffer[*index] = out[j];\n",
    "                (*index)++;\n",
    "                num_chars++;\n",
    "                break;\n",
    "            }\n",
    "        }\n",
    "        if (j == 52)\n",
    "        {\n",
    "            buffer[*index] = *str;\n",
    "            (*index)++;\n",
    "            num_chars++;\n",
    "        }\n",
    "        str++;\n",
    "    }\n",
    "\n",
    "    return (num_chars);\n",
    "}\n"
   ]
  },
  {
   "cell_type": "code",
   "execution_count": null,
   "metadata": {},
   "outputs": [
    {
     "name": "stdout",
     "output_type": "stream",
     "text": [
      "Overwriting /home/elkomy/alx/printf/print_non_printable.c\n"
     ]
    }
   ],
   "source": [
    "%%file /home/elkomy/alx/printf/print_non_printable.c\n",
    "#include \"main.h\"\n",
    "#include <stdio.h>\n",
    "#include <string.h>\n",
    "\n",
    "/**\n",
    " * print_non_printable - Prints a string with non-printable characters in hex\n",
    " * @list: List of arguments\n",
    " * @buffer: Buffer to store characters\n",
    " * @index: Current index in the buffer\n",
    " * @flags: Flags for formatting\n",
    " * @length_mod: Length modifier for formatting\n",
    " * @width: Width for formatting\n",
    " * Return: Number of characters printed\n",
    " */\n",
    "int print_non_printable(va_list list, char *buffer, int *index, flags_t flags, length_mod_t length_mod, int width, int precision)\n",
    "{\n",
    "    char *str = va_arg(list, char *);\n",
    "    char hex[5];\n",
    "    int len, i, num_chars = 0;\n",
    "\n",
    "    (void)flags; /* Flags are not used for non-printable characters */\n",
    "    (void)length_mod;\n",
    "     (void)precision;\n",
    "\n",
    "    if (str == NULL)\n",
    "        str = \"(null)\";\n",
    "\n",
    "    len = strlen(str);\n",
    "\n",
    "    if (width > len)\n",
    "    {\n",
    "        for (i = 0; i < width - len; i++)\n",
    "        {\n",
    "            _putchar(' ', buffer, index);\n",
    "            num_chars++;\n",
    "        }\n",
    "    }\n",
    "\n",
    "    while (*str)\n",
    "    {\n",
    "        if (*str < 32 || *str >= 127)\n",
    "        {\n",
    "            sprintf(hex, \"\\\\x%02X\", (unsigned char)*str);\n",
    "            for (i = 0; hex[i]; i++)\n",
    "            {\n",
    "                buffer[*index] = hex[i];\n",
    "                (*index)++;\n",
    "                num_chars++;\n",
    "            }\n",
    "        }\n",
    "        else\n",
    "        {\n",
    "            buffer[*index] = *str;\n",
    "            (*index)++;\n",
    "            num_chars++;\n",
    "        }\n",
    "        str++;\n",
    "    }\n",
    "\n",
    "    return (num_chars);\n",
    "}"
   ]
  },
  {
   "cell_type": "code",
   "execution_count": null,
   "metadata": {},
   "outputs": [
    {
     "name": "stdout",
     "output_type": "stream",
     "text": [
      "Overwriting /home/elkomy/alx/printf/print_special_string.c\n"
     ]
    }
   ],
   "source": [
    "%%file /home/elkomy/alx/printf/print_special_string.c\n",
    "#include \"main.h\"\n",
    "#include <stdio.h>\n",
    "\n",
    "/**\n",
    " * print_special_string - Prints a special string with non-printable characters\n",
    " * @list: List of arguments\n",
    " * @buffer: Buffer to store characters\n",
    " * @index: Current index in the buffer\n",
    " * @flags: Flags for formatting\n",
    " * @length_mod: Length modifier for formatting\n",
    " * @width: Width for formatting\n",
    " * Return: Number of characters printed\n",
    " */\n",
    "int print_special_string(va_list list, char *buffer, int *index, flags_t flags, length_mod_t length_mod, int width, int precision)\n",
    "{\n",
    "    char *str = va_arg(list, char *);\n",
    "    int i = 0, count = 0;\n",
    "\n",
    "    (void)flags; /* Suppress unused parameter warning */\n",
    "    (void)length_mod;\n",
    "    (void)width;\n",
    "    (void)precision;\n",
    "\n",
    "    if (str == NULL)\n",
    "        str = \"(null)\";\n",
    "\n",
    "    while (str[i])\n",
    "    {\n",
    "        if ((str[i] > 0 && str[i] < 32) || str[i] >= 127)\n",
    "        {\n",
    "            count += sprintf(&buffer[*index], \"\\\\x%02X\", (unsigned char)str[i]);\n",
    "            *index += 4;\n",
    "        }\n",
    "        else\n",
    "        {\n",
    "            _putchar(str[i], buffer, index);\n",
    "            count++;\n",
    "        }\n",
    "        i++;\n",
    "    }\n",
    "\n",
    "    return (count);\n",
    "}\n"
   ]
  },
  {
   "cell_type": "code",
   "execution_count": null,
   "metadata": {},
   "outputs": [
    {
     "name": "stdout",
     "output_type": "stream",
     "text": [
      "Overwriting /home/elkomy/alx/printf/print_pointer.c\n"
     ]
    }
   ],
   "source": [
    "%%file /home/elkomy/alx/printf/print_pointer.c\n",
    "#include \"main.h\"\n",
    "#include <stdio.h>\n",
    "#include <string.h>\n",
    "\n",
    "/**\n",
    " * print_pointer - Prints a pointer address\n",
    " * @list: List of arguments\n",
    " * @buffer: Buffer to store characters\n",
    " * @index: Current index in the buffer\n",
    " * @flags: Flags for formatting\n",
    " * @length_mod: Length modifier for formatting\n",
    " * @width: Width for formatting\n",
    " * Return: Number of characters printed\n",
    " */\n",
    "int print_pointer(va_list list, char *buffer, int *index, flags_t flags, length_mod_t length_mod, int width, int precision)\n",
    "{\n",
    "    void *ptr = va_arg(list, void *);\n",
    "    unsigned long int addr = (unsigned long int)ptr;\n",
    "    char hex[17];\n",
    "    int i, digit, num_chars = 2; \n",
    "\n",
    "    (void)flags; /* Suppress unused parameter warning */\n",
    "    (void)length_mod;\n",
    "    (void)precision;\n",
    "\n",
    "    _putchar('0', buffer, index);\n",
    "    _putchar('x', buffer, index);\n",
    "\n",
    "    i = 15;\n",
    "    while (addr)\n",
    "    {\n",
    "        digit = addr % 16;\n",
    "        hex[i--] = (digit < 10) ? digit + '0' : digit - 10 + 'a';\n",
    "        addr /= 16;\n",
    "    }\n",
    "    i++;\n",
    "    while (i < 16)\n",
    "    {\n",
    "        _putchar(hex[i++], buffer, index);\n",
    "        num_chars++;\n",
    "    }\n",
    "\n",
    "    /* Handle width */\n",
    "    if (width > num_chars)\n",
    "    {\n",
    "        for (i = 0; i < width - num_chars; i++)\n",
    "        {\n",
    "            _putchar(' ', buffer, index);\n",
    "            num_chars++;\n",
    "        }\n",
    "    }\n",
    "\n",
    "    return num_chars;\n",
    "}"
   ]
  },
  {
   "cell_type": "code",
   "execution_count": null,
   "metadata": {},
   "outputs": [
    {
     "name": "stdout",
     "output_type": "stream",
     "text": [
      "Overwriting /home/elkomy/alx/printf/tests/main.c\n"
     ]
    }
   ],
   "source": [
    "%%file /home/elkomy/alx/printf/tests/main.c\n",
    "#include <limits.h>\n",
    "#include <stdio.h>\n",
    "#include \"main.h\"\n",
    "\n",
    "/**\n",
    " * main - Entry point\n",
    " *\n",
    " * Return: Always 0\n",
    " */\n",
    "int main(void)\n",
    "{\n",
    "    int len;\n",
    "    int len2;\n",
    "    unsigned int ui;\n",
    "    void *addr;\n",
    "\n",
    "    len = _printf(\"Let's try to printf a simple sentence.\\n\");\n",
    "    len2 = printf(\"Let's try to printf a simple sentence.\\n\");\n",
    "    ui = (unsigned int)INT_MAX + 1024;\n",
    "    addr = (void *)0x7ffe637541f0;\n",
    "    _printf(\"Length:[%d, %i]\\n\", len, len);\n",
    "    printf(\"Length:[%d, %i]\\n\", len2, len2);\n",
    "    _printf(\"Negative:[%d]\\n\", -762534);\n",
    "    printf(\"Negative:[%d]\\n\", -762534);\n",
    "    _printf(\"Unsigned:[%u]\\n\", ui);\n",
    "    printf(\"Unsigned:[%u]\\n\", ui);\n",
    "    _printf(\"Unsigned octal:[%o]\\n\", ui);\n",
    "    printf(\"Unsigned octal:[%o]\\n\", ui);\n",
    "    _printf(\"Unsigned hexadecimal:[%x, %X]\\n\", ui, ui);\n",
    "    printf(\"Unsigned hexadecimal:[%x, %X]\\n\", ui, ui);\n",
    "    _printf(\"Character:[%c]\\n\", 'H');\n",
    "    printf(\"Character:[%c]\\n\", 'H');\n",
    "    _printf(\"String:[%s]\\n\", \"I am a string !\");\n",
    "    printf(\"String:[%s]\\n\", \"I am a string !\");\n",
    "    _printf(\"Address:[%p]\\n\", addr);\n",
    "    printf(\"Address:[%p]\\n\", addr);\n",
    "    len = _printf(\"Percent:[%%]\\n\");\n",
    "    len2 = printf(\"Percent:[%%]\\n\");\n",
    "    _printf(\"Len:[%d]\\n\", len);\n",
    "    printf(\"Len:[%d]\\n\", len2);\n",
    "    _printf(\"Unknown:[%r]\\n\");\n",
    "    printf(\"Unknown:[%r]\\n\");\n",
    "    return (0);\n",
    "}"
   ]
  },
  {
   "cell_type": "code",
   "execution_count": null,
   "metadata": {},
   "outputs": [
    {
     "name": "stdout",
     "output_type": "stream",
     "text": [
      "\n",
      "========== /home/elkomy/alx/printf/_printf.c ==========\n",
      "_printf\n",
      "Let's try to printf a simple sentence.\n",
      "Let's try to printf a simple sentence.\n",
      "Length:[39, 39]\n",
      "Length:[39, 39]\n",
      "Negative:[-76253]\n",
      "Negative:[-762534]\n",
      "Unsigned:[2147484671]\n",
      "Unsigned:[2147484671]\n",
      "Unsigned octal:[20000001777]\n",
      "Unsigned octal:[20000001777]\n",
      "Unsigned hexadecimal:[800003ff, 800003FF]\n",
      "Unsigned hexadecimal:[800003ff, 800003FF]\n",
      "Character:[H]\n",
      "Character:[H]\n",
      "String:[I am a string !]\n",
      "String:[I am a string !]\n",
      "Address:[0x7ffe637541f0]\n",
      "Address:[0x7ffe637541f0]\n",
      "Percent:[%]\n",
      "Percent:[%]\n",
      "Len:[12]\n",
      "Len:[12]\n",
      "Unknown:[%r]\n",
      "Unknown:[%r]\n"
     ]
    }
   ],
   "source": [
    "\n",
    "!betty /home/elkomy/alx/printf/_printf.c\n",
    "!gcc -Wall -Werror -Wextra -pedantic -std=gnu89 -Wno-format /home/elkomy/alx/printf/*.c /home/elkomy/alx/printf/tests/main.c -o /home/elkomy/alx/printf/printf\n",
    "!./printf\n"
   ]
  },
  {
   "cell_type": "code",
   "execution_count": null,
   "metadata": {},
   "outputs": [
    {
     "name": "stdout",
     "output_type": "stream",
     "text": [
      "[main acd0a0f] alx-low_level_programming/0x0D-preprocessor/0-putchar\n",
      " 19 files changed, 2104 insertions(+), 317 deletions(-)\n",
      " create mode 100644 parse_precision.c\n",
      " rewrite printf (60%)\n"
     ]
    },
    {
     "name": "stderr",
     "output_type": "stream",
     "text": [
      "To https://github.com/elkomysara/printf\n",
      "   7807a39..acd0a0f  main -> main\n"
     ]
    }
   ],
   "source": [
    "%%bash\n",
    "git add .\n",
    "git commit -m \"alx-low_level_programming/0x0D-preprocessor/0-putchar\"\n",
    "git push"
   ]
  }
 ],
 "metadata": {
  "kernelspec": {
   "display_name": "Python 3",
   "language": "python",
   "name": "python3"
  },
  "language_info": {
   "codemirror_mode": {
    "name": "ipython",
    "version": 3
   },
   "file_extension": ".py",
   "mimetype": "text/x-python",
   "name": "python",
   "nbconvert_exporter": "python",
   "pygments_lexer": "ipython3",
   "version": "3.12.3"
  }
 },
 "nbformat": 4,
 "nbformat_minor": 2
}
